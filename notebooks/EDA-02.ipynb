{
 "cells": [
  {
   "cell_type": "markdown",
   "metadata": {},
   "source": [
    "# ADVANCED VISUALISATIONS WITH PLOTLY"
   ]
  },
  {
   "cell_type": "code",
   "execution_count": 55,
   "metadata": {},
   "outputs": [],
   "source": [
    "import pandas as pd\n",
    "from pathlib import os\n",
    "import numpy as np\n",
    "import plotly.graph_objects as go\n",
    "import plotly.express as px"
   ]
  },
  {
   "cell_type": "code",
   "execution_count": 56,
   "metadata": {},
   "outputs": [],
   "source": [
    "path = \"../data\"\n",
    "files = {i.split(\".\")[0]:os.path.join(path, i) for i in os.listdir(path)}"
   ]
  },
  {
   "cell_type": "code",
   "execution_count": 57,
   "metadata": {},
   "outputs": [
    {
     "data": {
      "text/plain": [
       "{'procedures': '../data/procedures.csv',\n",
       " 'allergies': '../data/allergies.csv',\n",
       " 'medications': '../data/medications.csv',\n",
       " '': '../data/.ipynb_checkpoints',\n",
       " 'immunizations': '../data/immunizations.csv',\n",
       " 'providers': '../data/providers.csv',\n",
       " 'payers': '../data/payers.csv',\n",
       " 'devices': '../data/devices.csv',\n",
       " 'careplans': '../data/careplans.csv',\n",
       " 'payer_transitions': '../data/payer_transitions.csv',\n",
       " 'imaging_studies': '../data/imaging_studies.csv',\n",
       " 'observations': '../data/observations.csv',\n",
       " 'patients': '../data/patients.csv',\n",
       " 'encounters': '../data/encounters.csv',\n",
       " 'organizations': '../data/organizations.csv',\n",
       " 'conditions': '../data/conditions.csv'}"
      ]
     },
     "execution_count": 57,
     "metadata": {},
     "output_type": "execute_result"
    }
   ],
   "source": [
    "files"
   ]
  },
  {
   "cell_type": "markdown",
   "metadata": {},
   "source": [
    "### BASIC DATA CLEANING"
   ]
  },
  {
   "cell_type": "markdown",
   "metadata": {},
   "source": [
    "- Try Understanding the meaning of each file and creating a scenario out of it\n",
    "- Its simple, a patient goes to a hospital and is attended by a healthcare provider. The patient is then treated for some given ailment. Certain medications and procedures are prescribed to the patient and most of the cost is covered by the patient's Insurance agency \n",
    "\n",
    "- Now try relating this to each of the csv files\n",
    "\n",
    "- Patient.csv  ---> the patient details\n",
    "\n",
    "- Organisation.csv ---> the hospital details\n",
    "\n",
    "- Providers.csv ---> healthcare professional details\n",
    "\n",
    "- payers.csv ---> Insurance agency details\n",
    "\n",
    "- medications.csv ---> medicines and drug details\n",
    "\n",
    "- procedures.csv ---> procedures / medical tests \n",
    "\n",
    "- devices.csv ---> devices used\n",
    "\n",
    "- encounters.csv ---> the entire event itself"
   ]
  },
  {
   "cell_type": "markdown",
   "metadata": {},
   "source": [
    "#### The encounter data is the crux for all the other data. Let's take a look at it"
   ]
  },
  {
   "cell_type": "code",
   "execution_count": 58,
   "metadata": {},
   "outputs": [
    {
     "data": {
      "text/html": [
       "<div>\n",
       "<style scoped>\n",
       "    .dataframe tbody tr th:only-of-type {\n",
       "        vertical-align: middle;\n",
       "    }\n",
       "\n",
       "    .dataframe tbody tr th {\n",
       "        vertical-align: top;\n",
       "    }\n",
       "\n",
       "    .dataframe thead th {\n",
       "        text-align: right;\n",
       "    }\n",
       "</style>\n",
       "<table border=\"1\" class=\"dataframe\">\n",
       "  <thead>\n",
       "    <tr style=\"text-align: right;\">\n",
       "      <th></th>\n",
       "      <th>Id</th>\n",
       "      <th>START</th>\n",
       "      <th>STOP</th>\n",
       "      <th>PATIENT</th>\n",
       "      <th>ORGANIZATION</th>\n",
       "      <th>PROVIDER</th>\n",
       "      <th>PAYER</th>\n",
       "      <th>ENCOUNTERCLASS</th>\n",
       "      <th>CODE</th>\n",
       "      <th>DESCRIPTION</th>\n",
       "      <th>BASE_ENCOUNTER_COST</th>\n",
       "      <th>TOTAL_CLAIM_COST</th>\n",
       "      <th>PAYER_COVERAGE</th>\n",
       "      <th>REASONCODE</th>\n",
       "      <th>REASONDESCRIPTION</th>\n",
       "    </tr>\n",
       "  </thead>\n",
       "  <tbody>\n",
       "    <tr>\n",
       "      <th>43427</th>\n",
       "      <td>46637889-3827-4bdf-97a5-5036bf71cc4c</td>\n",
       "      <td>2019-12-21T13:46:06Z</td>\n",
       "      <td>2019-12-21T14:31:06Z</td>\n",
       "      <td>fc448035-8fc9-4893-b4eb-d1b90fc8742c</td>\n",
       "      <td>d733d4a9-080d-3593-b910-2366e652b7ea</td>\n",
       "      <td>8cddbb1b-7e2c-3bf0-957e-bc62c160cfc5</td>\n",
       "      <td>b1c428d6-4f07-31e0-90f0-68ffa6ff8c76</td>\n",
       "      <td>ambulatory</td>\n",
       "      <td>424441002</td>\n",
       "      <td>Prenatal initial visit</td>\n",
       "      <td>129.16</td>\n",
       "      <td>129.16</td>\n",
       "      <td>0.00</td>\n",
       "      <td>7.289200e+07</td>\n",
       "      <td>Normal pregnancy</td>\n",
       "    </tr>\n",
       "    <tr>\n",
       "      <th>34372</th>\n",
       "      <td>2a86f205-db88-4020-9746-74cf7248053e</td>\n",
       "      <td>1991-10-13T10:57:26Z</td>\n",
       "      <td>1991-10-14T10:57:26Z</td>\n",
       "      <td>ff6948b7-3d62-4bfc-bc7d-dbb6748ed0be</td>\n",
       "      <td>23834663-ed53-3da9-b330-d6e1ecb8428e</td>\n",
       "      <td>af42f305-3f0c-396d-8303-9cbdb900a516</td>\n",
       "      <td>4d71f845-a6a9-3c39-b242-14d25ef86a8d</td>\n",
       "      <td>inpatient</td>\n",
       "      <td>183452005</td>\n",
       "      <td>Encounter Inpatient</td>\n",
       "      <td>77.49</td>\n",
       "      <td>77.49</td>\n",
       "      <td>12.49</td>\n",
       "      <td>1.241710e+14</td>\n",
       "      <td>Chronic intractable migraine without aura</td>\n",
       "    </tr>\n",
       "    <tr>\n",
       "      <th>2017</th>\n",
       "      <td>669238d3-b3a0-438b-9fc8-d3b161e3dbee</td>\n",
       "      <td>1969-03-01T17:04:24Z</td>\n",
       "      <td>1969-03-01T19:59:24Z</td>\n",
       "      <td>47a91815-0dca-49df-b1dc-8bb88d8c1b38</td>\n",
       "      <td>ebc3f5c4-6700-34af-8323-85621c313726</td>\n",
       "      <td>eabb2bff-3216-34da-9f29-824dbca901c3</td>\n",
       "      <td>7c4411ce-02f1-39b5-b9ec-dfbea9ad3c1a</td>\n",
       "      <td>emergency</td>\n",
       "      <td>50849002</td>\n",
       "      <td>Emergency Room Admission</td>\n",
       "      <td>129.16</td>\n",
       "      <td>129.16</td>\n",
       "      <td>69.16</td>\n",
       "      <td>1.286130e+08</td>\n",
       "      <td>Seizure disorder</td>\n",
       "    </tr>\n",
       "  </tbody>\n",
       "</table>\n",
       "</div>"
      ],
      "text/plain": [
       "                                         Id                 START  \\\n",
       "43427  46637889-3827-4bdf-97a5-5036bf71cc4c  2019-12-21T13:46:06Z   \n",
       "34372  2a86f205-db88-4020-9746-74cf7248053e  1991-10-13T10:57:26Z   \n",
       "2017   669238d3-b3a0-438b-9fc8-d3b161e3dbee  1969-03-01T17:04:24Z   \n",
       "\n",
       "                       STOP                               PATIENT  \\\n",
       "43427  2019-12-21T14:31:06Z  fc448035-8fc9-4893-b4eb-d1b90fc8742c   \n",
       "34372  1991-10-14T10:57:26Z  ff6948b7-3d62-4bfc-bc7d-dbb6748ed0be   \n",
       "2017   1969-03-01T19:59:24Z  47a91815-0dca-49df-b1dc-8bb88d8c1b38   \n",
       "\n",
       "                               ORGANIZATION  \\\n",
       "43427  d733d4a9-080d-3593-b910-2366e652b7ea   \n",
       "34372  23834663-ed53-3da9-b330-d6e1ecb8428e   \n",
       "2017   ebc3f5c4-6700-34af-8323-85621c313726   \n",
       "\n",
       "                                   PROVIDER  \\\n",
       "43427  8cddbb1b-7e2c-3bf0-957e-bc62c160cfc5   \n",
       "34372  af42f305-3f0c-396d-8303-9cbdb900a516   \n",
       "2017   eabb2bff-3216-34da-9f29-824dbca901c3   \n",
       "\n",
       "                                      PAYER ENCOUNTERCLASS       CODE  \\\n",
       "43427  b1c428d6-4f07-31e0-90f0-68ffa6ff8c76     ambulatory  424441002   \n",
       "34372  4d71f845-a6a9-3c39-b242-14d25ef86a8d      inpatient  183452005   \n",
       "2017   7c4411ce-02f1-39b5-b9ec-dfbea9ad3c1a      emergency   50849002   \n",
       "\n",
       "                    DESCRIPTION  BASE_ENCOUNTER_COST  TOTAL_CLAIM_COST  \\\n",
       "43427    Prenatal initial visit               129.16            129.16   \n",
       "34372       Encounter Inpatient                77.49             77.49   \n",
       "2017   Emergency Room Admission               129.16            129.16   \n",
       "\n",
       "       PAYER_COVERAGE    REASONCODE                          REASONDESCRIPTION  \n",
       "43427            0.00  7.289200e+07                           Normal pregnancy  \n",
       "34372           12.49  1.241710e+14  Chronic intractable migraine without aura  \n",
       "2017            69.16  1.286130e+08                           Seizure disorder  "
      ]
     },
     "execution_count": 58,
     "metadata": {},
     "output_type": "execute_result"
    }
   ],
   "source": [
    "encounter=pd.read_csv(files[\"encounters\"])\n",
    "encounter.sample(3)"
   ]
  },
  {
   "cell_type": "markdown",
   "metadata": {},
   "source": [
    "#### We need only a select number of columns. Also how about renaming them to be a bit descriptive"
   ]
  },
  {
   "cell_type": "code",
   "execution_count": 59,
   "metadata": {},
   "outputs": [
    {
     "data": {
      "text/html": [
       "<div>\n",
       "<style scoped>\n",
       "    .dataframe tbody tr th:only-of-type {\n",
       "        vertical-align: middle;\n",
       "    }\n",
       "\n",
       "    .dataframe tbody tr th {\n",
       "        vertical-align: top;\n",
       "    }\n",
       "\n",
       "    .dataframe thead th {\n",
       "        text-align: right;\n",
       "    }\n",
       "</style>\n",
       "<table border=\"1\" class=\"dataframe\">\n",
       "  <thead>\n",
       "    <tr style=\"text-align: right;\">\n",
       "      <th></th>\n",
       "      <th>Id</th>\n",
       "      <th>START</th>\n",
       "      <th>STOP</th>\n",
       "      <th>PATIENT_ID</th>\n",
       "      <th>ORG_ID</th>\n",
       "      <th>PROVIDER_ID</th>\n",
       "      <th>PAYER_ID</th>\n",
       "      <th>DESCRIPTION</th>\n",
       "      <th>REASON</th>\n",
       "      <th>BASE_ENCOUNTER_COST</th>\n",
       "      <th>PAYER_COVERAGE</th>\n",
       "      <th>ENCOUNTERCLASS</th>\n",
       "    </tr>\n",
       "  </thead>\n",
       "  <tbody>\n",
       "    <tr>\n",
       "      <th>860</th>\n",
       "      <td>34404ede-f66d-40ed-8c31-88430e4cc1fc</td>\n",
       "      <td>2007-05-29T20:01:32Z</td>\n",
       "      <td>2007-05-29T20:31:32Z</td>\n",
       "      <td>2c634692-05d8-4122-9f46-dd9402e2cfc6</td>\n",
       "      <td>7b76c6b3-c413-3293-914a-fcf8195f32bc</td>\n",
       "      <td>b274d84c-d063-3cec-a8f1-f85c9bf03bb9</td>\n",
       "      <td>7c4411ce-02f1-39b5-b9ec-dfbea9ad3c1a</td>\n",
       "      <td>General examination of patient (procedure)</td>\n",
       "      <td>NaN</td>\n",
       "      <td>129.16</td>\n",
       "      <td>129.16</td>\n",
       "      <td>wellness</td>\n",
       "    </tr>\n",
       "    <tr>\n",
       "      <th>27066</th>\n",
       "      <td>38f98ec0-5f6f-492b-a864-1cb41d225b17</td>\n",
       "      <td>1993-01-27T18:22:05Z</td>\n",
       "      <td>1993-01-27T18:56:05Z</td>\n",
       "      <td>19ad9612-4b4d-4a82-a323-c07168ec4d85</td>\n",
       "      <td>0b78995f-8b45-34d3-969d-afcc456bb1c7</td>\n",
       "      <td>89334094-3082-3984-8835-2f4bb972790b</td>\n",
       "      <td>b1c428d6-4f07-31e0-90f0-68ffa6ff8c76</td>\n",
       "      <td>General examination of patient (procedure)</td>\n",
       "      <td>NaN</td>\n",
       "      <td>129.16</td>\n",
       "      <td>0.00</td>\n",
       "      <td>wellness</td>\n",
       "    </tr>\n",
       "    <tr>\n",
       "      <th>6864</th>\n",
       "      <td>8e3665de-bf71-41ae-83f3-95ede485bd0a</td>\n",
       "      <td>2001-03-12T05:08:34Z</td>\n",
       "      <td>2001-03-12T05:38:34Z</td>\n",
       "      <td>09616ead-22c8-4210-8cb9-2fdc28e043ca</td>\n",
       "      <td>1c9f06a8-38bb-3d07-99b2-176d626bc4c2</td>\n",
       "      <td>68aa1836-8435-393e-849e-7fec24d58199</td>\n",
       "      <td>5059a55e-5d6e-34d1-b6cb-d83d16e57bcf</td>\n",
       "      <td>General examination of patient (procedure)</td>\n",
       "      <td>NaN</td>\n",
       "      <td>129.16</td>\n",
       "      <td>59.16</td>\n",
       "      <td>wellness</td>\n",
       "    </tr>\n",
       "  </tbody>\n",
       "</table>\n",
       "</div>"
      ],
      "text/plain": [
       "                                         Id                 START  \\\n",
       "860    34404ede-f66d-40ed-8c31-88430e4cc1fc  2007-05-29T20:01:32Z   \n",
       "27066  38f98ec0-5f6f-492b-a864-1cb41d225b17  1993-01-27T18:22:05Z   \n",
       "6864   8e3665de-bf71-41ae-83f3-95ede485bd0a  2001-03-12T05:08:34Z   \n",
       "\n",
       "                       STOP                            PATIENT_ID  \\\n",
       "860    2007-05-29T20:31:32Z  2c634692-05d8-4122-9f46-dd9402e2cfc6   \n",
       "27066  1993-01-27T18:56:05Z  19ad9612-4b4d-4a82-a323-c07168ec4d85   \n",
       "6864   2001-03-12T05:38:34Z  09616ead-22c8-4210-8cb9-2fdc28e043ca   \n",
       "\n",
       "                                     ORG_ID  \\\n",
       "860    7b76c6b3-c413-3293-914a-fcf8195f32bc   \n",
       "27066  0b78995f-8b45-34d3-969d-afcc456bb1c7   \n",
       "6864   1c9f06a8-38bb-3d07-99b2-176d626bc4c2   \n",
       "\n",
       "                                PROVIDER_ID  \\\n",
       "860    b274d84c-d063-3cec-a8f1-f85c9bf03bb9   \n",
       "27066  89334094-3082-3984-8835-2f4bb972790b   \n",
       "6864   68aa1836-8435-393e-849e-7fec24d58199   \n",
       "\n",
       "                                   PAYER_ID  \\\n",
       "860    7c4411ce-02f1-39b5-b9ec-dfbea9ad3c1a   \n",
       "27066  b1c428d6-4f07-31e0-90f0-68ffa6ff8c76   \n",
       "6864   5059a55e-5d6e-34d1-b6cb-d83d16e57bcf   \n",
       "\n",
       "                                      DESCRIPTION REASON  BASE_ENCOUNTER_COST  \\\n",
       "860    General examination of patient (procedure)    NaN               129.16   \n",
       "27066  General examination of patient (procedure)    NaN               129.16   \n",
       "6864   General examination of patient (procedure)    NaN               129.16   \n",
       "\n",
       "       PAYER_COVERAGE ENCOUNTERCLASS  \n",
       "860            129.16       wellness  \n",
       "27066            0.00       wellness  \n",
       "6864            59.16       wellness  "
      ]
     },
     "execution_count": 59,
     "metadata": {},
     "output_type": "execute_result"
    }
   ],
   "source": [
    "encounter=encounter.rename(columns={\"PATIENT\":\"PATIENT_ID\",\"ORGANIZATION\":\"ORG_ID\",\"PROVIDER\":\"PROVIDER_ID\",\"PAYER\":\"PAYER_ID\",\"REASONDESCRIPTION\":\"REASON\"})\n",
    "encounter=encounter[[\"Id\",\"START\",\"STOP\",\"PATIENT_ID\",\"ORG_ID\",\"PROVIDER_ID\",\"PAYER_ID\",\"DESCRIPTION\",\"REASON\",\"BASE_ENCOUNTER_COST\",\"PAYER_COVERAGE\",\"ENCOUNTERCLASS\"]]\n",
    "encounter.sample(3)"
   ]
  },
  {
   "cell_type": "markdown",
   "metadata": {},
   "source": [
    "#### Now lets connect all the other elements and make one coherent data source"
   ]
  },
  {
   "cell_type": "markdown",
   "metadata": {},
   "source": [
    "### I -  PATIENTS"
   ]
  },
  {
   "cell_type": "code",
   "execution_count": 60,
   "metadata": {},
   "outputs": [
    {
     "data": {
      "text/html": [
       "<div>\n",
       "<style scoped>\n",
       "    .dataframe tbody tr th:only-of-type {\n",
       "        vertical-align: middle;\n",
       "    }\n",
       "\n",
       "    .dataframe tbody tr th {\n",
       "        vertical-align: top;\n",
       "    }\n",
       "\n",
       "    .dataframe thead th {\n",
       "        text-align: right;\n",
       "    }\n",
       "</style>\n",
       "<table border=\"1\" class=\"dataframe\">\n",
       "  <thead>\n",
       "    <tr style=\"text-align: right;\">\n",
       "      <th></th>\n",
       "      <th>Id</th>\n",
       "      <th>BIRTHDATE</th>\n",
       "      <th>DEATHDATE</th>\n",
       "      <th>SSN</th>\n",
       "      <th>DRIVERS</th>\n",
       "      <th>PASSPORT</th>\n",
       "      <th>PREFIX</th>\n",
       "      <th>FIRST</th>\n",
       "      <th>LAST</th>\n",
       "      <th>SUFFIX</th>\n",
       "      <th>...</th>\n",
       "      <th>BIRTHPLACE</th>\n",
       "      <th>ADDRESS</th>\n",
       "      <th>CITY</th>\n",
       "      <th>STATE</th>\n",
       "      <th>COUNTY</th>\n",
       "      <th>ZIP</th>\n",
       "      <th>LAT</th>\n",
       "      <th>LON</th>\n",
       "      <th>HEALTHCARE_EXPENSES</th>\n",
       "      <th>HEALTHCARE_COVERAGE</th>\n",
       "    </tr>\n",
       "  </thead>\n",
       "  <tbody>\n",
       "    <tr>\n",
       "      <th>433</th>\n",
       "      <td>a49b8342-1954-48dc-9322-24bbfe3662c5</td>\n",
       "      <td>1913-05-30</td>\n",
       "      <td>1978-10-24</td>\n",
       "      <td>999-60-4614</td>\n",
       "      <td>S99966530</td>\n",
       "      <td>X32270562X</td>\n",
       "      <td>Mr.</td>\n",
       "      <td>William805</td>\n",
       "      <td>Kessler503</td>\n",
       "      <td>NaN</td>\n",
       "      <td>...</td>\n",
       "      <td>Boston  Massachusetts  US</td>\n",
       "      <td>185 Kuhic Lodge</td>\n",
       "      <td>Boston</td>\n",
       "      <td>Massachusetts</td>\n",
       "      <td>Suffolk County</td>\n",
       "      <td>2119.0</td>\n",
       "      <td>42.367481</td>\n",
       "      <td>-71.025350</td>\n",
       "      <td>1567509.30</td>\n",
       "      <td>5542.76</td>\n",
       "    </tr>\n",
       "    <tr>\n",
       "      <th>465</th>\n",
       "      <td>ab6a2662-f6d1-4da6-b3ce-3929d68650d7</td>\n",
       "      <td>1971-01-16</td>\n",
       "      <td>NaN</td>\n",
       "      <td>999-76-3317</td>\n",
       "      <td>S99978505</td>\n",
       "      <td>X28929072X</td>\n",
       "      <td>Mrs.</td>\n",
       "      <td>Miesha237</td>\n",
       "      <td>Wyman904</td>\n",
       "      <td>NaN</td>\n",
       "      <td>...</td>\n",
       "      <td>Harvard  Massachusetts  US</td>\n",
       "      <td>850 Thiel Road Unit 0</td>\n",
       "      <td>Westfield</td>\n",
       "      <td>Massachusetts</td>\n",
       "      <td>Hampden County</td>\n",
       "      <td>1086.0</td>\n",
       "      <td>42.090443</td>\n",
       "      <td>-72.792757</td>\n",
       "      <td>1127414.95</td>\n",
       "      <td>12398.31</td>\n",
       "    </tr>\n",
       "    <tr>\n",
       "      <th>1083</th>\n",
       "      <td>664dea73-3a66-4f67-bc88-300660a1dec9</td>\n",
       "      <td>1961-05-25</td>\n",
       "      <td>NaN</td>\n",
       "      <td>999-43-9671</td>\n",
       "      <td>S99964608</td>\n",
       "      <td>X29732912X</td>\n",
       "      <td>Mr.</td>\n",
       "      <td>Eugene421</td>\n",
       "      <td>Hintz995</td>\n",
       "      <td>NaN</td>\n",
       "      <td>...</td>\n",
       "      <td>Newton  Massachusetts  US</td>\n",
       "      <td>1076 Walker Alley</td>\n",
       "      <td>Grafton</td>\n",
       "      <td>Massachusetts</td>\n",
       "      <td>Worcester County</td>\n",
       "      <td>NaN</td>\n",
       "      <td>42.175492</td>\n",
       "      <td>-71.646736</td>\n",
       "      <td>180585.72</td>\n",
       "      <td>5696.16</td>\n",
       "    </tr>\n",
       "  </tbody>\n",
       "</table>\n",
       "<p>3 rows × 25 columns</p>\n",
       "</div>"
      ],
      "text/plain": [
       "                                        Id   BIRTHDATE   DEATHDATE  \\\n",
       "433   a49b8342-1954-48dc-9322-24bbfe3662c5  1913-05-30  1978-10-24   \n",
       "465   ab6a2662-f6d1-4da6-b3ce-3929d68650d7  1971-01-16         NaN   \n",
       "1083  664dea73-3a66-4f67-bc88-300660a1dec9  1961-05-25         NaN   \n",
       "\n",
       "              SSN    DRIVERS    PASSPORT PREFIX       FIRST        LAST  \\\n",
       "433   999-60-4614  S99966530  X32270562X    Mr.  William805  Kessler503   \n",
       "465   999-76-3317  S99978505  X28929072X   Mrs.   Miesha237    Wyman904   \n",
       "1083  999-43-9671  S99964608  X29732912X    Mr.   Eugene421    Hintz995   \n",
       "\n",
       "     SUFFIX  ...                  BIRTHPLACE                ADDRESS  \\\n",
       "433     NaN  ...   Boston  Massachusetts  US        185 Kuhic Lodge   \n",
       "465     NaN  ...  Harvard  Massachusetts  US  850 Thiel Road Unit 0   \n",
       "1083    NaN  ...   Newton  Massachusetts  US      1076 Walker Alley   \n",
       "\n",
       "           CITY          STATE            COUNTY     ZIP        LAT  \\\n",
       "433      Boston  Massachusetts    Suffolk County  2119.0  42.367481   \n",
       "465   Westfield  Massachusetts    Hampden County  1086.0  42.090443   \n",
       "1083    Grafton  Massachusetts  Worcester County     NaN  42.175492   \n",
       "\n",
       "            LON HEALTHCARE_EXPENSES HEALTHCARE_COVERAGE  \n",
       "433  -71.025350          1567509.30             5542.76  \n",
       "465  -72.792757          1127414.95            12398.31  \n",
       "1083 -71.646736           180585.72             5696.16  \n",
       "\n",
       "[3 rows x 25 columns]"
      ]
     },
     "execution_count": 60,
     "metadata": {},
     "output_type": "execute_result"
    }
   ],
   "source": [
    "patients=pd.read_csv(files[\"patients\"])\n",
    "patients.sample(3)"
   ]
  },
  {
   "cell_type": "markdown",
   "metadata": {},
   "source": [
    "#### Lets do some basic cleaning:\n",
    "\n",
    "- Select only a few important columns\n",
    "- Calculate the age of the patients\n",
    "- Remove outliers (Consider assumption that age is < 100)\n",
    "- Join the Patients first and last name"
   ]
  },
  {
   "cell_type": "code",
   "execution_count": 61,
   "metadata": {},
   "outputs": [
    {
     "data": {
      "text/html": [
       "<div>\n",
       "<style scoped>\n",
       "    .dataframe tbody tr th:only-of-type {\n",
       "        vertical-align: middle;\n",
       "    }\n",
       "\n",
       "    .dataframe tbody tr th {\n",
       "        vertical-align: top;\n",
       "    }\n",
       "\n",
       "    .dataframe thead th {\n",
       "        text-align: right;\n",
       "    }\n",
       "</style>\n",
       "<table border=\"1\" class=\"dataframe\">\n",
       "  <thead>\n",
       "    <tr style=\"text-align: right;\">\n",
       "      <th></th>\n",
       "      <th>Id</th>\n",
       "      <th>BIRTHDATE</th>\n",
       "      <th>FIRST</th>\n",
       "      <th>LAST</th>\n",
       "      <th>CITY</th>\n",
       "    </tr>\n",
       "  </thead>\n",
       "  <tbody>\n",
       "    <tr>\n",
       "      <th>0</th>\n",
       "      <td>1d604da9-9a81-4ba9-80c2-de3375d59b40</td>\n",
       "      <td>1989-05-25</td>\n",
       "      <td>José Eduardo181</td>\n",
       "      <td>Gómez206</td>\n",
       "      <td>Chicopee</td>\n",
       "    </tr>\n",
       "    <tr>\n",
       "      <th>1</th>\n",
       "      <td>034e9e3b-2def-4559-bb2a-7850888ae060</td>\n",
       "      <td>1983-11-14</td>\n",
       "      <td>Milo271</td>\n",
       "      <td>Feil794</td>\n",
       "      <td>Somerville</td>\n",
       "    </tr>\n",
       "    <tr>\n",
       "      <th>2</th>\n",
       "      <td>10339b10-3cd1-4ac3-ac13-ec26728cb592</td>\n",
       "      <td>1992-06-02</td>\n",
       "      <td>Jayson808</td>\n",
       "      <td>Fadel536</td>\n",
       "      <td>Chicopee</td>\n",
       "    </tr>\n",
       "    <tr>\n",
       "      <th>3</th>\n",
       "      <td>8d4c4326-e9de-4f45-9a4c-f8c36bff89ae</td>\n",
       "      <td>1978-05-27</td>\n",
       "      <td>Mariana775</td>\n",
       "      <td>Rutherford999</td>\n",
       "      <td>Lowell</td>\n",
       "    </tr>\n",
       "    <tr>\n",
       "      <th>4</th>\n",
       "      <td>f5dcd418-09fe-4a2f-baa0-3da800bd8c3a</td>\n",
       "      <td>1996-10-18</td>\n",
       "      <td>Gregorio366</td>\n",
       "      <td>Auer97</td>\n",
       "      <td>Boston</td>\n",
       "    </tr>\n",
       "  </tbody>\n",
       "</table>\n",
       "</div>"
      ],
      "text/plain": [
       "                                     Id   BIRTHDATE            FIRST  \\\n",
       "0  1d604da9-9a81-4ba9-80c2-de3375d59b40  1989-05-25  José Eduardo181   \n",
       "1  034e9e3b-2def-4559-bb2a-7850888ae060  1983-11-14          Milo271   \n",
       "2  10339b10-3cd1-4ac3-ac13-ec26728cb592  1992-06-02        Jayson808   \n",
       "3  8d4c4326-e9de-4f45-9a4c-f8c36bff89ae  1978-05-27       Mariana775   \n",
       "4  f5dcd418-09fe-4a2f-baa0-3da800bd8c3a  1996-10-18      Gregorio366   \n",
       "\n",
       "            LAST        CITY  \n",
       "0       Gómez206    Chicopee  \n",
       "1        Feil794  Somerville  \n",
       "2       Fadel536    Chicopee  \n",
       "3  Rutherford999      Lowell  \n",
       "4         Auer97      Boston  "
      ]
     },
     "execution_count": 61,
     "metadata": {},
     "output_type": "execute_result"
    }
   ],
   "source": [
    "# SELECT ONLY REQUIRED COLUMNS\n",
    "patients=patients[[\"Id\",\"BIRTHDATE\",\"FIRST\",\"LAST\",\"CITY\"]]\n",
    "patients.head()"
   ]
  },
  {
   "cell_type": "code",
   "execution_count": 62,
   "metadata": {},
   "outputs": [
    {
     "data": {
      "text/html": [
       "<div>\n",
       "<style scoped>\n",
       "    .dataframe tbody tr th:only-of-type {\n",
       "        vertical-align: middle;\n",
       "    }\n",
       "\n",
       "    .dataframe tbody tr th {\n",
       "        vertical-align: top;\n",
       "    }\n",
       "\n",
       "    .dataframe thead th {\n",
       "        text-align: right;\n",
       "    }\n",
       "</style>\n",
       "<table border=\"1\" class=\"dataframe\">\n",
       "  <thead>\n",
       "    <tr style=\"text-align: right;\">\n",
       "      <th></th>\n",
       "      <th>Id</th>\n",
       "      <th>FIRST</th>\n",
       "      <th>LAST</th>\n",
       "      <th>CITY</th>\n",
       "      <th>AGE</th>\n",
       "    </tr>\n",
       "  </thead>\n",
       "  <tbody>\n",
       "    <tr>\n",
       "      <th>0</th>\n",
       "      <td>1d604da9-9a81-4ba9-80c2-de3375d59b40</td>\n",
       "      <td>José Eduardo181</td>\n",
       "      <td>Gómez206</td>\n",
       "      <td>Chicopee</td>\n",
       "      <td>31</td>\n",
       "    </tr>\n",
       "    <tr>\n",
       "      <th>1</th>\n",
       "      <td>034e9e3b-2def-4559-bb2a-7850888ae060</td>\n",
       "      <td>Milo271</td>\n",
       "      <td>Feil794</td>\n",
       "      <td>Somerville</td>\n",
       "      <td>37</td>\n",
       "    </tr>\n",
       "    <tr>\n",
       "      <th>2</th>\n",
       "      <td>10339b10-3cd1-4ac3-ac13-ec26728cb592</td>\n",
       "      <td>Jayson808</td>\n",
       "      <td>Fadel536</td>\n",
       "      <td>Chicopee</td>\n",
       "      <td>28</td>\n",
       "    </tr>\n",
       "    <tr>\n",
       "      <th>3</th>\n",
       "      <td>8d4c4326-e9de-4f45-9a4c-f8c36bff89ae</td>\n",
       "      <td>Mariana775</td>\n",
       "      <td>Rutherford999</td>\n",
       "      <td>Lowell</td>\n",
       "      <td>42</td>\n",
       "    </tr>\n",
       "    <tr>\n",
       "      <th>4</th>\n",
       "      <td>f5dcd418-09fe-4a2f-baa0-3da800bd8c3a</td>\n",
       "      <td>Gregorio366</td>\n",
       "      <td>Auer97</td>\n",
       "      <td>Boston</td>\n",
       "      <td>24</td>\n",
       "    </tr>\n",
       "    <tr>\n",
       "      <th>...</th>\n",
       "      <td>...</td>\n",
       "      <td>...</td>\n",
       "      <td>...</td>\n",
       "      <td>...</td>\n",
       "      <td>...</td>\n",
       "    </tr>\n",
       "    <tr>\n",
       "      <th>1163</th>\n",
       "      <td>30d83f4d-837c-488d-9748-5ee0fa49edd5</td>\n",
       "      <td>Napoleon578</td>\n",
       "      <td>Rice937</td>\n",
       "      <td>Yarmouth</td>\n",
       "      <td>55</td>\n",
       "    </tr>\n",
       "    <tr>\n",
       "      <th>1164</th>\n",
       "      <td>6c2b1cfd-887a-43f8-bee0-000ce2fc6ef0</td>\n",
       "      <td>Mercedes82</td>\n",
       "      <td>Shields502</td>\n",
       "      <td>Dennis</td>\n",
       "      <td>33</td>\n",
       "    </tr>\n",
       "    <tr>\n",
       "      <th>1165</th>\n",
       "      <td>09867b02-24b8-4896-b38b-86782dd64ef1</td>\n",
       "      <td>Laurence43</td>\n",
       "      <td>Weber641</td>\n",
       "      <td>Wilmington</td>\n",
       "      <td>63</td>\n",
       "    </tr>\n",
       "    <tr>\n",
       "      <th>1166</th>\n",
       "      <td>023a7d29-32b3-4db5-89c8-b88bd7582ec0</td>\n",
       "      <td>Conchita9</td>\n",
       "      <td>Peres371</td>\n",
       "      <td>Cambridge</td>\n",
       "      <td>98</td>\n",
       "    </tr>\n",
       "    <tr>\n",
       "      <th>1167</th>\n",
       "      <td>1fc8dafd-90e5-44d6-9179-81156c0ea083</td>\n",
       "      <td>Laverne101</td>\n",
       "      <td>Hane680</td>\n",
       "      <td>Beverly</td>\n",
       "      <td>43</td>\n",
       "    </tr>\n",
       "  </tbody>\n",
       "</table>\n",
       "<p>1129 rows × 5 columns</p>\n",
       "</div>"
      ],
      "text/plain": [
       "                                        Id            FIRST           LAST  \\\n",
       "0     1d604da9-9a81-4ba9-80c2-de3375d59b40  José Eduardo181       Gómez206   \n",
       "1     034e9e3b-2def-4559-bb2a-7850888ae060          Milo271        Feil794   \n",
       "2     10339b10-3cd1-4ac3-ac13-ec26728cb592        Jayson808       Fadel536   \n",
       "3     8d4c4326-e9de-4f45-9a4c-f8c36bff89ae       Mariana775  Rutherford999   \n",
       "4     f5dcd418-09fe-4a2f-baa0-3da800bd8c3a      Gregorio366         Auer97   \n",
       "...                                    ...              ...            ...   \n",
       "1163  30d83f4d-837c-488d-9748-5ee0fa49edd5      Napoleon578        Rice937   \n",
       "1164  6c2b1cfd-887a-43f8-bee0-000ce2fc6ef0       Mercedes82     Shields502   \n",
       "1165  09867b02-24b8-4896-b38b-86782dd64ef1       Laurence43       Weber641   \n",
       "1166  023a7d29-32b3-4db5-89c8-b88bd7582ec0        Conchita9       Peres371   \n",
       "1167  1fc8dafd-90e5-44d6-9179-81156c0ea083       Laverne101        Hane680   \n",
       "\n",
       "            CITY  AGE  \n",
       "0       Chicopee   31  \n",
       "1     Somerville   37  \n",
       "2       Chicopee   28  \n",
       "3         Lowell   42  \n",
       "4         Boston   24  \n",
       "...          ...  ...  \n",
       "1163    Yarmouth   55  \n",
       "1164      Dennis   33  \n",
       "1165  Wilmington   63  \n",
       "1166   Cambridge   98  \n",
       "1167     Beverly   43  \n",
       "\n",
       "[1129 rows x 5 columns]"
      ]
     },
     "execution_count": 62,
     "metadata": {},
     "output_type": "execute_result"
    }
   ],
   "source": [
    "# CREATE A COLUMN AGE THAT CAN BE CALCULATED USING BIRTHDATE\n",
    "from datetime import datetime\n",
    "current_year=datetime.now().year\n",
    "\n",
    "patients[\"BIRTHDATE\"]=pd.to_datetime(patients[\"BIRTHDATE\"],format=\"%Y-%m-%d\")\n",
    "patients[\"AGE\"]=patients[\"BIRTHDATE\"].apply(lambda x:current_year-x.year)\n",
    "patients=patients[patients[\"AGE\"]<100]\n",
    "patients=patients.drop(\"BIRTHDATE\",axis=1)\n",
    "patients"
   ]
  },
  {
   "cell_type": "code",
   "execution_count": 63,
   "metadata": {},
   "outputs": [
    {
     "data": {
      "text/html": [
       "<div>\n",
       "<style scoped>\n",
       "    .dataframe tbody tr th:only-of-type {\n",
       "        vertical-align: middle;\n",
       "    }\n",
       "\n",
       "    .dataframe tbody tr th {\n",
       "        vertical-align: top;\n",
       "    }\n",
       "\n",
       "    .dataframe thead th {\n",
       "        text-align: right;\n",
       "    }\n",
       "</style>\n",
       "<table border=\"1\" class=\"dataframe\">\n",
       "  <thead>\n",
       "    <tr style=\"text-align: right;\">\n",
       "      <th></th>\n",
       "      <th>CITY</th>\n",
       "      <th>AGE</th>\n",
       "      <th>PATIENT_NAME</th>\n",
       "    </tr>\n",
       "    <tr>\n",
       "      <th>PATIENT_ID</th>\n",
       "      <th></th>\n",
       "      <th></th>\n",
       "      <th></th>\n",
       "    </tr>\n",
       "  </thead>\n",
       "  <tbody>\n",
       "    <tr>\n",
       "      <th>1d604da9-9a81-4ba9-80c2-de3375d59b40</th>\n",
       "      <td>Chicopee</td>\n",
       "      <td>31</td>\n",
       "      <td>José Eduardo181 Gómez206</td>\n",
       "    </tr>\n",
       "    <tr>\n",
       "      <th>034e9e3b-2def-4559-bb2a-7850888ae060</th>\n",
       "      <td>Somerville</td>\n",
       "      <td>37</td>\n",
       "      <td>Milo271 Feil794</td>\n",
       "    </tr>\n",
       "    <tr>\n",
       "      <th>10339b10-3cd1-4ac3-ac13-ec26728cb592</th>\n",
       "      <td>Chicopee</td>\n",
       "      <td>28</td>\n",
       "      <td>Jayson808 Fadel536</td>\n",
       "    </tr>\n",
       "    <tr>\n",
       "      <th>8d4c4326-e9de-4f45-9a4c-f8c36bff89ae</th>\n",
       "      <td>Lowell</td>\n",
       "      <td>42</td>\n",
       "      <td>Mariana775 Rutherford999</td>\n",
       "    </tr>\n",
       "    <tr>\n",
       "      <th>f5dcd418-09fe-4a2f-baa0-3da800bd8c3a</th>\n",
       "      <td>Boston</td>\n",
       "      <td>24</td>\n",
       "      <td>Gregorio366 Auer97</td>\n",
       "    </tr>\n",
       "    <tr>\n",
       "      <th>...</th>\n",
       "      <td>...</td>\n",
       "      <td>...</td>\n",
       "      <td>...</td>\n",
       "    </tr>\n",
       "    <tr>\n",
       "      <th>30d83f4d-837c-488d-9748-5ee0fa49edd5</th>\n",
       "      <td>Yarmouth</td>\n",
       "      <td>55</td>\n",
       "      <td>Napoleon578 Rice937</td>\n",
       "    </tr>\n",
       "    <tr>\n",
       "      <th>6c2b1cfd-887a-43f8-bee0-000ce2fc6ef0</th>\n",
       "      <td>Dennis</td>\n",
       "      <td>33</td>\n",
       "      <td>Mercedes82 Shields502</td>\n",
       "    </tr>\n",
       "    <tr>\n",
       "      <th>09867b02-24b8-4896-b38b-86782dd64ef1</th>\n",
       "      <td>Wilmington</td>\n",
       "      <td>63</td>\n",
       "      <td>Laurence43 Weber641</td>\n",
       "    </tr>\n",
       "    <tr>\n",
       "      <th>023a7d29-32b3-4db5-89c8-b88bd7582ec0</th>\n",
       "      <td>Cambridge</td>\n",
       "      <td>98</td>\n",
       "      <td>Conchita9 Peres371</td>\n",
       "    </tr>\n",
       "    <tr>\n",
       "      <th>1fc8dafd-90e5-44d6-9179-81156c0ea083</th>\n",
       "      <td>Beverly</td>\n",
       "      <td>43</td>\n",
       "      <td>Laverne101 Hane680</td>\n",
       "    </tr>\n",
       "  </tbody>\n",
       "</table>\n",
       "<p>1129 rows × 3 columns</p>\n",
       "</div>"
      ],
      "text/plain": [
       "                                            CITY  AGE  \\\n",
       "PATIENT_ID                                              \n",
       "1d604da9-9a81-4ba9-80c2-de3375d59b40    Chicopee   31   \n",
       "034e9e3b-2def-4559-bb2a-7850888ae060  Somerville   37   \n",
       "10339b10-3cd1-4ac3-ac13-ec26728cb592    Chicopee   28   \n",
       "8d4c4326-e9de-4f45-9a4c-f8c36bff89ae      Lowell   42   \n",
       "f5dcd418-09fe-4a2f-baa0-3da800bd8c3a      Boston   24   \n",
       "...                                          ...  ...   \n",
       "30d83f4d-837c-488d-9748-5ee0fa49edd5    Yarmouth   55   \n",
       "6c2b1cfd-887a-43f8-bee0-000ce2fc6ef0      Dennis   33   \n",
       "09867b02-24b8-4896-b38b-86782dd64ef1  Wilmington   63   \n",
       "023a7d29-32b3-4db5-89c8-b88bd7582ec0   Cambridge   98   \n",
       "1fc8dafd-90e5-44d6-9179-81156c0ea083     Beverly   43   \n",
       "\n",
       "                                                  PATIENT_NAME  \n",
       "PATIENT_ID                                                      \n",
       "1d604da9-9a81-4ba9-80c2-de3375d59b40  José Eduardo181 Gómez206  \n",
       "034e9e3b-2def-4559-bb2a-7850888ae060           Milo271 Feil794  \n",
       "10339b10-3cd1-4ac3-ac13-ec26728cb592        Jayson808 Fadel536  \n",
       "8d4c4326-e9de-4f45-9a4c-f8c36bff89ae  Mariana775 Rutherford999  \n",
       "f5dcd418-09fe-4a2f-baa0-3da800bd8c3a        Gregorio366 Auer97  \n",
       "...                                                        ...  \n",
       "30d83f4d-837c-488d-9748-5ee0fa49edd5       Napoleon578 Rice937  \n",
       "6c2b1cfd-887a-43f8-bee0-000ce2fc6ef0     Mercedes82 Shields502  \n",
       "09867b02-24b8-4896-b38b-86782dd64ef1       Laurence43 Weber641  \n",
       "023a7d29-32b3-4db5-89c8-b88bd7582ec0        Conchita9 Peres371  \n",
       "1fc8dafd-90e5-44d6-9179-81156c0ea083        Laverne101 Hane680  \n",
       "\n",
       "[1129 rows x 3 columns]"
      ]
     },
     "execution_count": 63,
     "metadata": {},
     "output_type": "execute_result"
    }
   ],
   "source": [
    "# JOIN THE PATIENTS NAMES\n",
    "patients=patients.rename(columns={\"Id\":\"PATIENT_ID\"})\n",
    "patients[\"PATIENT_NAME\"]=patients[\"FIRST\"].str.cat(patients[\"LAST\"],sep=\" \")\n",
    "patients=patients.drop([\"FIRST\",\"LAST\"],axis=1)\n",
    "patients=patients.set_index(\"PATIENT_ID\")\n",
    "patients"
   ]
  },
  {
   "cell_type": "markdown",
   "metadata": {},
   "source": [
    "### Now let's integrate this with the encounter data\n",
    "\n",
    "- We're Using 'join' in the this. By the way do you know whats the difference between join and merge ??"
   ]
  },
  {
   "cell_type": "code",
   "execution_count": 64,
   "metadata": {},
   "outputs": [
    {
     "data": {
      "text/html": [
       "<div>\n",
       "<style scoped>\n",
       "    .dataframe tbody tr th:only-of-type {\n",
       "        vertical-align: middle;\n",
       "    }\n",
       "\n",
       "    .dataframe tbody tr th {\n",
       "        vertical-align: top;\n",
       "    }\n",
       "\n",
       "    .dataframe thead th {\n",
       "        text-align: right;\n",
       "    }\n",
       "</style>\n",
       "<table border=\"1\" class=\"dataframe\">\n",
       "  <thead>\n",
       "    <tr style=\"text-align: right;\">\n",
       "      <th></th>\n",
       "      <th>Id</th>\n",
       "      <th>START</th>\n",
       "      <th>STOP</th>\n",
       "      <th>PATIENT_ID</th>\n",
       "      <th>ORG_ID</th>\n",
       "      <th>PROVIDER_ID</th>\n",
       "      <th>PAYER_ID</th>\n",
       "      <th>DESCRIPTION</th>\n",
       "      <th>REASON</th>\n",
       "      <th>BASE_ENCOUNTER_COST</th>\n",
       "      <th>PAYER_COVERAGE</th>\n",
       "      <th>ENCOUNTERCLASS</th>\n",
       "      <th>CITY</th>\n",
       "      <th>AGE</th>\n",
       "      <th>PATIENT_NAME</th>\n",
       "    </tr>\n",
       "  </thead>\n",
       "  <tbody>\n",
       "    <tr>\n",
       "      <th>0</th>\n",
       "      <td>d0c40d10-8d87-447e-836e-99d26ad52ea5</td>\n",
       "      <td>2010-01-23T17:45:28Z</td>\n",
       "      <td>2010-01-23T18:10:28Z</td>\n",
       "      <td>034e9e3b-2def-4559-bb2a-7850888ae060</td>\n",
       "      <td>e002090d-4e92-300e-b41e-7d1f21dee4c6</td>\n",
       "      <td>e6283e46-fd81-3611-9459-0edb1c3da357</td>\n",
       "      <td>6e2f1a2d-27bd-3701-8d08-dae202c58632</td>\n",
       "      <td>Encounter for symptom</td>\n",
       "      <td>Acute bronchitis (disorder)</td>\n",
       "      <td>129.16</td>\n",
       "      <td>54.16</td>\n",
       "      <td>ambulatory</td>\n",
       "      <td>Somerville</td>\n",
       "      <td>37.0</td>\n",
       "      <td>Milo271 Feil794</td>\n",
       "    </tr>\n",
       "    <tr>\n",
       "      <th>1</th>\n",
       "      <td>e88bc3a9-007c-405e-aabc-792a38f4aa2b</td>\n",
       "      <td>2012-01-23T17:45:28Z</td>\n",
       "      <td>2012-01-23T18:00:28Z</td>\n",
       "      <td>034e9e3b-2def-4559-bb2a-7850888ae060</td>\n",
       "      <td>772ee193-bb9f-30eb-9939-21e86c8e4da5</td>\n",
       "      <td>6f1d59a7-a5bd-3cf9-9671-5bad2f351c28</td>\n",
       "      <td>6e2f1a2d-27bd-3701-8d08-dae202c58632</td>\n",
       "      <td>General examination of patient (procedure)</td>\n",
       "      <td>NaN</td>\n",
       "      <td>129.16</td>\n",
       "      <td>129.16</td>\n",
       "      <td>wellness</td>\n",
       "      <td>Somerville</td>\n",
       "      <td>37.0</td>\n",
       "      <td>Milo271 Feil794</td>\n",
       "    </tr>\n",
       "    <tr>\n",
       "      <th>2</th>\n",
       "      <td>8f104aa7-4ca9-4473-885a-bba2437df588</td>\n",
       "      <td>2001-05-01T15:02:18Z</td>\n",
       "      <td>2001-05-01T15:17:18Z</td>\n",
       "      <td>1d604da9-9a81-4ba9-80c2-de3375d59b40</td>\n",
       "      <td>5d4b9df1-93ae-3bc9-b680-03249990e558</td>\n",
       "      <td>af01a385-31d3-3c77-8fdb-2867fe88df2f</td>\n",
       "      <td>b1c428d6-4f07-31e0-90f0-68ffa6ff8c76</td>\n",
       "      <td>Encounter for symptom</td>\n",
       "      <td>Sinusitis (disorder)</td>\n",
       "      <td>129.16</td>\n",
       "      <td>0.00</td>\n",
       "      <td>ambulatory</td>\n",
       "      <td>Chicopee</td>\n",
       "      <td>31.0</td>\n",
       "      <td>José Eduardo181 Gómez206</td>\n",
       "    </tr>\n",
       "    <tr>\n",
       "      <th>3</th>\n",
       "      <td>b85c339a-6076-43ed-b9d0-9cf013dec49d</td>\n",
       "      <td>2011-07-28T15:02:18Z</td>\n",
       "      <td>2011-07-28T15:17:18Z</td>\n",
       "      <td>1d604da9-9a81-4ba9-80c2-de3375d59b40</td>\n",
       "      <td>3dc9bb2d-5d66-3e61-bf9a-e234c6433577</td>\n",
       "      <td>bb17e691-262b-3546-93d5-d88e7de93246</td>\n",
       "      <td>b1c428d6-4f07-31e0-90f0-68ffa6ff8c76</td>\n",
       "      <td>General examination of patient (procedure)</td>\n",
       "      <td>NaN</td>\n",
       "      <td>129.16</td>\n",
       "      <td>0.00</td>\n",
       "      <td>wellness</td>\n",
       "      <td>Chicopee</td>\n",
       "      <td>31.0</td>\n",
       "      <td>José Eduardo181 Gómez206</td>\n",
       "    </tr>\n",
       "    <tr>\n",
       "      <th>4</th>\n",
       "      <td>dae2b7cb-1316-4b78-954f-fa610a6c6d0e</td>\n",
       "      <td>2010-07-27T12:58:08Z</td>\n",
       "      <td>2010-07-27T13:28:08Z</td>\n",
       "      <td>10339b10-3cd1-4ac3-ac13-ec26728cb592</td>\n",
       "      <td>b03dba4f-892f-365c-bfd1-bfcfa7a98d5d</td>\n",
       "      <td>7ed6b84a-b847-3744-9d42-15c42297a0c2</td>\n",
       "      <td>d47b3510-2895-3b70-9897-342d681c769d</td>\n",
       "      <td>General examination of patient (procedure)</td>\n",
       "      <td>NaN</td>\n",
       "      <td>129.16</td>\n",
       "      <td>129.16</td>\n",
       "      <td>wellness</td>\n",
       "      <td>Chicopee</td>\n",
       "      <td>28.0</td>\n",
       "      <td>Jayson808 Fadel536</td>\n",
       "    </tr>\n",
       "    <tr>\n",
       "      <th>...</th>\n",
       "      <td>...</td>\n",
       "      <td>...</td>\n",
       "      <td>...</td>\n",
       "      <td>...</td>\n",
       "      <td>...</td>\n",
       "      <td>...</td>\n",
       "      <td>...</td>\n",
       "      <td>...</td>\n",
       "      <td>...</td>\n",
       "      <td>...</td>\n",
       "      <td>...</td>\n",
       "      <td>...</td>\n",
       "      <td>...</td>\n",
       "      <td>...</td>\n",
       "      <td>...</td>\n",
       "    </tr>\n",
       "    <tr>\n",
       "      <th>53341</th>\n",
       "      <td>bd3bfc3c-4f52-4d9c-aa01-60a084b2ddcd</td>\n",
       "      <td>2015-06-20T17:27:52Z</td>\n",
       "      <td>2015-06-20T17:57:52Z</td>\n",
       "      <td>fc817953-cc8b-45db-9c85-7c0ced8fa90d</td>\n",
       "      <td>a44b37da-aa9b-37f0-993e-26e58974e086</td>\n",
       "      <td>ff678a28-0ee8-379c-80ab-2dc790cf67dd</td>\n",
       "      <td>7caa7254-5050-3b5e-9eae-bd5ea30e809c</td>\n",
       "      <td>General examination of patient (procedure)</td>\n",
       "      <td>NaN</td>\n",
       "      <td>129.16</td>\n",
       "      <td>129.16</td>\n",
       "      <td>wellness</td>\n",
       "      <td>NaN</td>\n",
       "      <td>NaN</td>\n",
       "      <td>NaN</td>\n",
       "    </tr>\n",
       "    <tr>\n",
       "      <th>53342</th>\n",
       "      <td>59727285-d30f-44e2-bcda-eac21ce07269</td>\n",
       "      <td>2016-06-25T17:27:52Z</td>\n",
       "      <td>2016-06-25T17:42:52Z</td>\n",
       "      <td>fc817953-cc8b-45db-9c85-7c0ced8fa90d</td>\n",
       "      <td>a44b37da-aa9b-37f0-993e-26e58974e086</td>\n",
       "      <td>ff678a28-0ee8-379c-80ab-2dc790cf67dd</td>\n",
       "      <td>7caa7254-5050-3b5e-9eae-bd5ea30e809c</td>\n",
       "      <td>General examination of patient (procedure)</td>\n",
       "      <td>NaN</td>\n",
       "      <td>129.16</td>\n",
       "      <td>129.16</td>\n",
       "      <td>wellness</td>\n",
       "      <td>NaN</td>\n",
       "      <td>NaN</td>\n",
       "      <td>NaN</td>\n",
       "    </tr>\n",
       "    <tr>\n",
       "      <th>53343</th>\n",
       "      <td>957b13d5-49fa-4518-8c25-6eaa45e6a7d1</td>\n",
       "      <td>2017-07-01T17:27:52Z</td>\n",
       "      <td>2017-07-01T17:57:52Z</td>\n",
       "      <td>fc817953-cc8b-45db-9c85-7c0ced8fa90d</td>\n",
       "      <td>a44b37da-aa9b-37f0-993e-26e58974e086</td>\n",
       "      <td>ff678a28-0ee8-379c-80ab-2dc790cf67dd</td>\n",
       "      <td>7caa7254-5050-3b5e-9eae-bd5ea30e809c</td>\n",
       "      <td>General examination of patient (procedure)</td>\n",
       "      <td>NaN</td>\n",
       "      <td>129.16</td>\n",
       "      <td>129.16</td>\n",
       "      <td>wellness</td>\n",
       "      <td>NaN</td>\n",
       "      <td>NaN</td>\n",
       "      <td>NaN</td>\n",
       "    </tr>\n",
       "    <tr>\n",
       "      <th>53344</th>\n",
       "      <td>5529a0d5-a24c-42b4-a32a-729e4d1f19ef</td>\n",
       "      <td>2018-07-07T17:27:52Z</td>\n",
       "      <td>2018-07-07T17:42:52Z</td>\n",
       "      <td>fc817953-cc8b-45db-9c85-7c0ced8fa90d</td>\n",
       "      <td>a44b37da-aa9b-37f0-993e-26e58974e086</td>\n",
       "      <td>ff678a28-0ee8-379c-80ab-2dc790cf67dd</td>\n",
       "      <td>7caa7254-5050-3b5e-9eae-bd5ea30e809c</td>\n",
       "      <td>General examination of patient (procedure)</td>\n",
       "      <td>NaN</td>\n",
       "      <td>129.16</td>\n",
       "      <td>129.16</td>\n",
       "      <td>wellness</td>\n",
       "      <td>NaN</td>\n",
       "      <td>NaN</td>\n",
       "      <td>NaN</td>\n",
       "    </tr>\n",
       "    <tr>\n",
       "      <th>53345</th>\n",
       "      <td>1306d180-d887-4286-b940-9a6a2425cf93</td>\n",
       "      <td>2019-07-13T17:27:52Z</td>\n",
       "      <td>2019-07-13T17:57:52Z</td>\n",
       "      <td>fc817953-cc8b-45db-9c85-7c0ced8fa90d</td>\n",
       "      <td>a44b37da-aa9b-37f0-993e-26e58974e086</td>\n",
       "      <td>ff678a28-0ee8-379c-80ab-2dc790cf67dd</td>\n",
       "      <td>7caa7254-5050-3b5e-9eae-bd5ea30e809c</td>\n",
       "      <td>General examination of patient (procedure)</td>\n",
       "      <td>NaN</td>\n",
       "      <td>129.16</td>\n",
       "      <td>129.16</td>\n",
       "      <td>wellness</td>\n",
       "      <td>NaN</td>\n",
       "      <td>NaN</td>\n",
       "      <td>NaN</td>\n",
       "    </tr>\n",
       "  </tbody>\n",
       "</table>\n",
       "<p>53346 rows × 15 columns</p>\n",
       "</div>"
      ],
      "text/plain": [
       "                                         Id                 START  \\\n",
       "0      d0c40d10-8d87-447e-836e-99d26ad52ea5  2010-01-23T17:45:28Z   \n",
       "1      e88bc3a9-007c-405e-aabc-792a38f4aa2b  2012-01-23T17:45:28Z   \n",
       "2      8f104aa7-4ca9-4473-885a-bba2437df588  2001-05-01T15:02:18Z   \n",
       "3      b85c339a-6076-43ed-b9d0-9cf013dec49d  2011-07-28T15:02:18Z   \n",
       "4      dae2b7cb-1316-4b78-954f-fa610a6c6d0e  2010-07-27T12:58:08Z   \n",
       "...                                     ...                   ...   \n",
       "53341  bd3bfc3c-4f52-4d9c-aa01-60a084b2ddcd  2015-06-20T17:27:52Z   \n",
       "53342  59727285-d30f-44e2-bcda-eac21ce07269  2016-06-25T17:27:52Z   \n",
       "53343  957b13d5-49fa-4518-8c25-6eaa45e6a7d1  2017-07-01T17:27:52Z   \n",
       "53344  5529a0d5-a24c-42b4-a32a-729e4d1f19ef  2018-07-07T17:27:52Z   \n",
       "53345  1306d180-d887-4286-b940-9a6a2425cf93  2019-07-13T17:27:52Z   \n",
       "\n",
       "                       STOP                            PATIENT_ID  \\\n",
       "0      2010-01-23T18:10:28Z  034e9e3b-2def-4559-bb2a-7850888ae060   \n",
       "1      2012-01-23T18:00:28Z  034e9e3b-2def-4559-bb2a-7850888ae060   \n",
       "2      2001-05-01T15:17:18Z  1d604da9-9a81-4ba9-80c2-de3375d59b40   \n",
       "3      2011-07-28T15:17:18Z  1d604da9-9a81-4ba9-80c2-de3375d59b40   \n",
       "4      2010-07-27T13:28:08Z  10339b10-3cd1-4ac3-ac13-ec26728cb592   \n",
       "...                     ...                                   ...   \n",
       "53341  2015-06-20T17:57:52Z  fc817953-cc8b-45db-9c85-7c0ced8fa90d   \n",
       "53342  2016-06-25T17:42:52Z  fc817953-cc8b-45db-9c85-7c0ced8fa90d   \n",
       "53343  2017-07-01T17:57:52Z  fc817953-cc8b-45db-9c85-7c0ced8fa90d   \n",
       "53344  2018-07-07T17:42:52Z  fc817953-cc8b-45db-9c85-7c0ced8fa90d   \n",
       "53345  2019-07-13T17:57:52Z  fc817953-cc8b-45db-9c85-7c0ced8fa90d   \n",
       "\n",
       "                                     ORG_ID  \\\n",
       "0      e002090d-4e92-300e-b41e-7d1f21dee4c6   \n",
       "1      772ee193-bb9f-30eb-9939-21e86c8e4da5   \n",
       "2      5d4b9df1-93ae-3bc9-b680-03249990e558   \n",
       "3      3dc9bb2d-5d66-3e61-bf9a-e234c6433577   \n",
       "4      b03dba4f-892f-365c-bfd1-bfcfa7a98d5d   \n",
       "...                                     ...   \n",
       "53341  a44b37da-aa9b-37f0-993e-26e58974e086   \n",
       "53342  a44b37da-aa9b-37f0-993e-26e58974e086   \n",
       "53343  a44b37da-aa9b-37f0-993e-26e58974e086   \n",
       "53344  a44b37da-aa9b-37f0-993e-26e58974e086   \n",
       "53345  a44b37da-aa9b-37f0-993e-26e58974e086   \n",
       "\n",
       "                                PROVIDER_ID  \\\n",
       "0      e6283e46-fd81-3611-9459-0edb1c3da357   \n",
       "1      6f1d59a7-a5bd-3cf9-9671-5bad2f351c28   \n",
       "2      af01a385-31d3-3c77-8fdb-2867fe88df2f   \n",
       "3      bb17e691-262b-3546-93d5-d88e7de93246   \n",
       "4      7ed6b84a-b847-3744-9d42-15c42297a0c2   \n",
       "...                                     ...   \n",
       "53341  ff678a28-0ee8-379c-80ab-2dc790cf67dd   \n",
       "53342  ff678a28-0ee8-379c-80ab-2dc790cf67dd   \n",
       "53343  ff678a28-0ee8-379c-80ab-2dc790cf67dd   \n",
       "53344  ff678a28-0ee8-379c-80ab-2dc790cf67dd   \n",
       "53345  ff678a28-0ee8-379c-80ab-2dc790cf67dd   \n",
       "\n",
       "                                   PAYER_ID  \\\n",
       "0      6e2f1a2d-27bd-3701-8d08-dae202c58632   \n",
       "1      6e2f1a2d-27bd-3701-8d08-dae202c58632   \n",
       "2      b1c428d6-4f07-31e0-90f0-68ffa6ff8c76   \n",
       "3      b1c428d6-4f07-31e0-90f0-68ffa6ff8c76   \n",
       "4      d47b3510-2895-3b70-9897-342d681c769d   \n",
       "...                                     ...   \n",
       "53341  7caa7254-5050-3b5e-9eae-bd5ea30e809c   \n",
       "53342  7caa7254-5050-3b5e-9eae-bd5ea30e809c   \n",
       "53343  7caa7254-5050-3b5e-9eae-bd5ea30e809c   \n",
       "53344  7caa7254-5050-3b5e-9eae-bd5ea30e809c   \n",
       "53345  7caa7254-5050-3b5e-9eae-bd5ea30e809c   \n",
       "\n",
       "                                      DESCRIPTION  \\\n",
       "0                           Encounter for symptom   \n",
       "1      General examination of patient (procedure)   \n",
       "2                           Encounter for symptom   \n",
       "3      General examination of patient (procedure)   \n",
       "4      General examination of patient (procedure)   \n",
       "...                                           ...   \n",
       "53341  General examination of patient (procedure)   \n",
       "53342  General examination of patient (procedure)   \n",
       "53343  General examination of patient (procedure)   \n",
       "53344  General examination of patient (procedure)   \n",
       "53345  General examination of patient (procedure)   \n",
       "\n",
       "                            REASON  BASE_ENCOUNTER_COST  PAYER_COVERAGE  \\\n",
       "0      Acute bronchitis (disorder)               129.16           54.16   \n",
       "1                              NaN               129.16          129.16   \n",
       "2             Sinusitis (disorder)               129.16            0.00   \n",
       "3                              NaN               129.16            0.00   \n",
       "4                              NaN               129.16          129.16   \n",
       "...                            ...                  ...             ...   \n",
       "53341                          NaN               129.16          129.16   \n",
       "53342                          NaN               129.16          129.16   \n",
       "53343                          NaN               129.16          129.16   \n",
       "53344                          NaN               129.16          129.16   \n",
       "53345                          NaN               129.16          129.16   \n",
       "\n",
       "      ENCOUNTERCLASS        CITY   AGE              PATIENT_NAME  \n",
       "0         ambulatory  Somerville  37.0           Milo271 Feil794  \n",
       "1           wellness  Somerville  37.0           Milo271 Feil794  \n",
       "2         ambulatory    Chicopee  31.0  José Eduardo181 Gómez206  \n",
       "3           wellness    Chicopee  31.0  José Eduardo181 Gómez206  \n",
       "4           wellness    Chicopee  28.0        Jayson808 Fadel536  \n",
       "...              ...         ...   ...                       ...  \n",
       "53341       wellness         NaN   NaN                       NaN  \n",
       "53342       wellness         NaN   NaN                       NaN  \n",
       "53343       wellness         NaN   NaN                       NaN  \n",
       "53344       wellness         NaN   NaN                       NaN  \n",
       "53345       wellness         NaN   NaN                       NaN  \n",
       "\n",
       "[53346 rows x 15 columns]"
      ]
     },
     "execution_count": 64,
     "metadata": {},
     "output_type": "execute_result"
    }
   ],
   "source": [
    "encounter=encounter.join(patients,on=\"PATIENT_ID\")\n",
    "encounter"
   ]
  },
  {
   "cell_type": "markdown",
   "metadata": {},
   "source": [
    "####  II HOSPITALS"
   ]
  },
  {
   "cell_type": "code",
   "execution_count": 65,
   "metadata": {},
   "outputs": [
    {
     "data": {
      "text/html": [
       "<div>\n",
       "<style scoped>\n",
       "    .dataframe tbody tr th:only-of-type {\n",
       "        vertical-align: middle;\n",
       "    }\n",
       "\n",
       "    .dataframe tbody tr th {\n",
       "        vertical-align: top;\n",
       "    }\n",
       "\n",
       "    .dataframe thead th {\n",
       "        text-align: right;\n",
       "    }\n",
       "</style>\n",
       "<table border=\"1\" class=\"dataframe\">\n",
       "  <thead>\n",
       "    <tr style=\"text-align: right;\">\n",
       "      <th></th>\n",
       "      <th>Id</th>\n",
       "      <th>NAME</th>\n",
       "      <th>ADDRESS</th>\n",
       "      <th>CITY</th>\n",
       "      <th>STATE</th>\n",
       "      <th>ZIP</th>\n",
       "      <th>LAT</th>\n",
       "      <th>LON</th>\n",
       "      <th>PHONE</th>\n",
       "      <th>REVENUE</th>\n",
       "      <th>UTILIZATION</th>\n",
       "    </tr>\n",
       "  </thead>\n",
       "  <tbody>\n",
       "    <tr>\n",
       "      <th>963</th>\n",
       "      <td>3e4299d5-499d-3fb7-a4d7-1b4df8e29c5a</td>\n",
       "      <td>STEWARD MEDICAL GROUP  INC</td>\n",
       "      <td>11 NEVINS ST</td>\n",
       "      <td>BRIGHTON</td>\n",
       "      <td>MA</td>\n",
       "      <td>02135-3514</td>\n",
       "      <td>42.331960</td>\n",
       "      <td>-71.020173</td>\n",
       "      <td>617-789-2045</td>\n",
       "      <td>6458.00</td>\n",
       "      <td>50</td>\n",
       "    </tr>\n",
       "    <tr>\n",
       "      <th>480</th>\n",
       "      <td>e8d33a84-cad5-306a-9982-b011e4da175e</td>\n",
       "      <td>PCP77608</td>\n",
       "      <td>185 LINCOLN ST</td>\n",
       "      <td>HINGHAM</td>\n",
       "      <td>MA</td>\n",
       "      <td>02043-1743</td>\n",
       "      <td>42.224319</td>\n",
       "      <td>-70.880673</td>\n",
       "      <td>781-740-2349</td>\n",
       "      <td>11495.24</td>\n",
       "      <td>90</td>\n",
       "    </tr>\n",
       "    <tr>\n",
       "      <th>753</th>\n",
       "      <td>1ac92984-69ab-3c07-9b52-73736930a1b5</td>\n",
       "      <td>MERRIMACK VALLEY PET PC</td>\n",
       "      <td>70 E ST</td>\n",
       "      <td>METHUEN</td>\n",
       "      <td>MA</td>\n",
       "      <td>01844-4597</td>\n",
       "      <td>42.742751</td>\n",
       "      <td>-71.178588</td>\n",
       "      <td>978-689-4738</td>\n",
       "      <td>5424.72</td>\n",
       "      <td>42</td>\n",
       "    </tr>\n",
       "  </tbody>\n",
       "</table>\n",
       "</div>"
      ],
      "text/plain": [
       "                                       Id                        NAME  \\\n",
       "963  3e4299d5-499d-3fb7-a4d7-1b4df8e29c5a  STEWARD MEDICAL GROUP  INC   \n",
       "480  e8d33a84-cad5-306a-9982-b011e4da175e                    PCP77608   \n",
       "753  1ac92984-69ab-3c07-9b52-73736930a1b5     MERRIMACK VALLEY PET PC   \n",
       "\n",
       "            ADDRESS      CITY STATE         ZIP        LAT        LON  \\\n",
       "963    11 NEVINS ST  BRIGHTON    MA  02135-3514  42.331960 -71.020173   \n",
       "480  185 LINCOLN ST   HINGHAM    MA  02043-1743  42.224319 -70.880673   \n",
       "753         70 E ST   METHUEN    MA  01844-4597  42.742751 -71.178588   \n",
       "\n",
       "            PHONE   REVENUE  UTILIZATION  \n",
       "963  617-789-2045   6458.00           50  \n",
       "480  781-740-2349  11495.24           90  \n",
       "753  978-689-4738   5424.72           42  "
      ]
     },
     "execution_count": 65,
     "metadata": {},
     "output_type": "execute_result"
    }
   ],
   "source": [
    "# READ THE ORGANISATION FILES\n",
    "organisations=pd.read_csv(files[\"organizations\"])\n",
    "organisations.sample(3)"
   ]
  },
  {
   "cell_type": "code",
   "execution_count": 66,
   "metadata": {},
   "outputs": [
    {
     "data": {
      "text/html": [
       "<div>\n",
       "<style scoped>\n",
       "    .dataframe tbody tr th:only-of-type {\n",
       "        vertical-align: middle;\n",
       "    }\n",
       "\n",
       "    .dataframe tbody tr th {\n",
       "        vertical-align: top;\n",
       "    }\n",
       "\n",
       "    .dataframe thead th {\n",
       "        text-align: right;\n",
       "    }\n",
       "</style>\n",
       "<table border=\"1\" class=\"dataframe\">\n",
       "  <thead>\n",
       "    <tr style=\"text-align: right;\">\n",
       "      <th></th>\n",
       "      <th>ORG_NAME</th>\n",
       "      <th>ORG_CITY</th>\n",
       "      <th>REVENUE</th>\n",
       "    </tr>\n",
       "    <tr>\n",
       "      <th>ORG_ID</th>\n",
       "      <th></th>\n",
       "      <th></th>\n",
       "      <th></th>\n",
       "    </tr>\n",
       "  </thead>\n",
       "  <tbody>\n",
       "    <tr>\n",
       "      <th>903d3e6b-ace5-33a8-ab58-63f9fc4fc497</th>\n",
       "      <td>MASSACHUSETTS GENERAL PHYSICIANS ORGANIZATION ...</td>\n",
       "      <td>SOMERVILLE</td>\n",
       "      <td>8395.40</td>\n",
       "    </tr>\n",
       "    <tr>\n",
       "      <th>ae67223f-808e-33d3-a83e-066deebf35ed</th>\n",
       "      <td>VA Central Western Massachusetts Healthcare Sy...</td>\n",
       "      <td>Leeds</td>\n",
       "      <td>17436.60</td>\n",
       "    </tr>\n",
       "    <tr>\n",
       "      <th>ef6ab57c-ed94-3dbe-9861-812d515918b3</th>\n",
       "      <td>CAPE COD HOSPITAL</td>\n",
       "      <td>HYANNIS</td>\n",
       "      <td>226779.11</td>\n",
       "    </tr>\n",
       "  </tbody>\n",
       "</table>\n",
       "</div>"
      ],
      "text/plain": [
       "                                                                               ORG_NAME  \\\n",
       "ORG_ID                                                                                    \n",
       "903d3e6b-ace5-33a8-ab58-63f9fc4fc497  MASSACHUSETTS GENERAL PHYSICIANS ORGANIZATION ...   \n",
       "ae67223f-808e-33d3-a83e-066deebf35ed  VA Central Western Massachusetts Healthcare Sy...   \n",
       "ef6ab57c-ed94-3dbe-9861-812d515918b3                                  CAPE COD HOSPITAL   \n",
       "\n",
       "                                        ORG_CITY    REVENUE  \n",
       "ORG_ID                                                       \n",
       "903d3e6b-ace5-33a8-ab58-63f9fc4fc497  SOMERVILLE    8395.40  \n",
       "ae67223f-808e-33d3-a83e-066deebf35ed       Leeds   17436.60  \n",
       "ef6ab57c-ed94-3dbe-9861-812d515918b3     HYANNIS  226779.11  "
      ]
     },
     "execution_count": 66,
     "metadata": {},
     "output_type": "execute_result"
    }
   ],
   "source": [
    "# SELECT A FEW COLUMNS AND RENAME THEM\n",
    "organisations=organisations[[\"Id\",\"NAME\",\"CITY\",\"REVENUE\"]]\n",
    "organisations=organisations.rename(columns={\"NAME\":\"ORG_NAME\",\"Id\":\"ORG_ID\",\"CITY\":\"ORG_CITY\"})\n",
    "organisations=organisations.set_index(\"ORG_ID\")\n",
    "organisations.sample(3)"
   ]
  },
  {
   "cell_type": "code",
   "execution_count": 67,
   "metadata": {},
   "outputs": [
    {
     "data": {
      "text/html": [
       "<div>\n",
       "<style scoped>\n",
       "    .dataframe tbody tr th:only-of-type {\n",
       "        vertical-align: middle;\n",
       "    }\n",
       "\n",
       "    .dataframe tbody tr th {\n",
       "        vertical-align: top;\n",
       "    }\n",
       "\n",
       "    .dataframe thead th {\n",
       "        text-align: right;\n",
       "    }\n",
       "</style>\n",
       "<table border=\"1\" class=\"dataframe\">\n",
       "  <thead>\n",
       "    <tr style=\"text-align: right;\">\n",
       "      <th></th>\n",
       "      <th>Id</th>\n",
       "      <th>START</th>\n",
       "      <th>STOP</th>\n",
       "      <th>PATIENT_ID</th>\n",
       "      <th>ORG_ID</th>\n",
       "      <th>PROVIDER_ID</th>\n",
       "      <th>PAYER_ID</th>\n",
       "      <th>DESCRIPTION</th>\n",
       "      <th>REASON</th>\n",
       "      <th>BASE_ENCOUNTER_COST</th>\n",
       "      <th>PAYER_COVERAGE</th>\n",
       "      <th>ENCOUNTERCLASS</th>\n",
       "      <th>CITY</th>\n",
       "      <th>AGE</th>\n",
       "      <th>PATIENT_NAME</th>\n",
       "      <th>ORG_NAME</th>\n",
       "      <th>ORG_CITY</th>\n",
       "      <th>REVENUE</th>\n",
       "    </tr>\n",
       "  </thead>\n",
       "  <tbody>\n",
       "    <tr>\n",
       "      <th>0</th>\n",
       "      <td>d0c40d10-8d87-447e-836e-99d26ad52ea5</td>\n",
       "      <td>2010-01-23T17:45:28Z</td>\n",
       "      <td>2010-01-23T18:10:28Z</td>\n",
       "      <td>034e9e3b-2def-4559-bb2a-7850888ae060</td>\n",
       "      <td>e002090d-4e92-300e-b41e-7d1f21dee4c6</td>\n",
       "      <td>e6283e46-fd81-3611-9459-0edb1c3da357</td>\n",
       "      <td>6e2f1a2d-27bd-3701-8d08-dae202c58632</td>\n",
       "      <td>Encounter for symptom</td>\n",
       "      <td>Acute bronchitis (disorder)</td>\n",
       "      <td>129.16</td>\n",
       "      <td>54.16</td>\n",
       "      <td>ambulatory</td>\n",
       "      <td>Somerville</td>\n",
       "      <td>37.0</td>\n",
       "      <td>Milo271 Feil794</td>\n",
       "      <td>CAMBRIDGE HEALTH ALLIANCE</td>\n",
       "      <td>CAMBRIDGE</td>\n",
       "      <td>406053.19</td>\n",
       "    </tr>\n",
       "    <tr>\n",
       "      <th>1</th>\n",
       "      <td>e88bc3a9-007c-405e-aabc-792a38f4aa2b</td>\n",
       "      <td>2012-01-23T17:45:28Z</td>\n",
       "      <td>2012-01-23T18:00:28Z</td>\n",
       "      <td>034e9e3b-2def-4559-bb2a-7850888ae060</td>\n",
       "      <td>772ee193-bb9f-30eb-9939-21e86c8e4da5</td>\n",
       "      <td>6f1d59a7-a5bd-3cf9-9671-5bad2f351c28</td>\n",
       "      <td>6e2f1a2d-27bd-3701-8d08-dae202c58632</td>\n",
       "      <td>General examination of patient (procedure)</td>\n",
       "      <td>NaN</td>\n",
       "      <td>129.16</td>\n",
       "      <td>129.16</td>\n",
       "      <td>wellness</td>\n",
       "      <td>Somerville</td>\n",
       "      <td>37.0</td>\n",
       "      <td>Milo271 Feil794</td>\n",
       "      <td>PCP20565</td>\n",
       "      <td>CAMBRIDGE</td>\n",
       "      <td>4262.28</td>\n",
       "    </tr>\n",
       "    <tr>\n",
       "      <th>2</th>\n",
       "      <td>8f104aa7-4ca9-4473-885a-bba2437df588</td>\n",
       "      <td>2001-05-01T15:02:18Z</td>\n",
       "      <td>2001-05-01T15:17:18Z</td>\n",
       "      <td>1d604da9-9a81-4ba9-80c2-de3375d59b40</td>\n",
       "      <td>5d4b9df1-93ae-3bc9-b680-03249990e558</td>\n",
       "      <td>af01a385-31d3-3c77-8fdb-2867fe88df2f</td>\n",
       "      <td>b1c428d6-4f07-31e0-90f0-68ffa6ff8c76</td>\n",
       "      <td>Encounter for symptom</td>\n",
       "      <td>Sinusitis (disorder)</td>\n",
       "      <td>129.16</td>\n",
       "      <td>0.00</td>\n",
       "      <td>ambulatory</td>\n",
       "      <td>Chicopee</td>\n",
       "      <td>31.0</td>\n",
       "      <td>José Eduardo181 Gómez206</td>\n",
       "      <td>HOLYOKE MEDICAL CENTER</td>\n",
       "      <td>HOLYOKE</td>\n",
       "      <td>327601.37</td>\n",
       "    </tr>\n",
       "    <tr>\n",
       "      <th>3</th>\n",
       "      <td>b85c339a-6076-43ed-b9d0-9cf013dec49d</td>\n",
       "      <td>2011-07-28T15:02:18Z</td>\n",
       "      <td>2011-07-28T15:17:18Z</td>\n",
       "      <td>1d604da9-9a81-4ba9-80c2-de3375d59b40</td>\n",
       "      <td>3dc9bb2d-5d66-3e61-bf9a-e234c6433577</td>\n",
       "      <td>bb17e691-262b-3546-93d5-d88e7de93246</td>\n",
       "      <td>b1c428d6-4f07-31e0-90f0-68ffa6ff8c76</td>\n",
       "      <td>General examination of patient (procedure)</td>\n",
       "      <td>NaN</td>\n",
       "      <td>129.16</td>\n",
       "      <td>0.00</td>\n",
       "      <td>wellness</td>\n",
       "      <td>Chicopee</td>\n",
       "      <td>31.0</td>\n",
       "      <td>José Eduardo181 Gómez206</td>\n",
       "      <td>PCP12399</td>\n",
       "      <td>SOUTH HADLEY</td>\n",
       "      <td>7491.28</td>\n",
       "    </tr>\n",
       "    <tr>\n",
       "      <th>4</th>\n",
       "      <td>dae2b7cb-1316-4b78-954f-fa610a6c6d0e</td>\n",
       "      <td>2010-07-27T12:58:08Z</td>\n",
       "      <td>2010-07-27T13:28:08Z</td>\n",
       "      <td>10339b10-3cd1-4ac3-ac13-ec26728cb592</td>\n",
       "      <td>b03dba4f-892f-365c-bfd1-bfcfa7a98d5d</td>\n",
       "      <td>7ed6b84a-b847-3744-9d42-15c42297a0c2</td>\n",
       "      <td>d47b3510-2895-3b70-9897-342d681c769d</td>\n",
       "      <td>General examination of patient (procedure)</td>\n",
       "      <td>NaN</td>\n",
       "      <td>129.16</td>\n",
       "      <td>129.16</td>\n",
       "      <td>wellness</td>\n",
       "      <td>Chicopee</td>\n",
       "      <td>28.0</td>\n",
       "      <td>Jayson808 Fadel536</td>\n",
       "      <td>WESTERN MASS PHYSICIAN ASSOCIATES INC</td>\n",
       "      <td>CHICOPEE</td>\n",
       "      <td>7620.44</td>\n",
       "    </tr>\n",
       "    <tr>\n",
       "      <th>...</th>\n",
       "      <td>...</td>\n",
       "      <td>...</td>\n",
       "      <td>...</td>\n",
       "      <td>...</td>\n",
       "      <td>...</td>\n",
       "      <td>...</td>\n",
       "      <td>...</td>\n",
       "      <td>...</td>\n",
       "      <td>...</td>\n",
       "      <td>...</td>\n",
       "      <td>...</td>\n",
       "      <td>...</td>\n",
       "      <td>...</td>\n",
       "      <td>...</td>\n",
       "      <td>...</td>\n",
       "      <td>...</td>\n",
       "      <td>...</td>\n",
       "      <td>...</td>\n",
       "    </tr>\n",
       "    <tr>\n",
       "      <th>53341</th>\n",
       "      <td>bd3bfc3c-4f52-4d9c-aa01-60a084b2ddcd</td>\n",
       "      <td>2015-06-20T17:27:52Z</td>\n",
       "      <td>2015-06-20T17:57:52Z</td>\n",
       "      <td>fc817953-cc8b-45db-9c85-7c0ced8fa90d</td>\n",
       "      <td>a44b37da-aa9b-37f0-993e-26e58974e086</td>\n",
       "      <td>ff678a28-0ee8-379c-80ab-2dc790cf67dd</td>\n",
       "      <td>7caa7254-5050-3b5e-9eae-bd5ea30e809c</td>\n",
       "      <td>General examination of patient (procedure)</td>\n",
       "      <td>NaN</td>\n",
       "      <td>129.16</td>\n",
       "      <td>129.16</td>\n",
       "      <td>wellness</td>\n",
       "      <td>NaN</td>\n",
       "      <td>NaN</td>\n",
       "      <td>NaN</td>\n",
       "      <td>PCP27951</td>\n",
       "      <td>WESTWOOD</td>\n",
       "      <td>12141.04</td>\n",
       "    </tr>\n",
       "    <tr>\n",
       "      <th>53342</th>\n",
       "      <td>59727285-d30f-44e2-bcda-eac21ce07269</td>\n",
       "      <td>2016-06-25T17:27:52Z</td>\n",
       "      <td>2016-06-25T17:42:52Z</td>\n",
       "      <td>fc817953-cc8b-45db-9c85-7c0ced8fa90d</td>\n",
       "      <td>a44b37da-aa9b-37f0-993e-26e58974e086</td>\n",
       "      <td>ff678a28-0ee8-379c-80ab-2dc790cf67dd</td>\n",
       "      <td>7caa7254-5050-3b5e-9eae-bd5ea30e809c</td>\n",
       "      <td>General examination of patient (procedure)</td>\n",
       "      <td>NaN</td>\n",
       "      <td>129.16</td>\n",
       "      <td>129.16</td>\n",
       "      <td>wellness</td>\n",
       "      <td>NaN</td>\n",
       "      <td>NaN</td>\n",
       "      <td>NaN</td>\n",
       "      <td>PCP27951</td>\n",
       "      <td>WESTWOOD</td>\n",
       "      <td>12141.04</td>\n",
       "    </tr>\n",
       "    <tr>\n",
       "      <th>53343</th>\n",
       "      <td>957b13d5-49fa-4518-8c25-6eaa45e6a7d1</td>\n",
       "      <td>2017-07-01T17:27:52Z</td>\n",
       "      <td>2017-07-01T17:57:52Z</td>\n",
       "      <td>fc817953-cc8b-45db-9c85-7c0ced8fa90d</td>\n",
       "      <td>a44b37da-aa9b-37f0-993e-26e58974e086</td>\n",
       "      <td>ff678a28-0ee8-379c-80ab-2dc790cf67dd</td>\n",
       "      <td>7caa7254-5050-3b5e-9eae-bd5ea30e809c</td>\n",
       "      <td>General examination of patient (procedure)</td>\n",
       "      <td>NaN</td>\n",
       "      <td>129.16</td>\n",
       "      <td>129.16</td>\n",
       "      <td>wellness</td>\n",
       "      <td>NaN</td>\n",
       "      <td>NaN</td>\n",
       "      <td>NaN</td>\n",
       "      <td>PCP27951</td>\n",
       "      <td>WESTWOOD</td>\n",
       "      <td>12141.04</td>\n",
       "    </tr>\n",
       "    <tr>\n",
       "      <th>53344</th>\n",
       "      <td>5529a0d5-a24c-42b4-a32a-729e4d1f19ef</td>\n",
       "      <td>2018-07-07T17:27:52Z</td>\n",
       "      <td>2018-07-07T17:42:52Z</td>\n",
       "      <td>fc817953-cc8b-45db-9c85-7c0ced8fa90d</td>\n",
       "      <td>a44b37da-aa9b-37f0-993e-26e58974e086</td>\n",
       "      <td>ff678a28-0ee8-379c-80ab-2dc790cf67dd</td>\n",
       "      <td>7caa7254-5050-3b5e-9eae-bd5ea30e809c</td>\n",
       "      <td>General examination of patient (procedure)</td>\n",
       "      <td>NaN</td>\n",
       "      <td>129.16</td>\n",
       "      <td>129.16</td>\n",
       "      <td>wellness</td>\n",
       "      <td>NaN</td>\n",
       "      <td>NaN</td>\n",
       "      <td>NaN</td>\n",
       "      <td>PCP27951</td>\n",
       "      <td>WESTWOOD</td>\n",
       "      <td>12141.04</td>\n",
       "    </tr>\n",
       "    <tr>\n",
       "      <th>53345</th>\n",
       "      <td>1306d180-d887-4286-b940-9a6a2425cf93</td>\n",
       "      <td>2019-07-13T17:27:52Z</td>\n",
       "      <td>2019-07-13T17:57:52Z</td>\n",
       "      <td>fc817953-cc8b-45db-9c85-7c0ced8fa90d</td>\n",
       "      <td>a44b37da-aa9b-37f0-993e-26e58974e086</td>\n",
       "      <td>ff678a28-0ee8-379c-80ab-2dc790cf67dd</td>\n",
       "      <td>7caa7254-5050-3b5e-9eae-bd5ea30e809c</td>\n",
       "      <td>General examination of patient (procedure)</td>\n",
       "      <td>NaN</td>\n",
       "      <td>129.16</td>\n",
       "      <td>129.16</td>\n",
       "      <td>wellness</td>\n",
       "      <td>NaN</td>\n",
       "      <td>NaN</td>\n",
       "      <td>NaN</td>\n",
       "      <td>PCP27951</td>\n",
       "      <td>WESTWOOD</td>\n",
       "      <td>12141.04</td>\n",
       "    </tr>\n",
       "  </tbody>\n",
       "</table>\n",
       "<p>53346 rows × 18 columns</p>\n",
       "</div>"
      ],
      "text/plain": [
       "                                         Id                 START  \\\n",
       "0      d0c40d10-8d87-447e-836e-99d26ad52ea5  2010-01-23T17:45:28Z   \n",
       "1      e88bc3a9-007c-405e-aabc-792a38f4aa2b  2012-01-23T17:45:28Z   \n",
       "2      8f104aa7-4ca9-4473-885a-bba2437df588  2001-05-01T15:02:18Z   \n",
       "3      b85c339a-6076-43ed-b9d0-9cf013dec49d  2011-07-28T15:02:18Z   \n",
       "4      dae2b7cb-1316-4b78-954f-fa610a6c6d0e  2010-07-27T12:58:08Z   \n",
       "...                                     ...                   ...   \n",
       "53341  bd3bfc3c-4f52-4d9c-aa01-60a084b2ddcd  2015-06-20T17:27:52Z   \n",
       "53342  59727285-d30f-44e2-bcda-eac21ce07269  2016-06-25T17:27:52Z   \n",
       "53343  957b13d5-49fa-4518-8c25-6eaa45e6a7d1  2017-07-01T17:27:52Z   \n",
       "53344  5529a0d5-a24c-42b4-a32a-729e4d1f19ef  2018-07-07T17:27:52Z   \n",
       "53345  1306d180-d887-4286-b940-9a6a2425cf93  2019-07-13T17:27:52Z   \n",
       "\n",
       "                       STOP                            PATIENT_ID  \\\n",
       "0      2010-01-23T18:10:28Z  034e9e3b-2def-4559-bb2a-7850888ae060   \n",
       "1      2012-01-23T18:00:28Z  034e9e3b-2def-4559-bb2a-7850888ae060   \n",
       "2      2001-05-01T15:17:18Z  1d604da9-9a81-4ba9-80c2-de3375d59b40   \n",
       "3      2011-07-28T15:17:18Z  1d604da9-9a81-4ba9-80c2-de3375d59b40   \n",
       "4      2010-07-27T13:28:08Z  10339b10-3cd1-4ac3-ac13-ec26728cb592   \n",
       "...                     ...                                   ...   \n",
       "53341  2015-06-20T17:57:52Z  fc817953-cc8b-45db-9c85-7c0ced8fa90d   \n",
       "53342  2016-06-25T17:42:52Z  fc817953-cc8b-45db-9c85-7c0ced8fa90d   \n",
       "53343  2017-07-01T17:57:52Z  fc817953-cc8b-45db-9c85-7c0ced8fa90d   \n",
       "53344  2018-07-07T17:42:52Z  fc817953-cc8b-45db-9c85-7c0ced8fa90d   \n",
       "53345  2019-07-13T17:57:52Z  fc817953-cc8b-45db-9c85-7c0ced8fa90d   \n",
       "\n",
       "                                     ORG_ID  \\\n",
       "0      e002090d-4e92-300e-b41e-7d1f21dee4c6   \n",
       "1      772ee193-bb9f-30eb-9939-21e86c8e4da5   \n",
       "2      5d4b9df1-93ae-3bc9-b680-03249990e558   \n",
       "3      3dc9bb2d-5d66-3e61-bf9a-e234c6433577   \n",
       "4      b03dba4f-892f-365c-bfd1-bfcfa7a98d5d   \n",
       "...                                     ...   \n",
       "53341  a44b37da-aa9b-37f0-993e-26e58974e086   \n",
       "53342  a44b37da-aa9b-37f0-993e-26e58974e086   \n",
       "53343  a44b37da-aa9b-37f0-993e-26e58974e086   \n",
       "53344  a44b37da-aa9b-37f0-993e-26e58974e086   \n",
       "53345  a44b37da-aa9b-37f0-993e-26e58974e086   \n",
       "\n",
       "                                PROVIDER_ID  \\\n",
       "0      e6283e46-fd81-3611-9459-0edb1c3da357   \n",
       "1      6f1d59a7-a5bd-3cf9-9671-5bad2f351c28   \n",
       "2      af01a385-31d3-3c77-8fdb-2867fe88df2f   \n",
       "3      bb17e691-262b-3546-93d5-d88e7de93246   \n",
       "4      7ed6b84a-b847-3744-9d42-15c42297a0c2   \n",
       "...                                     ...   \n",
       "53341  ff678a28-0ee8-379c-80ab-2dc790cf67dd   \n",
       "53342  ff678a28-0ee8-379c-80ab-2dc790cf67dd   \n",
       "53343  ff678a28-0ee8-379c-80ab-2dc790cf67dd   \n",
       "53344  ff678a28-0ee8-379c-80ab-2dc790cf67dd   \n",
       "53345  ff678a28-0ee8-379c-80ab-2dc790cf67dd   \n",
       "\n",
       "                                   PAYER_ID  \\\n",
       "0      6e2f1a2d-27bd-3701-8d08-dae202c58632   \n",
       "1      6e2f1a2d-27bd-3701-8d08-dae202c58632   \n",
       "2      b1c428d6-4f07-31e0-90f0-68ffa6ff8c76   \n",
       "3      b1c428d6-4f07-31e0-90f0-68ffa6ff8c76   \n",
       "4      d47b3510-2895-3b70-9897-342d681c769d   \n",
       "...                                     ...   \n",
       "53341  7caa7254-5050-3b5e-9eae-bd5ea30e809c   \n",
       "53342  7caa7254-5050-3b5e-9eae-bd5ea30e809c   \n",
       "53343  7caa7254-5050-3b5e-9eae-bd5ea30e809c   \n",
       "53344  7caa7254-5050-3b5e-9eae-bd5ea30e809c   \n",
       "53345  7caa7254-5050-3b5e-9eae-bd5ea30e809c   \n",
       "\n",
       "                                      DESCRIPTION  \\\n",
       "0                           Encounter for symptom   \n",
       "1      General examination of patient (procedure)   \n",
       "2                           Encounter for symptom   \n",
       "3      General examination of patient (procedure)   \n",
       "4      General examination of patient (procedure)   \n",
       "...                                           ...   \n",
       "53341  General examination of patient (procedure)   \n",
       "53342  General examination of patient (procedure)   \n",
       "53343  General examination of patient (procedure)   \n",
       "53344  General examination of patient (procedure)   \n",
       "53345  General examination of patient (procedure)   \n",
       "\n",
       "                            REASON  BASE_ENCOUNTER_COST  PAYER_COVERAGE  \\\n",
       "0      Acute bronchitis (disorder)               129.16           54.16   \n",
       "1                              NaN               129.16          129.16   \n",
       "2             Sinusitis (disorder)               129.16            0.00   \n",
       "3                              NaN               129.16            0.00   \n",
       "4                              NaN               129.16          129.16   \n",
       "...                            ...                  ...             ...   \n",
       "53341                          NaN               129.16          129.16   \n",
       "53342                          NaN               129.16          129.16   \n",
       "53343                          NaN               129.16          129.16   \n",
       "53344                          NaN               129.16          129.16   \n",
       "53345                          NaN               129.16          129.16   \n",
       "\n",
       "      ENCOUNTERCLASS        CITY   AGE              PATIENT_NAME  \\\n",
       "0         ambulatory  Somerville  37.0           Milo271 Feil794   \n",
       "1           wellness  Somerville  37.0           Milo271 Feil794   \n",
       "2         ambulatory    Chicopee  31.0  José Eduardo181 Gómez206   \n",
       "3           wellness    Chicopee  31.0  José Eduardo181 Gómez206   \n",
       "4           wellness    Chicopee  28.0        Jayson808 Fadel536   \n",
       "...              ...         ...   ...                       ...   \n",
       "53341       wellness         NaN   NaN                       NaN   \n",
       "53342       wellness         NaN   NaN                       NaN   \n",
       "53343       wellness         NaN   NaN                       NaN   \n",
       "53344       wellness         NaN   NaN                       NaN   \n",
       "53345       wellness         NaN   NaN                       NaN   \n",
       "\n",
       "                                    ORG_NAME      ORG_CITY    REVENUE  \n",
       "0                  CAMBRIDGE HEALTH ALLIANCE     CAMBRIDGE  406053.19  \n",
       "1                                   PCP20565     CAMBRIDGE    4262.28  \n",
       "2                     HOLYOKE MEDICAL CENTER       HOLYOKE  327601.37  \n",
       "3                                   PCP12399  SOUTH HADLEY    7491.28  \n",
       "4      WESTERN MASS PHYSICIAN ASSOCIATES INC      CHICOPEE    7620.44  \n",
       "...                                      ...           ...        ...  \n",
       "53341                               PCP27951      WESTWOOD   12141.04  \n",
       "53342                               PCP27951      WESTWOOD   12141.04  \n",
       "53343                               PCP27951      WESTWOOD   12141.04  \n",
       "53344                               PCP27951      WESTWOOD   12141.04  \n",
       "53345                               PCP27951      WESTWOOD   12141.04  \n",
       "\n",
       "[53346 rows x 18 columns]"
      ]
     },
     "execution_count": 67,
     "metadata": {},
     "output_type": "execute_result"
    }
   ],
   "source": [
    "# JOIN TO  ENCOUNTERS\n",
    "encounter=encounter.join(organisations,on=\"ORG_ID\")\n",
    "encounter"
   ]
  },
  {
   "cell_type": "markdown",
   "metadata": {},
   "source": [
    "#### III HEALTHCARE PROFESSIONALS"
   ]
  },
  {
   "cell_type": "code",
   "execution_count": 68,
   "metadata": {},
   "outputs": [
    {
     "data": {
      "text/html": [
       "<div>\n",
       "<style scoped>\n",
       "    .dataframe tbody tr th:only-of-type {\n",
       "        vertical-align: middle;\n",
       "    }\n",
       "\n",
       "    .dataframe tbody tr th {\n",
       "        vertical-align: top;\n",
       "    }\n",
       "\n",
       "    .dataframe thead th {\n",
       "        text-align: right;\n",
       "    }\n",
       "</style>\n",
       "<table border=\"1\" class=\"dataframe\">\n",
       "  <thead>\n",
       "    <tr style=\"text-align: right;\">\n",
       "      <th></th>\n",
       "      <th>Id</th>\n",
       "      <th>ORGANIZATION</th>\n",
       "      <th>NAME</th>\n",
       "      <th>GENDER</th>\n",
       "      <th>SPECIALITY</th>\n",
       "      <th>ADDRESS</th>\n",
       "      <th>CITY</th>\n",
       "      <th>STATE</th>\n",
       "      <th>ZIP</th>\n",
       "      <th>LAT</th>\n",
       "      <th>LON</th>\n",
       "      <th>UTILIZATION</th>\n",
       "    </tr>\n",
       "  </thead>\n",
       "  <tbody>\n",
       "    <tr>\n",
       "      <th>1505</th>\n",
       "      <td>4f079296-dcf4-3501-9f2e-ab73dec6b8f0</td>\n",
       "      <td>a765c05e-ac8a-391d-bab9-3d70749cd6e8</td>\n",
       "      <td>Sylvester827 Block661</td>\n",
       "      <td>M</td>\n",
       "      <td>NURSE PRACTITIONER</td>\n",
       "      <td>585 LEBANON ST</td>\n",
       "      <td>MELROSE</td>\n",
       "      <td>MA</td>\n",
       "      <td>02176-3225</td>\n",
       "      <td>42.455723</td>\n",
       "      <td>-71.059019</td>\n",
       "      <td>0</td>\n",
       "    </tr>\n",
       "    <tr>\n",
       "      <th>1824</th>\n",
       "      <td>675d796b-1724-334c-8e30-6c4b5bf5418e</td>\n",
       "      <td>819cb4e2-fb1c-3917-80c9-fdb705d2cd19</td>\n",
       "      <td>Reggie481 Fadel536</td>\n",
       "      <td>M</td>\n",
       "      <td>NEPHROLOGY</td>\n",
       "      <td>1575 CAMBRIDGE ST</td>\n",
       "      <td>CAMBRIDGE</td>\n",
       "      <td>MA</td>\n",
       "      <td>02138-4308</td>\n",
       "      <td>42.376043</td>\n",
       "      <td>-71.118680</td>\n",
       "      <td>0</td>\n",
       "    </tr>\n",
       "    <tr>\n",
       "      <th>1256</th>\n",
       "      <td>e341d173-1d9e-3285-8808-19d504a70d80</td>\n",
       "      <td>c1414e2c-48df-3428-92a4-ac36114a2a45</td>\n",
       "      <td>Jude172 Franecki195</td>\n",
       "      <td>F</td>\n",
       "      <td>GENERAL PRACTICE</td>\n",
       "      <td>160 ROUTE 137</td>\n",
       "      <td>EAST HARWICH</td>\n",
       "      <td>MA</td>\n",
       "      <td>02645-1316</td>\n",
       "      <td>41.708597</td>\n",
       "      <td>-70.031856</td>\n",
       "      <td>230</td>\n",
       "    </tr>\n",
       "  </tbody>\n",
       "</table>\n",
       "</div>"
      ],
      "text/plain": [
       "                                        Id  \\\n",
       "1505  4f079296-dcf4-3501-9f2e-ab73dec6b8f0   \n",
       "1824  675d796b-1724-334c-8e30-6c4b5bf5418e   \n",
       "1256  e341d173-1d9e-3285-8808-19d504a70d80   \n",
       "\n",
       "                              ORGANIZATION                   NAME GENDER  \\\n",
       "1505  a765c05e-ac8a-391d-bab9-3d70749cd6e8  Sylvester827 Block661      M   \n",
       "1824  819cb4e2-fb1c-3917-80c9-fdb705d2cd19     Reggie481 Fadel536      M   \n",
       "1256  c1414e2c-48df-3428-92a4-ac36114a2a45    Jude172 Franecki195      F   \n",
       "\n",
       "              SPECIALITY            ADDRESS          CITY STATE         ZIP  \\\n",
       "1505  NURSE PRACTITIONER     585 LEBANON ST       MELROSE    MA  02176-3225   \n",
       "1824          NEPHROLOGY  1575 CAMBRIDGE ST     CAMBRIDGE    MA  02138-4308   \n",
       "1256    GENERAL PRACTICE      160 ROUTE 137  EAST HARWICH    MA  02645-1316   \n",
       "\n",
       "            LAT        LON  UTILIZATION  \n",
       "1505  42.455723 -71.059019            0  \n",
       "1824  42.376043 -71.118680            0  \n",
       "1256  41.708597 -70.031856          230  "
      ]
     },
     "execution_count": 68,
     "metadata": {},
     "output_type": "execute_result"
    }
   ],
   "source": [
    "providers=pd.read_csv(files[\"providers\"])\n",
    "providers.sample(3)"
   ]
  },
  {
   "cell_type": "code",
   "execution_count": 69,
   "metadata": {},
   "outputs": [
    {
     "data": {
      "text/html": [
       "<div>\n",
       "<style scoped>\n",
       "    .dataframe tbody tr th:only-of-type {\n",
       "        vertical-align: middle;\n",
       "    }\n",
       "\n",
       "    .dataframe tbody tr th {\n",
       "        vertical-align: top;\n",
       "    }\n",
       "\n",
       "    .dataframe thead th {\n",
       "        text-align: right;\n",
       "    }\n",
       "</style>\n",
       "<table border=\"1\" class=\"dataframe\">\n",
       "  <thead>\n",
       "    <tr style=\"text-align: right;\">\n",
       "      <th></th>\n",
       "      <th>PROVIDER_NAME</th>\n",
       "      <th>GENDER</th>\n",
       "      <th>SPECIALITY</th>\n",
       "    </tr>\n",
       "    <tr>\n",
       "      <th>PROVIDER_ID</th>\n",
       "      <th></th>\n",
       "      <th></th>\n",
       "      <th></th>\n",
       "    </tr>\n",
       "  </thead>\n",
       "  <tbody>\n",
       "    <tr>\n",
       "      <th>2840e8f1-5624-3913-9996-f7639e07e76b</th>\n",
       "      <td>Nelly786 Jaskolski867</td>\n",
       "      <td>F</td>\n",
       "      <td>OTOLARYNGOLOGY</td>\n",
       "    </tr>\n",
       "    <tr>\n",
       "      <th>f785281d-56f1-3635-9d06-946eddb1ec63</th>\n",
       "      <td>Demarcus108 Jast432</td>\n",
       "      <td>M</td>\n",
       "      <td>CHIROPRACTIC</td>\n",
       "    </tr>\n",
       "    <tr>\n",
       "      <th>25e15180-dcb5-3c74-a8f0-5be7881fa41d</th>\n",
       "      <td>Danna372 Okuneva707</td>\n",
       "      <td>F</td>\n",
       "      <td>OTOLARYNGOLOGY</td>\n",
       "    </tr>\n",
       "  </tbody>\n",
       "</table>\n",
       "</div>"
      ],
      "text/plain": [
       "                                              PROVIDER_NAME GENDER  \\\n",
       "PROVIDER_ID                                                          \n",
       "2840e8f1-5624-3913-9996-f7639e07e76b  Nelly786 Jaskolski867      F   \n",
       "f785281d-56f1-3635-9d06-946eddb1ec63    Demarcus108 Jast432      M   \n",
       "25e15180-dcb5-3c74-a8f0-5be7881fa41d    Danna372 Okuneva707      F   \n",
       "\n",
       "                                          SPECIALITY  \n",
       "PROVIDER_ID                                           \n",
       "2840e8f1-5624-3913-9996-f7639e07e76b  OTOLARYNGOLOGY  \n",
       "f785281d-56f1-3635-9d06-946eddb1ec63    CHIROPRACTIC  \n",
       "25e15180-dcb5-3c74-a8f0-5be7881fa41d  OTOLARYNGOLOGY  "
      ]
     },
     "execution_count": 69,
     "metadata": {},
     "output_type": "execute_result"
    }
   ],
   "source": [
    "providers=providers[[\"Id\",\"NAME\",\"GENDER\",\"SPECIALITY\"]]\n",
    "providers=providers.rename(columns={\"NAME\":\"PROVIDER_NAME\",\"Id\":\"PROVIDER_ID\"})\n",
    "providers=providers.set_index(\"PROVIDER_ID\")\n",
    "providers.sample(3)"
   ]
  },
  {
   "cell_type": "code",
   "execution_count": 70,
   "metadata": {},
   "outputs": [
    {
     "data": {
      "text/html": [
       "<div>\n",
       "<style scoped>\n",
       "    .dataframe tbody tr th:only-of-type {\n",
       "        vertical-align: middle;\n",
       "    }\n",
       "\n",
       "    .dataframe tbody tr th {\n",
       "        vertical-align: top;\n",
       "    }\n",
       "\n",
       "    .dataframe thead th {\n",
       "        text-align: right;\n",
       "    }\n",
       "</style>\n",
       "<table border=\"1\" class=\"dataframe\">\n",
       "  <thead>\n",
       "    <tr style=\"text-align: right;\">\n",
       "      <th></th>\n",
       "      <th>Id</th>\n",
       "      <th>START</th>\n",
       "      <th>STOP</th>\n",
       "      <th>PATIENT_ID</th>\n",
       "      <th>ORG_ID</th>\n",
       "      <th>PROVIDER_ID</th>\n",
       "      <th>PAYER_ID</th>\n",
       "      <th>DESCRIPTION</th>\n",
       "      <th>REASON</th>\n",
       "      <th>BASE_ENCOUNTER_COST</th>\n",
       "      <th>...</th>\n",
       "      <th>ENCOUNTERCLASS</th>\n",
       "      <th>CITY</th>\n",
       "      <th>AGE</th>\n",
       "      <th>PATIENT_NAME</th>\n",
       "      <th>ORG_NAME</th>\n",
       "      <th>ORG_CITY</th>\n",
       "      <th>REVENUE</th>\n",
       "      <th>PROVIDER_NAME</th>\n",
       "      <th>GENDER</th>\n",
       "      <th>SPECIALITY</th>\n",
       "    </tr>\n",
       "  </thead>\n",
       "  <tbody>\n",
       "    <tr>\n",
       "      <th>2539</th>\n",
       "      <td>40a0cbb2-de8f-48fe-9f77-1315c17cb4c3</td>\n",
       "      <td>2016-03-04T04:10:32Z</td>\n",
       "      <td>2016-03-04T04:25:32Z</td>\n",
       "      <td>dadd331c-6143-41d1-bffb-d34b321ed157</td>\n",
       "      <td>a3d316af-a158-37b2-bcc6-b014ddb08fa9</td>\n",
       "      <td>c421ce4f-75c3-317c-9754-7544158afca2</td>\n",
       "      <td>5059a55e-5d6e-34d1-b6cb-d83d16e57bcf</td>\n",
       "      <td>General examination of patient (procedure)</td>\n",
       "      <td>NaN</td>\n",
       "      <td>129.16</td>\n",
       "      <td>...</td>\n",
       "      <td>wellness</td>\n",
       "      <td>Dedham</td>\n",
       "      <td>44.0</td>\n",
       "      <td>Shirley182 Borer986</td>\n",
       "      <td>PCP65288</td>\n",
       "      <td>DEDHAM</td>\n",
       "      <td>6716.32</td>\n",
       "      <td>Gil594 Schultz619</td>\n",
       "      <td>M</td>\n",
       "      <td>GENERAL PRACTICE</td>\n",
       "    </tr>\n",
       "    <tr>\n",
       "      <th>19725</th>\n",
       "      <td>2369f5c0-98b0-4565-8053-855e7f2c140c</td>\n",
       "      <td>2011-04-09T13:45:16Z</td>\n",
       "      <td>2011-04-09T14:15:16Z</td>\n",
       "      <td>0e866809-bc7a-4014-850d-06228ed80226</td>\n",
       "      <td>5ebb2110-3a7b-32c6-adf5-60f42b27af76</td>\n",
       "      <td>7153c562-d21b-3e10-a122-88ba818da40a</td>\n",
       "      <td>7c4411ce-02f1-39b5-b9ec-dfbea9ad3c1a</td>\n",
       "      <td>General examination of patient (procedure)</td>\n",
       "      <td>NaN</td>\n",
       "      <td>129.16</td>\n",
       "      <td>...</td>\n",
       "      <td>wellness</td>\n",
       "      <td>Holyoke</td>\n",
       "      <td>65.0</td>\n",
       "      <td>Sheldon401 Powlowski563</td>\n",
       "      <td>PCP30214</td>\n",
       "      <td>EASTHAMPTON</td>\n",
       "      <td>6974.64</td>\n",
       "      <td>Malia984 O'Kon634</td>\n",
       "      <td>F</td>\n",
       "      <td>GENERAL PRACTICE</td>\n",
       "    </tr>\n",
       "    <tr>\n",
       "      <th>34447</th>\n",
       "      <td>b5fc3e8d-6070-4021-9107-ce76281f35ea</td>\n",
       "      <td>2017-06-17T10:57:26Z</td>\n",
       "      <td>2017-06-17T11:12:26Z</td>\n",
       "      <td>ff6948b7-3d62-4bfc-bc7d-dbb6748ed0be</td>\n",
       "      <td>23834663-ed53-3da9-b330-d6e1ecb8428e</td>\n",
       "      <td>af42f305-3f0c-396d-8303-9cbdb900a516</td>\n",
       "      <td>b1c428d6-4f07-31e0-90f0-68ffa6ff8c76</td>\n",
       "      <td>Encounter for problem (procedure)</td>\n",
       "      <td>NaN</td>\n",
       "      <td>129.16</td>\n",
       "      <td>...</td>\n",
       "      <td>outpatient</td>\n",
       "      <td>Fall River</td>\n",
       "      <td>43.0</td>\n",
       "      <td>Kris249 Champlin946</td>\n",
       "      <td>SOUTHCOAST HOSPITAL GROUP  INC</td>\n",
       "      <td>FALL RIVER</td>\n",
       "      <td>222412.59</td>\n",
       "      <td>Myong12 Heidenreich818</td>\n",
       "      <td>F</td>\n",
       "      <td>GENERAL PRACTICE</td>\n",
       "    </tr>\n",
       "  </tbody>\n",
       "</table>\n",
       "<p>3 rows × 21 columns</p>\n",
       "</div>"
      ],
      "text/plain": [
       "                                         Id                 START  \\\n",
       "2539   40a0cbb2-de8f-48fe-9f77-1315c17cb4c3  2016-03-04T04:10:32Z   \n",
       "19725  2369f5c0-98b0-4565-8053-855e7f2c140c  2011-04-09T13:45:16Z   \n",
       "34447  b5fc3e8d-6070-4021-9107-ce76281f35ea  2017-06-17T10:57:26Z   \n",
       "\n",
       "                       STOP                            PATIENT_ID  \\\n",
       "2539   2016-03-04T04:25:32Z  dadd331c-6143-41d1-bffb-d34b321ed157   \n",
       "19725  2011-04-09T14:15:16Z  0e866809-bc7a-4014-850d-06228ed80226   \n",
       "34447  2017-06-17T11:12:26Z  ff6948b7-3d62-4bfc-bc7d-dbb6748ed0be   \n",
       "\n",
       "                                     ORG_ID  \\\n",
       "2539   a3d316af-a158-37b2-bcc6-b014ddb08fa9   \n",
       "19725  5ebb2110-3a7b-32c6-adf5-60f42b27af76   \n",
       "34447  23834663-ed53-3da9-b330-d6e1ecb8428e   \n",
       "\n",
       "                                PROVIDER_ID  \\\n",
       "2539   c421ce4f-75c3-317c-9754-7544158afca2   \n",
       "19725  7153c562-d21b-3e10-a122-88ba818da40a   \n",
       "34447  af42f305-3f0c-396d-8303-9cbdb900a516   \n",
       "\n",
       "                                   PAYER_ID  \\\n",
       "2539   5059a55e-5d6e-34d1-b6cb-d83d16e57bcf   \n",
       "19725  7c4411ce-02f1-39b5-b9ec-dfbea9ad3c1a   \n",
       "34447  b1c428d6-4f07-31e0-90f0-68ffa6ff8c76   \n",
       "\n",
       "                                      DESCRIPTION REASON  BASE_ENCOUNTER_COST  \\\n",
       "2539   General examination of patient (procedure)    NaN               129.16   \n",
       "19725  General examination of patient (procedure)    NaN               129.16   \n",
       "34447           Encounter for problem (procedure)    NaN               129.16   \n",
       "\n",
       "       ...  ENCOUNTERCLASS        CITY   AGE             PATIENT_NAME  \\\n",
       "2539   ...        wellness      Dedham  44.0      Shirley182 Borer986   \n",
       "19725  ...        wellness     Holyoke  65.0  Sheldon401 Powlowski563   \n",
       "34447  ...      outpatient  Fall River  43.0      Kris249 Champlin946   \n",
       "\n",
       "                             ORG_NAME     ORG_CITY    REVENUE  \\\n",
       "2539                         PCP65288       DEDHAM    6716.32   \n",
       "19725                        PCP30214  EASTHAMPTON    6974.64   \n",
       "34447  SOUTHCOAST HOSPITAL GROUP  INC   FALL RIVER  222412.59   \n",
       "\n",
       "                PROVIDER_NAME GENDER        SPECIALITY  \n",
       "2539        Gil594 Schultz619      M  GENERAL PRACTICE  \n",
       "19725       Malia984 O'Kon634      F  GENERAL PRACTICE  \n",
       "34447  Myong12 Heidenreich818      F  GENERAL PRACTICE  \n",
       "\n",
       "[3 rows x 21 columns]"
      ]
     },
     "execution_count": 70,
     "metadata": {},
     "output_type": "execute_result"
    }
   ],
   "source": [
    "# join provider and hospitals\n",
    "encounter=encounter.join(providers,on=\"PROVIDER_ID\")\n",
    "encounter.sample(3)"
   ]
  },
  {
   "cell_type": "markdown",
   "metadata": {},
   "source": [
    "#### IV  - INSURANCE COMPANIES"
   ]
  },
  {
   "cell_type": "code",
   "execution_count": 71,
   "metadata": {},
   "outputs": [
    {
     "data": {
      "text/html": [
       "<div>\n",
       "<style scoped>\n",
       "    .dataframe tbody tr th:only-of-type {\n",
       "        vertical-align: middle;\n",
       "    }\n",
       "\n",
       "    .dataframe tbody tr th {\n",
       "        vertical-align: top;\n",
       "    }\n",
       "\n",
       "    .dataframe thead th {\n",
       "        text-align: right;\n",
       "    }\n",
       "</style>\n",
       "<table border=\"1\" class=\"dataframe\">\n",
       "  <thead>\n",
       "    <tr style=\"text-align: right;\">\n",
       "      <th></th>\n",
       "      <th>Id</th>\n",
       "      <th>NAME</th>\n",
       "      <th>ADDRESS</th>\n",
       "      <th>CITY</th>\n",
       "      <th>STATE_HEADQUARTERED</th>\n",
       "      <th>ZIP</th>\n",
       "      <th>PHONE</th>\n",
       "      <th>AMOUNT_COVERED</th>\n",
       "      <th>AMOUNT_UNCOVERED</th>\n",
       "      <th>REVENUE</th>\n",
       "      <th>...</th>\n",
       "      <th>UNCOVERED_ENCOUNTERS</th>\n",
       "      <th>COVERED_MEDICATIONS</th>\n",
       "      <th>UNCOVERED_MEDICATIONS</th>\n",
       "      <th>COVERED_PROCEDURES</th>\n",
       "      <th>UNCOVERED_PROCEDURES</th>\n",
       "      <th>COVERED_IMMUNIZATIONS</th>\n",
       "      <th>UNCOVERED_IMMUNIZATIONS</th>\n",
       "      <th>UNIQUE_CUSTOMERS</th>\n",
       "      <th>QOLS_AVG</th>\n",
       "      <th>MEMBER_MONTHS</th>\n",
       "    </tr>\n",
       "  </thead>\n",
       "  <tbody>\n",
       "    <tr>\n",
       "      <th>2</th>\n",
       "      <td>7c4411ce-02f1-39b5-b9ec-dfbea9ad3c1a</td>\n",
       "      <td>Medicaid</td>\n",
       "      <td>7500 Security Blvd</td>\n",
       "      <td>Baltimore</td>\n",
       "      <td>MD</td>\n",
       "      <td>21244.0</td>\n",
       "      <td>1-877-267-2323</td>\n",
       "      <td>3636994.03</td>\n",
       "      <td>1814967.93</td>\n",
       "      <td>20365500.0</td>\n",
       "      <td>...</td>\n",
       "      <td>0</td>\n",
       "      <td>6382</td>\n",
       "      <td>0</td>\n",
       "      <td>47611</td>\n",
       "      <td>0</td>\n",
       "      <td>7022</td>\n",
       "      <td>0</td>\n",
       "      <td>507</td>\n",
       "      <td>0.812137</td>\n",
       "      <td>84276</td>\n",
       "    </tr>\n",
       "    <tr>\n",
       "      <th>1</th>\n",
       "      <td>7caa7254-5050-3b5e-9eae-bd5ea30e809c</td>\n",
       "      <td>Medicare</td>\n",
       "      <td>7500 Security Blvd</td>\n",
       "      <td>Baltimore</td>\n",
       "      <td>MD</td>\n",
       "      <td>21244.0</td>\n",
       "      <td>1-800-633-4227</td>\n",
       "      <td>4756720.13</td>\n",
       "      <td>890394.37</td>\n",
       "      <td>7122250.0</td>\n",
       "      <td>...</td>\n",
       "      <td>0</td>\n",
       "      <td>13471</td>\n",
       "      <td>0</td>\n",
       "      <td>7383</td>\n",
       "      <td>0</td>\n",
       "      <td>2557</td>\n",
       "      <td>0</td>\n",
       "      <td>198</td>\n",
       "      <td>0.786223</td>\n",
       "      <td>29760</td>\n",
       "    </tr>\n",
       "    <tr>\n",
       "      <th>3</th>\n",
       "      <td>d47b3510-2895-3b70-9897-342d681c769d</td>\n",
       "      <td>Humana</td>\n",
       "      <td>500 West Main St</td>\n",
       "      <td>Louisville</td>\n",
       "      <td>KY</td>\n",
       "      <td>40018.0</td>\n",
       "      <td>1-844-330-7799</td>\n",
       "      <td>716971.60</td>\n",
       "      <td>842531.43</td>\n",
       "      <td>118500200.0</td>\n",
       "      <td>...</td>\n",
       "      <td>1796</td>\n",
       "      <td>0</td>\n",
       "      <td>4985</td>\n",
       "      <td>12718</td>\n",
       "      <td>550</td>\n",
       "      <td>6832</td>\n",
       "      <td>195</td>\n",
       "      <td>281</td>\n",
       "      <td>0.911843</td>\n",
       "      <td>70308</td>\n",
       "    </tr>\n",
       "  </tbody>\n",
       "</table>\n",
       "<p>3 rows × 21 columns</p>\n",
       "</div>"
      ],
      "text/plain": [
       "                                     Id      NAME             ADDRESS  \\\n",
       "2  7c4411ce-02f1-39b5-b9ec-dfbea9ad3c1a  Medicaid  7500 Security Blvd   \n",
       "1  7caa7254-5050-3b5e-9eae-bd5ea30e809c  Medicare  7500 Security Blvd   \n",
       "3  d47b3510-2895-3b70-9897-342d681c769d    Humana    500 West Main St   \n",
       "\n",
       "         CITY STATE_HEADQUARTERED      ZIP           PHONE  AMOUNT_COVERED  \\\n",
       "2   Baltimore                  MD  21244.0  1-877-267-2323      3636994.03   \n",
       "1   Baltimore                  MD  21244.0  1-800-633-4227      4756720.13   \n",
       "3  Louisville                  KY  40018.0  1-844-330-7799       716971.60   \n",
       "\n",
       "   AMOUNT_UNCOVERED      REVENUE  ...  UNCOVERED_ENCOUNTERS  \\\n",
       "2        1814967.93   20365500.0  ...                     0   \n",
       "1         890394.37    7122250.0  ...                     0   \n",
       "3         842531.43  118500200.0  ...                  1796   \n",
       "\n",
       "   COVERED_MEDICATIONS  UNCOVERED_MEDICATIONS  COVERED_PROCEDURES  \\\n",
       "2                 6382                      0               47611   \n",
       "1                13471                      0                7383   \n",
       "3                    0                   4985               12718   \n",
       "\n",
       "   UNCOVERED_PROCEDURES  COVERED_IMMUNIZATIONS  UNCOVERED_IMMUNIZATIONS  \\\n",
       "2                     0                   7022                        0   \n",
       "1                     0                   2557                        0   \n",
       "3                   550                   6832                      195   \n",
       "\n",
       "   UNIQUE_CUSTOMERS  QOLS_AVG  MEMBER_MONTHS  \n",
       "2               507  0.812137          84276  \n",
       "1               198  0.786223          29760  \n",
       "3               281  0.911843          70308  \n",
       "\n",
       "[3 rows x 21 columns]"
      ]
     },
     "execution_count": 71,
     "metadata": {},
     "output_type": "execute_result"
    }
   ],
   "source": [
    "payers=pd.read_csv(files[\"payers\"])\n",
    "payers.sample(3)"
   ]
  },
  {
   "cell_type": "code",
   "execution_count": 72,
   "metadata": {},
   "outputs": [
    {
     "data": {
      "text/html": [
       "<div>\n",
       "<style scoped>\n",
       "    .dataframe tbody tr th:only-of-type {\n",
       "        vertical-align: middle;\n",
       "    }\n",
       "\n",
       "    .dataframe tbody tr th {\n",
       "        vertical-align: top;\n",
       "    }\n",
       "\n",
       "    .dataframe thead th {\n",
       "        text-align: right;\n",
       "    }\n",
       "</style>\n",
       "<table border=\"1\" class=\"dataframe\">\n",
       "  <thead>\n",
       "    <tr style=\"text-align: right;\">\n",
       "      <th></th>\n",
       "      <th>PAYER_NAME</th>\n",
       "    </tr>\n",
       "    <tr>\n",
       "      <th>PAYER_ID</th>\n",
       "      <th></th>\n",
       "    </tr>\n",
       "  </thead>\n",
       "  <tbody>\n",
       "    <tr>\n",
       "      <th>b3221cfc-24fb-339e-823d-bc4136cbc4ed</th>\n",
       "      <td>Dual Eligible</td>\n",
       "    </tr>\n",
       "    <tr>\n",
       "      <th>7caa7254-5050-3b5e-9eae-bd5ea30e809c</th>\n",
       "      <td>Medicare</td>\n",
       "    </tr>\n",
       "    <tr>\n",
       "      <th>7c4411ce-02f1-39b5-b9ec-dfbea9ad3c1a</th>\n",
       "      <td>Medicaid</td>\n",
       "    </tr>\n",
       "    <tr>\n",
       "      <th>d47b3510-2895-3b70-9897-342d681c769d</th>\n",
       "      <td>Humana</td>\n",
       "    </tr>\n",
       "    <tr>\n",
       "      <th>6e2f1a2d-27bd-3701-8d08-dae202c58632</th>\n",
       "      <td>Blue Cross Blue Shield</td>\n",
       "    </tr>\n",
       "    <tr>\n",
       "      <th>5059a55e-5d6e-34d1-b6cb-d83d16e57bcf</th>\n",
       "      <td>UnitedHealthcare</td>\n",
       "    </tr>\n",
       "    <tr>\n",
       "      <th>4d71f845-a6a9-3c39-b242-14d25ef86a8d</th>\n",
       "      <td>Aetna</td>\n",
       "    </tr>\n",
       "    <tr>\n",
       "      <th>047f6ec3-6215-35eb-9608-f9dda363a44c</th>\n",
       "      <td>Cigna Health</td>\n",
       "    </tr>\n",
       "    <tr>\n",
       "      <th>42c4fca7-f8a9-3cd1-982a-dd9751bf3e2a</th>\n",
       "      <td>Anthem</td>\n",
       "    </tr>\n",
       "    <tr>\n",
       "      <th>b1c428d6-4f07-31e0-90f0-68ffa6ff8c76</th>\n",
       "      <td>NO_INSURANCE</td>\n",
       "    </tr>\n",
       "  </tbody>\n",
       "</table>\n",
       "</div>"
      ],
      "text/plain": [
       "                                                  PAYER_NAME\n",
       "PAYER_ID                                                    \n",
       "b3221cfc-24fb-339e-823d-bc4136cbc4ed           Dual Eligible\n",
       "7caa7254-5050-3b5e-9eae-bd5ea30e809c                Medicare\n",
       "7c4411ce-02f1-39b5-b9ec-dfbea9ad3c1a                Medicaid\n",
       "d47b3510-2895-3b70-9897-342d681c769d                  Humana\n",
       "6e2f1a2d-27bd-3701-8d08-dae202c58632  Blue Cross Blue Shield\n",
       "5059a55e-5d6e-34d1-b6cb-d83d16e57bcf        UnitedHealthcare\n",
       "4d71f845-a6a9-3c39-b242-14d25ef86a8d                   Aetna\n",
       "047f6ec3-6215-35eb-9608-f9dda363a44c            Cigna Health\n",
       "42c4fca7-f8a9-3cd1-982a-dd9751bf3e2a                  Anthem\n",
       "b1c428d6-4f07-31e0-90f0-68ffa6ff8c76            NO_INSURANCE"
      ]
     },
     "execution_count": 72,
     "metadata": {},
     "output_type": "execute_result"
    }
   ],
   "source": [
    "payers=payers[[\"NAME\",\"Id\"]]\n",
    "payers=payers.rename(columns={\"NAME\":\"PAYER_NAME\",\"Id\":\"PAYER_ID\"})\n",
    "payers=payers.set_index(\"PAYER_ID\")\n",
    "payers"
   ]
  },
  {
   "cell_type": "code",
   "execution_count": 73,
   "metadata": {},
   "outputs": [
    {
     "data": {
      "text/html": [
       "<div>\n",
       "<style scoped>\n",
       "    .dataframe tbody tr th:only-of-type {\n",
       "        vertical-align: middle;\n",
       "    }\n",
       "\n",
       "    .dataframe tbody tr th {\n",
       "        vertical-align: top;\n",
       "    }\n",
       "\n",
       "    .dataframe thead th {\n",
       "        text-align: right;\n",
       "    }\n",
       "</style>\n",
       "<table border=\"1\" class=\"dataframe\">\n",
       "  <thead>\n",
       "    <tr style=\"text-align: right;\">\n",
       "      <th></th>\n",
       "      <th>Id</th>\n",
       "      <th>START</th>\n",
       "      <th>STOP</th>\n",
       "      <th>PATIENT_ID</th>\n",
       "      <th>ORG_ID</th>\n",
       "      <th>PROVIDER_ID</th>\n",
       "      <th>PAYER_ID</th>\n",
       "      <th>DESCRIPTION</th>\n",
       "      <th>REASON</th>\n",
       "      <th>BASE_ENCOUNTER_COST</th>\n",
       "      <th>...</th>\n",
       "      <th>CITY</th>\n",
       "      <th>AGE</th>\n",
       "      <th>PATIENT_NAME</th>\n",
       "      <th>ORG_NAME</th>\n",
       "      <th>ORG_CITY</th>\n",
       "      <th>REVENUE</th>\n",
       "      <th>PROVIDER_NAME</th>\n",
       "      <th>GENDER</th>\n",
       "      <th>SPECIALITY</th>\n",
       "      <th>PAYER_NAME</th>\n",
       "    </tr>\n",
       "  </thead>\n",
       "  <tbody>\n",
       "    <tr>\n",
       "      <th>38257</th>\n",
       "      <td>983d84b0-e93e-42f3-a1c8-06fef1f7d2a0</td>\n",
       "      <td>2013-03-04T08:54:26Z</td>\n",
       "      <td>2013-03-04T09:24:26Z</td>\n",
       "      <td>04db6603-0017-4cc6-a46d-6df577b0a10d</td>\n",
       "      <td>6ffe62de-5d90-3cc7-be16-643a7496c817</td>\n",
       "      <td>bd8ee454-312d-3bb6-9d18-95f07366c516</td>\n",
       "      <td>7c4411ce-02f1-39b5-b9ec-dfbea9ad3c1a</td>\n",
       "      <td>General examination of patient (procedure)</td>\n",
       "      <td>NaN</td>\n",
       "      <td>129.16</td>\n",
       "      <td>...</td>\n",
       "      <td>Leverett</td>\n",
       "      <td>48.0</td>\n",
       "      <td>Angella518 Reynolds644</td>\n",
       "      <td>PCP8458</td>\n",
       "      <td>SUNDERLAND</td>\n",
       "      <td>7232.96</td>\n",
       "      <td>Augustine565 Fisher429</td>\n",
       "      <td>M</td>\n",
       "      <td>GENERAL PRACTICE</td>\n",
       "      <td>Medicaid</td>\n",
       "    </tr>\n",
       "    <tr>\n",
       "      <th>32267</th>\n",
       "      <td>a0643b55-9cd6-4e02-8739-05cfe2bc6c87</td>\n",
       "      <td>2015-11-12T21:42:25Z</td>\n",
       "      <td>2015-11-12T22:12:25Z</td>\n",
       "      <td>4f0cc2f3-8492-41c9-ad38-f01219739df0</td>\n",
       "      <td>a0a14713-50c4-3818-b0cb-8c2047f1458c</td>\n",
       "      <td>341e9a0c-e102-3e0c-b5df-3370a2ad2c61</td>\n",
       "      <td>42c4fca7-f8a9-3cd1-982a-dd9751bf3e2a</td>\n",
       "      <td>General examination of patient (procedure)</td>\n",
       "      <td>NaN</td>\n",
       "      <td>129.16</td>\n",
       "      <td>...</td>\n",
       "      <td>Plymouth</td>\n",
       "      <td>56.0</td>\n",
       "      <td>Analisa263 Kiehn525</td>\n",
       "      <td>BAY STATE PHYSICAL THERAPY OF RANDOLPH PC</td>\n",
       "      <td>CEDARVILLE</td>\n",
       "      <td>13303.48</td>\n",
       "      <td>Tobias236 Bechtelar572</td>\n",
       "      <td>M</td>\n",
       "      <td>GENERAL PRACTICE</td>\n",
       "      <td>Anthem</td>\n",
       "    </tr>\n",
       "    <tr>\n",
       "      <th>21457</th>\n",
       "      <td>91c8ef6a-3f2f-4842-afd1-7f27e3ec63ac</td>\n",
       "      <td>1997-08-13T21:29:36Z</td>\n",
       "      <td>1997-08-13T21:59:36Z</td>\n",
       "      <td>85a07bb9-eb47-4fb3-8f96-c0a77f4821c6</td>\n",
       "      <td>7dbf8d9d-fc47-39df-9e54-649d6eb4f8d3</td>\n",
       "      <td>253874bc-8d3a-329d-8d8b-3f258db62074</td>\n",
       "      <td>d47b3510-2895-3b70-9897-342d681c769d</td>\n",
       "      <td>General examination of patient (procedure)</td>\n",
       "      <td>NaN</td>\n",
       "      <td>129.16</td>\n",
       "      <td>...</td>\n",
       "      <td>Boston</td>\n",
       "      <td>48.0</td>\n",
       "      <td>Yuko264 O'Conner199</td>\n",
       "      <td>PCP156597</td>\n",
       "      <td>BRIGHTON</td>\n",
       "      <td>7232.96</td>\n",
       "      <td>Porsche32 Lowe577</td>\n",
       "      <td>F</td>\n",
       "      <td>GENERAL PRACTICE</td>\n",
       "      <td>Humana</td>\n",
       "    </tr>\n",
       "  </tbody>\n",
       "</table>\n",
       "<p>3 rows × 22 columns</p>\n",
       "</div>"
      ],
      "text/plain": [
       "                                         Id                 START  \\\n",
       "38257  983d84b0-e93e-42f3-a1c8-06fef1f7d2a0  2013-03-04T08:54:26Z   \n",
       "32267  a0643b55-9cd6-4e02-8739-05cfe2bc6c87  2015-11-12T21:42:25Z   \n",
       "21457  91c8ef6a-3f2f-4842-afd1-7f27e3ec63ac  1997-08-13T21:29:36Z   \n",
       "\n",
       "                       STOP                            PATIENT_ID  \\\n",
       "38257  2013-03-04T09:24:26Z  04db6603-0017-4cc6-a46d-6df577b0a10d   \n",
       "32267  2015-11-12T22:12:25Z  4f0cc2f3-8492-41c9-ad38-f01219739df0   \n",
       "21457  1997-08-13T21:59:36Z  85a07bb9-eb47-4fb3-8f96-c0a77f4821c6   \n",
       "\n",
       "                                     ORG_ID  \\\n",
       "38257  6ffe62de-5d90-3cc7-be16-643a7496c817   \n",
       "32267  a0a14713-50c4-3818-b0cb-8c2047f1458c   \n",
       "21457  7dbf8d9d-fc47-39df-9e54-649d6eb4f8d3   \n",
       "\n",
       "                                PROVIDER_ID  \\\n",
       "38257  bd8ee454-312d-3bb6-9d18-95f07366c516   \n",
       "32267  341e9a0c-e102-3e0c-b5df-3370a2ad2c61   \n",
       "21457  253874bc-8d3a-329d-8d8b-3f258db62074   \n",
       "\n",
       "                                   PAYER_ID  \\\n",
       "38257  7c4411ce-02f1-39b5-b9ec-dfbea9ad3c1a   \n",
       "32267  42c4fca7-f8a9-3cd1-982a-dd9751bf3e2a   \n",
       "21457  d47b3510-2895-3b70-9897-342d681c769d   \n",
       "\n",
       "                                      DESCRIPTION REASON  BASE_ENCOUNTER_COST  \\\n",
       "38257  General examination of patient (procedure)    NaN               129.16   \n",
       "32267  General examination of patient (procedure)    NaN               129.16   \n",
       "21457  General examination of patient (procedure)    NaN               129.16   \n",
       "\n",
       "       ...      CITY   AGE            PATIENT_NAME  \\\n",
       "38257  ...  Leverett  48.0  Angella518 Reynolds644   \n",
       "32267  ...  Plymouth  56.0     Analisa263 Kiehn525   \n",
       "21457  ...    Boston  48.0     Yuko264 O'Conner199   \n",
       "\n",
       "                                        ORG_NAME    ORG_CITY   REVENUE  \\\n",
       "38257                                    PCP8458  SUNDERLAND   7232.96   \n",
       "32267  BAY STATE PHYSICAL THERAPY OF RANDOLPH PC  CEDARVILLE  13303.48   \n",
       "21457                                  PCP156597    BRIGHTON   7232.96   \n",
       "\n",
       "                PROVIDER_NAME  GENDER        SPECIALITY PAYER_NAME  \n",
       "38257  Augustine565 Fisher429       M  GENERAL PRACTICE   Medicaid  \n",
       "32267  Tobias236 Bechtelar572       M  GENERAL PRACTICE     Anthem  \n",
       "21457       Porsche32 Lowe577       F  GENERAL PRACTICE     Humana  \n",
       "\n",
       "[3 rows x 22 columns]"
      ]
     },
     "execution_count": 73,
     "metadata": {},
     "output_type": "execute_result"
    }
   ],
   "source": [
    "# JOIN ON ENCOUNTERS\n",
    "encounter=encounter.join(payers,on=\"PAYER_ID\")\n",
    "encounter.sample(3)"
   ]
  },
  {
   "cell_type": "markdown",
   "metadata": {},
   "source": [
    "### Lets clean up the Encounter Table a little bit"
   ]
  },
  {
   "cell_type": "code",
   "execution_count": 96,
   "metadata": {},
   "outputs": [
    {
     "data": {
      "text/plain": [
       "Index(['Id', 'START', 'STOP', 'PATIENT_NAME', 'AGE', 'CITY', 'DESCRIPTION',\n",
       "       'REASON', 'ENCOUNTERCLASS', 'BASE_ENCOUNTER_COST', 'PAYER_COVERAGE',\n",
       "       'ORG_NAME', 'ORG_CITY', 'REVENUE', 'PROVIDER_NAME', 'SPECIALITY',\n",
       "       'PAYER_NAME', 'YEAR'],\n",
       "      dtype='object')"
      ]
     },
     "execution_count": 96,
     "metadata": {},
     "output_type": "execute_result"
    }
   ],
   "source": [
    "encounter.columns"
   ]
  },
  {
   "cell_type": "code",
   "execution_count": 97,
   "metadata": {},
   "outputs": [
    {
     "data": {
      "text/html": [
       "<div>\n",
       "<style scoped>\n",
       "    .dataframe tbody tr th:only-of-type {\n",
       "        vertical-align: middle;\n",
       "    }\n",
       "\n",
       "    .dataframe tbody tr th {\n",
       "        vertical-align: top;\n",
       "    }\n",
       "\n",
       "    .dataframe thead th {\n",
       "        text-align: right;\n",
       "    }\n",
       "</style>\n",
       "<table border=\"1\" class=\"dataframe\">\n",
       "  <thead>\n",
       "    <tr style=\"text-align: right;\">\n",
       "      <th></th>\n",
       "      <th>Id</th>\n",
       "      <th>START</th>\n",
       "      <th>STOP</th>\n",
       "      <th>PATIENT_NAME</th>\n",
       "      <th>AGE</th>\n",
       "      <th>CITY</th>\n",
       "      <th>DESCRIPTION</th>\n",
       "      <th>REASON</th>\n",
       "      <th>ENCOUNTERCLASS</th>\n",
       "      <th>BASE_ENCOUNTER_COST</th>\n",
       "      <th>PAYER_COVERAGE</th>\n",
       "      <th>ORG_NAME</th>\n",
       "      <th>ORG_CITY</th>\n",
       "      <th>REVENUE</th>\n",
       "      <th>PROVIDER_NAME</th>\n",
       "      <th>SPECIALITY</th>\n",
       "      <th>PAYER_NAME</th>\n",
       "    </tr>\n",
       "  </thead>\n",
       "  <tbody>\n",
       "    <tr>\n",
       "      <th>8545</th>\n",
       "      <td>abf29f17-7062-45a2-8c9a-2c3e1b9efd6f</td>\n",
       "      <td>2012-11-15 07:10:29+00:00</td>\n",
       "      <td>2012-11-15T07:40:29Z</td>\n",
       "      <td>Brett333 Mante251</td>\n",
       "      <td>66.0</td>\n",
       "      <td>Barnstable</td>\n",
       "      <td>General examination of patient (procedure)</td>\n",
       "      <td>NaN</td>\n",
       "      <td>wellness</td>\n",
       "      <td>129.16</td>\n",
       "      <td>129.16</td>\n",
       "      <td>Hyannis Outpatient Clinic</td>\n",
       "      <td>Hyannis</td>\n",
       "      <td>83101.40</td>\n",
       "      <td>Leonor133 Nájera755</td>\n",
       "      <td>GENERAL PRACTICE</td>\n",
       "      <td>Aetna</td>\n",
       "    </tr>\n",
       "    <tr>\n",
       "      <th>53146</th>\n",
       "      <td>11da5c9b-aa46-4e92-a13d-4ff2a2298174</td>\n",
       "      <td>2018-12-17 05:04:13+00:00</td>\n",
       "      <td>2018-12-17T05:19:13Z</td>\n",
       "      <td>Laverne101 Hane680</td>\n",
       "      <td>43.0</td>\n",
       "      <td>Beverly</td>\n",
       "      <td>Encounter for check up (procedure)</td>\n",
       "      <td>NaN</td>\n",
       "      <td>outpatient</td>\n",
       "      <td>129.16</td>\n",
       "      <td>0.00</td>\n",
       "      <td>BEVERLY HOSPITAL CORPORATION</td>\n",
       "      <td>BEVERLY</td>\n",
       "      <td>153829.53</td>\n",
       "      <td>Mari763 Reynolds644</td>\n",
       "      <td>GENERAL PRACTICE</td>\n",
       "      <td>NO_INSURANCE</td>\n",
       "    </tr>\n",
       "    <tr>\n",
       "      <th>45481</th>\n",
       "      <td>063a7f6b-3698-48ef-a357-528786af036d</td>\n",
       "      <td>2011-12-10 12:52:02+00:00</td>\n",
       "      <td>2011-12-10T13:40:02Z</td>\n",
       "      <td>Phung894 Kihn564</td>\n",
       "      <td>22.0</td>\n",
       "      <td>Southampton</td>\n",
       "      <td>Allergic disorder initial assessment</td>\n",
       "      <td>NaN</td>\n",
       "      <td>ambulatory</td>\n",
       "      <td>129.16</td>\n",
       "      <td>54.16</td>\n",
       "      <td>COOLEY DICKINSON HOSPITAL INC THE</td>\n",
       "      <td>NORTHAMPTON</td>\n",
       "      <td>207766.77</td>\n",
       "      <td>Guadalupe206 Valenzuela371</td>\n",
       "      <td>GENERAL PRACTICE</td>\n",
       "      <td>Blue Cross Blue Shield</td>\n",
       "    </tr>\n",
       "  </tbody>\n",
       "</table>\n",
       "</div>"
      ],
      "text/plain": [
       "                                         Id                     START  \\\n",
       "8545   abf29f17-7062-45a2-8c9a-2c3e1b9efd6f 2012-11-15 07:10:29+00:00   \n",
       "53146  11da5c9b-aa46-4e92-a13d-4ff2a2298174 2018-12-17 05:04:13+00:00   \n",
       "45481  063a7f6b-3698-48ef-a357-528786af036d 2011-12-10 12:52:02+00:00   \n",
       "\n",
       "                       STOP        PATIENT_NAME   AGE         CITY  \\\n",
       "8545   2012-11-15T07:40:29Z   Brett333 Mante251  66.0   Barnstable   \n",
       "53146  2018-12-17T05:19:13Z  Laverne101 Hane680  43.0      Beverly   \n",
       "45481  2011-12-10T13:40:02Z    Phung894 Kihn564  22.0  Southampton   \n",
       "\n",
       "                                      DESCRIPTION REASON ENCOUNTERCLASS  \\\n",
       "8545   General examination of patient (procedure)    NaN       wellness   \n",
       "53146          Encounter for check up (procedure)    NaN     outpatient   \n",
       "45481        Allergic disorder initial assessment    NaN     ambulatory   \n",
       "\n",
       "       BASE_ENCOUNTER_COST  PAYER_COVERAGE                           ORG_NAME  \\\n",
       "8545                129.16          129.16          Hyannis Outpatient Clinic   \n",
       "53146               129.16            0.00       BEVERLY HOSPITAL CORPORATION   \n",
       "45481               129.16           54.16  COOLEY DICKINSON HOSPITAL INC THE   \n",
       "\n",
       "          ORG_CITY    REVENUE               PROVIDER_NAME        SPECIALITY  \\\n",
       "8545       Hyannis   83101.40         Leonor133 Nájera755  GENERAL PRACTICE   \n",
       "53146      BEVERLY  153829.53         Mari763 Reynolds644  GENERAL PRACTICE   \n",
       "45481  NORTHAMPTON  207766.77  Guadalupe206 Valenzuela371  GENERAL PRACTICE   \n",
       "\n",
       "                   PAYER_NAME  \n",
       "8545                    Aetna  \n",
       "53146            NO_INSURANCE  \n",
       "45481  Blue Cross Blue Shield  "
      ]
     },
     "execution_count": 97,
     "metadata": {},
     "output_type": "execute_result"
    }
   ],
   "source": [
    "# only select a few columns in it\n",
    "encounter=encounter[[\"Id\",\"START\",\"STOP\",\"PATIENT_NAME\",\"AGE\",\"CITY\",\n",
    "                     \"DESCRIPTION\",\"REASON\",\"ENCOUNTERCLASS\",\n",
    "                     \"BASE_ENCOUNTER_COST\",\"PAYER_COVERAGE\",\n",
    "                     \"ORG_NAME\",\"ORG_CITY\",\"REVENUE\",\n",
    "                     \"PROVIDER_NAME\",\"SPECIALITY\",\"PAYER_NAME\"]]\n",
    "encounter.sample(3)"
   ]
  },
  {
   "cell_type": "code",
   "execution_count": 101,
   "metadata": {},
   "outputs": [
    {
     "name": "stderr",
     "output_type": "stream",
     "text": [
      "/home/riz-ryu/miniconda3/envs/stm/lib/python3.7/site-packages/ipykernel_launcher.py:1: SettingWithCopyWarning:\n",
      "\n",
      "\n",
      "A value is trying to be set on a copy of a slice from a DataFrame.\n",
      "Try using .loc[row_indexer,col_indexer] = value instead\n",
      "\n",
      "See the caveats in the documentation: https://pandas.pydata.org/pandas-docs/stable/user_guide/indexing.html#returning-a-view-versus-a-copy\n",
      "\n"
     ]
    },
    {
     "data": {
      "text/html": [
       "<div>\n",
       "<style scoped>\n",
       "    .dataframe tbody tr th:only-of-type {\n",
       "        vertical-align: middle;\n",
       "    }\n",
       "\n",
       "    .dataframe tbody tr th {\n",
       "        vertical-align: top;\n",
       "    }\n",
       "\n",
       "    .dataframe thead th {\n",
       "        text-align: right;\n",
       "    }\n",
       "</style>\n",
       "<table border=\"1\" class=\"dataframe\">\n",
       "  <thead>\n",
       "    <tr style=\"text-align: right;\">\n",
       "      <th></th>\n",
       "      <th>Id</th>\n",
       "      <th>START</th>\n",
       "      <th>STOP</th>\n",
       "      <th>PATIENT_NAME</th>\n",
       "      <th>AGE</th>\n",
       "      <th>CITY</th>\n",
       "      <th>DESCRIPTION</th>\n",
       "      <th>REASON</th>\n",
       "      <th>ENCOUNTERCLASS</th>\n",
       "      <th>BASE_ENCOUNTER_COST</th>\n",
       "      <th>PAYER_COVERAGE</th>\n",
       "      <th>ORG_NAME</th>\n",
       "      <th>ORG_CITY</th>\n",
       "      <th>REVENUE</th>\n",
       "      <th>PROVIDER_NAME</th>\n",
       "      <th>SPECIALITY</th>\n",
       "      <th>PAYER_NAME</th>\n",
       "      <th>YEAR</th>\n",
       "    </tr>\n",
       "  </thead>\n",
       "  <tbody>\n",
       "    <tr>\n",
       "      <th>1314</th>\n",
       "      <td>56c58193-8251-4ec1-8e04-e086f0f539ad</td>\n",
       "      <td>1987-08-02 05:28:51+00:00</td>\n",
       "      <td>1987-08-02T05:43:51Z</td>\n",
       "      <td>Mabel261 Larkin917</td>\n",
       "      <td>34.0</td>\n",
       "      <td>Framingham</td>\n",
       "      <td>Well child visit (procedure)</td>\n",
       "      <td>NaN</td>\n",
       "      <td>wellness</td>\n",
       "      <td>129.16</td>\n",
       "      <td>54.16</td>\n",
       "      <td>MINUTECLINIC DIAGNOSTIC OF MASSACHUSETTS  LLC</td>\n",
       "      <td>SUDBURY</td>\n",
       "      <td>1679.08</td>\n",
       "      <td>Kenny207 Ward668</td>\n",
       "      <td>GENERAL PRACTICE</td>\n",
       "      <td>Blue Cross Blue Shield</td>\n",
       "      <td>1987</td>\n",
       "    </tr>\n",
       "    <tr>\n",
       "      <th>20350</th>\n",
       "      <td>9a6b8a5f-43a0-4a83-b022-476b109a7ad4</td>\n",
       "      <td>1974-07-11 04:21:46+00:00</td>\n",
       "      <td>1974-07-11T04:51:46Z</td>\n",
       "      <td>Dannette613 Bartoletti50</td>\n",
       "      <td>55.0</td>\n",
       "      <td>Holyoke</td>\n",
       "      <td>Well child visit (procedure)</td>\n",
       "      <td>NaN</td>\n",
       "      <td>wellness</td>\n",
       "      <td>129.16</td>\n",
       "      <td>49.16</td>\n",
       "      <td>PCP29548</td>\n",
       "      <td>HOLYOKE</td>\n",
       "      <td>8137.08</td>\n",
       "      <td>Nenita289 Dare640</td>\n",
       "      <td>GENERAL PRACTICE</td>\n",
       "      <td>Humana</td>\n",
       "      <td>1974</td>\n",
       "    </tr>\n",
       "    <tr>\n",
       "      <th>52750</th>\n",
       "      <td>562f0b12-411f-4393-8f1a-c98a9b4b0f71</td>\n",
       "      <td>2011-08-28 04:37:39+00:00</td>\n",
       "      <td>2011-08-28T05:07:39Z</td>\n",
       "      <td>Lashawn862 Koepp521</td>\n",
       "      <td>79.0</td>\n",
       "      <td>Easthampton</td>\n",
       "      <td>General examination of patient (procedure)</td>\n",
       "      <td>NaN</td>\n",
       "      <td>wellness</td>\n",
       "      <td>129.16</td>\n",
       "      <td>129.16</td>\n",
       "      <td>NORTHAMPTON RADIOLOGIC ASSOCIATES  INC.</td>\n",
       "      <td>FLORENCE</td>\n",
       "      <td>8782.88</td>\n",
       "      <td>Adria871 Boehm581</td>\n",
       "      <td>GENERAL PRACTICE</td>\n",
       "      <td>Medicare</td>\n",
       "      <td>2011</td>\n",
       "    </tr>\n",
       "  </tbody>\n",
       "</table>\n",
       "</div>"
      ],
      "text/plain": [
       "                                         Id                     START  \\\n",
       "1314   56c58193-8251-4ec1-8e04-e086f0f539ad 1987-08-02 05:28:51+00:00   \n",
       "20350  9a6b8a5f-43a0-4a83-b022-476b109a7ad4 1974-07-11 04:21:46+00:00   \n",
       "52750  562f0b12-411f-4393-8f1a-c98a9b4b0f71 2011-08-28 04:37:39+00:00   \n",
       "\n",
       "                       STOP              PATIENT_NAME   AGE         CITY  \\\n",
       "1314   1987-08-02T05:43:51Z        Mabel261 Larkin917  34.0   Framingham   \n",
       "20350  1974-07-11T04:51:46Z  Dannette613 Bartoletti50  55.0      Holyoke   \n",
       "52750  2011-08-28T05:07:39Z       Lashawn862 Koepp521  79.0  Easthampton   \n",
       "\n",
       "                                      DESCRIPTION REASON ENCOUNTERCLASS  \\\n",
       "1314                 Well child visit (procedure)    NaN       wellness   \n",
       "20350                Well child visit (procedure)    NaN       wellness   \n",
       "52750  General examination of patient (procedure)    NaN       wellness   \n",
       "\n",
       "       BASE_ENCOUNTER_COST  PAYER_COVERAGE  \\\n",
       "1314                129.16           54.16   \n",
       "20350               129.16           49.16   \n",
       "52750               129.16          129.16   \n",
       "\n",
       "                                            ORG_NAME  ORG_CITY  REVENUE  \\\n",
       "1314   MINUTECLINIC DIAGNOSTIC OF MASSACHUSETTS  LLC   SUDBURY  1679.08   \n",
       "20350                                       PCP29548   HOLYOKE  8137.08   \n",
       "52750        NORTHAMPTON RADIOLOGIC ASSOCIATES  INC.  FLORENCE  8782.88   \n",
       "\n",
       "           PROVIDER_NAME        SPECIALITY              PAYER_NAME  YEAR  \n",
       "1314    Kenny207 Ward668  GENERAL PRACTICE  Blue Cross Blue Shield  1987  \n",
       "20350  Nenita289 Dare640  GENERAL PRACTICE                  Humana  1974  \n",
       "52750  Adria871 Boehm581  GENERAL PRACTICE                Medicare  2011  "
      ]
     },
     "execution_count": 101,
     "metadata": {},
     "output_type": "execute_result"
    }
   ],
   "source": [
    "encounter[\"START\"]=pd.to_datetime(encounter[\"START\"],format=\"%Y-%m-%d\")\n",
    "encounter[\"YEAR\"]=encounter[\"START\"].apply(lambda x:x.year)\n",
    "encounter.sample(3)"
   ]
  },
  {
   "cell_type": "code",
   "execution_count": 103,
   "metadata": {},
   "outputs": [],
   "source": [
    "encounter = encounter[encounter[\"YEAR\"]>=2010]"
   ]
  },
  {
   "cell_type": "markdown",
   "metadata": {},
   "source": [
    "#### Lets answer certain general questions for now"
   ]
  },
  {
   "cell_type": "markdown",
   "metadata": {},
   "source": [
    "### I - How has the year wise trend been with the Insurance companies ? \n",
    "\n",
    "We're going to use a simple animation using plotly"
   ]
  },
  {
   "cell_type": "code",
   "execution_count": 109,
   "metadata": {},
   "outputs": [
    {
     "data": {
      "application/vnd.plotly.v1+json": {
       "config": {
        "plotlyServerURL": "https://plot.ly"
       },
       "data": [
        {
         "alignmentgroup": "True",
         "hoverlabel": {
          "namelength": 0
         },
         "hovertemplate": "YEAR=2010<br>PAYER_NAME=%{x}<br>Id=%{y}",
         "legendgroup": "",
         "marker": {
          "color": "#636efa"
         },
         "name": "",
         "offsetgroup": "",
         "orientation": "v",
         "showlegend": false,
         "textposition": "auto",
         "type": "bar",
         "x": [
          "Aetna",
          "Anthem",
          "Blue Cross Blue Shield",
          "Cigna Health",
          "Dual Eligible",
          "Humana",
          "Medicaid",
          "Medicare",
          "NO_INSURANCE",
          "UnitedHealthcare"
         ],
         "xaxis": "x",
         "y": [
          169,
          76,
          255,
          180,
          32,
          173,
          338,
          278,
          391,
          191
         ],
         "yaxis": "y"
        }
       ],
       "frames": [
        {
         "data": [
          {
           "alignmentgroup": "True",
           "hoverlabel": {
            "namelength": 0
           },
           "hovertemplate": "YEAR=2010<br>PAYER_NAME=%{x}<br>Id=%{y}",
           "legendgroup": "",
           "marker": {
            "color": "#636efa"
           },
           "name": "",
           "offsetgroup": "",
           "orientation": "v",
           "showlegend": false,
           "textposition": "auto",
           "type": "bar",
           "x": [
            "Aetna",
            "Anthem",
            "Blue Cross Blue Shield",
            "Cigna Health",
            "Dual Eligible",
            "Humana",
            "Medicaid",
            "Medicare",
            "NO_INSURANCE",
            "UnitedHealthcare"
           ],
           "xaxis": "x",
           "y": [
            169,
            76,
            255,
            180,
            32,
            173,
            338,
            278,
            391,
            191
           ],
           "yaxis": "y"
          }
         ],
         "name": "2010"
        },
        {
         "data": [
          {
           "alignmentgroup": "True",
           "hoverlabel": {
            "namelength": 0
           },
           "hovertemplate": "YEAR=2011<br>PAYER_NAME=%{x}<br>Id=%{y}",
           "legendgroup": "",
           "marker": {
            "color": "#636efa"
           },
           "name": "",
           "offsetgroup": "",
           "orientation": "v",
           "showlegend": false,
           "textposition": "auto",
           "type": "bar",
           "x": [
            "Aetna",
            "Anthem",
            "Blue Cross Blue Shield",
            "Cigna Health",
            "Dual Eligible",
            "Humana",
            "Medicaid",
            "Medicare",
            "NO_INSURANCE",
            "UnitedHealthcare"
           ],
           "xaxis": "x",
           "y": [
            196,
            112,
            450,
            193,
            51,
            227,
            553,
            319,
            561,
            317
           ],
           "yaxis": "y"
          }
         ],
         "name": "2011"
        },
        {
         "data": [
          {
           "alignmentgroup": "True",
           "hoverlabel": {
            "namelength": 0
           },
           "hovertemplate": "YEAR=2012<br>PAYER_NAME=%{x}<br>Id=%{y}",
           "legendgroup": "",
           "marker": {
            "color": "#636efa"
           },
           "name": "",
           "offsetgroup": "",
           "orientation": "v",
           "showlegend": false,
           "textposition": "auto",
           "type": "bar",
           "x": [
            "Aetna",
            "Anthem",
            "Blue Cross Blue Shield",
            "Cigna Health",
            "Dual Eligible",
            "Humana",
            "Medicaid",
            "Medicare",
            "NO_INSURANCE",
            "UnitedHealthcare"
           ],
           "xaxis": "x",
           "y": [
            175,
            107,
            423,
            232,
            52,
            204,
            523,
            397,
            511,
            266
           ],
           "yaxis": "y"
          }
         ],
         "name": "2012"
        },
        {
         "data": [
          {
           "alignmentgroup": "True",
           "hoverlabel": {
            "namelength": 0
           },
           "hovertemplate": "YEAR=2013<br>PAYER_NAME=%{x}<br>Id=%{y}",
           "legendgroup": "",
           "marker": {
            "color": "#636efa"
           },
           "name": "",
           "offsetgroup": "",
           "orientation": "v",
           "showlegend": false,
           "textposition": "auto",
           "type": "bar",
           "x": [
            "Aetna",
            "Anthem",
            "Blue Cross Blue Shield",
            "Cigna Health",
            "Dual Eligible",
            "Humana",
            "Medicaid",
            "Medicare",
            "NO_INSURANCE",
            "UnitedHealthcare"
           ],
           "xaxis": "x",
           "y": [
            214,
            116,
            364,
            224,
            51,
            235,
            510,
            499,
            558,
            287
           ],
           "yaxis": "y"
          }
         ],
         "name": "2013"
        },
        {
         "data": [
          {
           "alignmentgroup": "True",
           "hoverlabel": {
            "namelength": 0
           },
           "hovertemplate": "YEAR=2014<br>PAYER_NAME=%{x}<br>Id=%{y}",
           "legendgroup": "",
           "marker": {
            "color": "#636efa"
           },
           "name": "",
           "offsetgroup": "",
           "orientation": "v",
           "showlegend": false,
           "textposition": "auto",
           "type": "bar",
           "x": [
            "Aetna",
            "Anthem",
            "Blue Cross Blue Shield",
            "Cigna Health",
            "Dual Eligible",
            "Humana",
            "Medicaid",
            "Medicare",
            "NO_INSURANCE",
            "UnitedHealthcare"
           ],
           "xaxis": "x",
           "y": [
            208,
            110,
            404,
            199,
            55,
            266,
            483,
            622,
            539,
            292
           ],
           "yaxis": "y"
          }
         ],
         "name": "2014"
        },
        {
         "data": [
          {
           "alignmentgroup": "True",
           "hoverlabel": {
            "namelength": 0
           },
           "hovertemplate": "YEAR=2015<br>PAYER_NAME=%{x}<br>Id=%{y}",
           "legendgroup": "",
           "marker": {
            "color": "#636efa"
           },
           "name": "",
           "offsetgroup": "",
           "orientation": "v",
           "showlegend": false,
           "textposition": "auto",
           "type": "bar",
           "x": [
            "Aetna",
            "Anthem",
            "Blue Cross Blue Shield",
            "Cigna Health",
            "Dual Eligible",
            "Humana",
            "Medicaid",
            "Medicare",
            "NO_INSURANCE",
            "UnitedHealthcare"
           ],
           "xaxis": "x",
           "y": [
            230,
            106,
            360,
            216,
            59,
            249,
            462,
            531,
            589,
            261
           ],
           "yaxis": "y"
          }
         ],
         "name": "2015"
        },
        {
         "data": [
          {
           "alignmentgroup": "True",
           "hoverlabel": {
            "namelength": 0
           },
           "hovertemplate": "YEAR=2016<br>PAYER_NAME=%{x}<br>Id=%{y}",
           "legendgroup": "",
           "marker": {
            "color": "#636efa"
           },
           "name": "",
           "offsetgroup": "",
           "orientation": "v",
           "showlegend": false,
           "textposition": "auto",
           "type": "bar",
           "x": [
            "Aetna",
            "Anthem",
            "Blue Cross Blue Shield",
            "Cigna Health",
            "Dual Eligible",
            "Humana",
            "Medicaid",
            "Medicare",
            "NO_INSURANCE",
            "UnitedHealthcare"
           ],
           "xaxis": "x",
           "y": [
            246,
            97,
            409,
            210,
            42,
            259,
            501,
            534,
            587,
            263
           ],
           "yaxis": "y"
          }
         ],
         "name": "2016"
        },
        {
         "data": [
          {
           "alignmentgroup": "True",
           "hoverlabel": {
            "namelength": 0
           },
           "hovertemplate": "YEAR=2017<br>PAYER_NAME=%{x}<br>Id=%{y}",
           "legendgroup": "",
           "marker": {
            "color": "#636efa"
           },
           "name": "",
           "offsetgroup": "",
           "orientation": "v",
           "showlegend": false,
           "textposition": "auto",
           "type": "bar",
           "x": [
            "Aetna",
            "Anthem",
            "Blue Cross Blue Shield",
            "Cigna Health",
            "Dual Eligible",
            "Humana",
            "Medicaid",
            "Medicare",
            "NO_INSURANCE",
            "UnitedHealthcare"
           ],
           "xaxis": "x",
           "y": [
            211,
            117,
            396,
            203,
            45,
            265,
            529,
            573,
            555,
            259
           ],
           "yaxis": "y"
          }
         ],
         "name": "2017"
        },
        {
         "data": [
          {
           "alignmentgroup": "True",
           "hoverlabel": {
            "namelength": 0
           },
           "hovertemplate": "YEAR=2018<br>PAYER_NAME=%{x}<br>Id=%{y}",
           "legendgroup": "",
           "marker": {
            "color": "#636efa"
           },
           "name": "",
           "offsetgroup": "",
           "orientation": "v",
           "showlegend": false,
           "textposition": "auto",
           "type": "bar",
           "x": [
            "Aetna",
            "Anthem",
            "Blue Cross Blue Shield",
            "Cigna Health",
            "Dual Eligible",
            "Humana",
            "Medicaid",
            "Medicare",
            "NO_INSURANCE",
            "UnitedHealthcare"
           ],
           "xaxis": "x",
           "y": [
            196,
            114,
            348,
            223,
            55,
            277,
            496,
            561,
            600,
            220
           ],
           "yaxis": "y"
          }
         ],
         "name": "2018"
        },
        {
         "data": [
          {
           "alignmentgroup": "True",
           "hoverlabel": {
            "namelength": 0
           },
           "hovertemplate": "YEAR=2019<br>PAYER_NAME=%{x}<br>Id=%{y}",
           "legendgroup": "",
           "marker": {
            "color": "#636efa"
           },
           "name": "",
           "offsetgroup": "",
           "orientation": "v",
           "showlegend": false,
           "textposition": "auto",
           "type": "bar",
           "x": [
            "Aetna",
            "Anthem",
            "Blue Cross Blue Shield",
            "Cigna Health",
            "Dual Eligible",
            "Humana",
            "Medicaid",
            "Medicare",
            "NO_INSURANCE",
            "UnitedHealthcare"
           ],
           "xaxis": "x",
           "y": [
            183,
            119,
            285,
            188,
            72,
            251,
            410,
            579,
            632,
            200
           ],
           "yaxis": "y"
          }
         ],
         "name": "2019"
        },
        {
         "data": [
          {
           "alignmentgroup": "True",
           "hoverlabel": {
            "namelength": 0
           },
           "hovertemplate": "YEAR=2020<br>PAYER_NAME=%{x}<br>Id=%{y}",
           "legendgroup": "",
           "marker": {
            "color": "#636efa"
           },
           "name": "",
           "offsetgroup": "",
           "orientation": "v",
           "showlegend": false,
           "textposition": "auto",
           "type": "bar",
           "x": [
            "Aetna",
            "Anthem",
            "Blue Cross Blue Shield",
            "Cigna Health",
            "Dual Eligible",
            "Humana",
            "Medicaid",
            "Medicare",
            "NO_INSURANCE",
            "UnitedHealthcare"
           ],
           "xaxis": "x",
           "y": [
            57,
            37,
            110,
            74,
            18,
            81,
            149,
            179,
            200,
            56
           ],
           "yaxis": "y"
          }
         ],
         "name": "2020"
        }
       ],
       "layout": {
        "barmode": "relative",
        "legend": {
         "tracegroupgap": 0
        },
        "margin": {
         "t": 60
        },
        "sliders": [
         {
          "active": 0,
          "currentvalue": {
           "prefix": "YEAR="
          },
          "len": 0.9,
          "pad": {
           "b": 10,
           "t": 60
          },
          "steps": [
           {
            "args": [
             [
              "2010"
             ],
             {
              "frame": {
               "duration": 0,
               "redraw": true
              },
              "fromcurrent": true,
              "mode": "immediate",
              "transition": {
               "duration": 0,
               "easing": "linear"
              }
             }
            ],
            "label": "2010",
            "method": "animate"
           },
           {
            "args": [
             [
              "2011"
             ],
             {
              "frame": {
               "duration": 0,
               "redraw": true
              },
              "fromcurrent": true,
              "mode": "immediate",
              "transition": {
               "duration": 0,
               "easing": "linear"
              }
             }
            ],
            "label": "2011",
            "method": "animate"
           },
           {
            "args": [
             [
              "2012"
             ],
             {
              "frame": {
               "duration": 0,
               "redraw": true
              },
              "fromcurrent": true,
              "mode": "immediate",
              "transition": {
               "duration": 0,
               "easing": "linear"
              }
             }
            ],
            "label": "2012",
            "method": "animate"
           },
           {
            "args": [
             [
              "2013"
             ],
             {
              "frame": {
               "duration": 0,
               "redraw": true
              },
              "fromcurrent": true,
              "mode": "immediate",
              "transition": {
               "duration": 0,
               "easing": "linear"
              }
             }
            ],
            "label": "2013",
            "method": "animate"
           },
           {
            "args": [
             [
              "2014"
             ],
             {
              "frame": {
               "duration": 0,
               "redraw": true
              },
              "fromcurrent": true,
              "mode": "immediate",
              "transition": {
               "duration": 0,
               "easing": "linear"
              }
             }
            ],
            "label": "2014",
            "method": "animate"
           },
           {
            "args": [
             [
              "2015"
             ],
             {
              "frame": {
               "duration": 0,
               "redraw": true
              },
              "fromcurrent": true,
              "mode": "immediate",
              "transition": {
               "duration": 0,
               "easing": "linear"
              }
             }
            ],
            "label": "2015",
            "method": "animate"
           },
           {
            "args": [
             [
              "2016"
             ],
             {
              "frame": {
               "duration": 0,
               "redraw": true
              },
              "fromcurrent": true,
              "mode": "immediate",
              "transition": {
               "duration": 0,
               "easing": "linear"
              }
             }
            ],
            "label": "2016",
            "method": "animate"
           },
           {
            "args": [
             [
              "2017"
             ],
             {
              "frame": {
               "duration": 0,
               "redraw": true
              },
              "fromcurrent": true,
              "mode": "immediate",
              "transition": {
               "duration": 0,
               "easing": "linear"
              }
             }
            ],
            "label": "2017",
            "method": "animate"
           },
           {
            "args": [
             [
              "2018"
             ],
             {
              "frame": {
               "duration": 0,
               "redraw": true
              },
              "fromcurrent": true,
              "mode": "immediate",
              "transition": {
               "duration": 0,
               "easing": "linear"
              }
             }
            ],
            "label": "2018",
            "method": "animate"
           },
           {
            "args": [
             [
              "2019"
             ],
             {
              "frame": {
               "duration": 0,
               "redraw": true
              },
              "fromcurrent": true,
              "mode": "immediate",
              "transition": {
               "duration": 0,
               "easing": "linear"
              }
             }
            ],
            "label": "2019",
            "method": "animate"
           },
           {
            "args": [
             [
              "2020"
             ],
             {
              "frame": {
               "duration": 0,
               "redraw": true
              },
              "fromcurrent": true,
              "mode": "immediate",
              "transition": {
               "duration": 0,
               "easing": "linear"
              }
             }
            ],
            "label": "2020",
            "method": "animate"
           }
          ],
          "x": 0.1,
          "xanchor": "left",
          "y": 0,
          "yanchor": "top"
         }
        ],
        "template": {
         "data": {
          "bar": [
           {
            "error_x": {
             "color": "#2a3f5f"
            },
            "error_y": {
             "color": "#2a3f5f"
            },
            "marker": {
             "line": {
              "color": "#E5ECF6",
              "width": 0.5
             }
            },
            "type": "bar"
           }
          ],
          "barpolar": [
           {
            "marker": {
             "line": {
              "color": "#E5ECF6",
              "width": 0.5
             }
            },
            "type": "barpolar"
           }
          ],
          "carpet": [
           {
            "aaxis": {
             "endlinecolor": "#2a3f5f",
             "gridcolor": "white",
             "linecolor": "white",
             "minorgridcolor": "white",
             "startlinecolor": "#2a3f5f"
            },
            "baxis": {
             "endlinecolor": "#2a3f5f",
             "gridcolor": "white",
             "linecolor": "white",
             "minorgridcolor": "white",
             "startlinecolor": "#2a3f5f"
            },
            "type": "carpet"
           }
          ],
          "choropleth": [
           {
            "colorbar": {
             "outlinewidth": 0,
             "ticks": ""
            },
            "type": "choropleth"
           }
          ],
          "contour": [
           {
            "colorbar": {
             "outlinewidth": 0,
             "ticks": ""
            },
            "colorscale": [
             [
              0,
              "#0d0887"
             ],
             [
              0.1111111111111111,
              "#46039f"
             ],
             [
              0.2222222222222222,
              "#7201a8"
             ],
             [
              0.3333333333333333,
              "#9c179e"
             ],
             [
              0.4444444444444444,
              "#bd3786"
             ],
             [
              0.5555555555555556,
              "#d8576b"
             ],
             [
              0.6666666666666666,
              "#ed7953"
             ],
             [
              0.7777777777777778,
              "#fb9f3a"
             ],
             [
              0.8888888888888888,
              "#fdca26"
             ],
             [
              1,
              "#f0f921"
             ]
            ],
            "type": "contour"
           }
          ],
          "contourcarpet": [
           {
            "colorbar": {
             "outlinewidth": 0,
             "ticks": ""
            },
            "type": "contourcarpet"
           }
          ],
          "heatmap": [
           {
            "colorbar": {
             "outlinewidth": 0,
             "ticks": ""
            },
            "colorscale": [
             [
              0,
              "#0d0887"
             ],
             [
              0.1111111111111111,
              "#46039f"
             ],
             [
              0.2222222222222222,
              "#7201a8"
             ],
             [
              0.3333333333333333,
              "#9c179e"
             ],
             [
              0.4444444444444444,
              "#bd3786"
             ],
             [
              0.5555555555555556,
              "#d8576b"
             ],
             [
              0.6666666666666666,
              "#ed7953"
             ],
             [
              0.7777777777777778,
              "#fb9f3a"
             ],
             [
              0.8888888888888888,
              "#fdca26"
             ],
             [
              1,
              "#f0f921"
             ]
            ],
            "type": "heatmap"
           }
          ],
          "heatmapgl": [
           {
            "colorbar": {
             "outlinewidth": 0,
             "ticks": ""
            },
            "colorscale": [
             [
              0,
              "#0d0887"
             ],
             [
              0.1111111111111111,
              "#46039f"
             ],
             [
              0.2222222222222222,
              "#7201a8"
             ],
             [
              0.3333333333333333,
              "#9c179e"
             ],
             [
              0.4444444444444444,
              "#bd3786"
             ],
             [
              0.5555555555555556,
              "#d8576b"
             ],
             [
              0.6666666666666666,
              "#ed7953"
             ],
             [
              0.7777777777777778,
              "#fb9f3a"
             ],
             [
              0.8888888888888888,
              "#fdca26"
             ],
             [
              1,
              "#f0f921"
             ]
            ],
            "type": "heatmapgl"
           }
          ],
          "histogram": [
           {
            "marker": {
             "colorbar": {
              "outlinewidth": 0,
              "ticks": ""
             }
            },
            "type": "histogram"
           }
          ],
          "histogram2d": [
           {
            "colorbar": {
             "outlinewidth": 0,
             "ticks": ""
            },
            "colorscale": [
             [
              0,
              "#0d0887"
             ],
             [
              0.1111111111111111,
              "#46039f"
             ],
             [
              0.2222222222222222,
              "#7201a8"
             ],
             [
              0.3333333333333333,
              "#9c179e"
             ],
             [
              0.4444444444444444,
              "#bd3786"
             ],
             [
              0.5555555555555556,
              "#d8576b"
             ],
             [
              0.6666666666666666,
              "#ed7953"
             ],
             [
              0.7777777777777778,
              "#fb9f3a"
             ],
             [
              0.8888888888888888,
              "#fdca26"
             ],
             [
              1,
              "#f0f921"
             ]
            ],
            "type": "histogram2d"
           }
          ],
          "histogram2dcontour": [
           {
            "colorbar": {
             "outlinewidth": 0,
             "ticks": ""
            },
            "colorscale": [
             [
              0,
              "#0d0887"
             ],
             [
              0.1111111111111111,
              "#46039f"
             ],
             [
              0.2222222222222222,
              "#7201a8"
             ],
             [
              0.3333333333333333,
              "#9c179e"
             ],
             [
              0.4444444444444444,
              "#bd3786"
             ],
             [
              0.5555555555555556,
              "#d8576b"
             ],
             [
              0.6666666666666666,
              "#ed7953"
             ],
             [
              0.7777777777777778,
              "#fb9f3a"
             ],
             [
              0.8888888888888888,
              "#fdca26"
             ],
             [
              1,
              "#f0f921"
             ]
            ],
            "type": "histogram2dcontour"
           }
          ],
          "mesh3d": [
           {
            "colorbar": {
             "outlinewidth": 0,
             "ticks": ""
            },
            "type": "mesh3d"
           }
          ],
          "parcoords": [
           {
            "line": {
             "colorbar": {
              "outlinewidth": 0,
              "ticks": ""
             }
            },
            "type": "parcoords"
           }
          ],
          "pie": [
           {
            "automargin": true,
            "type": "pie"
           }
          ],
          "scatter": [
           {
            "marker": {
             "colorbar": {
              "outlinewidth": 0,
              "ticks": ""
             }
            },
            "type": "scatter"
           }
          ],
          "scatter3d": [
           {
            "line": {
             "colorbar": {
              "outlinewidth": 0,
              "ticks": ""
             }
            },
            "marker": {
             "colorbar": {
              "outlinewidth": 0,
              "ticks": ""
             }
            },
            "type": "scatter3d"
           }
          ],
          "scattercarpet": [
           {
            "marker": {
             "colorbar": {
              "outlinewidth": 0,
              "ticks": ""
             }
            },
            "type": "scattercarpet"
           }
          ],
          "scattergeo": [
           {
            "marker": {
             "colorbar": {
              "outlinewidth": 0,
              "ticks": ""
             }
            },
            "type": "scattergeo"
           }
          ],
          "scattergl": [
           {
            "marker": {
             "colorbar": {
              "outlinewidth": 0,
              "ticks": ""
             }
            },
            "type": "scattergl"
           }
          ],
          "scattermapbox": [
           {
            "marker": {
             "colorbar": {
              "outlinewidth": 0,
              "ticks": ""
             }
            },
            "type": "scattermapbox"
           }
          ],
          "scatterpolar": [
           {
            "marker": {
             "colorbar": {
              "outlinewidth": 0,
              "ticks": ""
             }
            },
            "type": "scatterpolar"
           }
          ],
          "scatterpolargl": [
           {
            "marker": {
             "colorbar": {
              "outlinewidth": 0,
              "ticks": ""
             }
            },
            "type": "scatterpolargl"
           }
          ],
          "scatterternary": [
           {
            "marker": {
             "colorbar": {
              "outlinewidth": 0,
              "ticks": ""
             }
            },
            "type": "scatterternary"
           }
          ],
          "surface": [
           {
            "colorbar": {
             "outlinewidth": 0,
             "ticks": ""
            },
            "colorscale": [
             [
              0,
              "#0d0887"
             ],
             [
              0.1111111111111111,
              "#46039f"
             ],
             [
              0.2222222222222222,
              "#7201a8"
             ],
             [
              0.3333333333333333,
              "#9c179e"
             ],
             [
              0.4444444444444444,
              "#bd3786"
             ],
             [
              0.5555555555555556,
              "#d8576b"
             ],
             [
              0.6666666666666666,
              "#ed7953"
             ],
             [
              0.7777777777777778,
              "#fb9f3a"
             ],
             [
              0.8888888888888888,
              "#fdca26"
             ],
             [
              1,
              "#f0f921"
             ]
            ],
            "type": "surface"
           }
          ],
          "table": [
           {
            "cells": {
             "fill": {
              "color": "#EBF0F8"
             },
             "line": {
              "color": "white"
             }
            },
            "header": {
             "fill": {
              "color": "#C8D4E3"
             },
             "line": {
              "color": "white"
             }
            },
            "type": "table"
           }
          ]
         },
         "layout": {
          "annotationdefaults": {
           "arrowcolor": "#2a3f5f",
           "arrowhead": 0,
           "arrowwidth": 1
          },
          "coloraxis": {
           "colorbar": {
            "outlinewidth": 0,
            "ticks": ""
           }
          },
          "colorscale": {
           "diverging": [
            [
             0,
             "#8e0152"
            ],
            [
             0.1,
             "#c51b7d"
            ],
            [
             0.2,
             "#de77ae"
            ],
            [
             0.3,
             "#f1b6da"
            ],
            [
             0.4,
             "#fde0ef"
            ],
            [
             0.5,
             "#f7f7f7"
            ],
            [
             0.6,
             "#e6f5d0"
            ],
            [
             0.7,
             "#b8e186"
            ],
            [
             0.8,
             "#7fbc41"
            ],
            [
             0.9,
             "#4d9221"
            ],
            [
             1,
             "#276419"
            ]
           ],
           "sequential": [
            [
             0,
             "#0d0887"
            ],
            [
             0.1111111111111111,
             "#46039f"
            ],
            [
             0.2222222222222222,
             "#7201a8"
            ],
            [
             0.3333333333333333,
             "#9c179e"
            ],
            [
             0.4444444444444444,
             "#bd3786"
            ],
            [
             0.5555555555555556,
             "#d8576b"
            ],
            [
             0.6666666666666666,
             "#ed7953"
            ],
            [
             0.7777777777777778,
             "#fb9f3a"
            ],
            [
             0.8888888888888888,
             "#fdca26"
            ],
            [
             1,
             "#f0f921"
            ]
           ],
           "sequentialminus": [
            [
             0,
             "#0d0887"
            ],
            [
             0.1111111111111111,
             "#46039f"
            ],
            [
             0.2222222222222222,
             "#7201a8"
            ],
            [
             0.3333333333333333,
             "#9c179e"
            ],
            [
             0.4444444444444444,
             "#bd3786"
            ],
            [
             0.5555555555555556,
             "#d8576b"
            ],
            [
             0.6666666666666666,
             "#ed7953"
            ],
            [
             0.7777777777777778,
             "#fb9f3a"
            ],
            [
             0.8888888888888888,
             "#fdca26"
            ],
            [
             1,
             "#f0f921"
            ]
           ]
          },
          "colorway": [
           "#636efa",
           "#EF553B",
           "#00cc96",
           "#ab63fa",
           "#FFA15A",
           "#19d3f3",
           "#FF6692",
           "#B6E880",
           "#FF97FF",
           "#FECB52"
          ],
          "font": {
           "color": "#2a3f5f"
          },
          "geo": {
           "bgcolor": "white",
           "lakecolor": "white",
           "landcolor": "#E5ECF6",
           "showlakes": true,
           "showland": true,
           "subunitcolor": "white"
          },
          "hoverlabel": {
           "align": "left"
          },
          "hovermode": "closest",
          "mapbox": {
           "style": "light"
          },
          "paper_bgcolor": "white",
          "plot_bgcolor": "#E5ECF6",
          "polar": {
           "angularaxis": {
            "gridcolor": "white",
            "linecolor": "white",
            "ticks": ""
           },
           "bgcolor": "#E5ECF6",
           "radialaxis": {
            "gridcolor": "white",
            "linecolor": "white",
            "ticks": ""
           }
          },
          "scene": {
           "xaxis": {
            "backgroundcolor": "#E5ECF6",
            "gridcolor": "white",
            "gridwidth": 2,
            "linecolor": "white",
            "showbackground": true,
            "ticks": "",
            "zerolinecolor": "white"
           },
           "yaxis": {
            "backgroundcolor": "#E5ECF6",
            "gridcolor": "white",
            "gridwidth": 2,
            "linecolor": "white",
            "showbackground": true,
            "ticks": "",
            "zerolinecolor": "white"
           },
           "zaxis": {
            "backgroundcolor": "#E5ECF6",
            "gridcolor": "white",
            "gridwidth": 2,
            "linecolor": "white",
            "showbackground": true,
            "ticks": "",
            "zerolinecolor": "white"
           }
          },
          "shapedefaults": {
           "line": {
            "color": "#2a3f5f"
           }
          },
          "ternary": {
           "aaxis": {
            "gridcolor": "white",
            "linecolor": "white",
            "ticks": ""
           },
           "baxis": {
            "gridcolor": "white",
            "linecolor": "white",
            "ticks": ""
           },
           "bgcolor": "#E5ECF6",
           "caxis": {
            "gridcolor": "white",
            "linecolor": "white",
            "ticks": ""
           }
          },
          "title": {
           "x": 0.05
          },
          "xaxis": {
           "automargin": true,
           "gridcolor": "white",
           "linecolor": "white",
           "ticks": "",
           "title": {
            "standoff": 15
           },
           "zerolinecolor": "white",
           "zerolinewidth": 2
          },
          "yaxis": {
           "automargin": true,
           "gridcolor": "white",
           "linecolor": "white",
           "ticks": "",
           "title": {
            "standoff": 15
           },
           "zerolinecolor": "white",
           "zerolinewidth": 2
          }
         }
        },
        "updatemenus": [
         {
          "buttons": [
           {
            "args": [
             null,
             {
              "frame": {
               "duration": 500,
               "redraw": true
              },
              "fromcurrent": true,
              "mode": "immediate",
              "transition": {
               "duration": 500,
               "easing": "linear"
              }
             }
            ],
            "label": "&#9654;",
            "method": "animate"
           },
           {
            "args": [
             [
              null
             ],
             {
              "frame": {
               "duration": 0,
               "redraw": true
              },
              "fromcurrent": true,
              "mode": "immediate",
              "transition": {
               "duration": 0,
               "easing": "linear"
              }
             }
            ],
            "label": "&#9724;",
            "method": "animate"
           }
          ],
          "direction": "left",
          "pad": {
           "r": 10,
           "t": 70
          },
          "showactive": false,
          "type": "buttons",
          "x": 0.1,
          "xanchor": "right",
          "y": 0,
          "yanchor": "top"
         }
        ],
        "xaxis": {
         "anchor": "y",
         "domain": [
          0,
          1
         ],
         "title": {
          "text": "PAYER_NAME"
         }
        },
        "yaxis": {
         "anchor": "x",
         "domain": [
          0,
          1
         ],
         "title": {
          "text": "Id"
         }
        }
       }
      },
      "text/html": [
       "<div>\n",
       "        \n",
       "        \n",
       "            <div id=\"f19db6ee-e325-42cd-914d-fd211b534173\" class=\"plotly-graph-div\" style=\"height:525px; width:100%;\"></div>\n",
       "            <script type=\"text/javascript\">\n",
       "                require([\"plotly\"], function(Plotly) {\n",
       "                    window.PLOTLYENV=window.PLOTLYENV || {};\n",
       "                    \n",
       "                if (document.getElementById(\"f19db6ee-e325-42cd-914d-fd211b534173\")) {\n",
       "                    Plotly.newPlot(\n",
       "                        'f19db6ee-e325-42cd-914d-fd211b534173',\n",
       "                        [{\"alignmentgroup\": \"True\", \"hoverlabel\": {\"namelength\": 0}, \"hovertemplate\": \"YEAR=2010<br>PAYER_NAME=%{x}<br>Id=%{y}\", \"legendgroup\": \"\", \"marker\": {\"color\": \"#636efa\"}, \"name\": \"\", \"offsetgroup\": \"\", \"orientation\": \"v\", \"showlegend\": false, \"textposition\": \"auto\", \"type\": \"bar\", \"x\": [\"Aetna\", \"Anthem\", \"Blue Cross Blue Shield\", \"Cigna Health\", \"Dual Eligible\", \"Humana\", \"Medicaid\", \"Medicare\", \"NO_INSURANCE\", \"UnitedHealthcare\"], \"xaxis\": \"x\", \"y\": [169, 76, 255, 180, 32, 173, 338, 278, 391, 191], \"yaxis\": \"y\"}],\n",
       "                        {\"barmode\": \"relative\", \"legend\": {\"tracegroupgap\": 0}, \"margin\": {\"t\": 60}, \"sliders\": [{\"active\": 0, \"currentvalue\": {\"prefix\": \"YEAR=\"}, \"len\": 0.9, \"pad\": {\"b\": 10, \"t\": 60}, \"steps\": [{\"args\": [[\"2010\"], {\"frame\": {\"duration\": 0, \"redraw\": true}, \"fromcurrent\": true, \"mode\": \"immediate\", \"transition\": {\"duration\": 0, \"easing\": \"linear\"}}], \"label\": \"2010\", \"method\": \"animate\"}, {\"args\": [[\"2011\"], {\"frame\": {\"duration\": 0, \"redraw\": true}, \"fromcurrent\": true, \"mode\": \"immediate\", \"transition\": {\"duration\": 0, \"easing\": \"linear\"}}], \"label\": \"2011\", \"method\": \"animate\"}, {\"args\": [[\"2012\"], {\"frame\": {\"duration\": 0, \"redraw\": true}, \"fromcurrent\": true, \"mode\": \"immediate\", \"transition\": {\"duration\": 0, \"easing\": \"linear\"}}], \"label\": \"2012\", \"method\": \"animate\"}, {\"args\": [[\"2013\"], {\"frame\": {\"duration\": 0, \"redraw\": true}, \"fromcurrent\": true, \"mode\": \"immediate\", \"transition\": {\"duration\": 0, \"easing\": \"linear\"}}], \"label\": \"2013\", \"method\": \"animate\"}, {\"args\": [[\"2014\"], {\"frame\": {\"duration\": 0, \"redraw\": true}, \"fromcurrent\": true, \"mode\": \"immediate\", \"transition\": {\"duration\": 0, \"easing\": \"linear\"}}], \"label\": \"2014\", \"method\": \"animate\"}, {\"args\": [[\"2015\"], {\"frame\": {\"duration\": 0, \"redraw\": true}, \"fromcurrent\": true, \"mode\": \"immediate\", \"transition\": {\"duration\": 0, \"easing\": \"linear\"}}], \"label\": \"2015\", \"method\": \"animate\"}, {\"args\": [[\"2016\"], {\"frame\": {\"duration\": 0, \"redraw\": true}, \"fromcurrent\": true, \"mode\": \"immediate\", \"transition\": {\"duration\": 0, \"easing\": \"linear\"}}], \"label\": \"2016\", \"method\": \"animate\"}, {\"args\": [[\"2017\"], {\"frame\": {\"duration\": 0, \"redraw\": true}, \"fromcurrent\": true, \"mode\": \"immediate\", \"transition\": {\"duration\": 0, \"easing\": \"linear\"}}], \"label\": \"2017\", \"method\": \"animate\"}, {\"args\": [[\"2018\"], {\"frame\": {\"duration\": 0, \"redraw\": true}, \"fromcurrent\": true, \"mode\": \"immediate\", \"transition\": {\"duration\": 0, \"easing\": \"linear\"}}], \"label\": \"2018\", \"method\": \"animate\"}, {\"args\": [[\"2019\"], {\"frame\": {\"duration\": 0, \"redraw\": true}, \"fromcurrent\": true, \"mode\": \"immediate\", \"transition\": {\"duration\": 0, \"easing\": \"linear\"}}], \"label\": \"2019\", \"method\": \"animate\"}, {\"args\": [[\"2020\"], {\"frame\": {\"duration\": 0, \"redraw\": true}, \"fromcurrent\": true, \"mode\": \"immediate\", \"transition\": {\"duration\": 0, \"easing\": \"linear\"}}], \"label\": \"2020\", \"method\": \"animate\"}], \"x\": 0.1, \"xanchor\": \"left\", \"y\": 0, \"yanchor\": \"top\"}], \"template\": {\"data\": {\"bar\": [{\"error_x\": {\"color\": \"#2a3f5f\"}, \"error_y\": {\"color\": \"#2a3f5f\"}, \"marker\": {\"line\": {\"color\": \"#E5ECF6\", \"width\": 0.5}}, \"type\": \"bar\"}], \"barpolar\": [{\"marker\": {\"line\": {\"color\": \"#E5ECF6\", \"width\": 0.5}}, \"type\": \"barpolar\"}], \"carpet\": [{\"aaxis\": {\"endlinecolor\": \"#2a3f5f\", \"gridcolor\": \"white\", \"linecolor\": \"white\", \"minorgridcolor\": \"white\", \"startlinecolor\": \"#2a3f5f\"}, \"baxis\": {\"endlinecolor\": \"#2a3f5f\", \"gridcolor\": \"white\", \"linecolor\": \"white\", \"minorgridcolor\": \"white\", \"startlinecolor\": \"#2a3f5f\"}, \"type\": \"carpet\"}], \"choropleth\": [{\"colorbar\": {\"outlinewidth\": 0, \"ticks\": \"\"}, \"type\": \"choropleth\"}], \"contour\": [{\"colorbar\": {\"outlinewidth\": 0, \"ticks\": \"\"}, \"colorscale\": [[0.0, \"#0d0887\"], [0.1111111111111111, \"#46039f\"], [0.2222222222222222, \"#7201a8\"], [0.3333333333333333, \"#9c179e\"], [0.4444444444444444, \"#bd3786\"], [0.5555555555555556, \"#d8576b\"], [0.6666666666666666, \"#ed7953\"], [0.7777777777777778, \"#fb9f3a\"], [0.8888888888888888, \"#fdca26\"], [1.0, \"#f0f921\"]], \"type\": \"contour\"}], \"contourcarpet\": [{\"colorbar\": {\"outlinewidth\": 0, \"ticks\": \"\"}, \"type\": \"contourcarpet\"}], \"heatmap\": [{\"colorbar\": {\"outlinewidth\": 0, \"ticks\": \"\"}, \"colorscale\": [[0.0, \"#0d0887\"], [0.1111111111111111, \"#46039f\"], [0.2222222222222222, \"#7201a8\"], [0.3333333333333333, \"#9c179e\"], [0.4444444444444444, \"#bd3786\"], [0.5555555555555556, \"#d8576b\"], [0.6666666666666666, \"#ed7953\"], [0.7777777777777778, \"#fb9f3a\"], [0.8888888888888888, \"#fdca26\"], [1.0, \"#f0f921\"]], \"type\": \"heatmap\"}], \"heatmapgl\": [{\"colorbar\": {\"outlinewidth\": 0, \"ticks\": \"\"}, \"colorscale\": [[0.0, \"#0d0887\"], [0.1111111111111111, \"#46039f\"], [0.2222222222222222, \"#7201a8\"], [0.3333333333333333, \"#9c179e\"], [0.4444444444444444, \"#bd3786\"], [0.5555555555555556, \"#d8576b\"], [0.6666666666666666, \"#ed7953\"], [0.7777777777777778, \"#fb9f3a\"], [0.8888888888888888, \"#fdca26\"], [1.0, \"#f0f921\"]], \"type\": \"heatmapgl\"}], \"histogram\": [{\"marker\": {\"colorbar\": {\"outlinewidth\": 0, \"ticks\": \"\"}}, \"type\": \"histogram\"}], \"histogram2d\": [{\"colorbar\": {\"outlinewidth\": 0, \"ticks\": \"\"}, \"colorscale\": [[0.0, \"#0d0887\"], [0.1111111111111111, \"#46039f\"], [0.2222222222222222, \"#7201a8\"], [0.3333333333333333, \"#9c179e\"], [0.4444444444444444, \"#bd3786\"], [0.5555555555555556, \"#d8576b\"], [0.6666666666666666, \"#ed7953\"], [0.7777777777777778, \"#fb9f3a\"], [0.8888888888888888, \"#fdca26\"], [1.0, \"#f0f921\"]], \"type\": \"histogram2d\"}], \"histogram2dcontour\": [{\"colorbar\": {\"outlinewidth\": 0, \"ticks\": \"\"}, \"colorscale\": [[0.0, \"#0d0887\"], [0.1111111111111111, \"#46039f\"], [0.2222222222222222, \"#7201a8\"], [0.3333333333333333, \"#9c179e\"], [0.4444444444444444, \"#bd3786\"], [0.5555555555555556, \"#d8576b\"], [0.6666666666666666, \"#ed7953\"], [0.7777777777777778, \"#fb9f3a\"], [0.8888888888888888, \"#fdca26\"], [1.0, \"#f0f921\"]], \"type\": \"histogram2dcontour\"}], \"mesh3d\": [{\"colorbar\": {\"outlinewidth\": 0, \"ticks\": \"\"}, \"type\": \"mesh3d\"}], \"parcoords\": [{\"line\": {\"colorbar\": {\"outlinewidth\": 0, \"ticks\": \"\"}}, \"type\": \"parcoords\"}], \"pie\": [{\"automargin\": true, \"type\": \"pie\"}], \"scatter\": [{\"marker\": {\"colorbar\": {\"outlinewidth\": 0, \"ticks\": \"\"}}, \"type\": \"scatter\"}], \"scatter3d\": [{\"line\": {\"colorbar\": {\"outlinewidth\": 0, \"ticks\": \"\"}}, \"marker\": {\"colorbar\": {\"outlinewidth\": 0, \"ticks\": \"\"}}, \"type\": \"scatter3d\"}], \"scattercarpet\": [{\"marker\": {\"colorbar\": {\"outlinewidth\": 0, \"ticks\": \"\"}}, \"type\": \"scattercarpet\"}], \"scattergeo\": [{\"marker\": {\"colorbar\": {\"outlinewidth\": 0, \"ticks\": \"\"}}, \"type\": \"scattergeo\"}], \"scattergl\": [{\"marker\": {\"colorbar\": {\"outlinewidth\": 0, \"ticks\": \"\"}}, \"type\": \"scattergl\"}], \"scattermapbox\": [{\"marker\": {\"colorbar\": {\"outlinewidth\": 0, \"ticks\": \"\"}}, \"type\": \"scattermapbox\"}], \"scatterpolar\": [{\"marker\": {\"colorbar\": {\"outlinewidth\": 0, \"ticks\": \"\"}}, \"type\": \"scatterpolar\"}], \"scatterpolargl\": [{\"marker\": {\"colorbar\": {\"outlinewidth\": 0, \"ticks\": \"\"}}, \"type\": \"scatterpolargl\"}], \"scatterternary\": [{\"marker\": {\"colorbar\": {\"outlinewidth\": 0, \"ticks\": \"\"}}, \"type\": \"scatterternary\"}], \"surface\": [{\"colorbar\": {\"outlinewidth\": 0, \"ticks\": \"\"}, \"colorscale\": [[0.0, \"#0d0887\"], [0.1111111111111111, \"#46039f\"], [0.2222222222222222, \"#7201a8\"], [0.3333333333333333, \"#9c179e\"], [0.4444444444444444, \"#bd3786\"], [0.5555555555555556, \"#d8576b\"], [0.6666666666666666, \"#ed7953\"], [0.7777777777777778, \"#fb9f3a\"], [0.8888888888888888, \"#fdca26\"], [1.0, \"#f0f921\"]], \"type\": \"surface\"}], \"table\": [{\"cells\": {\"fill\": {\"color\": \"#EBF0F8\"}, \"line\": {\"color\": \"white\"}}, \"header\": {\"fill\": {\"color\": \"#C8D4E3\"}, \"line\": {\"color\": \"white\"}}, \"type\": \"table\"}]}, \"layout\": {\"annotationdefaults\": {\"arrowcolor\": \"#2a3f5f\", \"arrowhead\": 0, \"arrowwidth\": 1}, \"coloraxis\": {\"colorbar\": {\"outlinewidth\": 0, \"ticks\": \"\"}}, \"colorscale\": {\"diverging\": [[0, \"#8e0152\"], [0.1, \"#c51b7d\"], [0.2, \"#de77ae\"], [0.3, \"#f1b6da\"], [0.4, \"#fde0ef\"], [0.5, \"#f7f7f7\"], [0.6, \"#e6f5d0\"], [0.7, \"#b8e186\"], [0.8, \"#7fbc41\"], [0.9, \"#4d9221\"], [1, \"#276419\"]], \"sequential\": [[0.0, \"#0d0887\"], [0.1111111111111111, \"#46039f\"], [0.2222222222222222, \"#7201a8\"], [0.3333333333333333, \"#9c179e\"], [0.4444444444444444, \"#bd3786\"], [0.5555555555555556, \"#d8576b\"], [0.6666666666666666, \"#ed7953\"], [0.7777777777777778, \"#fb9f3a\"], [0.8888888888888888, \"#fdca26\"], [1.0, \"#f0f921\"]], \"sequentialminus\": [[0.0, \"#0d0887\"], [0.1111111111111111, \"#46039f\"], [0.2222222222222222, \"#7201a8\"], [0.3333333333333333, \"#9c179e\"], [0.4444444444444444, \"#bd3786\"], [0.5555555555555556, \"#d8576b\"], [0.6666666666666666, \"#ed7953\"], [0.7777777777777778, \"#fb9f3a\"], [0.8888888888888888, \"#fdca26\"], [1.0, \"#f0f921\"]]}, \"colorway\": [\"#636efa\", \"#EF553B\", \"#00cc96\", \"#ab63fa\", \"#FFA15A\", \"#19d3f3\", \"#FF6692\", \"#B6E880\", \"#FF97FF\", \"#FECB52\"], \"font\": {\"color\": \"#2a3f5f\"}, \"geo\": {\"bgcolor\": \"white\", \"lakecolor\": \"white\", \"landcolor\": \"#E5ECF6\", \"showlakes\": true, \"showland\": true, \"subunitcolor\": \"white\"}, \"hoverlabel\": {\"align\": \"left\"}, \"hovermode\": \"closest\", \"mapbox\": {\"style\": \"light\"}, \"paper_bgcolor\": \"white\", \"plot_bgcolor\": \"#E5ECF6\", \"polar\": {\"angularaxis\": {\"gridcolor\": \"white\", \"linecolor\": \"white\", \"ticks\": \"\"}, \"bgcolor\": \"#E5ECF6\", \"radialaxis\": {\"gridcolor\": \"white\", \"linecolor\": \"white\", \"ticks\": \"\"}}, \"scene\": {\"xaxis\": {\"backgroundcolor\": \"#E5ECF6\", \"gridcolor\": \"white\", \"gridwidth\": 2, \"linecolor\": \"white\", \"showbackground\": true, \"ticks\": \"\", \"zerolinecolor\": \"white\"}, \"yaxis\": {\"backgroundcolor\": \"#E5ECF6\", \"gridcolor\": \"white\", \"gridwidth\": 2, \"linecolor\": \"white\", \"showbackground\": true, \"ticks\": \"\", \"zerolinecolor\": \"white\"}, \"zaxis\": {\"backgroundcolor\": \"#E5ECF6\", \"gridcolor\": \"white\", \"gridwidth\": 2, \"linecolor\": \"white\", \"showbackground\": true, \"ticks\": \"\", \"zerolinecolor\": \"white\"}}, \"shapedefaults\": {\"line\": {\"color\": \"#2a3f5f\"}}, \"ternary\": {\"aaxis\": {\"gridcolor\": \"white\", \"linecolor\": \"white\", \"ticks\": \"\"}, \"baxis\": {\"gridcolor\": \"white\", \"linecolor\": \"white\", \"ticks\": \"\"}, \"bgcolor\": \"#E5ECF6\", \"caxis\": {\"gridcolor\": \"white\", \"linecolor\": \"white\", \"ticks\": \"\"}}, \"title\": {\"x\": 0.05}, \"xaxis\": {\"automargin\": true, \"gridcolor\": \"white\", \"linecolor\": \"white\", \"ticks\": \"\", \"title\": {\"standoff\": 15}, \"zerolinecolor\": \"white\", \"zerolinewidth\": 2}, \"yaxis\": {\"automargin\": true, \"gridcolor\": \"white\", \"linecolor\": \"white\", \"ticks\": \"\", \"title\": {\"standoff\": 15}, \"zerolinecolor\": \"white\", \"zerolinewidth\": 2}}}, \"updatemenus\": [{\"buttons\": [{\"args\": [null, {\"frame\": {\"duration\": 500, \"redraw\": true}, \"fromcurrent\": true, \"mode\": \"immediate\", \"transition\": {\"duration\": 500, \"easing\": \"linear\"}}], \"label\": \"&#9654;\", \"method\": \"animate\"}, {\"args\": [[null], {\"frame\": {\"duration\": 0, \"redraw\": true}, \"fromcurrent\": true, \"mode\": \"immediate\", \"transition\": {\"duration\": 0, \"easing\": \"linear\"}}], \"label\": \"&#9724;\", \"method\": \"animate\"}], \"direction\": \"left\", \"pad\": {\"r\": 10, \"t\": 70}, \"showactive\": false, \"type\": \"buttons\", \"x\": 0.1, \"xanchor\": \"right\", \"y\": 0, \"yanchor\": \"top\"}], \"xaxis\": {\"anchor\": \"y\", \"domain\": [0.0, 1.0], \"title\": {\"text\": \"PAYER_NAME\"}}, \"yaxis\": {\"anchor\": \"x\", \"domain\": [0.0, 1.0], \"title\": {\"text\": \"Id\"}}},\n",
       "                        {\"responsive\": true}\n",
       "                    ).then(function(){\n",
       "                            Plotly.addFrames('f19db6ee-e325-42cd-914d-fd211b534173', [{\"data\": [{\"alignmentgroup\": \"True\", \"hoverlabel\": {\"namelength\": 0}, \"hovertemplate\": \"YEAR=2010<br>PAYER_NAME=%{x}<br>Id=%{y}\", \"legendgroup\": \"\", \"marker\": {\"color\": \"#636efa\"}, \"name\": \"\", \"offsetgroup\": \"\", \"orientation\": \"v\", \"showlegend\": false, \"textposition\": \"auto\", \"x\": [\"Aetna\", \"Anthem\", \"Blue Cross Blue Shield\", \"Cigna Health\", \"Dual Eligible\", \"Humana\", \"Medicaid\", \"Medicare\", \"NO_INSURANCE\", \"UnitedHealthcare\"], \"xaxis\": \"x\", \"y\": [169, 76, 255, 180, 32, 173, 338, 278, 391, 191], \"yaxis\": \"y\", \"type\": \"bar\"}], \"name\": \"2010\"}, {\"data\": [{\"alignmentgroup\": \"True\", \"hoverlabel\": {\"namelength\": 0}, \"hovertemplate\": \"YEAR=2011<br>PAYER_NAME=%{x}<br>Id=%{y}\", \"legendgroup\": \"\", \"marker\": {\"color\": \"#636efa\"}, \"name\": \"\", \"offsetgroup\": \"\", \"orientation\": \"v\", \"showlegend\": false, \"textposition\": \"auto\", \"x\": [\"Aetna\", \"Anthem\", \"Blue Cross Blue Shield\", \"Cigna Health\", \"Dual Eligible\", \"Humana\", \"Medicaid\", \"Medicare\", \"NO_INSURANCE\", \"UnitedHealthcare\"], \"xaxis\": \"x\", \"y\": [196, 112, 450, 193, 51, 227, 553, 319, 561, 317], \"yaxis\": \"y\", \"type\": \"bar\"}], \"name\": \"2011\"}, {\"data\": [{\"alignmentgroup\": \"True\", \"hoverlabel\": {\"namelength\": 0}, \"hovertemplate\": \"YEAR=2012<br>PAYER_NAME=%{x}<br>Id=%{y}\", \"legendgroup\": \"\", \"marker\": {\"color\": \"#636efa\"}, \"name\": \"\", \"offsetgroup\": \"\", \"orientation\": \"v\", \"showlegend\": false, \"textposition\": \"auto\", \"x\": [\"Aetna\", \"Anthem\", \"Blue Cross Blue Shield\", \"Cigna Health\", \"Dual Eligible\", \"Humana\", \"Medicaid\", \"Medicare\", \"NO_INSURANCE\", \"UnitedHealthcare\"], \"xaxis\": \"x\", \"y\": [175, 107, 423, 232, 52, 204, 523, 397, 511, 266], \"yaxis\": \"y\", \"type\": \"bar\"}], \"name\": \"2012\"}, {\"data\": [{\"alignmentgroup\": \"True\", \"hoverlabel\": {\"namelength\": 0}, \"hovertemplate\": \"YEAR=2013<br>PAYER_NAME=%{x}<br>Id=%{y}\", \"legendgroup\": \"\", \"marker\": {\"color\": \"#636efa\"}, \"name\": \"\", \"offsetgroup\": \"\", \"orientation\": \"v\", \"showlegend\": false, \"textposition\": \"auto\", \"x\": [\"Aetna\", \"Anthem\", \"Blue Cross Blue Shield\", \"Cigna Health\", \"Dual Eligible\", \"Humana\", \"Medicaid\", \"Medicare\", \"NO_INSURANCE\", \"UnitedHealthcare\"], \"xaxis\": \"x\", \"y\": [214, 116, 364, 224, 51, 235, 510, 499, 558, 287], \"yaxis\": \"y\", \"type\": \"bar\"}], \"name\": \"2013\"}, {\"data\": [{\"alignmentgroup\": \"True\", \"hoverlabel\": {\"namelength\": 0}, \"hovertemplate\": \"YEAR=2014<br>PAYER_NAME=%{x}<br>Id=%{y}\", \"legendgroup\": \"\", \"marker\": {\"color\": \"#636efa\"}, \"name\": \"\", \"offsetgroup\": \"\", \"orientation\": \"v\", \"showlegend\": false, \"textposition\": \"auto\", \"x\": [\"Aetna\", \"Anthem\", \"Blue Cross Blue Shield\", \"Cigna Health\", \"Dual Eligible\", \"Humana\", \"Medicaid\", \"Medicare\", \"NO_INSURANCE\", \"UnitedHealthcare\"], \"xaxis\": \"x\", \"y\": [208, 110, 404, 199, 55, 266, 483, 622, 539, 292], \"yaxis\": \"y\", \"type\": \"bar\"}], \"name\": \"2014\"}, {\"data\": [{\"alignmentgroup\": \"True\", \"hoverlabel\": {\"namelength\": 0}, \"hovertemplate\": \"YEAR=2015<br>PAYER_NAME=%{x}<br>Id=%{y}\", \"legendgroup\": \"\", \"marker\": {\"color\": \"#636efa\"}, \"name\": \"\", \"offsetgroup\": \"\", \"orientation\": \"v\", \"showlegend\": false, \"textposition\": \"auto\", \"x\": [\"Aetna\", \"Anthem\", \"Blue Cross Blue Shield\", \"Cigna Health\", \"Dual Eligible\", \"Humana\", \"Medicaid\", \"Medicare\", \"NO_INSURANCE\", \"UnitedHealthcare\"], \"xaxis\": \"x\", \"y\": [230, 106, 360, 216, 59, 249, 462, 531, 589, 261], \"yaxis\": \"y\", \"type\": \"bar\"}], \"name\": \"2015\"}, {\"data\": [{\"alignmentgroup\": \"True\", \"hoverlabel\": {\"namelength\": 0}, \"hovertemplate\": \"YEAR=2016<br>PAYER_NAME=%{x}<br>Id=%{y}\", \"legendgroup\": \"\", \"marker\": {\"color\": \"#636efa\"}, \"name\": \"\", \"offsetgroup\": \"\", \"orientation\": \"v\", \"showlegend\": false, \"textposition\": \"auto\", \"x\": [\"Aetna\", \"Anthem\", \"Blue Cross Blue Shield\", \"Cigna Health\", \"Dual Eligible\", \"Humana\", \"Medicaid\", \"Medicare\", \"NO_INSURANCE\", \"UnitedHealthcare\"], \"xaxis\": \"x\", \"y\": [246, 97, 409, 210, 42, 259, 501, 534, 587, 263], \"yaxis\": \"y\", \"type\": \"bar\"}], \"name\": \"2016\"}, {\"data\": [{\"alignmentgroup\": \"True\", \"hoverlabel\": {\"namelength\": 0}, \"hovertemplate\": \"YEAR=2017<br>PAYER_NAME=%{x}<br>Id=%{y}\", \"legendgroup\": \"\", \"marker\": {\"color\": \"#636efa\"}, \"name\": \"\", \"offsetgroup\": \"\", \"orientation\": \"v\", \"showlegend\": false, \"textposition\": \"auto\", \"x\": [\"Aetna\", \"Anthem\", \"Blue Cross Blue Shield\", \"Cigna Health\", \"Dual Eligible\", \"Humana\", \"Medicaid\", \"Medicare\", \"NO_INSURANCE\", \"UnitedHealthcare\"], \"xaxis\": \"x\", \"y\": [211, 117, 396, 203, 45, 265, 529, 573, 555, 259], \"yaxis\": \"y\", \"type\": \"bar\"}], \"name\": \"2017\"}, {\"data\": [{\"alignmentgroup\": \"True\", \"hoverlabel\": {\"namelength\": 0}, \"hovertemplate\": \"YEAR=2018<br>PAYER_NAME=%{x}<br>Id=%{y}\", \"legendgroup\": \"\", \"marker\": {\"color\": \"#636efa\"}, \"name\": \"\", \"offsetgroup\": \"\", \"orientation\": \"v\", \"showlegend\": false, \"textposition\": \"auto\", \"x\": [\"Aetna\", \"Anthem\", \"Blue Cross Blue Shield\", \"Cigna Health\", \"Dual Eligible\", \"Humana\", \"Medicaid\", \"Medicare\", \"NO_INSURANCE\", \"UnitedHealthcare\"], \"xaxis\": \"x\", \"y\": [196, 114, 348, 223, 55, 277, 496, 561, 600, 220], \"yaxis\": \"y\", \"type\": \"bar\"}], \"name\": \"2018\"}, {\"data\": [{\"alignmentgroup\": \"True\", \"hoverlabel\": {\"namelength\": 0}, \"hovertemplate\": \"YEAR=2019<br>PAYER_NAME=%{x}<br>Id=%{y}\", \"legendgroup\": \"\", \"marker\": {\"color\": \"#636efa\"}, \"name\": \"\", \"offsetgroup\": \"\", \"orientation\": \"v\", \"showlegend\": false, \"textposition\": \"auto\", \"x\": [\"Aetna\", \"Anthem\", \"Blue Cross Blue Shield\", \"Cigna Health\", \"Dual Eligible\", \"Humana\", \"Medicaid\", \"Medicare\", \"NO_INSURANCE\", \"UnitedHealthcare\"], \"xaxis\": \"x\", \"y\": [183, 119, 285, 188, 72, 251, 410, 579, 632, 200], \"yaxis\": \"y\", \"type\": \"bar\"}], \"name\": \"2019\"}, {\"data\": [{\"alignmentgroup\": \"True\", \"hoverlabel\": {\"namelength\": 0}, \"hovertemplate\": \"YEAR=2020<br>PAYER_NAME=%{x}<br>Id=%{y}\", \"legendgroup\": \"\", \"marker\": {\"color\": \"#636efa\"}, \"name\": \"\", \"offsetgroup\": \"\", \"orientation\": \"v\", \"showlegend\": false, \"textposition\": \"auto\", \"x\": [\"Aetna\", \"Anthem\", \"Blue Cross Blue Shield\", \"Cigna Health\", \"Dual Eligible\", \"Humana\", \"Medicaid\", \"Medicare\", \"NO_INSURANCE\", \"UnitedHealthcare\"], \"xaxis\": \"x\", \"y\": [57, 37, 110, 74, 18, 81, 149, 179, 200, 56], \"yaxis\": \"y\", \"type\": \"bar\"}], \"name\": \"2020\"}]);\n",
       "                        }).then(function(){\n",
       "                            \n",
       "var gd = document.getElementById('f19db6ee-e325-42cd-914d-fd211b534173');\n",
       "var x = new MutationObserver(function (mutations, observer) {{\n",
       "        var display = window.getComputedStyle(gd).display;\n",
       "        if (!display || display === 'none') {{\n",
       "            console.log([gd, 'removed!']);\n",
       "            Plotly.purge(gd);\n",
       "            observer.disconnect();\n",
       "        }}\n",
       "}});\n",
       "\n",
       "// Listen for the removal of the full notebook cells\n",
       "var notebookContainer = gd.closest('#notebook-container');\n",
       "if (notebookContainer) {{\n",
       "    x.observe(notebookContainer, {childList: true});\n",
       "}}\n",
       "\n",
       "// Listen for the clearing of the current output cell\n",
       "var outputEl = gd.closest('.output');\n",
       "if (outputEl) {{\n",
       "    x.observe(outputEl, {childList: true});\n",
       "}}\n",
       "\n",
       "                        })\n",
       "                };\n",
       "                });\n",
       "            </script>\n",
       "        </div>"
      ]
     },
     "metadata": {},
     "output_type": "display_data"
    }
   ],
   "source": [
    "counts = encounter.groupby(['PAYER_NAME','YEAR']).count().reset_index()\n",
    "px.bar(counts,x='PAYER_NAME',y='Id',animation_frame='YEAR')"
   ]
  },
  {
   "cell_type": "markdown",
   "metadata": {},
   "source": [
    "### II - How has the year wise trend been in the number of patient visits ?\n",
    "\n",
    "This is bit more complex animation with a play button"
   ]
  },
  {
   "cell_type": "code",
   "execution_count": 112,
   "metadata": {},
   "outputs": [
    {
     "data": {
      "text/html": [
       "<div>\n",
       "<style scoped>\n",
       "    .dataframe tbody tr th:only-of-type {\n",
       "        vertical-align: middle;\n",
       "    }\n",
       "\n",
       "    .dataframe tbody tr th {\n",
       "        vertical-align: top;\n",
       "    }\n",
       "\n",
       "    .dataframe thead th {\n",
       "        text-align: right;\n",
       "    }\n",
       "</style>\n",
       "<table border=\"1\" class=\"dataframe\">\n",
       "  <thead>\n",
       "    <tr style=\"text-align: right;\">\n",
       "      <th></th>\n",
       "      <th>YEAR</th>\n",
       "      <th>Id</th>\n",
       "    </tr>\n",
       "  </thead>\n",
       "  <tbody>\n",
       "    <tr>\n",
       "      <th>0</th>\n",
       "      <td>2010</td>\n",
       "      <td>2083</td>\n",
       "    </tr>\n",
       "    <tr>\n",
       "      <th>1</th>\n",
       "      <td>2011</td>\n",
       "      <td>2979</td>\n",
       "    </tr>\n",
       "    <tr>\n",
       "      <th>2</th>\n",
       "      <td>2012</td>\n",
       "      <td>2890</td>\n",
       "    </tr>\n",
       "    <tr>\n",
       "      <th>3</th>\n",
       "      <td>2013</td>\n",
       "      <td>3058</td>\n",
       "    </tr>\n",
       "    <tr>\n",
       "      <th>4</th>\n",
       "      <td>2014</td>\n",
       "      <td>3178</td>\n",
       "    </tr>\n",
       "    <tr>\n",
       "      <th>5</th>\n",
       "      <td>2015</td>\n",
       "      <td>3063</td>\n",
       "    </tr>\n",
       "    <tr>\n",
       "      <th>6</th>\n",
       "      <td>2016</td>\n",
       "      <td>3148</td>\n",
       "    </tr>\n",
       "    <tr>\n",
       "      <th>7</th>\n",
       "      <td>2017</td>\n",
       "      <td>3153</td>\n",
       "    </tr>\n",
       "    <tr>\n",
       "      <th>8</th>\n",
       "      <td>2018</td>\n",
       "      <td>3090</td>\n",
       "    </tr>\n",
       "    <tr>\n",
       "      <th>9</th>\n",
       "      <td>2019</td>\n",
       "      <td>2919</td>\n",
       "    </tr>\n",
       "    <tr>\n",
       "      <th>10</th>\n",
       "      <td>2020</td>\n",
       "      <td>961</td>\n",
       "    </tr>\n",
       "  </tbody>\n",
       "</table>\n",
       "</div>"
      ],
      "text/plain": [
       "    YEAR    Id\n",
       "0   2010  2083\n",
       "1   2011  2979\n",
       "2   2012  2890\n",
       "3   2013  3058\n",
       "4   2014  3178\n",
       "5   2015  3063\n",
       "6   2016  3148\n",
       "7   2017  3153\n",
       "8   2018  3090\n",
       "9   2019  2919\n",
       "10  2020   961"
      ]
     },
     "execution_count": 112,
     "metadata": {},
     "output_type": "execute_result"
    }
   ],
   "source": [
    "no_cases=encounter.groupby([\"YEAR\"]).count()[\"Id\"].reset_index()\n",
    "no_cases"
   ]
  },
  {
   "cell_type": "markdown",
   "metadata": {},
   "source": [
    "#### We need to create a year wise trend line animation\n",
    "\n",
    "- x- axis: year\n",
    "\n",
    "- y-axis : count\n",
    "\n",
    "For this we need : \n",
    "- range of values on the x axis and y axis\n",
    "- starting values for x and y\n",
    "- x and y values for each year\n",
    "\n",
    "And for the plotly chart we need to define:\n",
    "- Layout (Buttons)\n",
    "- Frames (x and y value of each year)\n",
    "- data: starting and y values"
   ]
  },
  {
   "cell_type": "code",
   "execution_count": 114,
   "metadata": {},
   "outputs": [],
   "source": [
    "# find the range of x values and y values\n",
    "x_range = [no_cases[\"YEAR\"].min(),no_cases[\"YEAR\"].max()]\n",
    "y_range = [no_cases[\"YEAR\"].min(),no_cases[\"Id\"].max()]"
   ]
  },
  {
   "cell_type": "code",
   "execution_count": 117,
   "metadata": {},
   "outputs": [],
   "source": [
    "# Starting x values and start y values\n",
    "start_x = no_cases[\"YEAR\"].iloc[0]\n",
    "start_y = no_cases[\"Id\"].iloc[0]\n",
    "\n",
    "data = go.Scatter(x=[start_x,start_x],y=[start_y,start_y])"
   ]
  },
  {
   "cell_type": "code",
   "execution_count": 125,
   "metadata": {},
   "outputs": [],
   "source": [
    "# individual x and y values\n",
    "frames = []\n",
    "for i in range(2,len(no_cases)+1):\n",
    "    frame = go.Scatter(x=no_cases[\"YEAR\"].iloc[:i],y=no_cases[\"Id\"].iloc[:i])\n",
    "    frame = go.Frame(data=[frame])\n",
    "    frames.append(frame)\n",
    "    \n"
   ]
  },
  {
   "cell_type": "code",
   "execution_count": 126,
   "metadata": {},
   "outputs": [],
   "source": [
    "button = {\"label\":\"Play\",\n",
    "          \"method\":\"animate\",\n",
    "         \"args\":[None]\n",
    "         }\n",
    "update_menus = {\"type\":\"buttons\",\n",
    "         \"buttons\":[button],\n",
    "          }\n",
    "layout=go.Layout(xaxis=dict(range=x_range),yaxis=dict(range=y_range),updatemenus=[update_menus])"
   ]
  },
  {
   "cell_type": "code",
   "execution_count": 127,
   "metadata": {},
   "outputs": [
    {
     "data": {
      "application/vnd.plotly.v1+json": {
       "config": {
        "plotlyServerURL": "https://plot.ly"
       },
       "data": [
        {
         "type": "scatter",
         "x": [
          2010,
          2010
         ],
         "y": [
          2083,
          2083
         ]
        }
       ],
       "frames": [
        {
         "data": [
          {
           "type": "scatter",
           "x": [
            2010,
            2011
           ],
           "y": [
            2083,
            2979
           ]
          }
         ]
        },
        {
         "data": [
          {
           "type": "scatter",
           "x": [
            2010,
            2011,
            2012
           ],
           "y": [
            2083,
            2979,
            2890
           ]
          }
         ]
        },
        {
         "data": [
          {
           "type": "scatter",
           "x": [
            2010,
            2011,
            2012,
            2013
           ],
           "y": [
            2083,
            2979,
            2890,
            3058
           ]
          }
         ]
        },
        {
         "data": [
          {
           "type": "scatter",
           "x": [
            2010,
            2011,
            2012,
            2013,
            2014
           ],
           "y": [
            2083,
            2979,
            2890,
            3058,
            3178
           ]
          }
         ]
        },
        {
         "data": [
          {
           "type": "scatter",
           "x": [
            2010,
            2011,
            2012,
            2013,
            2014,
            2015
           ],
           "y": [
            2083,
            2979,
            2890,
            3058,
            3178,
            3063
           ]
          }
         ]
        },
        {
         "data": [
          {
           "type": "scatter",
           "x": [
            2010,
            2011,
            2012,
            2013,
            2014,
            2015,
            2016
           ],
           "y": [
            2083,
            2979,
            2890,
            3058,
            3178,
            3063,
            3148
           ]
          }
         ]
        },
        {
         "data": [
          {
           "type": "scatter",
           "x": [
            2010,
            2011,
            2012,
            2013,
            2014,
            2015,
            2016,
            2017
           ],
           "y": [
            2083,
            2979,
            2890,
            3058,
            3178,
            3063,
            3148,
            3153
           ]
          }
         ]
        },
        {
         "data": [
          {
           "type": "scatter",
           "x": [
            2010,
            2011,
            2012,
            2013,
            2014,
            2015,
            2016,
            2017,
            2018
           ],
           "y": [
            2083,
            2979,
            2890,
            3058,
            3178,
            3063,
            3148,
            3153,
            3090
           ]
          }
         ]
        },
        {
         "data": [
          {
           "type": "scatter",
           "x": [
            2010,
            2011,
            2012,
            2013,
            2014,
            2015,
            2016,
            2017,
            2018,
            2019
           ],
           "y": [
            2083,
            2979,
            2890,
            3058,
            3178,
            3063,
            3148,
            3153,
            3090,
            2919
           ]
          }
         ]
        },
        {
         "data": [
          {
           "type": "scatter",
           "x": [
            2010,
            2011,
            2012,
            2013,
            2014,
            2015,
            2016,
            2017,
            2018,
            2019,
            2020
           ],
           "y": [
            2083,
            2979,
            2890,
            3058,
            3178,
            3063,
            3148,
            3153,
            3090,
            2919,
            961
           ]
          }
         ]
        }
       ],
       "layout": {
        "template": {
         "data": {
          "bar": [
           {
            "error_x": {
             "color": "#2a3f5f"
            },
            "error_y": {
             "color": "#2a3f5f"
            },
            "marker": {
             "line": {
              "color": "#E5ECF6",
              "width": 0.5
             }
            },
            "type": "bar"
           }
          ],
          "barpolar": [
           {
            "marker": {
             "line": {
              "color": "#E5ECF6",
              "width": 0.5
             }
            },
            "type": "barpolar"
           }
          ],
          "carpet": [
           {
            "aaxis": {
             "endlinecolor": "#2a3f5f",
             "gridcolor": "white",
             "linecolor": "white",
             "minorgridcolor": "white",
             "startlinecolor": "#2a3f5f"
            },
            "baxis": {
             "endlinecolor": "#2a3f5f",
             "gridcolor": "white",
             "linecolor": "white",
             "minorgridcolor": "white",
             "startlinecolor": "#2a3f5f"
            },
            "type": "carpet"
           }
          ],
          "choropleth": [
           {
            "colorbar": {
             "outlinewidth": 0,
             "ticks": ""
            },
            "type": "choropleth"
           }
          ],
          "contour": [
           {
            "colorbar": {
             "outlinewidth": 0,
             "ticks": ""
            },
            "colorscale": [
             [
              0,
              "#0d0887"
             ],
             [
              0.1111111111111111,
              "#46039f"
             ],
             [
              0.2222222222222222,
              "#7201a8"
             ],
             [
              0.3333333333333333,
              "#9c179e"
             ],
             [
              0.4444444444444444,
              "#bd3786"
             ],
             [
              0.5555555555555556,
              "#d8576b"
             ],
             [
              0.6666666666666666,
              "#ed7953"
             ],
             [
              0.7777777777777778,
              "#fb9f3a"
             ],
             [
              0.8888888888888888,
              "#fdca26"
             ],
             [
              1,
              "#f0f921"
             ]
            ],
            "type": "contour"
           }
          ],
          "contourcarpet": [
           {
            "colorbar": {
             "outlinewidth": 0,
             "ticks": ""
            },
            "type": "contourcarpet"
           }
          ],
          "heatmap": [
           {
            "colorbar": {
             "outlinewidth": 0,
             "ticks": ""
            },
            "colorscale": [
             [
              0,
              "#0d0887"
             ],
             [
              0.1111111111111111,
              "#46039f"
             ],
             [
              0.2222222222222222,
              "#7201a8"
             ],
             [
              0.3333333333333333,
              "#9c179e"
             ],
             [
              0.4444444444444444,
              "#bd3786"
             ],
             [
              0.5555555555555556,
              "#d8576b"
             ],
             [
              0.6666666666666666,
              "#ed7953"
             ],
             [
              0.7777777777777778,
              "#fb9f3a"
             ],
             [
              0.8888888888888888,
              "#fdca26"
             ],
             [
              1,
              "#f0f921"
             ]
            ],
            "type": "heatmap"
           }
          ],
          "heatmapgl": [
           {
            "colorbar": {
             "outlinewidth": 0,
             "ticks": ""
            },
            "colorscale": [
             [
              0,
              "#0d0887"
             ],
             [
              0.1111111111111111,
              "#46039f"
             ],
             [
              0.2222222222222222,
              "#7201a8"
             ],
             [
              0.3333333333333333,
              "#9c179e"
             ],
             [
              0.4444444444444444,
              "#bd3786"
             ],
             [
              0.5555555555555556,
              "#d8576b"
             ],
             [
              0.6666666666666666,
              "#ed7953"
             ],
             [
              0.7777777777777778,
              "#fb9f3a"
             ],
             [
              0.8888888888888888,
              "#fdca26"
             ],
             [
              1,
              "#f0f921"
             ]
            ],
            "type": "heatmapgl"
           }
          ],
          "histogram": [
           {
            "marker": {
             "colorbar": {
              "outlinewidth": 0,
              "ticks": ""
             }
            },
            "type": "histogram"
           }
          ],
          "histogram2d": [
           {
            "colorbar": {
             "outlinewidth": 0,
             "ticks": ""
            },
            "colorscale": [
             [
              0,
              "#0d0887"
             ],
             [
              0.1111111111111111,
              "#46039f"
             ],
             [
              0.2222222222222222,
              "#7201a8"
             ],
             [
              0.3333333333333333,
              "#9c179e"
             ],
             [
              0.4444444444444444,
              "#bd3786"
             ],
             [
              0.5555555555555556,
              "#d8576b"
             ],
             [
              0.6666666666666666,
              "#ed7953"
             ],
             [
              0.7777777777777778,
              "#fb9f3a"
             ],
             [
              0.8888888888888888,
              "#fdca26"
             ],
             [
              1,
              "#f0f921"
             ]
            ],
            "type": "histogram2d"
           }
          ],
          "histogram2dcontour": [
           {
            "colorbar": {
             "outlinewidth": 0,
             "ticks": ""
            },
            "colorscale": [
             [
              0,
              "#0d0887"
             ],
             [
              0.1111111111111111,
              "#46039f"
             ],
             [
              0.2222222222222222,
              "#7201a8"
             ],
             [
              0.3333333333333333,
              "#9c179e"
             ],
             [
              0.4444444444444444,
              "#bd3786"
             ],
             [
              0.5555555555555556,
              "#d8576b"
             ],
             [
              0.6666666666666666,
              "#ed7953"
             ],
             [
              0.7777777777777778,
              "#fb9f3a"
             ],
             [
              0.8888888888888888,
              "#fdca26"
             ],
             [
              1,
              "#f0f921"
             ]
            ],
            "type": "histogram2dcontour"
           }
          ],
          "mesh3d": [
           {
            "colorbar": {
             "outlinewidth": 0,
             "ticks": ""
            },
            "type": "mesh3d"
           }
          ],
          "parcoords": [
           {
            "line": {
             "colorbar": {
              "outlinewidth": 0,
              "ticks": ""
             }
            },
            "type": "parcoords"
           }
          ],
          "pie": [
           {
            "automargin": true,
            "type": "pie"
           }
          ],
          "scatter": [
           {
            "marker": {
             "colorbar": {
              "outlinewidth": 0,
              "ticks": ""
             }
            },
            "type": "scatter"
           }
          ],
          "scatter3d": [
           {
            "line": {
             "colorbar": {
              "outlinewidth": 0,
              "ticks": ""
             }
            },
            "marker": {
             "colorbar": {
              "outlinewidth": 0,
              "ticks": ""
             }
            },
            "type": "scatter3d"
           }
          ],
          "scattercarpet": [
           {
            "marker": {
             "colorbar": {
              "outlinewidth": 0,
              "ticks": ""
             }
            },
            "type": "scattercarpet"
           }
          ],
          "scattergeo": [
           {
            "marker": {
             "colorbar": {
              "outlinewidth": 0,
              "ticks": ""
             }
            },
            "type": "scattergeo"
           }
          ],
          "scattergl": [
           {
            "marker": {
             "colorbar": {
              "outlinewidth": 0,
              "ticks": ""
             }
            },
            "type": "scattergl"
           }
          ],
          "scattermapbox": [
           {
            "marker": {
             "colorbar": {
              "outlinewidth": 0,
              "ticks": ""
             }
            },
            "type": "scattermapbox"
           }
          ],
          "scatterpolar": [
           {
            "marker": {
             "colorbar": {
              "outlinewidth": 0,
              "ticks": ""
             }
            },
            "type": "scatterpolar"
           }
          ],
          "scatterpolargl": [
           {
            "marker": {
             "colorbar": {
              "outlinewidth": 0,
              "ticks": ""
             }
            },
            "type": "scatterpolargl"
           }
          ],
          "scatterternary": [
           {
            "marker": {
             "colorbar": {
              "outlinewidth": 0,
              "ticks": ""
             }
            },
            "type": "scatterternary"
           }
          ],
          "surface": [
           {
            "colorbar": {
             "outlinewidth": 0,
             "ticks": ""
            },
            "colorscale": [
             [
              0,
              "#0d0887"
             ],
             [
              0.1111111111111111,
              "#46039f"
             ],
             [
              0.2222222222222222,
              "#7201a8"
             ],
             [
              0.3333333333333333,
              "#9c179e"
             ],
             [
              0.4444444444444444,
              "#bd3786"
             ],
             [
              0.5555555555555556,
              "#d8576b"
             ],
             [
              0.6666666666666666,
              "#ed7953"
             ],
             [
              0.7777777777777778,
              "#fb9f3a"
             ],
             [
              0.8888888888888888,
              "#fdca26"
             ],
             [
              1,
              "#f0f921"
             ]
            ],
            "type": "surface"
           }
          ],
          "table": [
           {
            "cells": {
             "fill": {
              "color": "#EBF0F8"
             },
             "line": {
              "color": "white"
             }
            },
            "header": {
             "fill": {
              "color": "#C8D4E3"
             },
             "line": {
              "color": "white"
             }
            },
            "type": "table"
           }
          ]
         },
         "layout": {
          "annotationdefaults": {
           "arrowcolor": "#2a3f5f",
           "arrowhead": 0,
           "arrowwidth": 1
          },
          "coloraxis": {
           "colorbar": {
            "outlinewidth": 0,
            "ticks": ""
           }
          },
          "colorscale": {
           "diverging": [
            [
             0,
             "#8e0152"
            ],
            [
             0.1,
             "#c51b7d"
            ],
            [
             0.2,
             "#de77ae"
            ],
            [
             0.3,
             "#f1b6da"
            ],
            [
             0.4,
             "#fde0ef"
            ],
            [
             0.5,
             "#f7f7f7"
            ],
            [
             0.6,
             "#e6f5d0"
            ],
            [
             0.7,
             "#b8e186"
            ],
            [
             0.8,
             "#7fbc41"
            ],
            [
             0.9,
             "#4d9221"
            ],
            [
             1,
             "#276419"
            ]
           ],
           "sequential": [
            [
             0,
             "#0d0887"
            ],
            [
             0.1111111111111111,
             "#46039f"
            ],
            [
             0.2222222222222222,
             "#7201a8"
            ],
            [
             0.3333333333333333,
             "#9c179e"
            ],
            [
             0.4444444444444444,
             "#bd3786"
            ],
            [
             0.5555555555555556,
             "#d8576b"
            ],
            [
             0.6666666666666666,
             "#ed7953"
            ],
            [
             0.7777777777777778,
             "#fb9f3a"
            ],
            [
             0.8888888888888888,
             "#fdca26"
            ],
            [
             1,
             "#f0f921"
            ]
           ],
           "sequentialminus": [
            [
             0,
             "#0d0887"
            ],
            [
             0.1111111111111111,
             "#46039f"
            ],
            [
             0.2222222222222222,
             "#7201a8"
            ],
            [
             0.3333333333333333,
             "#9c179e"
            ],
            [
             0.4444444444444444,
             "#bd3786"
            ],
            [
             0.5555555555555556,
             "#d8576b"
            ],
            [
             0.6666666666666666,
             "#ed7953"
            ],
            [
             0.7777777777777778,
             "#fb9f3a"
            ],
            [
             0.8888888888888888,
             "#fdca26"
            ],
            [
             1,
             "#f0f921"
            ]
           ]
          },
          "colorway": [
           "#636efa",
           "#EF553B",
           "#00cc96",
           "#ab63fa",
           "#FFA15A",
           "#19d3f3",
           "#FF6692",
           "#B6E880",
           "#FF97FF",
           "#FECB52"
          ],
          "font": {
           "color": "#2a3f5f"
          },
          "geo": {
           "bgcolor": "white",
           "lakecolor": "white",
           "landcolor": "#E5ECF6",
           "showlakes": true,
           "showland": true,
           "subunitcolor": "white"
          },
          "hoverlabel": {
           "align": "left"
          },
          "hovermode": "closest",
          "mapbox": {
           "style": "light"
          },
          "paper_bgcolor": "white",
          "plot_bgcolor": "#E5ECF6",
          "polar": {
           "angularaxis": {
            "gridcolor": "white",
            "linecolor": "white",
            "ticks": ""
           },
           "bgcolor": "#E5ECF6",
           "radialaxis": {
            "gridcolor": "white",
            "linecolor": "white",
            "ticks": ""
           }
          },
          "scene": {
           "xaxis": {
            "backgroundcolor": "#E5ECF6",
            "gridcolor": "white",
            "gridwidth": 2,
            "linecolor": "white",
            "showbackground": true,
            "ticks": "",
            "zerolinecolor": "white"
           },
           "yaxis": {
            "backgroundcolor": "#E5ECF6",
            "gridcolor": "white",
            "gridwidth": 2,
            "linecolor": "white",
            "showbackground": true,
            "ticks": "",
            "zerolinecolor": "white"
           },
           "zaxis": {
            "backgroundcolor": "#E5ECF6",
            "gridcolor": "white",
            "gridwidth": 2,
            "linecolor": "white",
            "showbackground": true,
            "ticks": "",
            "zerolinecolor": "white"
           }
          },
          "shapedefaults": {
           "line": {
            "color": "#2a3f5f"
           }
          },
          "ternary": {
           "aaxis": {
            "gridcolor": "white",
            "linecolor": "white",
            "ticks": ""
           },
           "baxis": {
            "gridcolor": "white",
            "linecolor": "white",
            "ticks": ""
           },
           "bgcolor": "#E5ECF6",
           "caxis": {
            "gridcolor": "white",
            "linecolor": "white",
            "ticks": ""
           }
          },
          "title": {
           "x": 0.05
          },
          "xaxis": {
           "automargin": true,
           "gridcolor": "white",
           "linecolor": "white",
           "ticks": "",
           "title": {
            "standoff": 15
           },
           "zerolinecolor": "white",
           "zerolinewidth": 2
          },
          "yaxis": {
           "automargin": true,
           "gridcolor": "white",
           "linecolor": "white",
           "ticks": "",
           "title": {
            "standoff": 15
           },
           "zerolinecolor": "white",
           "zerolinewidth": 2
          }
         }
        },
        "updatemenus": [
         {
          "buttons": [
           {
            "args": [
             null
            ],
            "label": "Play",
            "method": "animate"
           }
          ],
          "type": "buttons"
         }
        ],
        "xaxis": {
         "range": [
          2010,
          2020
         ]
        },
        "yaxis": {
         "range": [
          2010,
          3178
         ]
        }
       }
      },
      "text/html": [
       "<div>\n",
       "        \n",
       "        \n",
       "            <div id=\"ada33414-8fe3-487b-8b94-f3deff8d7066\" class=\"plotly-graph-div\" style=\"height:525px; width:100%;\"></div>\n",
       "            <script type=\"text/javascript\">\n",
       "                require([\"plotly\"], function(Plotly) {\n",
       "                    window.PLOTLYENV=window.PLOTLYENV || {};\n",
       "                    \n",
       "                if (document.getElementById(\"ada33414-8fe3-487b-8b94-f3deff8d7066\")) {\n",
       "                    Plotly.newPlot(\n",
       "                        'ada33414-8fe3-487b-8b94-f3deff8d7066',\n",
       "                        [{\"type\": \"scatter\", \"x\": [2010, 2010], \"y\": [2083, 2083]}],\n",
       "                        {\"template\": {\"data\": {\"bar\": [{\"error_x\": {\"color\": \"#2a3f5f\"}, \"error_y\": {\"color\": \"#2a3f5f\"}, \"marker\": {\"line\": {\"color\": \"#E5ECF6\", \"width\": 0.5}}, \"type\": \"bar\"}], \"barpolar\": [{\"marker\": {\"line\": {\"color\": \"#E5ECF6\", \"width\": 0.5}}, \"type\": \"barpolar\"}], \"carpet\": [{\"aaxis\": {\"endlinecolor\": \"#2a3f5f\", \"gridcolor\": \"white\", \"linecolor\": \"white\", \"minorgridcolor\": \"white\", \"startlinecolor\": \"#2a3f5f\"}, \"baxis\": {\"endlinecolor\": \"#2a3f5f\", \"gridcolor\": \"white\", \"linecolor\": \"white\", \"minorgridcolor\": \"white\", \"startlinecolor\": \"#2a3f5f\"}, \"type\": \"carpet\"}], \"choropleth\": [{\"colorbar\": {\"outlinewidth\": 0, \"ticks\": \"\"}, \"type\": \"choropleth\"}], \"contour\": [{\"colorbar\": {\"outlinewidth\": 0, \"ticks\": \"\"}, \"colorscale\": [[0.0, \"#0d0887\"], [0.1111111111111111, \"#46039f\"], [0.2222222222222222, \"#7201a8\"], [0.3333333333333333, \"#9c179e\"], [0.4444444444444444, \"#bd3786\"], [0.5555555555555556, \"#d8576b\"], [0.6666666666666666, \"#ed7953\"], [0.7777777777777778, \"#fb9f3a\"], [0.8888888888888888, \"#fdca26\"], [1.0, \"#f0f921\"]], \"type\": \"contour\"}], \"contourcarpet\": [{\"colorbar\": {\"outlinewidth\": 0, \"ticks\": \"\"}, \"type\": \"contourcarpet\"}], \"heatmap\": [{\"colorbar\": {\"outlinewidth\": 0, \"ticks\": \"\"}, \"colorscale\": [[0.0, \"#0d0887\"], [0.1111111111111111, \"#46039f\"], [0.2222222222222222, \"#7201a8\"], [0.3333333333333333, \"#9c179e\"], [0.4444444444444444, \"#bd3786\"], [0.5555555555555556, \"#d8576b\"], [0.6666666666666666, \"#ed7953\"], [0.7777777777777778, \"#fb9f3a\"], [0.8888888888888888, \"#fdca26\"], [1.0, \"#f0f921\"]], \"type\": \"heatmap\"}], \"heatmapgl\": [{\"colorbar\": {\"outlinewidth\": 0, \"ticks\": \"\"}, \"colorscale\": [[0.0, \"#0d0887\"], [0.1111111111111111, \"#46039f\"], [0.2222222222222222, \"#7201a8\"], [0.3333333333333333, \"#9c179e\"], [0.4444444444444444, \"#bd3786\"], [0.5555555555555556, \"#d8576b\"], [0.6666666666666666, \"#ed7953\"], [0.7777777777777778, \"#fb9f3a\"], [0.8888888888888888, \"#fdca26\"], [1.0, \"#f0f921\"]], \"type\": \"heatmapgl\"}], \"histogram\": [{\"marker\": {\"colorbar\": {\"outlinewidth\": 0, \"ticks\": \"\"}}, \"type\": \"histogram\"}], \"histogram2d\": [{\"colorbar\": {\"outlinewidth\": 0, \"ticks\": \"\"}, \"colorscale\": [[0.0, \"#0d0887\"], [0.1111111111111111, \"#46039f\"], [0.2222222222222222, \"#7201a8\"], [0.3333333333333333, \"#9c179e\"], [0.4444444444444444, \"#bd3786\"], [0.5555555555555556, \"#d8576b\"], [0.6666666666666666, \"#ed7953\"], [0.7777777777777778, \"#fb9f3a\"], [0.8888888888888888, \"#fdca26\"], [1.0, \"#f0f921\"]], \"type\": \"histogram2d\"}], \"histogram2dcontour\": [{\"colorbar\": {\"outlinewidth\": 0, \"ticks\": \"\"}, \"colorscale\": [[0.0, \"#0d0887\"], [0.1111111111111111, \"#46039f\"], [0.2222222222222222, \"#7201a8\"], [0.3333333333333333, \"#9c179e\"], [0.4444444444444444, \"#bd3786\"], [0.5555555555555556, \"#d8576b\"], [0.6666666666666666, \"#ed7953\"], [0.7777777777777778, \"#fb9f3a\"], [0.8888888888888888, \"#fdca26\"], [1.0, \"#f0f921\"]], \"type\": \"histogram2dcontour\"}], \"mesh3d\": [{\"colorbar\": {\"outlinewidth\": 0, \"ticks\": \"\"}, \"type\": \"mesh3d\"}], \"parcoords\": [{\"line\": {\"colorbar\": {\"outlinewidth\": 0, \"ticks\": \"\"}}, \"type\": \"parcoords\"}], \"pie\": [{\"automargin\": true, \"type\": \"pie\"}], \"scatter\": [{\"marker\": {\"colorbar\": {\"outlinewidth\": 0, \"ticks\": \"\"}}, \"type\": \"scatter\"}], \"scatter3d\": [{\"line\": {\"colorbar\": {\"outlinewidth\": 0, \"ticks\": \"\"}}, \"marker\": {\"colorbar\": {\"outlinewidth\": 0, \"ticks\": \"\"}}, \"type\": \"scatter3d\"}], \"scattercarpet\": [{\"marker\": {\"colorbar\": {\"outlinewidth\": 0, \"ticks\": \"\"}}, \"type\": \"scattercarpet\"}], \"scattergeo\": [{\"marker\": {\"colorbar\": {\"outlinewidth\": 0, \"ticks\": \"\"}}, \"type\": \"scattergeo\"}], \"scattergl\": [{\"marker\": {\"colorbar\": {\"outlinewidth\": 0, \"ticks\": \"\"}}, \"type\": \"scattergl\"}], \"scattermapbox\": [{\"marker\": {\"colorbar\": {\"outlinewidth\": 0, \"ticks\": \"\"}}, \"type\": \"scattermapbox\"}], \"scatterpolar\": [{\"marker\": {\"colorbar\": {\"outlinewidth\": 0, \"ticks\": \"\"}}, \"type\": \"scatterpolar\"}], \"scatterpolargl\": [{\"marker\": {\"colorbar\": {\"outlinewidth\": 0, \"ticks\": \"\"}}, \"type\": \"scatterpolargl\"}], \"scatterternary\": [{\"marker\": {\"colorbar\": {\"outlinewidth\": 0, \"ticks\": \"\"}}, \"type\": \"scatterternary\"}], \"surface\": [{\"colorbar\": {\"outlinewidth\": 0, \"ticks\": \"\"}, \"colorscale\": [[0.0, \"#0d0887\"], [0.1111111111111111, \"#46039f\"], [0.2222222222222222, \"#7201a8\"], [0.3333333333333333, \"#9c179e\"], [0.4444444444444444, \"#bd3786\"], [0.5555555555555556, \"#d8576b\"], [0.6666666666666666, \"#ed7953\"], [0.7777777777777778, \"#fb9f3a\"], [0.8888888888888888, \"#fdca26\"], [1.0, \"#f0f921\"]], \"type\": \"surface\"}], \"table\": [{\"cells\": {\"fill\": {\"color\": \"#EBF0F8\"}, \"line\": {\"color\": \"white\"}}, \"header\": {\"fill\": {\"color\": \"#C8D4E3\"}, \"line\": {\"color\": \"white\"}}, \"type\": \"table\"}]}, \"layout\": {\"annotationdefaults\": {\"arrowcolor\": \"#2a3f5f\", \"arrowhead\": 0, \"arrowwidth\": 1}, \"coloraxis\": {\"colorbar\": {\"outlinewidth\": 0, \"ticks\": \"\"}}, \"colorscale\": {\"diverging\": [[0, \"#8e0152\"], [0.1, \"#c51b7d\"], [0.2, \"#de77ae\"], [0.3, \"#f1b6da\"], [0.4, \"#fde0ef\"], [0.5, \"#f7f7f7\"], [0.6, \"#e6f5d0\"], [0.7, \"#b8e186\"], [0.8, \"#7fbc41\"], [0.9, \"#4d9221\"], [1, \"#276419\"]], \"sequential\": [[0.0, \"#0d0887\"], [0.1111111111111111, \"#46039f\"], [0.2222222222222222, \"#7201a8\"], [0.3333333333333333, \"#9c179e\"], [0.4444444444444444, \"#bd3786\"], [0.5555555555555556, \"#d8576b\"], [0.6666666666666666, \"#ed7953\"], [0.7777777777777778, \"#fb9f3a\"], [0.8888888888888888, \"#fdca26\"], [1.0, \"#f0f921\"]], \"sequentialminus\": [[0.0, \"#0d0887\"], [0.1111111111111111, \"#46039f\"], [0.2222222222222222, \"#7201a8\"], [0.3333333333333333, \"#9c179e\"], [0.4444444444444444, \"#bd3786\"], [0.5555555555555556, \"#d8576b\"], [0.6666666666666666, \"#ed7953\"], [0.7777777777777778, \"#fb9f3a\"], [0.8888888888888888, \"#fdca26\"], [1.0, \"#f0f921\"]]}, \"colorway\": [\"#636efa\", \"#EF553B\", \"#00cc96\", \"#ab63fa\", \"#FFA15A\", \"#19d3f3\", \"#FF6692\", \"#B6E880\", \"#FF97FF\", \"#FECB52\"], \"font\": {\"color\": \"#2a3f5f\"}, \"geo\": {\"bgcolor\": \"white\", \"lakecolor\": \"white\", \"landcolor\": \"#E5ECF6\", \"showlakes\": true, \"showland\": true, \"subunitcolor\": \"white\"}, \"hoverlabel\": {\"align\": \"left\"}, \"hovermode\": \"closest\", \"mapbox\": {\"style\": \"light\"}, \"paper_bgcolor\": \"white\", \"plot_bgcolor\": \"#E5ECF6\", \"polar\": {\"angularaxis\": {\"gridcolor\": \"white\", \"linecolor\": \"white\", \"ticks\": \"\"}, \"bgcolor\": \"#E5ECF6\", \"radialaxis\": {\"gridcolor\": \"white\", \"linecolor\": \"white\", \"ticks\": \"\"}}, \"scene\": {\"xaxis\": {\"backgroundcolor\": \"#E5ECF6\", \"gridcolor\": \"white\", \"gridwidth\": 2, \"linecolor\": \"white\", \"showbackground\": true, \"ticks\": \"\", \"zerolinecolor\": \"white\"}, \"yaxis\": {\"backgroundcolor\": \"#E5ECF6\", \"gridcolor\": \"white\", \"gridwidth\": 2, \"linecolor\": \"white\", \"showbackground\": true, \"ticks\": \"\", \"zerolinecolor\": \"white\"}, \"zaxis\": {\"backgroundcolor\": \"#E5ECF6\", \"gridcolor\": \"white\", \"gridwidth\": 2, \"linecolor\": \"white\", \"showbackground\": true, \"ticks\": \"\", \"zerolinecolor\": \"white\"}}, \"shapedefaults\": {\"line\": {\"color\": \"#2a3f5f\"}}, \"ternary\": {\"aaxis\": {\"gridcolor\": \"white\", \"linecolor\": \"white\", \"ticks\": \"\"}, \"baxis\": {\"gridcolor\": \"white\", \"linecolor\": \"white\", \"ticks\": \"\"}, \"bgcolor\": \"#E5ECF6\", \"caxis\": {\"gridcolor\": \"white\", \"linecolor\": \"white\", \"ticks\": \"\"}}, \"title\": {\"x\": 0.05}, \"xaxis\": {\"automargin\": true, \"gridcolor\": \"white\", \"linecolor\": \"white\", \"ticks\": \"\", \"title\": {\"standoff\": 15}, \"zerolinecolor\": \"white\", \"zerolinewidth\": 2}, \"yaxis\": {\"automargin\": true, \"gridcolor\": \"white\", \"linecolor\": \"white\", \"ticks\": \"\", \"title\": {\"standoff\": 15}, \"zerolinecolor\": \"white\", \"zerolinewidth\": 2}}}, \"updatemenus\": [{\"buttons\": [{\"args\": [null], \"label\": \"Play\", \"method\": \"animate\"}], \"type\": \"buttons\"}], \"xaxis\": {\"range\": [2010, 2020]}, \"yaxis\": {\"range\": [2010, 3178]}},\n",
       "                        {\"responsive\": true}\n",
       "                    ).then(function(){\n",
       "                            Plotly.addFrames('ada33414-8fe3-487b-8b94-f3deff8d7066', [{\"data\": [{\"x\": [2010, 2011], \"y\": [2083, 2979], \"type\": \"scatter\"}]}, {\"data\": [{\"x\": [2010, 2011, 2012], \"y\": [2083, 2979, 2890], \"type\": \"scatter\"}]}, {\"data\": [{\"x\": [2010, 2011, 2012, 2013], \"y\": [2083, 2979, 2890, 3058], \"type\": \"scatter\"}]}, {\"data\": [{\"x\": [2010, 2011, 2012, 2013, 2014], \"y\": [2083, 2979, 2890, 3058, 3178], \"type\": \"scatter\"}]}, {\"data\": [{\"x\": [2010, 2011, 2012, 2013, 2014, 2015], \"y\": [2083, 2979, 2890, 3058, 3178, 3063], \"type\": \"scatter\"}]}, {\"data\": [{\"x\": [2010, 2011, 2012, 2013, 2014, 2015, 2016], \"y\": [2083, 2979, 2890, 3058, 3178, 3063, 3148], \"type\": \"scatter\"}]}, {\"data\": [{\"x\": [2010, 2011, 2012, 2013, 2014, 2015, 2016, 2017], \"y\": [2083, 2979, 2890, 3058, 3178, 3063, 3148, 3153], \"type\": \"scatter\"}]}, {\"data\": [{\"x\": [2010, 2011, 2012, 2013, 2014, 2015, 2016, 2017, 2018], \"y\": [2083, 2979, 2890, 3058, 3178, 3063, 3148, 3153, 3090], \"type\": \"scatter\"}]}, {\"data\": [{\"x\": [2010, 2011, 2012, 2013, 2014, 2015, 2016, 2017, 2018, 2019], \"y\": [2083, 2979, 2890, 3058, 3178, 3063, 3148, 3153, 3090, 2919], \"type\": \"scatter\"}]}, {\"data\": [{\"x\": [2010, 2011, 2012, 2013, 2014, 2015, 2016, 2017, 2018, 2019, 2020], \"y\": [2083, 2979, 2890, 3058, 3178, 3063, 3148, 3153, 3090, 2919, 961], \"type\": \"scatter\"}]}]);\n",
       "                        }).then(function(){\n",
       "                            \n",
       "var gd = document.getElementById('ada33414-8fe3-487b-8b94-f3deff8d7066');\n",
       "var x = new MutationObserver(function (mutations, observer) {{\n",
       "        var display = window.getComputedStyle(gd).display;\n",
       "        if (!display || display === 'none') {{\n",
       "            console.log([gd, 'removed!']);\n",
       "            Plotly.purge(gd);\n",
       "            observer.disconnect();\n",
       "        }}\n",
       "}});\n",
       "\n",
       "// Listen for the removal of the full notebook cells\n",
       "var notebookContainer = gd.closest('#notebook-container');\n",
       "if (notebookContainer) {{\n",
       "    x.observe(notebookContainer, {childList: true});\n",
       "}}\n",
       "\n",
       "// Listen for the clearing of the current output cell\n",
       "var outputEl = gd.closest('.output');\n",
       "if (outputEl) {{\n",
       "    x.observe(outputEl, {childList: true});\n",
       "}}\n",
       "\n",
       "                        })\n",
       "                };\n",
       "                });\n",
       "            </script>\n",
       "        </div>"
      ]
     },
     "metadata": {},
     "output_type": "display_data"
    }
   ],
   "source": [
    "fig=go.Figure(data=[data],layout=layout,frames=frames)\n",
    "fig.show()"
   ]
  },
  {
   "cell_type": "markdown",
   "metadata": {},
   "source": [
    "## Now consider the stakeholders involved in this scenario, and try to determine what analysis of data  will be useful for each of them."
   ]
  },
  {
   "cell_type": "markdown",
   "metadata": {},
   "source": [
    "#### Lets take the example of the hospitals here. What all data can be useful for one hospital ?\n",
    "The hospital has data records for the past 10 years. Thequestions asked can include\n",
    "- How many patients came in each year ? \n",
    "- What is the most popular reason for a patient to visit ?\n",
    "- Which insurance company is the most popular ?\n",
    "- What are the common medications/tests prescribed ? \n",
    "- What doctors/ speciality is most in demand ?\n",
    "- How many emergency cases are coming in ?\n",
    "- Whats the age group of the patients ?"
   ]
  },
  {
   "cell_type": "markdown",
   "metadata": {},
   "source": [
    "Depending on the answers to these questions \n",
    "the hospital can take decisions like:\n",
    "- What speciality of doctors need to be hired ? \n",
    "- What medicines/ medical equipment should be ordered ? \n",
    "- Which Insurance company can be a potential partner ? \n",
    "- How stringent should the emergency preparedness be ?"
   ]
  },
  {
   "cell_type": "markdown",
   "metadata": {},
   "source": [
    "### Lets look at how many hospitals do we have"
   ]
  },
  {
   "cell_type": "code",
   "execution_count": 104,
   "metadata": {},
   "outputs": [
    {
     "data": {
      "text/plain": [
       "HALLMARK HEALTH SYSTEM                               1324\n",
       "VA Boston Healthcare System  Jamaica Plain Campus    1196\n",
       "METROWEST MEDICAL CENTER                              712\n",
       "NEWTON-WELLESLEY HOSPITAL                             691\n",
       "CAMBRIDGE HEALTH ALLIANCE                             689\n",
       "                                                     ... \n",
       "HAWTHORN MEDICAL URGENT CARE CENTER                     2\n",
       "HAMPDEN COUNTY URGENT MEDICAL CARE CENTER               2\n",
       "MASHPEE FAMILY MEDICINE                                 1\n",
       "TRU MEDICAL WALK IN CENTER                              1\n",
       "FALL RIVER MEDICAL EMERGENCY WALK IN CLINIC             1\n",
       "Name: ORG_NAME, Length: 883, dtype: int64"
      ]
     },
     "execution_count": 104,
     "metadata": {},
     "output_type": "execute_result"
    }
   ],
   "source": [
    "encounter[\"ORG_NAME\"].value_counts()"
   ]
  },
  {
   "cell_type": "markdown",
   "metadata": {},
   "source": [
    "### Lets choose a random hospital. We're going with HALLMARK HEALTHCARE"
   ]
  },
  {
   "cell_type": "code",
   "execution_count": 128,
   "metadata": {},
   "outputs": [
    {
     "data": {
      "text/html": [
       "<div>\n",
       "<style scoped>\n",
       "    .dataframe tbody tr th:only-of-type {\n",
       "        vertical-align: middle;\n",
       "    }\n",
       "\n",
       "    .dataframe tbody tr th {\n",
       "        vertical-align: top;\n",
       "    }\n",
       "\n",
       "    .dataframe thead th {\n",
       "        text-align: right;\n",
       "    }\n",
       "</style>\n",
       "<table border=\"1\" class=\"dataframe\">\n",
       "  <thead>\n",
       "    <tr style=\"text-align: right;\">\n",
       "      <th></th>\n",
       "      <th>Id</th>\n",
       "      <th>START</th>\n",
       "      <th>STOP</th>\n",
       "      <th>PATIENT_NAME</th>\n",
       "      <th>AGE</th>\n",
       "      <th>CITY</th>\n",
       "      <th>DESCRIPTION</th>\n",
       "      <th>REASON</th>\n",
       "      <th>ENCOUNTERCLASS</th>\n",
       "      <th>BASE_ENCOUNTER_COST</th>\n",
       "      <th>PAYER_COVERAGE</th>\n",
       "      <th>ORG_NAME</th>\n",
       "      <th>ORG_CITY</th>\n",
       "      <th>REVENUE</th>\n",
       "      <th>PROVIDER_NAME</th>\n",
       "      <th>SPECIALITY</th>\n",
       "      <th>PAYER_NAME</th>\n",
       "      <th>YEAR</th>\n",
       "    </tr>\n",
       "  </thead>\n",
       "  <tbody>\n",
       "    <tr>\n",
       "      <th>632</th>\n",
       "      <td>0f2eccff-7741-4ff2-a13a-656cbd78394a</td>\n",
       "      <td>2010-12-17 14:19:13+00:00</td>\n",
       "      <td>2010-12-17T19:34:13Z</td>\n",
       "      <td>Lisbeth69 Hand679</td>\n",
       "      <td>37.0</td>\n",
       "      <td>Malden</td>\n",
       "      <td>Prenatal initial visit</td>\n",
       "      <td>Normal pregnancy</td>\n",
       "      <td>ambulatory</td>\n",
       "      <td>129.16</td>\n",
       "      <td>64.16</td>\n",
       "      <td>HALLMARK HEALTH SYSTEM</td>\n",
       "      <td>MELROSE</td>\n",
       "      <td>561587.35</td>\n",
       "      <td>Vern731 Powlowski563</td>\n",
       "      <td>GENERAL PRACTICE</td>\n",
       "      <td>Aetna</td>\n",
       "      <td>2010</td>\n",
       "    </tr>\n",
       "    <tr>\n",
       "      <th>633</th>\n",
       "      <td>a8f5aec6-5b20-4c6e-b79b-4adeac18f978</td>\n",
       "      <td>2011-01-14 14:19:13+00:00</td>\n",
       "      <td>2011-01-14T15:19:13Z</td>\n",
       "      <td>Lisbeth69 Hand679</td>\n",
       "      <td>37.0</td>\n",
       "      <td>Malden</td>\n",
       "      <td>Prenatal visit</td>\n",
       "      <td>Normal pregnancy</td>\n",
       "      <td>ambulatory</td>\n",
       "      <td>129.16</td>\n",
       "      <td>64.16</td>\n",
       "      <td>HALLMARK HEALTH SYSTEM</td>\n",
       "      <td>MELROSE</td>\n",
       "      <td>561587.35</td>\n",
       "      <td>Vern731 Powlowski563</td>\n",
       "      <td>GENERAL PRACTICE</td>\n",
       "      <td>Aetna</td>\n",
       "      <td>2011</td>\n",
       "    </tr>\n",
       "    <tr>\n",
       "      <th>634</th>\n",
       "      <td>1bd80074-32d8-454f-916a-4aff32595a81</td>\n",
       "      <td>2011-02-11 14:19:13+00:00</td>\n",
       "      <td>2011-02-11T15:34:13Z</td>\n",
       "      <td>Lisbeth69 Hand679</td>\n",
       "      <td>37.0</td>\n",
       "      <td>Malden</td>\n",
       "      <td>Prenatal visit</td>\n",
       "      <td>Normal pregnancy</td>\n",
       "      <td>ambulatory</td>\n",
       "      <td>129.16</td>\n",
       "      <td>64.16</td>\n",
       "      <td>HALLMARK HEALTH SYSTEM</td>\n",
       "      <td>MELROSE</td>\n",
       "      <td>561587.35</td>\n",
       "      <td>Vern731 Powlowski563</td>\n",
       "      <td>GENERAL PRACTICE</td>\n",
       "      <td>Aetna</td>\n",
       "      <td>2011</td>\n",
       "    </tr>\n",
       "    <tr>\n",
       "      <th>635</th>\n",
       "      <td>2e9c5abc-f9d1-45fa-9a98-69f99fb245d9</td>\n",
       "      <td>2011-03-11 14:19:13+00:00</td>\n",
       "      <td>2011-03-11T15:04:13Z</td>\n",
       "      <td>Lisbeth69 Hand679</td>\n",
       "      <td>37.0</td>\n",
       "      <td>Malden</td>\n",
       "      <td>Prenatal visit</td>\n",
       "      <td>Normal pregnancy</td>\n",
       "      <td>ambulatory</td>\n",
       "      <td>129.16</td>\n",
       "      <td>64.16</td>\n",
       "      <td>HALLMARK HEALTH SYSTEM</td>\n",
       "      <td>MELROSE</td>\n",
       "      <td>561587.35</td>\n",
       "      <td>Vern731 Powlowski563</td>\n",
       "      <td>GENERAL PRACTICE</td>\n",
       "      <td>Aetna</td>\n",
       "      <td>2011</td>\n",
       "    </tr>\n",
       "    <tr>\n",
       "      <th>636</th>\n",
       "      <td>61b102d3-fa48-49a8-b6bc-9214a052b6df</td>\n",
       "      <td>2011-04-08 14:19:13+00:00</td>\n",
       "      <td>2011-04-08T15:04:13Z</td>\n",
       "      <td>Lisbeth69 Hand679</td>\n",
       "      <td>37.0</td>\n",
       "      <td>Malden</td>\n",
       "      <td>Prenatal visit</td>\n",
       "      <td>Normal pregnancy</td>\n",
       "      <td>ambulatory</td>\n",
       "      <td>129.16</td>\n",
       "      <td>64.16</td>\n",
       "      <td>HALLMARK HEALTH SYSTEM</td>\n",
       "      <td>MELROSE</td>\n",
       "      <td>561587.35</td>\n",
       "      <td>Vern731 Powlowski563</td>\n",
       "      <td>GENERAL PRACTICE</td>\n",
       "      <td>Aetna</td>\n",
       "      <td>2011</td>\n",
       "    </tr>\n",
       "    <tr>\n",
       "      <th>...</th>\n",
       "      <td>...</td>\n",
       "      <td>...</td>\n",
       "      <td>...</td>\n",
       "      <td>...</td>\n",
       "      <td>...</td>\n",
       "      <td>...</td>\n",
       "      <td>...</td>\n",
       "      <td>...</td>\n",
       "      <td>...</td>\n",
       "      <td>...</td>\n",
       "      <td>...</td>\n",
       "      <td>...</td>\n",
       "      <td>...</td>\n",
       "      <td>...</td>\n",
       "      <td>...</td>\n",
       "      <td>...</td>\n",
       "      <td>...</td>\n",
       "      <td>...</td>\n",
       "    </tr>\n",
       "    <tr>\n",
       "      <th>52475</th>\n",
       "      <td>eb1b8c76-56f4-46ea-9e5f-5f0363db9858</td>\n",
       "      <td>2013-01-07 12:14:09+00:00</td>\n",
       "      <td>2013-01-07T12:29:09Z</td>\n",
       "      <td>Hubert238 Kihn564</td>\n",
       "      <td>12.0</td>\n",
       "      <td>Boston</td>\n",
       "      <td>Encounter for check up (procedure)</td>\n",
       "      <td>NaN</td>\n",
       "      <td>outpatient</td>\n",
       "      <td>129.16</td>\n",
       "      <td>0.00</td>\n",
       "      <td>HALLMARK HEALTH SYSTEM</td>\n",
       "      <td>MELROSE</td>\n",
       "      <td>561587.35</td>\n",
       "      <td>Vern731 Powlowski563</td>\n",
       "      <td>GENERAL PRACTICE</td>\n",
       "      <td>UnitedHealthcare</td>\n",
       "      <td>2013</td>\n",
       "    </tr>\n",
       "    <tr>\n",
       "      <th>52476</th>\n",
       "      <td>fbb8bdc8-f506-4c1f-b899-0da2b4859a1a</td>\n",
       "      <td>2013-01-06 12:14:09+00:00</td>\n",
       "      <td>2013-01-06T12:29:09Z</td>\n",
       "      <td>Hubert238 Kihn564</td>\n",
       "      <td>12.0</td>\n",
       "      <td>Boston</td>\n",
       "      <td>Encounter for symptom</td>\n",
       "      <td>Acute bacterial sinusitis (disorder)</td>\n",
       "      <td>ambulatory</td>\n",
       "      <td>129.16</td>\n",
       "      <td>59.16</td>\n",
       "      <td>HALLMARK HEALTH SYSTEM</td>\n",
       "      <td>MELROSE</td>\n",
       "      <td>561587.35</td>\n",
       "      <td>Vern731 Powlowski563</td>\n",
       "      <td>GENERAL PRACTICE</td>\n",
       "      <td>UnitedHealthcare</td>\n",
       "      <td>2013</td>\n",
       "    </tr>\n",
       "    <tr>\n",
       "      <th>52478</th>\n",
       "      <td>b35110b5-20b7-4ebf-84c5-62bf97ed94a3</td>\n",
       "      <td>2013-08-14 12:14:09+00:00</td>\n",
       "      <td>2013-08-14T12:29:09Z</td>\n",
       "      <td>Hubert238 Kihn564</td>\n",
       "      <td>12.0</td>\n",
       "      <td>Boston</td>\n",
       "      <td>Encounter for symptom</td>\n",
       "      <td>Viral sinusitis (disorder)</td>\n",
       "      <td>ambulatory</td>\n",
       "      <td>129.16</td>\n",
       "      <td>59.16</td>\n",
       "      <td>HALLMARK HEALTH SYSTEM</td>\n",
       "      <td>MELROSE</td>\n",
       "      <td>561587.35</td>\n",
       "      <td>Vern731 Powlowski563</td>\n",
       "      <td>GENERAL PRACTICE</td>\n",
       "      <td>UnitedHealthcare</td>\n",
       "      <td>2013</td>\n",
       "    </tr>\n",
       "    <tr>\n",
       "      <th>52479</th>\n",
       "      <td>9a384fbd-3e24-41e6-b338-330a6efdddeb</td>\n",
       "      <td>2013-12-27 12:14:09+00:00</td>\n",
       "      <td>2013-12-27T12:29:09Z</td>\n",
       "      <td>Hubert238 Kihn564</td>\n",
       "      <td>12.0</td>\n",
       "      <td>Boston</td>\n",
       "      <td>Encounter for symptom</td>\n",
       "      <td>Viral sinusitis (disorder)</td>\n",
       "      <td>ambulatory</td>\n",
       "      <td>129.16</td>\n",
       "      <td>59.16</td>\n",
       "      <td>HALLMARK HEALTH SYSTEM</td>\n",
       "      <td>MELROSE</td>\n",
       "      <td>561587.35</td>\n",
       "      <td>Vern731 Powlowski563</td>\n",
       "      <td>GENERAL PRACTICE</td>\n",
       "      <td>UnitedHealthcare</td>\n",
       "      <td>2013</td>\n",
       "    </tr>\n",
       "    <tr>\n",
       "      <th>52484</th>\n",
       "      <td>2283a706-fa4d-4e8e-b6a9-09fce989a5a8</td>\n",
       "      <td>2018-02-16 12:14:09+00:00</td>\n",
       "      <td>2018-02-16T12:29:09Z</td>\n",
       "      <td>Hubert238 Kihn564</td>\n",
       "      <td>12.0</td>\n",
       "      <td>Boston</td>\n",
       "      <td>Encounter for symptom</td>\n",
       "      <td>Viral sinusitis (disorder)</td>\n",
       "      <td>ambulatory</td>\n",
       "      <td>129.16</td>\n",
       "      <td>59.16</td>\n",
       "      <td>HALLMARK HEALTH SYSTEM</td>\n",
       "      <td>MELROSE</td>\n",
       "      <td>561587.35</td>\n",
       "      <td>Vern731 Powlowski563</td>\n",
       "      <td>GENERAL PRACTICE</td>\n",
       "      <td>UnitedHealthcare</td>\n",
       "      <td>2018</td>\n",
       "    </tr>\n",
       "  </tbody>\n",
       "</table>\n",
       "<p>1324 rows × 18 columns</p>\n",
       "</div>"
      ],
      "text/plain": [
       "                                         Id                     START  \\\n",
       "632    0f2eccff-7741-4ff2-a13a-656cbd78394a 2010-12-17 14:19:13+00:00   \n",
       "633    a8f5aec6-5b20-4c6e-b79b-4adeac18f978 2011-01-14 14:19:13+00:00   \n",
       "634    1bd80074-32d8-454f-916a-4aff32595a81 2011-02-11 14:19:13+00:00   \n",
       "635    2e9c5abc-f9d1-45fa-9a98-69f99fb245d9 2011-03-11 14:19:13+00:00   \n",
       "636    61b102d3-fa48-49a8-b6bc-9214a052b6df 2011-04-08 14:19:13+00:00   \n",
       "...                                     ...                       ...   \n",
       "52475  eb1b8c76-56f4-46ea-9e5f-5f0363db9858 2013-01-07 12:14:09+00:00   \n",
       "52476  fbb8bdc8-f506-4c1f-b899-0da2b4859a1a 2013-01-06 12:14:09+00:00   \n",
       "52478  b35110b5-20b7-4ebf-84c5-62bf97ed94a3 2013-08-14 12:14:09+00:00   \n",
       "52479  9a384fbd-3e24-41e6-b338-330a6efdddeb 2013-12-27 12:14:09+00:00   \n",
       "52484  2283a706-fa4d-4e8e-b6a9-09fce989a5a8 2018-02-16 12:14:09+00:00   \n",
       "\n",
       "                       STOP       PATIENT_NAME   AGE    CITY  \\\n",
       "632    2010-12-17T19:34:13Z  Lisbeth69 Hand679  37.0  Malden   \n",
       "633    2011-01-14T15:19:13Z  Lisbeth69 Hand679  37.0  Malden   \n",
       "634    2011-02-11T15:34:13Z  Lisbeth69 Hand679  37.0  Malden   \n",
       "635    2011-03-11T15:04:13Z  Lisbeth69 Hand679  37.0  Malden   \n",
       "636    2011-04-08T15:04:13Z  Lisbeth69 Hand679  37.0  Malden   \n",
       "...                     ...                ...   ...     ...   \n",
       "52475  2013-01-07T12:29:09Z  Hubert238 Kihn564  12.0  Boston   \n",
       "52476  2013-01-06T12:29:09Z  Hubert238 Kihn564  12.0  Boston   \n",
       "52478  2013-08-14T12:29:09Z  Hubert238 Kihn564  12.0  Boston   \n",
       "52479  2013-12-27T12:29:09Z  Hubert238 Kihn564  12.0  Boston   \n",
       "52484  2018-02-16T12:29:09Z  Hubert238 Kihn564  12.0  Boston   \n",
       "\n",
       "                              DESCRIPTION  \\\n",
       "632                Prenatal initial visit   \n",
       "633                        Prenatal visit   \n",
       "634                        Prenatal visit   \n",
       "635                        Prenatal visit   \n",
       "636                        Prenatal visit   \n",
       "...                                   ...   \n",
       "52475  Encounter for check up (procedure)   \n",
       "52476               Encounter for symptom   \n",
       "52478               Encounter for symptom   \n",
       "52479               Encounter for symptom   \n",
       "52484               Encounter for symptom   \n",
       "\n",
       "                                     REASON ENCOUNTERCLASS  \\\n",
       "632                        Normal pregnancy     ambulatory   \n",
       "633                        Normal pregnancy     ambulatory   \n",
       "634                        Normal pregnancy     ambulatory   \n",
       "635                        Normal pregnancy     ambulatory   \n",
       "636                        Normal pregnancy     ambulatory   \n",
       "...                                     ...            ...   \n",
       "52475                                   NaN     outpatient   \n",
       "52476  Acute bacterial sinusitis (disorder)     ambulatory   \n",
       "52478            Viral sinusitis (disorder)     ambulatory   \n",
       "52479            Viral sinusitis (disorder)     ambulatory   \n",
       "52484            Viral sinusitis (disorder)     ambulatory   \n",
       "\n",
       "       BASE_ENCOUNTER_COST  PAYER_COVERAGE                ORG_NAME ORG_CITY  \\\n",
       "632                 129.16           64.16  HALLMARK HEALTH SYSTEM  MELROSE   \n",
       "633                 129.16           64.16  HALLMARK HEALTH SYSTEM  MELROSE   \n",
       "634                 129.16           64.16  HALLMARK HEALTH SYSTEM  MELROSE   \n",
       "635                 129.16           64.16  HALLMARK HEALTH SYSTEM  MELROSE   \n",
       "636                 129.16           64.16  HALLMARK HEALTH SYSTEM  MELROSE   \n",
       "...                    ...             ...                     ...      ...   \n",
       "52475               129.16            0.00  HALLMARK HEALTH SYSTEM  MELROSE   \n",
       "52476               129.16           59.16  HALLMARK HEALTH SYSTEM  MELROSE   \n",
       "52478               129.16           59.16  HALLMARK HEALTH SYSTEM  MELROSE   \n",
       "52479               129.16           59.16  HALLMARK HEALTH SYSTEM  MELROSE   \n",
       "52484               129.16           59.16  HALLMARK HEALTH SYSTEM  MELROSE   \n",
       "\n",
       "         REVENUE         PROVIDER_NAME        SPECIALITY        PAYER_NAME  \\\n",
       "632    561587.35  Vern731 Powlowski563  GENERAL PRACTICE             Aetna   \n",
       "633    561587.35  Vern731 Powlowski563  GENERAL PRACTICE             Aetna   \n",
       "634    561587.35  Vern731 Powlowski563  GENERAL PRACTICE             Aetna   \n",
       "635    561587.35  Vern731 Powlowski563  GENERAL PRACTICE             Aetna   \n",
       "636    561587.35  Vern731 Powlowski563  GENERAL PRACTICE             Aetna   \n",
       "...          ...                   ...               ...               ...   \n",
       "52475  561587.35  Vern731 Powlowski563  GENERAL PRACTICE  UnitedHealthcare   \n",
       "52476  561587.35  Vern731 Powlowski563  GENERAL PRACTICE  UnitedHealthcare   \n",
       "52478  561587.35  Vern731 Powlowski563  GENERAL PRACTICE  UnitedHealthcare   \n",
       "52479  561587.35  Vern731 Powlowski563  GENERAL PRACTICE  UnitedHealthcare   \n",
       "52484  561587.35  Vern731 Powlowski563  GENERAL PRACTICE  UnitedHealthcare   \n",
       "\n",
       "       YEAR  \n",
       "632    2010  \n",
       "633    2011  \n",
       "634    2011  \n",
       "635    2011  \n",
       "636    2011  \n",
       "...     ...  \n",
       "52475  2013  \n",
       "52476  2013  \n",
       "52478  2013  \n",
       "52479  2013  \n",
       "52484  2018  \n",
       "\n",
       "[1324 rows x 18 columns]"
      ]
     },
     "execution_count": 128,
     "metadata": {},
     "output_type": "execute_result"
    }
   ],
   "source": [
    "df=encounter[encounter[\"ORG_NAME\"]==\"HALLMARK HEALTH SYSTEM\"]\n",
    "df"
   ]
  },
  {
   "cell_type": "markdown",
   "metadata": {},
   "source": [
    "#### Lets do a simple visualisation. \n",
    "We'd like to know what was the distribution of the number of cases covered by each insurance agency\n",
    "Lets create a stacked chart"
   ]
  },
  {
   "cell_type": "code",
   "execution_count": 136,
   "metadata": {},
   "outputs": [
    {
     "data": {
      "application/vnd.plotly.v1+json": {
       "config": {
        "plotlyServerURL": "https://plot.ly"
       },
       "data": [
        {
         "alignmentgroup": "True",
         "customdata": [
          [
           "Aetna"
          ],
          [
           "Anthem"
          ],
          [
           "Blue Cross Blue Shield"
          ],
          [
           "Cigna Health"
          ],
          [
           "Humana"
          ],
          [
           "Medicaid"
          ],
          [
           "Medicare"
          ],
          [
           "NO_INSURANCE"
          ],
          [
           "UnitedHealthcare"
          ],
          [
           "Aetna"
          ],
          [
           "Blue Cross Blue Shield"
          ],
          [
           "Cigna Health"
          ],
          [
           "Humana"
          ],
          [
           "Medicaid"
          ],
          [
           "Medicare"
          ],
          [
           "NO_INSURANCE"
          ],
          [
           "UnitedHealthcare"
          ],
          [
           "Aetna"
          ],
          [
           "Blue Cross Blue Shield"
          ],
          [
           "Cigna Health"
          ],
          [
           "Humana"
          ],
          [
           "Medicaid"
          ],
          [
           "Medicare"
          ],
          [
           "NO_INSURANCE"
          ],
          [
           "UnitedHealthcare"
          ],
          [
           "Aetna"
          ],
          [
           "Blue Cross Blue Shield"
          ],
          [
           "Cigna Health"
          ],
          [
           "Dual Eligible"
          ],
          [
           "Humana"
          ],
          [
           "Medicaid"
          ],
          [
           "Medicare"
          ],
          [
           "NO_INSURANCE"
          ],
          [
           "UnitedHealthcare"
          ],
          [
           "Aetna"
          ],
          [
           "Blue Cross Blue Shield"
          ],
          [
           "Cigna Health"
          ],
          [
           "Dual Eligible"
          ],
          [
           "Humana"
          ],
          [
           "Medicaid"
          ],
          [
           "Medicare"
          ],
          [
           "NO_INSURANCE"
          ],
          [
           "UnitedHealthcare"
          ],
          [
           "Aetna"
          ],
          [
           "Blue Cross Blue Shield"
          ],
          [
           "Cigna Health"
          ],
          [
           "Dual Eligible"
          ],
          [
           "Humana"
          ],
          [
           "Medicaid"
          ],
          [
           "Medicare"
          ],
          [
           "NO_INSURANCE"
          ],
          [
           "UnitedHealthcare"
          ],
          [
           "Aetna"
          ],
          [
           "Blue Cross Blue Shield"
          ],
          [
           "Cigna Health"
          ],
          [
           "Dual Eligible"
          ],
          [
           "Humana"
          ],
          [
           "Medicaid"
          ],
          [
           "Medicare"
          ],
          [
           "NO_INSURANCE"
          ],
          [
           "UnitedHealthcare"
          ],
          [
           "Aetna"
          ],
          [
           "Blue Cross Blue Shield"
          ],
          [
           "Cigna Health"
          ],
          [
           "Dual Eligible"
          ],
          [
           "Humana"
          ],
          [
           "Medicaid"
          ],
          [
           "Medicare"
          ],
          [
           "NO_INSURANCE"
          ],
          [
           "UnitedHealthcare"
          ],
          [
           "Aetna"
          ],
          [
           "Blue Cross Blue Shield"
          ],
          [
           "Cigna Health"
          ],
          [
           "Dual Eligible"
          ],
          [
           "Humana"
          ],
          [
           "Medicaid"
          ],
          [
           "Medicare"
          ],
          [
           "NO_INSURANCE"
          ],
          [
           "UnitedHealthcare"
          ],
          [
           "Aetna"
          ],
          [
           "Anthem"
          ],
          [
           "Blue Cross Blue Shield"
          ],
          [
           "Cigna Health"
          ],
          [
           "Dual Eligible"
          ],
          [
           "Humana"
          ],
          [
           "Medicaid"
          ],
          [
           "Medicare"
          ],
          [
           "NO_INSURANCE"
          ],
          [
           "UnitedHealthcare"
          ],
          [
           "Blue Cross Blue Shield"
          ],
          [
           "Cigna Health"
          ],
          [
           "Medicaid"
          ],
          [
           "Medicare"
          ],
          [
           "NO_INSURANCE"
          ],
          [
           "UnitedHealthcare"
          ]
         ],
         "hoverlabel": {
          "namelength": 0
         },
         "hovertemplate": "YEAR=%{x}<br>num_visits=%{y}<br>PAYER_NAME=%{customdata[0]}",
         "legendgroup": "",
         "marker": {
          "color": "#636efa"
         },
         "name": "",
         "offsetgroup": "",
         "orientation": "v",
         "showlegend": false,
         "textposition": "auto",
         "type": "bar",
         "x": [
          2010,
          2010,
          2010,
          2010,
          2010,
          2010,
          2010,
          2010,
          2010,
          2011,
          2011,
          2011,
          2011,
          2011,
          2011,
          2011,
          2011,
          2012,
          2012,
          2012,
          2012,
          2012,
          2012,
          2012,
          2012,
          2013,
          2013,
          2013,
          2013,
          2013,
          2013,
          2013,
          2013,
          2013,
          2014,
          2014,
          2014,
          2014,
          2014,
          2014,
          2014,
          2014,
          2014,
          2015,
          2015,
          2015,
          2015,
          2015,
          2015,
          2015,
          2015,
          2015,
          2016,
          2016,
          2016,
          2016,
          2016,
          2016,
          2016,
          2016,
          2016,
          2017,
          2017,
          2017,
          2017,
          2017,
          2017,
          2017,
          2017,
          2017,
          2018,
          2018,
          2018,
          2018,
          2018,
          2018,
          2018,
          2018,
          2018,
          2019,
          2019,
          2019,
          2019,
          2019,
          2019,
          2019,
          2019,
          2019,
          2019,
          2020,
          2020,
          2020,
          2020,
          2020,
          2020
         ],
         "xaxis": "x",
         "y": [
          4,
          1,
          3,
          2,
          4,
          15,
          12,
          14,
          8,
          15,
          73,
          2,
          4,
          31,
          6,
          16,
          10,
          10,
          86,
          4,
          13,
          37,
          12,
          15,
          3,
          18,
          20,
          3,
          3,
          12,
          28,
          13,
          13,
          15,
          13,
          6,
          6,
          2,
          13,
          44,
          10,
          25,
          17,
          3,
          5,
          2,
          2,
          10,
          38,
          9,
          21,
          14,
          6,
          12,
          1,
          1,
          5,
          38,
          14,
          26,
          11,
          11,
          5,
          19,
          1,
          7,
          53,
          13,
          21,
          23,
          6,
          5,
          22,
          1,
          4,
          34,
          4,
          35,
          15,
          3,
          1,
          7,
          21,
          4,
          1,
          31,
          7,
          36,
          8,
          5,
          12,
          14,
          2,
          13,
          1
         ],
         "yaxis": "y"
        }
       ],
       "layout": {
        "barmode": "relative",
        "legend": {
         "tracegroupgap": 0
        },
        "margin": {
         "t": 60
        },
        "template": {
         "data": {
          "bar": [
           {
            "error_x": {
             "color": "#2a3f5f"
            },
            "error_y": {
             "color": "#2a3f5f"
            },
            "marker": {
             "line": {
              "color": "#E5ECF6",
              "width": 0.5
             }
            },
            "type": "bar"
           }
          ],
          "barpolar": [
           {
            "marker": {
             "line": {
              "color": "#E5ECF6",
              "width": 0.5
             }
            },
            "type": "barpolar"
           }
          ],
          "carpet": [
           {
            "aaxis": {
             "endlinecolor": "#2a3f5f",
             "gridcolor": "white",
             "linecolor": "white",
             "minorgridcolor": "white",
             "startlinecolor": "#2a3f5f"
            },
            "baxis": {
             "endlinecolor": "#2a3f5f",
             "gridcolor": "white",
             "linecolor": "white",
             "minorgridcolor": "white",
             "startlinecolor": "#2a3f5f"
            },
            "type": "carpet"
           }
          ],
          "choropleth": [
           {
            "colorbar": {
             "outlinewidth": 0,
             "ticks": ""
            },
            "type": "choropleth"
           }
          ],
          "contour": [
           {
            "colorbar": {
             "outlinewidth": 0,
             "ticks": ""
            },
            "colorscale": [
             [
              0,
              "#0d0887"
             ],
             [
              0.1111111111111111,
              "#46039f"
             ],
             [
              0.2222222222222222,
              "#7201a8"
             ],
             [
              0.3333333333333333,
              "#9c179e"
             ],
             [
              0.4444444444444444,
              "#bd3786"
             ],
             [
              0.5555555555555556,
              "#d8576b"
             ],
             [
              0.6666666666666666,
              "#ed7953"
             ],
             [
              0.7777777777777778,
              "#fb9f3a"
             ],
             [
              0.8888888888888888,
              "#fdca26"
             ],
             [
              1,
              "#f0f921"
             ]
            ],
            "type": "contour"
           }
          ],
          "contourcarpet": [
           {
            "colorbar": {
             "outlinewidth": 0,
             "ticks": ""
            },
            "type": "contourcarpet"
           }
          ],
          "heatmap": [
           {
            "colorbar": {
             "outlinewidth": 0,
             "ticks": ""
            },
            "colorscale": [
             [
              0,
              "#0d0887"
             ],
             [
              0.1111111111111111,
              "#46039f"
             ],
             [
              0.2222222222222222,
              "#7201a8"
             ],
             [
              0.3333333333333333,
              "#9c179e"
             ],
             [
              0.4444444444444444,
              "#bd3786"
             ],
             [
              0.5555555555555556,
              "#d8576b"
             ],
             [
              0.6666666666666666,
              "#ed7953"
             ],
             [
              0.7777777777777778,
              "#fb9f3a"
             ],
             [
              0.8888888888888888,
              "#fdca26"
             ],
             [
              1,
              "#f0f921"
             ]
            ],
            "type": "heatmap"
           }
          ],
          "heatmapgl": [
           {
            "colorbar": {
             "outlinewidth": 0,
             "ticks": ""
            },
            "colorscale": [
             [
              0,
              "#0d0887"
             ],
             [
              0.1111111111111111,
              "#46039f"
             ],
             [
              0.2222222222222222,
              "#7201a8"
             ],
             [
              0.3333333333333333,
              "#9c179e"
             ],
             [
              0.4444444444444444,
              "#bd3786"
             ],
             [
              0.5555555555555556,
              "#d8576b"
             ],
             [
              0.6666666666666666,
              "#ed7953"
             ],
             [
              0.7777777777777778,
              "#fb9f3a"
             ],
             [
              0.8888888888888888,
              "#fdca26"
             ],
             [
              1,
              "#f0f921"
             ]
            ],
            "type": "heatmapgl"
           }
          ],
          "histogram": [
           {
            "marker": {
             "colorbar": {
              "outlinewidth": 0,
              "ticks": ""
             }
            },
            "type": "histogram"
           }
          ],
          "histogram2d": [
           {
            "colorbar": {
             "outlinewidth": 0,
             "ticks": ""
            },
            "colorscale": [
             [
              0,
              "#0d0887"
             ],
             [
              0.1111111111111111,
              "#46039f"
             ],
             [
              0.2222222222222222,
              "#7201a8"
             ],
             [
              0.3333333333333333,
              "#9c179e"
             ],
             [
              0.4444444444444444,
              "#bd3786"
             ],
             [
              0.5555555555555556,
              "#d8576b"
             ],
             [
              0.6666666666666666,
              "#ed7953"
             ],
             [
              0.7777777777777778,
              "#fb9f3a"
             ],
             [
              0.8888888888888888,
              "#fdca26"
             ],
             [
              1,
              "#f0f921"
             ]
            ],
            "type": "histogram2d"
           }
          ],
          "histogram2dcontour": [
           {
            "colorbar": {
             "outlinewidth": 0,
             "ticks": ""
            },
            "colorscale": [
             [
              0,
              "#0d0887"
             ],
             [
              0.1111111111111111,
              "#46039f"
             ],
             [
              0.2222222222222222,
              "#7201a8"
             ],
             [
              0.3333333333333333,
              "#9c179e"
             ],
             [
              0.4444444444444444,
              "#bd3786"
             ],
             [
              0.5555555555555556,
              "#d8576b"
             ],
             [
              0.6666666666666666,
              "#ed7953"
             ],
             [
              0.7777777777777778,
              "#fb9f3a"
             ],
             [
              0.8888888888888888,
              "#fdca26"
             ],
             [
              1,
              "#f0f921"
             ]
            ],
            "type": "histogram2dcontour"
           }
          ],
          "mesh3d": [
           {
            "colorbar": {
             "outlinewidth": 0,
             "ticks": ""
            },
            "type": "mesh3d"
           }
          ],
          "parcoords": [
           {
            "line": {
             "colorbar": {
              "outlinewidth": 0,
              "ticks": ""
             }
            },
            "type": "parcoords"
           }
          ],
          "pie": [
           {
            "automargin": true,
            "type": "pie"
           }
          ],
          "scatter": [
           {
            "marker": {
             "colorbar": {
              "outlinewidth": 0,
              "ticks": ""
             }
            },
            "type": "scatter"
           }
          ],
          "scatter3d": [
           {
            "line": {
             "colorbar": {
              "outlinewidth": 0,
              "ticks": ""
             }
            },
            "marker": {
             "colorbar": {
              "outlinewidth": 0,
              "ticks": ""
             }
            },
            "type": "scatter3d"
           }
          ],
          "scattercarpet": [
           {
            "marker": {
             "colorbar": {
              "outlinewidth": 0,
              "ticks": ""
             }
            },
            "type": "scattercarpet"
           }
          ],
          "scattergeo": [
           {
            "marker": {
             "colorbar": {
              "outlinewidth": 0,
              "ticks": ""
             }
            },
            "type": "scattergeo"
           }
          ],
          "scattergl": [
           {
            "marker": {
             "colorbar": {
              "outlinewidth": 0,
              "ticks": ""
             }
            },
            "type": "scattergl"
           }
          ],
          "scattermapbox": [
           {
            "marker": {
             "colorbar": {
              "outlinewidth": 0,
              "ticks": ""
             }
            },
            "type": "scattermapbox"
           }
          ],
          "scatterpolar": [
           {
            "marker": {
             "colorbar": {
              "outlinewidth": 0,
              "ticks": ""
             }
            },
            "type": "scatterpolar"
           }
          ],
          "scatterpolargl": [
           {
            "marker": {
             "colorbar": {
              "outlinewidth": 0,
              "ticks": ""
             }
            },
            "type": "scatterpolargl"
           }
          ],
          "scatterternary": [
           {
            "marker": {
             "colorbar": {
              "outlinewidth": 0,
              "ticks": ""
             }
            },
            "type": "scatterternary"
           }
          ],
          "surface": [
           {
            "colorbar": {
             "outlinewidth": 0,
             "ticks": ""
            },
            "colorscale": [
             [
              0,
              "#0d0887"
             ],
             [
              0.1111111111111111,
              "#46039f"
             ],
             [
              0.2222222222222222,
              "#7201a8"
             ],
             [
              0.3333333333333333,
              "#9c179e"
             ],
             [
              0.4444444444444444,
              "#bd3786"
             ],
             [
              0.5555555555555556,
              "#d8576b"
             ],
             [
              0.6666666666666666,
              "#ed7953"
             ],
             [
              0.7777777777777778,
              "#fb9f3a"
             ],
             [
              0.8888888888888888,
              "#fdca26"
             ],
             [
              1,
              "#f0f921"
             ]
            ],
            "type": "surface"
           }
          ],
          "table": [
           {
            "cells": {
             "fill": {
              "color": "#EBF0F8"
             },
             "line": {
              "color": "white"
             }
            },
            "header": {
             "fill": {
              "color": "#C8D4E3"
             },
             "line": {
              "color": "white"
             }
            },
            "type": "table"
           }
          ]
         },
         "layout": {
          "annotationdefaults": {
           "arrowcolor": "#2a3f5f",
           "arrowhead": 0,
           "arrowwidth": 1
          },
          "coloraxis": {
           "colorbar": {
            "outlinewidth": 0,
            "ticks": ""
           }
          },
          "colorscale": {
           "diverging": [
            [
             0,
             "#8e0152"
            ],
            [
             0.1,
             "#c51b7d"
            ],
            [
             0.2,
             "#de77ae"
            ],
            [
             0.3,
             "#f1b6da"
            ],
            [
             0.4,
             "#fde0ef"
            ],
            [
             0.5,
             "#f7f7f7"
            ],
            [
             0.6,
             "#e6f5d0"
            ],
            [
             0.7,
             "#b8e186"
            ],
            [
             0.8,
             "#7fbc41"
            ],
            [
             0.9,
             "#4d9221"
            ],
            [
             1,
             "#276419"
            ]
           ],
           "sequential": [
            [
             0,
             "#0d0887"
            ],
            [
             0.1111111111111111,
             "#46039f"
            ],
            [
             0.2222222222222222,
             "#7201a8"
            ],
            [
             0.3333333333333333,
             "#9c179e"
            ],
            [
             0.4444444444444444,
             "#bd3786"
            ],
            [
             0.5555555555555556,
             "#d8576b"
            ],
            [
             0.6666666666666666,
             "#ed7953"
            ],
            [
             0.7777777777777778,
             "#fb9f3a"
            ],
            [
             0.8888888888888888,
             "#fdca26"
            ],
            [
             1,
             "#f0f921"
            ]
           ],
           "sequentialminus": [
            [
             0,
             "#0d0887"
            ],
            [
             0.1111111111111111,
             "#46039f"
            ],
            [
             0.2222222222222222,
             "#7201a8"
            ],
            [
             0.3333333333333333,
             "#9c179e"
            ],
            [
             0.4444444444444444,
             "#bd3786"
            ],
            [
             0.5555555555555556,
             "#d8576b"
            ],
            [
             0.6666666666666666,
             "#ed7953"
            ],
            [
             0.7777777777777778,
             "#fb9f3a"
            ],
            [
             0.8888888888888888,
             "#fdca26"
            ],
            [
             1,
             "#f0f921"
            ]
           ]
          },
          "colorway": [
           "#636efa",
           "#EF553B",
           "#00cc96",
           "#ab63fa",
           "#FFA15A",
           "#19d3f3",
           "#FF6692",
           "#B6E880",
           "#FF97FF",
           "#FECB52"
          ],
          "font": {
           "color": "#2a3f5f"
          },
          "geo": {
           "bgcolor": "white",
           "lakecolor": "white",
           "landcolor": "#E5ECF6",
           "showlakes": true,
           "showland": true,
           "subunitcolor": "white"
          },
          "hoverlabel": {
           "align": "left"
          },
          "hovermode": "closest",
          "mapbox": {
           "style": "light"
          },
          "paper_bgcolor": "white",
          "plot_bgcolor": "#E5ECF6",
          "polar": {
           "angularaxis": {
            "gridcolor": "white",
            "linecolor": "white",
            "ticks": ""
           },
           "bgcolor": "#E5ECF6",
           "radialaxis": {
            "gridcolor": "white",
            "linecolor": "white",
            "ticks": ""
           }
          },
          "scene": {
           "xaxis": {
            "backgroundcolor": "#E5ECF6",
            "gridcolor": "white",
            "gridwidth": 2,
            "linecolor": "white",
            "showbackground": true,
            "ticks": "",
            "zerolinecolor": "white"
           },
           "yaxis": {
            "backgroundcolor": "#E5ECF6",
            "gridcolor": "white",
            "gridwidth": 2,
            "linecolor": "white",
            "showbackground": true,
            "ticks": "",
            "zerolinecolor": "white"
           },
           "zaxis": {
            "backgroundcolor": "#E5ECF6",
            "gridcolor": "white",
            "gridwidth": 2,
            "linecolor": "white",
            "showbackground": true,
            "ticks": "",
            "zerolinecolor": "white"
           }
          },
          "shapedefaults": {
           "line": {
            "color": "#2a3f5f"
           }
          },
          "ternary": {
           "aaxis": {
            "gridcolor": "white",
            "linecolor": "white",
            "ticks": ""
           },
           "baxis": {
            "gridcolor": "white",
            "linecolor": "white",
            "ticks": ""
           },
           "bgcolor": "#E5ECF6",
           "caxis": {
            "gridcolor": "white",
            "linecolor": "white",
            "ticks": ""
           }
          },
          "title": {
           "x": 0.05
          },
          "xaxis": {
           "automargin": true,
           "gridcolor": "white",
           "linecolor": "white",
           "ticks": "",
           "title": {
            "standoff": 15
           },
           "zerolinecolor": "white",
           "zerolinewidth": 2
          },
          "yaxis": {
           "automargin": true,
           "gridcolor": "white",
           "linecolor": "white",
           "ticks": "",
           "title": {
            "standoff": 15
           },
           "zerolinecolor": "white",
           "zerolinewidth": 2
          }
         }
        },
        "xaxis": {
         "anchor": "y",
         "domain": [
          0,
          1
         ],
         "title": {
          "text": "YEAR"
         }
        },
        "yaxis": {
         "anchor": "x",
         "domain": [
          0,
          1
         ],
         "title": {
          "text": "num_visits"
         }
        }
       }
      },
      "text/html": [
       "<div>\n",
       "        \n",
       "        \n",
       "            <div id=\"75a072fa-38f2-4f8a-be9a-048c3eda6132\" class=\"plotly-graph-div\" style=\"height:525px; width:100%;\"></div>\n",
       "            <script type=\"text/javascript\">\n",
       "                require([\"plotly\"], function(Plotly) {\n",
       "                    window.PLOTLYENV=window.PLOTLYENV || {};\n",
       "                    \n",
       "                if (document.getElementById(\"75a072fa-38f2-4f8a-be9a-048c3eda6132\")) {\n",
       "                    Plotly.newPlot(\n",
       "                        '75a072fa-38f2-4f8a-be9a-048c3eda6132',\n",
       "                        [{\"alignmentgroup\": \"True\", \"customdata\": [[\"Aetna\"], [\"Anthem\"], [\"Blue Cross Blue Shield\"], [\"Cigna Health\"], [\"Humana\"], [\"Medicaid\"], [\"Medicare\"], [\"NO_INSURANCE\"], [\"UnitedHealthcare\"], [\"Aetna\"], [\"Blue Cross Blue Shield\"], [\"Cigna Health\"], [\"Humana\"], [\"Medicaid\"], [\"Medicare\"], [\"NO_INSURANCE\"], [\"UnitedHealthcare\"], [\"Aetna\"], [\"Blue Cross Blue Shield\"], [\"Cigna Health\"], [\"Humana\"], [\"Medicaid\"], [\"Medicare\"], [\"NO_INSURANCE\"], [\"UnitedHealthcare\"], [\"Aetna\"], [\"Blue Cross Blue Shield\"], [\"Cigna Health\"], [\"Dual Eligible\"], [\"Humana\"], [\"Medicaid\"], [\"Medicare\"], [\"NO_INSURANCE\"], [\"UnitedHealthcare\"], [\"Aetna\"], [\"Blue Cross Blue Shield\"], [\"Cigna Health\"], [\"Dual Eligible\"], [\"Humana\"], [\"Medicaid\"], [\"Medicare\"], [\"NO_INSURANCE\"], [\"UnitedHealthcare\"], [\"Aetna\"], [\"Blue Cross Blue Shield\"], [\"Cigna Health\"], [\"Dual Eligible\"], [\"Humana\"], [\"Medicaid\"], [\"Medicare\"], [\"NO_INSURANCE\"], [\"UnitedHealthcare\"], [\"Aetna\"], [\"Blue Cross Blue Shield\"], [\"Cigna Health\"], [\"Dual Eligible\"], [\"Humana\"], [\"Medicaid\"], [\"Medicare\"], [\"NO_INSURANCE\"], [\"UnitedHealthcare\"], [\"Aetna\"], [\"Blue Cross Blue Shield\"], [\"Cigna Health\"], [\"Dual Eligible\"], [\"Humana\"], [\"Medicaid\"], [\"Medicare\"], [\"NO_INSURANCE\"], [\"UnitedHealthcare\"], [\"Aetna\"], [\"Blue Cross Blue Shield\"], [\"Cigna Health\"], [\"Dual Eligible\"], [\"Humana\"], [\"Medicaid\"], [\"Medicare\"], [\"NO_INSURANCE\"], [\"UnitedHealthcare\"], [\"Aetna\"], [\"Anthem\"], [\"Blue Cross Blue Shield\"], [\"Cigna Health\"], [\"Dual Eligible\"], [\"Humana\"], [\"Medicaid\"], [\"Medicare\"], [\"NO_INSURANCE\"], [\"UnitedHealthcare\"], [\"Blue Cross Blue Shield\"], [\"Cigna Health\"], [\"Medicaid\"], [\"Medicare\"], [\"NO_INSURANCE\"], [\"UnitedHealthcare\"]], \"hoverlabel\": {\"namelength\": 0}, \"hovertemplate\": \"YEAR=%{x}<br>num_visits=%{y}<br>PAYER_NAME=%{customdata[0]}\", \"legendgroup\": \"\", \"marker\": {\"color\": \"#636efa\"}, \"name\": \"\", \"offsetgroup\": \"\", \"orientation\": \"v\", \"showlegend\": false, \"textposition\": \"auto\", \"type\": \"bar\", \"x\": [2010, 2010, 2010, 2010, 2010, 2010, 2010, 2010, 2010, 2011, 2011, 2011, 2011, 2011, 2011, 2011, 2011, 2012, 2012, 2012, 2012, 2012, 2012, 2012, 2012, 2013, 2013, 2013, 2013, 2013, 2013, 2013, 2013, 2013, 2014, 2014, 2014, 2014, 2014, 2014, 2014, 2014, 2014, 2015, 2015, 2015, 2015, 2015, 2015, 2015, 2015, 2015, 2016, 2016, 2016, 2016, 2016, 2016, 2016, 2016, 2016, 2017, 2017, 2017, 2017, 2017, 2017, 2017, 2017, 2017, 2018, 2018, 2018, 2018, 2018, 2018, 2018, 2018, 2018, 2019, 2019, 2019, 2019, 2019, 2019, 2019, 2019, 2019, 2019, 2020, 2020, 2020, 2020, 2020, 2020], \"xaxis\": \"x\", \"y\": [4, 1, 3, 2, 4, 15, 12, 14, 8, 15, 73, 2, 4, 31, 6, 16, 10, 10, 86, 4, 13, 37, 12, 15, 3, 18, 20, 3, 3, 12, 28, 13, 13, 15, 13, 6, 6, 2, 13, 44, 10, 25, 17, 3, 5, 2, 2, 10, 38, 9, 21, 14, 6, 12, 1, 1, 5, 38, 14, 26, 11, 11, 5, 19, 1, 7, 53, 13, 21, 23, 6, 5, 22, 1, 4, 34, 4, 35, 15, 3, 1, 7, 21, 4, 1, 31, 7, 36, 8, 5, 12, 14, 2, 13, 1], \"yaxis\": \"y\"}],\n",
       "                        {\"barmode\": \"relative\", \"legend\": {\"tracegroupgap\": 0}, \"margin\": {\"t\": 60}, \"template\": {\"data\": {\"bar\": [{\"error_x\": {\"color\": \"#2a3f5f\"}, \"error_y\": {\"color\": \"#2a3f5f\"}, \"marker\": {\"line\": {\"color\": \"#E5ECF6\", \"width\": 0.5}}, \"type\": \"bar\"}], \"barpolar\": [{\"marker\": {\"line\": {\"color\": \"#E5ECF6\", \"width\": 0.5}}, \"type\": \"barpolar\"}], \"carpet\": [{\"aaxis\": {\"endlinecolor\": \"#2a3f5f\", \"gridcolor\": \"white\", \"linecolor\": \"white\", \"minorgridcolor\": \"white\", \"startlinecolor\": \"#2a3f5f\"}, \"baxis\": {\"endlinecolor\": \"#2a3f5f\", \"gridcolor\": \"white\", \"linecolor\": \"white\", \"minorgridcolor\": \"white\", \"startlinecolor\": \"#2a3f5f\"}, \"type\": \"carpet\"}], \"choropleth\": [{\"colorbar\": {\"outlinewidth\": 0, \"ticks\": \"\"}, \"type\": \"choropleth\"}], \"contour\": [{\"colorbar\": {\"outlinewidth\": 0, \"ticks\": \"\"}, \"colorscale\": [[0.0, \"#0d0887\"], [0.1111111111111111, \"#46039f\"], [0.2222222222222222, \"#7201a8\"], [0.3333333333333333, \"#9c179e\"], [0.4444444444444444, \"#bd3786\"], [0.5555555555555556, \"#d8576b\"], [0.6666666666666666, \"#ed7953\"], [0.7777777777777778, \"#fb9f3a\"], [0.8888888888888888, \"#fdca26\"], [1.0, \"#f0f921\"]], \"type\": \"contour\"}], \"contourcarpet\": [{\"colorbar\": {\"outlinewidth\": 0, \"ticks\": \"\"}, \"type\": \"contourcarpet\"}], \"heatmap\": [{\"colorbar\": {\"outlinewidth\": 0, \"ticks\": \"\"}, \"colorscale\": [[0.0, \"#0d0887\"], [0.1111111111111111, \"#46039f\"], [0.2222222222222222, \"#7201a8\"], [0.3333333333333333, \"#9c179e\"], [0.4444444444444444, \"#bd3786\"], [0.5555555555555556, \"#d8576b\"], [0.6666666666666666, \"#ed7953\"], [0.7777777777777778, \"#fb9f3a\"], [0.8888888888888888, \"#fdca26\"], [1.0, \"#f0f921\"]], \"type\": \"heatmap\"}], \"heatmapgl\": [{\"colorbar\": {\"outlinewidth\": 0, \"ticks\": \"\"}, \"colorscale\": [[0.0, \"#0d0887\"], [0.1111111111111111, \"#46039f\"], [0.2222222222222222, \"#7201a8\"], [0.3333333333333333, \"#9c179e\"], [0.4444444444444444, \"#bd3786\"], [0.5555555555555556, \"#d8576b\"], [0.6666666666666666, \"#ed7953\"], [0.7777777777777778, \"#fb9f3a\"], [0.8888888888888888, \"#fdca26\"], [1.0, \"#f0f921\"]], \"type\": \"heatmapgl\"}], \"histogram\": [{\"marker\": {\"colorbar\": {\"outlinewidth\": 0, \"ticks\": \"\"}}, \"type\": \"histogram\"}], \"histogram2d\": [{\"colorbar\": {\"outlinewidth\": 0, \"ticks\": \"\"}, \"colorscale\": [[0.0, \"#0d0887\"], [0.1111111111111111, \"#46039f\"], [0.2222222222222222, \"#7201a8\"], [0.3333333333333333, \"#9c179e\"], [0.4444444444444444, \"#bd3786\"], [0.5555555555555556, \"#d8576b\"], [0.6666666666666666, \"#ed7953\"], [0.7777777777777778, \"#fb9f3a\"], [0.8888888888888888, \"#fdca26\"], [1.0, \"#f0f921\"]], \"type\": \"histogram2d\"}], \"histogram2dcontour\": [{\"colorbar\": {\"outlinewidth\": 0, \"ticks\": \"\"}, \"colorscale\": [[0.0, \"#0d0887\"], [0.1111111111111111, \"#46039f\"], [0.2222222222222222, \"#7201a8\"], [0.3333333333333333, \"#9c179e\"], [0.4444444444444444, \"#bd3786\"], [0.5555555555555556, \"#d8576b\"], [0.6666666666666666, \"#ed7953\"], [0.7777777777777778, \"#fb9f3a\"], [0.8888888888888888, \"#fdca26\"], [1.0, \"#f0f921\"]], \"type\": \"histogram2dcontour\"}], \"mesh3d\": [{\"colorbar\": {\"outlinewidth\": 0, \"ticks\": \"\"}, \"type\": \"mesh3d\"}], \"parcoords\": [{\"line\": {\"colorbar\": {\"outlinewidth\": 0, \"ticks\": \"\"}}, \"type\": \"parcoords\"}], \"pie\": [{\"automargin\": true, \"type\": \"pie\"}], \"scatter\": [{\"marker\": {\"colorbar\": {\"outlinewidth\": 0, \"ticks\": \"\"}}, \"type\": \"scatter\"}], \"scatter3d\": [{\"line\": {\"colorbar\": {\"outlinewidth\": 0, \"ticks\": \"\"}}, \"marker\": {\"colorbar\": {\"outlinewidth\": 0, \"ticks\": \"\"}}, \"type\": \"scatter3d\"}], \"scattercarpet\": [{\"marker\": {\"colorbar\": {\"outlinewidth\": 0, \"ticks\": \"\"}}, \"type\": \"scattercarpet\"}], \"scattergeo\": [{\"marker\": {\"colorbar\": {\"outlinewidth\": 0, \"ticks\": \"\"}}, \"type\": \"scattergeo\"}], \"scattergl\": [{\"marker\": {\"colorbar\": {\"outlinewidth\": 0, \"ticks\": \"\"}}, \"type\": \"scattergl\"}], \"scattermapbox\": [{\"marker\": {\"colorbar\": {\"outlinewidth\": 0, \"ticks\": \"\"}}, \"type\": \"scattermapbox\"}], \"scatterpolar\": [{\"marker\": {\"colorbar\": {\"outlinewidth\": 0, \"ticks\": \"\"}}, \"type\": \"scatterpolar\"}], \"scatterpolargl\": [{\"marker\": {\"colorbar\": {\"outlinewidth\": 0, \"ticks\": \"\"}}, \"type\": \"scatterpolargl\"}], \"scatterternary\": [{\"marker\": {\"colorbar\": {\"outlinewidth\": 0, \"ticks\": \"\"}}, \"type\": \"scatterternary\"}], \"surface\": [{\"colorbar\": {\"outlinewidth\": 0, \"ticks\": \"\"}, \"colorscale\": [[0.0, \"#0d0887\"], [0.1111111111111111, \"#46039f\"], [0.2222222222222222, \"#7201a8\"], [0.3333333333333333, \"#9c179e\"], [0.4444444444444444, \"#bd3786\"], [0.5555555555555556, \"#d8576b\"], [0.6666666666666666, \"#ed7953\"], [0.7777777777777778, \"#fb9f3a\"], [0.8888888888888888, \"#fdca26\"], [1.0, \"#f0f921\"]], \"type\": \"surface\"}], \"table\": [{\"cells\": {\"fill\": {\"color\": \"#EBF0F8\"}, \"line\": {\"color\": \"white\"}}, \"header\": {\"fill\": {\"color\": \"#C8D4E3\"}, \"line\": {\"color\": \"white\"}}, \"type\": \"table\"}]}, \"layout\": {\"annotationdefaults\": {\"arrowcolor\": \"#2a3f5f\", \"arrowhead\": 0, \"arrowwidth\": 1}, \"coloraxis\": {\"colorbar\": {\"outlinewidth\": 0, \"ticks\": \"\"}}, \"colorscale\": {\"diverging\": [[0, \"#8e0152\"], [0.1, \"#c51b7d\"], [0.2, \"#de77ae\"], [0.3, \"#f1b6da\"], [0.4, \"#fde0ef\"], [0.5, \"#f7f7f7\"], [0.6, \"#e6f5d0\"], [0.7, \"#b8e186\"], [0.8, \"#7fbc41\"], [0.9, \"#4d9221\"], [1, \"#276419\"]], \"sequential\": [[0.0, \"#0d0887\"], [0.1111111111111111, \"#46039f\"], [0.2222222222222222, \"#7201a8\"], [0.3333333333333333, \"#9c179e\"], [0.4444444444444444, \"#bd3786\"], [0.5555555555555556, \"#d8576b\"], [0.6666666666666666, \"#ed7953\"], [0.7777777777777778, \"#fb9f3a\"], [0.8888888888888888, \"#fdca26\"], [1.0, \"#f0f921\"]], \"sequentialminus\": [[0.0, \"#0d0887\"], [0.1111111111111111, \"#46039f\"], [0.2222222222222222, \"#7201a8\"], [0.3333333333333333, \"#9c179e\"], [0.4444444444444444, \"#bd3786\"], [0.5555555555555556, \"#d8576b\"], [0.6666666666666666, \"#ed7953\"], [0.7777777777777778, \"#fb9f3a\"], [0.8888888888888888, \"#fdca26\"], [1.0, \"#f0f921\"]]}, \"colorway\": [\"#636efa\", \"#EF553B\", \"#00cc96\", \"#ab63fa\", \"#FFA15A\", \"#19d3f3\", \"#FF6692\", \"#B6E880\", \"#FF97FF\", \"#FECB52\"], \"font\": {\"color\": \"#2a3f5f\"}, \"geo\": {\"bgcolor\": \"white\", \"lakecolor\": \"white\", \"landcolor\": \"#E5ECF6\", \"showlakes\": true, \"showland\": true, \"subunitcolor\": \"white\"}, \"hoverlabel\": {\"align\": \"left\"}, \"hovermode\": \"closest\", \"mapbox\": {\"style\": \"light\"}, \"paper_bgcolor\": \"white\", \"plot_bgcolor\": \"#E5ECF6\", \"polar\": {\"angularaxis\": {\"gridcolor\": \"white\", \"linecolor\": \"white\", \"ticks\": \"\"}, \"bgcolor\": \"#E5ECF6\", \"radialaxis\": {\"gridcolor\": \"white\", \"linecolor\": \"white\", \"ticks\": \"\"}}, \"scene\": {\"xaxis\": {\"backgroundcolor\": \"#E5ECF6\", \"gridcolor\": \"white\", \"gridwidth\": 2, \"linecolor\": \"white\", \"showbackground\": true, \"ticks\": \"\", \"zerolinecolor\": \"white\"}, \"yaxis\": {\"backgroundcolor\": \"#E5ECF6\", \"gridcolor\": \"white\", \"gridwidth\": 2, \"linecolor\": \"white\", \"showbackground\": true, \"ticks\": \"\", \"zerolinecolor\": \"white\"}, \"zaxis\": {\"backgroundcolor\": \"#E5ECF6\", \"gridcolor\": \"white\", \"gridwidth\": 2, \"linecolor\": \"white\", \"showbackground\": true, \"ticks\": \"\", \"zerolinecolor\": \"white\"}}, \"shapedefaults\": {\"line\": {\"color\": \"#2a3f5f\"}}, \"ternary\": {\"aaxis\": {\"gridcolor\": \"white\", \"linecolor\": \"white\", \"ticks\": \"\"}, \"baxis\": {\"gridcolor\": \"white\", \"linecolor\": \"white\", \"ticks\": \"\"}, \"bgcolor\": \"#E5ECF6\", \"caxis\": {\"gridcolor\": \"white\", \"linecolor\": \"white\", \"ticks\": \"\"}}, \"title\": {\"x\": 0.05}, \"xaxis\": {\"automargin\": true, \"gridcolor\": \"white\", \"linecolor\": \"white\", \"ticks\": \"\", \"title\": {\"standoff\": 15}, \"zerolinecolor\": \"white\", \"zerolinewidth\": 2}, \"yaxis\": {\"automargin\": true, \"gridcolor\": \"white\", \"linecolor\": \"white\", \"ticks\": \"\", \"title\": {\"standoff\": 15}, \"zerolinecolor\": \"white\", \"zerolinewidth\": 2}}}, \"xaxis\": {\"anchor\": \"y\", \"domain\": [0.0, 1.0], \"title\": {\"text\": \"YEAR\"}}, \"yaxis\": {\"anchor\": \"x\", \"domain\": [0.0, 1.0], \"title\": {\"text\": \"num_visits\"}}},\n",
       "                        {\"responsive\": true}\n",
       "                    ).then(function(){\n",
       "                            \n",
       "var gd = document.getElementById('75a072fa-38f2-4f8a-be9a-048c3eda6132');\n",
       "var x = new MutationObserver(function (mutations, observer) {{\n",
       "        var display = window.getComputedStyle(gd).display;\n",
       "        if (!display || display === 'none') {{\n",
       "            console.log([gd, 'removed!']);\n",
       "            Plotly.purge(gd);\n",
       "            observer.disconnect();\n",
       "        }}\n",
       "}});\n",
       "\n",
       "// Listen for the removal of the full notebook cells\n",
       "var notebookContainer = gd.closest('#notebook-container');\n",
       "if (notebookContainer) {{\n",
       "    x.observe(notebookContainer, {childList: true});\n",
       "}}\n",
       "\n",
       "// Listen for the clearing of the current output cell\n",
       "var outputEl = gd.closest('.output');\n",
       "if (outputEl) {{\n",
       "    x.observe(outputEl, {childList: true});\n",
       "}}\n",
       "\n",
       "                        })\n",
       "                };\n",
       "                });\n",
       "            </script>\n",
       "        </div>"
      ]
     },
     "metadata": {},
     "output_type": "display_data"
    }
   ],
   "source": [
    "#group by year and payer name and take a count.\n",
    "payer_distribution=df.groupby([\"YEAR\",\"PAYER_NAME\"]).count().reset_index()\n",
    "px.bar(payer_distribution,x=\"YEAR\",y=\"Id\",hover_data=[\"PAYER_NAME\"],labels={\"Id\":\"num_visits\"})"
   ]
  },
  {
   "cell_type": "markdown",
   "metadata": {},
   "source": [
    "#### Now let's try to find the popular reasons for which patients visited the hospital\n",
    "We're going to use subplots for this\n",
    "We need: \n",
    "- number of rows \n",
    "- number of columns\n",
    "- and what each figure is going be (specs)"
   ]
  },
  {
   "cell_type": "code",
   "execution_count": 142,
   "metadata": {},
   "outputs": [
    {
     "data": {
      "text/plain": [
       "11"
      ]
     },
     "execution_count": 142,
     "metadata": {},
     "output_type": "execute_result"
    }
   ],
   "source": []
  },
  {
   "cell_type": "code",
   "execution_count": 151,
   "metadata": {},
   "outputs": [],
   "source": [
    "cols=1\n",
    "rows = len(range(df[\"YEAR\"].min(),df[\"YEAR\"].max()+1))\n",
    "specs = [[{\"type\":\"pie\"}]for i in range(rows)]\n",
    "column_widths=[0.9]"
   ]
  },
  {
   "cell_type": "code",
   "execution_count": 152,
   "metadata": {},
   "outputs": [],
   "source": [
    "fig = make_subplots(rows=rows,cols=cols,specs=specs,column_widths=column_widths)"
   ]
  },
  {
   "cell_type": "code",
   "execution_count": 153,
   "metadata": {},
   "outputs": [
    {
     "data": {
      "application/vnd.plotly.v1+json": {
       "config": {
        "plotlyServerURL": "https://plot.ly"
       },
       "data": [
        {
         "domain": {
          "x": [
           0,
           1
          ],
          "y": [
           0.9338842975206612,
           1
          ]
         },
         "labels": [
          "Hyperlipidemia",
          "Viral sinusitis (disorder)",
          "Sinusitis (disorder)",
          "Streptococcal sore throat (disorder)",
          "Otitis media",
          "Anemia (disorder)",
          "Drug overdose",
          "Acute viral pharyngitis (disorder)",
          "Fracture of rib",
          "Fracture subluxation of wrist",
          "Normal pregnancy"
         ],
         "textinfo": "none",
         "title": {
          "text": "2010"
         },
         "type": "pie",
         "values": [
          7,
          6,
          3,
          2,
          2,
          2,
          1,
          1,
          1,
          1,
          1
         ]
        },
        {
         "domain": {
          "x": [
           0,
           1
          ],
          "y": [
           0.8404958677685951,
           0.9066115702479339
          ]
         },
         "labels": [
          "Chronic congestive heart failure (disorder)",
          "Normal pregnancy",
          "Hyperlipidemia",
          "Viral sinusitis (disorder)",
          "Otitis media",
          "Acute bronchitis (disorder)",
          "Escherichia coli urinary tract infection",
          "Acute viral pharyngitis (disorder)",
          "Drug overdose",
          "Fetus with unknown complication",
          "Fracture of rib",
          "Blighted ovum",
          "Childhood asthma"
         ],
         "textinfo": "none",
         "title": {
          "text": "2011"
         },
         "type": "pie",
         "values": [
          57,
          24,
          8,
          7,
          3,
          3,
          1,
          1,
          1,
          1,
          1,
          1,
          1
         ]
        },
        {
         "domain": {
          "x": [
           0,
           1
          ],
          "y": [
           0.7471074380165289,
           0.8132231404958677
          ]
         },
         "labels": [
          "Chronic congestive heart failure (disorder)",
          "Normal pregnancy",
          "Viral sinusitis (disorder)",
          "Hyperlipidemia",
          "Acute bacterial sinusitis (disorder)",
          "Acute bronchitis (disorder)",
          "Streptococcal sore throat (disorder)",
          "Acute viral pharyngitis (disorder)",
          "Otitis media",
          "Impacted molars",
          "Alzheimer's disease (disorder)",
          "Chronic intractable migraine without aura",
          "Drug overdose",
          "Chronic pain",
          "Fracture of ankle",
          "Childhood asthma"
         ],
         "textinfo": "none",
         "title": {
          "text": "2012"
         },
         "type": "pie",
         "values": [
          70,
          15,
          10,
          8,
          5,
          4,
          3,
          2,
          2,
          2,
          1,
          1,
          1,
          1,
          1,
          1
         ]
        },
        {
         "domain": {
          "x": [
           0,
           1
          ],
          "y": [
           0.6537190082644628,
           0.7198347107438017
          ]
         },
         "labels": [
          "Normal pregnancy",
          "Child attention deficit disorder",
          "Hyperlipidemia",
          "Viral sinusitis (disorder)",
          "Acute viral pharyngitis (disorder)",
          "Acute bronchitis (disorder)",
          "Chronic pain",
          "Otitis media",
          "Impacted molars",
          "Acute bacterial sinusitis (disorder)",
          "Drug overdose",
          "Chronic congestive heart failure (disorder)",
          "Anemia (disorder)",
          "Concussion with no loss of consciousness",
          "Fetus with unknown complication",
          "Streptococcal sore throat (disorder)",
          "Atopic dermatitis",
          "Childhood asthma"
         ],
         "textinfo": "none",
         "title": {
          "text": "2013"
         },
         "type": "pie",
         "values": [
          26,
          9,
          8,
          5,
          4,
          3,
          3,
          2,
          2,
          2,
          2,
          2,
          1,
          1,
          1,
          1,
          1,
          1
         ]
        },
        {
         "domain": {
          "x": [
           0,
           1
          ],
          "y": [
           0.5603305785123966,
           0.6264462809917355
          ]
         },
         "labels": [
          "Normal pregnancy",
          "Child attention deficit disorder",
          "Hyperlipidemia",
          "Viral sinusitis (disorder)",
          "Acute bronchitis (disorder)",
          "Streptococcal sore throat (disorder)",
          "Acute viral pharyngitis (disorder)",
          "Impacted molars",
          "Drug overdose",
          "Childhood asthma",
          "Sinusitis (disorder)",
          "Alzheimer's disease (disorder)",
          "Otitis media",
          "Acute bacterial sinusitis (disorder)",
          "Chronic pain",
          "Fracture subluxation of wrist"
         ],
         "textinfo": "none",
         "title": {
          "text": "2014"
         },
         "type": "pie",
         "values": [
          45,
          12,
          8,
          4,
          3,
          3,
          2,
          2,
          2,
          2,
          1,
          1,
          1,
          1,
          1,
          1
         ]
        },
        {
         "domain": {
          "x": [
           0,
           1
          ],
          "y": [
           0.4669421487603306,
           0.5330578512396694
          ]
         },
         "labels": [
          "Normal pregnancy",
          "Child attention deficit disorder",
          "Hyperlipidemia",
          "Viral sinusitis (disorder)",
          "Acute bronchitis (disorder)",
          "Otitis media",
          "Chronic intractable migraine without aura",
          "Osteoarthritis of knee",
          "Drug overdose",
          "Chronic congestive heart failure (disorder)",
          "Anemia (disorder)",
          "Sinusitis (disorder)",
          "Asthma",
          "Acute bacterial sinusitis (disorder)",
          "Impacted molars",
          "Chronic pain"
         ],
         "textinfo": "none",
         "title": {
          "text": "2015"
         },
         "type": "pie",
         "values": [
          14,
          12,
          9,
          6,
          5,
          2,
          2,
          2,
          2,
          2,
          1,
          1,
          1,
          1,
          1,
          1
         ]
        },
        {
         "domain": {
          "x": [
           0,
           1
          ],
          "y": [
           0.37355371900826445,
           0.4396694214876033
          ]
         },
         "labels": [
          "Normal pregnancy",
          "Child attention deficit disorder",
          "Hyperlipidemia",
          "Acute bronchitis (disorder)",
          "Viral sinusitis (disorder)",
          "Chronic pain",
          "Chronic congestive heart failure (disorder)",
          "Fracture of forearm",
          "Acute viral pharyngitis (disorder)",
          "Injury of medial collateral ligament of knee",
          "Otitis media",
          "Acute bacterial sinusitis (disorder)",
          "Anemia (disorder)",
          "Drug overdose",
          "Streptococcal sore throat (disorder)",
          "Blighted ovum"
         ],
         "textinfo": "none",
         "title": {
          "text": "2016"
         },
         "type": "pie",
         "values": [
          21,
          11,
          9,
          3,
          3,
          2,
          2,
          1,
          1,
          1,
          1,
          1,
          1,
          1,
          1,
          1
         ]
        },
        {
         "domain": {
          "x": [
           0,
           1
          ],
          "y": [
           0.2801652892561983,
           0.34628099173553717
          ]
         },
         "labels": [
          "Normal pregnancy",
          "Child attention deficit disorder",
          "Hyperlipidemia",
          "Viral sinusitis (disorder)",
          "Acute viral pharyngitis (disorder)",
          "Acute bronchitis (disorder)",
          "Suspected lung cancer (situation)",
          "Drug overdose",
          "Non-small cell lung cancer (disorder)",
          "Alzheimer's disease (disorder)",
          "Cystitis",
          "Non-small cell carcinoma of lung  TNM stage 1 (disorder)",
          "Perennial allergic rhinitis with seasonal variation",
          "Childhood asthma"
         ],
         "textinfo": "none",
         "title": {
          "text": "2017"
         },
         "type": "pie",
         "values": [
          29,
          12,
          10,
          9,
          7,
          3,
          2,
          2,
          1,
          1,
          1,
          1,
          1,
          1
         ]
        },
        {
         "domain": {
          "x": [
           0,
           1
          ],
          "y": [
           0.18677685950413223,
           0.2528925619834711
          ]
         },
         "labels": [
          "Child attention deficit disorder",
          "Hyperlipidemia",
          "Viral sinusitis (disorder)",
          "Acute bacterial sinusitis (disorder)",
          "Normal pregnancy",
          "Acute bronchitis (disorder)",
          "Acute viral pharyngitis (disorder)",
          "Otitis media",
          "Injury of tendon of the rotator cuff of shoulder",
          "Childhood asthma",
          "Cystitis",
          "Pneumonia",
          "Drug overdose",
          "Streptococcal sore throat (disorder)",
          "Fracture of clavicle",
          "Atopic dermatitis"
         ],
         "textinfo": "none",
         "title": {
          "text": "2018"
         },
         "type": "pie",
         "values": [
          12,
          11,
          7,
          6,
          3,
          3,
          2,
          2,
          2,
          2,
          1,
          1,
          1,
          1,
          1,
          1
         ]
        },
        {
         "domain": {
          "x": [
           0,
           1
          ],
          "y": [
           0.09338842975206611,
           0.15950413223140497
          ]
         },
         "labels": [
          "Hyperlipidemia",
          "Viral sinusitis (disorder)",
          "Otitis media",
          "Normal pregnancy",
          "Child attention deficit disorder",
          "Appendicitis",
          "Acute viral pharyngitis (disorder)",
          "Fracture of rib",
          "Childhood asthma",
          "Streptococcal sore throat (disorder)",
          "Escherichia coli urinary tract infection",
          "Drug overdose",
          "Asthma",
          "Injury of tendon of the rotator cuff of shoulder",
          "Acute bronchitis (disorder)",
          "Cystitis",
          "Concussion with no loss of consciousness"
         ],
         "textinfo": "none",
         "title": {
          "text": "2019"
         },
         "type": "pie",
         "values": [
          9,
          7,
          5,
          3,
          2,
          2,
          2,
          1,
          1,
          1,
          1,
          1,
          1,
          1,
          1,
          1,
          1
         ]
        },
        {
         "domain": {
          "x": [
           0,
           1
          ],
          "y": [
           0,
           0.06611570247933884
          ]
         },
         "labels": [
          "Sinusitis (disorder)",
          "Normal pregnancy",
          "Acute viral pharyngitis (disorder)",
          "Hyperlipidemia",
          "Perennial allergic rhinitis with seasonal variation",
          "Childhood asthma",
          "Perennial allergic rhinitis",
          "Fracture subluxation of wrist",
          "Acute bronchitis (disorder)"
         ],
         "textinfo": "none",
         "title": {
          "text": "2020"
         },
         "type": "pie",
         "values": [
          5,
          4,
          3,
          2,
          2,
          2,
          1,
          1,
          1
         ]
        }
       ],
       "layout": {
        "height": 4000,
        "template": {
         "data": {
          "bar": [
           {
            "error_x": {
             "color": "#2a3f5f"
            },
            "error_y": {
             "color": "#2a3f5f"
            },
            "marker": {
             "line": {
              "color": "#E5ECF6",
              "width": 0.5
             }
            },
            "type": "bar"
           }
          ],
          "barpolar": [
           {
            "marker": {
             "line": {
              "color": "#E5ECF6",
              "width": 0.5
             }
            },
            "type": "barpolar"
           }
          ],
          "carpet": [
           {
            "aaxis": {
             "endlinecolor": "#2a3f5f",
             "gridcolor": "white",
             "linecolor": "white",
             "minorgridcolor": "white",
             "startlinecolor": "#2a3f5f"
            },
            "baxis": {
             "endlinecolor": "#2a3f5f",
             "gridcolor": "white",
             "linecolor": "white",
             "minorgridcolor": "white",
             "startlinecolor": "#2a3f5f"
            },
            "type": "carpet"
           }
          ],
          "choropleth": [
           {
            "colorbar": {
             "outlinewidth": 0,
             "ticks": ""
            },
            "type": "choropleth"
           }
          ],
          "contour": [
           {
            "colorbar": {
             "outlinewidth": 0,
             "ticks": ""
            },
            "colorscale": [
             [
              0,
              "#0d0887"
             ],
             [
              0.1111111111111111,
              "#46039f"
             ],
             [
              0.2222222222222222,
              "#7201a8"
             ],
             [
              0.3333333333333333,
              "#9c179e"
             ],
             [
              0.4444444444444444,
              "#bd3786"
             ],
             [
              0.5555555555555556,
              "#d8576b"
             ],
             [
              0.6666666666666666,
              "#ed7953"
             ],
             [
              0.7777777777777778,
              "#fb9f3a"
             ],
             [
              0.8888888888888888,
              "#fdca26"
             ],
             [
              1,
              "#f0f921"
             ]
            ],
            "type": "contour"
           }
          ],
          "contourcarpet": [
           {
            "colorbar": {
             "outlinewidth": 0,
             "ticks": ""
            },
            "type": "contourcarpet"
           }
          ],
          "heatmap": [
           {
            "colorbar": {
             "outlinewidth": 0,
             "ticks": ""
            },
            "colorscale": [
             [
              0,
              "#0d0887"
             ],
             [
              0.1111111111111111,
              "#46039f"
             ],
             [
              0.2222222222222222,
              "#7201a8"
             ],
             [
              0.3333333333333333,
              "#9c179e"
             ],
             [
              0.4444444444444444,
              "#bd3786"
             ],
             [
              0.5555555555555556,
              "#d8576b"
             ],
             [
              0.6666666666666666,
              "#ed7953"
             ],
             [
              0.7777777777777778,
              "#fb9f3a"
             ],
             [
              0.8888888888888888,
              "#fdca26"
             ],
             [
              1,
              "#f0f921"
             ]
            ],
            "type": "heatmap"
           }
          ],
          "heatmapgl": [
           {
            "colorbar": {
             "outlinewidth": 0,
             "ticks": ""
            },
            "colorscale": [
             [
              0,
              "#0d0887"
             ],
             [
              0.1111111111111111,
              "#46039f"
             ],
             [
              0.2222222222222222,
              "#7201a8"
             ],
             [
              0.3333333333333333,
              "#9c179e"
             ],
             [
              0.4444444444444444,
              "#bd3786"
             ],
             [
              0.5555555555555556,
              "#d8576b"
             ],
             [
              0.6666666666666666,
              "#ed7953"
             ],
             [
              0.7777777777777778,
              "#fb9f3a"
             ],
             [
              0.8888888888888888,
              "#fdca26"
             ],
             [
              1,
              "#f0f921"
             ]
            ],
            "type": "heatmapgl"
           }
          ],
          "histogram": [
           {
            "marker": {
             "colorbar": {
              "outlinewidth": 0,
              "ticks": ""
             }
            },
            "type": "histogram"
           }
          ],
          "histogram2d": [
           {
            "colorbar": {
             "outlinewidth": 0,
             "ticks": ""
            },
            "colorscale": [
             [
              0,
              "#0d0887"
             ],
             [
              0.1111111111111111,
              "#46039f"
             ],
             [
              0.2222222222222222,
              "#7201a8"
             ],
             [
              0.3333333333333333,
              "#9c179e"
             ],
             [
              0.4444444444444444,
              "#bd3786"
             ],
             [
              0.5555555555555556,
              "#d8576b"
             ],
             [
              0.6666666666666666,
              "#ed7953"
             ],
             [
              0.7777777777777778,
              "#fb9f3a"
             ],
             [
              0.8888888888888888,
              "#fdca26"
             ],
             [
              1,
              "#f0f921"
             ]
            ],
            "type": "histogram2d"
           }
          ],
          "histogram2dcontour": [
           {
            "colorbar": {
             "outlinewidth": 0,
             "ticks": ""
            },
            "colorscale": [
             [
              0,
              "#0d0887"
             ],
             [
              0.1111111111111111,
              "#46039f"
             ],
             [
              0.2222222222222222,
              "#7201a8"
             ],
             [
              0.3333333333333333,
              "#9c179e"
             ],
             [
              0.4444444444444444,
              "#bd3786"
             ],
             [
              0.5555555555555556,
              "#d8576b"
             ],
             [
              0.6666666666666666,
              "#ed7953"
             ],
             [
              0.7777777777777778,
              "#fb9f3a"
             ],
             [
              0.8888888888888888,
              "#fdca26"
             ],
             [
              1,
              "#f0f921"
             ]
            ],
            "type": "histogram2dcontour"
           }
          ],
          "mesh3d": [
           {
            "colorbar": {
             "outlinewidth": 0,
             "ticks": ""
            },
            "type": "mesh3d"
           }
          ],
          "parcoords": [
           {
            "line": {
             "colorbar": {
              "outlinewidth": 0,
              "ticks": ""
             }
            },
            "type": "parcoords"
           }
          ],
          "pie": [
           {
            "automargin": true,
            "type": "pie"
           }
          ],
          "scatter": [
           {
            "marker": {
             "colorbar": {
              "outlinewidth": 0,
              "ticks": ""
             }
            },
            "type": "scatter"
           }
          ],
          "scatter3d": [
           {
            "line": {
             "colorbar": {
              "outlinewidth": 0,
              "ticks": ""
             }
            },
            "marker": {
             "colorbar": {
              "outlinewidth": 0,
              "ticks": ""
             }
            },
            "type": "scatter3d"
           }
          ],
          "scattercarpet": [
           {
            "marker": {
             "colorbar": {
              "outlinewidth": 0,
              "ticks": ""
             }
            },
            "type": "scattercarpet"
           }
          ],
          "scattergeo": [
           {
            "marker": {
             "colorbar": {
              "outlinewidth": 0,
              "ticks": ""
             }
            },
            "type": "scattergeo"
           }
          ],
          "scattergl": [
           {
            "marker": {
             "colorbar": {
              "outlinewidth": 0,
              "ticks": ""
             }
            },
            "type": "scattergl"
           }
          ],
          "scattermapbox": [
           {
            "marker": {
             "colorbar": {
              "outlinewidth": 0,
              "ticks": ""
             }
            },
            "type": "scattermapbox"
           }
          ],
          "scatterpolar": [
           {
            "marker": {
             "colorbar": {
              "outlinewidth": 0,
              "ticks": ""
             }
            },
            "type": "scatterpolar"
           }
          ],
          "scatterpolargl": [
           {
            "marker": {
             "colorbar": {
              "outlinewidth": 0,
              "ticks": ""
             }
            },
            "type": "scatterpolargl"
           }
          ],
          "scatterternary": [
           {
            "marker": {
             "colorbar": {
              "outlinewidth": 0,
              "ticks": ""
             }
            },
            "type": "scatterternary"
           }
          ],
          "surface": [
           {
            "colorbar": {
             "outlinewidth": 0,
             "ticks": ""
            },
            "colorscale": [
             [
              0,
              "#0d0887"
             ],
             [
              0.1111111111111111,
              "#46039f"
             ],
             [
              0.2222222222222222,
              "#7201a8"
             ],
             [
              0.3333333333333333,
              "#9c179e"
             ],
             [
              0.4444444444444444,
              "#bd3786"
             ],
             [
              0.5555555555555556,
              "#d8576b"
             ],
             [
              0.6666666666666666,
              "#ed7953"
             ],
             [
              0.7777777777777778,
              "#fb9f3a"
             ],
             [
              0.8888888888888888,
              "#fdca26"
             ],
             [
              1,
              "#f0f921"
             ]
            ],
            "type": "surface"
           }
          ],
          "table": [
           {
            "cells": {
             "fill": {
              "color": "#EBF0F8"
             },
             "line": {
              "color": "white"
             }
            },
            "header": {
             "fill": {
              "color": "#C8D4E3"
             },
             "line": {
              "color": "white"
             }
            },
            "type": "table"
           }
          ]
         },
         "layout": {
          "annotationdefaults": {
           "arrowcolor": "#2a3f5f",
           "arrowhead": 0,
           "arrowwidth": 1
          },
          "coloraxis": {
           "colorbar": {
            "outlinewidth": 0,
            "ticks": ""
           }
          },
          "colorscale": {
           "diverging": [
            [
             0,
             "#8e0152"
            ],
            [
             0.1,
             "#c51b7d"
            ],
            [
             0.2,
             "#de77ae"
            ],
            [
             0.3,
             "#f1b6da"
            ],
            [
             0.4,
             "#fde0ef"
            ],
            [
             0.5,
             "#f7f7f7"
            ],
            [
             0.6,
             "#e6f5d0"
            ],
            [
             0.7,
             "#b8e186"
            ],
            [
             0.8,
             "#7fbc41"
            ],
            [
             0.9,
             "#4d9221"
            ],
            [
             1,
             "#276419"
            ]
           ],
           "sequential": [
            [
             0,
             "#0d0887"
            ],
            [
             0.1111111111111111,
             "#46039f"
            ],
            [
             0.2222222222222222,
             "#7201a8"
            ],
            [
             0.3333333333333333,
             "#9c179e"
            ],
            [
             0.4444444444444444,
             "#bd3786"
            ],
            [
             0.5555555555555556,
             "#d8576b"
            ],
            [
             0.6666666666666666,
             "#ed7953"
            ],
            [
             0.7777777777777778,
             "#fb9f3a"
            ],
            [
             0.8888888888888888,
             "#fdca26"
            ],
            [
             1,
             "#f0f921"
            ]
           ],
           "sequentialminus": [
            [
             0,
             "#0d0887"
            ],
            [
             0.1111111111111111,
             "#46039f"
            ],
            [
             0.2222222222222222,
             "#7201a8"
            ],
            [
             0.3333333333333333,
             "#9c179e"
            ],
            [
             0.4444444444444444,
             "#bd3786"
            ],
            [
             0.5555555555555556,
             "#d8576b"
            ],
            [
             0.6666666666666666,
             "#ed7953"
            ],
            [
             0.7777777777777778,
             "#fb9f3a"
            ],
            [
             0.8888888888888888,
             "#fdca26"
            ],
            [
             1,
             "#f0f921"
            ]
           ]
          },
          "colorway": [
           "#636efa",
           "#EF553B",
           "#00cc96",
           "#ab63fa",
           "#FFA15A",
           "#19d3f3",
           "#FF6692",
           "#B6E880",
           "#FF97FF",
           "#FECB52"
          ],
          "font": {
           "color": "#2a3f5f"
          },
          "geo": {
           "bgcolor": "white",
           "lakecolor": "white",
           "landcolor": "#E5ECF6",
           "showlakes": true,
           "showland": true,
           "subunitcolor": "white"
          },
          "hoverlabel": {
           "align": "left"
          },
          "hovermode": "closest",
          "mapbox": {
           "style": "light"
          },
          "paper_bgcolor": "white",
          "plot_bgcolor": "#E5ECF6",
          "polar": {
           "angularaxis": {
            "gridcolor": "white",
            "linecolor": "white",
            "ticks": ""
           },
           "bgcolor": "#E5ECF6",
           "radialaxis": {
            "gridcolor": "white",
            "linecolor": "white",
            "ticks": ""
           }
          },
          "scene": {
           "xaxis": {
            "backgroundcolor": "#E5ECF6",
            "gridcolor": "white",
            "gridwidth": 2,
            "linecolor": "white",
            "showbackground": true,
            "ticks": "",
            "zerolinecolor": "white"
           },
           "yaxis": {
            "backgroundcolor": "#E5ECF6",
            "gridcolor": "white",
            "gridwidth": 2,
            "linecolor": "white",
            "showbackground": true,
            "ticks": "",
            "zerolinecolor": "white"
           },
           "zaxis": {
            "backgroundcolor": "#E5ECF6",
            "gridcolor": "white",
            "gridwidth": 2,
            "linecolor": "white",
            "showbackground": true,
            "ticks": "",
            "zerolinecolor": "white"
           }
          },
          "shapedefaults": {
           "line": {
            "color": "#2a3f5f"
           }
          },
          "ternary": {
           "aaxis": {
            "gridcolor": "white",
            "linecolor": "white",
            "ticks": ""
           },
           "baxis": {
            "gridcolor": "white",
            "linecolor": "white",
            "ticks": ""
           },
           "bgcolor": "#E5ECF6",
           "caxis": {
            "gridcolor": "white",
            "linecolor": "white",
            "ticks": ""
           }
          },
          "title": {
           "x": 0.05
          },
          "xaxis": {
           "automargin": true,
           "gridcolor": "white",
           "linecolor": "white",
           "ticks": "",
           "title": {
            "standoff": 15
           },
           "zerolinecolor": "white",
           "zerolinewidth": 2
          },
          "yaxis": {
           "automargin": true,
           "gridcolor": "white",
           "linecolor": "white",
           "ticks": "",
           "title": {
            "standoff": 15
           },
           "zerolinecolor": "white",
           "zerolinewidth": 2
          }
         }
        },
        "width": 1000
       }
      },
      "text/html": [
       "<div>\n",
       "        \n",
       "        \n",
       "            <div id=\"35dadda4-e5f3-4adc-b0c7-9ce7008de8b0\" class=\"plotly-graph-div\" style=\"height:4000px; width:1000px;\"></div>\n",
       "            <script type=\"text/javascript\">\n",
       "                require([\"plotly\"], function(Plotly) {\n",
       "                    window.PLOTLYENV=window.PLOTLYENV || {};\n",
       "                    \n",
       "                if (document.getElementById(\"35dadda4-e5f3-4adc-b0c7-9ce7008de8b0\")) {\n",
       "                    Plotly.newPlot(\n",
       "                        '35dadda4-e5f3-4adc-b0c7-9ce7008de8b0',\n",
       "                        [{\"domain\": {\"x\": [0.0, 1.0], \"y\": [0.9338842975206612, 1.0]}, \"labels\": [\"Hyperlipidemia\", \"Viral sinusitis (disorder)\", \"Sinusitis (disorder)\", \"Streptococcal sore throat (disorder)\", \"Otitis media\", \"Anemia (disorder)\", \"Drug overdose\", \"Acute viral pharyngitis (disorder)\", \"Fracture of rib\", \"Fracture subluxation of wrist\", \"Normal pregnancy\"], \"textinfo\": \"none\", \"title\": {\"text\": \"2010\"}, \"type\": \"pie\", \"values\": [7, 6, 3, 2, 2, 2, 1, 1, 1, 1, 1]}, {\"domain\": {\"x\": [0.0, 1.0], \"y\": [0.8404958677685951, 0.9066115702479339]}, \"labels\": [\"Chronic congestive heart failure (disorder)\", \"Normal pregnancy\", \"Hyperlipidemia\", \"Viral sinusitis (disorder)\", \"Otitis media\", \"Acute bronchitis (disorder)\", \"Escherichia coli urinary tract infection\", \"Acute viral pharyngitis (disorder)\", \"Drug overdose\", \"Fetus with unknown complication\", \"Fracture of rib\", \"Blighted ovum\", \"Childhood asthma\"], \"textinfo\": \"none\", \"title\": {\"text\": \"2011\"}, \"type\": \"pie\", \"values\": [57, 24, 8, 7, 3, 3, 1, 1, 1, 1, 1, 1, 1]}, {\"domain\": {\"x\": [0.0, 1.0], \"y\": [0.7471074380165289, 0.8132231404958677]}, \"labels\": [\"Chronic congestive heart failure (disorder)\", \"Normal pregnancy\", \"Viral sinusitis (disorder)\", \"Hyperlipidemia\", \"Acute bacterial sinusitis (disorder)\", \"Acute bronchitis (disorder)\", \"Streptococcal sore throat (disorder)\", \"Acute viral pharyngitis (disorder)\", \"Otitis media\", \"Impacted molars\", \"Alzheimer's disease (disorder)\", \"Chronic intractable migraine without aura\", \"Drug overdose\", \"Chronic pain\", \"Fracture of ankle\", \"Childhood asthma\"], \"textinfo\": \"none\", \"title\": {\"text\": \"2012\"}, \"type\": \"pie\", \"values\": [70, 15, 10, 8, 5, 4, 3, 2, 2, 2, 1, 1, 1, 1, 1, 1]}, {\"domain\": {\"x\": [0.0, 1.0], \"y\": [0.6537190082644628, 0.7198347107438017]}, \"labels\": [\"Normal pregnancy\", \"Child attention deficit disorder\", \"Hyperlipidemia\", \"Viral sinusitis (disorder)\", \"Acute viral pharyngitis (disorder)\", \"Acute bronchitis (disorder)\", \"Chronic pain\", \"Otitis media\", \"Impacted molars\", \"Acute bacterial sinusitis (disorder)\", \"Drug overdose\", \"Chronic congestive heart failure (disorder)\", \"Anemia (disorder)\", \"Concussion with no loss of consciousness\", \"Fetus with unknown complication\", \"Streptococcal sore throat (disorder)\", \"Atopic dermatitis\", \"Childhood asthma\"], \"textinfo\": \"none\", \"title\": {\"text\": \"2013\"}, \"type\": \"pie\", \"values\": [26, 9, 8, 5, 4, 3, 3, 2, 2, 2, 2, 2, 1, 1, 1, 1, 1, 1]}, {\"domain\": {\"x\": [0.0, 1.0], \"y\": [0.5603305785123966, 0.6264462809917355]}, \"labels\": [\"Normal pregnancy\", \"Child attention deficit disorder\", \"Hyperlipidemia\", \"Viral sinusitis (disorder)\", \"Acute bronchitis (disorder)\", \"Streptococcal sore throat (disorder)\", \"Acute viral pharyngitis (disorder)\", \"Impacted molars\", \"Drug overdose\", \"Childhood asthma\", \"Sinusitis (disorder)\", \"Alzheimer's disease (disorder)\", \"Otitis media\", \"Acute bacterial sinusitis (disorder)\", \"Chronic pain\", \"Fracture subluxation of wrist\"], \"textinfo\": \"none\", \"title\": {\"text\": \"2014\"}, \"type\": \"pie\", \"values\": [45, 12, 8, 4, 3, 3, 2, 2, 2, 2, 1, 1, 1, 1, 1, 1]}, {\"domain\": {\"x\": [0.0, 1.0], \"y\": [0.4669421487603306, 0.5330578512396694]}, \"labels\": [\"Normal pregnancy\", \"Child attention deficit disorder\", \"Hyperlipidemia\", \"Viral sinusitis (disorder)\", \"Acute bronchitis (disorder)\", \"Otitis media\", \"Chronic intractable migraine without aura\", \"Osteoarthritis of knee\", \"Drug overdose\", \"Chronic congestive heart failure (disorder)\", \"Anemia (disorder)\", \"Sinusitis (disorder)\", \"Asthma\", \"Acute bacterial sinusitis (disorder)\", \"Impacted molars\", \"Chronic pain\"], \"textinfo\": \"none\", \"title\": {\"text\": \"2015\"}, \"type\": \"pie\", \"values\": [14, 12, 9, 6, 5, 2, 2, 2, 2, 2, 1, 1, 1, 1, 1, 1]}, {\"domain\": {\"x\": [0.0, 1.0], \"y\": [0.37355371900826445, 0.4396694214876033]}, \"labels\": [\"Normal pregnancy\", \"Child attention deficit disorder\", \"Hyperlipidemia\", \"Acute bronchitis (disorder)\", \"Viral sinusitis (disorder)\", \"Chronic pain\", \"Chronic congestive heart failure (disorder)\", \"Fracture of forearm\", \"Acute viral pharyngitis (disorder)\", \"Injury of medial collateral ligament of knee\", \"Otitis media\", \"Acute bacterial sinusitis (disorder)\", \"Anemia (disorder)\", \"Drug overdose\", \"Streptococcal sore throat (disorder)\", \"Blighted ovum\"], \"textinfo\": \"none\", \"title\": {\"text\": \"2016\"}, \"type\": \"pie\", \"values\": [21, 11, 9, 3, 3, 2, 2, 1, 1, 1, 1, 1, 1, 1, 1, 1]}, {\"domain\": {\"x\": [0.0, 1.0], \"y\": [0.2801652892561983, 0.34628099173553717]}, \"labels\": [\"Normal pregnancy\", \"Child attention deficit disorder\", \"Hyperlipidemia\", \"Viral sinusitis (disorder)\", \"Acute viral pharyngitis (disorder)\", \"Acute bronchitis (disorder)\", \"Suspected lung cancer (situation)\", \"Drug overdose\", \"Non-small cell lung cancer (disorder)\", \"Alzheimer's disease (disorder)\", \"Cystitis\", \"Non-small cell carcinoma of lung  TNM stage 1 (disorder)\", \"Perennial allergic rhinitis with seasonal variation\", \"Childhood asthma\"], \"textinfo\": \"none\", \"title\": {\"text\": \"2017\"}, \"type\": \"pie\", \"values\": [29, 12, 10, 9, 7, 3, 2, 2, 1, 1, 1, 1, 1, 1]}, {\"domain\": {\"x\": [0.0, 1.0], \"y\": [0.18677685950413223, 0.2528925619834711]}, \"labels\": [\"Child attention deficit disorder\", \"Hyperlipidemia\", \"Viral sinusitis (disorder)\", \"Acute bacterial sinusitis (disorder)\", \"Normal pregnancy\", \"Acute bronchitis (disorder)\", \"Acute viral pharyngitis (disorder)\", \"Otitis media\", \"Injury of tendon of the rotator cuff of shoulder\", \"Childhood asthma\", \"Cystitis\", \"Pneumonia\", \"Drug overdose\", \"Streptococcal sore throat (disorder)\", \"Fracture of clavicle\", \"Atopic dermatitis\"], \"textinfo\": \"none\", \"title\": {\"text\": \"2018\"}, \"type\": \"pie\", \"values\": [12, 11, 7, 6, 3, 3, 2, 2, 2, 2, 1, 1, 1, 1, 1, 1]}, {\"domain\": {\"x\": [0.0, 1.0], \"y\": [0.09338842975206611, 0.15950413223140497]}, \"labels\": [\"Hyperlipidemia\", \"Viral sinusitis (disorder)\", \"Otitis media\", \"Normal pregnancy\", \"Child attention deficit disorder\", \"Appendicitis\", \"Acute viral pharyngitis (disorder)\", \"Fracture of rib\", \"Childhood asthma\", \"Streptococcal sore throat (disorder)\", \"Escherichia coli urinary tract infection\", \"Drug overdose\", \"Asthma\", \"Injury of tendon of the rotator cuff of shoulder\", \"Acute bronchitis (disorder)\", \"Cystitis\", \"Concussion with no loss of consciousness\"], \"textinfo\": \"none\", \"title\": {\"text\": \"2019\"}, \"type\": \"pie\", \"values\": [9, 7, 5, 3, 2, 2, 2, 1, 1, 1, 1, 1, 1, 1, 1, 1, 1]}, {\"domain\": {\"x\": [0.0, 1.0], \"y\": [0.0, 0.06611570247933884]}, \"labels\": [\"Sinusitis (disorder)\", \"Normal pregnancy\", \"Acute viral pharyngitis (disorder)\", \"Hyperlipidemia\", \"Perennial allergic rhinitis with seasonal variation\", \"Childhood asthma\", \"Perennial allergic rhinitis\", \"Fracture subluxation of wrist\", \"Acute bronchitis (disorder)\"], \"textinfo\": \"none\", \"title\": {\"text\": \"2020\"}, \"type\": \"pie\", \"values\": [5, 4, 3, 2, 2, 2, 1, 1, 1]}],\n",
       "                        {\"height\": 4000, \"template\": {\"data\": {\"bar\": [{\"error_x\": {\"color\": \"#2a3f5f\"}, \"error_y\": {\"color\": \"#2a3f5f\"}, \"marker\": {\"line\": {\"color\": \"#E5ECF6\", \"width\": 0.5}}, \"type\": \"bar\"}], \"barpolar\": [{\"marker\": {\"line\": {\"color\": \"#E5ECF6\", \"width\": 0.5}}, \"type\": \"barpolar\"}], \"carpet\": [{\"aaxis\": {\"endlinecolor\": \"#2a3f5f\", \"gridcolor\": \"white\", \"linecolor\": \"white\", \"minorgridcolor\": \"white\", \"startlinecolor\": \"#2a3f5f\"}, \"baxis\": {\"endlinecolor\": \"#2a3f5f\", \"gridcolor\": \"white\", \"linecolor\": \"white\", \"minorgridcolor\": \"white\", \"startlinecolor\": \"#2a3f5f\"}, \"type\": \"carpet\"}], \"choropleth\": [{\"colorbar\": {\"outlinewidth\": 0, \"ticks\": \"\"}, \"type\": \"choropleth\"}], \"contour\": [{\"colorbar\": {\"outlinewidth\": 0, \"ticks\": \"\"}, \"colorscale\": [[0.0, \"#0d0887\"], [0.1111111111111111, \"#46039f\"], [0.2222222222222222, \"#7201a8\"], [0.3333333333333333, \"#9c179e\"], [0.4444444444444444, \"#bd3786\"], [0.5555555555555556, \"#d8576b\"], [0.6666666666666666, \"#ed7953\"], [0.7777777777777778, \"#fb9f3a\"], [0.8888888888888888, \"#fdca26\"], [1.0, \"#f0f921\"]], \"type\": \"contour\"}], \"contourcarpet\": [{\"colorbar\": {\"outlinewidth\": 0, \"ticks\": \"\"}, \"type\": \"contourcarpet\"}], \"heatmap\": [{\"colorbar\": {\"outlinewidth\": 0, \"ticks\": \"\"}, \"colorscale\": [[0.0, \"#0d0887\"], [0.1111111111111111, \"#46039f\"], [0.2222222222222222, \"#7201a8\"], [0.3333333333333333, \"#9c179e\"], [0.4444444444444444, \"#bd3786\"], [0.5555555555555556, \"#d8576b\"], [0.6666666666666666, \"#ed7953\"], [0.7777777777777778, \"#fb9f3a\"], [0.8888888888888888, \"#fdca26\"], [1.0, \"#f0f921\"]], \"type\": \"heatmap\"}], \"heatmapgl\": [{\"colorbar\": {\"outlinewidth\": 0, \"ticks\": \"\"}, \"colorscale\": [[0.0, \"#0d0887\"], [0.1111111111111111, \"#46039f\"], [0.2222222222222222, \"#7201a8\"], [0.3333333333333333, \"#9c179e\"], [0.4444444444444444, \"#bd3786\"], [0.5555555555555556, \"#d8576b\"], [0.6666666666666666, \"#ed7953\"], [0.7777777777777778, \"#fb9f3a\"], [0.8888888888888888, \"#fdca26\"], [1.0, \"#f0f921\"]], \"type\": \"heatmapgl\"}], \"histogram\": [{\"marker\": {\"colorbar\": {\"outlinewidth\": 0, \"ticks\": \"\"}}, \"type\": \"histogram\"}], \"histogram2d\": [{\"colorbar\": {\"outlinewidth\": 0, \"ticks\": \"\"}, \"colorscale\": [[0.0, \"#0d0887\"], [0.1111111111111111, \"#46039f\"], [0.2222222222222222, \"#7201a8\"], [0.3333333333333333, \"#9c179e\"], [0.4444444444444444, \"#bd3786\"], [0.5555555555555556, \"#d8576b\"], [0.6666666666666666, \"#ed7953\"], [0.7777777777777778, \"#fb9f3a\"], [0.8888888888888888, \"#fdca26\"], [1.0, \"#f0f921\"]], \"type\": \"histogram2d\"}], \"histogram2dcontour\": [{\"colorbar\": {\"outlinewidth\": 0, \"ticks\": \"\"}, \"colorscale\": [[0.0, \"#0d0887\"], [0.1111111111111111, \"#46039f\"], [0.2222222222222222, \"#7201a8\"], [0.3333333333333333, \"#9c179e\"], [0.4444444444444444, \"#bd3786\"], [0.5555555555555556, \"#d8576b\"], [0.6666666666666666, \"#ed7953\"], [0.7777777777777778, \"#fb9f3a\"], [0.8888888888888888, \"#fdca26\"], [1.0, \"#f0f921\"]], \"type\": \"histogram2dcontour\"}], \"mesh3d\": [{\"colorbar\": {\"outlinewidth\": 0, \"ticks\": \"\"}, \"type\": \"mesh3d\"}], \"parcoords\": [{\"line\": {\"colorbar\": {\"outlinewidth\": 0, \"ticks\": \"\"}}, \"type\": \"parcoords\"}], \"pie\": [{\"automargin\": true, \"type\": \"pie\"}], \"scatter\": [{\"marker\": {\"colorbar\": {\"outlinewidth\": 0, \"ticks\": \"\"}}, \"type\": \"scatter\"}], \"scatter3d\": [{\"line\": {\"colorbar\": {\"outlinewidth\": 0, \"ticks\": \"\"}}, \"marker\": {\"colorbar\": {\"outlinewidth\": 0, \"ticks\": \"\"}}, \"type\": \"scatter3d\"}], \"scattercarpet\": [{\"marker\": {\"colorbar\": {\"outlinewidth\": 0, \"ticks\": \"\"}}, \"type\": \"scattercarpet\"}], \"scattergeo\": [{\"marker\": {\"colorbar\": {\"outlinewidth\": 0, \"ticks\": \"\"}}, \"type\": \"scattergeo\"}], \"scattergl\": [{\"marker\": {\"colorbar\": {\"outlinewidth\": 0, \"ticks\": \"\"}}, \"type\": \"scattergl\"}], \"scattermapbox\": [{\"marker\": {\"colorbar\": {\"outlinewidth\": 0, \"ticks\": \"\"}}, \"type\": \"scattermapbox\"}], \"scatterpolar\": [{\"marker\": {\"colorbar\": {\"outlinewidth\": 0, \"ticks\": \"\"}}, \"type\": \"scatterpolar\"}], \"scatterpolargl\": [{\"marker\": {\"colorbar\": {\"outlinewidth\": 0, \"ticks\": \"\"}}, \"type\": \"scatterpolargl\"}], \"scatterternary\": [{\"marker\": {\"colorbar\": {\"outlinewidth\": 0, \"ticks\": \"\"}}, \"type\": \"scatterternary\"}], \"surface\": [{\"colorbar\": {\"outlinewidth\": 0, \"ticks\": \"\"}, \"colorscale\": [[0.0, \"#0d0887\"], [0.1111111111111111, \"#46039f\"], [0.2222222222222222, \"#7201a8\"], [0.3333333333333333, \"#9c179e\"], [0.4444444444444444, \"#bd3786\"], [0.5555555555555556, \"#d8576b\"], [0.6666666666666666, \"#ed7953\"], [0.7777777777777778, \"#fb9f3a\"], [0.8888888888888888, \"#fdca26\"], [1.0, \"#f0f921\"]], \"type\": \"surface\"}], \"table\": [{\"cells\": {\"fill\": {\"color\": \"#EBF0F8\"}, \"line\": {\"color\": \"white\"}}, \"header\": {\"fill\": {\"color\": \"#C8D4E3\"}, \"line\": {\"color\": \"white\"}}, \"type\": \"table\"}]}, \"layout\": {\"annotationdefaults\": {\"arrowcolor\": \"#2a3f5f\", \"arrowhead\": 0, \"arrowwidth\": 1}, \"coloraxis\": {\"colorbar\": {\"outlinewidth\": 0, \"ticks\": \"\"}}, \"colorscale\": {\"diverging\": [[0, \"#8e0152\"], [0.1, \"#c51b7d\"], [0.2, \"#de77ae\"], [0.3, \"#f1b6da\"], [0.4, \"#fde0ef\"], [0.5, \"#f7f7f7\"], [0.6, \"#e6f5d0\"], [0.7, \"#b8e186\"], [0.8, \"#7fbc41\"], [0.9, \"#4d9221\"], [1, \"#276419\"]], \"sequential\": [[0.0, \"#0d0887\"], [0.1111111111111111, \"#46039f\"], [0.2222222222222222, \"#7201a8\"], [0.3333333333333333, \"#9c179e\"], [0.4444444444444444, \"#bd3786\"], [0.5555555555555556, \"#d8576b\"], [0.6666666666666666, \"#ed7953\"], [0.7777777777777778, \"#fb9f3a\"], [0.8888888888888888, \"#fdca26\"], [1.0, \"#f0f921\"]], \"sequentialminus\": [[0.0, \"#0d0887\"], [0.1111111111111111, \"#46039f\"], [0.2222222222222222, \"#7201a8\"], [0.3333333333333333, \"#9c179e\"], [0.4444444444444444, \"#bd3786\"], [0.5555555555555556, \"#d8576b\"], [0.6666666666666666, \"#ed7953\"], [0.7777777777777778, \"#fb9f3a\"], [0.8888888888888888, \"#fdca26\"], [1.0, \"#f0f921\"]]}, \"colorway\": [\"#636efa\", \"#EF553B\", \"#00cc96\", \"#ab63fa\", \"#FFA15A\", \"#19d3f3\", \"#FF6692\", \"#B6E880\", \"#FF97FF\", \"#FECB52\"], \"font\": {\"color\": \"#2a3f5f\"}, \"geo\": {\"bgcolor\": \"white\", \"lakecolor\": \"white\", \"landcolor\": \"#E5ECF6\", \"showlakes\": true, \"showland\": true, \"subunitcolor\": \"white\"}, \"hoverlabel\": {\"align\": \"left\"}, \"hovermode\": \"closest\", \"mapbox\": {\"style\": \"light\"}, \"paper_bgcolor\": \"white\", \"plot_bgcolor\": \"#E5ECF6\", \"polar\": {\"angularaxis\": {\"gridcolor\": \"white\", \"linecolor\": \"white\", \"ticks\": \"\"}, \"bgcolor\": \"#E5ECF6\", \"radialaxis\": {\"gridcolor\": \"white\", \"linecolor\": \"white\", \"ticks\": \"\"}}, \"scene\": {\"xaxis\": {\"backgroundcolor\": \"#E5ECF6\", \"gridcolor\": \"white\", \"gridwidth\": 2, \"linecolor\": \"white\", \"showbackground\": true, \"ticks\": \"\", \"zerolinecolor\": \"white\"}, \"yaxis\": {\"backgroundcolor\": \"#E5ECF6\", \"gridcolor\": \"white\", \"gridwidth\": 2, \"linecolor\": \"white\", \"showbackground\": true, \"ticks\": \"\", \"zerolinecolor\": \"white\"}, \"zaxis\": {\"backgroundcolor\": \"#E5ECF6\", \"gridcolor\": \"white\", \"gridwidth\": 2, \"linecolor\": \"white\", \"showbackground\": true, \"ticks\": \"\", \"zerolinecolor\": \"white\"}}, \"shapedefaults\": {\"line\": {\"color\": \"#2a3f5f\"}}, \"ternary\": {\"aaxis\": {\"gridcolor\": \"white\", \"linecolor\": \"white\", \"ticks\": \"\"}, \"baxis\": {\"gridcolor\": \"white\", \"linecolor\": \"white\", \"ticks\": \"\"}, \"bgcolor\": \"#E5ECF6\", \"caxis\": {\"gridcolor\": \"white\", \"linecolor\": \"white\", \"ticks\": \"\"}}, \"title\": {\"x\": 0.05}, \"xaxis\": {\"automargin\": true, \"gridcolor\": \"white\", \"linecolor\": \"white\", \"ticks\": \"\", \"title\": {\"standoff\": 15}, \"zerolinecolor\": \"white\", \"zerolinewidth\": 2}, \"yaxis\": {\"automargin\": true, \"gridcolor\": \"white\", \"linecolor\": \"white\", \"ticks\": \"\", \"title\": {\"standoff\": 15}, \"zerolinecolor\": \"white\", \"zerolinewidth\": 2}}}, \"width\": 1000},\n",
       "                        {\"responsive\": true}\n",
       "                    ).then(function(){\n",
       "                            \n",
       "var gd = document.getElementById('35dadda4-e5f3-4adc-b0c7-9ce7008de8b0');\n",
       "var x = new MutationObserver(function (mutations, observer) {{\n",
       "        var display = window.getComputedStyle(gd).display;\n",
       "        if (!display || display === 'none') {{\n",
       "            console.log([gd, 'removed!']);\n",
       "            Plotly.purge(gd);\n",
       "            observer.disconnect();\n",
       "        }}\n",
       "}});\n",
       "\n",
       "// Listen for the removal of the full notebook cells\n",
       "var notebookContainer = gd.closest('#notebook-container');\n",
       "if (notebookContainer) {{\n",
       "    x.observe(notebookContainer, {childList: true});\n",
       "}}\n",
       "\n",
       "// Listen for the clearing of the current output cell\n",
       "var outputEl = gd.closest('.output');\n",
       "if (outputEl) {{\n",
       "    x.observe(outputEl, {childList: true});\n",
       "}}\n",
       "\n",
       "                        })\n",
       "                };\n",
       "                });\n",
       "            </script>\n",
       "        </div>"
      ]
     },
     "metadata": {},
     "output_type": "display_data"
    }
   ],
   "source": [
    "row=1\n",
    "# first group by year and then for each group we're going to take the value counts for the reason\n",
    "for year,group in df.groupby([\"YEAR\"]):\n",
    "    counts=group[\"REASON\"].value_counts()\n",
    "    fig.append_trace(go.Pie(title=year,labels=counts.index,values=counts.values,textinfo=\"none\"),row=row,col=1)\n",
    "    row+=1\n",
    "fig.update_layout(height=4000, width=1000)\n",
    "fig.show()"
   ]
  },
  {
   "cell_type": "markdown",
   "metadata": {},
   "source": [
    "#### Now can we apply the same to find out the age distribution of the patients in every year?"
   ]
  },
  {
   "cell_type": "code",
   "execution_count": null,
   "metadata": {},
   "outputs": [],
   "source": []
  },
  {
   "cell_type": "code",
   "execution_count": 154,
   "metadata": {},
   "outputs": [
    {
     "data": {
      "application/vnd.plotly.v1+json": {
       "config": {
        "plotlyServerURL": "https://plot.ly"
       },
       "data": [
        {
         "name": "2010",
         "type": "histogram",
         "x": [
          37,
          64,
          64,
          16,
          13,
          13,
          93,
          93,
          93,
          93,
          93,
          93,
          93,
          93,
          93,
          93,
          93,
          93,
          21,
          21,
          31,
          31,
          31,
          52,
          70,
          31,
          49,
          49,
          47,
          47,
          70,
          11,
          11,
          11,
          45,
          36,
          66,
          66,
          66,
          66,
          33,
          33,
          33,
          33,
          33,
          51,
          51,
          51,
          74,
          72,
          55,
          43,
          43,
          43,
          54,
          12,
          12,
          12,
          12,
          15,
          54,
          54,
          12
         ],
         "xaxis": "x",
         "yaxis": "y"
        },
        {
         "name": "2011",
         "type": "histogram",
         "x": [
          37,
          37,
          37,
          37,
          37,
          37,
          37,
          37,
          37,
          33,
          33,
          14,
          64,
          13,
          13,
          73,
          93,
          93,
          93,
          93,
          93,
          44,
          31,
          31,
          31,
          31,
          31,
          70,
          31,
          49,
          49,
          49,
          39,
          39,
          39,
          39,
          39,
          70,
          70,
          70,
          70,
          70,
          70,
          70,
          70,
          70,
          70,
          70,
          70,
          70,
          70,
          70,
          70,
          70,
          70,
          70,
          70,
          70,
          70,
          70,
          70,
          70,
          70,
          70,
          70,
          70,
          70,
          70,
          70,
          70,
          70,
          70,
          70,
          70,
          70,
          70,
          70,
          70,
          70,
          70,
          70,
          70,
          70,
          70,
          70,
          70,
          70,
          70,
          70,
          70,
          70,
          70,
          70,
          70,
          46,
          46,
          46,
          46,
          46,
          46,
          46,
          45,
          45,
          45,
          64,
          36,
          36,
          36,
          36,
          66,
          66,
          66,
          66,
          66,
          66,
          33,
          33,
          33,
          33,
          33,
          33,
          33,
          33,
          51,
          51,
          51,
          51,
          51,
          51,
          46,
          46,
          46,
          46,
          46,
          46,
          46,
          46,
          46,
          74,
          74,
          72,
          55,
          55,
          55,
          55,
          55,
          47,
          58,
          12,
          12,
          12,
          12,
          15,
          47,
          54,
          12,
          12
         ],
         "xaxis": "x2",
         "yaxis": "y2"
        },
        {
         "name": "2012",
         "type": "histogram",
         "x": [
          37,
          37,
          37,
          37,
          33,
          33,
          23,
          23,
          23,
          23,
          64,
          34,
          16,
          16,
          73,
          73,
          93,
          93,
          93,
          93,
          93,
          93,
          93,
          93,
          93,
          93,
          93,
          31,
          31,
          31,
          31,
          31,
          70,
          31,
          31,
          49,
          39,
          39,
          39,
          39,
          39,
          39,
          39,
          39,
          39,
          39,
          39,
          39,
          39,
          39,
          39,
          39,
          39,
          39,
          39,
          25,
          47,
          70,
          70,
          70,
          70,
          70,
          70,
          70,
          70,
          70,
          70,
          70,
          70,
          70,
          70,
          70,
          70,
          70,
          70,
          70,
          70,
          70,
          70,
          70,
          70,
          70,
          70,
          70,
          70,
          70,
          70,
          70,
          70,
          70,
          70,
          70,
          70,
          70,
          70,
          70,
          70,
          70,
          70,
          70,
          70,
          70,
          70,
          70,
          70,
          70,
          70,
          70,
          70,
          70,
          70,
          70,
          70,
          70,
          70,
          70,
          70,
          70,
          70,
          70,
          70,
          70,
          70,
          70,
          70,
          70,
          70,
          17,
          17,
          17,
          46,
          46,
          46,
          46,
          36,
          36,
          36,
          36,
          36,
          36,
          36,
          36,
          36,
          36,
          36,
          66,
          66,
          66,
          66,
          66,
          48,
          66,
          66,
          66,
          33,
          33,
          33,
          33,
          33,
          51,
          51,
          51,
          51,
          51,
          46,
          46,
          46,
          46,
          74,
          72,
          72,
          55,
          55,
          47,
          47,
          58,
          12,
          12,
          12,
          12
         ],
         "xaxis": "x3",
         "yaxis": "y3"
        },
        {
         "name": "2013",
         "type": "histogram",
         "x": [
          37,
          50,
          7,
          23,
          23,
          23,
          23,
          23,
          23,
          64,
          16,
          13,
          26,
          93,
          93,
          93,
          93,
          93,
          93,
          93,
          93,
          93,
          93,
          93,
          93,
          21,
          31,
          31,
          31,
          31,
          31,
          31,
          31,
          31,
          31,
          31,
          31,
          49,
          49,
          49,
          49,
          49,
          49,
          49,
          49,
          49,
          49,
          49,
          49,
          39,
          39,
          25,
          25,
          25,
          33,
          70,
          70,
          70,
          70,
          46,
          46,
          46,
          46,
          46,
          46,
          36,
          66,
          66,
          66,
          66,
          66,
          66,
          66,
          33,
          33,
          33,
          33,
          33,
          33,
          33,
          33,
          33,
          33,
          33,
          51,
          51,
          51,
          51,
          51,
          51,
          8,
          8,
          74,
          72,
          72,
          72,
          55,
          47,
          47,
          47,
          47,
          47,
          47,
          47,
          47,
          47,
          47,
          47,
          47,
          54,
          58,
          12,
          15,
          15,
          15,
          15,
          15,
          15,
          15,
          15,
          15,
          12,
          12,
          12,
          12
         ],
         "xaxis": "x4",
         "yaxis": "y4"
        },
        {
         "name": "2014",
         "type": "histogram",
         "x": [
          37,
          37,
          37,
          37,
          37,
          37,
          37,
          37,
          37,
          37,
          37,
          37,
          37,
          37,
          37,
          37,
          61,
          7,
          7,
          7,
          23,
          23,
          23,
          64,
          16,
          16,
          16,
          26,
          93,
          93,
          93,
          93,
          93,
          93,
          93,
          93,
          93,
          28,
          44,
          44,
          31,
          31,
          31,
          31,
          31,
          31,
          31,
          31,
          31,
          31,
          31,
          31,
          52,
          31,
          31,
          31,
          31,
          31,
          31,
          31,
          31,
          49,
          49,
          49,
          39,
          39,
          39,
          39,
          39,
          39,
          39,
          39,
          39,
          39,
          39,
          39,
          33,
          46,
          64,
          36,
          36,
          36,
          36,
          36,
          36,
          36,
          36,
          36,
          36,
          36,
          66,
          66,
          66,
          66,
          66,
          66,
          66,
          66,
          33,
          33,
          33,
          33,
          33,
          33,
          33,
          51,
          51,
          46,
          8,
          8,
          74,
          72,
          72,
          55,
          55,
          55,
          47,
          43,
          43,
          54,
          12,
          12,
          15,
          15,
          15,
          15,
          15,
          15,
          15,
          15,
          15,
          15,
          15,
          15,
          54,
          22
         ],
         "xaxis": "x5",
         "yaxis": "y5"
        },
        {
         "name": "2015",
         "type": "histogram",
         "x": [
          37,
          37,
          50,
          50,
          50,
          23,
          23,
          23,
          23,
          14,
          64,
          64,
          13,
          73,
          73,
          93,
          93,
          93,
          93,
          93,
          93,
          44,
          31,
          31,
          52,
          49,
          49,
          39,
          39,
          39,
          39,
          39,
          39,
          39,
          39,
          47,
          47,
          47,
          47,
          70,
          70,
          17,
          17,
          11,
          45,
          45,
          64,
          36,
          36,
          36,
          36,
          36,
          36,
          36,
          36,
          36,
          36,
          66,
          66,
          66,
          66,
          33,
          33,
          33,
          33,
          33,
          33,
          33,
          33,
          33,
          33,
          33,
          33,
          51,
          46,
          46,
          8,
          8,
          74,
          72,
          72,
          55,
          55,
          55,
          47,
          47,
          47,
          47,
          47,
          12,
          15,
          15,
          15,
          15,
          15,
          15,
          15,
          15,
          15,
          15,
          15,
          15,
          15,
          35
         ],
         "xaxis": "x6",
         "yaxis": "y6"
        },
        {
         "name": "2016",
         "type": "histogram",
         "x": [
          37,
          37,
          37,
          37,
          50,
          23,
          23,
          23,
          23,
          23,
          23,
          64,
          13,
          73,
          73,
          93,
          93,
          93,
          93,
          93,
          21,
          44,
          31,
          31,
          31,
          31,
          31,
          31,
          31,
          31,
          31,
          52,
          70,
          70,
          70,
          49,
          39,
          39,
          39,
          39,
          39,
          39,
          39,
          47,
          47,
          17,
          17,
          46,
          46,
          46,
          46,
          46,
          46,
          46,
          46,
          46,
          45,
          64,
          36,
          66,
          66,
          66,
          66,
          66,
          66,
          66,
          33,
          33,
          33,
          33,
          33,
          33,
          33,
          33,
          46,
          46,
          46,
          46,
          46,
          46,
          46,
          46,
          46,
          46,
          46,
          46,
          74,
          74,
          74,
          74,
          72,
          55,
          47,
          47,
          47,
          47,
          47,
          54,
          54,
          54,
          54,
          54,
          15,
          15,
          15,
          15,
          15,
          15,
          15,
          15,
          15,
          15,
          15,
          54
         ],
         "xaxis": "x7",
         "yaxis": "y7"
        },
        {
         "name": "2017",
         "type": "histogram",
         "x": [
          37,
          37,
          37,
          37,
          37,
          37,
          37,
          37,
          37,
          37,
          37,
          50,
          33,
          7,
          7,
          23,
          23,
          23,
          23,
          23,
          23,
          23,
          14,
          64,
          64,
          34,
          16,
          16,
          16,
          16,
          16,
          16,
          16,
          16,
          16,
          16,
          16,
          16,
          16,
          16,
          16,
          16,
          16,
          16,
          93,
          93,
          93,
          93,
          93,
          93,
          93,
          93,
          93,
          31,
          70,
          31,
          39,
          39,
          39,
          39,
          39,
          39,
          39,
          39,
          39,
          39,
          39,
          39,
          39,
          39,
          39,
          39,
          25,
          47,
          47,
          47,
          47,
          47,
          47,
          47,
          47,
          47,
          47,
          47,
          47,
          47,
          47,
          47,
          70,
          70,
          46,
          46,
          46,
          46,
          11,
          11,
          11,
          11,
          36,
          66,
          66,
          66,
          66,
          66,
          66,
          33,
          33,
          33,
          33,
          33,
          46,
          46,
          8,
          74,
          72,
          55,
          55,
          55,
          55,
          55,
          55,
          55,
          55,
          55,
          55,
          55,
          47,
          47,
          47,
          47,
          47,
          54,
          58,
          12,
          12,
          15,
          15,
          15,
          15,
          15,
          15,
          15,
          15,
          15,
          15,
          15,
          15,
          15,
          47,
          47,
          47,
          47,
          35
         ],
         "xaxis": "x8",
         "yaxis": "y8"
        },
        {
         "name": "2018",
         "type": "histogram",
         "x": [
          37,
          37,
          37,
          37,
          3,
          3,
          50,
          14,
          14,
          64,
          34,
          34,
          34,
          16,
          16,
          16,
          16,
          16,
          16,
          16,
          16,
          16,
          16,
          16,
          16,
          16,
          16,
          16,
          16,
          16,
          16,
          93,
          93,
          93,
          31,
          3,
          3,
          3,
          52,
          52,
          52,
          52,
          52,
          52,
          52,
          52,
          31,
          31,
          31,
          39,
          39,
          39,
          39,
          39,
          39,
          39,
          39,
          39,
          25,
          47,
          47,
          47,
          47,
          33,
          17,
          17,
          46,
          46,
          64,
          36,
          36,
          66,
          66,
          66,
          66,
          66,
          66,
          66,
          33,
          4,
          4,
          46,
          46,
          8,
          8,
          74,
          72,
          55,
          55,
          55,
          55,
          55,
          55,
          55,
          55,
          55,
          55,
          55,
          55,
          55,
          47,
          47,
          47,
          47,
          47,
          47,
          47,
          58,
          58,
          12,
          12,
          15,
          15,
          15,
          15,
          15,
          15,
          15,
          15,
          15,
          15,
          15,
          15,
          35,
          22,
          12
         ],
         "xaxis": "x9",
         "yaxis": "y9"
        },
        {
         "name": "2019",
         "type": "histogram",
         "x": [
          37,
          37,
          37,
          37,
          37,
          3,
          50,
          50,
          61,
          7,
          7,
          64,
          16,
          16,
          16,
          16,
          16,
          16,
          16,
          16,
          16,
          16,
          16,
          16,
          16,
          16,
          16,
          16,
          16,
          26,
          93,
          93,
          93,
          3,
          3,
          52,
          70,
          31,
          49,
          49,
          49,
          39,
          39,
          39,
          39,
          39,
          39,
          39,
          39,
          39,
          39,
          47,
          47,
          47,
          47,
          47,
          47,
          2,
          3,
          3,
          3,
          33,
          33,
          70,
          70,
          17,
          46,
          46,
          11,
          11,
          11,
          11,
          36,
          36,
          36,
          66,
          66,
          66,
          33,
          33,
          33,
          33,
          33,
          51,
          4,
          4,
          46,
          8,
          74,
          72,
          72,
          72,
          55,
          55,
          55,
          55,
          55,
          55,
          55,
          55,
          55,
          55,
          55,
          55,
          55,
          47,
          47,
          47,
          47,
          47,
          47,
          47,
          47,
          58,
          58,
          12,
          15,
          15,
          54
         ],
         "xaxis": "x10",
         "yaxis": "y10"
        },
        {
         "name": "2020",
         "type": "histogram",
         "x": [
          37,
          3,
          3,
          7,
          14,
          16,
          16,
          16,
          16,
          16,
          16,
          16,
          93,
          3,
          52,
          39,
          39,
          39,
          47,
          47,
          47,
          47,
          47,
          47,
          47,
          3,
          3,
          3,
          70,
          17,
          46,
          46,
          46,
          36,
          36,
          36,
          36,
          33,
          33,
          51,
          46,
          8,
          8,
          55,
          55,
          55,
          47
         ],
         "xaxis": "x11",
         "yaxis": "y11"
        }
       ],
       "layout": {
        "height": 2000,
        "template": {
         "data": {
          "bar": [
           {
            "error_x": {
             "color": "#2a3f5f"
            },
            "error_y": {
             "color": "#2a3f5f"
            },
            "marker": {
             "line": {
              "color": "#E5ECF6",
              "width": 0.5
             }
            },
            "type": "bar"
           }
          ],
          "barpolar": [
           {
            "marker": {
             "line": {
              "color": "#E5ECF6",
              "width": 0.5
             }
            },
            "type": "barpolar"
           }
          ],
          "carpet": [
           {
            "aaxis": {
             "endlinecolor": "#2a3f5f",
             "gridcolor": "white",
             "linecolor": "white",
             "minorgridcolor": "white",
             "startlinecolor": "#2a3f5f"
            },
            "baxis": {
             "endlinecolor": "#2a3f5f",
             "gridcolor": "white",
             "linecolor": "white",
             "minorgridcolor": "white",
             "startlinecolor": "#2a3f5f"
            },
            "type": "carpet"
           }
          ],
          "choropleth": [
           {
            "colorbar": {
             "outlinewidth": 0,
             "ticks": ""
            },
            "type": "choropleth"
           }
          ],
          "contour": [
           {
            "colorbar": {
             "outlinewidth": 0,
             "ticks": ""
            },
            "colorscale": [
             [
              0,
              "#0d0887"
             ],
             [
              0.1111111111111111,
              "#46039f"
             ],
             [
              0.2222222222222222,
              "#7201a8"
             ],
             [
              0.3333333333333333,
              "#9c179e"
             ],
             [
              0.4444444444444444,
              "#bd3786"
             ],
             [
              0.5555555555555556,
              "#d8576b"
             ],
             [
              0.6666666666666666,
              "#ed7953"
             ],
             [
              0.7777777777777778,
              "#fb9f3a"
             ],
             [
              0.8888888888888888,
              "#fdca26"
             ],
             [
              1,
              "#f0f921"
             ]
            ],
            "type": "contour"
           }
          ],
          "contourcarpet": [
           {
            "colorbar": {
             "outlinewidth": 0,
             "ticks": ""
            },
            "type": "contourcarpet"
           }
          ],
          "heatmap": [
           {
            "colorbar": {
             "outlinewidth": 0,
             "ticks": ""
            },
            "colorscale": [
             [
              0,
              "#0d0887"
             ],
             [
              0.1111111111111111,
              "#46039f"
             ],
             [
              0.2222222222222222,
              "#7201a8"
             ],
             [
              0.3333333333333333,
              "#9c179e"
             ],
             [
              0.4444444444444444,
              "#bd3786"
             ],
             [
              0.5555555555555556,
              "#d8576b"
             ],
             [
              0.6666666666666666,
              "#ed7953"
             ],
             [
              0.7777777777777778,
              "#fb9f3a"
             ],
             [
              0.8888888888888888,
              "#fdca26"
             ],
             [
              1,
              "#f0f921"
             ]
            ],
            "type": "heatmap"
           }
          ],
          "heatmapgl": [
           {
            "colorbar": {
             "outlinewidth": 0,
             "ticks": ""
            },
            "colorscale": [
             [
              0,
              "#0d0887"
             ],
             [
              0.1111111111111111,
              "#46039f"
             ],
             [
              0.2222222222222222,
              "#7201a8"
             ],
             [
              0.3333333333333333,
              "#9c179e"
             ],
             [
              0.4444444444444444,
              "#bd3786"
             ],
             [
              0.5555555555555556,
              "#d8576b"
             ],
             [
              0.6666666666666666,
              "#ed7953"
             ],
             [
              0.7777777777777778,
              "#fb9f3a"
             ],
             [
              0.8888888888888888,
              "#fdca26"
             ],
             [
              1,
              "#f0f921"
             ]
            ],
            "type": "heatmapgl"
           }
          ],
          "histogram": [
           {
            "marker": {
             "colorbar": {
              "outlinewidth": 0,
              "ticks": ""
             }
            },
            "type": "histogram"
           }
          ],
          "histogram2d": [
           {
            "colorbar": {
             "outlinewidth": 0,
             "ticks": ""
            },
            "colorscale": [
             [
              0,
              "#0d0887"
             ],
             [
              0.1111111111111111,
              "#46039f"
             ],
             [
              0.2222222222222222,
              "#7201a8"
             ],
             [
              0.3333333333333333,
              "#9c179e"
             ],
             [
              0.4444444444444444,
              "#bd3786"
             ],
             [
              0.5555555555555556,
              "#d8576b"
             ],
             [
              0.6666666666666666,
              "#ed7953"
             ],
             [
              0.7777777777777778,
              "#fb9f3a"
             ],
             [
              0.8888888888888888,
              "#fdca26"
             ],
             [
              1,
              "#f0f921"
             ]
            ],
            "type": "histogram2d"
           }
          ],
          "histogram2dcontour": [
           {
            "colorbar": {
             "outlinewidth": 0,
             "ticks": ""
            },
            "colorscale": [
             [
              0,
              "#0d0887"
             ],
             [
              0.1111111111111111,
              "#46039f"
             ],
             [
              0.2222222222222222,
              "#7201a8"
             ],
             [
              0.3333333333333333,
              "#9c179e"
             ],
             [
              0.4444444444444444,
              "#bd3786"
             ],
             [
              0.5555555555555556,
              "#d8576b"
             ],
             [
              0.6666666666666666,
              "#ed7953"
             ],
             [
              0.7777777777777778,
              "#fb9f3a"
             ],
             [
              0.8888888888888888,
              "#fdca26"
             ],
             [
              1,
              "#f0f921"
             ]
            ],
            "type": "histogram2dcontour"
           }
          ],
          "mesh3d": [
           {
            "colorbar": {
             "outlinewidth": 0,
             "ticks": ""
            },
            "type": "mesh3d"
           }
          ],
          "parcoords": [
           {
            "line": {
             "colorbar": {
              "outlinewidth": 0,
              "ticks": ""
             }
            },
            "type": "parcoords"
           }
          ],
          "pie": [
           {
            "automargin": true,
            "type": "pie"
           }
          ],
          "scatter": [
           {
            "marker": {
             "colorbar": {
              "outlinewidth": 0,
              "ticks": ""
             }
            },
            "type": "scatter"
           }
          ],
          "scatter3d": [
           {
            "line": {
             "colorbar": {
              "outlinewidth": 0,
              "ticks": ""
             }
            },
            "marker": {
             "colorbar": {
              "outlinewidth": 0,
              "ticks": ""
             }
            },
            "type": "scatter3d"
           }
          ],
          "scattercarpet": [
           {
            "marker": {
             "colorbar": {
              "outlinewidth": 0,
              "ticks": ""
             }
            },
            "type": "scattercarpet"
           }
          ],
          "scattergeo": [
           {
            "marker": {
             "colorbar": {
              "outlinewidth": 0,
              "ticks": ""
             }
            },
            "type": "scattergeo"
           }
          ],
          "scattergl": [
           {
            "marker": {
             "colorbar": {
              "outlinewidth": 0,
              "ticks": ""
             }
            },
            "type": "scattergl"
           }
          ],
          "scattermapbox": [
           {
            "marker": {
             "colorbar": {
              "outlinewidth": 0,
              "ticks": ""
             }
            },
            "type": "scattermapbox"
           }
          ],
          "scatterpolar": [
           {
            "marker": {
             "colorbar": {
              "outlinewidth": 0,
              "ticks": ""
             }
            },
            "type": "scatterpolar"
           }
          ],
          "scatterpolargl": [
           {
            "marker": {
             "colorbar": {
              "outlinewidth": 0,
              "ticks": ""
             }
            },
            "type": "scatterpolargl"
           }
          ],
          "scatterternary": [
           {
            "marker": {
             "colorbar": {
              "outlinewidth": 0,
              "ticks": ""
             }
            },
            "type": "scatterternary"
           }
          ],
          "surface": [
           {
            "colorbar": {
             "outlinewidth": 0,
             "ticks": ""
            },
            "colorscale": [
             [
              0,
              "#0d0887"
             ],
             [
              0.1111111111111111,
              "#46039f"
             ],
             [
              0.2222222222222222,
              "#7201a8"
             ],
             [
              0.3333333333333333,
              "#9c179e"
             ],
             [
              0.4444444444444444,
              "#bd3786"
             ],
             [
              0.5555555555555556,
              "#d8576b"
             ],
             [
              0.6666666666666666,
              "#ed7953"
             ],
             [
              0.7777777777777778,
              "#fb9f3a"
             ],
             [
              0.8888888888888888,
              "#fdca26"
             ],
             [
              1,
              "#f0f921"
             ]
            ],
            "type": "surface"
           }
          ],
          "table": [
           {
            "cells": {
             "fill": {
              "color": "#EBF0F8"
             },
             "line": {
              "color": "white"
             }
            },
            "header": {
             "fill": {
              "color": "#C8D4E3"
             },
             "line": {
              "color": "white"
             }
            },
            "type": "table"
           }
          ]
         },
         "layout": {
          "annotationdefaults": {
           "arrowcolor": "#2a3f5f",
           "arrowhead": 0,
           "arrowwidth": 1
          },
          "coloraxis": {
           "colorbar": {
            "outlinewidth": 0,
            "ticks": ""
           }
          },
          "colorscale": {
           "diverging": [
            [
             0,
             "#8e0152"
            ],
            [
             0.1,
             "#c51b7d"
            ],
            [
             0.2,
             "#de77ae"
            ],
            [
             0.3,
             "#f1b6da"
            ],
            [
             0.4,
             "#fde0ef"
            ],
            [
             0.5,
             "#f7f7f7"
            ],
            [
             0.6,
             "#e6f5d0"
            ],
            [
             0.7,
             "#b8e186"
            ],
            [
             0.8,
             "#7fbc41"
            ],
            [
             0.9,
             "#4d9221"
            ],
            [
             1,
             "#276419"
            ]
           ],
           "sequential": [
            [
             0,
             "#0d0887"
            ],
            [
             0.1111111111111111,
             "#46039f"
            ],
            [
             0.2222222222222222,
             "#7201a8"
            ],
            [
             0.3333333333333333,
             "#9c179e"
            ],
            [
             0.4444444444444444,
             "#bd3786"
            ],
            [
             0.5555555555555556,
             "#d8576b"
            ],
            [
             0.6666666666666666,
             "#ed7953"
            ],
            [
             0.7777777777777778,
             "#fb9f3a"
            ],
            [
             0.8888888888888888,
             "#fdca26"
            ],
            [
             1,
             "#f0f921"
            ]
           ],
           "sequentialminus": [
            [
             0,
             "#0d0887"
            ],
            [
             0.1111111111111111,
             "#46039f"
            ],
            [
             0.2222222222222222,
             "#7201a8"
            ],
            [
             0.3333333333333333,
             "#9c179e"
            ],
            [
             0.4444444444444444,
             "#bd3786"
            ],
            [
             0.5555555555555556,
             "#d8576b"
            ],
            [
             0.6666666666666666,
             "#ed7953"
            ],
            [
             0.7777777777777778,
             "#fb9f3a"
            ],
            [
             0.8888888888888888,
             "#fdca26"
            ],
            [
             1,
             "#f0f921"
            ]
           ]
          },
          "colorway": [
           "#636efa",
           "#EF553B",
           "#00cc96",
           "#ab63fa",
           "#FFA15A",
           "#19d3f3",
           "#FF6692",
           "#B6E880",
           "#FF97FF",
           "#FECB52"
          ],
          "font": {
           "color": "#2a3f5f"
          },
          "geo": {
           "bgcolor": "white",
           "lakecolor": "white",
           "landcolor": "#E5ECF6",
           "showlakes": true,
           "showland": true,
           "subunitcolor": "white"
          },
          "hoverlabel": {
           "align": "left"
          },
          "hovermode": "closest",
          "mapbox": {
           "style": "light"
          },
          "paper_bgcolor": "white",
          "plot_bgcolor": "#E5ECF6",
          "polar": {
           "angularaxis": {
            "gridcolor": "white",
            "linecolor": "white",
            "ticks": ""
           },
           "bgcolor": "#E5ECF6",
           "radialaxis": {
            "gridcolor": "white",
            "linecolor": "white",
            "ticks": ""
           }
          },
          "scene": {
           "xaxis": {
            "backgroundcolor": "#E5ECF6",
            "gridcolor": "white",
            "gridwidth": 2,
            "linecolor": "white",
            "showbackground": true,
            "ticks": "",
            "zerolinecolor": "white"
           },
           "yaxis": {
            "backgroundcolor": "#E5ECF6",
            "gridcolor": "white",
            "gridwidth": 2,
            "linecolor": "white",
            "showbackground": true,
            "ticks": "",
            "zerolinecolor": "white"
           },
           "zaxis": {
            "backgroundcolor": "#E5ECF6",
            "gridcolor": "white",
            "gridwidth": 2,
            "linecolor": "white",
            "showbackground": true,
            "ticks": "",
            "zerolinecolor": "white"
           }
          },
          "shapedefaults": {
           "line": {
            "color": "#2a3f5f"
           }
          },
          "ternary": {
           "aaxis": {
            "gridcolor": "white",
            "linecolor": "white",
            "ticks": ""
           },
           "baxis": {
            "gridcolor": "white",
            "linecolor": "white",
            "ticks": ""
           },
           "bgcolor": "#E5ECF6",
           "caxis": {
            "gridcolor": "white",
            "linecolor": "white",
            "ticks": ""
           }
          },
          "title": {
           "x": 0.05
          },
          "xaxis": {
           "automargin": true,
           "gridcolor": "white",
           "linecolor": "white",
           "ticks": "",
           "title": {
            "standoff": 15
           },
           "zerolinecolor": "white",
           "zerolinewidth": 2
          },
          "yaxis": {
           "automargin": true,
           "gridcolor": "white",
           "linecolor": "white",
           "ticks": "",
           "title": {
            "standoff": 15
           },
           "zerolinecolor": "white",
           "zerolinewidth": 2
          }
         }
        },
        "width": 1000,
        "xaxis": {
         "anchor": "y",
         "domain": [
          0,
          1
         ]
        },
        "xaxis10": {
         "anchor": "y10",
         "domain": [
          0,
          1
         ]
        },
        "xaxis11": {
         "anchor": "y11",
         "domain": [
          0,
          1
         ]
        },
        "xaxis2": {
         "anchor": "y2",
         "domain": [
          0,
          1
         ]
        },
        "xaxis3": {
         "anchor": "y3",
         "domain": [
          0,
          1
         ]
        },
        "xaxis4": {
         "anchor": "y4",
         "domain": [
          0,
          1
         ]
        },
        "xaxis5": {
         "anchor": "y5",
         "domain": [
          0,
          1
         ]
        },
        "xaxis6": {
         "anchor": "y6",
         "domain": [
          0,
          1
         ]
        },
        "xaxis7": {
         "anchor": "y7",
         "domain": [
          0,
          1
         ]
        },
        "xaxis8": {
         "anchor": "y8",
         "domain": [
          0,
          1
         ]
        },
        "xaxis9": {
         "anchor": "y9",
         "domain": [
          0,
          1
         ]
        },
        "yaxis": {
         "anchor": "x",
         "domain": [
          0.9338842975206612,
          1
         ]
        },
        "yaxis10": {
         "anchor": "x10",
         "domain": [
          0.09338842975206611,
          0.15950413223140497
         ]
        },
        "yaxis11": {
         "anchor": "x11",
         "domain": [
          0,
          0.06611570247933884
         ]
        },
        "yaxis2": {
         "anchor": "x2",
         "domain": [
          0.8404958677685951,
          0.9066115702479339
         ]
        },
        "yaxis3": {
         "anchor": "x3",
         "domain": [
          0.7471074380165289,
          0.8132231404958677
         ]
        },
        "yaxis4": {
         "anchor": "x4",
         "domain": [
          0.6537190082644628,
          0.7198347107438017
         ]
        },
        "yaxis5": {
         "anchor": "x5",
         "domain": [
          0.5603305785123966,
          0.6264462809917355
         ]
        },
        "yaxis6": {
         "anchor": "x6",
         "domain": [
          0.4669421487603306,
          0.5330578512396694
         ]
        },
        "yaxis7": {
         "anchor": "x7",
         "domain": [
          0.37355371900826445,
          0.4396694214876033
         ]
        },
        "yaxis8": {
         "anchor": "x8",
         "domain": [
          0.2801652892561983,
          0.34628099173553717
         ]
        },
        "yaxis9": {
         "anchor": "x9",
         "domain": [
          0.18677685950413223,
          0.2528925619834711
         ]
        }
       }
      },
      "text/html": [
       "<div>\n",
       "        \n",
       "        \n",
       "            <div id=\"f1b8c678-2cd0-43bc-bc5a-548a83f3a74c\" class=\"plotly-graph-div\" style=\"height:2000px; width:1000px;\"></div>\n",
       "            <script type=\"text/javascript\">\n",
       "                require([\"plotly\"], function(Plotly) {\n",
       "                    window.PLOTLYENV=window.PLOTLYENV || {};\n",
       "                    \n",
       "                if (document.getElementById(\"f1b8c678-2cd0-43bc-bc5a-548a83f3a74c\")) {\n",
       "                    Plotly.newPlot(\n",
       "                        'f1b8c678-2cd0-43bc-bc5a-548a83f3a74c',\n",
       "                        [{\"name\": \"2010\", \"type\": \"histogram\", \"x\": [37.0, 64.0, 64.0, 16.0, 13.0, 13.0, 93.0, 93.0, 93.0, 93.0, 93.0, 93.0, 93.0, 93.0, 93.0, 93.0, 93.0, 93.0, 21.0, 21.0, 31.0, 31.0, 31.0, 52.0, 70.0, 31.0, 49.0, 49.0, 47.0, 47.0, 70.0, 11.0, 11.0, 11.0, 45.0, 36.0, 66.0, 66.0, 66.0, 66.0, 33.0, 33.0, 33.0, 33.0, 33.0, 51.0, 51.0, 51.0, 74.0, 72.0, 55.0, 43.0, 43.0, 43.0, 54.0, 12.0, 12.0, 12.0, 12.0, 15.0, 54.0, 54.0, 12.0], \"xaxis\": \"x\", \"yaxis\": \"y\"}, {\"name\": \"2011\", \"type\": \"histogram\", \"x\": [37.0, 37.0, 37.0, 37.0, 37.0, 37.0, 37.0, 37.0, 37.0, 33.0, 33.0, 14.0, 64.0, 13.0, 13.0, 73.0, 93.0, 93.0, 93.0, 93.0, 93.0, 44.0, 31.0, 31.0, 31.0, 31.0, 31.0, 70.0, 31.0, 49.0, 49.0, 49.0, 39.0, 39.0, 39.0, 39.0, 39.0, 70.0, 70.0, 70.0, 70.0, 70.0, 70.0, 70.0, 70.0, 70.0, 70.0, 70.0, 70.0, 70.0, 70.0, 70.0, 70.0, 70.0, 70.0, 70.0, 70.0, 70.0, 70.0, 70.0, 70.0, 70.0, 70.0, 70.0, 70.0, 70.0, 70.0, 70.0, 70.0, 70.0, 70.0, 70.0, 70.0, 70.0, 70.0, 70.0, 70.0, 70.0, 70.0, 70.0, 70.0, 70.0, 70.0, 70.0, 70.0, 70.0, 70.0, 70.0, 70.0, 70.0, 70.0, 70.0, 70.0, 70.0, 46.0, 46.0, 46.0, 46.0, 46.0, 46.0, 46.0, 45.0, 45.0, 45.0, 64.0, 36.0, 36.0, 36.0, 36.0, 66.0, 66.0, 66.0, 66.0, 66.0, 66.0, 33.0, 33.0, 33.0, 33.0, 33.0, 33.0, 33.0, 33.0, 51.0, 51.0, 51.0, 51.0, 51.0, 51.0, 46.0, 46.0, 46.0, 46.0, 46.0, 46.0, 46.0, 46.0, 46.0, 74.0, 74.0, 72.0, 55.0, 55.0, 55.0, 55.0, 55.0, 47.0, 58.0, 12.0, 12.0, 12.0, 12.0, 15.0, 47.0, 54.0, 12.0, 12.0], \"xaxis\": \"x2\", \"yaxis\": \"y2\"}, {\"name\": \"2012\", \"type\": \"histogram\", \"x\": [37.0, 37.0, 37.0, 37.0, 33.0, 33.0, 23.0, 23.0, 23.0, 23.0, 64.0, 34.0, 16.0, 16.0, 73.0, 73.0, 93.0, 93.0, 93.0, 93.0, 93.0, 93.0, 93.0, 93.0, 93.0, 93.0, 93.0, 31.0, 31.0, 31.0, 31.0, 31.0, 70.0, 31.0, 31.0, 49.0, 39.0, 39.0, 39.0, 39.0, 39.0, 39.0, 39.0, 39.0, 39.0, 39.0, 39.0, 39.0, 39.0, 39.0, 39.0, 39.0, 39.0, 39.0, 39.0, 25.0, 47.0, 70.0, 70.0, 70.0, 70.0, 70.0, 70.0, 70.0, 70.0, 70.0, 70.0, 70.0, 70.0, 70.0, 70.0, 70.0, 70.0, 70.0, 70.0, 70.0, 70.0, 70.0, 70.0, 70.0, 70.0, 70.0, 70.0, 70.0, 70.0, 70.0, 70.0, 70.0, 70.0, 70.0, 70.0, 70.0, 70.0, 70.0, 70.0, 70.0, 70.0, 70.0, 70.0, 70.0, 70.0, 70.0, 70.0, 70.0, 70.0, 70.0, 70.0, 70.0, 70.0, 70.0, 70.0, 70.0, 70.0, 70.0, 70.0, 70.0, 70.0, 70.0, 70.0, 70.0, 70.0, 70.0, 70.0, 70.0, 70.0, 70.0, 70.0, 17.0, 17.0, 17.0, 46.0, 46.0, 46.0, 46.0, 36.0, 36.0, 36.0, 36.0, 36.0, 36.0, 36.0, 36.0, 36.0, 36.0, 36.0, 66.0, 66.0, 66.0, 66.0, 66.0, 48.0, 66.0, 66.0, 66.0, 33.0, 33.0, 33.0, 33.0, 33.0, 51.0, 51.0, 51.0, 51.0, 51.0, 46.0, 46.0, 46.0, 46.0, 74.0, 72.0, 72.0, 55.0, 55.0, 47.0, 47.0, 58.0, 12.0, 12.0, 12.0, 12.0], \"xaxis\": \"x3\", \"yaxis\": \"y3\"}, {\"name\": \"2013\", \"type\": \"histogram\", \"x\": [37.0, 50.0, 7.0, 23.0, 23.0, 23.0, 23.0, 23.0, 23.0, 64.0, 16.0, 13.0, 26.0, 93.0, 93.0, 93.0, 93.0, 93.0, 93.0, 93.0, 93.0, 93.0, 93.0, 93.0, 93.0, 21.0, 31.0, 31.0, 31.0, 31.0, 31.0, 31.0, 31.0, 31.0, 31.0, 31.0, 31.0, 49.0, 49.0, 49.0, 49.0, 49.0, 49.0, 49.0, 49.0, 49.0, 49.0, 49.0, 49.0, 39.0, 39.0, 25.0, 25.0, 25.0, 33.0, 70.0, 70.0, 70.0, 70.0, 46.0, 46.0, 46.0, 46.0, 46.0, 46.0, 36.0, 66.0, 66.0, 66.0, 66.0, 66.0, 66.0, 66.0, 33.0, 33.0, 33.0, 33.0, 33.0, 33.0, 33.0, 33.0, 33.0, 33.0, 33.0, 51.0, 51.0, 51.0, 51.0, 51.0, 51.0, 8.0, 8.0, 74.0, 72.0, 72.0, 72.0, 55.0, 47.0, 47.0, 47.0, 47.0, 47.0, 47.0, 47.0, 47.0, 47.0, 47.0, 47.0, 47.0, 54.0, 58.0, 12.0, 15.0, 15.0, 15.0, 15.0, 15.0, 15.0, 15.0, 15.0, 15.0, 12.0, 12.0, 12.0, 12.0], \"xaxis\": \"x4\", \"yaxis\": \"y4\"}, {\"name\": \"2014\", \"type\": \"histogram\", \"x\": [37.0, 37.0, 37.0, 37.0, 37.0, 37.0, 37.0, 37.0, 37.0, 37.0, 37.0, 37.0, 37.0, 37.0, 37.0, 37.0, 61.0, 7.0, 7.0, 7.0, 23.0, 23.0, 23.0, 64.0, 16.0, 16.0, 16.0, 26.0, 93.0, 93.0, 93.0, 93.0, 93.0, 93.0, 93.0, 93.0, 93.0, 28.0, 44.0, 44.0, 31.0, 31.0, 31.0, 31.0, 31.0, 31.0, 31.0, 31.0, 31.0, 31.0, 31.0, 31.0, 52.0, 31.0, 31.0, 31.0, 31.0, 31.0, 31.0, 31.0, 31.0, 49.0, 49.0, 49.0, 39.0, 39.0, 39.0, 39.0, 39.0, 39.0, 39.0, 39.0, 39.0, 39.0, 39.0, 39.0, 33.0, 46.0, 64.0, 36.0, 36.0, 36.0, 36.0, 36.0, 36.0, 36.0, 36.0, 36.0, 36.0, 36.0, 66.0, 66.0, 66.0, 66.0, 66.0, 66.0, 66.0, 66.0, 33.0, 33.0, 33.0, 33.0, 33.0, 33.0, 33.0, 51.0, 51.0, 46.0, 8.0, 8.0, 74.0, 72.0, 72.0, 55.0, 55.0, 55.0, 47.0, 43.0, 43.0, 54.0, 12.0, 12.0, 15.0, 15.0, 15.0, 15.0, 15.0, 15.0, 15.0, 15.0, 15.0, 15.0, 15.0, 15.0, 54.0, 22.0], \"xaxis\": \"x5\", \"yaxis\": \"y5\"}, {\"name\": \"2015\", \"type\": \"histogram\", \"x\": [37.0, 37.0, 50.0, 50.0, 50.0, 23.0, 23.0, 23.0, 23.0, 14.0, 64.0, 64.0, 13.0, 73.0, 73.0, 93.0, 93.0, 93.0, 93.0, 93.0, 93.0, 44.0, 31.0, 31.0, 52.0, 49.0, 49.0, 39.0, 39.0, 39.0, 39.0, 39.0, 39.0, 39.0, 39.0, 47.0, 47.0, 47.0, 47.0, 70.0, 70.0, 17.0, 17.0, 11.0, 45.0, 45.0, 64.0, 36.0, 36.0, 36.0, 36.0, 36.0, 36.0, 36.0, 36.0, 36.0, 36.0, 66.0, 66.0, 66.0, 66.0, 33.0, 33.0, 33.0, 33.0, 33.0, 33.0, 33.0, 33.0, 33.0, 33.0, 33.0, 33.0, 51.0, 46.0, 46.0, 8.0, 8.0, 74.0, 72.0, 72.0, 55.0, 55.0, 55.0, 47.0, 47.0, 47.0, 47.0, 47.0, 12.0, 15.0, 15.0, 15.0, 15.0, 15.0, 15.0, 15.0, 15.0, 15.0, 15.0, 15.0, 15.0, 15.0, 35.0], \"xaxis\": \"x6\", \"yaxis\": \"y6\"}, {\"name\": \"2016\", \"type\": \"histogram\", \"x\": [37.0, 37.0, 37.0, 37.0, 50.0, 23.0, 23.0, 23.0, 23.0, 23.0, 23.0, 64.0, 13.0, 73.0, 73.0, 93.0, 93.0, 93.0, 93.0, 93.0, 21.0, 44.0, 31.0, 31.0, 31.0, 31.0, 31.0, 31.0, 31.0, 31.0, 31.0, 52.0, 70.0, 70.0, 70.0, 49.0, 39.0, 39.0, 39.0, 39.0, 39.0, 39.0, 39.0, 47.0, 47.0, 17.0, 17.0, 46.0, 46.0, 46.0, 46.0, 46.0, 46.0, 46.0, 46.0, 46.0, 45.0, 64.0, 36.0, 66.0, 66.0, 66.0, 66.0, 66.0, 66.0, 66.0, 33.0, 33.0, 33.0, 33.0, 33.0, 33.0, 33.0, 33.0, 46.0, 46.0, 46.0, 46.0, 46.0, 46.0, 46.0, 46.0, 46.0, 46.0, 46.0, 46.0, 74.0, 74.0, 74.0, 74.0, 72.0, 55.0, 47.0, 47.0, 47.0, 47.0, 47.0, 54.0, 54.0, 54.0, 54.0, 54.0, 15.0, 15.0, 15.0, 15.0, 15.0, 15.0, 15.0, 15.0, 15.0, 15.0, 15.0, 54.0], \"xaxis\": \"x7\", \"yaxis\": \"y7\"}, {\"name\": \"2017\", \"type\": \"histogram\", \"x\": [37.0, 37.0, 37.0, 37.0, 37.0, 37.0, 37.0, 37.0, 37.0, 37.0, 37.0, 50.0, 33.0, 7.0, 7.0, 23.0, 23.0, 23.0, 23.0, 23.0, 23.0, 23.0, 14.0, 64.0, 64.0, 34.0, 16.0, 16.0, 16.0, 16.0, 16.0, 16.0, 16.0, 16.0, 16.0, 16.0, 16.0, 16.0, 16.0, 16.0, 16.0, 16.0, 16.0, 16.0, 93.0, 93.0, 93.0, 93.0, 93.0, 93.0, 93.0, 93.0, 93.0, 31.0, 70.0, 31.0, 39.0, 39.0, 39.0, 39.0, 39.0, 39.0, 39.0, 39.0, 39.0, 39.0, 39.0, 39.0, 39.0, 39.0, 39.0, 39.0, 25.0, 47.0, 47.0, 47.0, 47.0, 47.0, 47.0, 47.0, 47.0, 47.0, 47.0, 47.0, 47.0, 47.0, 47.0, 47.0, 70.0, 70.0, 46.0, 46.0, 46.0, 46.0, 11.0, 11.0, 11.0, 11.0, 36.0, 66.0, 66.0, 66.0, 66.0, 66.0, 66.0, 33.0, 33.0, 33.0, 33.0, 33.0, 46.0, 46.0, 8.0, 74.0, 72.0, 55.0, 55.0, 55.0, 55.0, 55.0, 55.0, 55.0, 55.0, 55.0, 55.0, 55.0, 47.0, 47.0, 47.0, 47.0, 47.0, 54.0, 58.0, 12.0, 12.0, 15.0, 15.0, 15.0, 15.0, 15.0, 15.0, 15.0, 15.0, 15.0, 15.0, 15.0, 15.0, 15.0, 47.0, 47.0, 47.0, 47.0, 35.0], \"xaxis\": \"x8\", \"yaxis\": \"y8\"}, {\"name\": \"2018\", \"type\": \"histogram\", \"x\": [37.0, 37.0, 37.0, 37.0, 3.0, 3.0, 50.0, 14.0, 14.0, 64.0, 34.0, 34.0, 34.0, 16.0, 16.0, 16.0, 16.0, 16.0, 16.0, 16.0, 16.0, 16.0, 16.0, 16.0, 16.0, 16.0, 16.0, 16.0, 16.0, 16.0, 16.0, 93.0, 93.0, 93.0, 31.0, 3.0, 3.0, 3.0, 52.0, 52.0, 52.0, 52.0, 52.0, 52.0, 52.0, 52.0, 31.0, 31.0, 31.0, 39.0, 39.0, 39.0, 39.0, 39.0, 39.0, 39.0, 39.0, 39.0, 25.0, 47.0, 47.0, 47.0, 47.0, 33.0, 17.0, 17.0, 46.0, 46.0, 64.0, 36.0, 36.0, 66.0, 66.0, 66.0, 66.0, 66.0, 66.0, 66.0, 33.0, 4.0, 4.0, 46.0, 46.0, 8.0, 8.0, 74.0, 72.0, 55.0, 55.0, 55.0, 55.0, 55.0, 55.0, 55.0, 55.0, 55.0, 55.0, 55.0, 55.0, 55.0, 47.0, 47.0, 47.0, 47.0, 47.0, 47.0, 47.0, 58.0, 58.0, 12.0, 12.0, 15.0, 15.0, 15.0, 15.0, 15.0, 15.0, 15.0, 15.0, 15.0, 15.0, 15.0, 15.0, 35.0, 22.0, 12.0], \"xaxis\": \"x9\", \"yaxis\": \"y9\"}, {\"name\": \"2019\", \"type\": \"histogram\", \"x\": [37.0, 37.0, 37.0, 37.0, 37.0, 3.0, 50.0, 50.0, 61.0, 7.0, 7.0, 64.0, 16.0, 16.0, 16.0, 16.0, 16.0, 16.0, 16.0, 16.0, 16.0, 16.0, 16.0, 16.0, 16.0, 16.0, 16.0, 16.0, 16.0, 26.0, 93.0, 93.0, 93.0, 3.0, 3.0, 52.0, 70.0, 31.0, 49.0, 49.0, 49.0, 39.0, 39.0, 39.0, 39.0, 39.0, 39.0, 39.0, 39.0, 39.0, 39.0, 47.0, 47.0, 47.0, 47.0, 47.0, 47.0, 2.0, 3.0, 3.0, 3.0, 33.0, 33.0, 70.0, 70.0, 17.0, 46.0, 46.0, 11.0, 11.0, 11.0, 11.0, 36.0, 36.0, 36.0, 66.0, 66.0, 66.0, 33.0, 33.0, 33.0, 33.0, 33.0, 51.0, 4.0, 4.0, 46.0, 8.0, 74.0, 72.0, 72.0, 72.0, 55.0, 55.0, 55.0, 55.0, 55.0, 55.0, 55.0, 55.0, 55.0, 55.0, 55.0, 55.0, 55.0, 47.0, 47.0, 47.0, 47.0, 47.0, 47.0, 47.0, 47.0, 58.0, 58.0, 12.0, 15.0, 15.0, 54.0], \"xaxis\": \"x10\", \"yaxis\": \"y10\"}, {\"name\": \"2020\", \"type\": \"histogram\", \"x\": [37.0, 3.0, 3.0, 7.0, 14.0, 16.0, 16.0, 16.0, 16.0, 16.0, 16.0, 16.0, 93.0, 3.0, 52.0, 39.0, 39.0, 39.0, 47.0, 47.0, 47.0, 47.0, 47.0, 47.0, 47.0, 3.0, 3.0, 3.0, 70.0, 17.0, 46.0, 46.0, 46.0, 36.0, 36.0, 36.0, 36.0, 33.0, 33.0, 51.0, 46.0, 8.0, 8.0, 55.0, 55.0, 55.0, 47.0], \"xaxis\": \"x11\", \"yaxis\": \"y11\"}],\n",
       "                        {\"height\": 2000, \"template\": {\"data\": {\"bar\": [{\"error_x\": {\"color\": \"#2a3f5f\"}, \"error_y\": {\"color\": \"#2a3f5f\"}, \"marker\": {\"line\": {\"color\": \"#E5ECF6\", \"width\": 0.5}}, \"type\": \"bar\"}], \"barpolar\": [{\"marker\": {\"line\": {\"color\": \"#E5ECF6\", \"width\": 0.5}}, \"type\": \"barpolar\"}], \"carpet\": [{\"aaxis\": {\"endlinecolor\": \"#2a3f5f\", \"gridcolor\": \"white\", \"linecolor\": \"white\", \"minorgridcolor\": \"white\", \"startlinecolor\": \"#2a3f5f\"}, \"baxis\": {\"endlinecolor\": \"#2a3f5f\", \"gridcolor\": \"white\", \"linecolor\": \"white\", \"minorgridcolor\": \"white\", \"startlinecolor\": \"#2a3f5f\"}, \"type\": \"carpet\"}], \"choropleth\": [{\"colorbar\": {\"outlinewidth\": 0, \"ticks\": \"\"}, \"type\": \"choropleth\"}], \"contour\": [{\"colorbar\": {\"outlinewidth\": 0, \"ticks\": \"\"}, \"colorscale\": [[0.0, \"#0d0887\"], [0.1111111111111111, \"#46039f\"], [0.2222222222222222, \"#7201a8\"], [0.3333333333333333, \"#9c179e\"], [0.4444444444444444, \"#bd3786\"], [0.5555555555555556, \"#d8576b\"], [0.6666666666666666, \"#ed7953\"], [0.7777777777777778, \"#fb9f3a\"], [0.8888888888888888, \"#fdca26\"], [1.0, \"#f0f921\"]], \"type\": \"contour\"}], \"contourcarpet\": [{\"colorbar\": {\"outlinewidth\": 0, \"ticks\": \"\"}, \"type\": \"contourcarpet\"}], \"heatmap\": [{\"colorbar\": {\"outlinewidth\": 0, \"ticks\": \"\"}, \"colorscale\": [[0.0, \"#0d0887\"], [0.1111111111111111, \"#46039f\"], [0.2222222222222222, \"#7201a8\"], [0.3333333333333333, \"#9c179e\"], [0.4444444444444444, \"#bd3786\"], [0.5555555555555556, \"#d8576b\"], [0.6666666666666666, \"#ed7953\"], [0.7777777777777778, \"#fb9f3a\"], [0.8888888888888888, \"#fdca26\"], [1.0, \"#f0f921\"]], \"type\": \"heatmap\"}], \"heatmapgl\": [{\"colorbar\": {\"outlinewidth\": 0, \"ticks\": \"\"}, \"colorscale\": [[0.0, \"#0d0887\"], [0.1111111111111111, \"#46039f\"], [0.2222222222222222, \"#7201a8\"], [0.3333333333333333, \"#9c179e\"], [0.4444444444444444, \"#bd3786\"], [0.5555555555555556, \"#d8576b\"], [0.6666666666666666, \"#ed7953\"], [0.7777777777777778, \"#fb9f3a\"], [0.8888888888888888, \"#fdca26\"], [1.0, \"#f0f921\"]], \"type\": \"heatmapgl\"}], \"histogram\": [{\"marker\": {\"colorbar\": {\"outlinewidth\": 0, \"ticks\": \"\"}}, \"type\": \"histogram\"}], \"histogram2d\": [{\"colorbar\": {\"outlinewidth\": 0, \"ticks\": \"\"}, \"colorscale\": [[0.0, \"#0d0887\"], [0.1111111111111111, \"#46039f\"], [0.2222222222222222, \"#7201a8\"], [0.3333333333333333, \"#9c179e\"], [0.4444444444444444, \"#bd3786\"], [0.5555555555555556, \"#d8576b\"], [0.6666666666666666, \"#ed7953\"], [0.7777777777777778, \"#fb9f3a\"], [0.8888888888888888, \"#fdca26\"], [1.0, \"#f0f921\"]], \"type\": \"histogram2d\"}], \"histogram2dcontour\": [{\"colorbar\": {\"outlinewidth\": 0, \"ticks\": \"\"}, \"colorscale\": [[0.0, \"#0d0887\"], [0.1111111111111111, \"#46039f\"], [0.2222222222222222, \"#7201a8\"], [0.3333333333333333, \"#9c179e\"], [0.4444444444444444, \"#bd3786\"], [0.5555555555555556, \"#d8576b\"], [0.6666666666666666, \"#ed7953\"], [0.7777777777777778, \"#fb9f3a\"], [0.8888888888888888, \"#fdca26\"], [1.0, \"#f0f921\"]], \"type\": \"histogram2dcontour\"}], \"mesh3d\": [{\"colorbar\": {\"outlinewidth\": 0, \"ticks\": \"\"}, \"type\": \"mesh3d\"}], \"parcoords\": [{\"line\": {\"colorbar\": {\"outlinewidth\": 0, \"ticks\": \"\"}}, \"type\": \"parcoords\"}], \"pie\": [{\"automargin\": true, \"type\": \"pie\"}], \"scatter\": [{\"marker\": {\"colorbar\": {\"outlinewidth\": 0, \"ticks\": \"\"}}, \"type\": \"scatter\"}], \"scatter3d\": [{\"line\": {\"colorbar\": {\"outlinewidth\": 0, \"ticks\": \"\"}}, \"marker\": {\"colorbar\": {\"outlinewidth\": 0, \"ticks\": \"\"}}, \"type\": \"scatter3d\"}], \"scattercarpet\": [{\"marker\": {\"colorbar\": {\"outlinewidth\": 0, \"ticks\": \"\"}}, \"type\": \"scattercarpet\"}], \"scattergeo\": [{\"marker\": {\"colorbar\": {\"outlinewidth\": 0, \"ticks\": \"\"}}, \"type\": \"scattergeo\"}], \"scattergl\": [{\"marker\": {\"colorbar\": {\"outlinewidth\": 0, \"ticks\": \"\"}}, \"type\": \"scattergl\"}], \"scattermapbox\": [{\"marker\": {\"colorbar\": {\"outlinewidth\": 0, \"ticks\": \"\"}}, \"type\": \"scattermapbox\"}], \"scatterpolar\": [{\"marker\": {\"colorbar\": {\"outlinewidth\": 0, \"ticks\": \"\"}}, \"type\": \"scatterpolar\"}], \"scatterpolargl\": [{\"marker\": {\"colorbar\": {\"outlinewidth\": 0, \"ticks\": \"\"}}, \"type\": \"scatterpolargl\"}], \"scatterternary\": [{\"marker\": {\"colorbar\": {\"outlinewidth\": 0, \"ticks\": \"\"}}, \"type\": \"scatterternary\"}], \"surface\": [{\"colorbar\": {\"outlinewidth\": 0, \"ticks\": \"\"}, \"colorscale\": [[0.0, \"#0d0887\"], [0.1111111111111111, \"#46039f\"], [0.2222222222222222, \"#7201a8\"], [0.3333333333333333, \"#9c179e\"], [0.4444444444444444, \"#bd3786\"], [0.5555555555555556, \"#d8576b\"], [0.6666666666666666, \"#ed7953\"], [0.7777777777777778, \"#fb9f3a\"], [0.8888888888888888, \"#fdca26\"], [1.0, \"#f0f921\"]], \"type\": \"surface\"}], \"table\": [{\"cells\": {\"fill\": {\"color\": \"#EBF0F8\"}, \"line\": {\"color\": \"white\"}}, \"header\": {\"fill\": {\"color\": \"#C8D4E3\"}, \"line\": {\"color\": \"white\"}}, \"type\": \"table\"}]}, \"layout\": {\"annotationdefaults\": {\"arrowcolor\": \"#2a3f5f\", \"arrowhead\": 0, \"arrowwidth\": 1}, \"coloraxis\": {\"colorbar\": {\"outlinewidth\": 0, \"ticks\": \"\"}}, \"colorscale\": {\"diverging\": [[0, \"#8e0152\"], [0.1, \"#c51b7d\"], [0.2, \"#de77ae\"], [0.3, \"#f1b6da\"], [0.4, \"#fde0ef\"], [0.5, \"#f7f7f7\"], [0.6, \"#e6f5d0\"], [0.7, \"#b8e186\"], [0.8, \"#7fbc41\"], [0.9, \"#4d9221\"], [1, \"#276419\"]], \"sequential\": [[0.0, \"#0d0887\"], [0.1111111111111111, \"#46039f\"], [0.2222222222222222, \"#7201a8\"], [0.3333333333333333, \"#9c179e\"], [0.4444444444444444, \"#bd3786\"], [0.5555555555555556, \"#d8576b\"], [0.6666666666666666, \"#ed7953\"], [0.7777777777777778, \"#fb9f3a\"], [0.8888888888888888, \"#fdca26\"], [1.0, \"#f0f921\"]], \"sequentialminus\": [[0.0, \"#0d0887\"], [0.1111111111111111, \"#46039f\"], [0.2222222222222222, \"#7201a8\"], [0.3333333333333333, \"#9c179e\"], [0.4444444444444444, \"#bd3786\"], [0.5555555555555556, \"#d8576b\"], [0.6666666666666666, \"#ed7953\"], [0.7777777777777778, \"#fb9f3a\"], [0.8888888888888888, \"#fdca26\"], [1.0, \"#f0f921\"]]}, \"colorway\": [\"#636efa\", \"#EF553B\", \"#00cc96\", \"#ab63fa\", \"#FFA15A\", \"#19d3f3\", \"#FF6692\", \"#B6E880\", \"#FF97FF\", \"#FECB52\"], \"font\": {\"color\": \"#2a3f5f\"}, \"geo\": {\"bgcolor\": \"white\", \"lakecolor\": \"white\", \"landcolor\": \"#E5ECF6\", \"showlakes\": true, \"showland\": true, \"subunitcolor\": \"white\"}, \"hoverlabel\": {\"align\": \"left\"}, \"hovermode\": \"closest\", \"mapbox\": {\"style\": \"light\"}, \"paper_bgcolor\": \"white\", \"plot_bgcolor\": \"#E5ECF6\", \"polar\": {\"angularaxis\": {\"gridcolor\": \"white\", \"linecolor\": \"white\", \"ticks\": \"\"}, \"bgcolor\": \"#E5ECF6\", \"radialaxis\": {\"gridcolor\": \"white\", \"linecolor\": \"white\", \"ticks\": \"\"}}, \"scene\": {\"xaxis\": {\"backgroundcolor\": \"#E5ECF6\", \"gridcolor\": \"white\", \"gridwidth\": 2, \"linecolor\": \"white\", \"showbackground\": true, \"ticks\": \"\", \"zerolinecolor\": \"white\"}, \"yaxis\": {\"backgroundcolor\": \"#E5ECF6\", \"gridcolor\": \"white\", \"gridwidth\": 2, \"linecolor\": \"white\", \"showbackground\": true, \"ticks\": \"\", \"zerolinecolor\": \"white\"}, \"zaxis\": {\"backgroundcolor\": \"#E5ECF6\", \"gridcolor\": \"white\", \"gridwidth\": 2, \"linecolor\": \"white\", \"showbackground\": true, \"ticks\": \"\", \"zerolinecolor\": \"white\"}}, \"shapedefaults\": {\"line\": {\"color\": \"#2a3f5f\"}}, \"ternary\": {\"aaxis\": {\"gridcolor\": \"white\", \"linecolor\": \"white\", \"ticks\": \"\"}, \"baxis\": {\"gridcolor\": \"white\", \"linecolor\": \"white\", \"ticks\": \"\"}, \"bgcolor\": \"#E5ECF6\", \"caxis\": {\"gridcolor\": \"white\", \"linecolor\": \"white\", \"ticks\": \"\"}}, \"title\": {\"x\": 0.05}, \"xaxis\": {\"automargin\": true, \"gridcolor\": \"white\", \"linecolor\": \"white\", \"ticks\": \"\", \"title\": {\"standoff\": 15}, \"zerolinecolor\": \"white\", \"zerolinewidth\": 2}, \"yaxis\": {\"automargin\": true, \"gridcolor\": \"white\", \"linecolor\": \"white\", \"ticks\": \"\", \"title\": {\"standoff\": 15}, \"zerolinecolor\": \"white\", \"zerolinewidth\": 2}}}, \"width\": 1000, \"xaxis\": {\"anchor\": \"y\", \"domain\": [0.0, 1.0]}, \"xaxis10\": {\"anchor\": \"y10\", \"domain\": [0.0, 1.0]}, \"xaxis11\": {\"anchor\": \"y11\", \"domain\": [0.0, 1.0]}, \"xaxis2\": {\"anchor\": \"y2\", \"domain\": [0.0, 1.0]}, \"xaxis3\": {\"anchor\": \"y3\", \"domain\": [0.0, 1.0]}, \"xaxis4\": {\"anchor\": \"y4\", \"domain\": [0.0, 1.0]}, \"xaxis5\": {\"anchor\": \"y5\", \"domain\": [0.0, 1.0]}, \"xaxis6\": {\"anchor\": \"y6\", \"domain\": [0.0, 1.0]}, \"xaxis7\": {\"anchor\": \"y7\", \"domain\": [0.0, 1.0]}, \"xaxis8\": {\"anchor\": \"y8\", \"domain\": [0.0, 1.0]}, \"xaxis9\": {\"anchor\": \"y9\", \"domain\": [0.0, 1.0]}, \"yaxis\": {\"anchor\": \"x\", \"domain\": [0.9338842975206612, 1.0]}, \"yaxis10\": {\"anchor\": \"x10\", \"domain\": [0.09338842975206611, 0.15950413223140497]}, \"yaxis11\": {\"anchor\": \"x11\", \"domain\": [0.0, 0.06611570247933884]}, \"yaxis2\": {\"anchor\": \"x2\", \"domain\": [0.8404958677685951, 0.9066115702479339]}, \"yaxis3\": {\"anchor\": \"x3\", \"domain\": [0.7471074380165289, 0.8132231404958677]}, \"yaxis4\": {\"anchor\": \"x4\", \"domain\": [0.6537190082644628, 0.7198347107438017]}, \"yaxis5\": {\"anchor\": \"x5\", \"domain\": [0.5603305785123966, 0.6264462809917355]}, \"yaxis6\": {\"anchor\": \"x6\", \"domain\": [0.4669421487603306, 0.5330578512396694]}, \"yaxis7\": {\"anchor\": \"x7\", \"domain\": [0.37355371900826445, 0.4396694214876033]}, \"yaxis8\": {\"anchor\": \"x8\", \"domain\": [0.2801652892561983, 0.34628099173553717]}, \"yaxis9\": {\"anchor\": \"x9\", \"domain\": [0.18677685950413223, 0.2528925619834711]}},\n",
       "                        {\"responsive\": true}\n",
       "                    ).then(function(){\n",
       "                            \n",
       "var gd = document.getElementById('f1b8c678-2cd0-43bc-bc5a-548a83f3a74c');\n",
       "var x = new MutationObserver(function (mutations, observer) {{\n",
       "        var display = window.getComputedStyle(gd).display;\n",
       "        if (!display || display === 'none') {{\n",
       "            console.log([gd, 'removed!']);\n",
       "            Plotly.purge(gd);\n",
       "            observer.disconnect();\n",
       "        }}\n",
       "}});\n",
       "\n",
       "// Listen for the removal of the full notebook cells\n",
       "var notebookContainer = gd.closest('#notebook-container');\n",
       "if (notebookContainer) {{\n",
       "    x.observe(notebookContainer, {childList: true});\n",
       "}}\n",
       "\n",
       "// Listen for the clearing of the current output cell\n",
       "var outputEl = gd.closest('.output');\n",
       "if (outputEl) {{\n",
       "    x.observe(outputEl, {childList: true});\n",
       "}}\n",
       "\n",
       "                        })\n",
       "                };\n",
       "                });\n",
       "            </script>\n",
       "        </div>"
      ]
     },
     "metadata": {},
     "output_type": "display_data"
    }
   ],
   "source": [
    "row=1\n",
    "fig=make_subplots(rows=11,cols=1,specs=[[{\"type\": \"histogram\"}],\n",
    "                           [{\"type\": \"histogram\"}],\n",
    "                           [{\"type\": \"histogram\"}],\n",
    "                        [{\"type\": \"histogram\"}],\n",
    "                           [{\"type\": \"histogram\"}],\n",
    "                           [{\"type\": \"histogram\"}],\n",
    "                           [{\"type\": \"histogram\"}],\n",
    "                           [{\"type\": \"histogram\"}],\n",
    "                           [{\"type\": \"histogram\"}],\n",
    "                           [{\"type\": \"histogram\"}],\n",
    "                            [{\"type\": \"histogram\"}],])\n",
    "\n",
    "for year,group in df.groupby(\"YEAR\"):\n",
    "    fig.append_trace(go.Histogram(x=group[\"AGE\"],name=year),row=row,col=1,)\n",
    "    row+=1\n",
    "fig.update_layout(height=2000,width=1000)\n",
    "fig.show()"
   ]
  },
  {
   "cell_type": "markdown",
   "metadata": {},
   "source": [
    "#### Practise:  Now try finding the number of visits from each city in each year (Lets just do it for 5 cities)"
   ]
  },
  {
   "cell_type": "code",
   "execution_count": 155,
   "metadata": {},
   "outputs": [
    {
     "data": {
      "application/vnd.plotly.v1+json": {
       "config": {
        "plotlyServerURL": "https://plot.ly"
       },
       "data": [
        {
         "name": "Boston",
         "type": "bar",
         "x": [
          2012,
          2011,
          2017,
          2014,
          2018,
          2013,
          2019,
          2016,
          2015,
          2010,
          2020
         ],
         "xaxis": "x",
         "y": [
          180,
          157,
          153,
          136,
          126,
          125,
          119,
          114,
          104,
          63,
          47
         ],
         "yaxis": "y"
        },
        {
         "name": "Cambridge",
         "type": "bar",
         "x": [
          2012,
          2011,
          2017,
          2014,
          2018,
          2013,
          2019,
          2016,
          2015,
          2010,
          2020
         ],
         "xaxis": "x2",
         "y": [
          180,
          157,
          153,
          136,
          126,
          125,
          119,
          114,
          104,
          63,
          47
         ],
         "yaxis": "y2"
        },
        {
         "name": "Chelsea",
         "type": "bar",
         "x": [
          2012,
          2011,
          2017,
          2014,
          2018,
          2013,
          2019,
          2016,
          2015,
          2010,
          2020
         ],
         "xaxis": "x3",
         "y": [
          180,
          157,
          153,
          136,
          126,
          125,
          119,
          114,
          104,
          63,
          47
         ],
         "yaxis": "y3"
        },
        {
         "name": "Everett",
         "type": "bar",
         "x": [
          2012,
          2011,
          2017,
          2014,
          2018,
          2013,
          2019,
          2016,
          2015,
          2010,
          2020
         ],
         "xaxis": "x4",
         "y": [
          180,
          157,
          153,
          136,
          126,
          125,
          119,
          114,
          104,
          63,
          47
         ],
         "yaxis": "y4"
        }
       ],
       "layout": {
        "height": 1000,
        "template": {
         "data": {
          "bar": [
           {
            "error_x": {
             "color": "#2a3f5f"
            },
            "error_y": {
             "color": "#2a3f5f"
            },
            "marker": {
             "line": {
              "color": "#E5ECF6",
              "width": 0.5
             }
            },
            "type": "bar"
           }
          ],
          "barpolar": [
           {
            "marker": {
             "line": {
              "color": "#E5ECF6",
              "width": 0.5
             }
            },
            "type": "barpolar"
           }
          ],
          "carpet": [
           {
            "aaxis": {
             "endlinecolor": "#2a3f5f",
             "gridcolor": "white",
             "linecolor": "white",
             "minorgridcolor": "white",
             "startlinecolor": "#2a3f5f"
            },
            "baxis": {
             "endlinecolor": "#2a3f5f",
             "gridcolor": "white",
             "linecolor": "white",
             "minorgridcolor": "white",
             "startlinecolor": "#2a3f5f"
            },
            "type": "carpet"
           }
          ],
          "choropleth": [
           {
            "colorbar": {
             "outlinewidth": 0,
             "ticks": ""
            },
            "type": "choropleth"
           }
          ],
          "contour": [
           {
            "colorbar": {
             "outlinewidth": 0,
             "ticks": ""
            },
            "colorscale": [
             [
              0,
              "#0d0887"
             ],
             [
              0.1111111111111111,
              "#46039f"
             ],
             [
              0.2222222222222222,
              "#7201a8"
             ],
             [
              0.3333333333333333,
              "#9c179e"
             ],
             [
              0.4444444444444444,
              "#bd3786"
             ],
             [
              0.5555555555555556,
              "#d8576b"
             ],
             [
              0.6666666666666666,
              "#ed7953"
             ],
             [
              0.7777777777777778,
              "#fb9f3a"
             ],
             [
              0.8888888888888888,
              "#fdca26"
             ],
             [
              1,
              "#f0f921"
             ]
            ],
            "type": "contour"
           }
          ],
          "contourcarpet": [
           {
            "colorbar": {
             "outlinewidth": 0,
             "ticks": ""
            },
            "type": "contourcarpet"
           }
          ],
          "heatmap": [
           {
            "colorbar": {
             "outlinewidth": 0,
             "ticks": ""
            },
            "colorscale": [
             [
              0,
              "#0d0887"
             ],
             [
              0.1111111111111111,
              "#46039f"
             ],
             [
              0.2222222222222222,
              "#7201a8"
             ],
             [
              0.3333333333333333,
              "#9c179e"
             ],
             [
              0.4444444444444444,
              "#bd3786"
             ],
             [
              0.5555555555555556,
              "#d8576b"
             ],
             [
              0.6666666666666666,
              "#ed7953"
             ],
             [
              0.7777777777777778,
              "#fb9f3a"
             ],
             [
              0.8888888888888888,
              "#fdca26"
             ],
             [
              1,
              "#f0f921"
             ]
            ],
            "type": "heatmap"
           }
          ],
          "heatmapgl": [
           {
            "colorbar": {
             "outlinewidth": 0,
             "ticks": ""
            },
            "colorscale": [
             [
              0,
              "#0d0887"
             ],
             [
              0.1111111111111111,
              "#46039f"
             ],
             [
              0.2222222222222222,
              "#7201a8"
             ],
             [
              0.3333333333333333,
              "#9c179e"
             ],
             [
              0.4444444444444444,
              "#bd3786"
             ],
             [
              0.5555555555555556,
              "#d8576b"
             ],
             [
              0.6666666666666666,
              "#ed7953"
             ],
             [
              0.7777777777777778,
              "#fb9f3a"
             ],
             [
              0.8888888888888888,
              "#fdca26"
             ],
             [
              1,
              "#f0f921"
             ]
            ],
            "type": "heatmapgl"
           }
          ],
          "histogram": [
           {
            "marker": {
             "colorbar": {
              "outlinewidth": 0,
              "ticks": ""
             }
            },
            "type": "histogram"
           }
          ],
          "histogram2d": [
           {
            "colorbar": {
             "outlinewidth": 0,
             "ticks": ""
            },
            "colorscale": [
             [
              0,
              "#0d0887"
             ],
             [
              0.1111111111111111,
              "#46039f"
             ],
             [
              0.2222222222222222,
              "#7201a8"
             ],
             [
              0.3333333333333333,
              "#9c179e"
             ],
             [
              0.4444444444444444,
              "#bd3786"
             ],
             [
              0.5555555555555556,
              "#d8576b"
             ],
             [
              0.6666666666666666,
              "#ed7953"
             ],
             [
              0.7777777777777778,
              "#fb9f3a"
             ],
             [
              0.8888888888888888,
              "#fdca26"
             ],
             [
              1,
              "#f0f921"
             ]
            ],
            "type": "histogram2d"
           }
          ],
          "histogram2dcontour": [
           {
            "colorbar": {
             "outlinewidth": 0,
             "ticks": ""
            },
            "colorscale": [
             [
              0,
              "#0d0887"
             ],
             [
              0.1111111111111111,
              "#46039f"
             ],
             [
              0.2222222222222222,
              "#7201a8"
             ],
             [
              0.3333333333333333,
              "#9c179e"
             ],
             [
              0.4444444444444444,
              "#bd3786"
             ],
             [
              0.5555555555555556,
              "#d8576b"
             ],
             [
              0.6666666666666666,
              "#ed7953"
             ],
             [
              0.7777777777777778,
              "#fb9f3a"
             ],
             [
              0.8888888888888888,
              "#fdca26"
             ],
             [
              1,
              "#f0f921"
             ]
            ],
            "type": "histogram2dcontour"
           }
          ],
          "mesh3d": [
           {
            "colorbar": {
             "outlinewidth": 0,
             "ticks": ""
            },
            "type": "mesh3d"
           }
          ],
          "parcoords": [
           {
            "line": {
             "colorbar": {
              "outlinewidth": 0,
              "ticks": ""
             }
            },
            "type": "parcoords"
           }
          ],
          "pie": [
           {
            "automargin": true,
            "type": "pie"
           }
          ],
          "scatter": [
           {
            "marker": {
             "colorbar": {
              "outlinewidth": 0,
              "ticks": ""
             }
            },
            "type": "scatter"
           }
          ],
          "scatter3d": [
           {
            "line": {
             "colorbar": {
              "outlinewidth": 0,
              "ticks": ""
             }
            },
            "marker": {
             "colorbar": {
              "outlinewidth": 0,
              "ticks": ""
             }
            },
            "type": "scatter3d"
           }
          ],
          "scattercarpet": [
           {
            "marker": {
             "colorbar": {
              "outlinewidth": 0,
              "ticks": ""
             }
            },
            "type": "scattercarpet"
           }
          ],
          "scattergeo": [
           {
            "marker": {
             "colorbar": {
              "outlinewidth": 0,
              "ticks": ""
             }
            },
            "type": "scattergeo"
           }
          ],
          "scattergl": [
           {
            "marker": {
             "colorbar": {
              "outlinewidth": 0,
              "ticks": ""
             }
            },
            "type": "scattergl"
           }
          ],
          "scattermapbox": [
           {
            "marker": {
             "colorbar": {
              "outlinewidth": 0,
              "ticks": ""
             }
            },
            "type": "scattermapbox"
           }
          ],
          "scatterpolar": [
           {
            "marker": {
             "colorbar": {
              "outlinewidth": 0,
              "ticks": ""
             }
            },
            "type": "scatterpolar"
           }
          ],
          "scatterpolargl": [
           {
            "marker": {
             "colorbar": {
              "outlinewidth": 0,
              "ticks": ""
             }
            },
            "type": "scatterpolargl"
           }
          ],
          "scatterternary": [
           {
            "marker": {
             "colorbar": {
              "outlinewidth": 0,
              "ticks": ""
             }
            },
            "type": "scatterternary"
           }
          ],
          "surface": [
           {
            "colorbar": {
             "outlinewidth": 0,
             "ticks": ""
            },
            "colorscale": [
             [
              0,
              "#0d0887"
             ],
             [
              0.1111111111111111,
              "#46039f"
             ],
             [
              0.2222222222222222,
              "#7201a8"
             ],
             [
              0.3333333333333333,
              "#9c179e"
             ],
             [
              0.4444444444444444,
              "#bd3786"
             ],
             [
              0.5555555555555556,
              "#d8576b"
             ],
             [
              0.6666666666666666,
              "#ed7953"
             ],
             [
              0.7777777777777778,
              "#fb9f3a"
             ],
             [
              0.8888888888888888,
              "#fdca26"
             ],
             [
              1,
              "#f0f921"
             ]
            ],
            "type": "surface"
           }
          ],
          "table": [
           {
            "cells": {
             "fill": {
              "color": "#EBF0F8"
             },
             "line": {
              "color": "white"
             }
            },
            "header": {
             "fill": {
              "color": "#C8D4E3"
             },
             "line": {
              "color": "white"
             }
            },
            "type": "table"
           }
          ]
         },
         "layout": {
          "annotationdefaults": {
           "arrowcolor": "#2a3f5f",
           "arrowhead": 0,
           "arrowwidth": 1
          },
          "coloraxis": {
           "colorbar": {
            "outlinewidth": 0,
            "ticks": ""
           }
          },
          "colorscale": {
           "diverging": [
            [
             0,
             "#8e0152"
            ],
            [
             0.1,
             "#c51b7d"
            ],
            [
             0.2,
             "#de77ae"
            ],
            [
             0.3,
             "#f1b6da"
            ],
            [
             0.4,
             "#fde0ef"
            ],
            [
             0.5,
             "#f7f7f7"
            ],
            [
             0.6,
             "#e6f5d0"
            ],
            [
             0.7,
             "#b8e186"
            ],
            [
             0.8,
             "#7fbc41"
            ],
            [
             0.9,
             "#4d9221"
            ],
            [
             1,
             "#276419"
            ]
           ],
           "sequential": [
            [
             0,
             "#0d0887"
            ],
            [
             0.1111111111111111,
             "#46039f"
            ],
            [
             0.2222222222222222,
             "#7201a8"
            ],
            [
             0.3333333333333333,
             "#9c179e"
            ],
            [
             0.4444444444444444,
             "#bd3786"
            ],
            [
             0.5555555555555556,
             "#d8576b"
            ],
            [
             0.6666666666666666,
             "#ed7953"
            ],
            [
             0.7777777777777778,
             "#fb9f3a"
            ],
            [
             0.8888888888888888,
             "#fdca26"
            ],
            [
             1,
             "#f0f921"
            ]
           ],
           "sequentialminus": [
            [
             0,
             "#0d0887"
            ],
            [
             0.1111111111111111,
             "#46039f"
            ],
            [
             0.2222222222222222,
             "#7201a8"
            ],
            [
             0.3333333333333333,
             "#9c179e"
            ],
            [
             0.4444444444444444,
             "#bd3786"
            ],
            [
             0.5555555555555556,
             "#d8576b"
            ],
            [
             0.6666666666666666,
             "#ed7953"
            ],
            [
             0.7777777777777778,
             "#fb9f3a"
            ],
            [
             0.8888888888888888,
             "#fdca26"
            ],
            [
             1,
             "#f0f921"
            ]
           ]
          },
          "colorway": [
           "#636efa",
           "#EF553B",
           "#00cc96",
           "#ab63fa",
           "#FFA15A",
           "#19d3f3",
           "#FF6692",
           "#B6E880",
           "#FF97FF",
           "#FECB52"
          ],
          "font": {
           "color": "#2a3f5f"
          },
          "geo": {
           "bgcolor": "white",
           "lakecolor": "white",
           "landcolor": "#E5ECF6",
           "showlakes": true,
           "showland": true,
           "subunitcolor": "white"
          },
          "hoverlabel": {
           "align": "left"
          },
          "hovermode": "closest",
          "mapbox": {
           "style": "light"
          },
          "paper_bgcolor": "white",
          "plot_bgcolor": "#E5ECF6",
          "polar": {
           "angularaxis": {
            "gridcolor": "white",
            "linecolor": "white",
            "ticks": ""
           },
           "bgcolor": "#E5ECF6",
           "radialaxis": {
            "gridcolor": "white",
            "linecolor": "white",
            "ticks": ""
           }
          },
          "scene": {
           "xaxis": {
            "backgroundcolor": "#E5ECF6",
            "gridcolor": "white",
            "gridwidth": 2,
            "linecolor": "white",
            "showbackground": true,
            "ticks": "",
            "zerolinecolor": "white"
           },
           "yaxis": {
            "backgroundcolor": "#E5ECF6",
            "gridcolor": "white",
            "gridwidth": 2,
            "linecolor": "white",
            "showbackground": true,
            "ticks": "",
            "zerolinecolor": "white"
           },
           "zaxis": {
            "backgroundcolor": "#E5ECF6",
            "gridcolor": "white",
            "gridwidth": 2,
            "linecolor": "white",
            "showbackground": true,
            "ticks": "",
            "zerolinecolor": "white"
           }
          },
          "shapedefaults": {
           "line": {
            "color": "#2a3f5f"
           }
          },
          "ternary": {
           "aaxis": {
            "gridcolor": "white",
            "linecolor": "white",
            "ticks": ""
           },
           "baxis": {
            "gridcolor": "white",
            "linecolor": "white",
            "ticks": ""
           },
           "bgcolor": "#E5ECF6",
           "caxis": {
            "gridcolor": "white",
            "linecolor": "white",
            "ticks": ""
           }
          },
          "title": {
           "x": 0.05
          },
          "xaxis": {
           "automargin": true,
           "gridcolor": "white",
           "linecolor": "white",
           "ticks": "",
           "title": {
            "standoff": 15
           },
           "zerolinecolor": "white",
           "zerolinewidth": 2
          },
          "yaxis": {
           "automargin": true,
           "gridcolor": "white",
           "linecolor": "white",
           "ticks": "",
           "title": {
            "standoff": 15
           },
           "zerolinecolor": "white",
           "zerolinewidth": 2
          }
         }
        },
        "width": 800,
        "xaxis": {
         "anchor": "y",
         "domain": [
          0,
          1
         ]
        },
        "xaxis2": {
         "anchor": "y2",
         "domain": [
          0,
          1
         ]
        },
        "xaxis3": {
         "anchor": "y3",
         "domain": [
          0,
          1
         ]
        },
        "xaxis4": {
         "anchor": "y4",
         "domain": [
          0,
          1
         ]
        },
        "xaxis5": {
         "anchor": "y5",
         "domain": [
          0,
          1
         ]
        },
        "yaxis": {
         "anchor": "x",
         "domain": [
          0.848,
          1
         ]
        },
        "yaxis2": {
         "anchor": "x2",
         "domain": [
          0.6359999999999999,
          0.7879999999999999
         ]
        },
        "yaxis3": {
         "anchor": "x3",
         "domain": [
          0.424,
          0.576
         ]
        },
        "yaxis4": {
         "anchor": "x4",
         "domain": [
          0.212,
          0.364
         ]
        },
        "yaxis5": {
         "anchor": "x5",
         "domain": [
          0,
          0.152
         ]
        }
       }
      },
      "text/html": [
       "<div>\n",
       "        \n",
       "        \n",
       "            <div id=\"1c230ab7-c8f8-4f0b-80cc-7067f961d8a3\" class=\"plotly-graph-div\" style=\"height:1000px; width:800px;\"></div>\n",
       "            <script type=\"text/javascript\">\n",
       "                require([\"plotly\"], function(Plotly) {\n",
       "                    window.PLOTLYENV=window.PLOTLYENV || {};\n",
       "                    \n",
       "                if (document.getElementById(\"1c230ab7-c8f8-4f0b-80cc-7067f961d8a3\")) {\n",
       "                    Plotly.newPlot(\n",
       "                        '1c230ab7-c8f8-4f0b-80cc-7067f961d8a3',\n",
       "                        [{\"name\": \"Boston\", \"type\": \"bar\", \"x\": [2012, 2011, 2017, 2014, 2018, 2013, 2019, 2016, 2015, 2010, 2020], \"xaxis\": \"x\", \"y\": [180, 157, 153, 136, 126, 125, 119, 114, 104, 63, 47], \"yaxis\": \"y\"}, {\"name\": \"Cambridge\", \"type\": \"bar\", \"x\": [2012, 2011, 2017, 2014, 2018, 2013, 2019, 2016, 2015, 2010, 2020], \"xaxis\": \"x2\", \"y\": [180, 157, 153, 136, 126, 125, 119, 114, 104, 63, 47], \"yaxis\": \"y2\"}, {\"name\": \"Chelsea\", \"type\": \"bar\", \"x\": [2012, 2011, 2017, 2014, 2018, 2013, 2019, 2016, 2015, 2010, 2020], \"xaxis\": \"x3\", \"y\": [180, 157, 153, 136, 126, 125, 119, 114, 104, 63, 47], \"yaxis\": \"y3\"}, {\"name\": \"Everett\", \"type\": \"bar\", \"x\": [2012, 2011, 2017, 2014, 2018, 2013, 2019, 2016, 2015, 2010, 2020], \"xaxis\": \"x4\", \"y\": [180, 157, 153, 136, 126, 125, 119, 114, 104, 63, 47], \"yaxis\": \"y4\"}],\n",
       "                        {\"height\": 1000, \"template\": {\"data\": {\"bar\": [{\"error_x\": {\"color\": \"#2a3f5f\"}, \"error_y\": {\"color\": \"#2a3f5f\"}, \"marker\": {\"line\": {\"color\": \"#E5ECF6\", \"width\": 0.5}}, \"type\": \"bar\"}], \"barpolar\": [{\"marker\": {\"line\": {\"color\": \"#E5ECF6\", \"width\": 0.5}}, \"type\": \"barpolar\"}], \"carpet\": [{\"aaxis\": {\"endlinecolor\": \"#2a3f5f\", \"gridcolor\": \"white\", \"linecolor\": \"white\", \"minorgridcolor\": \"white\", \"startlinecolor\": \"#2a3f5f\"}, \"baxis\": {\"endlinecolor\": \"#2a3f5f\", \"gridcolor\": \"white\", \"linecolor\": \"white\", \"minorgridcolor\": \"white\", \"startlinecolor\": \"#2a3f5f\"}, \"type\": \"carpet\"}], \"choropleth\": [{\"colorbar\": {\"outlinewidth\": 0, \"ticks\": \"\"}, \"type\": \"choropleth\"}], \"contour\": [{\"colorbar\": {\"outlinewidth\": 0, \"ticks\": \"\"}, \"colorscale\": [[0.0, \"#0d0887\"], [0.1111111111111111, \"#46039f\"], [0.2222222222222222, \"#7201a8\"], [0.3333333333333333, \"#9c179e\"], [0.4444444444444444, \"#bd3786\"], [0.5555555555555556, \"#d8576b\"], [0.6666666666666666, \"#ed7953\"], [0.7777777777777778, \"#fb9f3a\"], [0.8888888888888888, \"#fdca26\"], [1.0, \"#f0f921\"]], \"type\": \"contour\"}], \"contourcarpet\": [{\"colorbar\": {\"outlinewidth\": 0, \"ticks\": \"\"}, \"type\": \"contourcarpet\"}], \"heatmap\": [{\"colorbar\": {\"outlinewidth\": 0, \"ticks\": \"\"}, \"colorscale\": [[0.0, \"#0d0887\"], [0.1111111111111111, \"#46039f\"], [0.2222222222222222, \"#7201a8\"], [0.3333333333333333, \"#9c179e\"], [0.4444444444444444, \"#bd3786\"], [0.5555555555555556, \"#d8576b\"], [0.6666666666666666, \"#ed7953\"], [0.7777777777777778, \"#fb9f3a\"], [0.8888888888888888, \"#fdca26\"], [1.0, \"#f0f921\"]], \"type\": \"heatmap\"}], \"heatmapgl\": [{\"colorbar\": {\"outlinewidth\": 0, \"ticks\": \"\"}, \"colorscale\": [[0.0, \"#0d0887\"], [0.1111111111111111, \"#46039f\"], [0.2222222222222222, \"#7201a8\"], [0.3333333333333333, \"#9c179e\"], [0.4444444444444444, \"#bd3786\"], [0.5555555555555556, \"#d8576b\"], [0.6666666666666666, \"#ed7953\"], [0.7777777777777778, \"#fb9f3a\"], [0.8888888888888888, \"#fdca26\"], [1.0, \"#f0f921\"]], \"type\": \"heatmapgl\"}], \"histogram\": [{\"marker\": {\"colorbar\": {\"outlinewidth\": 0, \"ticks\": \"\"}}, \"type\": \"histogram\"}], \"histogram2d\": [{\"colorbar\": {\"outlinewidth\": 0, \"ticks\": \"\"}, \"colorscale\": [[0.0, \"#0d0887\"], [0.1111111111111111, \"#46039f\"], [0.2222222222222222, \"#7201a8\"], [0.3333333333333333, \"#9c179e\"], [0.4444444444444444, \"#bd3786\"], [0.5555555555555556, \"#d8576b\"], [0.6666666666666666, \"#ed7953\"], [0.7777777777777778, \"#fb9f3a\"], [0.8888888888888888, \"#fdca26\"], [1.0, \"#f0f921\"]], \"type\": \"histogram2d\"}], \"histogram2dcontour\": [{\"colorbar\": {\"outlinewidth\": 0, \"ticks\": \"\"}, \"colorscale\": [[0.0, \"#0d0887\"], [0.1111111111111111, \"#46039f\"], [0.2222222222222222, \"#7201a8\"], [0.3333333333333333, \"#9c179e\"], [0.4444444444444444, \"#bd3786\"], [0.5555555555555556, \"#d8576b\"], [0.6666666666666666, \"#ed7953\"], [0.7777777777777778, \"#fb9f3a\"], [0.8888888888888888, \"#fdca26\"], [1.0, \"#f0f921\"]], \"type\": \"histogram2dcontour\"}], \"mesh3d\": [{\"colorbar\": {\"outlinewidth\": 0, \"ticks\": \"\"}, \"type\": \"mesh3d\"}], \"parcoords\": [{\"line\": {\"colorbar\": {\"outlinewidth\": 0, \"ticks\": \"\"}}, \"type\": \"parcoords\"}], \"pie\": [{\"automargin\": true, \"type\": \"pie\"}], \"scatter\": [{\"marker\": {\"colorbar\": {\"outlinewidth\": 0, \"ticks\": \"\"}}, \"type\": \"scatter\"}], \"scatter3d\": [{\"line\": {\"colorbar\": {\"outlinewidth\": 0, \"ticks\": \"\"}}, \"marker\": {\"colorbar\": {\"outlinewidth\": 0, \"ticks\": \"\"}}, \"type\": \"scatter3d\"}], \"scattercarpet\": [{\"marker\": {\"colorbar\": {\"outlinewidth\": 0, \"ticks\": \"\"}}, \"type\": \"scattercarpet\"}], \"scattergeo\": [{\"marker\": {\"colorbar\": {\"outlinewidth\": 0, \"ticks\": \"\"}}, \"type\": \"scattergeo\"}], \"scattergl\": [{\"marker\": {\"colorbar\": {\"outlinewidth\": 0, \"ticks\": \"\"}}, \"type\": \"scattergl\"}], \"scattermapbox\": [{\"marker\": {\"colorbar\": {\"outlinewidth\": 0, \"ticks\": \"\"}}, \"type\": \"scattermapbox\"}], \"scatterpolar\": [{\"marker\": {\"colorbar\": {\"outlinewidth\": 0, \"ticks\": \"\"}}, \"type\": \"scatterpolar\"}], \"scatterpolargl\": [{\"marker\": {\"colorbar\": {\"outlinewidth\": 0, \"ticks\": \"\"}}, \"type\": \"scatterpolargl\"}], \"scatterternary\": [{\"marker\": {\"colorbar\": {\"outlinewidth\": 0, \"ticks\": \"\"}}, \"type\": \"scatterternary\"}], \"surface\": [{\"colorbar\": {\"outlinewidth\": 0, \"ticks\": \"\"}, \"colorscale\": [[0.0, \"#0d0887\"], [0.1111111111111111, \"#46039f\"], [0.2222222222222222, \"#7201a8\"], [0.3333333333333333, \"#9c179e\"], [0.4444444444444444, \"#bd3786\"], [0.5555555555555556, \"#d8576b\"], [0.6666666666666666, \"#ed7953\"], [0.7777777777777778, \"#fb9f3a\"], [0.8888888888888888, \"#fdca26\"], [1.0, \"#f0f921\"]], \"type\": \"surface\"}], \"table\": [{\"cells\": {\"fill\": {\"color\": \"#EBF0F8\"}, \"line\": {\"color\": \"white\"}}, \"header\": {\"fill\": {\"color\": \"#C8D4E3\"}, \"line\": {\"color\": \"white\"}}, \"type\": \"table\"}]}, \"layout\": {\"annotationdefaults\": {\"arrowcolor\": \"#2a3f5f\", \"arrowhead\": 0, \"arrowwidth\": 1}, \"coloraxis\": {\"colorbar\": {\"outlinewidth\": 0, \"ticks\": \"\"}}, \"colorscale\": {\"diverging\": [[0, \"#8e0152\"], [0.1, \"#c51b7d\"], [0.2, \"#de77ae\"], [0.3, \"#f1b6da\"], [0.4, \"#fde0ef\"], [0.5, \"#f7f7f7\"], [0.6, \"#e6f5d0\"], [0.7, \"#b8e186\"], [0.8, \"#7fbc41\"], [0.9, \"#4d9221\"], [1, \"#276419\"]], \"sequential\": [[0.0, \"#0d0887\"], [0.1111111111111111, \"#46039f\"], [0.2222222222222222, \"#7201a8\"], [0.3333333333333333, \"#9c179e\"], [0.4444444444444444, \"#bd3786\"], [0.5555555555555556, \"#d8576b\"], [0.6666666666666666, \"#ed7953\"], [0.7777777777777778, \"#fb9f3a\"], [0.8888888888888888, \"#fdca26\"], [1.0, \"#f0f921\"]], \"sequentialminus\": [[0.0, \"#0d0887\"], [0.1111111111111111, \"#46039f\"], [0.2222222222222222, \"#7201a8\"], [0.3333333333333333, \"#9c179e\"], [0.4444444444444444, \"#bd3786\"], [0.5555555555555556, \"#d8576b\"], [0.6666666666666666, \"#ed7953\"], [0.7777777777777778, \"#fb9f3a\"], [0.8888888888888888, \"#fdca26\"], [1.0, \"#f0f921\"]]}, \"colorway\": [\"#636efa\", \"#EF553B\", \"#00cc96\", \"#ab63fa\", \"#FFA15A\", \"#19d3f3\", \"#FF6692\", \"#B6E880\", \"#FF97FF\", \"#FECB52\"], \"font\": {\"color\": \"#2a3f5f\"}, \"geo\": {\"bgcolor\": \"white\", \"lakecolor\": \"white\", \"landcolor\": \"#E5ECF6\", \"showlakes\": true, \"showland\": true, \"subunitcolor\": \"white\"}, \"hoverlabel\": {\"align\": \"left\"}, \"hovermode\": \"closest\", \"mapbox\": {\"style\": \"light\"}, \"paper_bgcolor\": \"white\", \"plot_bgcolor\": \"#E5ECF6\", \"polar\": {\"angularaxis\": {\"gridcolor\": \"white\", \"linecolor\": \"white\", \"ticks\": \"\"}, \"bgcolor\": \"#E5ECF6\", \"radialaxis\": {\"gridcolor\": \"white\", \"linecolor\": \"white\", \"ticks\": \"\"}}, \"scene\": {\"xaxis\": {\"backgroundcolor\": \"#E5ECF6\", \"gridcolor\": \"white\", \"gridwidth\": 2, \"linecolor\": \"white\", \"showbackground\": true, \"ticks\": \"\", \"zerolinecolor\": \"white\"}, \"yaxis\": {\"backgroundcolor\": \"#E5ECF6\", \"gridcolor\": \"white\", \"gridwidth\": 2, \"linecolor\": \"white\", \"showbackground\": true, \"ticks\": \"\", \"zerolinecolor\": \"white\"}, \"zaxis\": {\"backgroundcolor\": \"#E5ECF6\", \"gridcolor\": \"white\", \"gridwidth\": 2, \"linecolor\": \"white\", \"showbackground\": true, \"ticks\": \"\", \"zerolinecolor\": \"white\"}}, \"shapedefaults\": {\"line\": {\"color\": \"#2a3f5f\"}}, \"ternary\": {\"aaxis\": {\"gridcolor\": \"white\", \"linecolor\": \"white\", \"ticks\": \"\"}, \"baxis\": {\"gridcolor\": \"white\", \"linecolor\": \"white\", \"ticks\": \"\"}, \"bgcolor\": \"#E5ECF6\", \"caxis\": {\"gridcolor\": \"white\", \"linecolor\": \"white\", \"ticks\": \"\"}}, \"title\": {\"x\": 0.05}, \"xaxis\": {\"automargin\": true, \"gridcolor\": \"white\", \"linecolor\": \"white\", \"ticks\": \"\", \"title\": {\"standoff\": 15}, \"zerolinecolor\": \"white\", \"zerolinewidth\": 2}, \"yaxis\": {\"automargin\": true, \"gridcolor\": \"white\", \"linecolor\": \"white\", \"ticks\": \"\", \"title\": {\"standoff\": 15}, \"zerolinecolor\": \"white\", \"zerolinewidth\": 2}}}, \"width\": 800, \"xaxis\": {\"anchor\": \"y\", \"domain\": [0.0, 1.0]}, \"xaxis2\": {\"anchor\": \"y2\", \"domain\": [0.0, 1.0]}, \"xaxis3\": {\"anchor\": \"y3\", \"domain\": [0.0, 1.0]}, \"xaxis4\": {\"anchor\": \"y4\", \"domain\": [0.0, 1.0]}, \"xaxis5\": {\"anchor\": \"y5\", \"domain\": [0.0, 1.0]}, \"yaxis\": {\"anchor\": \"x\", \"domain\": [0.848, 1.0]}, \"yaxis2\": {\"anchor\": \"x2\", \"domain\": [0.6359999999999999, 0.7879999999999999]}, \"yaxis3\": {\"anchor\": \"x3\", \"domain\": [0.424, 0.576]}, \"yaxis4\": {\"anchor\": \"x4\", \"domain\": [0.212, 0.364]}, \"yaxis5\": {\"anchor\": \"x5\", \"domain\": [0.0, 0.152]}},\n",
       "                        {\"responsive\": true}\n",
       "                    ).then(function(){\n",
       "                            \n",
       "var gd = document.getElementById('1c230ab7-c8f8-4f0b-80cc-7067f961d8a3');\n",
       "var x = new MutationObserver(function (mutations, observer) {{\n",
       "        var display = window.getComputedStyle(gd).display;\n",
       "        if (!display || display === 'none') {{\n",
       "            console.log([gd, 'removed!']);\n",
       "            Plotly.purge(gd);\n",
       "            observer.disconnect();\n",
       "        }}\n",
       "}});\n",
       "\n",
       "// Listen for the removal of the full notebook cells\n",
       "var notebookContainer = gd.closest('#notebook-container');\n",
       "if (notebookContainer) {{\n",
       "    x.observe(notebookContainer, {childList: true});\n",
       "}}\n",
       "\n",
       "// Listen for the clearing of the current output cell\n",
       "var outputEl = gd.closest('.output');\n",
       "if (outputEl) {{\n",
       "    x.observe(outputEl, {childList: true});\n",
       "}}\n",
       "\n",
       "                        })\n",
       "                };\n",
       "                });\n",
       "            </script>\n",
       "        </div>"
      ]
     },
     "metadata": {},
     "output_type": "display_data"
    }
   ],
   "source": [
    "row=1\n",
    "fig=make_subplots(rows=5,cols=1,specs=[[{\"type\": \"bar\"}],\n",
    "                           [{\"type\": \"bar\"}],\n",
    "                           [{\"type\": \"bar\"}],\n",
    "                        [{\"type\": \"bar\"}],\n",
    "                           [{\"type\": \"bar\"}]])\n",
    "for city,group in df.groupby([\"CITY\"]):\n",
    "    years=df[\"YEAR\"].value_counts()\n",
    "    fig.append_trace(go.Bar(x=years.index,y=years.values,name=city),row=row,col=1)\n",
    "    row+=1\n",
    "    if row>=5:\n",
    "        break\n",
    "\n",
    "fig.update_layout(height=1000,width=800)\n",
    "fig.show()\n",
    "\n",
    "\n",
    "\n"
   ]
  },
  {
   "cell_type": "markdown",
   "metadata": {},
   "source": [
    "### Takeaways and assignments:\n",
    "Use the same logic to analyse and create visualisations from the point of view of some other stakeholder. Think about other possibilities. Get creative"
   ]
  },
  {
   "cell_type": "code",
   "execution_count": null,
   "metadata": {},
   "outputs": [],
   "source": []
  }
 ],
 "metadata": {
  "kernelspec": {
   "display_name": "Python 3",
   "language": "python",
   "name": "python3"
  },
  "language_info": {
   "codemirror_mode": {
    "name": "ipython",
    "version": 3
   },
   "file_extension": ".py",
   "mimetype": "text/x-python",
   "name": "python",
   "nbconvert_exporter": "python",
   "pygments_lexer": "ipython3",
   "version": "3.7.0"
  }
 },
 "nbformat": 4,
 "nbformat_minor": 4
}
