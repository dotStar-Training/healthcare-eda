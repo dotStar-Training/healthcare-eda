{
 "cells": [
  {
   "cell_type": "markdown",
   "metadata": {},
   "source": [
    "# ADVANCED VISUALISATIONS WITH PLOTLY"
   ]
  },
  {
   "cell_type": "code",
   "execution_count": 307,
   "metadata": {},
   "outputs": [],
   "source": [
    "import pandas as pd\n",
    "from pathlib import os\n",
    "import numpy as np\n",
    "import plotly.graph_objects as go\n",
    "import plotly.express as px"
   ]
  },
  {
   "cell_type": "code",
   "execution_count": 308,
   "metadata": {},
   "outputs": [],
   "source": [
    "path = \"../data\"\n",
    "files = {i.split(\".\")[0]:os.path.join(path, i) for i in os.listdir(path)}"
   ]
  },
  {
   "cell_type": "code",
   "execution_count": 309,
   "metadata": {},
   "outputs": [
    {
     "data": {
      "text/plain": [
       "{'procedures': '../data/procedures.csv',\n",
       " 'allergies': '../data/allergies.csv',\n",
       " 'medications': '../data/medications.csv',\n",
       " '': '../data/.ipynb_checkpoints',\n",
       " 'immunizations': '../data/immunizations.csv',\n",
       " 'providers': '../data/providers.csv',\n",
       " 'payers': '../data/payers.csv',\n",
       " 'devices': '../data/devices.csv',\n",
       " 'careplans': '../data/careplans.csv',\n",
       " 'payer_transitions': '../data/payer_transitions.csv',\n",
       " 'imaging_studies': '../data/imaging_studies.csv',\n",
       " 'observations': '../data/observations.csv',\n",
       " 'patients': '../data/patients.csv',\n",
       " 'encounters': '../data/encounters.csv',\n",
       " 'organizations': '../data/organizations.csv',\n",
       " 'conditions': '../data/conditions.csv'}"
      ]
     },
     "execution_count": 309,
     "metadata": {},
     "output_type": "execute_result"
    }
   ],
   "source": [
    "files"
   ]
  },
  {
   "cell_type": "markdown",
   "metadata": {},
   "source": [
    "### FIND THE STAKEHOLDERS"
   ]
  },
  {
   "cell_type": "code",
   "execution_count": 310,
   "metadata": {},
   "outputs": [
    {
     "data": {
      "text/html": [
       "<div>\n",
       "<style scoped>\n",
       "    .dataframe tbody tr th:only-of-type {\n",
       "        vertical-align: middle;\n",
       "    }\n",
       "\n",
       "    .dataframe tbody tr th {\n",
       "        vertical-align: top;\n",
       "    }\n",
       "\n",
       "    .dataframe thead th {\n",
       "        text-align: right;\n",
       "    }\n",
       "</style>\n",
       "<table border=\"1\" class=\"dataframe\">\n",
       "  <thead>\n",
       "    <tr style=\"text-align: right;\">\n",
       "      <th></th>\n",
       "      <th>Id</th>\n",
       "      <th>START</th>\n",
       "      <th>STOP</th>\n",
       "      <th>PATIENT</th>\n",
       "      <th>ORGANIZATION</th>\n",
       "      <th>PROVIDER</th>\n",
       "      <th>PAYER</th>\n",
       "      <th>ENCOUNTERCLASS</th>\n",
       "      <th>CODE</th>\n",
       "      <th>DESCRIPTION</th>\n",
       "      <th>BASE_ENCOUNTER_COST</th>\n",
       "      <th>TOTAL_CLAIM_COST</th>\n",
       "      <th>PAYER_COVERAGE</th>\n",
       "      <th>REASONCODE</th>\n",
       "      <th>REASONDESCRIPTION</th>\n",
       "    </tr>\n",
       "  </thead>\n",
       "  <tbody>\n",
       "    <tr>\n",
       "      <th>33047</th>\n",
       "      <td>f1835699-f9eb-4df4-8bef-4b2bd9890d0b</td>\n",
       "      <td>1971-08-15T19:05:21Z</td>\n",
       "      <td>1971-08-15T20:05:21Z</td>\n",
       "      <td>137acc1b-dbca-473e-84bb-fe1baaf98819</td>\n",
       "      <td>8e00f524-3a5f-313e-9542-378dfc61193f</td>\n",
       "      <td>2ab3ffaa-5ab1-3b94-b695-4ec0afc2036c</td>\n",
       "      <td>6e2f1a2d-27bd-3701-8d08-dae202c58632</td>\n",
       "      <td>emergency</td>\n",
       "      <td>50849002</td>\n",
       "      <td>Emergency Encounter</td>\n",
       "      <td>129.16</td>\n",
       "      <td>129.16</td>\n",
       "      <td>54.16</td>\n",
       "      <td>NaN</td>\n",
       "      <td>NaN</td>\n",
       "    </tr>\n",
       "    <tr>\n",
       "      <th>14666</th>\n",
       "      <td>402ea155-6e20-4784-ab50-f1e69285bf36</td>\n",
       "      <td>2014-01-05T09:55:43Z</td>\n",
       "      <td>2014-01-05T12:10:43Z</td>\n",
       "      <td>3f336702-bf73-4fc8-bd59-3ba77fd65d0d</td>\n",
       "      <td>be4c63f3-8d38-3fa9-a183-62045b5c85f6</td>\n",
       "      <td>8f9aea5b-fd01-37c0-8931-18b6d64bdae6</td>\n",
       "      <td>7caa7254-5050-3b5e-9eae-bd5ea30e809c</td>\n",
       "      <td>ambulatory</td>\n",
       "      <td>185347001</td>\n",
       "      <td>Encounter for problem (procedure)</td>\n",
       "      <td>129.16</td>\n",
       "      <td>129.16</td>\n",
       "      <td>89.16</td>\n",
       "      <td>NaN</td>\n",
       "      <td>NaN</td>\n",
       "    </tr>\n",
       "    <tr>\n",
       "      <th>35856</th>\n",
       "      <td>7f9bbf5a-ad43-4a66-91d4-76ee64d8bde9</td>\n",
       "      <td>1972-06-16T10:03:02Z</td>\n",
       "      <td>1972-06-16T10:18:02Z</td>\n",
       "      <td>2cd4ff27-8689-4c17-b96d-f6daeeac830a</td>\n",
       "      <td>37c197b5-110f-339b-942e-272137f770b2</td>\n",
       "      <td>9b092a06-5209-3f5a-95ed-eb90e788aa5c</td>\n",
       "      <td>7c4411ce-02f1-39b5-b9ec-dfbea9ad3c1a</td>\n",
       "      <td>wellness</td>\n",
       "      <td>162673000</td>\n",
       "      <td>General examination of patient (procedure)</td>\n",
       "      <td>129.16</td>\n",
       "      <td>129.16</td>\n",
       "      <td>69.16</td>\n",
       "      <td>NaN</td>\n",
       "      <td>NaN</td>\n",
       "    </tr>\n",
       "  </tbody>\n",
       "</table>\n",
       "</div>"
      ],
      "text/plain": [
       "                                         Id                 START  \\\n",
       "33047  f1835699-f9eb-4df4-8bef-4b2bd9890d0b  1971-08-15T19:05:21Z   \n",
       "14666  402ea155-6e20-4784-ab50-f1e69285bf36  2014-01-05T09:55:43Z   \n",
       "35856  7f9bbf5a-ad43-4a66-91d4-76ee64d8bde9  1972-06-16T10:03:02Z   \n",
       "\n",
       "                       STOP                               PATIENT  \\\n",
       "33047  1971-08-15T20:05:21Z  137acc1b-dbca-473e-84bb-fe1baaf98819   \n",
       "14666  2014-01-05T12:10:43Z  3f336702-bf73-4fc8-bd59-3ba77fd65d0d   \n",
       "35856  1972-06-16T10:18:02Z  2cd4ff27-8689-4c17-b96d-f6daeeac830a   \n",
       "\n",
       "                               ORGANIZATION  \\\n",
       "33047  8e00f524-3a5f-313e-9542-378dfc61193f   \n",
       "14666  be4c63f3-8d38-3fa9-a183-62045b5c85f6   \n",
       "35856  37c197b5-110f-339b-942e-272137f770b2   \n",
       "\n",
       "                                   PROVIDER  \\\n",
       "33047  2ab3ffaa-5ab1-3b94-b695-4ec0afc2036c   \n",
       "14666  8f9aea5b-fd01-37c0-8931-18b6d64bdae6   \n",
       "35856  9b092a06-5209-3f5a-95ed-eb90e788aa5c   \n",
       "\n",
       "                                      PAYER ENCOUNTERCLASS       CODE  \\\n",
       "33047  6e2f1a2d-27bd-3701-8d08-dae202c58632      emergency   50849002   \n",
       "14666  7caa7254-5050-3b5e-9eae-bd5ea30e809c     ambulatory  185347001   \n",
       "35856  7c4411ce-02f1-39b5-b9ec-dfbea9ad3c1a       wellness  162673000   \n",
       "\n",
       "                                      DESCRIPTION  BASE_ENCOUNTER_COST  \\\n",
       "33047                         Emergency Encounter               129.16   \n",
       "14666           Encounter for problem (procedure)               129.16   \n",
       "35856  General examination of patient (procedure)               129.16   \n",
       "\n",
       "       TOTAL_CLAIM_COST  PAYER_COVERAGE  REASONCODE REASONDESCRIPTION  \n",
       "33047            129.16           54.16         NaN               NaN  \n",
       "14666            129.16           89.16         NaN               NaN  \n",
       "35856            129.16           69.16         NaN               NaN  "
      ]
     },
     "execution_count": 310,
     "metadata": {},
     "output_type": "execute_result"
    }
   ],
   "source": [
    "encounter=pd.read_csv(files[\"encounters\"])\n",
    "encounter.sample(3)"
   ]
  },
  {
   "cell_type": "code",
   "execution_count": 208,
   "metadata": {},
   "outputs": [
    {
     "data": {
      "text/html": [
       "<div>\n",
       "<style scoped>\n",
       "    .dataframe tbody tr th:only-of-type {\n",
       "        vertical-align: middle;\n",
       "    }\n",
       "\n",
       "    .dataframe tbody tr th {\n",
       "        vertical-align: top;\n",
       "    }\n",
       "\n",
       "    .dataframe thead th {\n",
       "        text-align: right;\n",
       "    }\n",
       "</style>\n",
       "<table border=\"1\" class=\"dataframe\">\n",
       "  <thead>\n",
       "    <tr style=\"text-align: right;\">\n",
       "      <th></th>\n",
       "      <th>Id</th>\n",
       "      <th>START</th>\n",
       "      <th>STOP</th>\n",
       "      <th>PATIENT_ID</th>\n",
       "      <th>ORG_ID</th>\n",
       "      <th>PROVIDER_ID</th>\n",
       "      <th>PAYER_ID</th>\n",
       "      <th>DESCRIPTION</th>\n",
       "      <th>REASON</th>\n",
       "      <th>BASE_ENCOUNTER_COST</th>\n",
       "      <th>PAYER_COVERAGE</th>\n",
       "      <th>ENCOUNTERCLASS</th>\n",
       "    </tr>\n",
       "  </thead>\n",
       "  <tbody>\n",
       "    <tr>\n",
       "      <th>35903</th>\n",
       "      <td>650b4d37-065e-4a5f-a316-d17af66dbf8c</td>\n",
       "      <td>2018-03-02T10:03:02Z</td>\n",
       "      <td>2018-03-02T10:33:02Z</td>\n",
       "      <td>2cd4ff27-8689-4c17-b96d-f6daeeac830a</td>\n",
       "      <td>37c197b5-110f-339b-942e-272137f770b2</td>\n",
       "      <td>9b092a06-5209-3f5a-95ed-eb90e788aa5c</td>\n",
       "      <td>7caa7254-5050-3b5e-9eae-bd5ea30e809c</td>\n",
       "      <td>General examination of patient (procedure)</td>\n",
       "      <td>NaN</td>\n",
       "      <td>129.16</td>\n",
       "      <td>129.16</td>\n",
       "      <td>wellness</td>\n",
       "    </tr>\n",
       "    <tr>\n",
       "      <th>34891</th>\n",
       "      <td>fc2fa067-89c0-4e17-869c-852d7fbd9b25</td>\n",
       "      <td>2004-07-21T21:19:21Z</td>\n",
       "      <td>2004-07-21T21:34:21Z</td>\n",
       "      <td>6ec18ddf-e9ee-421a-9033-456f558c7b4b</td>\n",
       "      <td>b06770b5-b695-3c1a-9685-ae2223966ff7</td>\n",
       "      <td>d3df79a4-ecae-3ba0-bec8-3bc8214f9db9</td>\n",
       "      <td>7caa7254-5050-3b5e-9eae-bd5ea30e809c</td>\n",
       "      <td>Urgent care clinic (procedure)</td>\n",
       "      <td>NaN</td>\n",
       "      <td>129.16</td>\n",
       "      <td>0.00</td>\n",
       "      <td>urgentcare</td>\n",
       "    </tr>\n",
       "    <tr>\n",
       "      <th>34233</th>\n",
       "      <td>d3ce8644-4e1d-4c5a-834b-92d12ee86d26</td>\n",
       "      <td>1990-04-21T00:42:46Z</td>\n",
       "      <td>1990-04-21T00:57:46Z</td>\n",
       "      <td>5a1848d9-9b49-4529-94f1-e463b502c73b</td>\n",
       "      <td>1776755d-7040-3d15-b588-d67de0149d76</td>\n",
       "      <td>d8457451-f9b8-3492-a64a-9b52bdbc667c</td>\n",
       "      <td>047f6ec3-6215-35eb-9608-f9dda363a44c</td>\n",
       "      <td>General examination of patient (procedure)</td>\n",
       "      <td>NaN</td>\n",
       "      <td>129.16</td>\n",
       "      <td>69.16</td>\n",
       "      <td>wellness</td>\n",
       "    </tr>\n",
       "  </tbody>\n",
       "</table>\n",
       "</div>"
      ],
      "text/plain": [
       "                                         Id                 START  \\\n",
       "35903  650b4d37-065e-4a5f-a316-d17af66dbf8c  2018-03-02T10:03:02Z   \n",
       "34891  fc2fa067-89c0-4e17-869c-852d7fbd9b25  2004-07-21T21:19:21Z   \n",
       "34233  d3ce8644-4e1d-4c5a-834b-92d12ee86d26  1990-04-21T00:42:46Z   \n",
       "\n",
       "                       STOP                            PATIENT_ID  \\\n",
       "35903  2018-03-02T10:33:02Z  2cd4ff27-8689-4c17-b96d-f6daeeac830a   \n",
       "34891  2004-07-21T21:34:21Z  6ec18ddf-e9ee-421a-9033-456f558c7b4b   \n",
       "34233  1990-04-21T00:57:46Z  5a1848d9-9b49-4529-94f1-e463b502c73b   \n",
       "\n",
       "                                     ORG_ID  \\\n",
       "35903  37c197b5-110f-339b-942e-272137f770b2   \n",
       "34891  b06770b5-b695-3c1a-9685-ae2223966ff7   \n",
       "34233  1776755d-7040-3d15-b588-d67de0149d76   \n",
       "\n",
       "                                PROVIDER_ID  \\\n",
       "35903  9b092a06-5209-3f5a-95ed-eb90e788aa5c   \n",
       "34891  d3df79a4-ecae-3ba0-bec8-3bc8214f9db9   \n",
       "34233  d8457451-f9b8-3492-a64a-9b52bdbc667c   \n",
       "\n",
       "                                   PAYER_ID  \\\n",
       "35903  7caa7254-5050-3b5e-9eae-bd5ea30e809c   \n",
       "34891  7caa7254-5050-3b5e-9eae-bd5ea30e809c   \n",
       "34233  047f6ec3-6215-35eb-9608-f9dda363a44c   \n",
       "\n",
       "                                      DESCRIPTION REASON  BASE_ENCOUNTER_COST  \\\n",
       "35903  General examination of patient (procedure)    NaN               129.16   \n",
       "34891              Urgent care clinic (procedure)    NaN               129.16   \n",
       "34233  General examination of patient (procedure)    NaN               129.16   \n",
       "\n",
       "       PAYER_COVERAGE ENCOUNTERCLASS  \n",
       "35903          129.16       wellness  \n",
       "34891            0.00     urgentcare  \n",
       "34233           69.16       wellness  "
      ]
     },
     "execution_count": 208,
     "metadata": {},
     "output_type": "execute_result"
    }
   ],
   "source": [
    "encounter=encounter.rename(columns={\"PATIENT\":\"PATIENT_ID\",\"ORGANIZATION\":\"ORG_ID\",\"PROVIDER\":\"PROVIDER_ID\",\"PAYER\":\"PAYER_ID\",\"REASONDESCRIPTION\":\"REASON\"})\n",
    "encounter=encounter[[\"Id\",\"START\",\"STOP\",\"PATIENT_ID\",\"ORG_ID\",\"PROVIDER_ID\",\"PAYER_ID\",\"DESCRIPTION\",\"REASON\",\"BASE_ENCOUNTER_COST\",\"PAYER_COVERAGE\",\"ENCOUNTERCLASS\"]]\n",
    "encounter.sample(3)"
   ]
  },
  {
   "cell_type": "code",
   "execution_count": null,
   "metadata": {},
   "outputs": [],
   "source": []
  },
  {
   "cell_type": "code",
   "execution_count": null,
   "metadata": {},
   "outputs": [],
   "source": []
  },
  {
   "cell_type": "code",
   "execution_count": null,
   "metadata": {},
   "outputs": [],
   "source": []
  },
  {
   "cell_type": "code",
   "execution_count": null,
   "metadata": {},
   "outputs": [],
   "source": []
  },
  {
   "cell_type": "code",
   "execution_count": 209,
   "metadata": {},
   "outputs": [
    {
     "data": {
      "text/html": [
       "<div>\n",
       "<style scoped>\n",
       "    .dataframe tbody tr th:only-of-type {\n",
       "        vertical-align: middle;\n",
       "    }\n",
       "\n",
       "    .dataframe tbody tr th {\n",
       "        vertical-align: top;\n",
       "    }\n",
       "\n",
       "    .dataframe thead th {\n",
       "        text-align: right;\n",
       "    }\n",
       "</style>\n",
       "<table border=\"1\" class=\"dataframe\">\n",
       "  <thead>\n",
       "    <tr style=\"text-align: right;\">\n",
       "      <th></th>\n",
       "      <th>Id</th>\n",
       "      <th>BIRTHDATE</th>\n",
       "      <th>DEATHDATE</th>\n",
       "      <th>SSN</th>\n",
       "      <th>DRIVERS</th>\n",
       "      <th>PASSPORT</th>\n",
       "      <th>PREFIX</th>\n",
       "      <th>FIRST</th>\n",
       "      <th>LAST</th>\n",
       "      <th>SUFFIX</th>\n",
       "      <th>...</th>\n",
       "      <th>BIRTHPLACE</th>\n",
       "      <th>ADDRESS</th>\n",
       "      <th>CITY</th>\n",
       "      <th>STATE</th>\n",
       "      <th>COUNTY</th>\n",
       "      <th>ZIP</th>\n",
       "      <th>LAT</th>\n",
       "      <th>LON</th>\n",
       "      <th>HEALTHCARE_EXPENSES</th>\n",
       "      <th>HEALTHCARE_COVERAGE</th>\n",
       "    </tr>\n",
       "  </thead>\n",
       "  <tbody>\n",
       "    <tr>\n",
       "      <th>505</th>\n",
       "      <td>fcee8e43-b4dc-40c3-bb1e-836292c5b03f</td>\n",
       "      <td>1973-10-26</td>\n",
       "      <td>NaN</td>\n",
       "      <td>999-47-8708</td>\n",
       "      <td>S99975517</td>\n",
       "      <td>X62910060X</td>\n",
       "      <td>Mr.</td>\n",
       "      <td>Cyril535</td>\n",
       "      <td>Abbott774</td>\n",
       "      <td>NaN</td>\n",
       "      <td>...</td>\n",
       "      <td>Montgomery  Massachusetts  US</td>\n",
       "      <td>1044 Streich Camp Suite 18</td>\n",
       "      <td>Millis</td>\n",
       "      <td>Massachusetts</td>\n",
       "      <td>Norfolk County</td>\n",
       "      <td>NaN</td>\n",
       "      <td>42.176385</td>\n",
       "      <td>-71.332191</td>\n",
       "      <td>1234903.23</td>\n",
       "      <td>3148.08</td>\n",
       "    </tr>\n",
       "    <tr>\n",
       "      <th>1003</th>\n",
       "      <td>80a7bc09-bbee-476b-9b3f-e44984c96ca1</td>\n",
       "      <td>2009-04-06</td>\n",
       "      <td>NaN</td>\n",
       "      <td>999-18-9428</td>\n",
       "      <td>NaN</td>\n",
       "      <td>NaN</td>\n",
       "      <td>NaN</td>\n",
       "      <td>Lazaro919</td>\n",
       "      <td>Gorczany269</td>\n",
       "      <td>NaN</td>\n",
       "      <td>...</td>\n",
       "      <td>Douglas  Massachusetts  US</td>\n",
       "      <td>646 Johns Wynd Suite 79</td>\n",
       "      <td>Burlington</td>\n",
       "      <td>Massachusetts</td>\n",
       "      <td>Middlesex County</td>\n",
       "      <td>1730.0</td>\n",
       "      <td>42.470623</td>\n",
       "      <td>-71.208888</td>\n",
       "      <td>282469.16</td>\n",
       "      <td>3482.28</td>\n",
       "    </tr>\n",
       "    <tr>\n",
       "      <th>211</th>\n",
       "      <td>3c2bfff1-8a3f-4b9c-bc18-e7ea6562e436</td>\n",
       "      <td>2018-07-25</td>\n",
       "      <td>2019-05-15</td>\n",
       "      <td>999-70-6516</td>\n",
       "      <td>NaN</td>\n",
       "      <td>NaN</td>\n",
       "      <td>NaN</td>\n",
       "      <td>Particia365</td>\n",
       "      <td>Feeney44</td>\n",
       "      <td>NaN</td>\n",
       "      <td>...</td>\n",
       "      <td>Sturbridge  Massachusetts  US</td>\n",
       "      <td>121 Gorczany Haven</td>\n",
       "      <td>Salem</td>\n",
       "      <td>Massachusetts</td>\n",
       "      <td>Essex County</td>\n",
       "      <td>NaN</td>\n",
       "      <td>42.517922</td>\n",
       "      <td>-70.908863</td>\n",
       "      <td>2767.55</td>\n",
       "      <td>922.44</td>\n",
       "    </tr>\n",
       "  </tbody>\n",
       "</table>\n",
       "<p>3 rows × 25 columns</p>\n",
       "</div>"
      ],
      "text/plain": [
       "                                        Id   BIRTHDATE   DEATHDATE  \\\n",
       "505   fcee8e43-b4dc-40c3-bb1e-836292c5b03f  1973-10-26         NaN   \n",
       "1003  80a7bc09-bbee-476b-9b3f-e44984c96ca1  2009-04-06         NaN   \n",
       "211   3c2bfff1-8a3f-4b9c-bc18-e7ea6562e436  2018-07-25  2019-05-15   \n",
       "\n",
       "              SSN    DRIVERS    PASSPORT PREFIX        FIRST         LAST  \\\n",
       "505   999-47-8708  S99975517  X62910060X    Mr.     Cyril535    Abbott774   \n",
       "1003  999-18-9428        NaN         NaN    NaN    Lazaro919  Gorczany269   \n",
       "211   999-70-6516        NaN         NaN    NaN  Particia365     Feeney44   \n",
       "\n",
       "     SUFFIX  ...                     BIRTHPLACE                     ADDRESS  \\\n",
       "505     NaN  ...  Montgomery  Massachusetts  US  1044 Streich Camp Suite 18   \n",
       "1003    NaN  ...     Douglas  Massachusetts  US     646 Johns Wynd Suite 79   \n",
       "211     NaN  ...  Sturbridge  Massachusetts  US          121 Gorczany Haven   \n",
       "\n",
       "            CITY          STATE            COUNTY     ZIP        LAT  \\\n",
       "505       Millis  Massachusetts    Norfolk County     NaN  42.176385   \n",
       "1003  Burlington  Massachusetts  Middlesex County  1730.0  42.470623   \n",
       "211        Salem  Massachusetts      Essex County     NaN  42.517922   \n",
       "\n",
       "            LON HEALTHCARE_EXPENSES HEALTHCARE_COVERAGE  \n",
       "505  -71.332191          1234903.23             3148.08  \n",
       "1003 -71.208888           282469.16             3482.28  \n",
       "211  -70.908863             2767.55              922.44  \n",
       "\n",
       "[3 rows x 25 columns]"
      ]
     },
     "execution_count": 209,
     "metadata": {},
     "output_type": "execute_result"
    }
   ],
   "source": [
    "patients=pd.read_csv(files[\"patients\"])\n",
    "patients.sample(3)"
   ]
  },
  {
   "cell_type": "code",
   "execution_count": 210,
   "metadata": {},
   "outputs": [
    {
     "data": {
      "text/html": [
       "<div>\n",
       "<style scoped>\n",
       "    .dataframe tbody tr th:only-of-type {\n",
       "        vertical-align: middle;\n",
       "    }\n",
       "\n",
       "    .dataframe tbody tr th {\n",
       "        vertical-align: top;\n",
       "    }\n",
       "\n",
       "    .dataframe thead th {\n",
       "        text-align: right;\n",
       "    }\n",
       "</style>\n",
       "<table border=\"1\" class=\"dataframe\">\n",
       "  <thead>\n",
       "    <tr style=\"text-align: right;\">\n",
       "      <th></th>\n",
       "      <th>Id</th>\n",
       "      <th>BIRTHDATE</th>\n",
       "      <th>FIRST</th>\n",
       "      <th>LAST</th>\n",
       "      <th>CITY</th>\n",
       "    </tr>\n",
       "  </thead>\n",
       "  <tbody>\n",
       "    <tr>\n",
       "      <th>0</th>\n",
       "      <td>1d604da9-9a81-4ba9-80c2-de3375d59b40</td>\n",
       "      <td>1989-05-25</td>\n",
       "      <td>José Eduardo181</td>\n",
       "      <td>Gómez206</td>\n",
       "      <td>Chicopee</td>\n",
       "    </tr>\n",
       "    <tr>\n",
       "      <th>1</th>\n",
       "      <td>034e9e3b-2def-4559-bb2a-7850888ae060</td>\n",
       "      <td>1983-11-14</td>\n",
       "      <td>Milo271</td>\n",
       "      <td>Feil794</td>\n",
       "      <td>Somerville</td>\n",
       "    </tr>\n",
       "    <tr>\n",
       "      <th>2</th>\n",
       "      <td>10339b10-3cd1-4ac3-ac13-ec26728cb592</td>\n",
       "      <td>1992-06-02</td>\n",
       "      <td>Jayson808</td>\n",
       "      <td>Fadel536</td>\n",
       "      <td>Chicopee</td>\n",
       "    </tr>\n",
       "    <tr>\n",
       "      <th>3</th>\n",
       "      <td>8d4c4326-e9de-4f45-9a4c-f8c36bff89ae</td>\n",
       "      <td>1978-05-27</td>\n",
       "      <td>Mariana775</td>\n",
       "      <td>Rutherford999</td>\n",
       "      <td>Lowell</td>\n",
       "    </tr>\n",
       "    <tr>\n",
       "      <th>4</th>\n",
       "      <td>f5dcd418-09fe-4a2f-baa0-3da800bd8c3a</td>\n",
       "      <td>1996-10-18</td>\n",
       "      <td>Gregorio366</td>\n",
       "      <td>Auer97</td>\n",
       "      <td>Boston</td>\n",
       "    </tr>\n",
       "  </tbody>\n",
       "</table>\n",
       "</div>"
      ],
      "text/plain": [
       "                                     Id   BIRTHDATE            FIRST  \\\n",
       "0  1d604da9-9a81-4ba9-80c2-de3375d59b40  1989-05-25  José Eduardo181   \n",
       "1  034e9e3b-2def-4559-bb2a-7850888ae060  1983-11-14          Milo271   \n",
       "2  10339b10-3cd1-4ac3-ac13-ec26728cb592  1992-06-02        Jayson808   \n",
       "3  8d4c4326-e9de-4f45-9a4c-f8c36bff89ae  1978-05-27       Mariana775   \n",
       "4  f5dcd418-09fe-4a2f-baa0-3da800bd8c3a  1996-10-18      Gregorio366   \n",
       "\n",
       "            LAST        CITY  \n",
       "0       Gómez206    Chicopee  \n",
       "1        Feil794  Somerville  \n",
       "2       Fadel536    Chicopee  \n",
       "3  Rutherford999      Lowell  \n",
       "4         Auer97      Boston  "
      ]
     },
     "execution_count": 210,
     "metadata": {},
     "output_type": "execute_result"
    }
   ],
   "source": [
    "patients=patients[[\"Id\",\"BIRTHDATE\",\"FIRST\",\"LAST\",\"CITY\"]]\n",
    "patients.head()"
   ]
  },
  {
   "cell_type": "code",
   "execution_count": 211,
   "metadata": {},
   "outputs": [
    {
     "data": {
      "text/html": [
       "<div>\n",
       "<style scoped>\n",
       "    .dataframe tbody tr th:only-of-type {\n",
       "        vertical-align: middle;\n",
       "    }\n",
       "\n",
       "    .dataframe tbody tr th {\n",
       "        vertical-align: top;\n",
       "    }\n",
       "\n",
       "    .dataframe thead th {\n",
       "        text-align: right;\n",
       "    }\n",
       "</style>\n",
       "<table border=\"1\" class=\"dataframe\">\n",
       "  <thead>\n",
       "    <tr style=\"text-align: right;\">\n",
       "      <th></th>\n",
       "      <th>Id</th>\n",
       "      <th>FIRST</th>\n",
       "      <th>LAST</th>\n",
       "      <th>CITY</th>\n",
       "      <th>AGE</th>\n",
       "    </tr>\n",
       "  </thead>\n",
       "  <tbody>\n",
       "    <tr>\n",
       "      <th>0</th>\n",
       "      <td>1d604da9-9a81-4ba9-80c2-de3375d59b40</td>\n",
       "      <td>José Eduardo181</td>\n",
       "      <td>Gómez206</td>\n",
       "      <td>Chicopee</td>\n",
       "      <td>31</td>\n",
       "    </tr>\n",
       "    <tr>\n",
       "      <th>1</th>\n",
       "      <td>034e9e3b-2def-4559-bb2a-7850888ae060</td>\n",
       "      <td>Milo271</td>\n",
       "      <td>Feil794</td>\n",
       "      <td>Somerville</td>\n",
       "      <td>37</td>\n",
       "    </tr>\n",
       "    <tr>\n",
       "      <th>2</th>\n",
       "      <td>10339b10-3cd1-4ac3-ac13-ec26728cb592</td>\n",
       "      <td>Jayson808</td>\n",
       "      <td>Fadel536</td>\n",
       "      <td>Chicopee</td>\n",
       "      <td>28</td>\n",
       "    </tr>\n",
       "    <tr>\n",
       "      <th>3</th>\n",
       "      <td>8d4c4326-e9de-4f45-9a4c-f8c36bff89ae</td>\n",
       "      <td>Mariana775</td>\n",
       "      <td>Rutherford999</td>\n",
       "      <td>Lowell</td>\n",
       "      <td>42</td>\n",
       "    </tr>\n",
       "    <tr>\n",
       "      <th>4</th>\n",
       "      <td>f5dcd418-09fe-4a2f-baa0-3da800bd8c3a</td>\n",
       "      <td>Gregorio366</td>\n",
       "      <td>Auer97</td>\n",
       "      <td>Boston</td>\n",
       "      <td>24</td>\n",
       "    </tr>\n",
       "    <tr>\n",
       "      <th>...</th>\n",
       "      <td>...</td>\n",
       "      <td>...</td>\n",
       "      <td>...</td>\n",
       "      <td>...</td>\n",
       "      <td>...</td>\n",
       "    </tr>\n",
       "    <tr>\n",
       "      <th>1163</th>\n",
       "      <td>30d83f4d-837c-488d-9748-5ee0fa49edd5</td>\n",
       "      <td>Napoleon578</td>\n",
       "      <td>Rice937</td>\n",
       "      <td>Yarmouth</td>\n",
       "      <td>55</td>\n",
       "    </tr>\n",
       "    <tr>\n",
       "      <th>1164</th>\n",
       "      <td>6c2b1cfd-887a-43f8-bee0-000ce2fc6ef0</td>\n",
       "      <td>Mercedes82</td>\n",
       "      <td>Shields502</td>\n",
       "      <td>Dennis</td>\n",
       "      <td>33</td>\n",
       "    </tr>\n",
       "    <tr>\n",
       "      <th>1165</th>\n",
       "      <td>09867b02-24b8-4896-b38b-86782dd64ef1</td>\n",
       "      <td>Laurence43</td>\n",
       "      <td>Weber641</td>\n",
       "      <td>Wilmington</td>\n",
       "      <td>63</td>\n",
       "    </tr>\n",
       "    <tr>\n",
       "      <th>1166</th>\n",
       "      <td>023a7d29-32b3-4db5-89c8-b88bd7582ec0</td>\n",
       "      <td>Conchita9</td>\n",
       "      <td>Peres371</td>\n",
       "      <td>Cambridge</td>\n",
       "      <td>98</td>\n",
       "    </tr>\n",
       "    <tr>\n",
       "      <th>1167</th>\n",
       "      <td>1fc8dafd-90e5-44d6-9179-81156c0ea083</td>\n",
       "      <td>Laverne101</td>\n",
       "      <td>Hane680</td>\n",
       "      <td>Beverly</td>\n",
       "      <td>43</td>\n",
       "    </tr>\n",
       "  </tbody>\n",
       "</table>\n",
       "<p>1129 rows × 5 columns</p>\n",
       "</div>"
      ],
      "text/plain": [
       "                                        Id            FIRST           LAST  \\\n",
       "0     1d604da9-9a81-4ba9-80c2-de3375d59b40  José Eduardo181       Gómez206   \n",
       "1     034e9e3b-2def-4559-bb2a-7850888ae060          Milo271        Feil794   \n",
       "2     10339b10-3cd1-4ac3-ac13-ec26728cb592        Jayson808       Fadel536   \n",
       "3     8d4c4326-e9de-4f45-9a4c-f8c36bff89ae       Mariana775  Rutherford999   \n",
       "4     f5dcd418-09fe-4a2f-baa0-3da800bd8c3a      Gregorio366         Auer97   \n",
       "...                                    ...              ...            ...   \n",
       "1163  30d83f4d-837c-488d-9748-5ee0fa49edd5      Napoleon578        Rice937   \n",
       "1164  6c2b1cfd-887a-43f8-bee0-000ce2fc6ef0       Mercedes82     Shields502   \n",
       "1165  09867b02-24b8-4896-b38b-86782dd64ef1       Laurence43       Weber641   \n",
       "1166  023a7d29-32b3-4db5-89c8-b88bd7582ec0        Conchita9       Peres371   \n",
       "1167  1fc8dafd-90e5-44d6-9179-81156c0ea083       Laverne101        Hane680   \n",
       "\n",
       "            CITY  AGE  \n",
       "0       Chicopee   31  \n",
       "1     Somerville   37  \n",
       "2       Chicopee   28  \n",
       "3         Lowell   42  \n",
       "4         Boston   24  \n",
       "...          ...  ...  \n",
       "1163    Yarmouth   55  \n",
       "1164      Dennis   33  \n",
       "1165  Wilmington   63  \n",
       "1166   Cambridge   98  \n",
       "1167     Beverly   43  \n",
       "\n",
       "[1129 rows x 5 columns]"
      ]
     },
     "execution_count": 211,
     "metadata": {},
     "output_type": "execute_result"
    }
   ],
   "source": [
    "from datetime import datetime\n",
    "current_year=datetime.now().year\n",
    "patients[\"BIRTHDATE\"]=pd.to_datetime(patients[\"BIRTHDATE\"],format=\"%Y-%m-%d\")\n",
    "patients[\"AGE\"]=patients[\"BIRTHDATE\"].apply(lambda x:current_year-x.year)\n",
    "patients=patients[patients[\"AGE\"]<100]\n",
    "patients=patients.drop(\"BIRTHDATE\",axis=1)\n",
    "patients"
   ]
  },
  {
   "cell_type": "code",
   "execution_count": 212,
   "metadata": {},
   "outputs": [
    {
     "data": {
      "text/html": [
       "<div>\n",
       "<style scoped>\n",
       "    .dataframe tbody tr th:only-of-type {\n",
       "        vertical-align: middle;\n",
       "    }\n",
       "\n",
       "    .dataframe tbody tr th {\n",
       "        vertical-align: top;\n",
       "    }\n",
       "\n",
       "    .dataframe thead th {\n",
       "        text-align: right;\n",
       "    }\n",
       "</style>\n",
       "<table border=\"1\" class=\"dataframe\">\n",
       "  <thead>\n",
       "    <tr style=\"text-align: right;\">\n",
       "      <th></th>\n",
       "      <th>CITY</th>\n",
       "      <th>AGE</th>\n",
       "      <th>PATIENT_NAME</th>\n",
       "    </tr>\n",
       "    <tr>\n",
       "      <th>PATIENT_ID</th>\n",
       "      <th></th>\n",
       "      <th></th>\n",
       "      <th></th>\n",
       "    </tr>\n",
       "  </thead>\n",
       "  <tbody>\n",
       "    <tr>\n",
       "      <th>1d604da9-9a81-4ba9-80c2-de3375d59b40</th>\n",
       "      <td>Chicopee</td>\n",
       "      <td>31</td>\n",
       "      <td>José Eduardo181 Gómez206</td>\n",
       "    </tr>\n",
       "    <tr>\n",
       "      <th>034e9e3b-2def-4559-bb2a-7850888ae060</th>\n",
       "      <td>Somerville</td>\n",
       "      <td>37</td>\n",
       "      <td>Milo271 Feil794</td>\n",
       "    </tr>\n",
       "    <tr>\n",
       "      <th>10339b10-3cd1-4ac3-ac13-ec26728cb592</th>\n",
       "      <td>Chicopee</td>\n",
       "      <td>28</td>\n",
       "      <td>Jayson808 Fadel536</td>\n",
       "    </tr>\n",
       "    <tr>\n",
       "      <th>8d4c4326-e9de-4f45-9a4c-f8c36bff89ae</th>\n",
       "      <td>Lowell</td>\n",
       "      <td>42</td>\n",
       "      <td>Mariana775 Rutherford999</td>\n",
       "    </tr>\n",
       "    <tr>\n",
       "      <th>f5dcd418-09fe-4a2f-baa0-3da800bd8c3a</th>\n",
       "      <td>Boston</td>\n",
       "      <td>24</td>\n",
       "      <td>Gregorio366 Auer97</td>\n",
       "    </tr>\n",
       "    <tr>\n",
       "      <th>...</th>\n",
       "      <td>...</td>\n",
       "      <td>...</td>\n",
       "      <td>...</td>\n",
       "    </tr>\n",
       "    <tr>\n",
       "      <th>30d83f4d-837c-488d-9748-5ee0fa49edd5</th>\n",
       "      <td>Yarmouth</td>\n",
       "      <td>55</td>\n",
       "      <td>Napoleon578 Rice937</td>\n",
       "    </tr>\n",
       "    <tr>\n",
       "      <th>6c2b1cfd-887a-43f8-bee0-000ce2fc6ef0</th>\n",
       "      <td>Dennis</td>\n",
       "      <td>33</td>\n",
       "      <td>Mercedes82 Shields502</td>\n",
       "    </tr>\n",
       "    <tr>\n",
       "      <th>09867b02-24b8-4896-b38b-86782dd64ef1</th>\n",
       "      <td>Wilmington</td>\n",
       "      <td>63</td>\n",
       "      <td>Laurence43 Weber641</td>\n",
       "    </tr>\n",
       "    <tr>\n",
       "      <th>023a7d29-32b3-4db5-89c8-b88bd7582ec0</th>\n",
       "      <td>Cambridge</td>\n",
       "      <td>98</td>\n",
       "      <td>Conchita9 Peres371</td>\n",
       "    </tr>\n",
       "    <tr>\n",
       "      <th>1fc8dafd-90e5-44d6-9179-81156c0ea083</th>\n",
       "      <td>Beverly</td>\n",
       "      <td>43</td>\n",
       "      <td>Laverne101 Hane680</td>\n",
       "    </tr>\n",
       "  </tbody>\n",
       "</table>\n",
       "<p>1129 rows × 3 columns</p>\n",
       "</div>"
      ],
      "text/plain": [
       "                                            CITY  AGE  \\\n",
       "PATIENT_ID                                              \n",
       "1d604da9-9a81-4ba9-80c2-de3375d59b40    Chicopee   31   \n",
       "034e9e3b-2def-4559-bb2a-7850888ae060  Somerville   37   \n",
       "10339b10-3cd1-4ac3-ac13-ec26728cb592    Chicopee   28   \n",
       "8d4c4326-e9de-4f45-9a4c-f8c36bff89ae      Lowell   42   \n",
       "f5dcd418-09fe-4a2f-baa0-3da800bd8c3a      Boston   24   \n",
       "...                                          ...  ...   \n",
       "30d83f4d-837c-488d-9748-5ee0fa49edd5    Yarmouth   55   \n",
       "6c2b1cfd-887a-43f8-bee0-000ce2fc6ef0      Dennis   33   \n",
       "09867b02-24b8-4896-b38b-86782dd64ef1  Wilmington   63   \n",
       "023a7d29-32b3-4db5-89c8-b88bd7582ec0   Cambridge   98   \n",
       "1fc8dafd-90e5-44d6-9179-81156c0ea083     Beverly   43   \n",
       "\n",
       "                                                  PATIENT_NAME  \n",
       "PATIENT_ID                                                      \n",
       "1d604da9-9a81-4ba9-80c2-de3375d59b40  José Eduardo181 Gómez206  \n",
       "034e9e3b-2def-4559-bb2a-7850888ae060           Milo271 Feil794  \n",
       "10339b10-3cd1-4ac3-ac13-ec26728cb592        Jayson808 Fadel536  \n",
       "8d4c4326-e9de-4f45-9a4c-f8c36bff89ae  Mariana775 Rutherford999  \n",
       "f5dcd418-09fe-4a2f-baa0-3da800bd8c3a        Gregorio366 Auer97  \n",
       "...                                                        ...  \n",
       "30d83f4d-837c-488d-9748-5ee0fa49edd5       Napoleon578 Rice937  \n",
       "6c2b1cfd-887a-43f8-bee0-000ce2fc6ef0     Mercedes82 Shields502  \n",
       "09867b02-24b8-4896-b38b-86782dd64ef1       Laurence43 Weber641  \n",
       "023a7d29-32b3-4db5-89c8-b88bd7582ec0        Conchita9 Peres371  \n",
       "1fc8dafd-90e5-44d6-9179-81156c0ea083        Laverne101 Hane680  \n",
       "\n",
       "[1129 rows x 3 columns]"
      ]
     },
     "execution_count": 212,
     "metadata": {},
     "output_type": "execute_result"
    }
   ],
   "source": [
    "patients=patients.rename(columns={\"Id\":\"PATIENT_ID\"})\n",
    "patients[\"PATIENT_NAME\"]=patients[\"FIRST\"].str.cat(patients[\"LAST\"],sep=\" \")\n",
    "patients=patients.drop([\"FIRST\",\"LAST\"],axis=1)\n",
    "patients=patients.set_index(\"PATIENT_ID\")\n",
    "patients"
   ]
  },
  {
   "cell_type": "code",
   "execution_count": 213,
   "metadata": {},
   "outputs": [
    {
     "data": {
      "text/html": [
       "<div>\n",
       "<style scoped>\n",
       "    .dataframe tbody tr th:only-of-type {\n",
       "        vertical-align: middle;\n",
       "    }\n",
       "\n",
       "    .dataframe tbody tr th {\n",
       "        vertical-align: top;\n",
       "    }\n",
       "\n",
       "    .dataframe thead th {\n",
       "        text-align: right;\n",
       "    }\n",
       "</style>\n",
       "<table border=\"1\" class=\"dataframe\">\n",
       "  <thead>\n",
       "    <tr style=\"text-align: right;\">\n",
       "      <th></th>\n",
       "      <th>Id</th>\n",
       "      <th>START</th>\n",
       "      <th>STOP</th>\n",
       "      <th>PATIENT_ID</th>\n",
       "      <th>ORG_ID</th>\n",
       "      <th>PROVIDER_ID</th>\n",
       "      <th>PAYER_ID</th>\n",
       "      <th>DESCRIPTION</th>\n",
       "      <th>REASON</th>\n",
       "      <th>BASE_ENCOUNTER_COST</th>\n",
       "      <th>PAYER_COVERAGE</th>\n",
       "      <th>ENCOUNTERCLASS</th>\n",
       "      <th>CITY</th>\n",
       "      <th>AGE</th>\n",
       "      <th>PATIENT_NAME</th>\n",
       "    </tr>\n",
       "  </thead>\n",
       "  <tbody>\n",
       "    <tr>\n",
       "      <th>0</th>\n",
       "      <td>d0c40d10-8d87-447e-836e-99d26ad52ea5</td>\n",
       "      <td>2010-01-23T17:45:28Z</td>\n",
       "      <td>2010-01-23T18:10:28Z</td>\n",
       "      <td>034e9e3b-2def-4559-bb2a-7850888ae060</td>\n",
       "      <td>e002090d-4e92-300e-b41e-7d1f21dee4c6</td>\n",
       "      <td>e6283e46-fd81-3611-9459-0edb1c3da357</td>\n",
       "      <td>6e2f1a2d-27bd-3701-8d08-dae202c58632</td>\n",
       "      <td>Encounter for symptom</td>\n",
       "      <td>Acute bronchitis (disorder)</td>\n",
       "      <td>129.16</td>\n",
       "      <td>54.16</td>\n",
       "      <td>ambulatory</td>\n",
       "      <td>Somerville</td>\n",
       "      <td>37.0</td>\n",
       "      <td>Milo271 Feil794</td>\n",
       "    </tr>\n",
       "    <tr>\n",
       "      <th>1</th>\n",
       "      <td>e88bc3a9-007c-405e-aabc-792a38f4aa2b</td>\n",
       "      <td>2012-01-23T17:45:28Z</td>\n",
       "      <td>2012-01-23T18:00:28Z</td>\n",
       "      <td>034e9e3b-2def-4559-bb2a-7850888ae060</td>\n",
       "      <td>772ee193-bb9f-30eb-9939-21e86c8e4da5</td>\n",
       "      <td>6f1d59a7-a5bd-3cf9-9671-5bad2f351c28</td>\n",
       "      <td>6e2f1a2d-27bd-3701-8d08-dae202c58632</td>\n",
       "      <td>General examination of patient (procedure)</td>\n",
       "      <td>NaN</td>\n",
       "      <td>129.16</td>\n",
       "      <td>129.16</td>\n",
       "      <td>wellness</td>\n",
       "      <td>Somerville</td>\n",
       "      <td>37.0</td>\n",
       "      <td>Milo271 Feil794</td>\n",
       "    </tr>\n",
       "    <tr>\n",
       "      <th>2</th>\n",
       "      <td>8f104aa7-4ca9-4473-885a-bba2437df588</td>\n",
       "      <td>2001-05-01T15:02:18Z</td>\n",
       "      <td>2001-05-01T15:17:18Z</td>\n",
       "      <td>1d604da9-9a81-4ba9-80c2-de3375d59b40</td>\n",
       "      <td>5d4b9df1-93ae-3bc9-b680-03249990e558</td>\n",
       "      <td>af01a385-31d3-3c77-8fdb-2867fe88df2f</td>\n",
       "      <td>b1c428d6-4f07-31e0-90f0-68ffa6ff8c76</td>\n",
       "      <td>Encounter for symptom</td>\n",
       "      <td>Sinusitis (disorder)</td>\n",
       "      <td>129.16</td>\n",
       "      <td>0.00</td>\n",
       "      <td>ambulatory</td>\n",
       "      <td>Chicopee</td>\n",
       "      <td>31.0</td>\n",
       "      <td>José Eduardo181 Gómez206</td>\n",
       "    </tr>\n",
       "    <tr>\n",
       "      <th>3</th>\n",
       "      <td>b85c339a-6076-43ed-b9d0-9cf013dec49d</td>\n",
       "      <td>2011-07-28T15:02:18Z</td>\n",
       "      <td>2011-07-28T15:17:18Z</td>\n",
       "      <td>1d604da9-9a81-4ba9-80c2-de3375d59b40</td>\n",
       "      <td>3dc9bb2d-5d66-3e61-bf9a-e234c6433577</td>\n",
       "      <td>bb17e691-262b-3546-93d5-d88e7de93246</td>\n",
       "      <td>b1c428d6-4f07-31e0-90f0-68ffa6ff8c76</td>\n",
       "      <td>General examination of patient (procedure)</td>\n",
       "      <td>NaN</td>\n",
       "      <td>129.16</td>\n",
       "      <td>0.00</td>\n",
       "      <td>wellness</td>\n",
       "      <td>Chicopee</td>\n",
       "      <td>31.0</td>\n",
       "      <td>José Eduardo181 Gómez206</td>\n",
       "    </tr>\n",
       "    <tr>\n",
       "      <th>4</th>\n",
       "      <td>dae2b7cb-1316-4b78-954f-fa610a6c6d0e</td>\n",
       "      <td>2010-07-27T12:58:08Z</td>\n",
       "      <td>2010-07-27T13:28:08Z</td>\n",
       "      <td>10339b10-3cd1-4ac3-ac13-ec26728cb592</td>\n",
       "      <td>b03dba4f-892f-365c-bfd1-bfcfa7a98d5d</td>\n",
       "      <td>7ed6b84a-b847-3744-9d42-15c42297a0c2</td>\n",
       "      <td>d47b3510-2895-3b70-9897-342d681c769d</td>\n",
       "      <td>General examination of patient (procedure)</td>\n",
       "      <td>NaN</td>\n",
       "      <td>129.16</td>\n",
       "      <td>129.16</td>\n",
       "      <td>wellness</td>\n",
       "      <td>Chicopee</td>\n",
       "      <td>28.0</td>\n",
       "      <td>Jayson808 Fadel536</td>\n",
       "    </tr>\n",
       "    <tr>\n",
       "      <th>...</th>\n",
       "      <td>...</td>\n",
       "      <td>...</td>\n",
       "      <td>...</td>\n",
       "      <td>...</td>\n",
       "      <td>...</td>\n",
       "      <td>...</td>\n",
       "      <td>...</td>\n",
       "      <td>...</td>\n",
       "      <td>...</td>\n",
       "      <td>...</td>\n",
       "      <td>...</td>\n",
       "      <td>...</td>\n",
       "      <td>...</td>\n",
       "      <td>...</td>\n",
       "      <td>...</td>\n",
       "    </tr>\n",
       "    <tr>\n",
       "      <th>53341</th>\n",
       "      <td>bd3bfc3c-4f52-4d9c-aa01-60a084b2ddcd</td>\n",
       "      <td>2015-06-20T17:27:52Z</td>\n",
       "      <td>2015-06-20T17:57:52Z</td>\n",
       "      <td>fc817953-cc8b-45db-9c85-7c0ced8fa90d</td>\n",
       "      <td>a44b37da-aa9b-37f0-993e-26e58974e086</td>\n",
       "      <td>ff678a28-0ee8-379c-80ab-2dc790cf67dd</td>\n",
       "      <td>7caa7254-5050-3b5e-9eae-bd5ea30e809c</td>\n",
       "      <td>General examination of patient (procedure)</td>\n",
       "      <td>NaN</td>\n",
       "      <td>129.16</td>\n",
       "      <td>129.16</td>\n",
       "      <td>wellness</td>\n",
       "      <td>NaN</td>\n",
       "      <td>NaN</td>\n",
       "      <td>NaN</td>\n",
       "    </tr>\n",
       "    <tr>\n",
       "      <th>53342</th>\n",
       "      <td>59727285-d30f-44e2-bcda-eac21ce07269</td>\n",
       "      <td>2016-06-25T17:27:52Z</td>\n",
       "      <td>2016-06-25T17:42:52Z</td>\n",
       "      <td>fc817953-cc8b-45db-9c85-7c0ced8fa90d</td>\n",
       "      <td>a44b37da-aa9b-37f0-993e-26e58974e086</td>\n",
       "      <td>ff678a28-0ee8-379c-80ab-2dc790cf67dd</td>\n",
       "      <td>7caa7254-5050-3b5e-9eae-bd5ea30e809c</td>\n",
       "      <td>General examination of patient (procedure)</td>\n",
       "      <td>NaN</td>\n",
       "      <td>129.16</td>\n",
       "      <td>129.16</td>\n",
       "      <td>wellness</td>\n",
       "      <td>NaN</td>\n",
       "      <td>NaN</td>\n",
       "      <td>NaN</td>\n",
       "    </tr>\n",
       "    <tr>\n",
       "      <th>53343</th>\n",
       "      <td>957b13d5-49fa-4518-8c25-6eaa45e6a7d1</td>\n",
       "      <td>2017-07-01T17:27:52Z</td>\n",
       "      <td>2017-07-01T17:57:52Z</td>\n",
       "      <td>fc817953-cc8b-45db-9c85-7c0ced8fa90d</td>\n",
       "      <td>a44b37da-aa9b-37f0-993e-26e58974e086</td>\n",
       "      <td>ff678a28-0ee8-379c-80ab-2dc790cf67dd</td>\n",
       "      <td>7caa7254-5050-3b5e-9eae-bd5ea30e809c</td>\n",
       "      <td>General examination of patient (procedure)</td>\n",
       "      <td>NaN</td>\n",
       "      <td>129.16</td>\n",
       "      <td>129.16</td>\n",
       "      <td>wellness</td>\n",
       "      <td>NaN</td>\n",
       "      <td>NaN</td>\n",
       "      <td>NaN</td>\n",
       "    </tr>\n",
       "    <tr>\n",
       "      <th>53344</th>\n",
       "      <td>5529a0d5-a24c-42b4-a32a-729e4d1f19ef</td>\n",
       "      <td>2018-07-07T17:27:52Z</td>\n",
       "      <td>2018-07-07T17:42:52Z</td>\n",
       "      <td>fc817953-cc8b-45db-9c85-7c0ced8fa90d</td>\n",
       "      <td>a44b37da-aa9b-37f0-993e-26e58974e086</td>\n",
       "      <td>ff678a28-0ee8-379c-80ab-2dc790cf67dd</td>\n",
       "      <td>7caa7254-5050-3b5e-9eae-bd5ea30e809c</td>\n",
       "      <td>General examination of patient (procedure)</td>\n",
       "      <td>NaN</td>\n",
       "      <td>129.16</td>\n",
       "      <td>129.16</td>\n",
       "      <td>wellness</td>\n",
       "      <td>NaN</td>\n",
       "      <td>NaN</td>\n",
       "      <td>NaN</td>\n",
       "    </tr>\n",
       "    <tr>\n",
       "      <th>53345</th>\n",
       "      <td>1306d180-d887-4286-b940-9a6a2425cf93</td>\n",
       "      <td>2019-07-13T17:27:52Z</td>\n",
       "      <td>2019-07-13T17:57:52Z</td>\n",
       "      <td>fc817953-cc8b-45db-9c85-7c0ced8fa90d</td>\n",
       "      <td>a44b37da-aa9b-37f0-993e-26e58974e086</td>\n",
       "      <td>ff678a28-0ee8-379c-80ab-2dc790cf67dd</td>\n",
       "      <td>7caa7254-5050-3b5e-9eae-bd5ea30e809c</td>\n",
       "      <td>General examination of patient (procedure)</td>\n",
       "      <td>NaN</td>\n",
       "      <td>129.16</td>\n",
       "      <td>129.16</td>\n",
       "      <td>wellness</td>\n",
       "      <td>NaN</td>\n",
       "      <td>NaN</td>\n",
       "      <td>NaN</td>\n",
       "    </tr>\n",
       "  </tbody>\n",
       "</table>\n",
       "<p>53346 rows × 15 columns</p>\n",
       "</div>"
      ],
      "text/plain": [
       "                                         Id                 START  \\\n",
       "0      d0c40d10-8d87-447e-836e-99d26ad52ea5  2010-01-23T17:45:28Z   \n",
       "1      e88bc3a9-007c-405e-aabc-792a38f4aa2b  2012-01-23T17:45:28Z   \n",
       "2      8f104aa7-4ca9-4473-885a-bba2437df588  2001-05-01T15:02:18Z   \n",
       "3      b85c339a-6076-43ed-b9d0-9cf013dec49d  2011-07-28T15:02:18Z   \n",
       "4      dae2b7cb-1316-4b78-954f-fa610a6c6d0e  2010-07-27T12:58:08Z   \n",
       "...                                     ...                   ...   \n",
       "53341  bd3bfc3c-4f52-4d9c-aa01-60a084b2ddcd  2015-06-20T17:27:52Z   \n",
       "53342  59727285-d30f-44e2-bcda-eac21ce07269  2016-06-25T17:27:52Z   \n",
       "53343  957b13d5-49fa-4518-8c25-6eaa45e6a7d1  2017-07-01T17:27:52Z   \n",
       "53344  5529a0d5-a24c-42b4-a32a-729e4d1f19ef  2018-07-07T17:27:52Z   \n",
       "53345  1306d180-d887-4286-b940-9a6a2425cf93  2019-07-13T17:27:52Z   \n",
       "\n",
       "                       STOP                            PATIENT_ID  \\\n",
       "0      2010-01-23T18:10:28Z  034e9e3b-2def-4559-bb2a-7850888ae060   \n",
       "1      2012-01-23T18:00:28Z  034e9e3b-2def-4559-bb2a-7850888ae060   \n",
       "2      2001-05-01T15:17:18Z  1d604da9-9a81-4ba9-80c2-de3375d59b40   \n",
       "3      2011-07-28T15:17:18Z  1d604da9-9a81-4ba9-80c2-de3375d59b40   \n",
       "4      2010-07-27T13:28:08Z  10339b10-3cd1-4ac3-ac13-ec26728cb592   \n",
       "...                     ...                                   ...   \n",
       "53341  2015-06-20T17:57:52Z  fc817953-cc8b-45db-9c85-7c0ced8fa90d   \n",
       "53342  2016-06-25T17:42:52Z  fc817953-cc8b-45db-9c85-7c0ced8fa90d   \n",
       "53343  2017-07-01T17:57:52Z  fc817953-cc8b-45db-9c85-7c0ced8fa90d   \n",
       "53344  2018-07-07T17:42:52Z  fc817953-cc8b-45db-9c85-7c0ced8fa90d   \n",
       "53345  2019-07-13T17:57:52Z  fc817953-cc8b-45db-9c85-7c0ced8fa90d   \n",
       "\n",
       "                                     ORG_ID  \\\n",
       "0      e002090d-4e92-300e-b41e-7d1f21dee4c6   \n",
       "1      772ee193-bb9f-30eb-9939-21e86c8e4da5   \n",
       "2      5d4b9df1-93ae-3bc9-b680-03249990e558   \n",
       "3      3dc9bb2d-5d66-3e61-bf9a-e234c6433577   \n",
       "4      b03dba4f-892f-365c-bfd1-bfcfa7a98d5d   \n",
       "...                                     ...   \n",
       "53341  a44b37da-aa9b-37f0-993e-26e58974e086   \n",
       "53342  a44b37da-aa9b-37f0-993e-26e58974e086   \n",
       "53343  a44b37da-aa9b-37f0-993e-26e58974e086   \n",
       "53344  a44b37da-aa9b-37f0-993e-26e58974e086   \n",
       "53345  a44b37da-aa9b-37f0-993e-26e58974e086   \n",
       "\n",
       "                                PROVIDER_ID  \\\n",
       "0      e6283e46-fd81-3611-9459-0edb1c3da357   \n",
       "1      6f1d59a7-a5bd-3cf9-9671-5bad2f351c28   \n",
       "2      af01a385-31d3-3c77-8fdb-2867fe88df2f   \n",
       "3      bb17e691-262b-3546-93d5-d88e7de93246   \n",
       "4      7ed6b84a-b847-3744-9d42-15c42297a0c2   \n",
       "...                                     ...   \n",
       "53341  ff678a28-0ee8-379c-80ab-2dc790cf67dd   \n",
       "53342  ff678a28-0ee8-379c-80ab-2dc790cf67dd   \n",
       "53343  ff678a28-0ee8-379c-80ab-2dc790cf67dd   \n",
       "53344  ff678a28-0ee8-379c-80ab-2dc790cf67dd   \n",
       "53345  ff678a28-0ee8-379c-80ab-2dc790cf67dd   \n",
       "\n",
       "                                   PAYER_ID  \\\n",
       "0      6e2f1a2d-27bd-3701-8d08-dae202c58632   \n",
       "1      6e2f1a2d-27bd-3701-8d08-dae202c58632   \n",
       "2      b1c428d6-4f07-31e0-90f0-68ffa6ff8c76   \n",
       "3      b1c428d6-4f07-31e0-90f0-68ffa6ff8c76   \n",
       "4      d47b3510-2895-3b70-9897-342d681c769d   \n",
       "...                                     ...   \n",
       "53341  7caa7254-5050-3b5e-9eae-bd5ea30e809c   \n",
       "53342  7caa7254-5050-3b5e-9eae-bd5ea30e809c   \n",
       "53343  7caa7254-5050-3b5e-9eae-bd5ea30e809c   \n",
       "53344  7caa7254-5050-3b5e-9eae-bd5ea30e809c   \n",
       "53345  7caa7254-5050-3b5e-9eae-bd5ea30e809c   \n",
       "\n",
       "                                      DESCRIPTION  \\\n",
       "0                           Encounter for symptom   \n",
       "1      General examination of patient (procedure)   \n",
       "2                           Encounter for symptom   \n",
       "3      General examination of patient (procedure)   \n",
       "4      General examination of patient (procedure)   \n",
       "...                                           ...   \n",
       "53341  General examination of patient (procedure)   \n",
       "53342  General examination of patient (procedure)   \n",
       "53343  General examination of patient (procedure)   \n",
       "53344  General examination of patient (procedure)   \n",
       "53345  General examination of patient (procedure)   \n",
       "\n",
       "                            REASON  BASE_ENCOUNTER_COST  PAYER_COVERAGE  \\\n",
       "0      Acute bronchitis (disorder)               129.16           54.16   \n",
       "1                              NaN               129.16          129.16   \n",
       "2             Sinusitis (disorder)               129.16            0.00   \n",
       "3                              NaN               129.16            0.00   \n",
       "4                              NaN               129.16          129.16   \n",
       "...                            ...                  ...             ...   \n",
       "53341                          NaN               129.16          129.16   \n",
       "53342                          NaN               129.16          129.16   \n",
       "53343                          NaN               129.16          129.16   \n",
       "53344                          NaN               129.16          129.16   \n",
       "53345                          NaN               129.16          129.16   \n",
       "\n",
       "      ENCOUNTERCLASS        CITY   AGE              PATIENT_NAME  \n",
       "0         ambulatory  Somerville  37.0           Milo271 Feil794  \n",
       "1           wellness  Somerville  37.0           Milo271 Feil794  \n",
       "2         ambulatory    Chicopee  31.0  José Eduardo181 Gómez206  \n",
       "3           wellness    Chicopee  31.0  José Eduardo181 Gómez206  \n",
       "4           wellness    Chicopee  28.0        Jayson808 Fadel536  \n",
       "...              ...         ...   ...                       ...  \n",
       "53341       wellness         NaN   NaN                       NaN  \n",
       "53342       wellness         NaN   NaN                       NaN  \n",
       "53343       wellness         NaN   NaN                       NaN  \n",
       "53344       wellness         NaN   NaN                       NaN  \n",
       "53345       wellness         NaN   NaN                       NaN  \n",
       "\n",
       "[53346 rows x 15 columns]"
      ]
     },
     "execution_count": 213,
     "metadata": {},
     "output_type": "execute_result"
    }
   ],
   "source": [
    "encounter=encounter.join(patients,on=\"PATIENT_ID\")\n",
    "encounter"
   ]
  },
  {
   "cell_type": "code",
   "execution_count": 214,
   "metadata": {},
   "outputs": [],
   "source": [
    "#HOSPITALS"
   ]
  },
  {
   "cell_type": "code",
   "execution_count": 215,
   "metadata": {},
   "outputs": [
    {
     "data": {
      "text/html": [
       "<div>\n",
       "<style scoped>\n",
       "    .dataframe tbody tr th:only-of-type {\n",
       "        vertical-align: middle;\n",
       "    }\n",
       "\n",
       "    .dataframe tbody tr th {\n",
       "        vertical-align: top;\n",
       "    }\n",
       "\n",
       "    .dataframe thead th {\n",
       "        text-align: right;\n",
       "    }\n",
       "</style>\n",
       "<table border=\"1\" class=\"dataframe\">\n",
       "  <thead>\n",
       "    <tr style=\"text-align: right;\">\n",
       "      <th></th>\n",
       "      <th>Id</th>\n",
       "      <th>NAME</th>\n",
       "      <th>ADDRESS</th>\n",
       "      <th>CITY</th>\n",
       "      <th>STATE</th>\n",
       "      <th>ZIP</th>\n",
       "      <th>LAT</th>\n",
       "      <th>LON</th>\n",
       "      <th>PHONE</th>\n",
       "      <th>REVENUE</th>\n",
       "      <th>UTILIZATION</th>\n",
       "    </tr>\n",
       "  </thead>\n",
       "  <tbody>\n",
       "    <tr>\n",
       "      <th>205</th>\n",
       "      <td>59e287a5-d68e-3fcd-9147-37d797f40705</td>\n",
       "      <td>PCP17011</td>\n",
       "      <td>1044 GAR HWY</td>\n",
       "      <td>SWANSEA</td>\n",
       "      <td>MA</td>\n",
       "      <td>02777-4594</td>\n",
       "      <td>41.758163</td>\n",
       "      <td>-71.214181</td>\n",
       "      <td>508-675-7725</td>\n",
       "      <td>3616.48</td>\n",
       "      <td>28</td>\n",
       "    </tr>\n",
       "    <tr>\n",
       "      <th>894</th>\n",
       "      <td>43b77108-4547-3c72-96ec-799b063a0b4f</td>\n",
       "      <td>STEWARD MEDICAL GROUP  INC</td>\n",
       "      <td>736 CAMBRIDGE ST</td>\n",
       "      <td>BRIGHTON</td>\n",
       "      <td>MA</td>\n",
       "      <td>02135-2907</td>\n",
       "      <td>42.331960</td>\n",
       "      <td>-71.020173</td>\n",
       "      <td>NaN</td>\n",
       "      <td>4778.92</td>\n",
       "      <td>37</td>\n",
       "    </tr>\n",
       "    <tr>\n",
       "      <th>345</th>\n",
       "      <td>c7b763e8-052d-3730-b00d-dec9a948c4cf</td>\n",
       "      <td>PCP37117</td>\n",
       "      <td>9 FOSTER ST</td>\n",
       "      <td>WAKEFIELD</td>\n",
       "      <td>MA</td>\n",
       "      <td>01880-2936</td>\n",
       "      <td>42.504360</td>\n",
       "      <td>-71.064061</td>\n",
       "      <td>781-850-5535</td>\n",
       "      <td>4778.92</td>\n",
       "      <td>37</td>\n",
       "    </tr>\n",
       "  </tbody>\n",
       "</table>\n",
       "</div>"
      ],
      "text/plain": [
       "                                       Id                        NAME  \\\n",
       "205  59e287a5-d68e-3fcd-9147-37d797f40705                    PCP17011   \n",
       "894  43b77108-4547-3c72-96ec-799b063a0b4f  STEWARD MEDICAL GROUP  INC   \n",
       "345  c7b763e8-052d-3730-b00d-dec9a948c4cf                    PCP37117   \n",
       "\n",
       "              ADDRESS       CITY STATE         ZIP        LAT        LON  \\\n",
       "205      1044 GAR HWY    SWANSEA    MA  02777-4594  41.758163 -71.214181   \n",
       "894  736 CAMBRIDGE ST   BRIGHTON    MA  02135-2907  42.331960 -71.020173   \n",
       "345       9 FOSTER ST  WAKEFIELD    MA  01880-2936  42.504360 -71.064061   \n",
       "\n",
       "            PHONE  REVENUE  UTILIZATION  \n",
       "205  508-675-7725  3616.48           28  \n",
       "894           NaN  4778.92           37  \n",
       "345  781-850-5535  4778.92           37  "
      ]
     },
     "execution_count": 215,
     "metadata": {},
     "output_type": "execute_result"
    }
   ],
   "source": [
    "organisations=pd.read_csv(files[\"organizations\"])\n",
    "organisations.sample(3)"
   ]
  },
  {
   "cell_type": "code",
   "execution_count": 216,
   "metadata": {},
   "outputs": [
    {
     "data": {
      "text/html": [
       "<div>\n",
       "<style scoped>\n",
       "    .dataframe tbody tr th:only-of-type {\n",
       "        vertical-align: middle;\n",
       "    }\n",
       "\n",
       "    .dataframe tbody tr th {\n",
       "        vertical-align: top;\n",
       "    }\n",
       "\n",
       "    .dataframe thead th {\n",
       "        text-align: right;\n",
       "    }\n",
       "</style>\n",
       "<table border=\"1\" class=\"dataframe\">\n",
       "  <thead>\n",
       "    <tr style=\"text-align: right;\">\n",
       "      <th></th>\n",
       "      <th>ORG_NAME</th>\n",
       "      <th>ORG_CITY</th>\n",
       "      <th>REVENUE</th>\n",
       "    </tr>\n",
       "    <tr>\n",
       "      <th>ORG_ID</th>\n",
       "      <th></th>\n",
       "      <th></th>\n",
       "      <th></th>\n",
       "    </tr>\n",
       "  </thead>\n",
       "  <tbody>\n",
       "    <tr>\n",
       "      <th>a369fdd9-db24-3a43-9c8b-9b1679b55fc5</th>\n",
       "      <td>PCP21971</td>\n",
       "      <td>SOUTH HADLEY</td>\n",
       "      <td>5812.20</td>\n",
       "    </tr>\n",
       "    <tr>\n",
       "      <th>404561f7-7d54-3521-84db-bd836275fa9f</th>\n",
       "      <td>PCP34967</td>\n",
       "      <td>MALDEN</td>\n",
       "      <td>1420.76</td>\n",
       "    </tr>\n",
       "    <tr>\n",
       "      <th>ccafb5f7-0a90-3c10-9803-d2e8798178a4</th>\n",
       "      <td>PCP12382</td>\n",
       "      <td>MILTON</td>\n",
       "      <td>9687.00</td>\n",
       "    </tr>\n",
       "  </tbody>\n",
       "</table>\n",
       "</div>"
      ],
      "text/plain": [
       "                                      ORG_NAME      ORG_CITY  REVENUE\n",
       "ORG_ID                                                               \n",
       "a369fdd9-db24-3a43-9c8b-9b1679b55fc5  PCP21971  SOUTH HADLEY  5812.20\n",
       "404561f7-7d54-3521-84db-bd836275fa9f  PCP34967        MALDEN  1420.76\n",
       "ccafb5f7-0a90-3c10-9803-d2e8798178a4  PCP12382        MILTON  9687.00"
      ]
     },
     "execution_count": 216,
     "metadata": {},
     "output_type": "execute_result"
    }
   ],
   "source": [
    "organisations=organisations[[\"Id\",\"NAME\",\"CITY\",\"REVENUE\"]]\n",
    "organisations=organisations.rename(columns={\"NAME\":\"ORG_NAME\",\"Id\":\"ORG_ID\",\"CITY\":\"ORG_CITY\"})\n",
    "organisations=organisations.set_index(\"ORG_ID\")\n",
    "organisations.sample(3)"
   ]
  },
  {
   "cell_type": "code",
   "execution_count": 217,
   "metadata": {},
   "outputs": [
    {
     "data": {
      "text/html": [
       "<div>\n",
       "<style scoped>\n",
       "    .dataframe tbody tr th:only-of-type {\n",
       "        vertical-align: middle;\n",
       "    }\n",
       "\n",
       "    .dataframe tbody tr th {\n",
       "        vertical-align: top;\n",
       "    }\n",
       "\n",
       "    .dataframe thead th {\n",
       "        text-align: right;\n",
       "    }\n",
       "</style>\n",
       "<table border=\"1\" class=\"dataframe\">\n",
       "  <thead>\n",
       "    <tr style=\"text-align: right;\">\n",
       "      <th></th>\n",
       "      <th>Id</th>\n",
       "      <th>START</th>\n",
       "      <th>STOP</th>\n",
       "      <th>PATIENT_ID</th>\n",
       "      <th>ORG_ID</th>\n",
       "      <th>PROVIDER_ID</th>\n",
       "      <th>PAYER_ID</th>\n",
       "      <th>DESCRIPTION</th>\n",
       "      <th>REASON</th>\n",
       "      <th>BASE_ENCOUNTER_COST</th>\n",
       "      <th>PAYER_COVERAGE</th>\n",
       "      <th>ENCOUNTERCLASS</th>\n",
       "      <th>CITY</th>\n",
       "      <th>AGE</th>\n",
       "      <th>PATIENT_NAME</th>\n",
       "      <th>ORG_NAME</th>\n",
       "      <th>ORG_CITY</th>\n",
       "      <th>REVENUE</th>\n",
       "    </tr>\n",
       "  </thead>\n",
       "  <tbody>\n",
       "    <tr>\n",
       "      <th>0</th>\n",
       "      <td>d0c40d10-8d87-447e-836e-99d26ad52ea5</td>\n",
       "      <td>2010-01-23T17:45:28Z</td>\n",
       "      <td>2010-01-23T18:10:28Z</td>\n",
       "      <td>034e9e3b-2def-4559-bb2a-7850888ae060</td>\n",
       "      <td>e002090d-4e92-300e-b41e-7d1f21dee4c6</td>\n",
       "      <td>e6283e46-fd81-3611-9459-0edb1c3da357</td>\n",
       "      <td>6e2f1a2d-27bd-3701-8d08-dae202c58632</td>\n",
       "      <td>Encounter for symptom</td>\n",
       "      <td>Acute bronchitis (disorder)</td>\n",
       "      <td>129.16</td>\n",
       "      <td>54.16</td>\n",
       "      <td>ambulatory</td>\n",
       "      <td>Somerville</td>\n",
       "      <td>37.0</td>\n",
       "      <td>Milo271 Feil794</td>\n",
       "      <td>CAMBRIDGE HEALTH ALLIANCE</td>\n",
       "      <td>CAMBRIDGE</td>\n",
       "      <td>406053.19</td>\n",
       "    </tr>\n",
       "    <tr>\n",
       "      <th>1</th>\n",
       "      <td>e88bc3a9-007c-405e-aabc-792a38f4aa2b</td>\n",
       "      <td>2012-01-23T17:45:28Z</td>\n",
       "      <td>2012-01-23T18:00:28Z</td>\n",
       "      <td>034e9e3b-2def-4559-bb2a-7850888ae060</td>\n",
       "      <td>772ee193-bb9f-30eb-9939-21e86c8e4da5</td>\n",
       "      <td>6f1d59a7-a5bd-3cf9-9671-5bad2f351c28</td>\n",
       "      <td>6e2f1a2d-27bd-3701-8d08-dae202c58632</td>\n",
       "      <td>General examination of patient (procedure)</td>\n",
       "      <td>NaN</td>\n",
       "      <td>129.16</td>\n",
       "      <td>129.16</td>\n",
       "      <td>wellness</td>\n",
       "      <td>Somerville</td>\n",
       "      <td>37.0</td>\n",
       "      <td>Milo271 Feil794</td>\n",
       "      <td>PCP20565</td>\n",
       "      <td>CAMBRIDGE</td>\n",
       "      <td>4262.28</td>\n",
       "    </tr>\n",
       "    <tr>\n",
       "      <th>2</th>\n",
       "      <td>8f104aa7-4ca9-4473-885a-bba2437df588</td>\n",
       "      <td>2001-05-01T15:02:18Z</td>\n",
       "      <td>2001-05-01T15:17:18Z</td>\n",
       "      <td>1d604da9-9a81-4ba9-80c2-de3375d59b40</td>\n",
       "      <td>5d4b9df1-93ae-3bc9-b680-03249990e558</td>\n",
       "      <td>af01a385-31d3-3c77-8fdb-2867fe88df2f</td>\n",
       "      <td>b1c428d6-4f07-31e0-90f0-68ffa6ff8c76</td>\n",
       "      <td>Encounter for symptom</td>\n",
       "      <td>Sinusitis (disorder)</td>\n",
       "      <td>129.16</td>\n",
       "      <td>0.00</td>\n",
       "      <td>ambulatory</td>\n",
       "      <td>Chicopee</td>\n",
       "      <td>31.0</td>\n",
       "      <td>José Eduardo181 Gómez206</td>\n",
       "      <td>HOLYOKE MEDICAL CENTER</td>\n",
       "      <td>HOLYOKE</td>\n",
       "      <td>327601.37</td>\n",
       "    </tr>\n",
       "    <tr>\n",
       "      <th>3</th>\n",
       "      <td>b85c339a-6076-43ed-b9d0-9cf013dec49d</td>\n",
       "      <td>2011-07-28T15:02:18Z</td>\n",
       "      <td>2011-07-28T15:17:18Z</td>\n",
       "      <td>1d604da9-9a81-4ba9-80c2-de3375d59b40</td>\n",
       "      <td>3dc9bb2d-5d66-3e61-bf9a-e234c6433577</td>\n",
       "      <td>bb17e691-262b-3546-93d5-d88e7de93246</td>\n",
       "      <td>b1c428d6-4f07-31e0-90f0-68ffa6ff8c76</td>\n",
       "      <td>General examination of patient (procedure)</td>\n",
       "      <td>NaN</td>\n",
       "      <td>129.16</td>\n",
       "      <td>0.00</td>\n",
       "      <td>wellness</td>\n",
       "      <td>Chicopee</td>\n",
       "      <td>31.0</td>\n",
       "      <td>José Eduardo181 Gómez206</td>\n",
       "      <td>PCP12399</td>\n",
       "      <td>SOUTH HADLEY</td>\n",
       "      <td>7491.28</td>\n",
       "    </tr>\n",
       "    <tr>\n",
       "      <th>4</th>\n",
       "      <td>dae2b7cb-1316-4b78-954f-fa610a6c6d0e</td>\n",
       "      <td>2010-07-27T12:58:08Z</td>\n",
       "      <td>2010-07-27T13:28:08Z</td>\n",
       "      <td>10339b10-3cd1-4ac3-ac13-ec26728cb592</td>\n",
       "      <td>b03dba4f-892f-365c-bfd1-bfcfa7a98d5d</td>\n",
       "      <td>7ed6b84a-b847-3744-9d42-15c42297a0c2</td>\n",
       "      <td>d47b3510-2895-3b70-9897-342d681c769d</td>\n",
       "      <td>General examination of patient (procedure)</td>\n",
       "      <td>NaN</td>\n",
       "      <td>129.16</td>\n",
       "      <td>129.16</td>\n",
       "      <td>wellness</td>\n",
       "      <td>Chicopee</td>\n",
       "      <td>28.0</td>\n",
       "      <td>Jayson808 Fadel536</td>\n",
       "      <td>WESTERN MASS PHYSICIAN ASSOCIATES INC</td>\n",
       "      <td>CHICOPEE</td>\n",
       "      <td>7620.44</td>\n",
       "    </tr>\n",
       "    <tr>\n",
       "      <th>...</th>\n",
       "      <td>...</td>\n",
       "      <td>...</td>\n",
       "      <td>...</td>\n",
       "      <td>...</td>\n",
       "      <td>...</td>\n",
       "      <td>...</td>\n",
       "      <td>...</td>\n",
       "      <td>...</td>\n",
       "      <td>...</td>\n",
       "      <td>...</td>\n",
       "      <td>...</td>\n",
       "      <td>...</td>\n",
       "      <td>...</td>\n",
       "      <td>...</td>\n",
       "      <td>...</td>\n",
       "      <td>...</td>\n",
       "      <td>...</td>\n",
       "      <td>...</td>\n",
       "    </tr>\n",
       "    <tr>\n",
       "      <th>53341</th>\n",
       "      <td>bd3bfc3c-4f52-4d9c-aa01-60a084b2ddcd</td>\n",
       "      <td>2015-06-20T17:27:52Z</td>\n",
       "      <td>2015-06-20T17:57:52Z</td>\n",
       "      <td>fc817953-cc8b-45db-9c85-7c0ced8fa90d</td>\n",
       "      <td>a44b37da-aa9b-37f0-993e-26e58974e086</td>\n",
       "      <td>ff678a28-0ee8-379c-80ab-2dc790cf67dd</td>\n",
       "      <td>7caa7254-5050-3b5e-9eae-bd5ea30e809c</td>\n",
       "      <td>General examination of patient (procedure)</td>\n",
       "      <td>NaN</td>\n",
       "      <td>129.16</td>\n",
       "      <td>129.16</td>\n",
       "      <td>wellness</td>\n",
       "      <td>NaN</td>\n",
       "      <td>NaN</td>\n",
       "      <td>NaN</td>\n",
       "      <td>PCP27951</td>\n",
       "      <td>WESTWOOD</td>\n",
       "      <td>12141.04</td>\n",
       "    </tr>\n",
       "    <tr>\n",
       "      <th>53342</th>\n",
       "      <td>59727285-d30f-44e2-bcda-eac21ce07269</td>\n",
       "      <td>2016-06-25T17:27:52Z</td>\n",
       "      <td>2016-06-25T17:42:52Z</td>\n",
       "      <td>fc817953-cc8b-45db-9c85-7c0ced8fa90d</td>\n",
       "      <td>a44b37da-aa9b-37f0-993e-26e58974e086</td>\n",
       "      <td>ff678a28-0ee8-379c-80ab-2dc790cf67dd</td>\n",
       "      <td>7caa7254-5050-3b5e-9eae-bd5ea30e809c</td>\n",
       "      <td>General examination of patient (procedure)</td>\n",
       "      <td>NaN</td>\n",
       "      <td>129.16</td>\n",
       "      <td>129.16</td>\n",
       "      <td>wellness</td>\n",
       "      <td>NaN</td>\n",
       "      <td>NaN</td>\n",
       "      <td>NaN</td>\n",
       "      <td>PCP27951</td>\n",
       "      <td>WESTWOOD</td>\n",
       "      <td>12141.04</td>\n",
       "    </tr>\n",
       "    <tr>\n",
       "      <th>53343</th>\n",
       "      <td>957b13d5-49fa-4518-8c25-6eaa45e6a7d1</td>\n",
       "      <td>2017-07-01T17:27:52Z</td>\n",
       "      <td>2017-07-01T17:57:52Z</td>\n",
       "      <td>fc817953-cc8b-45db-9c85-7c0ced8fa90d</td>\n",
       "      <td>a44b37da-aa9b-37f0-993e-26e58974e086</td>\n",
       "      <td>ff678a28-0ee8-379c-80ab-2dc790cf67dd</td>\n",
       "      <td>7caa7254-5050-3b5e-9eae-bd5ea30e809c</td>\n",
       "      <td>General examination of patient (procedure)</td>\n",
       "      <td>NaN</td>\n",
       "      <td>129.16</td>\n",
       "      <td>129.16</td>\n",
       "      <td>wellness</td>\n",
       "      <td>NaN</td>\n",
       "      <td>NaN</td>\n",
       "      <td>NaN</td>\n",
       "      <td>PCP27951</td>\n",
       "      <td>WESTWOOD</td>\n",
       "      <td>12141.04</td>\n",
       "    </tr>\n",
       "    <tr>\n",
       "      <th>53344</th>\n",
       "      <td>5529a0d5-a24c-42b4-a32a-729e4d1f19ef</td>\n",
       "      <td>2018-07-07T17:27:52Z</td>\n",
       "      <td>2018-07-07T17:42:52Z</td>\n",
       "      <td>fc817953-cc8b-45db-9c85-7c0ced8fa90d</td>\n",
       "      <td>a44b37da-aa9b-37f0-993e-26e58974e086</td>\n",
       "      <td>ff678a28-0ee8-379c-80ab-2dc790cf67dd</td>\n",
       "      <td>7caa7254-5050-3b5e-9eae-bd5ea30e809c</td>\n",
       "      <td>General examination of patient (procedure)</td>\n",
       "      <td>NaN</td>\n",
       "      <td>129.16</td>\n",
       "      <td>129.16</td>\n",
       "      <td>wellness</td>\n",
       "      <td>NaN</td>\n",
       "      <td>NaN</td>\n",
       "      <td>NaN</td>\n",
       "      <td>PCP27951</td>\n",
       "      <td>WESTWOOD</td>\n",
       "      <td>12141.04</td>\n",
       "    </tr>\n",
       "    <tr>\n",
       "      <th>53345</th>\n",
       "      <td>1306d180-d887-4286-b940-9a6a2425cf93</td>\n",
       "      <td>2019-07-13T17:27:52Z</td>\n",
       "      <td>2019-07-13T17:57:52Z</td>\n",
       "      <td>fc817953-cc8b-45db-9c85-7c0ced8fa90d</td>\n",
       "      <td>a44b37da-aa9b-37f0-993e-26e58974e086</td>\n",
       "      <td>ff678a28-0ee8-379c-80ab-2dc790cf67dd</td>\n",
       "      <td>7caa7254-5050-3b5e-9eae-bd5ea30e809c</td>\n",
       "      <td>General examination of patient (procedure)</td>\n",
       "      <td>NaN</td>\n",
       "      <td>129.16</td>\n",
       "      <td>129.16</td>\n",
       "      <td>wellness</td>\n",
       "      <td>NaN</td>\n",
       "      <td>NaN</td>\n",
       "      <td>NaN</td>\n",
       "      <td>PCP27951</td>\n",
       "      <td>WESTWOOD</td>\n",
       "      <td>12141.04</td>\n",
       "    </tr>\n",
       "  </tbody>\n",
       "</table>\n",
       "<p>53346 rows × 18 columns</p>\n",
       "</div>"
      ],
      "text/plain": [
       "                                         Id                 START  \\\n",
       "0      d0c40d10-8d87-447e-836e-99d26ad52ea5  2010-01-23T17:45:28Z   \n",
       "1      e88bc3a9-007c-405e-aabc-792a38f4aa2b  2012-01-23T17:45:28Z   \n",
       "2      8f104aa7-4ca9-4473-885a-bba2437df588  2001-05-01T15:02:18Z   \n",
       "3      b85c339a-6076-43ed-b9d0-9cf013dec49d  2011-07-28T15:02:18Z   \n",
       "4      dae2b7cb-1316-4b78-954f-fa610a6c6d0e  2010-07-27T12:58:08Z   \n",
       "...                                     ...                   ...   \n",
       "53341  bd3bfc3c-4f52-4d9c-aa01-60a084b2ddcd  2015-06-20T17:27:52Z   \n",
       "53342  59727285-d30f-44e2-bcda-eac21ce07269  2016-06-25T17:27:52Z   \n",
       "53343  957b13d5-49fa-4518-8c25-6eaa45e6a7d1  2017-07-01T17:27:52Z   \n",
       "53344  5529a0d5-a24c-42b4-a32a-729e4d1f19ef  2018-07-07T17:27:52Z   \n",
       "53345  1306d180-d887-4286-b940-9a6a2425cf93  2019-07-13T17:27:52Z   \n",
       "\n",
       "                       STOP                            PATIENT_ID  \\\n",
       "0      2010-01-23T18:10:28Z  034e9e3b-2def-4559-bb2a-7850888ae060   \n",
       "1      2012-01-23T18:00:28Z  034e9e3b-2def-4559-bb2a-7850888ae060   \n",
       "2      2001-05-01T15:17:18Z  1d604da9-9a81-4ba9-80c2-de3375d59b40   \n",
       "3      2011-07-28T15:17:18Z  1d604da9-9a81-4ba9-80c2-de3375d59b40   \n",
       "4      2010-07-27T13:28:08Z  10339b10-3cd1-4ac3-ac13-ec26728cb592   \n",
       "...                     ...                                   ...   \n",
       "53341  2015-06-20T17:57:52Z  fc817953-cc8b-45db-9c85-7c0ced8fa90d   \n",
       "53342  2016-06-25T17:42:52Z  fc817953-cc8b-45db-9c85-7c0ced8fa90d   \n",
       "53343  2017-07-01T17:57:52Z  fc817953-cc8b-45db-9c85-7c0ced8fa90d   \n",
       "53344  2018-07-07T17:42:52Z  fc817953-cc8b-45db-9c85-7c0ced8fa90d   \n",
       "53345  2019-07-13T17:57:52Z  fc817953-cc8b-45db-9c85-7c0ced8fa90d   \n",
       "\n",
       "                                     ORG_ID  \\\n",
       "0      e002090d-4e92-300e-b41e-7d1f21dee4c6   \n",
       "1      772ee193-bb9f-30eb-9939-21e86c8e4da5   \n",
       "2      5d4b9df1-93ae-3bc9-b680-03249990e558   \n",
       "3      3dc9bb2d-5d66-3e61-bf9a-e234c6433577   \n",
       "4      b03dba4f-892f-365c-bfd1-bfcfa7a98d5d   \n",
       "...                                     ...   \n",
       "53341  a44b37da-aa9b-37f0-993e-26e58974e086   \n",
       "53342  a44b37da-aa9b-37f0-993e-26e58974e086   \n",
       "53343  a44b37da-aa9b-37f0-993e-26e58974e086   \n",
       "53344  a44b37da-aa9b-37f0-993e-26e58974e086   \n",
       "53345  a44b37da-aa9b-37f0-993e-26e58974e086   \n",
       "\n",
       "                                PROVIDER_ID  \\\n",
       "0      e6283e46-fd81-3611-9459-0edb1c3da357   \n",
       "1      6f1d59a7-a5bd-3cf9-9671-5bad2f351c28   \n",
       "2      af01a385-31d3-3c77-8fdb-2867fe88df2f   \n",
       "3      bb17e691-262b-3546-93d5-d88e7de93246   \n",
       "4      7ed6b84a-b847-3744-9d42-15c42297a0c2   \n",
       "...                                     ...   \n",
       "53341  ff678a28-0ee8-379c-80ab-2dc790cf67dd   \n",
       "53342  ff678a28-0ee8-379c-80ab-2dc790cf67dd   \n",
       "53343  ff678a28-0ee8-379c-80ab-2dc790cf67dd   \n",
       "53344  ff678a28-0ee8-379c-80ab-2dc790cf67dd   \n",
       "53345  ff678a28-0ee8-379c-80ab-2dc790cf67dd   \n",
       "\n",
       "                                   PAYER_ID  \\\n",
       "0      6e2f1a2d-27bd-3701-8d08-dae202c58632   \n",
       "1      6e2f1a2d-27bd-3701-8d08-dae202c58632   \n",
       "2      b1c428d6-4f07-31e0-90f0-68ffa6ff8c76   \n",
       "3      b1c428d6-4f07-31e0-90f0-68ffa6ff8c76   \n",
       "4      d47b3510-2895-3b70-9897-342d681c769d   \n",
       "...                                     ...   \n",
       "53341  7caa7254-5050-3b5e-9eae-bd5ea30e809c   \n",
       "53342  7caa7254-5050-3b5e-9eae-bd5ea30e809c   \n",
       "53343  7caa7254-5050-3b5e-9eae-bd5ea30e809c   \n",
       "53344  7caa7254-5050-3b5e-9eae-bd5ea30e809c   \n",
       "53345  7caa7254-5050-3b5e-9eae-bd5ea30e809c   \n",
       "\n",
       "                                      DESCRIPTION  \\\n",
       "0                           Encounter for symptom   \n",
       "1      General examination of patient (procedure)   \n",
       "2                           Encounter for symptom   \n",
       "3      General examination of patient (procedure)   \n",
       "4      General examination of patient (procedure)   \n",
       "...                                           ...   \n",
       "53341  General examination of patient (procedure)   \n",
       "53342  General examination of patient (procedure)   \n",
       "53343  General examination of patient (procedure)   \n",
       "53344  General examination of patient (procedure)   \n",
       "53345  General examination of patient (procedure)   \n",
       "\n",
       "                            REASON  BASE_ENCOUNTER_COST  PAYER_COVERAGE  \\\n",
       "0      Acute bronchitis (disorder)               129.16           54.16   \n",
       "1                              NaN               129.16          129.16   \n",
       "2             Sinusitis (disorder)               129.16            0.00   \n",
       "3                              NaN               129.16            0.00   \n",
       "4                              NaN               129.16          129.16   \n",
       "...                            ...                  ...             ...   \n",
       "53341                          NaN               129.16          129.16   \n",
       "53342                          NaN               129.16          129.16   \n",
       "53343                          NaN               129.16          129.16   \n",
       "53344                          NaN               129.16          129.16   \n",
       "53345                          NaN               129.16          129.16   \n",
       "\n",
       "      ENCOUNTERCLASS        CITY   AGE              PATIENT_NAME  \\\n",
       "0         ambulatory  Somerville  37.0           Milo271 Feil794   \n",
       "1           wellness  Somerville  37.0           Milo271 Feil794   \n",
       "2         ambulatory    Chicopee  31.0  José Eduardo181 Gómez206   \n",
       "3           wellness    Chicopee  31.0  José Eduardo181 Gómez206   \n",
       "4           wellness    Chicopee  28.0        Jayson808 Fadel536   \n",
       "...              ...         ...   ...                       ...   \n",
       "53341       wellness         NaN   NaN                       NaN   \n",
       "53342       wellness         NaN   NaN                       NaN   \n",
       "53343       wellness         NaN   NaN                       NaN   \n",
       "53344       wellness         NaN   NaN                       NaN   \n",
       "53345       wellness         NaN   NaN                       NaN   \n",
       "\n",
       "                                    ORG_NAME      ORG_CITY    REVENUE  \n",
       "0                  CAMBRIDGE HEALTH ALLIANCE     CAMBRIDGE  406053.19  \n",
       "1                                   PCP20565     CAMBRIDGE    4262.28  \n",
       "2                     HOLYOKE MEDICAL CENTER       HOLYOKE  327601.37  \n",
       "3                                   PCP12399  SOUTH HADLEY    7491.28  \n",
       "4      WESTERN MASS PHYSICIAN ASSOCIATES INC      CHICOPEE    7620.44  \n",
       "...                                      ...           ...        ...  \n",
       "53341                               PCP27951      WESTWOOD   12141.04  \n",
       "53342                               PCP27951      WESTWOOD   12141.04  \n",
       "53343                               PCP27951      WESTWOOD   12141.04  \n",
       "53344                               PCP27951      WESTWOOD   12141.04  \n",
       "53345                               PCP27951      WESTWOOD   12141.04  \n",
       "\n",
       "[53346 rows x 18 columns]"
      ]
     },
     "execution_count": 217,
     "metadata": {},
     "output_type": "execute_result"
    }
   ],
   "source": [
    "encounter=encounter.join(organisations,on=\"ORG_ID\")\n",
    "encounter"
   ]
  },
  {
   "cell_type": "code",
   "execution_count": 218,
   "metadata": {},
   "outputs": [],
   "source": [
    "# HEALTHCARE PROFESSIONALS"
   ]
  },
  {
   "cell_type": "code",
   "execution_count": 219,
   "metadata": {},
   "outputs": [
    {
     "data": {
      "text/html": [
       "<div>\n",
       "<style scoped>\n",
       "    .dataframe tbody tr th:only-of-type {\n",
       "        vertical-align: middle;\n",
       "    }\n",
       "\n",
       "    .dataframe tbody tr th {\n",
       "        vertical-align: top;\n",
       "    }\n",
       "\n",
       "    .dataframe thead th {\n",
       "        text-align: right;\n",
       "    }\n",
       "</style>\n",
       "<table border=\"1\" class=\"dataframe\">\n",
       "  <thead>\n",
       "    <tr style=\"text-align: right;\">\n",
       "      <th></th>\n",
       "      <th>Id</th>\n",
       "      <th>ORGANIZATION</th>\n",
       "      <th>NAME</th>\n",
       "      <th>GENDER</th>\n",
       "      <th>SPECIALITY</th>\n",
       "      <th>ADDRESS</th>\n",
       "      <th>CITY</th>\n",
       "      <th>STATE</th>\n",
       "      <th>ZIP</th>\n",
       "      <th>LAT</th>\n",
       "      <th>LON</th>\n",
       "      <th>UTILIZATION</th>\n",
       "    </tr>\n",
       "  </thead>\n",
       "  <tbody>\n",
       "    <tr>\n",
       "      <th>5195</th>\n",
       "      <td>3e2d5464-8eb6-3598-b1d1-70c8418c395b</td>\n",
       "      <td>03309df6-cdd9-30cf-92a2-f3621d95c917</td>\n",
       "      <td>Millard193 Cartwright189</td>\n",
       "      <td>M</td>\n",
       "      <td>GENERAL PRACTICE</td>\n",
       "      <td>1681 WASHINGTON ST</td>\n",
       "      <td>BRAINTREE</td>\n",
       "      <td>MA</td>\n",
       "      <td>02184-7948</td>\n",
       "      <td>42.205416</td>\n",
       "      <td>-71.002168</td>\n",
       "      <td>71</td>\n",
       "    </tr>\n",
       "    <tr>\n",
       "      <th>5434</th>\n",
       "      <td>0c86c5cb-c3b1-3489-8743-67bde8520d19</td>\n",
       "      <td>a74a9d9d-093c-350b-8ad4-4092eb6d29f7</td>\n",
       "      <td>Francis500 Leuschke194</td>\n",
       "      <td>M</td>\n",
       "      <td>CLINICAL NURSE SPECIALIST</td>\n",
       "      <td>259 EXCHANGE ST</td>\n",
       "      <td>CHICOPEE</td>\n",
       "      <td>MA</td>\n",
       "      <td>01013-1679</td>\n",
       "      <td>42.175668</td>\n",
       "      <td>-72.572257</td>\n",
       "      <td>0</td>\n",
       "    </tr>\n",
       "    <tr>\n",
       "      <th>5317</th>\n",
       "      <td>e5a405e1-ed26-37c7-8ee8-5e2a2fdf889c</td>\n",
       "      <td>eecf520b-fa40-39cd-a3f1-8d2891476257</td>\n",
       "      <td>Laree109 Macejkovic424</td>\n",
       "      <td>F</td>\n",
       "      <td>NURSE PRACTITIONER</td>\n",
       "      <td>1880 OCEAN ST</td>\n",
       "      <td>MARSHFIELD</td>\n",
       "      <td>MA</td>\n",
       "      <td>02050-4906</td>\n",
       "      <td>42.115139</td>\n",
       "      <td>-70.710331</td>\n",
       "      <td>0</td>\n",
       "    </tr>\n",
       "  </tbody>\n",
       "</table>\n",
       "</div>"
      ],
      "text/plain": [
       "                                        Id  \\\n",
       "5195  3e2d5464-8eb6-3598-b1d1-70c8418c395b   \n",
       "5434  0c86c5cb-c3b1-3489-8743-67bde8520d19   \n",
       "5317  e5a405e1-ed26-37c7-8ee8-5e2a2fdf889c   \n",
       "\n",
       "                              ORGANIZATION                      NAME GENDER  \\\n",
       "5195  03309df6-cdd9-30cf-92a2-f3621d95c917  Millard193 Cartwright189      M   \n",
       "5434  a74a9d9d-093c-350b-8ad4-4092eb6d29f7    Francis500 Leuschke194      M   \n",
       "5317  eecf520b-fa40-39cd-a3f1-8d2891476257    Laree109 Macejkovic424      F   \n",
       "\n",
       "                     SPECIALITY             ADDRESS        CITY STATE  \\\n",
       "5195           GENERAL PRACTICE  1681 WASHINGTON ST   BRAINTREE    MA   \n",
       "5434  CLINICAL NURSE SPECIALIST     259 EXCHANGE ST    CHICOPEE    MA   \n",
       "5317         NURSE PRACTITIONER       1880 OCEAN ST  MARSHFIELD    MA   \n",
       "\n",
       "             ZIP        LAT        LON  UTILIZATION  \n",
       "5195  02184-7948  42.205416 -71.002168           71  \n",
       "5434  01013-1679  42.175668 -72.572257            0  \n",
       "5317  02050-4906  42.115139 -70.710331            0  "
      ]
     },
     "execution_count": 219,
     "metadata": {},
     "output_type": "execute_result"
    }
   ],
   "source": [
    "providers=pd.read_csv(files[\"providers\"])\n",
    "providers.sample(3)"
   ]
  },
  {
   "cell_type": "code",
   "execution_count": 220,
   "metadata": {},
   "outputs": [
    {
     "data": {
      "text/html": [
       "<div>\n",
       "<style scoped>\n",
       "    .dataframe tbody tr th:only-of-type {\n",
       "        vertical-align: middle;\n",
       "    }\n",
       "\n",
       "    .dataframe tbody tr th {\n",
       "        vertical-align: top;\n",
       "    }\n",
       "\n",
       "    .dataframe thead th {\n",
       "        text-align: right;\n",
       "    }\n",
       "</style>\n",
       "<table border=\"1\" class=\"dataframe\">\n",
       "  <thead>\n",
       "    <tr style=\"text-align: right;\">\n",
       "      <th></th>\n",
       "      <th>PROVIDER_NAME</th>\n",
       "      <th>GENDER</th>\n",
       "      <th>SPECIALITY</th>\n",
       "    </tr>\n",
       "    <tr>\n",
       "      <th>PROVIDER_ID</th>\n",
       "      <th></th>\n",
       "      <th></th>\n",
       "      <th></th>\n",
       "    </tr>\n",
       "  </thead>\n",
       "  <tbody>\n",
       "    <tr>\n",
       "      <th>65409471-94e2-33ec-98b9-cea4b4db0904</th>\n",
       "      <td>Jaunita130 Wyman904</td>\n",
       "      <td>F</td>\n",
       "      <td>INTERNAL MEDICINE</td>\n",
       "    </tr>\n",
       "    <tr>\n",
       "      <th>9fd1da1e-8bd8-3663-8af4-4e0df72f9b76</th>\n",
       "      <td>Paige606 Schinner682</td>\n",
       "      <td>F</td>\n",
       "      <td>NURSE PRACTITIONER</td>\n",
       "    </tr>\n",
       "    <tr>\n",
       "      <th>e124e3c4-724e-355f-a495-9de89239f1e5</th>\n",
       "      <td>Cathleen724 Jacobs452</td>\n",
       "      <td>F</td>\n",
       "      <td>CLINICAL PSYCHOLOGIST</td>\n",
       "    </tr>\n",
       "  </tbody>\n",
       "</table>\n",
       "</div>"
      ],
      "text/plain": [
       "                                              PROVIDER_NAME GENDER  \\\n",
       "PROVIDER_ID                                                          \n",
       "65409471-94e2-33ec-98b9-cea4b4db0904    Jaunita130 Wyman904      F   \n",
       "9fd1da1e-8bd8-3663-8af4-4e0df72f9b76   Paige606 Schinner682      F   \n",
       "e124e3c4-724e-355f-a495-9de89239f1e5  Cathleen724 Jacobs452      F   \n",
       "\n",
       "                                                 SPECIALITY  \n",
       "PROVIDER_ID                                                  \n",
       "65409471-94e2-33ec-98b9-cea4b4db0904      INTERNAL MEDICINE  \n",
       "9fd1da1e-8bd8-3663-8af4-4e0df72f9b76     NURSE PRACTITIONER  \n",
       "e124e3c4-724e-355f-a495-9de89239f1e5  CLINICAL PSYCHOLOGIST  "
      ]
     },
     "execution_count": 220,
     "metadata": {},
     "output_type": "execute_result"
    }
   ],
   "source": [
    "providers=providers[[\"Id\",\"NAME\",\"GENDER\",\"SPECIALITY\"]]\n",
    "providers=providers.rename(columns={\"NAME\":\"PROVIDER_NAME\",\"Id\":\"PROVIDER_ID\"})\n",
    "providers=providers.set_index(\"PROVIDER_ID\")\n",
    "providers.sample(3)"
   ]
  },
  {
   "cell_type": "code",
   "execution_count": 221,
   "metadata": {},
   "outputs": [
    {
     "data": {
      "text/html": [
       "<div>\n",
       "<style scoped>\n",
       "    .dataframe tbody tr th:only-of-type {\n",
       "        vertical-align: middle;\n",
       "    }\n",
       "\n",
       "    .dataframe tbody tr th {\n",
       "        vertical-align: top;\n",
       "    }\n",
       "\n",
       "    .dataframe thead th {\n",
       "        text-align: right;\n",
       "    }\n",
       "</style>\n",
       "<table border=\"1\" class=\"dataframe\">\n",
       "  <thead>\n",
       "    <tr style=\"text-align: right;\">\n",
       "      <th></th>\n",
       "      <th>Id</th>\n",
       "      <th>START</th>\n",
       "      <th>STOP</th>\n",
       "      <th>PATIENT_ID</th>\n",
       "      <th>ORG_ID</th>\n",
       "      <th>PROVIDER_ID</th>\n",
       "      <th>PAYER_ID</th>\n",
       "      <th>DESCRIPTION</th>\n",
       "      <th>REASON</th>\n",
       "      <th>BASE_ENCOUNTER_COST</th>\n",
       "      <th>...</th>\n",
       "      <th>ENCOUNTERCLASS</th>\n",
       "      <th>CITY</th>\n",
       "      <th>AGE</th>\n",
       "      <th>PATIENT_NAME</th>\n",
       "      <th>ORG_NAME</th>\n",
       "      <th>ORG_CITY</th>\n",
       "      <th>REVENUE</th>\n",
       "      <th>PROVIDER_NAME</th>\n",
       "      <th>GENDER</th>\n",
       "      <th>SPECIALITY</th>\n",
       "    </tr>\n",
       "  </thead>\n",
       "  <tbody>\n",
       "    <tr>\n",
       "      <th>48420</th>\n",
       "      <td>cfe27536-499b-46dd-b025-1cc59e32c5f8</td>\n",
       "      <td>2012-09-14T22:37:34Z</td>\n",
       "      <td>2012-09-15T23:37:34Z</td>\n",
       "      <td>5cb510f1-244d-4f02-a82b-3631e998fad1</td>\n",
       "      <td>5259a506-b80b-3ed5-9c30-83188eabf33e</td>\n",
       "      <td>3a65bdb3-12b2-3247-8e8a-0e34d295c736</td>\n",
       "      <td>7caa7254-5050-3b5e-9eae-bd5ea30e809c</td>\n",
       "      <td>Encounter for problem</td>\n",
       "      <td>NaN</td>\n",
       "      <td>129.16</td>\n",
       "      <td>...</td>\n",
       "      <td>inpatient</td>\n",
       "      <td>Fitchburg</td>\n",
       "      <td>81.0</td>\n",
       "      <td>Chi716 Johnston597</td>\n",
       "      <td>Fitchburg Outpatient Clinic</td>\n",
       "      <td>Fitchburg</td>\n",
       "      <td>75816.92</td>\n",
       "      <td>Von197 Mraz590</td>\n",
       "      <td>M</td>\n",
       "      <td>GENERAL PRACTICE</td>\n",
       "    </tr>\n",
       "    <tr>\n",
       "      <th>5877</th>\n",
       "      <td>7d20dfbb-314f-4d58-ad76-857c39a1e510</td>\n",
       "      <td>2019-12-31T02:44:23Z</td>\n",
       "      <td>2019-12-31T03:44:23Z</td>\n",
       "      <td>9423451c-8c37-4700-a059-f8c2f9c636b0</td>\n",
       "      <td>d5117822-5756-389d-9547-891a372d580f</td>\n",
       "      <td>0f365bed-2aa2-3340-974f-3fcf51fd477a</td>\n",
       "      <td>b1c428d6-4f07-31e0-90f0-68ffa6ff8c76</td>\n",
       "      <td>Prenatal visit</td>\n",
       "      <td>Normal pregnancy</td>\n",
       "      <td>129.16</td>\n",
       "      <td>...</td>\n",
       "      <td>ambulatory</td>\n",
       "      <td>Barnstable</td>\n",
       "      <td>21.0</td>\n",
       "      <td>Altha90 Rolfson709</td>\n",
       "      <td>FALMOUTH HOSPITAL</td>\n",
       "      <td>FALMOUTH</td>\n",
       "      <td>215283.45</td>\n",
       "      <td>Donita707 Ward668</td>\n",
       "      <td>F</td>\n",
       "      <td>GENERAL PRACTICE</td>\n",
       "    </tr>\n",
       "    <tr>\n",
       "      <th>43389</th>\n",
       "      <td>4d975e85-b061-4288-848d-e74a74a4bbc8</td>\n",
       "      <td>2016-10-22T13:46:06Z</td>\n",
       "      <td>2016-10-22T14:11:06Z</td>\n",
       "      <td>fc448035-8fc9-4893-b4eb-d1b90fc8742c</td>\n",
       "      <td>d7b11827-25f2-350b-bcd8-939fc59851b0</td>\n",
       "      <td>dacc925e-e4ae-38ab-9f7c-76c15f293c0c</td>\n",
       "      <td>b1c428d6-4f07-31e0-90f0-68ffa6ff8c76</td>\n",
       "      <td>Patient encounter procedure</td>\n",
       "      <td>NaN</td>\n",
       "      <td>129.16</td>\n",
       "      <td>...</td>\n",
       "      <td>outpatient</td>\n",
       "      <td>Boston</td>\n",
       "      <td>29.0</td>\n",
       "      <td>Virginia437 Calvillo618</td>\n",
       "      <td>BOSTON CHILDREN'S HOSPITAL</td>\n",
       "      <td>BOSTON</td>\n",
       "      <td>51793.16</td>\n",
       "      <td>Tisha655 Dickens475</td>\n",
       "      <td>F</td>\n",
       "      <td>GENERAL PRACTICE</td>\n",
       "    </tr>\n",
       "  </tbody>\n",
       "</table>\n",
       "<p>3 rows × 21 columns</p>\n",
       "</div>"
      ],
      "text/plain": [
       "                                         Id                 START  \\\n",
       "48420  cfe27536-499b-46dd-b025-1cc59e32c5f8  2012-09-14T22:37:34Z   \n",
       "5877   7d20dfbb-314f-4d58-ad76-857c39a1e510  2019-12-31T02:44:23Z   \n",
       "43389  4d975e85-b061-4288-848d-e74a74a4bbc8  2016-10-22T13:46:06Z   \n",
       "\n",
       "                       STOP                            PATIENT_ID  \\\n",
       "48420  2012-09-15T23:37:34Z  5cb510f1-244d-4f02-a82b-3631e998fad1   \n",
       "5877   2019-12-31T03:44:23Z  9423451c-8c37-4700-a059-f8c2f9c636b0   \n",
       "43389  2016-10-22T14:11:06Z  fc448035-8fc9-4893-b4eb-d1b90fc8742c   \n",
       "\n",
       "                                     ORG_ID  \\\n",
       "48420  5259a506-b80b-3ed5-9c30-83188eabf33e   \n",
       "5877   d5117822-5756-389d-9547-891a372d580f   \n",
       "43389  d7b11827-25f2-350b-bcd8-939fc59851b0   \n",
       "\n",
       "                                PROVIDER_ID  \\\n",
       "48420  3a65bdb3-12b2-3247-8e8a-0e34d295c736   \n",
       "5877   0f365bed-2aa2-3340-974f-3fcf51fd477a   \n",
       "43389  dacc925e-e4ae-38ab-9f7c-76c15f293c0c   \n",
       "\n",
       "                                   PAYER_ID                  DESCRIPTION  \\\n",
       "48420  7caa7254-5050-3b5e-9eae-bd5ea30e809c        Encounter for problem   \n",
       "5877   b1c428d6-4f07-31e0-90f0-68ffa6ff8c76               Prenatal visit   \n",
       "43389  b1c428d6-4f07-31e0-90f0-68ffa6ff8c76  Patient encounter procedure   \n",
       "\n",
       "                 REASON  BASE_ENCOUNTER_COST  ...  ENCOUNTERCLASS        CITY  \\\n",
       "48420               NaN               129.16  ...       inpatient   Fitchburg   \n",
       "5877   Normal pregnancy               129.16  ...      ambulatory  Barnstable   \n",
       "43389               NaN               129.16  ...      outpatient      Boston   \n",
       "\n",
       "        AGE             PATIENT_NAME                     ORG_NAME   ORG_CITY  \\\n",
       "48420  81.0       Chi716 Johnston597  Fitchburg Outpatient Clinic  Fitchburg   \n",
       "5877   21.0       Altha90 Rolfson709            FALMOUTH HOSPITAL   FALMOUTH   \n",
       "43389  29.0  Virginia437 Calvillo618   BOSTON CHILDREN'S HOSPITAL     BOSTON   \n",
       "\n",
       "         REVENUE        PROVIDER_NAME GENDER        SPECIALITY  \n",
       "48420   75816.92       Von197 Mraz590      M  GENERAL PRACTICE  \n",
       "5877   215283.45    Donita707 Ward668      F  GENERAL PRACTICE  \n",
       "43389   51793.16  Tisha655 Dickens475      F  GENERAL PRACTICE  \n",
       "\n",
       "[3 rows x 21 columns]"
      ]
     },
     "execution_count": 221,
     "metadata": {},
     "output_type": "execute_result"
    }
   ],
   "source": [
    "# join provider and hospitals\n",
    "encounter=encounter.join(providers,on=\"PROVIDER_ID\")\n",
    "encounter.sample(3)"
   ]
  },
  {
   "cell_type": "code",
   "execution_count": 222,
   "metadata": {},
   "outputs": [
    {
     "data": {
      "text/html": [
       "<div>\n",
       "<style scoped>\n",
       "    .dataframe tbody tr th:only-of-type {\n",
       "        vertical-align: middle;\n",
       "    }\n",
       "\n",
       "    .dataframe tbody tr th {\n",
       "        vertical-align: top;\n",
       "    }\n",
       "\n",
       "    .dataframe thead th {\n",
       "        text-align: right;\n",
       "    }\n",
       "</style>\n",
       "<table border=\"1\" class=\"dataframe\">\n",
       "  <thead>\n",
       "    <tr style=\"text-align: right;\">\n",
       "      <th></th>\n",
       "      <th>Id</th>\n",
       "      <th>NAME</th>\n",
       "      <th>ADDRESS</th>\n",
       "      <th>CITY</th>\n",
       "      <th>STATE_HEADQUARTERED</th>\n",
       "      <th>ZIP</th>\n",
       "      <th>PHONE</th>\n",
       "      <th>AMOUNT_COVERED</th>\n",
       "      <th>AMOUNT_UNCOVERED</th>\n",
       "      <th>REVENUE</th>\n",
       "      <th>...</th>\n",
       "      <th>UNCOVERED_ENCOUNTERS</th>\n",
       "      <th>COVERED_MEDICATIONS</th>\n",
       "      <th>UNCOVERED_MEDICATIONS</th>\n",
       "      <th>COVERED_PROCEDURES</th>\n",
       "      <th>UNCOVERED_PROCEDURES</th>\n",
       "      <th>COVERED_IMMUNIZATIONS</th>\n",
       "      <th>UNCOVERED_IMMUNIZATIONS</th>\n",
       "      <th>UNIQUE_CUSTOMERS</th>\n",
       "      <th>QOLS_AVG</th>\n",
       "      <th>MEMBER_MONTHS</th>\n",
       "    </tr>\n",
       "  </thead>\n",
       "  <tbody>\n",
       "    <tr>\n",
       "      <th>8</th>\n",
       "      <td>42c4fca7-f8a9-3cd1-982a-dd9751bf3e2a</td>\n",
       "      <td>Anthem</td>\n",
       "      <td>220 Virginia Ave</td>\n",
       "      <td>Indianapolis</td>\n",
       "      <td>IN</td>\n",
       "      <td>46204.0</td>\n",
       "      <td>1-800-331-1476</td>\n",
       "      <td>526943.60</td>\n",
       "      <td>258995.00</td>\n",
       "      <td>152248800.0</td>\n",
       "      <td>...</td>\n",
       "      <td>7422</td>\n",
       "      <td>0</td>\n",
       "      <td>3912</td>\n",
       "      <td>2841</td>\n",
       "      <td>10142</td>\n",
       "      <td>6664</td>\n",
       "      <td>151</td>\n",
       "      <td>283</td>\n",
       "      <td>0.932301</td>\n",
       "      <td>69816</td>\n",
       "    </tr>\n",
       "    <tr>\n",
       "      <th>3</th>\n",
       "      <td>d47b3510-2895-3b70-9897-342d681c769d</td>\n",
       "      <td>Humana</td>\n",
       "      <td>500 West Main St</td>\n",
       "      <td>Louisville</td>\n",
       "      <td>KY</td>\n",
       "      <td>40018.0</td>\n",
       "      <td>1-844-330-7799</td>\n",
       "      <td>716971.60</td>\n",
       "      <td>842531.43</td>\n",
       "      <td>118500200.0</td>\n",
       "      <td>...</td>\n",
       "      <td>1796</td>\n",
       "      <td>0</td>\n",
       "      <td>4985</td>\n",
       "      <td>12718</td>\n",
       "      <td>550</td>\n",
       "      <td>6832</td>\n",
       "      <td>195</td>\n",
       "      <td>281</td>\n",
       "      <td>0.911843</td>\n",
       "      <td>70308</td>\n",
       "    </tr>\n",
       "    <tr>\n",
       "      <th>2</th>\n",
       "      <td>7c4411ce-02f1-39b5-b9ec-dfbea9ad3c1a</td>\n",
       "      <td>Medicaid</td>\n",
       "      <td>7500 Security Blvd</td>\n",
       "      <td>Baltimore</td>\n",
       "      <td>MD</td>\n",
       "      <td>21244.0</td>\n",
       "      <td>1-877-267-2323</td>\n",
       "      <td>3636994.03</td>\n",
       "      <td>1814967.93</td>\n",
       "      <td>20365500.0</td>\n",
       "      <td>...</td>\n",
       "      <td>0</td>\n",
       "      <td>6382</td>\n",
       "      <td>0</td>\n",
       "      <td>47611</td>\n",
       "      <td>0</td>\n",
       "      <td>7022</td>\n",
       "      <td>0</td>\n",
       "      <td>507</td>\n",
       "      <td>0.812137</td>\n",
       "      <td>84276</td>\n",
       "    </tr>\n",
       "  </tbody>\n",
       "</table>\n",
       "<p>3 rows × 21 columns</p>\n",
       "</div>"
      ],
      "text/plain": [
       "                                     Id      NAME             ADDRESS  \\\n",
       "8  42c4fca7-f8a9-3cd1-982a-dd9751bf3e2a    Anthem    220 Virginia Ave   \n",
       "3  d47b3510-2895-3b70-9897-342d681c769d    Humana    500 West Main St   \n",
       "2  7c4411ce-02f1-39b5-b9ec-dfbea9ad3c1a  Medicaid  7500 Security Blvd   \n",
       "\n",
       "           CITY STATE_HEADQUARTERED      ZIP           PHONE  AMOUNT_COVERED  \\\n",
       "8  Indianapolis                  IN  46204.0  1-800-331-1476       526943.60   \n",
       "3    Louisville                  KY  40018.0  1-844-330-7799       716971.60   \n",
       "2     Baltimore                  MD  21244.0  1-877-267-2323      3636994.03   \n",
       "\n",
       "   AMOUNT_UNCOVERED      REVENUE  ...  UNCOVERED_ENCOUNTERS  \\\n",
       "8         258995.00  152248800.0  ...                  7422   \n",
       "3         842531.43  118500200.0  ...                  1796   \n",
       "2        1814967.93   20365500.0  ...                     0   \n",
       "\n",
       "   COVERED_MEDICATIONS  UNCOVERED_MEDICATIONS  COVERED_PROCEDURES  \\\n",
       "8                    0                   3912                2841   \n",
       "3                    0                   4985               12718   \n",
       "2                 6382                      0               47611   \n",
       "\n",
       "   UNCOVERED_PROCEDURES  COVERED_IMMUNIZATIONS  UNCOVERED_IMMUNIZATIONS  \\\n",
       "8                 10142                   6664                      151   \n",
       "3                   550                   6832                      195   \n",
       "2                     0                   7022                        0   \n",
       "\n",
       "   UNIQUE_CUSTOMERS  QOLS_AVG  MEMBER_MONTHS  \n",
       "8               283  0.932301          69816  \n",
       "3               281  0.911843          70308  \n",
       "2               507  0.812137          84276  \n",
       "\n",
       "[3 rows x 21 columns]"
      ]
     },
     "execution_count": 222,
     "metadata": {},
     "output_type": "execute_result"
    }
   ],
   "source": [
    "payers=pd.read_csv(files[\"payers\"])\n",
    "payers.sample(3)"
   ]
  },
  {
   "cell_type": "code",
   "execution_count": 223,
   "metadata": {},
   "outputs": [
    {
     "data": {
      "text/html": [
       "<div>\n",
       "<style scoped>\n",
       "    .dataframe tbody tr th:only-of-type {\n",
       "        vertical-align: middle;\n",
       "    }\n",
       "\n",
       "    .dataframe tbody tr th {\n",
       "        vertical-align: top;\n",
       "    }\n",
       "\n",
       "    .dataframe thead th {\n",
       "        text-align: right;\n",
       "    }\n",
       "</style>\n",
       "<table border=\"1\" class=\"dataframe\">\n",
       "  <thead>\n",
       "    <tr style=\"text-align: right;\">\n",
       "      <th></th>\n",
       "      <th>PAYER_NAME</th>\n",
       "    </tr>\n",
       "    <tr>\n",
       "      <th>PAYER_ID</th>\n",
       "      <th></th>\n",
       "    </tr>\n",
       "  </thead>\n",
       "  <tbody>\n",
       "    <tr>\n",
       "      <th>b3221cfc-24fb-339e-823d-bc4136cbc4ed</th>\n",
       "      <td>Dual Eligible</td>\n",
       "    </tr>\n",
       "    <tr>\n",
       "      <th>7caa7254-5050-3b5e-9eae-bd5ea30e809c</th>\n",
       "      <td>Medicare</td>\n",
       "    </tr>\n",
       "    <tr>\n",
       "      <th>7c4411ce-02f1-39b5-b9ec-dfbea9ad3c1a</th>\n",
       "      <td>Medicaid</td>\n",
       "    </tr>\n",
       "    <tr>\n",
       "      <th>d47b3510-2895-3b70-9897-342d681c769d</th>\n",
       "      <td>Humana</td>\n",
       "    </tr>\n",
       "    <tr>\n",
       "      <th>6e2f1a2d-27bd-3701-8d08-dae202c58632</th>\n",
       "      <td>Blue Cross Blue Shield</td>\n",
       "    </tr>\n",
       "    <tr>\n",
       "      <th>5059a55e-5d6e-34d1-b6cb-d83d16e57bcf</th>\n",
       "      <td>UnitedHealthcare</td>\n",
       "    </tr>\n",
       "    <tr>\n",
       "      <th>4d71f845-a6a9-3c39-b242-14d25ef86a8d</th>\n",
       "      <td>Aetna</td>\n",
       "    </tr>\n",
       "    <tr>\n",
       "      <th>047f6ec3-6215-35eb-9608-f9dda363a44c</th>\n",
       "      <td>Cigna Health</td>\n",
       "    </tr>\n",
       "    <tr>\n",
       "      <th>42c4fca7-f8a9-3cd1-982a-dd9751bf3e2a</th>\n",
       "      <td>Anthem</td>\n",
       "    </tr>\n",
       "    <tr>\n",
       "      <th>b1c428d6-4f07-31e0-90f0-68ffa6ff8c76</th>\n",
       "      <td>NO_INSURANCE</td>\n",
       "    </tr>\n",
       "  </tbody>\n",
       "</table>\n",
       "</div>"
      ],
      "text/plain": [
       "                                                  PAYER_NAME\n",
       "PAYER_ID                                                    \n",
       "b3221cfc-24fb-339e-823d-bc4136cbc4ed           Dual Eligible\n",
       "7caa7254-5050-3b5e-9eae-bd5ea30e809c                Medicare\n",
       "7c4411ce-02f1-39b5-b9ec-dfbea9ad3c1a                Medicaid\n",
       "d47b3510-2895-3b70-9897-342d681c769d                  Humana\n",
       "6e2f1a2d-27bd-3701-8d08-dae202c58632  Blue Cross Blue Shield\n",
       "5059a55e-5d6e-34d1-b6cb-d83d16e57bcf        UnitedHealthcare\n",
       "4d71f845-a6a9-3c39-b242-14d25ef86a8d                   Aetna\n",
       "047f6ec3-6215-35eb-9608-f9dda363a44c            Cigna Health\n",
       "42c4fca7-f8a9-3cd1-982a-dd9751bf3e2a                  Anthem\n",
       "b1c428d6-4f07-31e0-90f0-68ffa6ff8c76            NO_INSURANCE"
      ]
     },
     "execution_count": 223,
     "metadata": {},
     "output_type": "execute_result"
    }
   ],
   "source": [
    "payers=payers[[\"NAME\",\"Id\"]]\n",
    "payers=payers.rename(columns={\"NAME\":\"PAYER_NAME\",\"Id\":\"PAYER_ID\"})\n",
    "payers=payers.set_index(\"PAYER_ID\")\n",
    "payers"
   ]
  },
  {
   "cell_type": "code",
   "execution_count": 224,
   "metadata": {},
   "outputs": [
    {
     "data": {
      "text/html": [
       "<div>\n",
       "<style scoped>\n",
       "    .dataframe tbody tr th:only-of-type {\n",
       "        vertical-align: middle;\n",
       "    }\n",
       "\n",
       "    .dataframe tbody tr th {\n",
       "        vertical-align: top;\n",
       "    }\n",
       "\n",
       "    .dataframe thead th {\n",
       "        text-align: right;\n",
       "    }\n",
       "</style>\n",
       "<table border=\"1\" class=\"dataframe\">\n",
       "  <thead>\n",
       "    <tr style=\"text-align: right;\">\n",
       "      <th></th>\n",
       "      <th>Id</th>\n",
       "      <th>START</th>\n",
       "      <th>STOP</th>\n",
       "      <th>PATIENT_ID</th>\n",
       "      <th>ORG_ID</th>\n",
       "      <th>PROVIDER_ID</th>\n",
       "      <th>PAYER_ID</th>\n",
       "      <th>DESCRIPTION</th>\n",
       "      <th>REASON</th>\n",
       "      <th>BASE_ENCOUNTER_COST</th>\n",
       "      <th>...</th>\n",
       "      <th>CITY</th>\n",
       "      <th>AGE</th>\n",
       "      <th>PATIENT_NAME</th>\n",
       "      <th>ORG_NAME</th>\n",
       "      <th>ORG_CITY</th>\n",
       "      <th>REVENUE</th>\n",
       "      <th>PROVIDER_NAME</th>\n",
       "      <th>GENDER</th>\n",
       "      <th>SPECIALITY</th>\n",
       "      <th>PAYER_NAME</th>\n",
       "    </tr>\n",
       "  </thead>\n",
       "  <tbody>\n",
       "    <tr>\n",
       "      <th>355</th>\n",
       "      <td>6e682762-0bfc-4ae1-b937-1c0e17d4a34b</td>\n",
       "      <td>2018-06-29T18:58:37Z</td>\n",
       "      <td>2018-06-29T19:41:37Z</td>\n",
       "      <td>2ffe9369-24e4-414b-8973-258fad09313a</td>\n",
       "      <td>3bd5eda0-16da-3ba5-8500-4dfd6ae118b8</td>\n",
       "      <td>40d7ff6c-5040-39aa-a876-19f1ccc6740c</td>\n",
       "      <td>6e2f1a2d-27bd-3701-8d08-dae202c58632</td>\n",
       "      <td>Encounter for 'check-up'</td>\n",
       "      <td>NaN</td>\n",
       "      <td>129.16</td>\n",
       "      <td>...</td>\n",
       "      <td>Foxborough</td>\n",
       "      <td>62.0</td>\n",
       "      <td>Amada498 Reichert620</td>\n",
       "      <td>NORWOOD HOSPITAL</td>\n",
       "      <td>NORWOOD</td>\n",
       "      <td>390476.50</td>\n",
       "      <td>Luke971 Rath779</td>\n",
       "      <td>M</td>\n",
       "      <td>GENERAL PRACTICE</td>\n",
       "      <td>Blue Cross Blue Shield</td>\n",
       "    </tr>\n",
       "    <tr>\n",
       "      <th>28670</th>\n",
       "      <td>9d01215f-98dd-40c9-916d-58fe727c279e</td>\n",
       "      <td>2011-11-12T17:42:20Z</td>\n",
       "      <td>2011-11-12T17:57:20Z</td>\n",
       "      <td>fd3acd35-add1-4634-8c90-68ed0f638fde</td>\n",
       "      <td>d692e283-0833-3201-8e55-4f868a9c0736</td>\n",
       "      <td>f4eb93d1-9187-3cfb-83a4-6d9cd77f7df6</td>\n",
       "      <td>6e2f1a2d-27bd-3701-8d08-dae202c58632</td>\n",
       "      <td>Telemedicine consultation with patient</td>\n",
       "      <td>Chronic congestive heart failure (disorder)</td>\n",
       "      <td>129.16</td>\n",
       "      <td>...</td>\n",
       "      <td>Lynn</td>\n",
       "      <td>70.0</td>\n",
       "      <td>Wilber603 Schinner682</td>\n",
       "      <td>HALLMARK HEALTH SYSTEM</td>\n",
       "      <td>MELROSE</td>\n",
       "      <td>561587.35</td>\n",
       "      <td>Vern731 Powlowski563</td>\n",
       "      <td>M</td>\n",
       "      <td>GENERAL PRACTICE</td>\n",
       "      <td>Blue Cross Blue Shield</td>\n",
       "    </tr>\n",
       "    <tr>\n",
       "      <th>35351</th>\n",
       "      <td>ae472f47-7f29-48e8-8a96-c8fe515e341a</td>\n",
       "      <td>2000-05-31T21:19:21Z</td>\n",
       "      <td>2000-05-31T21:34:21Z</td>\n",
       "      <td>6958e2b0-3c19-4217-8049-2d315c70cab5</td>\n",
       "      <td>65110f22-e3e1-34f5-844b-1d5a772762ad</td>\n",
       "      <td>74cdd290-b79d-39a9-a6f3-8db528c79546</td>\n",
       "      <td>42c4fca7-f8a9-3cd1-982a-dd9751bf3e2a</td>\n",
       "      <td>General examination of patient (procedure)</td>\n",
       "      <td>NaN</td>\n",
       "      <td>129.16</td>\n",
       "      <td>...</td>\n",
       "      <td>Franklin</td>\n",
       "      <td>83.0</td>\n",
       "      <td>Denny560 Bosco882</td>\n",
       "      <td>PCP8766</td>\n",
       "      <td>MEDWAY</td>\n",
       "      <td>9428.68</td>\n",
       "      <td>Della552 Steuber698</td>\n",
       "      <td>F</td>\n",
       "      <td>GENERAL PRACTICE</td>\n",
       "      <td>Anthem</td>\n",
       "    </tr>\n",
       "  </tbody>\n",
       "</table>\n",
       "<p>3 rows × 22 columns</p>\n",
       "</div>"
      ],
      "text/plain": [
       "                                         Id                 START  \\\n",
       "355    6e682762-0bfc-4ae1-b937-1c0e17d4a34b  2018-06-29T18:58:37Z   \n",
       "28670  9d01215f-98dd-40c9-916d-58fe727c279e  2011-11-12T17:42:20Z   \n",
       "35351  ae472f47-7f29-48e8-8a96-c8fe515e341a  2000-05-31T21:19:21Z   \n",
       "\n",
       "                       STOP                            PATIENT_ID  \\\n",
       "355    2018-06-29T19:41:37Z  2ffe9369-24e4-414b-8973-258fad09313a   \n",
       "28670  2011-11-12T17:57:20Z  fd3acd35-add1-4634-8c90-68ed0f638fde   \n",
       "35351  2000-05-31T21:34:21Z  6958e2b0-3c19-4217-8049-2d315c70cab5   \n",
       "\n",
       "                                     ORG_ID  \\\n",
       "355    3bd5eda0-16da-3ba5-8500-4dfd6ae118b8   \n",
       "28670  d692e283-0833-3201-8e55-4f868a9c0736   \n",
       "35351  65110f22-e3e1-34f5-844b-1d5a772762ad   \n",
       "\n",
       "                                PROVIDER_ID  \\\n",
       "355    40d7ff6c-5040-39aa-a876-19f1ccc6740c   \n",
       "28670  f4eb93d1-9187-3cfb-83a4-6d9cd77f7df6   \n",
       "35351  74cdd290-b79d-39a9-a6f3-8db528c79546   \n",
       "\n",
       "                                   PAYER_ID  \\\n",
       "355    6e2f1a2d-27bd-3701-8d08-dae202c58632   \n",
       "28670  6e2f1a2d-27bd-3701-8d08-dae202c58632   \n",
       "35351  42c4fca7-f8a9-3cd1-982a-dd9751bf3e2a   \n",
       "\n",
       "                                      DESCRIPTION  \\\n",
       "355                      Encounter for 'check-up'   \n",
       "28670      Telemedicine consultation with patient   \n",
       "35351  General examination of patient (procedure)   \n",
       "\n",
       "                                            REASON  BASE_ENCOUNTER_COST  ...  \\\n",
       "355                                            NaN               129.16  ...   \n",
       "28670  Chronic congestive heart failure (disorder)               129.16  ...   \n",
       "35351                                          NaN               129.16  ...   \n",
       "\n",
       "             CITY   AGE           PATIENT_NAME                ORG_NAME  \\\n",
       "355    Foxborough  62.0   Amada498 Reichert620        NORWOOD HOSPITAL   \n",
       "28670        Lynn  70.0  Wilber603 Schinner682  HALLMARK HEALTH SYSTEM   \n",
       "35351    Franklin  83.0      Denny560 Bosco882                 PCP8766   \n",
       "\n",
       "      ORG_CITY    REVENUE         PROVIDER_NAME  GENDER        SPECIALITY  \\\n",
       "355    NORWOOD  390476.50       Luke971 Rath779       M  GENERAL PRACTICE   \n",
       "28670  MELROSE  561587.35  Vern731 Powlowski563       M  GENERAL PRACTICE   \n",
       "35351   MEDWAY    9428.68   Della552 Steuber698       F  GENERAL PRACTICE   \n",
       "\n",
       "                   PAYER_NAME  \n",
       "355    Blue Cross Blue Shield  \n",
       "28670  Blue Cross Blue Shield  \n",
       "35351                  Anthem  \n",
       "\n",
       "[3 rows x 22 columns]"
      ]
     },
     "execution_count": 224,
     "metadata": {},
     "output_type": "execute_result"
    }
   ],
   "source": [
    "encounter=encounter.join(payers,on=\"PAYER_ID\")\n",
    "encounter.sample(3)"
   ]
  },
  {
   "cell_type": "code",
   "execution_count": 225,
   "metadata": {},
   "outputs": [
    {
     "data": {
      "text/plain": [
       "Index(['Id', 'START', 'STOP', 'PATIENT_ID', 'ORG_ID', 'PROVIDER_ID',\n",
       "       'PAYER_ID', 'DESCRIPTION', 'REASON', 'BASE_ENCOUNTER_COST',\n",
       "       'PAYER_COVERAGE', 'ENCOUNTERCLASS', 'CITY', 'AGE', 'PATIENT_NAME',\n",
       "       'ORG_NAME', 'ORG_CITY', 'REVENUE', 'PROVIDER_NAME', 'GENDER',\n",
       "       'SPECIALITY', 'PAYER_NAME'],\n",
       "      dtype='object')"
      ]
     },
     "execution_count": 225,
     "metadata": {},
     "output_type": "execute_result"
    }
   ],
   "source": [
    "encounter.columns"
   ]
  },
  {
   "cell_type": "code",
   "execution_count": 226,
   "metadata": {},
   "outputs": [
    {
     "data": {
      "text/html": [
       "<div>\n",
       "<style scoped>\n",
       "    .dataframe tbody tr th:only-of-type {\n",
       "        vertical-align: middle;\n",
       "    }\n",
       "\n",
       "    .dataframe tbody tr th {\n",
       "        vertical-align: top;\n",
       "    }\n",
       "\n",
       "    .dataframe thead th {\n",
       "        text-align: right;\n",
       "    }\n",
       "</style>\n",
       "<table border=\"1\" class=\"dataframe\">\n",
       "  <thead>\n",
       "    <tr style=\"text-align: right;\">\n",
       "      <th></th>\n",
       "      <th>Id</th>\n",
       "      <th>START</th>\n",
       "      <th>STOP</th>\n",
       "      <th>PATIENT_NAME</th>\n",
       "      <th>AGE</th>\n",
       "      <th>CITY</th>\n",
       "      <th>DESCRIPTION</th>\n",
       "      <th>REASON</th>\n",
       "      <th>ENCOUNTERCLASS</th>\n",
       "      <th>BASE_ENCOUNTER_COST</th>\n",
       "      <th>PAYER_COVERAGE</th>\n",
       "      <th>ORG_NAME</th>\n",
       "      <th>ORG_CITY</th>\n",
       "      <th>REVENUE</th>\n",
       "      <th>PROVIDER_NAME</th>\n",
       "      <th>SPECIALITY</th>\n",
       "      <th>PAYER_NAME</th>\n",
       "    </tr>\n",
       "  </thead>\n",
       "  <tbody>\n",
       "    <tr>\n",
       "      <th>33899</th>\n",
       "      <td>fb42117d-19f5-434c-ac5a-000ea6041244</td>\n",
       "      <td>1999-07-14T04:07:36Z</td>\n",
       "      <td>1999-07-14T04:22:36Z</td>\n",
       "      <td>Keva141 Shanahan202</td>\n",
       "      <td>70.0</td>\n",
       "      <td>Williamstown</td>\n",
       "      <td>General examination of patient (procedure)</td>\n",
       "      <td>NaN</td>\n",
       "      <td>wellness</td>\n",
       "      <td>129.16</td>\n",
       "      <td>69.16</td>\n",
       "      <td>PCP84676</td>\n",
       "      <td>WILLIAMSTOWN</td>\n",
       "      <td>9945.32</td>\n",
       "      <td>Ethan766 Heidenreich818</td>\n",
       "      <td>GENERAL PRACTICE</td>\n",
       "      <td>Medicaid</td>\n",
       "    </tr>\n",
       "    <tr>\n",
       "      <th>12958</th>\n",
       "      <td>7136893a-a965-48a8-9814-5411aad695ed</td>\n",
       "      <td>2019-06-07T13:16:37Z</td>\n",
       "      <td>2019-06-07T13:31:37Z</td>\n",
       "      <td>Latonia966 Watsica258</td>\n",
       "      <td>5.0</td>\n",
       "      <td>Wareham</td>\n",
       "      <td>Encounter for symptom</td>\n",
       "      <td>Otitis media</td>\n",
       "      <td>outpatient</td>\n",
       "      <td>129.16</td>\n",
       "      <td>54.16</td>\n",
       "      <td>CAPE COD HOSPITAL</td>\n",
       "      <td>HYANNIS</td>\n",
       "      <td>226779.11</td>\n",
       "      <td>Phillip440 McCullough561</td>\n",
       "      <td>GENERAL PRACTICE</td>\n",
       "      <td>Blue Cross Blue Shield</td>\n",
       "    </tr>\n",
       "    <tr>\n",
       "      <th>41341</th>\n",
       "      <td>819d69a3-b2ab-4129-91cc-ea6b95414f90</td>\n",
       "      <td>2013-03-20T12:12:10Z</td>\n",
       "      <td>2013-03-20T13:03:10Z</td>\n",
       "      <td>Lola232 Abernathy524</td>\n",
       "      <td>72.0</td>\n",
       "      <td>Belchertown</td>\n",
       "      <td>Encounter for 'check-up'</td>\n",
       "      <td>NaN</td>\n",
       "      <td>ambulatory</td>\n",
       "      <td>129.16</td>\n",
       "      <td>64.16</td>\n",
       "      <td>BAYSTATE WING HOSPITAL AND MEDICAL CENTERS</td>\n",
       "      <td>PALMER</td>\n",
       "      <td>136237.92</td>\n",
       "      <td>Devora529 Sipes176</td>\n",
       "      <td>GENERAL PRACTICE</td>\n",
       "      <td>Aetna</td>\n",
       "    </tr>\n",
       "  </tbody>\n",
       "</table>\n",
       "</div>"
      ],
      "text/plain": [
       "                                         Id                 START  \\\n",
       "33899  fb42117d-19f5-434c-ac5a-000ea6041244  1999-07-14T04:07:36Z   \n",
       "12958  7136893a-a965-48a8-9814-5411aad695ed  2019-06-07T13:16:37Z   \n",
       "41341  819d69a3-b2ab-4129-91cc-ea6b95414f90  2013-03-20T12:12:10Z   \n",
       "\n",
       "                       STOP           PATIENT_NAME   AGE          CITY  \\\n",
       "33899  1999-07-14T04:22:36Z    Keva141 Shanahan202  70.0  Williamstown   \n",
       "12958  2019-06-07T13:31:37Z  Latonia966 Watsica258   5.0       Wareham   \n",
       "41341  2013-03-20T13:03:10Z   Lola232 Abernathy524  72.0   Belchertown   \n",
       "\n",
       "                                      DESCRIPTION        REASON  \\\n",
       "33899  General examination of patient (procedure)           NaN   \n",
       "12958                       Encounter for symptom  Otitis media   \n",
       "41341                    Encounter for 'check-up'           NaN   \n",
       "\n",
       "      ENCOUNTERCLASS  BASE_ENCOUNTER_COST  PAYER_COVERAGE  \\\n",
       "33899       wellness               129.16           69.16   \n",
       "12958     outpatient               129.16           54.16   \n",
       "41341     ambulatory               129.16           64.16   \n",
       "\n",
       "                                         ORG_NAME      ORG_CITY    REVENUE  \\\n",
       "33899                                    PCP84676  WILLIAMSTOWN    9945.32   \n",
       "12958                           CAPE COD HOSPITAL       HYANNIS  226779.11   \n",
       "41341  BAYSTATE WING HOSPITAL AND MEDICAL CENTERS        PALMER  136237.92   \n",
       "\n",
       "                  PROVIDER_NAME        SPECIALITY              PAYER_NAME  \n",
       "33899   Ethan766 Heidenreich818  GENERAL PRACTICE                Medicaid  \n",
       "12958  Phillip440 McCullough561  GENERAL PRACTICE  Blue Cross Blue Shield  \n",
       "41341        Devora529 Sipes176  GENERAL PRACTICE                   Aetna  "
      ]
     },
     "execution_count": 226,
     "metadata": {},
     "output_type": "execute_result"
    }
   ],
   "source": [
    "encounter=encounter[[\"Id\",\"START\",\"STOP\",\"PATIENT_NAME\",\"AGE\",\"CITY\",\n",
    "                     \"DESCRIPTION\",\"REASON\",\"ENCOUNTERCLASS\",\n",
    "                     \"BASE_ENCOUNTER_COST\",\"PAYER_COVERAGE\",\n",
    "                     \"ORG_NAME\",\"ORG_CITY\",\"REVENUE\",\n",
    "                     \"PROVIDER_NAME\",\"SPECIALITY\",\"PAYER_NAME\"]]\n",
    "encounter.sample(3)"
   ]
  },
  {
   "cell_type": "code",
   "execution_count": 227,
   "metadata": {},
   "outputs": [],
   "source": [
    "#POV: HOSPITALS"
   ]
  },
  {
   "cell_type": "code",
   "execution_count": 228,
   "metadata": {},
   "outputs": [
    {
     "data": {
      "text/plain": [
       "VA Boston Healthcare System  Jamaica Plain Campus    3217\n",
       "Worcester Outpatient Clinic                          1972\n",
       "HALLMARK HEALTH SYSTEM                               1658\n",
       "CAMBRIDGE HEALTH ALLIANCE                            1028\n",
       "NEWTON-WELLESLEY HOSPITAL                             955\n",
       "                                                     ... \n",
       "PCP168999                                               1\n",
       "MASHPEE FAMILY MEDICINE                                 1\n",
       "PCP40593                                                1\n",
       "PCP19561                                                1\n",
       "HEALTH EXPRESS LLC                                      1\n",
       "Name: ORG_NAME, Length: 967, dtype: int64"
      ]
     },
     "execution_count": 228,
     "metadata": {},
     "output_type": "execute_result"
    }
   ],
   "source": [
    "encounter[\"ORG_NAME\"].value_counts()"
   ]
  },
  {
   "cell_type": "code",
   "execution_count": 229,
   "metadata": {},
   "outputs": [
    {
     "data": {
      "text/html": [
       "<div>\n",
       "<style scoped>\n",
       "    .dataframe tbody tr th:only-of-type {\n",
       "        vertical-align: middle;\n",
       "    }\n",
       "\n",
       "    .dataframe tbody tr th {\n",
       "        vertical-align: top;\n",
       "    }\n",
       "\n",
       "    .dataframe thead th {\n",
       "        text-align: right;\n",
       "    }\n",
       "</style>\n",
       "<table border=\"1\" class=\"dataframe\">\n",
       "  <thead>\n",
       "    <tr style=\"text-align: right;\">\n",
       "      <th></th>\n",
       "      <th>Id</th>\n",
       "      <th>START</th>\n",
       "      <th>STOP</th>\n",
       "      <th>PATIENT_NAME</th>\n",
       "      <th>AGE</th>\n",
       "      <th>CITY</th>\n",
       "      <th>DESCRIPTION</th>\n",
       "      <th>REASON</th>\n",
       "      <th>ENCOUNTERCLASS</th>\n",
       "      <th>BASE_ENCOUNTER_COST</th>\n",
       "      <th>PAYER_COVERAGE</th>\n",
       "      <th>ORG_NAME</th>\n",
       "      <th>ORG_CITY</th>\n",
       "      <th>REVENUE</th>\n",
       "      <th>PROVIDER_NAME</th>\n",
       "      <th>SPECIALITY</th>\n",
       "      <th>PAYER_NAME</th>\n",
       "    </tr>\n",
       "  </thead>\n",
       "  <tbody>\n",
       "    <tr>\n",
       "      <th>0</th>\n",
       "      <td>d0c40d10-8d87-447e-836e-99d26ad52ea5</td>\n",
       "      <td>2010-01-23T17:45:28Z</td>\n",
       "      <td>2010-01-23T18:10:28Z</td>\n",
       "      <td>Milo271 Feil794</td>\n",
       "      <td>37.0</td>\n",
       "      <td>Somerville</td>\n",
       "      <td>Encounter for symptom</td>\n",
       "      <td>Acute bronchitis (disorder)</td>\n",
       "      <td>ambulatory</td>\n",
       "      <td>129.16</td>\n",
       "      <td>54.16</td>\n",
       "      <td>CAMBRIDGE HEALTH ALLIANCE</td>\n",
       "      <td>CAMBRIDGE</td>\n",
       "      <td>406053.19</td>\n",
       "      <td>Jeanmarie510 Beatty507</td>\n",
       "      <td>GENERAL PRACTICE</td>\n",
       "      <td>Blue Cross Blue Shield</td>\n",
       "    </tr>\n",
       "    <tr>\n",
       "      <th>1</th>\n",
       "      <td>e88bc3a9-007c-405e-aabc-792a38f4aa2b</td>\n",
       "      <td>2012-01-23T17:45:28Z</td>\n",
       "      <td>2012-01-23T18:00:28Z</td>\n",
       "      <td>Milo271 Feil794</td>\n",
       "      <td>37.0</td>\n",
       "      <td>Somerville</td>\n",
       "      <td>General examination of patient (procedure)</td>\n",
       "      <td>NaN</td>\n",
       "      <td>wellness</td>\n",
       "      <td>129.16</td>\n",
       "      <td>129.16</td>\n",
       "      <td>PCP20565</td>\n",
       "      <td>CAMBRIDGE</td>\n",
       "      <td>4262.28</td>\n",
       "      <td>Ellan282 Krajcik437</td>\n",
       "      <td>GENERAL PRACTICE</td>\n",
       "      <td>Blue Cross Blue Shield</td>\n",
       "    </tr>\n",
       "    <tr>\n",
       "      <th>2</th>\n",
       "      <td>8f104aa7-4ca9-4473-885a-bba2437df588</td>\n",
       "      <td>2001-05-01T15:02:18Z</td>\n",
       "      <td>2001-05-01T15:17:18Z</td>\n",
       "      <td>José Eduardo181 Gómez206</td>\n",
       "      <td>31.0</td>\n",
       "      <td>Chicopee</td>\n",
       "      <td>Encounter for symptom</td>\n",
       "      <td>Sinusitis (disorder)</td>\n",
       "      <td>ambulatory</td>\n",
       "      <td>129.16</td>\n",
       "      <td>0.00</td>\n",
       "      <td>HOLYOKE MEDICAL CENTER</td>\n",
       "      <td>HOLYOKE</td>\n",
       "      <td>327601.37</td>\n",
       "      <td>Garth972 Wyman904</td>\n",
       "      <td>GENERAL PRACTICE</td>\n",
       "      <td>NO_INSURANCE</td>\n",
       "    </tr>\n",
       "    <tr>\n",
       "      <th>3</th>\n",
       "      <td>b85c339a-6076-43ed-b9d0-9cf013dec49d</td>\n",
       "      <td>2011-07-28T15:02:18Z</td>\n",
       "      <td>2011-07-28T15:17:18Z</td>\n",
       "      <td>José Eduardo181 Gómez206</td>\n",
       "      <td>31.0</td>\n",
       "      <td>Chicopee</td>\n",
       "      <td>General examination of patient (procedure)</td>\n",
       "      <td>NaN</td>\n",
       "      <td>wellness</td>\n",
       "      <td>129.16</td>\n",
       "      <td>0.00</td>\n",
       "      <td>PCP12399</td>\n",
       "      <td>SOUTH HADLEY</td>\n",
       "      <td>7491.28</td>\n",
       "      <td>Claudine313 Yost751</td>\n",
       "      <td>GENERAL PRACTICE</td>\n",
       "      <td>NO_INSURANCE</td>\n",
       "    </tr>\n",
       "    <tr>\n",
       "      <th>4</th>\n",
       "      <td>dae2b7cb-1316-4b78-954f-fa610a6c6d0e</td>\n",
       "      <td>2010-07-27T12:58:08Z</td>\n",
       "      <td>2010-07-27T13:28:08Z</td>\n",
       "      <td>Jayson808 Fadel536</td>\n",
       "      <td>28.0</td>\n",
       "      <td>Chicopee</td>\n",
       "      <td>General examination of patient (procedure)</td>\n",
       "      <td>NaN</td>\n",
       "      <td>wellness</td>\n",
       "      <td>129.16</td>\n",
       "      <td>129.16</td>\n",
       "      <td>WESTERN MASS PHYSICIAN ASSOCIATES INC</td>\n",
       "      <td>CHICOPEE</td>\n",
       "      <td>7620.44</td>\n",
       "      <td>Dwayne786 Reilly981</td>\n",
       "      <td>GENERAL PRACTICE</td>\n",
       "      <td>Humana</td>\n",
       "    </tr>\n",
       "    <tr>\n",
       "      <th>...</th>\n",
       "      <td>...</td>\n",
       "      <td>...</td>\n",
       "      <td>...</td>\n",
       "      <td>...</td>\n",
       "      <td>...</td>\n",
       "      <td>...</td>\n",
       "      <td>...</td>\n",
       "      <td>...</td>\n",
       "      <td>...</td>\n",
       "      <td>...</td>\n",
       "      <td>...</td>\n",
       "      <td>...</td>\n",
       "      <td>...</td>\n",
       "      <td>...</td>\n",
       "      <td>...</td>\n",
       "      <td>...</td>\n",
       "      <td>...</td>\n",
       "    </tr>\n",
       "    <tr>\n",
       "      <th>53341</th>\n",
       "      <td>bd3bfc3c-4f52-4d9c-aa01-60a084b2ddcd</td>\n",
       "      <td>2015-06-20T17:27:52Z</td>\n",
       "      <td>2015-06-20T17:57:52Z</td>\n",
       "      <td>NaN</td>\n",
       "      <td>NaN</td>\n",
       "      <td>NaN</td>\n",
       "      <td>General examination of patient (procedure)</td>\n",
       "      <td>NaN</td>\n",
       "      <td>wellness</td>\n",
       "      <td>129.16</td>\n",
       "      <td>129.16</td>\n",
       "      <td>PCP27951</td>\n",
       "      <td>WESTWOOD</td>\n",
       "      <td>12141.04</td>\n",
       "      <td>Don899 Harris789</td>\n",
       "      <td>GENERAL PRACTICE</td>\n",
       "      <td>Medicare</td>\n",
       "    </tr>\n",
       "    <tr>\n",
       "      <th>53342</th>\n",
       "      <td>59727285-d30f-44e2-bcda-eac21ce07269</td>\n",
       "      <td>2016-06-25T17:27:52Z</td>\n",
       "      <td>2016-06-25T17:42:52Z</td>\n",
       "      <td>NaN</td>\n",
       "      <td>NaN</td>\n",
       "      <td>NaN</td>\n",
       "      <td>General examination of patient (procedure)</td>\n",
       "      <td>NaN</td>\n",
       "      <td>wellness</td>\n",
       "      <td>129.16</td>\n",
       "      <td>129.16</td>\n",
       "      <td>PCP27951</td>\n",
       "      <td>WESTWOOD</td>\n",
       "      <td>12141.04</td>\n",
       "      <td>Don899 Harris789</td>\n",
       "      <td>GENERAL PRACTICE</td>\n",
       "      <td>Medicare</td>\n",
       "    </tr>\n",
       "    <tr>\n",
       "      <th>53343</th>\n",
       "      <td>957b13d5-49fa-4518-8c25-6eaa45e6a7d1</td>\n",
       "      <td>2017-07-01T17:27:52Z</td>\n",
       "      <td>2017-07-01T17:57:52Z</td>\n",
       "      <td>NaN</td>\n",
       "      <td>NaN</td>\n",
       "      <td>NaN</td>\n",
       "      <td>General examination of patient (procedure)</td>\n",
       "      <td>NaN</td>\n",
       "      <td>wellness</td>\n",
       "      <td>129.16</td>\n",
       "      <td>129.16</td>\n",
       "      <td>PCP27951</td>\n",
       "      <td>WESTWOOD</td>\n",
       "      <td>12141.04</td>\n",
       "      <td>Don899 Harris789</td>\n",
       "      <td>GENERAL PRACTICE</td>\n",
       "      <td>Medicare</td>\n",
       "    </tr>\n",
       "    <tr>\n",
       "      <th>53344</th>\n",
       "      <td>5529a0d5-a24c-42b4-a32a-729e4d1f19ef</td>\n",
       "      <td>2018-07-07T17:27:52Z</td>\n",
       "      <td>2018-07-07T17:42:52Z</td>\n",
       "      <td>NaN</td>\n",
       "      <td>NaN</td>\n",
       "      <td>NaN</td>\n",
       "      <td>General examination of patient (procedure)</td>\n",
       "      <td>NaN</td>\n",
       "      <td>wellness</td>\n",
       "      <td>129.16</td>\n",
       "      <td>129.16</td>\n",
       "      <td>PCP27951</td>\n",
       "      <td>WESTWOOD</td>\n",
       "      <td>12141.04</td>\n",
       "      <td>Don899 Harris789</td>\n",
       "      <td>GENERAL PRACTICE</td>\n",
       "      <td>Medicare</td>\n",
       "    </tr>\n",
       "    <tr>\n",
       "      <th>53345</th>\n",
       "      <td>1306d180-d887-4286-b940-9a6a2425cf93</td>\n",
       "      <td>2019-07-13T17:27:52Z</td>\n",
       "      <td>2019-07-13T17:57:52Z</td>\n",
       "      <td>NaN</td>\n",
       "      <td>NaN</td>\n",
       "      <td>NaN</td>\n",
       "      <td>General examination of patient (procedure)</td>\n",
       "      <td>NaN</td>\n",
       "      <td>wellness</td>\n",
       "      <td>129.16</td>\n",
       "      <td>129.16</td>\n",
       "      <td>PCP27951</td>\n",
       "      <td>WESTWOOD</td>\n",
       "      <td>12141.04</td>\n",
       "      <td>Don899 Harris789</td>\n",
       "      <td>GENERAL PRACTICE</td>\n",
       "      <td>Medicare</td>\n",
       "    </tr>\n",
       "  </tbody>\n",
       "</table>\n",
       "<p>53346 rows × 17 columns</p>\n",
       "</div>"
      ],
      "text/plain": [
       "                                         Id                 START  \\\n",
       "0      d0c40d10-8d87-447e-836e-99d26ad52ea5  2010-01-23T17:45:28Z   \n",
       "1      e88bc3a9-007c-405e-aabc-792a38f4aa2b  2012-01-23T17:45:28Z   \n",
       "2      8f104aa7-4ca9-4473-885a-bba2437df588  2001-05-01T15:02:18Z   \n",
       "3      b85c339a-6076-43ed-b9d0-9cf013dec49d  2011-07-28T15:02:18Z   \n",
       "4      dae2b7cb-1316-4b78-954f-fa610a6c6d0e  2010-07-27T12:58:08Z   \n",
       "...                                     ...                   ...   \n",
       "53341  bd3bfc3c-4f52-4d9c-aa01-60a084b2ddcd  2015-06-20T17:27:52Z   \n",
       "53342  59727285-d30f-44e2-bcda-eac21ce07269  2016-06-25T17:27:52Z   \n",
       "53343  957b13d5-49fa-4518-8c25-6eaa45e6a7d1  2017-07-01T17:27:52Z   \n",
       "53344  5529a0d5-a24c-42b4-a32a-729e4d1f19ef  2018-07-07T17:27:52Z   \n",
       "53345  1306d180-d887-4286-b940-9a6a2425cf93  2019-07-13T17:27:52Z   \n",
       "\n",
       "                       STOP              PATIENT_NAME   AGE        CITY  \\\n",
       "0      2010-01-23T18:10:28Z           Milo271 Feil794  37.0  Somerville   \n",
       "1      2012-01-23T18:00:28Z           Milo271 Feil794  37.0  Somerville   \n",
       "2      2001-05-01T15:17:18Z  José Eduardo181 Gómez206  31.0    Chicopee   \n",
       "3      2011-07-28T15:17:18Z  José Eduardo181 Gómez206  31.0    Chicopee   \n",
       "4      2010-07-27T13:28:08Z        Jayson808 Fadel536  28.0    Chicopee   \n",
       "...                     ...                       ...   ...         ...   \n",
       "53341  2015-06-20T17:57:52Z                       NaN   NaN         NaN   \n",
       "53342  2016-06-25T17:42:52Z                       NaN   NaN         NaN   \n",
       "53343  2017-07-01T17:57:52Z                       NaN   NaN         NaN   \n",
       "53344  2018-07-07T17:42:52Z                       NaN   NaN         NaN   \n",
       "53345  2019-07-13T17:57:52Z                       NaN   NaN         NaN   \n",
       "\n",
       "                                      DESCRIPTION  \\\n",
       "0                           Encounter for symptom   \n",
       "1      General examination of patient (procedure)   \n",
       "2                           Encounter for symptom   \n",
       "3      General examination of patient (procedure)   \n",
       "4      General examination of patient (procedure)   \n",
       "...                                           ...   \n",
       "53341  General examination of patient (procedure)   \n",
       "53342  General examination of patient (procedure)   \n",
       "53343  General examination of patient (procedure)   \n",
       "53344  General examination of patient (procedure)   \n",
       "53345  General examination of patient (procedure)   \n",
       "\n",
       "                            REASON ENCOUNTERCLASS  BASE_ENCOUNTER_COST  \\\n",
       "0      Acute bronchitis (disorder)     ambulatory               129.16   \n",
       "1                              NaN       wellness               129.16   \n",
       "2             Sinusitis (disorder)     ambulatory               129.16   \n",
       "3                              NaN       wellness               129.16   \n",
       "4                              NaN       wellness               129.16   \n",
       "...                            ...            ...                  ...   \n",
       "53341                          NaN       wellness               129.16   \n",
       "53342                          NaN       wellness               129.16   \n",
       "53343                          NaN       wellness               129.16   \n",
       "53344                          NaN       wellness               129.16   \n",
       "53345                          NaN       wellness               129.16   \n",
       "\n",
       "       PAYER_COVERAGE                               ORG_NAME      ORG_CITY  \\\n",
       "0               54.16              CAMBRIDGE HEALTH ALLIANCE     CAMBRIDGE   \n",
       "1              129.16                               PCP20565     CAMBRIDGE   \n",
       "2                0.00                 HOLYOKE MEDICAL CENTER       HOLYOKE   \n",
       "3                0.00                               PCP12399  SOUTH HADLEY   \n",
       "4              129.16  WESTERN MASS PHYSICIAN ASSOCIATES INC      CHICOPEE   \n",
       "...               ...                                    ...           ...   \n",
       "53341          129.16                               PCP27951      WESTWOOD   \n",
       "53342          129.16                               PCP27951      WESTWOOD   \n",
       "53343          129.16                               PCP27951      WESTWOOD   \n",
       "53344          129.16                               PCP27951      WESTWOOD   \n",
       "53345          129.16                               PCP27951      WESTWOOD   \n",
       "\n",
       "         REVENUE           PROVIDER_NAME        SPECIALITY  \\\n",
       "0      406053.19  Jeanmarie510 Beatty507  GENERAL PRACTICE   \n",
       "1        4262.28     Ellan282 Krajcik437  GENERAL PRACTICE   \n",
       "2      327601.37       Garth972 Wyman904  GENERAL PRACTICE   \n",
       "3        7491.28     Claudine313 Yost751  GENERAL PRACTICE   \n",
       "4        7620.44     Dwayne786 Reilly981  GENERAL PRACTICE   \n",
       "...          ...                     ...               ...   \n",
       "53341   12141.04        Don899 Harris789  GENERAL PRACTICE   \n",
       "53342   12141.04        Don899 Harris789  GENERAL PRACTICE   \n",
       "53343   12141.04        Don899 Harris789  GENERAL PRACTICE   \n",
       "53344   12141.04        Don899 Harris789  GENERAL PRACTICE   \n",
       "53345   12141.04        Don899 Harris789  GENERAL PRACTICE   \n",
       "\n",
       "                   PAYER_NAME  \n",
       "0      Blue Cross Blue Shield  \n",
       "1      Blue Cross Blue Shield  \n",
       "2                NO_INSURANCE  \n",
       "3                NO_INSURANCE  \n",
       "4                      Humana  \n",
       "...                       ...  \n",
       "53341                Medicare  \n",
       "53342                Medicare  \n",
       "53343                Medicare  \n",
       "53344                Medicare  \n",
       "53345                Medicare  \n",
       "\n",
       "[53346 rows x 17 columns]"
      ]
     },
     "execution_count": 229,
     "metadata": {},
     "output_type": "execute_result"
    }
   ],
   "source": [
    "encounter"
   ]
  },
  {
   "cell_type": "code",
   "execution_count": 26,
   "metadata": {},
   "outputs": [
    {
     "data": {
      "text/html": [
       "<div>\n",
       "<style scoped>\n",
       "    .dataframe tbody tr th:only-of-type {\n",
       "        vertical-align: middle;\n",
       "    }\n",
       "\n",
       "    .dataframe tbody tr th {\n",
       "        vertical-align: top;\n",
       "    }\n",
       "\n",
       "    .dataframe thead th {\n",
       "        text-align: right;\n",
       "    }\n",
       "</style>\n",
       "<table border=\"1\" class=\"dataframe\">\n",
       "  <thead>\n",
       "    <tr style=\"text-align: right;\">\n",
       "      <th></th>\n",
       "      <th>Id</th>\n",
       "      <th>START</th>\n",
       "      <th>STOP</th>\n",
       "      <th>PATIENT_NAME</th>\n",
       "      <th>AGE</th>\n",
       "      <th>CITY</th>\n",
       "      <th>DESCRIPTION</th>\n",
       "      <th>REASON</th>\n",
       "      <th>ENCOUNTERCLASS</th>\n",
       "      <th>BASE_ENCOUNTER_COST</th>\n",
       "      <th>PAYER_COVERAGE</th>\n",
       "      <th>ORG_NAME</th>\n",
       "      <th>ORG_CITY</th>\n",
       "      <th>REVENUE</th>\n",
       "      <th>PROVIDER_NAME</th>\n",
       "      <th>SPECIALITY</th>\n",
       "      <th>PAYER_NAME</th>\n",
       "    </tr>\n",
       "  </thead>\n",
       "  <tbody>\n",
       "    <tr>\n",
       "      <th>619</th>\n",
       "      <td>6d18b619-7e41-4bd6-bffa-5ae235f20d5b</td>\n",
       "      <td>1998-04-24T14:19:13Z</td>\n",
       "      <td>2019-02-01T14:34:13Z</td>\n",
       "      <td>Lisbeth69 Hand679</td>\n",
       "      <td>37.0</td>\n",
       "      <td>Malden</td>\n",
       "      <td>Encounter for check up (procedure)</td>\n",
       "      <td>NaN</td>\n",
       "      <td>outpatient</td>\n",
       "      <td>129.16</td>\n",
       "      <td>0.00</td>\n",
       "      <td>HALLMARK HEALTH SYSTEM</td>\n",
       "      <td>MELROSE</td>\n",
       "      <td>561587.35</td>\n",
       "      <td>Vern731 Powlowski563</td>\n",
       "      <td>GENERAL PRACTICE</td>\n",
       "      <td>NO_INSURANCE</td>\n",
       "    </tr>\n",
       "    <tr>\n",
       "      <th>626</th>\n",
       "      <td>a30d5bf4-f45c-4102-ad56-aa65534c1743</td>\n",
       "      <td>2007-10-05T14:19:13Z</td>\n",
       "      <td>2007-10-05T14:34:13Z</td>\n",
       "      <td>Lisbeth69 Hand679</td>\n",
       "      <td>37.0</td>\n",
       "      <td>Malden</td>\n",
       "      <td>Encounter for check up (procedure)</td>\n",
       "      <td>NaN</td>\n",
       "      <td>outpatient</td>\n",
       "      <td>129.16</td>\n",
       "      <td>0.00</td>\n",
       "      <td>HALLMARK HEALTH SYSTEM</td>\n",
       "      <td>MELROSE</td>\n",
       "      <td>561587.35</td>\n",
       "      <td>Vern731 Powlowski563</td>\n",
       "      <td>GENERAL PRACTICE</td>\n",
       "      <td>NO_INSURANCE</td>\n",
       "    </tr>\n",
       "    <tr>\n",
       "      <th>628</th>\n",
       "      <td>88d0cc9d-62d8-4c3a-92a1-5bc60c9ab9b4</td>\n",
       "      <td>2008-07-02T14:19:13Z</td>\n",
       "      <td>2008-07-02T14:34:13Z</td>\n",
       "      <td>Lisbeth69 Hand679</td>\n",
       "      <td>37.0</td>\n",
       "      <td>Malden</td>\n",
       "      <td>Consultation for treatment</td>\n",
       "      <td>NaN</td>\n",
       "      <td>outpatient</td>\n",
       "      <td>129.16</td>\n",
       "      <td>0.00</td>\n",
       "      <td>HALLMARK HEALTH SYSTEM</td>\n",
       "      <td>MELROSE</td>\n",
       "      <td>561587.35</td>\n",
       "      <td>Vern731 Powlowski563</td>\n",
       "      <td>GENERAL PRACTICE</td>\n",
       "      <td>NO_INSURANCE</td>\n",
       "    </tr>\n",
       "    <tr>\n",
       "      <th>632</th>\n",
       "      <td>0f2eccff-7741-4ff2-a13a-656cbd78394a</td>\n",
       "      <td>2010-12-17T14:19:13Z</td>\n",
       "      <td>2010-12-17T19:34:13Z</td>\n",
       "      <td>Lisbeth69 Hand679</td>\n",
       "      <td>37.0</td>\n",
       "      <td>Malden</td>\n",
       "      <td>Prenatal initial visit</td>\n",
       "      <td>Normal pregnancy</td>\n",
       "      <td>ambulatory</td>\n",
       "      <td>129.16</td>\n",
       "      <td>64.16</td>\n",
       "      <td>HALLMARK HEALTH SYSTEM</td>\n",
       "      <td>MELROSE</td>\n",
       "      <td>561587.35</td>\n",
       "      <td>Vern731 Powlowski563</td>\n",
       "      <td>GENERAL PRACTICE</td>\n",
       "      <td>Aetna</td>\n",
       "    </tr>\n",
       "    <tr>\n",
       "      <th>633</th>\n",
       "      <td>a8f5aec6-5b20-4c6e-b79b-4adeac18f978</td>\n",
       "      <td>2011-01-14T14:19:13Z</td>\n",
       "      <td>2011-01-14T15:19:13Z</td>\n",
       "      <td>Lisbeth69 Hand679</td>\n",
       "      <td>37.0</td>\n",
       "      <td>Malden</td>\n",
       "      <td>Prenatal visit</td>\n",
       "      <td>Normal pregnancy</td>\n",
       "      <td>ambulatory</td>\n",
       "      <td>129.16</td>\n",
       "      <td>64.16</td>\n",
       "      <td>HALLMARK HEALTH SYSTEM</td>\n",
       "      <td>MELROSE</td>\n",
       "      <td>561587.35</td>\n",
       "      <td>Vern731 Powlowski563</td>\n",
       "      <td>GENERAL PRACTICE</td>\n",
       "      <td>Aetna</td>\n",
       "    </tr>\n",
       "    <tr>\n",
       "      <th>...</th>\n",
       "      <td>...</td>\n",
       "      <td>...</td>\n",
       "      <td>...</td>\n",
       "      <td>...</td>\n",
       "      <td>...</td>\n",
       "      <td>...</td>\n",
       "      <td>...</td>\n",
       "      <td>...</td>\n",
       "      <td>...</td>\n",
       "      <td>...</td>\n",
       "      <td>...</td>\n",
       "      <td>...</td>\n",
       "      <td>...</td>\n",
       "      <td>...</td>\n",
       "      <td>...</td>\n",
       "      <td>...</td>\n",
       "      <td>...</td>\n",
       "    </tr>\n",
       "    <tr>\n",
       "      <th>52475</th>\n",
       "      <td>eb1b8c76-56f4-46ea-9e5f-5f0363db9858</td>\n",
       "      <td>2013-01-07T12:14:09Z</td>\n",
       "      <td>2013-01-07T12:29:09Z</td>\n",
       "      <td>Hubert238 Kihn564</td>\n",
       "      <td>12.0</td>\n",
       "      <td>Boston</td>\n",
       "      <td>Encounter for check up (procedure)</td>\n",
       "      <td>NaN</td>\n",
       "      <td>outpatient</td>\n",
       "      <td>129.16</td>\n",
       "      <td>0.00</td>\n",
       "      <td>HALLMARK HEALTH SYSTEM</td>\n",
       "      <td>MELROSE</td>\n",
       "      <td>561587.35</td>\n",
       "      <td>Vern731 Powlowski563</td>\n",
       "      <td>GENERAL PRACTICE</td>\n",
       "      <td>UnitedHealthcare</td>\n",
       "    </tr>\n",
       "    <tr>\n",
       "      <th>52476</th>\n",
       "      <td>fbb8bdc8-f506-4c1f-b899-0da2b4859a1a</td>\n",
       "      <td>2013-01-06T12:14:09Z</td>\n",
       "      <td>2013-01-06T12:29:09Z</td>\n",
       "      <td>Hubert238 Kihn564</td>\n",
       "      <td>12.0</td>\n",
       "      <td>Boston</td>\n",
       "      <td>Encounter for symptom</td>\n",
       "      <td>Acute bacterial sinusitis (disorder)</td>\n",
       "      <td>ambulatory</td>\n",
       "      <td>129.16</td>\n",
       "      <td>59.16</td>\n",
       "      <td>HALLMARK HEALTH SYSTEM</td>\n",
       "      <td>MELROSE</td>\n",
       "      <td>561587.35</td>\n",
       "      <td>Vern731 Powlowski563</td>\n",
       "      <td>GENERAL PRACTICE</td>\n",
       "      <td>UnitedHealthcare</td>\n",
       "    </tr>\n",
       "    <tr>\n",
       "      <th>52478</th>\n",
       "      <td>b35110b5-20b7-4ebf-84c5-62bf97ed94a3</td>\n",
       "      <td>2013-08-14T12:14:09Z</td>\n",
       "      <td>2013-08-14T12:29:09Z</td>\n",
       "      <td>Hubert238 Kihn564</td>\n",
       "      <td>12.0</td>\n",
       "      <td>Boston</td>\n",
       "      <td>Encounter for symptom</td>\n",
       "      <td>Viral sinusitis (disorder)</td>\n",
       "      <td>ambulatory</td>\n",
       "      <td>129.16</td>\n",
       "      <td>59.16</td>\n",
       "      <td>HALLMARK HEALTH SYSTEM</td>\n",
       "      <td>MELROSE</td>\n",
       "      <td>561587.35</td>\n",
       "      <td>Vern731 Powlowski563</td>\n",
       "      <td>GENERAL PRACTICE</td>\n",
       "      <td>UnitedHealthcare</td>\n",
       "    </tr>\n",
       "    <tr>\n",
       "      <th>52479</th>\n",
       "      <td>9a384fbd-3e24-41e6-b338-330a6efdddeb</td>\n",
       "      <td>2013-12-27T12:14:09Z</td>\n",
       "      <td>2013-12-27T12:29:09Z</td>\n",
       "      <td>Hubert238 Kihn564</td>\n",
       "      <td>12.0</td>\n",
       "      <td>Boston</td>\n",
       "      <td>Encounter for symptom</td>\n",
       "      <td>Viral sinusitis (disorder)</td>\n",
       "      <td>ambulatory</td>\n",
       "      <td>129.16</td>\n",
       "      <td>59.16</td>\n",
       "      <td>HALLMARK HEALTH SYSTEM</td>\n",
       "      <td>MELROSE</td>\n",
       "      <td>561587.35</td>\n",
       "      <td>Vern731 Powlowski563</td>\n",
       "      <td>GENERAL PRACTICE</td>\n",
       "      <td>UnitedHealthcare</td>\n",
       "    </tr>\n",
       "    <tr>\n",
       "      <th>52484</th>\n",
       "      <td>2283a706-fa4d-4e8e-b6a9-09fce989a5a8</td>\n",
       "      <td>2018-02-16T12:14:09Z</td>\n",
       "      <td>2018-02-16T12:29:09Z</td>\n",
       "      <td>Hubert238 Kihn564</td>\n",
       "      <td>12.0</td>\n",
       "      <td>Boston</td>\n",
       "      <td>Encounter for symptom</td>\n",
       "      <td>Viral sinusitis (disorder)</td>\n",
       "      <td>ambulatory</td>\n",
       "      <td>129.16</td>\n",
       "      <td>59.16</td>\n",
       "      <td>HALLMARK HEALTH SYSTEM</td>\n",
       "      <td>MELROSE</td>\n",
       "      <td>561587.35</td>\n",
       "      <td>Vern731 Powlowski563</td>\n",
       "      <td>GENERAL PRACTICE</td>\n",
       "      <td>UnitedHealthcare</td>\n",
       "    </tr>\n",
       "  </tbody>\n",
       "</table>\n",
       "<p>1658 rows × 17 columns</p>\n",
       "</div>"
      ],
      "text/plain": [
       "                                         Id                 START  \\\n",
       "619    6d18b619-7e41-4bd6-bffa-5ae235f20d5b  1998-04-24T14:19:13Z   \n",
       "626    a30d5bf4-f45c-4102-ad56-aa65534c1743  2007-10-05T14:19:13Z   \n",
       "628    88d0cc9d-62d8-4c3a-92a1-5bc60c9ab9b4  2008-07-02T14:19:13Z   \n",
       "632    0f2eccff-7741-4ff2-a13a-656cbd78394a  2010-12-17T14:19:13Z   \n",
       "633    a8f5aec6-5b20-4c6e-b79b-4adeac18f978  2011-01-14T14:19:13Z   \n",
       "...                                     ...                   ...   \n",
       "52475  eb1b8c76-56f4-46ea-9e5f-5f0363db9858  2013-01-07T12:14:09Z   \n",
       "52476  fbb8bdc8-f506-4c1f-b899-0da2b4859a1a  2013-01-06T12:14:09Z   \n",
       "52478  b35110b5-20b7-4ebf-84c5-62bf97ed94a3  2013-08-14T12:14:09Z   \n",
       "52479  9a384fbd-3e24-41e6-b338-330a6efdddeb  2013-12-27T12:14:09Z   \n",
       "52484  2283a706-fa4d-4e8e-b6a9-09fce989a5a8  2018-02-16T12:14:09Z   \n",
       "\n",
       "                       STOP       PATIENT_NAME   AGE    CITY  \\\n",
       "619    2019-02-01T14:34:13Z  Lisbeth69 Hand679  37.0  Malden   \n",
       "626    2007-10-05T14:34:13Z  Lisbeth69 Hand679  37.0  Malden   \n",
       "628    2008-07-02T14:34:13Z  Lisbeth69 Hand679  37.0  Malden   \n",
       "632    2010-12-17T19:34:13Z  Lisbeth69 Hand679  37.0  Malden   \n",
       "633    2011-01-14T15:19:13Z  Lisbeth69 Hand679  37.0  Malden   \n",
       "...                     ...                ...   ...     ...   \n",
       "52475  2013-01-07T12:29:09Z  Hubert238 Kihn564  12.0  Boston   \n",
       "52476  2013-01-06T12:29:09Z  Hubert238 Kihn564  12.0  Boston   \n",
       "52478  2013-08-14T12:29:09Z  Hubert238 Kihn564  12.0  Boston   \n",
       "52479  2013-12-27T12:29:09Z  Hubert238 Kihn564  12.0  Boston   \n",
       "52484  2018-02-16T12:29:09Z  Hubert238 Kihn564  12.0  Boston   \n",
       "\n",
       "                              DESCRIPTION  \\\n",
       "619    Encounter for check up (procedure)   \n",
       "626    Encounter for check up (procedure)   \n",
       "628            Consultation for treatment   \n",
       "632                Prenatal initial visit   \n",
       "633                        Prenatal visit   \n",
       "...                                   ...   \n",
       "52475  Encounter for check up (procedure)   \n",
       "52476               Encounter for symptom   \n",
       "52478               Encounter for symptom   \n",
       "52479               Encounter for symptom   \n",
       "52484               Encounter for symptom   \n",
       "\n",
       "                                     REASON ENCOUNTERCLASS  \\\n",
       "619                                     NaN     outpatient   \n",
       "626                                     NaN     outpatient   \n",
       "628                                     NaN     outpatient   \n",
       "632                        Normal pregnancy     ambulatory   \n",
       "633                        Normal pregnancy     ambulatory   \n",
       "...                                     ...            ...   \n",
       "52475                                   NaN     outpatient   \n",
       "52476  Acute bacterial sinusitis (disorder)     ambulatory   \n",
       "52478            Viral sinusitis (disorder)     ambulatory   \n",
       "52479            Viral sinusitis (disorder)     ambulatory   \n",
       "52484            Viral sinusitis (disorder)     ambulatory   \n",
       "\n",
       "       BASE_ENCOUNTER_COST  PAYER_COVERAGE                ORG_NAME ORG_CITY  \\\n",
       "619                 129.16            0.00  HALLMARK HEALTH SYSTEM  MELROSE   \n",
       "626                 129.16            0.00  HALLMARK HEALTH SYSTEM  MELROSE   \n",
       "628                 129.16            0.00  HALLMARK HEALTH SYSTEM  MELROSE   \n",
       "632                 129.16           64.16  HALLMARK HEALTH SYSTEM  MELROSE   \n",
       "633                 129.16           64.16  HALLMARK HEALTH SYSTEM  MELROSE   \n",
       "...                    ...             ...                     ...      ...   \n",
       "52475               129.16            0.00  HALLMARK HEALTH SYSTEM  MELROSE   \n",
       "52476               129.16           59.16  HALLMARK HEALTH SYSTEM  MELROSE   \n",
       "52478               129.16           59.16  HALLMARK HEALTH SYSTEM  MELROSE   \n",
       "52479               129.16           59.16  HALLMARK HEALTH SYSTEM  MELROSE   \n",
       "52484               129.16           59.16  HALLMARK HEALTH SYSTEM  MELROSE   \n",
       "\n",
       "         REVENUE         PROVIDER_NAME        SPECIALITY        PAYER_NAME  \n",
       "619    561587.35  Vern731 Powlowski563  GENERAL PRACTICE      NO_INSURANCE  \n",
       "626    561587.35  Vern731 Powlowski563  GENERAL PRACTICE      NO_INSURANCE  \n",
       "628    561587.35  Vern731 Powlowski563  GENERAL PRACTICE      NO_INSURANCE  \n",
       "632    561587.35  Vern731 Powlowski563  GENERAL PRACTICE             Aetna  \n",
       "633    561587.35  Vern731 Powlowski563  GENERAL PRACTICE             Aetna  \n",
       "...          ...                   ...               ...               ...  \n",
       "52475  561587.35  Vern731 Powlowski563  GENERAL PRACTICE  UnitedHealthcare  \n",
       "52476  561587.35  Vern731 Powlowski563  GENERAL PRACTICE  UnitedHealthcare  \n",
       "52478  561587.35  Vern731 Powlowski563  GENERAL PRACTICE  UnitedHealthcare  \n",
       "52479  561587.35  Vern731 Powlowski563  GENERAL PRACTICE  UnitedHealthcare  \n",
       "52484  561587.35  Vern731 Powlowski563  GENERAL PRACTICE  UnitedHealthcare  \n",
       "\n",
       "[1658 rows x 17 columns]"
      ]
     },
     "execution_count": 26,
     "metadata": {},
     "output_type": "execute_result"
    }
   ],
   "source": [
    "df=encounter[encounter[\"ORG_NAME\"]==\"HALLMARK HEALTH SYSTEM\"]\n",
    "df"
   ]
  },
  {
   "cell_type": "code",
   "execution_count": 27,
   "metadata": {},
   "outputs": [
    {
     "name": "stderr",
     "output_type": "stream",
     "text": [
      "/home/riz-ryu/miniconda3/envs/stm/lib/python3.7/site-packages/ipykernel_launcher.py:1: SettingWithCopyWarning:\n",
      "\n",
      "\n",
      "A value is trying to be set on a copy of a slice from a DataFrame.\n",
      "Try using .loc[row_indexer,col_indexer] = value instead\n",
      "\n",
      "See the caveats in the documentation: https://pandas.pydata.org/pandas-docs/stable/user_guide/indexing.html#returning-a-view-versus-a-copy\n",
      "\n",
      "/home/riz-ryu/miniconda3/envs/stm/lib/python3.7/site-packages/ipykernel_launcher.py:2: SettingWithCopyWarning:\n",
      "\n",
      "\n",
      "A value is trying to be set on a copy of a slice from a DataFrame.\n",
      "Try using .loc[row_indexer,col_indexer] = value instead\n",
      "\n",
      "See the caveats in the documentation: https://pandas.pydata.org/pandas-docs/stable/user_guide/indexing.html#returning-a-view-versus-a-copy\n",
      "\n"
     ]
    },
    {
     "data": {
      "text/html": [
       "<div>\n",
       "<style scoped>\n",
       "    .dataframe tbody tr th:only-of-type {\n",
       "        vertical-align: middle;\n",
       "    }\n",
       "\n",
       "    .dataframe tbody tr th {\n",
       "        vertical-align: top;\n",
       "    }\n",
       "\n",
       "    .dataframe thead th {\n",
       "        text-align: right;\n",
       "    }\n",
       "</style>\n",
       "<table border=\"1\" class=\"dataframe\">\n",
       "  <thead>\n",
       "    <tr style=\"text-align: right;\">\n",
       "      <th></th>\n",
       "      <th>Id</th>\n",
       "      <th>START</th>\n",
       "      <th>STOP</th>\n",
       "      <th>PATIENT_NAME</th>\n",
       "      <th>AGE</th>\n",
       "      <th>CITY</th>\n",
       "      <th>DESCRIPTION</th>\n",
       "      <th>REASON</th>\n",
       "      <th>ENCOUNTERCLASS</th>\n",
       "      <th>BASE_ENCOUNTER_COST</th>\n",
       "      <th>PAYER_COVERAGE</th>\n",
       "      <th>ORG_NAME</th>\n",
       "      <th>ORG_CITY</th>\n",
       "      <th>REVENUE</th>\n",
       "      <th>PROVIDER_NAME</th>\n",
       "      <th>SPECIALITY</th>\n",
       "      <th>PAYER_NAME</th>\n",
       "      <th>YEAR</th>\n",
       "    </tr>\n",
       "  </thead>\n",
       "  <tbody>\n",
       "    <tr>\n",
       "      <th>619</th>\n",
       "      <td>6d18b619-7e41-4bd6-bffa-5ae235f20d5b</td>\n",
       "      <td>1998-04-24 14:19:13+00:00</td>\n",
       "      <td>2019-02-01T14:34:13Z</td>\n",
       "      <td>Lisbeth69 Hand679</td>\n",
       "      <td>37.0</td>\n",
       "      <td>Malden</td>\n",
       "      <td>Encounter for check up (procedure)</td>\n",
       "      <td>NaN</td>\n",
       "      <td>outpatient</td>\n",
       "      <td>129.16</td>\n",
       "      <td>0.00</td>\n",
       "      <td>HALLMARK HEALTH SYSTEM</td>\n",
       "      <td>MELROSE</td>\n",
       "      <td>561587.35</td>\n",
       "      <td>Vern731 Powlowski563</td>\n",
       "      <td>GENERAL PRACTICE</td>\n",
       "      <td>NO_INSURANCE</td>\n",
       "      <td>1998</td>\n",
       "    </tr>\n",
       "    <tr>\n",
       "      <th>626</th>\n",
       "      <td>a30d5bf4-f45c-4102-ad56-aa65534c1743</td>\n",
       "      <td>2007-10-05 14:19:13+00:00</td>\n",
       "      <td>2007-10-05T14:34:13Z</td>\n",
       "      <td>Lisbeth69 Hand679</td>\n",
       "      <td>37.0</td>\n",
       "      <td>Malden</td>\n",
       "      <td>Encounter for check up (procedure)</td>\n",
       "      <td>NaN</td>\n",
       "      <td>outpatient</td>\n",
       "      <td>129.16</td>\n",
       "      <td>0.00</td>\n",
       "      <td>HALLMARK HEALTH SYSTEM</td>\n",
       "      <td>MELROSE</td>\n",
       "      <td>561587.35</td>\n",
       "      <td>Vern731 Powlowski563</td>\n",
       "      <td>GENERAL PRACTICE</td>\n",
       "      <td>NO_INSURANCE</td>\n",
       "      <td>2007</td>\n",
       "    </tr>\n",
       "    <tr>\n",
       "      <th>628</th>\n",
       "      <td>88d0cc9d-62d8-4c3a-92a1-5bc60c9ab9b4</td>\n",
       "      <td>2008-07-02 14:19:13+00:00</td>\n",
       "      <td>2008-07-02T14:34:13Z</td>\n",
       "      <td>Lisbeth69 Hand679</td>\n",
       "      <td>37.0</td>\n",
       "      <td>Malden</td>\n",
       "      <td>Consultation for treatment</td>\n",
       "      <td>NaN</td>\n",
       "      <td>outpatient</td>\n",
       "      <td>129.16</td>\n",
       "      <td>0.00</td>\n",
       "      <td>HALLMARK HEALTH SYSTEM</td>\n",
       "      <td>MELROSE</td>\n",
       "      <td>561587.35</td>\n",
       "      <td>Vern731 Powlowski563</td>\n",
       "      <td>GENERAL PRACTICE</td>\n",
       "      <td>NO_INSURANCE</td>\n",
       "      <td>2008</td>\n",
       "    </tr>\n",
       "    <tr>\n",
       "      <th>632</th>\n",
       "      <td>0f2eccff-7741-4ff2-a13a-656cbd78394a</td>\n",
       "      <td>2010-12-17 14:19:13+00:00</td>\n",
       "      <td>2010-12-17T19:34:13Z</td>\n",
       "      <td>Lisbeth69 Hand679</td>\n",
       "      <td>37.0</td>\n",
       "      <td>Malden</td>\n",
       "      <td>Prenatal initial visit</td>\n",
       "      <td>Normal pregnancy</td>\n",
       "      <td>ambulatory</td>\n",
       "      <td>129.16</td>\n",
       "      <td>64.16</td>\n",
       "      <td>HALLMARK HEALTH SYSTEM</td>\n",
       "      <td>MELROSE</td>\n",
       "      <td>561587.35</td>\n",
       "      <td>Vern731 Powlowski563</td>\n",
       "      <td>GENERAL PRACTICE</td>\n",
       "      <td>Aetna</td>\n",
       "      <td>2010</td>\n",
       "    </tr>\n",
       "    <tr>\n",
       "      <th>633</th>\n",
       "      <td>a8f5aec6-5b20-4c6e-b79b-4adeac18f978</td>\n",
       "      <td>2011-01-14 14:19:13+00:00</td>\n",
       "      <td>2011-01-14T15:19:13Z</td>\n",
       "      <td>Lisbeth69 Hand679</td>\n",
       "      <td>37.0</td>\n",
       "      <td>Malden</td>\n",
       "      <td>Prenatal visit</td>\n",
       "      <td>Normal pregnancy</td>\n",
       "      <td>ambulatory</td>\n",
       "      <td>129.16</td>\n",
       "      <td>64.16</td>\n",
       "      <td>HALLMARK HEALTH SYSTEM</td>\n",
       "      <td>MELROSE</td>\n",
       "      <td>561587.35</td>\n",
       "      <td>Vern731 Powlowski563</td>\n",
       "      <td>GENERAL PRACTICE</td>\n",
       "      <td>Aetna</td>\n",
       "      <td>2011</td>\n",
       "    </tr>\n",
       "    <tr>\n",
       "      <th>...</th>\n",
       "      <td>...</td>\n",
       "      <td>...</td>\n",
       "      <td>...</td>\n",
       "      <td>...</td>\n",
       "      <td>...</td>\n",
       "      <td>...</td>\n",
       "      <td>...</td>\n",
       "      <td>...</td>\n",
       "      <td>...</td>\n",
       "      <td>...</td>\n",
       "      <td>...</td>\n",
       "      <td>...</td>\n",
       "      <td>...</td>\n",
       "      <td>...</td>\n",
       "      <td>...</td>\n",
       "      <td>...</td>\n",
       "      <td>...</td>\n",
       "      <td>...</td>\n",
       "    </tr>\n",
       "    <tr>\n",
       "      <th>52475</th>\n",
       "      <td>eb1b8c76-56f4-46ea-9e5f-5f0363db9858</td>\n",
       "      <td>2013-01-07 12:14:09+00:00</td>\n",
       "      <td>2013-01-07T12:29:09Z</td>\n",
       "      <td>Hubert238 Kihn564</td>\n",
       "      <td>12.0</td>\n",
       "      <td>Boston</td>\n",
       "      <td>Encounter for check up (procedure)</td>\n",
       "      <td>NaN</td>\n",
       "      <td>outpatient</td>\n",
       "      <td>129.16</td>\n",
       "      <td>0.00</td>\n",
       "      <td>HALLMARK HEALTH SYSTEM</td>\n",
       "      <td>MELROSE</td>\n",
       "      <td>561587.35</td>\n",
       "      <td>Vern731 Powlowski563</td>\n",
       "      <td>GENERAL PRACTICE</td>\n",
       "      <td>UnitedHealthcare</td>\n",
       "      <td>2013</td>\n",
       "    </tr>\n",
       "    <tr>\n",
       "      <th>52476</th>\n",
       "      <td>fbb8bdc8-f506-4c1f-b899-0da2b4859a1a</td>\n",
       "      <td>2013-01-06 12:14:09+00:00</td>\n",
       "      <td>2013-01-06T12:29:09Z</td>\n",
       "      <td>Hubert238 Kihn564</td>\n",
       "      <td>12.0</td>\n",
       "      <td>Boston</td>\n",
       "      <td>Encounter for symptom</td>\n",
       "      <td>Acute bacterial sinusitis (disorder)</td>\n",
       "      <td>ambulatory</td>\n",
       "      <td>129.16</td>\n",
       "      <td>59.16</td>\n",
       "      <td>HALLMARK HEALTH SYSTEM</td>\n",
       "      <td>MELROSE</td>\n",
       "      <td>561587.35</td>\n",
       "      <td>Vern731 Powlowski563</td>\n",
       "      <td>GENERAL PRACTICE</td>\n",
       "      <td>UnitedHealthcare</td>\n",
       "      <td>2013</td>\n",
       "    </tr>\n",
       "    <tr>\n",
       "      <th>52478</th>\n",
       "      <td>b35110b5-20b7-4ebf-84c5-62bf97ed94a3</td>\n",
       "      <td>2013-08-14 12:14:09+00:00</td>\n",
       "      <td>2013-08-14T12:29:09Z</td>\n",
       "      <td>Hubert238 Kihn564</td>\n",
       "      <td>12.0</td>\n",
       "      <td>Boston</td>\n",
       "      <td>Encounter for symptom</td>\n",
       "      <td>Viral sinusitis (disorder)</td>\n",
       "      <td>ambulatory</td>\n",
       "      <td>129.16</td>\n",
       "      <td>59.16</td>\n",
       "      <td>HALLMARK HEALTH SYSTEM</td>\n",
       "      <td>MELROSE</td>\n",
       "      <td>561587.35</td>\n",
       "      <td>Vern731 Powlowski563</td>\n",
       "      <td>GENERAL PRACTICE</td>\n",
       "      <td>UnitedHealthcare</td>\n",
       "      <td>2013</td>\n",
       "    </tr>\n",
       "    <tr>\n",
       "      <th>52479</th>\n",
       "      <td>9a384fbd-3e24-41e6-b338-330a6efdddeb</td>\n",
       "      <td>2013-12-27 12:14:09+00:00</td>\n",
       "      <td>2013-12-27T12:29:09Z</td>\n",
       "      <td>Hubert238 Kihn564</td>\n",
       "      <td>12.0</td>\n",
       "      <td>Boston</td>\n",
       "      <td>Encounter for symptom</td>\n",
       "      <td>Viral sinusitis (disorder)</td>\n",
       "      <td>ambulatory</td>\n",
       "      <td>129.16</td>\n",
       "      <td>59.16</td>\n",
       "      <td>HALLMARK HEALTH SYSTEM</td>\n",
       "      <td>MELROSE</td>\n",
       "      <td>561587.35</td>\n",
       "      <td>Vern731 Powlowski563</td>\n",
       "      <td>GENERAL PRACTICE</td>\n",
       "      <td>UnitedHealthcare</td>\n",
       "      <td>2013</td>\n",
       "    </tr>\n",
       "    <tr>\n",
       "      <th>52484</th>\n",
       "      <td>2283a706-fa4d-4e8e-b6a9-09fce989a5a8</td>\n",
       "      <td>2018-02-16 12:14:09+00:00</td>\n",
       "      <td>2018-02-16T12:29:09Z</td>\n",
       "      <td>Hubert238 Kihn564</td>\n",
       "      <td>12.0</td>\n",
       "      <td>Boston</td>\n",
       "      <td>Encounter for symptom</td>\n",
       "      <td>Viral sinusitis (disorder)</td>\n",
       "      <td>ambulatory</td>\n",
       "      <td>129.16</td>\n",
       "      <td>59.16</td>\n",
       "      <td>HALLMARK HEALTH SYSTEM</td>\n",
       "      <td>MELROSE</td>\n",
       "      <td>561587.35</td>\n",
       "      <td>Vern731 Powlowski563</td>\n",
       "      <td>GENERAL PRACTICE</td>\n",
       "      <td>UnitedHealthcare</td>\n",
       "      <td>2018</td>\n",
       "    </tr>\n",
       "  </tbody>\n",
       "</table>\n",
       "<p>1658 rows × 18 columns</p>\n",
       "</div>"
      ],
      "text/plain": [
       "                                         Id                     START  \\\n",
       "619    6d18b619-7e41-4bd6-bffa-5ae235f20d5b 1998-04-24 14:19:13+00:00   \n",
       "626    a30d5bf4-f45c-4102-ad56-aa65534c1743 2007-10-05 14:19:13+00:00   \n",
       "628    88d0cc9d-62d8-4c3a-92a1-5bc60c9ab9b4 2008-07-02 14:19:13+00:00   \n",
       "632    0f2eccff-7741-4ff2-a13a-656cbd78394a 2010-12-17 14:19:13+00:00   \n",
       "633    a8f5aec6-5b20-4c6e-b79b-4adeac18f978 2011-01-14 14:19:13+00:00   \n",
       "...                                     ...                       ...   \n",
       "52475  eb1b8c76-56f4-46ea-9e5f-5f0363db9858 2013-01-07 12:14:09+00:00   \n",
       "52476  fbb8bdc8-f506-4c1f-b899-0da2b4859a1a 2013-01-06 12:14:09+00:00   \n",
       "52478  b35110b5-20b7-4ebf-84c5-62bf97ed94a3 2013-08-14 12:14:09+00:00   \n",
       "52479  9a384fbd-3e24-41e6-b338-330a6efdddeb 2013-12-27 12:14:09+00:00   \n",
       "52484  2283a706-fa4d-4e8e-b6a9-09fce989a5a8 2018-02-16 12:14:09+00:00   \n",
       "\n",
       "                       STOP       PATIENT_NAME   AGE    CITY  \\\n",
       "619    2019-02-01T14:34:13Z  Lisbeth69 Hand679  37.0  Malden   \n",
       "626    2007-10-05T14:34:13Z  Lisbeth69 Hand679  37.0  Malden   \n",
       "628    2008-07-02T14:34:13Z  Lisbeth69 Hand679  37.0  Malden   \n",
       "632    2010-12-17T19:34:13Z  Lisbeth69 Hand679  37.0  Malden   \n",
       "633    2011-01-14T15:19:13Z  Lisbeth69 Hand679  37.0  Malden   \n",
       "...                     ...                ...   ...     ...   \n",
       "52475  2013-01-07T12:29:09Z  Hubert238 Kihn564  12.0  Boston   \n",
       "52476  2013-01-06T12:29:09Z  Hubert238 Kihn564  12.0  Boston   \n",
       "52478  2013-08-14T12:29:09Z  Hubert238 Kihn564  12.0  Boston   \n",
       "52479  2013-12-27T12:29:09Z  Hubert238 Kihn564  12.0  Boston   \n",
       "52484  2018-02-16T12:29:09Z  Hubert238 Kihn564  12.0  Boston   \n",
       "\n",
       "                              DESCRIPTION  \\\n",
       "619    Encounter for check up (procedure)   \n",
       "626    Encounter for check up (procedure)   \n",
       "628            Consultation for treatment   \n",
       "632                Prenatal initial visit   \n",
       "633                        Prenatal visit   \n",
       "...                                   ...   \n",
       "52475  Encounter for check up (procedure)   \n",
       "52476               Encounter for symptom   \n",
       "52478               Encounter for symptom   \n",
       "52479               Encounter for symptom   \n",
       "52484               Encounter for symptom   \n",
       "\n",
       "                                     REASON ENCOUNTERCLASS  \\\n",
       "619                                     NaN     outpatient   \n",
       "626                                     NaN     outpatient   \n",
       "628                                     NaN     outpatient   \n",
       "632                        Normal pregnancy     ambulatory   \n",
       "633                        Normal pregnancy     ambulatory   \n",
       "...                                     ...            ...   \n",
       "52475                                   NaN     outpatient   \n",
       "52476  Acute bacterial sinusitis (disorder)     ambulatory   \n",
       "52478            Viral sinusitis (disorder)     ambulatory   \n",
       "52479            Viral sinusitis (disorder)     ambulatory   \n",
       "52484            Viral sinusitis (disorder)     ambulatory   \n",
       "\n",
       "       BASE_ENCOUNTER_COST  PAYER_COVERAGE                ORG_NAME ORG_CITY  \\\n",
       "619                 129.16            0.00  HALLMARK HEALTH SYSTEM  MELROSE   \n",
       "626                 129.16            0.00  HALLMARK HEALTH SYSTEM  MELROSE   \n",
       "628                 129.16            0.00  HALLMARK HEALTH SYSTEM  MELROSE   \n",
       "632                 129.16           64.16  HALLMARK HEALTH SYSTEM  MELROSE   \n",
       "633                 129.16           64.16  HALLMARK HEALTH SYSTEM  MELROSE   \n",
       "...                    ...             ...                     ...      ...   \n",
       "52475               129.16            0.00  HALLMARK HEALTH SYSTEM  MELROSE   \n",
       "52476               129.16           59.16  HALLMARK HEALTH SYSTEM  MELROSE   \n",
       "52478               129.16           59.16  HALLMARK HEALTH SYSTEM  MELROSE   \n",
       "52479               129.16           59.16  HALLMARK HEALTH SYSTEM  MELROSE   \n",
       "52484               129.16           59.16  HALLMARK HEALTH SYSTEM  MELROSE   \n",
       "\n",
       "         REVENUE         PROVIDER_NAME        SPECIALITY        PAYER_NAME  \\\n",
       "619    561587.35  Vern731 Powlowski563  GENERAL PRACTICE      NO_INSURANCE   \n",
       "626    561587.35  Vern731 Powlowski563  GENERAL PRACTICE      NO_INSURANCE   \n",
       "628    561587.35  Vern731 Powlowski563  GENERAL PRACTICE      NO_INSURANCE   \n",
       "632    561587.35  Vern731 Powlowski563  GENERAL PRACTICE             Aetna   \n",
       "633    561587.35  Vern731 Powlowski563  GENERAL PRACTICE             Aetna   \n",
       "...          ...                   ...               ...               ...   \n",
       "52475  561587.35  Vern731 Powlowski563  GENERAL PRACTICE  UnitedHealthcare   \n",
       "52476  561587.35  Vern731 Powlowski563  GENERAL PRACTICE  UnitedHealthcare   \n",
       "52478  561587.35  Vern731 Powlowski563  GENERAL PRACTICE  UnitedHealthcare   \n",
       "52479  561587.35  Vern731 Powlowski563  GENERAL PRACTICE  UnitedHealthcare   \n",
       "52484  561587.35  Vern731 Powlowski563  GENERAL PRACTICE  UnitedHealthcare   \n",
       "\n",
       "       YEAR  \n",
       "619    1998  \n",
       "626    2007  \n",
       "628    2008  \n",
       "632    2010  \n",
       "633    2011  \n",
       "...     ...  \n",
       "52475  2013  \n",
       "52476  2013  \n",
       "52478  2013  \n",
       "52479  2013  \n",
       "52484  2018  \n",
       "\n",
       "[1658 rows x 18 columns]"
      ]
     },
     "execution_count": 27,
     "metadata": {},
     "output_type": "execute_result"
    }
   ],
   "source": [
    "df[\"START\"]=pd.to_datetime(df[\"START\"],format=\"%Y-%m-%d\")\n",
    "df[\"YEAR\"]=df[\"START\"].apply(lambda x:x.year)\n",
    "df"
   ]
  },
  {
   "cell_type": "code",
   "execution_count": 71,
   "metadata": {},
   "outputs": [],
   "source": [
    "df=df[df[\"YEAR\"]>=2010]"
   ]
  },
  {
   "cell_type": "code",
   "execution_count": 72,
   "metadata": {},
   "outputs": [],
   "source": [
    "import plotly.express as px\n",
    "fig=go.Figure()"
   ]
  },
  {
   "cell_type": "code",
   "execution_count": 73,
   "metadata": {},
   "outputs": [],
   "source": [
    "# HOW MANY CASES/PATIENTS HAVE COME EVERY YEAR"
   ]
  },
  {
   "cell_type": "code",
   "execution_count": 74,
   "metadata": {
    "jupyter": {
     "outputs_hidden": true
    }
   },
   "outputs": [
    {
     "data": {
      "application/vnd.plotly.v1+json": {
       "config": {
        "plotlyServerURL": "https://plot.ly"
       },
       "data": [
        {
         "alignmentgroup": "True",
         "hoverlabel": {
          "namelength": 0
         },
         "hovertemplate": "YEAR=%{x}<br>num of cases=%{y}",
         "legendgroup": "",
         "marker": {
          "color": "#636efa"
         },
         "name": "",
         "offsetgroup": "",
         "orientation": "v",
         "showlegend": false,
         "textposition": "auto",
         "type": "bar",
         "x": [
          2010,
          2011,
          2012,
          2013,
          2014,
          2015,
          2016,
          2017,
          2018,
          2019,
          2020
         ],
         "xaxis": "x",
         "y": [
          63,
          157,
          180,
          125,
          136,
          104,
          114,
          153,
          126,
          119,
          47
         ],
         "yaxis": "y"
        }
       ],
       "layout": {
        "barmode": "relative",
        "legend": {
         "tracegroupgap": 0
        },
        "margin": {
         "t": 60
        },
        "template": {
         "data": {
          "bar": [
           {
            "error_x": {
             "color": "#2a3f5f"
            },
            "error_y": {
             "color": "#2a3f5f"
            },
            "marker": {
             "line": {
              "color": "#E5ECF6",
              "width": 0.5
             }
            },
            "type": "bar"
           }
          ],
          "barpolar": [
           {
            "marker": {
             "line": {
              "color": "#E5ECF6",
              "width": 0.5
             }
            },
            "type": "barpolar"
           }
          ],
          "carpet": [
           {
            "aaxis": {
             "endlinecolor": "#2a3f5f",
             "gridcolor": "white",
             "linecolor": "white",
             "minorgridcolor": "white",
             "startlinecolor": "#2a3f5f"
            },
            "baxis": {
             "endlinecolor": "#2a3f5f",
             "gridcolor": "white",
             "linecolor": "white",
             "minorgridcolor": "white",
             "startlinecolor": "#2a3f5f"
            },
            "type": "carpet"
           }
          ],
          "choropleth": [
           {
            "colorbar": {
             "outlinewidth": 0,
             "ticks": ""
            },
            "type": "choropleth"
           }
          ],
          "contour": [
           {
            "colorbar": {
             "outlinewidth": 0,
             "ticks": ""
            },
            "colorscale": [
             [
              0,
              "#0d0887"
             ],
             [
              0.1111111111111111,
              "#46039f"
             ],
             [
              0.2222222222222222,
              "#7201a8"
             ],
             [
              0.3333333333333333,
              "#9c179e"
             ],
             [
              0.4444444444444444,
              "#bd3786"
             ],
             [
              0.5555555555555556,
              "#d8576b"
             ],
             [
              0.6666666666666666,
              "#ed7953"
             ],
             [
              0.7777777777777778,
              "#fb9f3a"
             ],
             [
              0.8888888888888888,
              "#fdca26"
             ],
             [
              1,
              "#f0f921"
             ]
            ],
            "type": "contour"
           }
          ],
          "contourcarpet": [
           {
            "colorbar": {
             "outlinewidth": 0,
             "ticks": ""
            },
            "type": "contourcarpet"
           }
          ],
          "heatmap": [
           {
            "colorbar": {
             "outlinewidth": 0,
             "ticks": ""
            },
            "colorscale": [
             [
              0,
              "#0d0887"
             ],
             [
              0.1111111111111111,
              "#46039f"
             ],
             [
              0.2222222222222222,
              "#7201a8"
             ],
             [
              0.3333333333333333,
              "#9c179e"
             ],
             [
              0.4444444444444444,
              "#bd3786"
             ],
             [
              0.5555555555555556,
              "#d8576b"
             ],
             [
              0.6666666666666666,
              "#ed7953"
             ],
             [
              0.7777777777777778,
              "#fb9f3a"
             ],
             [
              0.8888888888888888,
              "#fdca26"
             ],
             [
              1,
              "#f0f921"
             ]
            ],
            "type": "heatmap"
           }
          ],
          "heatmapgl": [
           {
            "colorbar": {
             "outlinewidth": 0,
             "ticks": ""
            },
            "colorscale": [
             [
              0,
              "#0d0887"
             ],
             [
              0.1111111111111111,
              "#46039f"
             ],
             [
              0.2222222222222222,
              "#7201a8"
             ],
             [
              0.3333333333333333,
              "#9c179e"
             ],
             [
              0.4444444444444444,
              "#bd3786"
             ],
             [
              0.5555555555555556,
              "#d8576b"
             ],
             [
              0.6666666666666666,
              "#ed7953"
             ],
             [
              0.7777777777777778,
              "#fb9f3a"
             ],
             [
              0.8888888888888888,
              "#fdca26"
             ],
             [
              1,
              "#f0f921"
             ]
            ],
            "type": "heatmapgl"
           }
          ],
          "histogram": [
           {
            "marker": {
             "colorbar": {
              "outlinewidth": 0,
              "ticks": ""
             }
            },
            "type": "histogram"
           }
          ],
          "histogram2d": [
           {
            "colorbar": {
             "outlinewidth": 0,
             "ticks": ""
            },
            "colorscale": [
             [
              0,
              "#0d0887"
             ],
             [
              0.1111111111111111,
              "#46039f"
             ],
             [
              0.2222222222222222,
              "#7201a8"
             ],
             [
              0.3333333333333333,
              "#9c179e"
             ],
             [
              0.4444444444444444,
              "#bd3786"
             ],
             [
              0.5555555555555556,
              "#d8576b"
             ],
             [
              0.6666666666666666,
              "#ed7953"
             ],
             [
              0.7777777777777778,
              "#fb9f3a"
             ],
             [
              0.8888888888888888,
              "#fdca26"
             ],
             [
              1,
              "#f0f921"
             ]
            ],
            "type": "histogram2d"
           }
          ],
          "histogram2dcontour": [
           {
            "colorbar": {
             "outlinewidth": 0,
             "ticks": ""
            },
            "colorscale": [
             [
              0,
              "#0d0887"
             ],
             [
              0.1111111111111111,
              "#46039f"
             ],
             [
              0.2222222222222222,
              "#7201a8"
             ],
             [
              0.3333333333333333,
              "#9c179e"
             ],
             [
              0.4444444444444444,
              "#bd3786"
             ],
             [
              0.5555555555555556,
              "#d8576b"
             ],
             [
              0.6666666666666666,
              "#ed7953"
             ],
             [
              0.7777777777777778,
              "#fb9f3a"
             ],
             [
              0.8888888888888888,
              "#fdca26"
             ],
             [
              1,
              "#f0f921"
             ]
            ],
            "type": "histogram2dcontour"
           }
          ],
          "mesh3d": [
           {
            "colorbar": {
             "outlinewidth": 0,
             "ticks": ""
            },
            "type": "mesh3d"
           }
          ],
          "parcoords": [
           {
            "line": {
             "colorbar": {
              "outlinewidth": 0,
              "ticks": ""
             }
            },
            "type": "parcoords"
           }
          ],
          "pie": [
           {
            "automargin": true,
            "type": "pie"
           }
          ],
          "scatter": [
           {
            "marker": {
             "colorbar": {
              "outlinewidth": 0,
              "ticks": ""
             }
            },
            "type": "scatter"
           }
          ],
          "scatter3d": [
           {
            "line": {
             "colorbar": {
              "outlinewidth": 0,
              "ticks": ""
             }
            },
            "marker": {
             "colorbar": {
              "outlinewidth": 0,
              "ticks": ""
             }
            },
            "type": "scatter3d"
           }
          ],
          "scattercarpet": [
           {
            "marker": {
             "colorbar": {
              "outlinewidth": 0,
              "ticks": ""
             }
            },
            "type": "scattercarpet"
           }
          ],
          "scattergeo": [
           {
            "marker": {
             "colorbar": {
              "outlinewidth": 0,
              "ticks": ""
             }
            },
            "type": "scattergeo"
           }
          ],
          "scattergl": [
           {
            "marker": {
             "colorbar": {
              "outlinewidth": 0,
              "ticks": ""
             }
            },
            "type": "scattergl"
           }
          ],
          "scattermapbox": [
           {
            "marker": {
             "colorbar": {
              "outlinewidth": 0,
              "ticks": ""
             }
            },
            "type": "scattermapbox"
           }
          ],
          "scatterpolar": [
           {
            "marker": {
             "colorbar": {
              "outlinewidth": 0,
              "ticks": ""
             }
            },
            "type": "scatterpolar"
           }
          ],
          "scatterpolargl": [
           {
            "marker": {
             "colorbar": {
              "outlinewidth": 0,
              "ticks": ""
             }
            },
            "type": "scatterpolargl"
           }
          ],
          "scatterternary": [
           {
            "marker": {
             "colorbar": {
              "outlinewidth": 0,
              "ticks": ""
             }
            },
            "type": "scatterternary"
           }
          ],
          "surface": [
           {
            "colorbar": {
             "outlinewidth": 0,
             "ticks": ""
            },
            "colorscale": [
             [
              0,
              "#0d0887"
             ],
             [
              0.1111111111111111,
              "#46039f"
             ],
             [
              0.2222222222222222,
              "#7201a8"
             ],
             [
              0.3333333333333333,
              "#9c179e"
             ],
             [
              0.4444444444444444,
              "#bd3786"
             ],
             [
              0.5555555555555556,
              "#d8576b"
             ],
             [
              0.6666666666666666,
              "#ed7953"
             ],
             [
              0.7777777777777778,
              "#fb9f3a"
             ],
             [
              0.8888888888888888,
              "#fdca26"
             ],
             [
              1,
              "#f0f921"
             ]
            ],
            "type": "surface"
           }
          ],
          "table": [
           {
            "cells": {
             "fill": {
              "color": "#EBF0F8"
             },
             "line": {
              "color": "white"
             }
            },
            "header": {
             "fill": {
              "color": "#C8D4E3"
             },
             "line": {
              "color": "white"
             }
            },
            "type": "table"
           }
          ]
         },
         "layout": {
          "annotationdefaults": {
           "arrowcolor": "#2a3f5f",
           "arrowhead": 0,
           "arrowwidth": 1
          },
          "coloraxis": {
           "colorbar": {
            "outlinewidth": 0,
            "ticks": ""
           }
          },
          "colorscale": {
           "diverging": [
            [
             0,
             "#8e0152"
            ],
            [
             0.1,
             "#c51b7d"
            ],
            [
             0.2,
             "#de77ae"
            ],
            [
             0.3,
             "#f1b6da"
            ],
            [
             0.4,
             "#fde0ef"
            ],
            [
             0.5,
             "#f7f7f7"
            ],
            [
             0.6,
             "#e6f5d0"
            ],
            [
             0.7,
             "#b8e186"
            ],
            [
             0.8,
             "#7fbc41"
            ],
            [
             0.9,
             "#4d9221"
            ],
            [
             1,
             "#276419"
            ]
           ],
           "sequential": [
            [
             0,
             "#0d0887"
            ],
            [
             0.1111111111111111,
             "#46039f"
            ],
            [
             0.2222222222222222,
             "#7201a8"
            ],
            [
             0.3333333333333333,
             "#9c179e"
            ],
            [
             0.4444444444444444,
             "#bd3786"
            ],
            [
             0.5555555555555556,
             "#d8576b"
            ],
            [
             0.6666666666666666,
             "#ed7953"
            ],
            [
             0.7777777777777778,
             "#fb9f3a"
            ],
            [
             0.8888888888888888,
             "#fdca26"
            ],
            [
             1,
             "#f0f921"
            ]
           ],
           "sequentialminus": [
            [
             0,
             "#0d0887"
            ],
            [
             0.1111111111111111,
             "#46039f"
            ],
            [
             0.2222222222222222,
             "#7201a8"
            ],
            [
             0.3333333333333333,
             "#9c179e"
            ],
            [
             0.4444444444444444,
             "#bd3786"
            ],
            [
             0.5555555555555556,
             "#d8576b"
            ],
            [
             0.6666666666666666,
             "#ed7953"
            ],
            [
             0.7777777777777778,
             "#fb9f3a"
            ],
            [
             0.8888888888888888,
             "#fdca26"
            ],
            [
             1,
             "#f0f921"
            ]
           ]
          },
          "colorway": [
           "#636efa",
           "#EF553B",
           "#00cc96",
           "#ab63fa",
           "#FFA15A",
           "#19d3f3",
           "#FF6692",
           "#B6E880",
           "#FF97FF",
           "#FECB52"
          ],
          "font": {
           "color": "#2a3f5f"
          },
          "geo": {
           "bgcolor": "white",
           "lakecolor": "white",
           "landcolor": "#E5ECF6",
           "showlakes": true,
           "showland": true,
           "subunitcolor": "white"
          },
          "hoverlabel": {
           "align": "left"
          },
          "hovermode": "closest",
          "mapbox": {
           "style": "light"
          },
          "paper_bgcolor": "white",
          "plot_bgcolor": "#E5ECF6",
          "polar": {
           "angularaxis": {
            "gridcolor": "white",
            "linecolor": "white",
            "ticks": ""
           },
           "bgcolor": "#E5ECF6",
           "radialaxis": {
            "gridcolor": "white",
            "linecolor": "white",
            "ticks": ""
           }
          },
          "scene": {
           "xaxis": {
            "backgroundcolor": "#E5ECF6",
            "gridcolor": "white",
            "gridwidth": 2,
            "linecolor": "white",
            "showbackground": true,
            "ticks": "",
            "zerolinecolor": "white"
           },
           "yaxis": {
            "backgroundcolor": "#E5ECF6",
            "gridcolor": "white",
            "gridwidth": 2,
            "linecolor": "white",
            "showbackground": true,
            "ticks": "",
            "zerolinecolor": "white"
           },
           "zaxis": {
            "backgroundcolor": "#E5ECF6",
            "gridcolor": "white",
            "gridwidth": 2,
            "linecolor": "white",
            "showbackground": true,
            "ticks": "",
            "zerolinecolor": "white"
           }
          },
          "shapedefaults": {
           "line": {
            "color": "#2a3f5f"
           }
          },
          "ternary": {
           "aaxis": {
            "gridcolor": "white",
            "linecolor": "white",
            "ticks": ""
           },
           "baxis": {
            "gridcolor": "white",
            "linecolor": "white",
            "ticks": ""
           },
           "bgcolor": "#E5ECF6",
           "caxis": {
            "gridcolor": "white",
            "linecolor": "white",
            "ticks": ""
           }
          },
          "title": {
           "x": 0.05
          },
          "xaxis": {
           "automargin": true,
           "gridcolor": "white",
           "linecolor": "white",
           "ticks": "",
           "title": {
            "standoff": 15
           },
           "zerolinecolor": "white",
           "zerolinewidth": 2
          },
          "yaxis": {
           "automargin": true,
           "gridcolor": "white",
           "linecolor": "white",
           "ticks": "",
           "title": {
            "standoff": 15
           },
           "zerolinecolor": "white",
           "zerolinewidth": 2
          }
         }
        },
        "xaxis": {
         "anchor": "y",
         "domain": [
          0,
          1
         ],
         "title": {
          "text": "YEAR"
         }
        },
        "yaxis": {
         "anchor": "x",
         "domain": [
          0,
          1
         ],
         "title": {
          "text": "num of cases"
         }
        }
       }
      },
      "text/html": [
       "<div>\n",
       "        \n",
       "        \n",
       "            <div id=\"d4e407a4-5dfe-4570-9c80-e9b951d9cca6\" class=\"plotly-graph-div\" style=\"height:525px; width:100%;\"></div>\n",
       "            <script type=\"text/javascript\">\n",
       "                require([\"plotly\"], function(Plotly) {\n",
       "                    window.PLOTLYENV=window.PLOTLYENV || {};\n",
       "                    \n",
       "                if (document.getElementById(\"d4e407a4-5dfe-4570-9c80-e9b951d9cca6\")) {\n",
       "                    Plotly.newPlot(\n",
       "                        'd4e407a4-5dfe-4570-9c80-e9b951d9cca6',\n",
       "                        [{\"alignmentgroup\": \"True\", \"hoverlabel\": {\"namelength\": 0}, \"hovertemplate\": \"YEAR=%{x}<br>num of cases=%{y}\", \"legendgroup\": \"\", \"marker\": {\"color\": \"#636efa\"}, \"name\": \"\", \"offsetgroup\": \"\", \"orientation\": \"v\", \"showlegend\": false, \"textposition\": \"auto\", \"type\": \"bar\", \"x\": [2010, 2011, 2012, 2013, 2014, 2015, 2016, 2017, 2018, 2019, 2020], \"xaxis\": \"x\", \"y\": [63, 157, 180, 125, 136, 104, 114, 153, 126, 119, 47], \"yaxis\": \"y\"}],\n",
       "                        {\"barmode\": \"relative\", \"legend\": {\"tracegroupgap\": 0}, \"margin\": {\"t\": 60}, \"template\": {\"data\": {\"bar\": [{\"error_x\": {\"color\": \"#2a3f5f\"}, \"error_y\": {\"color\": \"#2a3f5f\"}, \"marker\": {\"line\": {\"color\": \"#E5ECF6\", \"width\": 0.5}}, \"type\": \"bar\"}], \"barpolar\": [{\"marker\": {\"line\": {\"color\": \"#E5ECF6\", \"width\": 0.5}}, \"type\": \"barpolar\"}], \"carpet\": [{\"aaxis\": {\"endlinecolor\": \"#2a3f5f\", \"gridcolor\": \"white\", \"linecolor\": \"white\", \"minorgridcolor\": \"white\", \"startlinecolor\": \"#2a3f5f\"}, \"baxis\": {\"endlinecolor\": \"#2a3f5f\", \"gridcolor\": \"white\", \"linecolor\": \"white\", \"minorgridcolor\": \"white\", \"startlinecolor\": \"#2a3f5f\"}, \"type\": \"carpet\"}], \"choropleth\": [{\"colorbar\": {\"outlinewidth\": 0, \"ticks\": \"\"}, \"type\": \"choropleth\"}], \"contour\": [{\"colorbar\": {\"outlinewidth\": 0, \"ticks\": \"\"}, \"colorscale\": [[0.0, \"#0d0887\"], [0.1111111111111111, \"#46039f\"], [0.2222222222222222, \"#7201a8\"], [0.3333333333333333, \"#9c179e\"], [0.4444444444444444, \"#bd3786\"], [0.5555555555555556, \"#d8576b\"], [0.6666666666666666, \"#ed7953\"], [0.7777777777777778, \"#fb9f3a\"], [0.8888888888888888, \"#fdca26\"], [1.0, \"#f0f921\"]], \"type\": \"contour\"}], \"contourcarpet\": [{\"colorbar\": {\"outlinewidth\": 0, \"ticks\": \"\"}, \"type\": \"contourcarpet\"}], \"heatmap\": [{\"colorbar\": {\"outlinewidth\": 0, \"ticks\": \"\"}, \"colorscale\": [[0.0, \"#0d0887\"], [0.1111111111111111, \"#46039f\"], [0.2222222222222222, \"#7201a8\"], [0.3333333333333333, \"#9c179e\"], [0.4444444444444444, \"#bd3786\"], [0.5555555555555556, \"#d8576b\"], [0.6666666666666666, \"#ed7953\"], [0.7777777777777778, \"#fb9f3a\"], [0.8888888888888888, \"#fdca26\"], [1.0, \"#f0f921\"]], \"type\": \"heatmap\"}], \"heatmapgl\": [{\"colorbar\": {\"outlinewidth\": 0, \"ticks\": \"\"}, \"colorscale\": [[0.0, \"#0d0887\"], [0.1111111111111111, \"#46039f\"], [0.2222222222222222, \"#7201a8\"], [0.3333333333333333, \"#9c179e\"], [0.4444444444444444, \"#bd3786\"], [0.5555555555555556, \"#d8576b\"], [0.6666666666666666, \"#ed7953\"], [0.7777777777777778, \"#fb9f3a\"], [0.8888888888888888, \"#fdca26\"], [1.0, \"#f0f921\"]], \"type\": \"heatmapgl\"}], \"histogram\": [{\"marker\": {\"colorbar\": {\"outlinewidth\": 0, \"ticks\": \"\"}}, \"type\": \"histogram\"}], \"histogram2d\": [{\"colorbar\": {\"outlinewidth\": 0, \"ticks\": \"\"}, \"colorscale\": [[0.0, \"#0d0887\"], [0.1111111111111111, \"#46039f\"], [0.2222222222222222, \"#7201a8\"], [0.3333333333333333, \"#9c179e\"], [0.4444444444444444, \"#bd3786\"], [0.5555555555555556, \"#d8576b\"], [0.6666666666666666, \"#ed7953\"], [0.7777777777777778, \"#fb9f3a\"], [0.8888888888888888, \"#fdca26\"], [1.0, \"#f0f921\"]], \"type\": \"histogram2d\"}], \"histogram2dcontour\": [{\"colorbar\": {\"outlinewidth\": 0, \"ticks\": \"\"}, \"colorscale\": [[0.0, \"#0d0887\"], [0.1111111111111111, \"#46039f\"], [0.2222222222222222, \"#7201a8\"], [0.3333333333333333, \"#9c179e\"], [0.4444444444444444, \"#bd3786\"], [0.5555555555555556, \"#d8576b\"], [0.6666666666666666, \"#ed7953\"], [0.7777777777777778, \"#fb9f3a\"], [0.8888888888888888, \"#fdca26\"], [1.0, \"#f0f921\"]], \"type\": \"histogram2dcontour\"}], \"mesh3d\": [{\"colorbar\": {\"outlinewidth\": 0, \"ticks\": \"\"}, \"type\": \"mesh3d\"}], \"parcoords\": [{\"line\": {\"colorbar\": {\"outlinewidth\": 0, \"ticks\": \"\"}}, \"type\": \"parcoords\"}], \"pie\": [{\"automargin\": true, \"type\": \"pie\"}], \"scatter\": [{\"marker\": {\"colorbar\": {\"outlinewidth\": 0, \"ticks\": \"\"}}, \"type\": \"scatter\"}], \"scatter3d\": [{\"line\": {\"colorbar\": {\"outlinewidth\": 0, \"ticks\": \"\"}}, \"marker\": {\"colorbar\": {\"outlinewidth\": 0, \"ticks\": \"\"}}, \"type\": \"scatter3d\"}], \"scattercarpet\": [{\"marker\": {\"colorbar\": {\"outlinewidth\": 0, \"ticks\": \"\"}}, \"type\": \"scattercarpet\"}], \"scattergeo\": [{\"marker\": {\"colorbar\": {\"outlinewidth\": 0, \"ticks\": \"\"}}, \"type\": \"scattergeo\"}], \"scattergl\": [{\"marker\": {\"colorbar\": {\"outlinewidth\": 0, \"ticks\": \"\"}}, \"type\": \"scattergl\"}], \"scattermapbox\": [{\"marker\": {\"colorbar\": {\"outlinewidth\": 0, \"ticks\": \"\"}}, \"type\": \"scattermapbox\"}], \"scatterpolar\": [{\"marker\": {\"colorbar\": {\"outlinewidth\": 0, \"ticks\": \"\"}}, \"type\": \"scatterpolar\"}], \"scatterpolargl\": [{\"marker\": {\"colorbar\": {\"outlinewidth\": 0, \"ticks\": \"\"}}, \"type\": \"scatterpolargl\"}], \"scatterternary\": [{\"marker\": {\"colorbar\": {\"outlinewidth\": 0, \"ticks\": \"\"}}, \"type\": \"scatterternary\"}], \"surface\": [{\"colorbar\": {\"outlinewidth\": 0, \"ticks\": \"\"}, \"colorscale\": [[0.0, \"#0d0887\"], [0.1111111111111111, \"#46039f\"], [0.2222222222222222, \"#7201a8\"], [0.3333333333333333, \"#9c179e\"], [0.4444444444444444, \"#bd3786\"], [0.5555555555555556, \"#d8576b\"], [0.6666666666666666, \"#ed7953\"], [0.7777777777777778, \"#fb9f3a\"], [0.8888888888888888, \"#fdca26\"], [1.0, \"#f0f921\"]], \"type\": \"surface\"}], \"table\": [{\"cells\": {\"fill\": {\"color\": \"#EBF0F8\"}, \"line\": {\"color\": \"white\"}}, \"header\": {\"fill\": {\"color\": \"#C8D4E3\"}, \"line\": {\"color\": \"white\"}}, \"type\": \"table\"}]}, \"layout\": {\"annotationdefaults\": {\"arrowcolor\": \"#2a3f5f\", \"arrowhead\": 0, \"arrowwidth\": 1}, \"coloraxis\": {\"colorbar\": {\"outlinewidth\": 0, \"ticks\": \"\"}}, \"colorscale\": {\"diverging\": [[0, \"#8e0152\"], [0.1, \"#c51b7d\"], [0.2, \"#de77ae\"], [0.3, \"#f1b6da\"], [0.4, \"#fde0ef\"], [0.5, \"#f7f7f7\"], [0.6, \"#e6f5d0\"], [0.7, \"#b8e186\"], [0.8, \"#7fbc41\"], [0.9, \"#4d9221\"], [1, \"#276419\"]], \"sequential\": [[0.0, \"#0d0887\"], [0.1111111111111111, \"#46039f\"], [0.2222222222222222, \"#7201a8\"], [0.3333333333333333, \"#9c179e\"], [0.4444444444444444, \"#bd3786\"], [0.5555555555555556, \"#d8576b\"], [0.6666666666666666, \"#ed7953\"], [0.7777777777777778, \"#fb9f3a\"], [0.8888888888888888, \"#fdca26\"], [1.0, \"#f0f921\"]], \"sequentialminus\": [[0.0, \"#0d0887\"], [0.1111111111111111, \"#46039f\"], [0.2222222222222222, \"#7201a8\"], [0.3333333333333333, \"#9c179e\"], [0.4444444444444444, \"#bd3786\"], [0.5555555555555556, \"#d8576b\"], [0.6666666666666666, \"#ed7953\"], [0.7777777777777778, \"#fb9f3a\"], [0.8888888888888888, \"#fdca26\"], [1.0, \"#f0f921\"]]}, \"colorway\": [\"#636efa\", \"#EF553B\", \"#00cc96\", \"#ab63fa\", \"#FFA15A\", \"#19d3f3\", \"#FF6692\", \"#B6E880\", \"#FF97FF\", \"#FECB52\"], \"font\": {\"color\": \"#2a3f5f\"}, \"geo\": {\"bgcolor\": \"white\", \"lakecolor\": \"white\", \"landcolor\": \"#E5ECF6\", \"showlakes\": true, \"showland\": true, \"subunitcolor\": \"white\"}, \"hoverlabel\": {\"align\": \"left\"}, \"hovermode\": \"closest\", \"mapbox\": {\"style\": \"light\"}, \"paper_bgcolor\": \"white\", \"plot_bgcolor\": \"#E5ECF6\", \"polar\": {\"angularaxis\": {\"gridcolor\": \"white\", \"linecolor\": \"white\", \"ticks\": \"\"}, \"bgcolor\": \"#E5ECF6\", \"radialaxis\": {\"gridcolor\": \"white\", \"linecolor\": \"white\", \"ticks\": \"\"}}, \"scene\": {\"xaxis\": {\"backgroundcolor\": \"#E5ECF6\", \"gridcolor\": \"white\", \"gridwidth\": 2, \"linecolor\": \"white\", \"showbackground\": true, \"ticks\": \"\", \"zerolinecolor\": \"white\"}, \"yaxis\": {\"backgroundcolor\": \"#E5ECF6\", \"gridcolor\": \"white\", \"gridwidth\": 2, \"linecolor\": \"white\", \"showbackground\": true, \"ticks\": \"\", \"zerolinecolor\": \"white\"}, \"zaxis\": {\"backgroundcolor\": \"#E5ECF6\", \"gridcolor\": \"white\", \"gridwidth\": 2, \"linecolor\": \"white\", \"showbackground\": true, \"ticks\": \"\", \"zerolinecolor\": \"white\"}}, \"shapedefaults\": {\"line\": {\"color\": \"#2a3f5f\"}}, \"ternary\": {\"aaxis\": {\"gridcolor\": \"white\", \"linecolor\": \"white\", \"ticks\": \"\"}, \"baxis\": {\"gridcolor\": \"white\", \"linecolor\": \"white\", \"ticks\": \"\"}, \"bgcolor\": \"#E5ECF6\", \"caxis\": {\"gridcolor\": \"white\", \"linecolor\": \"white\", \"ticks\": \"\"}}, \"title\": {\"x\": 0.05}, \"xaxis\": {\"automargin\": true, \"gridcolor\": \"white\", \"linecolor\": \"white\", \"ticks\": \"\", \"title\": {\"standoff\": 15}, \"zerolinecolor\": \"white\", \"zerolinewidth\": 2}, \"yaxis\": {\"automargin\": true, \"gridcolor\": \"white\", \"linecolor\": \"white\", \"ticks\": \"\", \"title\": {\"standoff\": 15}, \"zerolinecolor\": \"white\", \"zerolinewidth\": 2}}}, \"xaxis\": {\"anchor\": \"y\", \"domain\": [0.0, 1.0], \"title\": {\"text\": \"YEAR\"}}, \"yaxis\": {\"anchor\": \"x\", \"domain\": [0.0, 1.0], \"title\": {\"text\": \"num of cases\"}}},\n",
       "                        {\"responsive\": true}\n",
       "                    ).then(function(){\n",
       "                            \n",
       "var gd = document.getElementById('d4e407a4-5dfe-4570-9c80-e9b951d9cca6');\n",
       "var x = new MutationObserver(function (mutations, observer) {{\n",
       "        var display = window.getComputedStyle(gd).display;\n",
       "        if (!display || display === 'none') {{\n",
       "            console.log([gd, 'removed!']);\n",
       "            Plotly.purge(gd);\n",
       "            observer.disconnect();\n",
       "        }}\n",
       "}});\n",
       "\n",
       "// Listen for the removal of the full notebook cells\n",
       "var notebookContainer = gd.closest('#notebook-container');\n",
       "if (notebookContainer) {{\n",
       "    x.observe(notebookContainer, {childList: true});\n",
       "}}\n",
       "\n",
       "// Listen for the clearing of the current output cell\n",
       "var outputEl = gd.closest('.output');\n",
       "if (outputEl) {{\n",
       "    x.observe(outputEl, {childList: true});\n",
       "}}\n",
       "\n",
       "                        })\n",
       "                };\n",
       "                });\n",
       "            </script>\n",
       "        </div>"
      ]
     },
     "metadata": {},
     "output_type": "display_data"
    }
   ],
   "source": [
    "cases=df.groupby(\"YEAR\").count()[\"Id\"].reset_index()\n",
    "\n",
    "px.bar(cases,x=\"YEAR\",y=\"Id\",labels={\"Id\":\"num of cases\"})"
   ]
  },
  {
   "cell_type": "code",
   "execution_count": 75,
   "metadata": {},
   "outputs": [],
   "source": [
    "# DISTRIBUTION OF CASES EACH YEAR"
   ]
  },
  {
   "cell_type": "code",
   "execution_count": 76,
   "metadata": {},
   "outputs": [],
   "source": [
    "from plotly.subplots import make_subplots"
   ]
  },
  {
   "cell_type": "code",
   "execution_count": 191,
   "metadata": {},
   "outputs": [
    {
     "data": {
      "application/vnd.plotly.v1+json": {
       "config": {
        "plotlyServerURL": "https://plot.ly"
       },
       "data": [
        {
         "alignmentgroup": "True",
         "customdata": [
          [
           "Aetna"
          ],
          [
           "Anthem"
          ],
          [
           "Blue Cross Blue Shield"
          ],
          [
           "Cigna Health"
          ],
          [
           "Humana"
          ],
          [
           "Medicaid"
          ],
          [
           "Medicare"
          ],
          [
           "NO_INSURANCE"
          ],
          [
           "UnitedHealthcare"
          ],
          [
           "Aetna"
          ],
          [
           "Blue Cross Blue Shield"
          ],
          [
           "Cigna Health"
          ],
          [
           "Humana"
          ],
          [
           "Medicaid"
          ],
          [
           "Medicare"
          ],
          [
           "NO_INSURANCE"
          ],
          [
           "UnitedHealthcare"
          ],
          [
           "Aetna"
          ],
          [
           "Blue Cross Blue Shield"
          ],
          [
           "Cigna Health"
          ],
          [
           "Humana"
          ],
          [
           "Medicaid"
          ],
          [
           "Medicare"
          ],
          [
           "NO_INSURANCE"
          ],
          [
           "UnitedHealthcare"
          ],
          [
           "Aetna"
          ],
          [
           "Blue Cross Blue Shield"
          ],
          [
           "Cigna Health"
          ],
          [
           "Dual Eligible"
          ],
          [
           "Humana"
          ],
          [
           "Medicaid"
          ],
          [
           "Medicare"
          ],
          [
           "NO_INSURANCE"
          ],
          [
           "UnitedHealthcare"
          ],
          [
           "Aetna"
          ],
          [
           "Blue Cross Blue Shield"
          ],
          [
           "Cigna Health"
          ],
          [
           "Dual Eligible"
          ],
          [
           "Humana"
          ],
          [
           "Medicaid"
          ],
          [
           "Medicare"
          ],
          [
           "NO_INSURANCE"
          ],
          [
           "UnitedHealthcare"
          ],
          [
           "Aetna"
          ],
          [
           "Blue Cross Blue Shield"
          ],
          [
           "Cigna Health"
          ],
          [
           "Dual Eligible"
          ],
          [
           "Humana"
          ],
          [
           "Medicaid"
          ],
          [
           "Medicare"
          ],
          [
           "NO_INSURANCE"
          ],
          [
           "UnitedHealthcare"
          ],
          [
           "Aetna"
          ],
          [
           "Blue Cross Blue Shield"
          ],
          [
           "Cigna Health"
          ],
          [
           "Dual Eligible"
          ],
          [
           "Humana"
          ],
          [
           "Medicaid"
          ],
          [
           "Medicare"
          ],
          [
           "NO_INSURANCE"
          ],
          [
           "UnitedHealthcare"
          ],
          [
           "Aetna"
          ],
          [
           "Blue Cross Blue Shield"
          ],
          [
           "Cigna Health"
          ],
          [
           "Dual Eligible"
          ],
          [
           "Humana"
          ],
          [
           "Medicaid"
          ],
          [
           "Medicare"
          ],
          [
           "NO_INSURANCE"
          ],
          [
           "UnitedHealthcare"
          ],
          [
           "Aetna"
          ],
          [
           "Blue Cross Blue Shield"
          ],
          [
           "Cigna Health"
          ],
          [
           "Dual Eligible"
          ],
          [
           "Humana"
          ],
          [
           "Medicaid"
          ],
          [
           "Medicare"
          ],
          [
           "NO_INSURANCE"
          ],
          [
           "UnitedHealthcare"
          ],
          [
           "Aetna"
          ],
          [
           "Anthem"
          ],
          [
           "Blue Cross Blue Shield"
          ],
          [
           "Cigna Health"
          ],
          [
           "Dual Eligible"
          ],
          [
           "Humana"
          ],
          [
           "Medicaid"
          ],
          [
           "Medicare"
          ],
          [
           "NO_INSURANCE"
          ],
          [
           "UnitedHealthcare"
          ],
          [
           "Blue Cross Blue Shield"
          ],
          [
           "Cigna Health"
          ],
          [
           "Medicaid"
          ],
          [
           "Medicare"
          ],
          [
           "NO_INSURANCE"
          ],
          [
           "UnitedHealthcare"
          ]
         ],
         "hoverlabel": {
          "namelength": 0
         },
         "hovertemplate": "YEAR=%{x}<br>num_cases=%{y}<br>PAYER_NAME=%{customdata[0]}",
         "legendgroup": "",
         "marker": {
          "color": "#636efa"
         },
         "name": "",
         "offsetgroup": "",
         "orientation": "v",
         "showlegend": false,
         "textposition": "auto",
         "type": "bar",
         "x": [
          2010,
          2010,
          2010,
          2010,
          2010,
          2010,
          2010,
          2010,
          2010,
          2011,
          2011,
          2011,
          2011,
          2011,
          2011,
          2011,
          2011,
          2012,
          2012,
          2012,
          2012,
          2012,
          2012,
          2012,
          2012,
          2013,
          2013,
          2013,
          2013,
          2013,
          2013,
          2013,
          2013,
          2013,
          2014,
          2014,
          2014,
          2014,
          2014,
          2014,
          2014,
          2014,
          2014,
          2015,
          2015,
          2015,
          2015,
          2015,
          2015,
          2015,
          2015,
          2015,
          2016,
          2016,
          2016,
          2016,
          2016,
          2016,
          2016,
          2016,
          2016,
          2017,
          2017,
          2017,
          2017,
          2017,
          2017,
          2017,
          2017,
          2017,
          2018,
          2018,
          2018,
          2018,
          2018,
          2018,
          2018,
          2018,
          2018,
          2019,
          2019,
          2019,
          2019,
          2019,
          2019,
          2019,
          2019,
          2019,
          2019,
          2020,
          2020,
          2020,
          2020,
          2020,
          2020
         ],
         "xaxis": "x",
         "y": [
          4,
          1,
          3,
          2,
          4,
          15,
          12,
          14,
          8,
          15,
          73,
          2,
          4,
          31,
          6,
          16,
          10,
          10,
          86,
          4,
          13,
          37,
          12,
          15,
          3,
          18,
          20,
          3,
          3,
          12,
          28,
          13,
          13,
          15,
          13,
          6,
          6,
          2,
          13,
          44,
          10,
          25,
          17,
          3,
          5,
          2,
          2,
          10,
          38,
          9,
          21,
          14,
          6,
          12,
          1,
          1,
          5,
          38,
          14,
          26,
          11,
          11,
          5,
          19,
          1,
          7,
          53,
          13,
          21,
          23,
          6,
          5,
          22,
          1,
          4,
          34,
          4,
          35,
          15,
          3,
          1,
          7,
          21,
          4,
          1,
          31,
          7,
          36,
          8,
          5,
          12,
          14,
          2,
          13,
          1
         ],
         "yaxis": "y"
        }
       ],
       "layout": {
        "barmode": "relative",
        "legend": {
         "tracegroupgap": 0
        },
        "margin": {
         "t": 60
        },
        "template": {
         "data": {
          "bar": [
           {
            "error_x": {
             "color": "#2a3f5f"
            },
            "error_y": {
             "color": "#2a3f5f"
            },
            "marker": {
             "line": {
              "color": "#E5ECF6",
              "width": 0.5
             }
            },
            "type": "bar"
           }
          ],
          "barpolar": [
           {
            "marker": {
             "line": {
              "color": "#E5ECF6",
              "width": 0.5
             }
            },
            "type": "barpolar"
           }
          ],
          "carpet": [
           {
            "aaxis": {
             "endlinecolor": "#2a3f5f",
             "gridcolor": "white",
             "linecolor": "white",
             "minorgridcolor": "white",
             "startlinecolor": "#2a3f5f"
            },
            "baxis": {
             "endlinecolor": "#2a3f5f",
             "gridcolor": "white",
             "linecolor": "white",
             "minorgridcolor": "white",
             "startlinecolor": "#2a3f5f"
            },
            "type": "carpet"
           }
          ],
          "choropleth": [
           {
            "colorbar": {
             "outlinewidth": 0,
             "ticks": ""
            },
            "type": "choropleth"
           }
          ],
          "contour": [
           {
            "colorbar": {
             "outlinewidth": 0,
             "ticks": ""
            },
            "colorscale": [
             [
              0,
              "#0d0887"
             ],
             [
              0.1111111111111111,
              "#46039f"
             ],
             [
              0.2222222222222222,
              "#7201a8"
             ],
             [
              0.3333333333333333,
              "#9c179e"
             ],
             [
              0.4444444444444444,
              "#bd3786"
             ],
             [
              0.5555555555555556,
              "#d8576b"
             ],
             [
              0.6666666666666666,
              "#ed7953"
             ],
             [
              0.7777777777777778,
              "#fb9f3a"
             ],
             [
              0.8888888888888888,
              "#fdca26"
             ],
             [
              1,
              "#f0f921"
             ]
            ],
            "type": "contour"
           }
          ],
          "contourcarpet": [
           {
            "colorbar": {
             "outlinewidth": 0,
             "ticks": ""
            },
            "type": "contourcarpet"
           }
          ],
          "heatmap": [
           {
            "colorbar": {
             "outlinewidth": 0,
             "ticks": ""
            },
            "colorscale": [
             [
              0,
              "#0d0887"
             ],
             [
              0.1111111111111111,
              "#46039f"
             ],
             [
              0.2222222222222222,
              "#7201a8"
             ],
             [
              0.3333333333333333,
              "#9c179e"
             ],
             [
              0.4444444444444444,
              "#bd3786"
             ],
             [
              0.5555555555555556,
              "#d8576b"
             ],
             [
              0.6666666666666666,
              "#ed7953"
             ],
             [
              0.7777777777777778,
              "#fb9f3a"
             ],
             [
              0.8888888888888888,
              "#fdca26"
             ],
             [
              1,
              "#f0f921"
             ]
            ],
            "type": "heatmap"
           }
          ],
          "heatmapgl": [
           {
            "colorbar": {
             "outlinewidth": 0,
             "ticks": ""
            },
            "colorscale": [
             [
              0,
              "#0d0887"
             ],
             [
              0.1111111111111111,
              "#46039f"
             ],
             [
              0.2222222222222222,
              "#7201a8"
             ],
             [
              0.3333333333333333,
              "#9c179e"
             ],
             [
              0.4444444444444444,
              "#bd3786"
             ],
             [
              0.5555555555555556,
              "#d8576b"
             ],
             [
              0.6666666666666666,
              "#ed7953"
             ],
             [
              0.7777777777777778,
              "#fb9f3a"
             ],
             [
              0.8888888888888888,
              "#fdca26"
             ],
             [
              1,
              "#f0f921"
             ]
            ],
            "type": "heatmapgl"
           }
          ],
          "histogram": [
           {
            "marker": {
             "colorbar": {
              "outlinewidth": 0,
              "ticks": ""
             }
            },
            "type": "histogram"
           }
          ],
          "histogram2d": [
           {
            "colorbar": {
             "outlinewidth": 0,
             "ticks": ""
            },
            "colorscale": [
             [
              0,
              "#0d0887"
             ],
             [
              0.1111111111111111,
              "#46039f"
             ],
             [
              0.2222222222222222,
              "#7201a8"
             ],
             [
              0.3333333333333333,
              "#9c179e"
             ],
             [
              0.4444444444444444,
              "#bd3786"
             ],
             [
              0.5555555555555556,
              "#d8576b"
             ],
             [
              0.6666666666666666,
              "#ed7953"
             ],
             [
              0.7777777777777778,
              "#fb9f3a"
             ],
             [
              0.8888888888888888,
              "#fdca26"
             ],
             [
              1,
              "#f0f921"
             ]
            ],
            "type": "histogram2d"
           }
          ],
          "histogram2dcontour": [
           {
            "colorbar": {
             "outlinewidth": 0,
             "ticks": ""
            },
            "colorscale": [
             [
              0,
              "#0d0887"
             ],
             [
              0.1111111111111111,
              "#46039f"
             ],
             [
              0.2222222222222222,
              "#7201a8"
             ],
             [
              0.3333333333333333,
              "#9c179e"
             ],
             [
              0.4444444444444444,
              "#bd3786"
             ],
             [
              0.5555555555555556,
              "#d8576b"
             ],
             [
              0.6666666666666666,
              "#ed7953"
             ],
             [
              0.7777777777777778,
              "#fb9f3a"
             ],
             [
              0.8888888888888888,
              "#fdca26"
             ],
             [
              1,
              "#f0f921"
             ]
            ],
            "type": "histogram2dcontour"
           }
          ],
          "mesh3d": [
           {
            "colorbar": {
             "outlinewidth": 0,
             "ticks": ""
            },
            "type": "mesh3d"
           }
          ],
          "parcoords": [
           {
            "line": {
             "colorbar": {
              "outlinewidth": 0,
              "ticks": ""
             }
            },
            "type": "parcoords"
           }
          ],
          "pie": [
           {
            "automargin": true,
            "type": "pie"
           }
          ],
          "scatter": [
           {
            "marker": {
             "colorbar": {
              "outlinewidth": 0,
              "ticks": ""
             }
            },
            "type": "scatter"
           }
          ],
          "scatter3d": [
           {
            "line": {
             "colorbar": {
              "outlinewidth": 0,
              "ticks": ""
             }
            },
            "marker": {
             "colorbar": {
              "outlinewidth": 0,
              "ticks": ""
             }
            },
            "type": "scatter3d"
           }
          ],
          "scattercarpet": [
           {
            "marker": {
             "colorbar": {
              "outlinewidth": 0,
              "ticks": ""
             }
            },
            "type": "scattercarpet"
           }
          ],
          "scattergeo": [
           {
            "marker": {
             "colorbar": {
              "outlinewidth": 0,
              "ticks": ""
             }
            },
            "type": "scattergeo"
           }
          ],
          "scattergl": [
           {
            "marker": {
             "colorbar": {
              "outlinewidth": 0,
              "ticks": ""
             }
            },
            "type": "scattergl"
           }
          ],
          "scattermapbox": [
           {
            "marker": {
             "colorbar": {
              "outlinewidth": 0,
              "ticks": ""
             }
            },
            "type": "scattermapbox"
           }
          ],
          "scatterpolar": [
           {
            "marker": {
             "colorbar": {
              "outlinewidth": 0,
              "ticks": ""
             }
            },
            "type": "scatterpolar"
           }
          ],
          "scatterpolargl": [
           {
            "marker": {
             "colorbar": {
              "outlinewidth": 0,
              "ticks": ""
             }
            },
            "type": "scatterpolargl"
           }
          ],
          "scatterternary": [
           {
            "marker": {
             "colorbar": {
              "outlinewidth": 0,
              "ticks": ""
             }
            },
            "type": "scatterternary"
           }
          ],
          "surface": [
           {
            "colorbar": {
             "outlinewidth": 0,
             "ticks": ""
            },
            "colorscale": [
             [
              0,
              "#0d0887"
             ],
             [
              0.1111111111111111,
              "#46039f"
             ],
             [
              0.2222222222222222,
              "#7201a8"
             ],
             [
              0.3333333333333333,
              "#9c179e"
             ],
             [
              0.4444444444444444,
              "#bd3786"
             ],
             [
              0.5555555555555556,
              "#d8576b"
             ],
             [
              0.6666666666666666,
              "#ed7953"
             ],
             [
              0.7777777777777778,
              "#fb9f3a"
             ],
             [
              0.8888888888888888,
              "#fdca26"
             ],
             [
              1,
              "#f0f921"
             ]
            ],
            "type": "surface"
           }
          ],
          "table": [
           {
            "cells": {
             "fill": {
              "color": "#EBF0F8"
             },
             "line": {
              "color": "white"
             }
            },
            "header": {
             "fill": {
              "color": "#C8D4E3"
             },
             "line": {
              "color": "white"
             }
            },
            "type": "table"
           }
          ]
         },
         "layout": {
          "annotationdefaults": {
           "arrowcolor": "#2a3f5f",
           "arrowhead": 0,
           "arrowwidth": 1
          },
          "coloraxis": {
           "colorbar": {
            "outlinewidth": 0,
            "ticks": ""
           }
          },
          "colorscale": {
           "diverging": [
            [
             0,
             "#8e0152"
            ],
            [
             0.1,
             "#c51b7d"
            ],
            [
             0.2,
             "#de77ae"
            ],
            [
             0.3,
             "#f1b6da"
            ],
            [
             0.4,
             "#fde0ef"
            ],
            [
             0.5,
             "#f7f7f7"
            ],
            [
             0.6,
             "#e6f5d0"
            ],
            [
             0.7,
             "#b8e186"
            ],
            [
             0.8,
             "#7fbc41"
            ],
            [
             0.9,
             "#4d9221"
            ],
            [
             1,
             "#276419"
            ]
           ],
           "sequential": [
            [
             0,
             "#0d0887"
            ],
            [
             0.1111111111111111,
             "#46039f"
            ],
            [
             0.2222222222222222,
             "#7201a8"
            ],
            [
             0.3333333333333333,
             "#9c179e"
            ],
            [
             0.4444444444444444,
             "#bd3786"
            ],
            [
             0.5555555555555556,
             "#d8576b"
            ],
            [
             0.6666666666666666,
             "#ed7953"
            ],
            [
             0.7777777777777778,
             "#fb9f3a"
            ],
            [
             0.8888888888888888,
             "#fdca26"
            ],
            [
             1,
             "#f0f921"
            ]
           ],
           "sequentialminus": [
            [
             0,
             "#0d0887"
            ],
            [
             0.1111111111111111,
             "#46039f"
            ],
            [
             0.2222222222222222,
             "#7201a8"
            ],
            [
             0.3333333333333333,
             "#9c179e"
            ],
            [
             0.4444444444444444,
             "#bd3786"
            ],
            [
             0.5555555555555556,
             "#d8576b"
            ],
            [
             0.6666666666666666,
             "#ed7953"
            ],
            [
             0.7777777777777778,
             "#fb9f3a"
            ],
            [
             0.8888888888888888,
             "#fdca26"
            ],
            [
             1,
             "#f0f921"
            ]
           ]
          },
          "colorway": [
           "#636efa",
           "#EF553B",
           "#00cc96",
           "#ab63fa",
           "#FFA15A",
           "#19d3f3",
           "#FF6692",
           "#B6E880",
           "#FF97FF",
           "#FECB52"
          ],
          "font": {
           "color": "#2a3f5f"
          },
          "geo": {
           "bgcolor": "white",
           "lakecolor": "white",
           "landcolor": "#E5ECF6",
           "showlakes": true,
           "showland": true,
           "subunitcolor": "white"
          },
          "hoverlabel": {
           "align": "left"
          },
          "hovermode": "closest",
          "mapbox": {
           "style": "light"
          },
          "paper_bgcolor": "white",
          "plot_bgcolor": "#E5ECF6",
          "polar": {
           "angularaxis": {
            "gridcolor": "white",
            "linecolor": "white",
            "ticks": ""
           },
           "bgcolor": "#E5ECF6",
           "radialaxis": {
            "gridcolor": "white",
            "linecolor": "white",
            "ticks": ""
           }
          },
          "scene": {
           "xaxis": {
            "backgroundcolor": "#E5ECF6",
            "gridcolor": "white",
            "gridwidth": 2,
            "linecolor": "white",
            "showbackground": true,
            "ticks": "",
            "zerolinecolor": "white"
           },
           "yaxis": {
            "backgroundcolor": "#E5ECF6",
            "gridcolor": "white",
            "gridwidth": 2,
            "linecolor": "white",
            "showbackground": true,
            "ticks": "",
            "zerolinecolor": "white"
           },
           "zaxis": {
            "backgroundcolor": "#E5ECF6",
            "gridcolor": "white",
            "gridwidth": 2,
            "linecolor": "white",
            "showbackground": true,
            "ticks": "",
            "zerolinecolor": "white"
           }
          },
          "shapedefaults": {
           "line": {
            "color": "#2a3f5f"
           }
          },
          "ternary": {
           "aaxis": {
            "gridcolor": "white",
            "linecolor": "white",
            "ticks": ""
           },
           "baxis": {
            "gridcolor": "white",
            "linecolor": "white",
            "ticks": ""
           },
           "bgcolor": "#E5ECF6",
           "caxis": {
            "gridcolor": "white",
            "linecolor": "white",
            "ticks": ""
           }
          },
          "title": {
           "x": 0.05
          },
          "xaxis": {
           "automargin": true,
           "gridcolor": "white",
           "linecolor": "white",
           "ticks": "",
           "title": {
            "standoff": 15
           },
           "zerolinecolor": "white",
           "zerolinewidth": 2
          },
          "yaxis": {
           "automargin": true,
           "gridcolor": "white",
           "linecolor": "white",
           "ticks": "",
           "title": {
            "standoff": 15
           },
           "zerolinecolor": "white",
           "zerolinewidth": 2
          }
         }
        },
        "xaxis": {
         "anchor": "y",
         "domain": [
          0,
          1
         ],
         "title": {
          "text": "YEAR"
         }
        },
        "yaxis": {
         "anchor": "x",
         "domain": [
          0,
          1
         ],
         "title": {
          "text": "num_cases"
         }
        }
       }
      },
      "text/html": [
       "<div>\n",
       "        \n",
       "        \n",
       "            <div id=\"148390c0-fd07-446f-b7e0-f623cd4c0f1f\" class=\"plotly-graph-div\" style=\"height:525px; width:100%;\"></div>\n",
       "            <script type=\"text/javascript\">\n",
       "                require([\"plotly\"], function(Plotly) {\n",
       "                    window.PLOTLYENV=window.PLOTLYENV || {};\n",
       "                    \n",
       "                if (document.getElementById(\"148390c0-fd07-446f-b7e0-f623cd4c0f1f\")) {\n",
       "                    Plotly.newPlot(\n",
       "                        '148390c0-fd07-446f-b7e0-f623cd4c0f1f',\n",
       "                        [{\"alignmentgroup\": \"True\", \"customdata\": [[\"Aetna\"], [\"Anthem\"], [\"Blue Cross Blue Shield\"], [\"Cigna Health\"], [\"Humana\"], [\"Medicaid\"], [\"Medicare\"], [\"NO_INSURANCE\"], [\"UnitedHealthcare\"], [\"Aetna\"], [\"Blue Cross Blue Shield\"], [\"Cigna Health\"], [\"Humana\"], [\"Medicaid\"], [\"Medicare\"], [\"NO_INSURANCE\"], [\"UnitedHealthcare\"], [\"Aetna\"], [\"Blue Cross Blue Shield\"], [\"Cigna Health\"], [\"Humana\"], [\"Medicaid\"], [\"Medicare\"], [\"NO_INSURANCE\"], [\"UnitedHealthcare\"], [\"Aetna\"], [\"Blue Cross Blue Shield\"], [\"Cigna Health\"], [\"Dual Eligible\"], [\"Humana\"], [\"Medicaid\"], [\"Medicare\"], [\"NO_INSURANCE\"], [\"UnitedHealthcare\"], [\"Aetna\"], [\"Blue Cross Blue Shield\"], [\"Cigna Health\"], [\"Dual Eligible\"], [\"Humana\"], [\"Medicaid\"], [\"Medicare\"], [\"NO_INSURANCE\"], [\"UnitedHealthcare\"], [\"Aetna\"], [\"Blue Cross Blue Shield\"], [\"Cigna Health\"], [\"Dual Eligible\"], [\"Humana\"], [\"Medicaid\"], [\"Medicare\"], [\"NO_INSURANCE\"], [\"UnitedHealthcare\"], [\"Aetna\"], [\"Blue Cross Blue Shield\"], [\"Cigna Health\"], [\"Dual Eligible\"], [\"Humana\"], [\"Medicaid\"], [\"Medicare\"], [\"NO_INSURANCE\"], [\"UnitedHealthcare\"], [\"Aetna\"], [\"Blue Cross Blue Shield\"], [\"Cigna Health\"], [\"Dual Eligible\"], [\"Humana\"], [\"Medicaid\"], [\"Medicare\"], [\"NO_INSURANCE\"], [\"UnitedHealthcare\"], [\"Aetna\"], [\"Blue Cross Blue Shield\"], [\"Cigna Health\"], [\"Dual Eligible\"], [\"Humana\"], [\"Medicaid\"], [\"Medicare\"], [\"NO_INSURANCE\"], [\"UnitedHealthcare\"], [\"Aetna\"], [\"Anthem\"], [\"Blue Cross Blue Shield\"], [\"Cigna Health\"], [\"Dual Eligible\"], [\"Humana\"], [\"Medicaid\"], [\"Medicare\"], [\"NO_INSURANCE\"], [\"UnitedHealthcare\"], [\"Blue Cross Blue Shield\"], [\"Cigna Health\"], [\"Medicaid\"], [\"Medicare\"], [\"NO_INSURANCE\"], [\"UnitedHealthcare\"]], \"hoverlabel\": {\"namelength\": 0}, \"hovertemplate\": \"YEAR=%{x}<br>num_cases=%{y}<br>PAYER_NAME=%{customdata[0]}\", \"legendgroup\": \"\", \"marker\": {\"color\": \"#636efa\"}, \"name\": \"\", \"offsetgroup\": \"\", \"orientation\": \"v\", \"showlegend\": false, \"textposition\": \"auto\", \"type\": \"bar\", \"x\": [2010, 2010, 2010, 2010, 2010, 2010, 2010, 2010, 2010, 2011, 2011, 2011, 2011, 2011, 2011, 2011, 2011, 2012, 2012, 2012, 2012, 2012, 2012, 2012, 2012, 2013, 2013, 2013, 2013, 2013, 2013, 2013, 2013, 2013, 2014, 2014, 2014, 2014, 2014, 2014, 2014, 2014, 2014, 2015, 2015, 2015, 2015, 2015, 2015, 2015, 2015, 2015, 2016, 2016, 2016, 2016, 2016, 2016, 2016, 2016, 2016, 2017, 2017, 2017, 2017, 2017, 2017, 2017, 2017, 2017, 2018, 2018, 2018, 2018, 2018, 2018, 2018, 2018, 2018, 2019, 2019, 2019, 2019, 2019, 2019, 2019, 2019, 2019, 2019, 2020, 2020, 2020, 2020, 2020, 2020], \"xaxis\": \"x\", \"y\": [4, 1, 3, 2, 4, 15, 12, 14, 8, 15, 73, 2, 4, 31, 6, 16, 10, 10, 86, 4, 13, 37, 12, 15, 3, 18, 20, 3, 3, 12, 28, 13, 13, 15, 13, 6, 6, 2, 13, 44, 10, 25, 17, 3, 5, 2, 2, 10, 38, 9, 21, 14, 6, 12, 1, 1, 5, 38, 14, 26, 11, 11, 5, 19, 1, 7, 53, 13, 21, 23, 6, 5, 22, 1, 4, 34, 4, 35, 15, 3, 1, 7, 21, 4, 1, 31, 7, 36, 8, 5, 12, 14, 2, 13, 1], \"yaxis\": \"y\"}],\n",
       "                        {\"barmode\": \"relative\", \"legend\": {\"tracegroupgap\": 0}, \"margin\": {\"t\": 60}, \"template\": {\"data\": {\"bar\": [{\"error_x\": {\"color\": \"#2a3f5f\"}, \"error_y\": {\"color\": \"#2a3f5f\"}, \"marker\": {\"line\": {\"color\": \"#E5ECF6\", \"width\": 0.5}}, \"type\": \"bar\"}], \"barpolar\": [{\"marker\": {\"line\": {\"color\": \"#E5ECF6\", \"width\": 0.5}}, \"type\": \"barpolar\"}], \"carpet\": [{\"aaxis\": {\"endlinecolor\": \"#2a3f5f\", \"gridcolor\": \"white\", \"linecolor\": \"white\", \"minorgridcolor\": \"white\", \"startlinecolor\": \"#2a3f5f\"}, \"baxis\": {\"endlinecolor\": \"#2a3f5f\", \"gridcolor\": \"white\", \"linecolor\": \"white\", \"minorgridcolor\": \"white\", \"startlinecolor\": \"#2a3f5f\"}, \"type\": \"carpet\"}], \"choropleth\": [{\"colorbar\": {\"outlinewidth\": 0, \"ticks\": \"\"}, \"type\": \"choropleth\"}], \"contour\": [{\"colorbar\": {\"outlinewidth\": 0, \"ticks\": \"\"}, \"colorscale\": [[0.0, \"#0d0887\"], [0.1111111111111111, \"#46039f\"], [0.2222222222222222, \"#7201a8\"], [0.3333333333333333, \"#9c179e\"], [0.4444444444444444, \"#bd3786\"], [0.5555555555555556, \"#d8576b\"], [0.6666666666666666, \"#ed7953\"], [0.7777777777777778, \"#fb9f3a\"], [0.8888888888888888, \"#fdca26\"], [1.0, \"#f0f921\"]], \"type\": \"contour\"}], \"contourcarpet\": [{\"colorbar\": {\"outlinewidth\": 0, \"ticks\": \"\"}, \"type\": \"contourcarpet\"}], \"heatmap\": [{\"colorbar\": {\"outlinewidth\": 0, \"ticks\": \"\"}, \"colorscale\": [[0.0, \"#0d0887\"], [0.1111111111111111, \"#46039f\"], [0.2222222222222222, \"#7201a8\"], [0.3333333333333333, \"#9c179e\"], [0.4444444444444444, \"#bd3786\"], [0.5555555555555556, \"#d8576b\"], [0.6666666666666666, \"#ed7953\"], [0.7777777777777778, \"#fb9f3a\"], [0.8888888888888888, \"#fdca26\"], [1.0, \"#f0f921\"]], \"type\": \"heatmap\"}], \"heatmapgl\": [{\"colorbar\": {\"outlinewidth\": 0, \"ticks\": \"\"}, \"colorscale\": [[0.0, \"#0d0887\"], [0.1111111111111111, \"#46039f\"], [0.2222222222222222, \"#7201a8\"], [0.3333333333333333, \"#9c179e\"], [0.4444444444444444, \"#bd3786\"], [0.5555555555555556, \"#d8576b\"], [0.6666666666666666, \"#ed7953\"], [0.7777777777777778, \"#fb9f3a\"], [0.8888888888888888, \"#fdca26\"], [1.0, \"#f0f921\"]], \"type\": \"heatmapgl\"}], \"histogram\": [{\"marker\": {\"colorbar\": {\"outlinewidth\": 0, \"ticks\": \"\"}}, \"type\": \"histogram\"}], \"histogram2d\": [{\"colorbar\": {\"outlinewidth\": 0, \"ticks\": \"\"}, \"colorscale\": [[0.0, \"#0d0887\"], [0.1111111111111111, \"#46039f\"], [0.2222222222222222, \"#7201a8\"], [0.3333333333333333, \"#9c179e\"], [0.4444444444444444, \"#bd3786\"], [0.5555555555555556, \"#d8576b\"], [0.6666666666666666, \"#ed7953\"], [0.7777777777777778, \"#fb9f3a\"], [0.8888888888888888, \"#fdca26\"], [1.0, \"#f0f921\"]], \"type\": \"histogram2d\"}], \"histogram2dcontour\": [{\"colorbar\": {\"outlinewidth\": 0, \"ticks\": \"\"}, \"colorscale\": [[0.0, \"#0d0887\"], [0.1111111111111111, \"#46039f\"], [0.2222222222222222, \"#7201a8\"], [0.3333333333333333, \"#9c179e\"], [0.4444444444444444, \"#bd3786\"], [0.5555555555555556, \"#d8576b\"], [0.6666666666666666, \"#ed7953\"], [0.7777777777777778, \"#fb9f3a\"], [0.8888888888888888, \"#fdca26\"], [1.0, \"#f0f921\"]], \"type\": \"histogram2dcontour\"}], \"mesh3d\": [{\"colorbar\": {\"outlinewidth\": 0, \"ticks\": \"\"}, \"type\": \"mesh3d\"}], \"parcoords\": [{\"line\": {\"colorbar\": {\"outlinewidth\": 0, \"ticks\": \"\"}}, \"type\": \"parcoords\"}], \"pie\": [{\"automargin\": true, \"type\": \"pie\"}], \"scatter\": [{\"marker\": {\"colorbar\": {\"outlinewidth\": 0, \"ticks\": \"\"}}, \"type\": \"scatter\"}], \"scatter3d\": [{\"line\": {\"colorbar\": {\"outlinewidth\": 0, \"ticks\": \"\"}}, \"marker\": {\"colorbar\": {\"outlinewidth\": 0, \"ticks\": \"\"}}, \"type\": \"scatter3d\"}], \"scattercarpet\": [{\"marker\": {\"colorbar\": {\"outlinewidth\": 0, \"ticks\": \"\"}}, \"type\": \"scattercarpet\"}], \"scattergeo\": [{\"marker\": {\"colorbar\": {\"outlinewidth\": 0, \"ticks\": \"\"}}, \"type\": \"scattergeo\"}], \"scattergl\": [{\"marker\": {\"colorbar\": {\"outlinewidth\": 0, \"ticks\": \"\"}}, \"type\": \"scattergl\"}], \"scattermapbox\": [{\"marker\": {\"colorbar\": {\"outlinewidth\": 0, \"ticks\": \"\"}}, \"type\": \"scattermapbox\"}], \"scatterpolar\": [{\"marker\": {\"colorbar\": {\"outlinewidth\": 0, \"ticks\": \"\"}}, \"type\": \"scatterpolar\"}], \"scatterpolargl\": [{\"marker\": {\"colorbar\": {\"outlinewidth\": 0, \"ticks\": \"\"}}, \"type\": \"scatterpolargl\"}], \"scatterternary\": [{\"marker\": {\"colorbar\": {\"outlinewidth\": 0, \"ticks\": \"\"}}, \"type\": \"scatterternary\"}], \"surface\": [{\"colorbar\": {\"outlinewidth\": 0, \"ticks\": \"\"}, \"colorscale\": [[0.0, \"#0d0887\"], [0.1111111111111111, \"#46039f\"], [0.2222222222222222, \"#7201a8\"], [0.3333333333333333, \"#9c179e\"], [0.4444444444444444, \"#bd3786\"], [0.5555555555555556, \"#d8576b\"], [0.6666666666666666, \"#ed7953\"], [0.7777777777777778, \"#fb9f3a\"], [0.8888888888888888, \"#fdca26\"], [1.0, \"#f0f921\"]], \"type\": \"surface\"}], \"table\": [{\"cells\": {\"fill\": {\"color\": \"#EBF0F8\"}, \"line\": {\"color\": \"white\"}}, \"header\": {\"fill\": {\"color\": \"#C8D4E3\"}, \"line\": {\"color\": \"white\"}}, \"type\": \"table\"}]}, \"layout\": {\"annotationdefaults\": {\"arrowcolor\": \"#2a3f5f\", \"arrowhead\": 0, \"arrowwidth\": 1}, \"coloraxis\": {\"colorbar\": {\"outlinewidth\": 0, \"ticks\": \"\"}}, \"colorscale\": {\"diverging\": [[0, \"#8e0152\"], [0.1, \"#c51b7d\"], [0.2, \"#de77ae\"], [0.3, \"#f1b6da\"], [0.4, \"#fde0ef\"], [0.5, \"#f7f7f7\"], [0.6, \"#e6f5d0\"], [0.7, \"#b8e186\"], [0.8, \"#7fbc41\"], [0.9, \"#4d9221\"], [1, \"#276419\"]], \"sequential\": [[0.0, \"#0d0887\"], [0.1111111111111111, \"#46039f\"], [0.2222222222222222, \"#7201a8\"], [0.3333333333333333, \"#9c179e\"], [0.4444444444444444, \"#bd3786\"], [0.5555555555555556, \"#d8576b\"], [0.6666666666666666, \"#ed7953\"], [0.7777777777777778, \"#fb9f3a\"], [0.8888888888888888, \"#fdca26\"], [1.0, \"#f0f921\"]], \"sequentialminus\": [[0.0, \"#0d0887\"], [0.1111111111111111, \"#46039f\"], [0.2222222222222222, \"#7201a8\"], [0.3333333333333333, \"#9c179e\"], [0.4444444444444444, \"#bd3786\"], [0.5555555555555556, \"#d8576b\"], [0.6666666666666666, \"#ed7953\"], [0.7777777777777778, \"#fb9f3a\"], [0.8888888888888888, \"#fdca26\"], [1.0, \"#f0f921\"]]}, \"colorway\": [\"#636efa\", \"#EF553B\", \"#00cc96\", \"#ab63fa\", \"#FFA15A\", \"#19d3f3\", \"#FF6692\", \"#B6E880\", \"#FF97FF\", \"#FECB52\"], \"font\": {\"color\": \"#2a3f5f\"}, \"geo\": {\"bgcolor\": \"white\", \"lakecolor\": \"white\", \"landcolor\": \"#E5ECF6\", \"showlakes\": true, \"showland\": true, \"subunitcolor\": \"white\"}, \"hoverlabel\": {\"align\": \"left\"}, \"hovermode\": \"closest\", \"mapbox\": {\"style\": \"light\"}, \"paper_bgcolor\": \"white\", \"plot_bgcolor\": \"#E5ECF6\", \"polar\": {\"angularaxis\": {\"gridcolor\": \"white\", \"linecolor\": \"white\", \"ticks\": \"\"}, \"bgcolor\": \"#E5ECF6\", \"radialaxis\": {\"gridcolor\": \"white\", \"linecolor\": \"white\", \"ticks\": \"\"}}, \"scene\": {\"xaxis\": {\"backgroundcolor\": \"#E5ECF6\", \"gridcolor\": \"white\", \"gridwidth\": 2, \"linecolor\": \"white\", \"showbackground\": true, \"ticks\": \"\", \"zerolinecolor\": \"white\"}, \"yaxis\": {\"backgroundcolor\": \"#E5ECF6\", \"gridcolor\": \"white\", \"gridwidth\": 2, \"linecolor\": \"white\", \"showbackground\": true, \"ticks\": \"\", \"zerolinecolor\": \"white\"}, \"zaxis\": {\"backgroundcolor\": \"#E5ECF6\", \"gridcolor\": \"white\", \"gridwidth\": 2, \"linecolor\": \"white\", \"showbackground\": true, \"ticks\": \"\", \"zerolinecolor\": \"white\"}}, \"shapedefaults\": {\"line\": {\"color\": \"#2a3f5f\"}}, \"ternary\": {\"aaxis\": {\"gridcolor\": \"white\", \"linecolor\": \"white\", \"ticks\": \"\"}, \"baxis\": {\"gridcolor\": \"white\", \"linecolor\": \"white\", \"ticks\": \"\"}, \"bgcolor\": \"#E5ECF6\", \"caxis\": {\"gridcolor\": \"white\", \"linecolor\": \"white\", \"ticks\": \"\"}}, \"title\": {\"x\": 0.05}, \"xaxis\": {\"automargin\": true, \"gridcolor\": \"white\", \"linecolor\": \"white\", \"ticks\": \"\", \"title\": {\"standoff\": 15}, \"zerolinecolor\": \"white\", \"zerolinewidth\": 2}, \"yaxis\": {\"automargin\": true, \"gridcolor\": \"white\", \"linecolor\": \"white\", \"ticks\": \"\", \"title\": {\"standoff\": 15}, \"zerolinecolor\": \"white\", \"zerolinewidth\": 2}}}, \"xaxis\": {\"anchor\": \"y\", \"domain\": [0.0, 1.0], \"title\": {\"text\": \"YEAR\"}}, \"yaxis\": {\"anchor\": \"x\", \"domain\": [0.0, 1.0], \"title\": {\"text\": \"num_cases\"}}},\n",
       "                        {\"responsive\": true}\n",
       "                    ).then(function(){\n",
       "                            \n",
       "var gd = document.getElementById('148390c0-fd07-446f-b7e0-f623cd4c0f1f');\n",
       "var x = new MutationObserver(function (mutations, observer) {{\n",
       "        var display = window.getComputedStyle(gd).display;\n",
       "        if (!display || display === 'none') {{\n",
       "            console.log([gd, 'removed!']);\n",
       "            Plotly.purge(gd);\n",
       "            observer.disconnect();\n",
       "        }}\n",
       "}});\n",
       "\n",
       "// Listen for the removal of the full notebook cells\n",
       "var notebookContainer = gd.closest('#notebook-container');\n",
       "if (notebookContainer) {{\n",
       "    x.observe(notebookContainer, {childList: true});\n",
       "}}\n",
       "\n",
       "// Listen for the clearing of the current output cell\n",
       "var outputEl = gd.closest('.output');\n",
       "if (outputEl) {{\n",
       "    x.observe(outputEl, {childList: true});\n",
       "}}\n",
       "\n",
       "                        })\n",
       "                };\n",
       "                });\n",
       "            </script>\n",
       "        </div>"
      ]
     },
     "metadata": {},
     "output_type": "display_data"
    }
   ],
   "source": [
    "reasons=df.groupby([\"YEAR\",\"PAYER_NAME\"]).count()\n",
    "px.bar(reasons.reset_index(),x=\"YEAR\",y=\"Id\",hover_data=[\"PAYER_NAME\"],labels={\"Id\":\"num_cases\"})"
   ]
  },
  {
   "cell_type": "code",
   "execution_count": 148,
   "metadata": {},
   "outputs": [],
   "source": [
    "fig = make_subplots(rows=11, cols=1,\n",
    "                    specs=[[{\"type\": \"pie\"}],\n",
    "                           [{\"type\": \"pie\"}],\n",
    "                           [{\"type\": \"pie\"}],\n",
    "                           [{\"type\": \"pie\"}],\n",
    "                           [{\"type\": \"pie\"}],\n",
    "                           [{\"type\": \"pie\"}],\n",
    "                           [{\"type\": \"pie\"}],\n",
    "                           [{\"type\": \"pie\"}],\n",
    "                           [{\"type\": \"pie\"}],\n",
    "                           [{\"type\": \"pie\"}],\n",
    "                           [{\"type\": \"pie\"}]],column_widths=[0.9])\n",
    "\n"
   ]
  },
  {
   "cell_type": "code",
   "execution_count": 153,
   "metadata": {},
   "outputs": [
    {
     "data": {
      "application/vnd.plotly.v1+json": {
       "config": {
        "plotlyServerURL": "https://plot.ly"
       },
       "data": [
        {
         "domain": {
          "x": [
           0,
           1
          ],
          "y": [
           0.9338842975206612,
           1
          ]
         },
         "labels": [
          "Hyperlipidemia",
          "Viral sinusitis (disorder)",
          "Sinusitis (disorder)",
          "Anemia (disorder)",
          "Streptococcal sore throat (disorder)",
          "Otitis media",
          "Normal pregnancy",
          "Fracture subluxation of wrist",
          "Acute viral pharyngitis (disorder)",
          "Drug overdose",
          "Fracture of rib"
         ],
         "textinfo": "none",
         "title": {
          "text": "2010"
         },
         "type": "pie",
         "values": [
          7,
          6,
          3,
          2,
          2,
          2,
          1,
          1,
          1,
          1,
          1
         ]
        },
        {
         "domain": {
          "x": [
           0,
           1
          ],
          "y": [
           0.8404958677685951,
           0.9066115702479339
          ]
         },
         "labels": [
          "Chronic congestive heart failure (disorder)",
          "Normal pregnancy",
          "Hyperlipidemia",
          "Viral sinusitis (disorder)",
          "Otitis media",
          "Acute bronchitis (disorder)",
          "Acute viral pharyngitis (disorder)",
          "Fetus with unknown complication",
          "Drug overdose",
          "Fracture of rib",
          "Blighted ovum",
          "Escherichia coli urinary tract infection",
          "Childhood asthma"
         ],
         "textinfo": "none",
         "title": {
          "text": "2011"
         },
         "type": "pie",
         "values": [
          57,
          24,
          8,
          7,
          3,
          3,
          1,
          1,
          1,
          1,
          1,
          1,
          1
         ]
        },
        {
         "domain": {
          "x": [
           0,
           1
          ],
          "y": [
           0.7471074380165289,
           0.8132231404958677
          ]
         },
         "labels": [
          "Chronic congestive heart failure (disorder)",
          "Normal pregnancy",
          "Viral sinusitis (disorder)",
          "Hyperlipidemia",
          "Acute bacterial sinusitis (disorder)",
          "Acute bronchitis (disorder)",
          "Streptococcal sore throat (disorder)",
          "Acute viral pharyngitis (disorder)",
          "Impacted molars",
          "Otitis media",
          "Alzheimer's disease (disorder)",
          "Fracture of ankle",
          "Chronic intractable migraine without aura",
          "Drug overdose",
          "Chronic pain",
          "Childhood asthma"
         ],
         "textinfo": "none",
         "title": {
          "text": "2012"
         },
         "type": "pie",
         "values": [
          70,
          15,
          10,
          8,
          5,
          4,
          3,
          2,
          2,
          2,
          1,
          1,
          1,
          1,
          1,
          1
         ]
        },
        {
         "domain": {
          "x": [
           0,
           1
          ],
          "y": [
           0.6537190082644628,
           0.7198347107438017
          ]
         },
         "labels": [
          "Normal pregnancy",
          "Child attention deficit disorder",
          "Hyperlipidemia",
          "Viral sinusitis (disorder)",
          "Acute viral pharyngitis (disorder)",
          "Chronic pain",
          "Acute bronchitis (disorder)",
          "Chronic congestive heart failure (disorder)",
          "Acute bacterial sinusitis (disorder)",
          "Otitis media",
          "Impacted molars",
          "Drug overdose",
          "Streptococcal sore throat (disorder)",
          "Anemia (disorder)",
          "Atopic dermatitis",
          "Concussion with no loss of consciousness",
          "Fetus with unknown complication",
          "Childhood asthma"
         ],
         "textinfo": "none",
         "title": {
          "text": "2013"
         },
         "type": "pie",
         "values": [
          26,
          9,
          8,
          5,
          4,
          3,
          3,
          2,
          2,
          2,
          2,
          2,
          1,
          1,
          1,
          1,
          1,
          1
         ]
        },
        {
         "domain": {
          "x": [
           0,
           1
          ],
          "y": [
           0.5603305785123966,
           0.6264462809917355
          ]
         },
         "labels": [
          "Normal pregnancy",
          "Child attention deficit disorder",
          "Hyperlipidemia",
          "Viral sinusitis (disorder)",
          "Streptococcal sore throat (disorder)",
          "Acute bronchitis (disorder)",
          "Acute viral pharyngitis (disorder)",
          "Drug overdose",
          "Impacted molars",
          "Childhood asthma",
          "Fracture subluxation of wrist",
          "Otitis media",
          "Sinusitis (disorder)",
          "Alzheimer's disease (disorder)",
          "Acute bacterial sinusitis (disorder)",
          "Chronic pain"
         ],
         "textinfo": "none",
         "title": {
          "text": "2014"
         },
         "type": "pie",
         "values": [
          45,
          12,
          8,
          4,
          3,
          3,
          2,
          2,
          2,
          2,
          1,
          1,
          1,
          1,
          1,
          1
         ]
        },
        {
         "domain": {
          "x": [
           0,
           1
          ],
          "y": [
           0.4669421487603306,
           0.5330578512396694
          ]
         },
         "labels": [
          "Normal pregnancy",
          "Child attention deficit disorder",
          "Hyperlipidemia",
          "Viral sinusitis (disorder)",
          "Acute bronchitis (disorder)",
          "Osteoarthritis of knee",
          "Drug overdose",
          "Chronic intractable migraine without aura",
          "Otitis media",
          "Chronic congestive heart failure (disorder)",
          "Acute bacterial sinusitis (disorder)",
          "Impacted molars",
          "Asthma",
          "Sinusitis (disorder)",
          "Anemia (disorder)",
          "Chronic pain"
         ],
         "textinfo": "none",
         "title": {
          "text": "2015"
         },
         "type": "pie",
         "values": [
          14,
          12,
          9,
          6,
          5,
          2,
          2,
          2,
          2,
          2,
          1,
          1,
          1,
          1,
          1,
          1
         ]
        },
        {
         "domain": {
          "x": [
           0,
           1
          ],
          "y": [
           0.37355371900826445,
           0.4396694214876033
          ]
         },
         "labels": [
          "Normal pregnancy",
          "Child attention deficit disorder",
          "Hyperlipidemia",
          "Viral sinusitis (disorder)",
          "Acute bronchitis (disorder)",
          "Chronic congestive heart failure (disorder)",
          "Chronic pain",
          "Injury of medial collateral ligament of knee",
          "Streptococcal sore throat (disorder)",
          "Acute viral pharyngitis (disorder)",
          "Drug overdose",
          "Anemia (disorder)",
          "Blighted ovum",
          "Fracture of forearm",
          "Otitis media",
          "Acute bacterial sinusitis (disorder)"
         ],
         "textinfo": "none",
         "title": {
          "text": "2016"
         },
         "type": "pie",
         "values": [
          21,
          11,
          9,
          3,
          3,
          2,
          2,
          1,
          1,
          1,
          1,
          1,
          1,
          1,
          1,
          1
         ]
        },
        {
         "domain": {
          "x": [
           0,
           1
          ],
          "y": [
           0.2801652892561983,
           0.34628099173553717
          ]
         },
         "labels": [
          "Normal pregnancy",
          "Child attention deficit disorder",
          "Hyperlipidemia",
          "Viral sinusitis (disorder)",
          "Acute viral pharyngitis (disorder)",
          "Acute bronchitis (disorder)",
          "Drug overdose",
          "Suspected lung cancer (situation)",
          "Non-small cell lung cancer (disorder)",
          "Non-small cell carcinoma of lung  TNM stage 1 (disorder)",
          "Perennial allergic rhinitis with seasonal variation",
          "Cystitis",
          "Alzheimer's disease (disorder)",
          "Childhood asthma"
         ],
         "textinfo": "none",
         "title": {
          "text": "2017"
         },
         "type": "pie",
         "values": [
          29,
          12,
          10,
          9,
          7,
          3,
          2,
          2,
          1,
          1,
          1,
          1,
          1,
          1
         ]
        },
        {
         "domain": {
          "x": [
           0,
           1
          ],
          "y": [
           0.18677685950413223,
           0.2528925619834711
          ]
         },
         "labels": [
          "Child attention deficit disorder",
          "Hyperlipidemia",
          "Viral sinusitis (disorder)",
          "Acute bacterial sinusitis (disorder)",
          "Normal pregnancy",
          "Acute bronchitis (disorder)",
          "Acute viral pharyngitis (disorder)",
          "Otitis media",
          "Injury of tendon of the rotator cuff of shoulder",
          "Childhood asthma",
          "Streptococcal sore throat (disorder)",
          "Fracture of clavicle",
          "Drug overdose",
          "Cystitis",
          "Pneumonia",
          "Atopic dermatitis"
         ],
         "textinfo": "none",
         "title": {
          "text": "2018"
         },
         "type": "pie",
         "values": [
          12,
          11,
          7,
          6,
          3,
          3,
          2,
          2,
          2,
          2,
          1,
          1,
          1,
          1,
          1,
          1
         ]
        },
        {
         "domain": {
          "x": [
           0,
           1
          ],
          "y": [
           0.09338842975206611,
           0.15950413223140497
          ]
         },
         "labels": [
          "Hyperlipidemia",
          "Viral sinusitis (disorder)",
          "Otitis media",
          "Normal pregnancy",
          "Appendicitis",
          "Acute viral pharyngitis (disorder)",
          "Child attention deficit disorder",
          "Acute bronchitis (disorder)",
          "Concussion with no loss of consciousness",
          "Escherichia coli urinary tract infection",
          "Injury of tendon of the rotator cuff of shoulder",
          "Cystitis",
          "Asthma",
          "Fracture of rib",
          "Drug overdose",
          "Streptococcal sore throat (disorder)",
          "Childhood asthma"
         ],
         "textinfo": "none",
         "title": {
          "text": "2019"
         },
         "type": "pie",
         "values": [
          9,
          7,
          5,
          3,
          2,
          2,
          2,
          1,
          1,
          1,
          1,
          1,
          1,
          1,
          1,
          1,
          1
         ]
        },
        {
         "domain": {
          "x": [
           0,
           1
          ],
          "y": [
           0,
           0.06611570247933884
          ]
         },
         "labels": [
          "Sinusitis (disorder)",
          "Normal pregnancy",
          "Acute viral pharyngitis (disorder)",
          "Perennial allergic rhinitis with seasonal variation",
          "Hyperlipidemia",
          "Childhood asthma",
          "Perennial allergic rhinitis",
          "Acute bronchitis (disorder)",
          "Fracture subluxation of wrist"
         ],
         "textinfo": "none",
         "title": {
          "text": "2020"
         },
         "type": "pie",
         "values": [
          5,
          4,
          3,
          2,
          2,
          2,
          1,
          1,
          1
         ]
        },
        {
         "domain": {
          "x": [
           0,
           1
          ],
          "y": [
           0.9338842975206612,
           1
          ]
         },
         "labels": [
          "Hyperlipidemia",
          "Viral sinusitis (disorder)",
          "Sinusitis (disorder)",
          "Anemia (disorder)",
          "Streptococcal sore throat (disorder)",
          "Otitis media",
          "Normal pregnancy",
          "Fracture subluxation of wrist",
          "Acute viral pharyngitis (disorder)",
          "Drug overdose",
          "Fracture of rib"
         ],
         "textinfo": "none",
         "title": {
          "text": "2010"
         },
         "type": "pie",
         "values": [
          7,
          6,
          3,
          2,
          2,
          2,
          1,
          1,
          1,
          1,
          1
         ]
        },
        {
         "domain": {
          "x": [
           0,
           1
          ],
          "y": [
           0.8404958677685951,
           0.9066115702479339
          ]
         },
         "labels": [
          "Chronic congestive heart failure (disorder)",
          "Normal pregnancy",
          "Hyperlipidemia",
          "Viral sinusitis (disorder)",
          "Otitis media",
          "Acute bronchitis (disorder)",
          "Acute viral pharyngitis (disorder)",
          "Fetus with unknown complication",
          "Drug overdose",
          "Fracture of rib",
          "Blighted ovum",
          "Escherichia coli urinary tract infection",
          "Childhood asthma"
         ],
         "textinfo": "none",
         "title": {
          "text": "2011"
         },
         "type": "pie",
         "values": [
          57,
          24,
          8,
          7,
          3,
          3,
          1,
          1,
          1,
          1,
          1,
          1,
          1
         ]
        },
        {
         "domain": {
          "x": [
           0,
           1
          ],
          "y": [
           0.7471074380165289,
           0.8132231404958677
          ]
         },
         "labels": [
          "Chronic congestive heart failure (disorder)",
          "Normal pregnancy",
          "Viral sinusitis (disorder)",
          "Hyperlipidemia",
          "Acute bacterial sinusitis (disorder)",
          "Acute bronchitis (disorder)",
          "Streptococcal sore throat (disorder)",
          "Acute viral pharyngitis (disorder)",
          "Impacted molars",
          "Otitis media",
          "Alzheimer's disease (disorder)",
          "Fracture of ankle",
          "Chronic intractable migraine without aura",
          "Drug overdose",
          "Chronic pain",
          "Childhood asthma"
         ],
         "textinfo": "none",
         "title": {
          "text": "2012"
         },
         "type": "pie",
         "values": [
          70,
          15,
          10,
          8,
          5,
          4,
          3,
          2,
          2,
          2,
          1,
          1,
          1,
          1,
          1,
          1
         ]
        },
        {
         "domain": {
          "x": [
           0,
           1
          ],
          "y": [
           0.6537190082644628,
           0.7198347107438017
          ]
         },
         "labels": [
          "Normal pregnancy",
          "Child attention deficit disorder",
          "Hyperlipidemia",
          "Viral sinusitis (disorder)",
          "Acute viral pharyngitis (disorder)",
          "Chronic pain",
          "Acute bronchitis (disorder)",
          "Chronic congestive heart failure (disorder)",
          "Acute bacterial sinusitis (disorder)",
          "Otitis media",
          "Impacted molars",
          "Drug overdose",
          "Streptococcal sore throat (disorder)",
          "Anemia (disorder)",
          "Atopic dermatitis",
          "Concussion with no loss of consciousness",
          "Fetus with unknown complication",
          "Childhood asthma"
         ],
         "textinfo": "none",
         "title": {
          "text": "2013"
         },
         "type": "pie",
         "values": [
          26,
          9,
          8,
          5,
          4,
          3,
          3,
          2,
          2,
          2,
          2,
          2,
          1,
          1,
          1,
          1,
          1,
          1
         ]
        },
        {
         "domain": {
          "x": [
           0,
           1
          ],
          "y": [
           0.5603305785123966,
           0.6264462809917355
          ]
         },
         "labels": [
          "Normal pregnancy",
          "Child attention deficit disorder",
          "Hyperlipidemia",
          "Viral sinusitis (disorder)",
          "Streptococcal sore throat (disorder)",
          "Acute bronchitis (disorder)",
          "Acute viral pharyngitis (disorder)",
          "Drug overdose",
          "Impacted molars",
          "Childhood asthma",
          "Fracture subluxation of wrist",
          "Otitis media",
          "Sinusitis (disorder)",
          "Alzheimer's disease (disorder)",
          "Acute bacterial sinusitis (disorder)",
          "Chronic pain"
         ],
         "textinfo": "none",
         "title": {
          "text": "2014"
         },
         "type": "pie",
         "values": [
          45,
          12,
          8,
          4,
          3,
          3,
          2,
          2,
          2,
          2,
          1,
          1,
          1,
          1,
          1,
          1
         ]
        },
        {
         "domain": {
          "x": [
           0,
           1
          ],
          "y": [
           0.4669421487603306,
           0.5330578512396694
          ]
         },
         "labels": [
          "Normal pregnancy",
          "Child attention deficit disorder",
          "Hyperlipidemia",
          "Viral sinusitis (disorder)",
          "Acute bronchitis (disorder)",
          "Osteoarthritis of knee",
          "Drug overdose",
          "Chronic intractable migraine without aura",
          "Otitis media",
          "Chronic congestive heart failure (disorder)",
          "Acute bacterial sinusitis (disorder)",
          "Impacted molars",
          "Asthma",
          "Sinusitis (disorder)",
          "Anemia (disorder)",
          "Chronic pain"
         ],
         "textinfo": "none",
         "title": {
          "text": "2015"
         },
         "type": "pie",
         "values": [
          14,
          12,
          9,
          6,
          5,
          2,
          2,
          2,
          2,
          2,
          1,
          1,
          1,
          1,
          1,
          1
         ]
        },
        {
         "domain": {
          "x": [
           0,
           1
          ],
          "y": [
           0.37355371900826445,
           0.4396694214876033
          ]
         },
         "labels": [
          "Normal pregnancy",
          "Child attention deficit disorder",
          "Hyperlipidemia",
          "Viral sinusitis (disorder)",
          "Acute bronchitis (disorder)",
          "Chronic congestive heart failure (disorder)",
          "Chronic pain",
          "Injury of medial collateral ligament of knee",
          "Streptococcal sore throat (disorder)",
          "Acute viral pharyngitis (disorder)",
          "Drug overdose",
          "Anemia (disorder)",
          "Blighted ovum",
          "Fracture of forearm",
          "Otitis media",
          "Acute bacterial sinusitis (disorder)"
         ],
         "textinfo": "none",
         "title": {
          "text": "2016"
         },
         "type": "pie",
         "values": [
          21,
          11,
          9,
          3,
          3,
          2,
          2,
          1,
          1,
          1,
          1,
          1,
          1,
          1,
          1,
          1
         ]
        },
        {
         "domain": {
          "x": [
           0,
           1
          ],
          "y": [
           0.2801652892561983,
           0.34628099173553717
          ]
         },
         "labels": [
          "Normal pregnancy",
          "Child attention deficit disorder",
          "Hyperlipidemia",
          "Viral sinusitis (disorder)",
          "Acute viral pharyngitis (disorder)",
          "Acute bronchitis (disorder)",
          "Drug overdose",
          "Suspected lung cancer (situation)",
          "Non-small cell lung cancer (disorder)",
          "Non-small cell carcinoma of lung  TNM stage 1 (disorder)",
          "Perennial allergic rhinitis with seasonal variation",
          "Cystitis",
          "Alzheimer's disease (disorder)",
          "Childhood asthma"
         ],
         "textinfo": "none",
         "title": {
          "text": "2017"
         },
         "type": "pie",
         "values": [
          29,
          12,
          10,
          9,
          7,
          3,
          2,
          2,
          1,
          1,
          1,
          1,
          1,
          1
         ]
        },
        {
         "domain": {
          "x": [
           0,
           1
          ],
          "y": [
           0.18677685950413223,
           0.2528925619834711
          ]
         },
         "labels": [
          "Child attention deficit disorder",
          "Hyperlipidemia",
          "Viral sinusitis (disorder)",
          "Acute bacterial sinusitis (disorder)",
          "Normal pregnancy",
          "Acute bronchitis (disorder)",
          "Acute viral pharyngitis (disorder)",
          "Otitis media",
          "Injury of tendon of the rotator cuff of shoulder",
          "Childhood asthma",
          "Streptococcal sore throat (disorder)",
          "Fracture of clavicle",
          "Drug overdose",
          "Cystitis",
          "Pneumonia",
          "Atopic dermatitis"
         ],
         "textinfo": "none",
         "title": {
          "text": "2018"
         },
         "type": "pie",
         "values": [
          12,
          11,
          7,
          6,
          3,
          3,
          2,
          2,
          2,
          2,
          1,
          1,
          1,
          1,
          1,
          1
         ]
        },
        {
         "domain": {
          "x": [
           0,
           1
          ],
          "y": [
           0.09338842975206611,
           0.15950413223140497
          ]
         },
         "labels": [
          "Hyperlipidemia",
          "Viral sinusitis (disorder)",
          "Otitis media",
          "Normal pregnancy",
          "Appendicitis",
          "Acute viral pharyngitis (disorder)",
          "Child attention deficit disorder",
          "Acute bronchitis (disorder)",
          "Concussion with no loss of consciousness",
          "Escherichia coli urinary tract infection",
          "Injury of tendon of the rotator cuff of shoulder",
          "Cystitis",
          "Asthma",
          "Fracture of rib",
          "Drug overdose",
          "Streptococcal sore throat (disorder)",
          "Childhood asthma"
         ],
         "textinfo": "none",
         "title": {
          "text": "2019"
         },
         "type": "pie",
         "values": [
          9,
          7,
          5,
          3,
          2,
          2,
          2,
          1,
          1,
          1,
          1,
          1,
          1,
          1,
          1,
          1,
          1
         ]
        },
        {
         "domain": {
          "x": [
           0,
           1
          ],
          "y": [
           0,
           0.06611570247933884
          ]
         },
         "labels": [
          "Sinusitis (disorder)",
          "Normal pregnancy",
          "Acute viral pharyngitis (disorder)",
          "Perennial allergic rhinitis with seasonal variation",
          "Hyperlipidemia",
          "Childhood asthma",
          "Perennial allergic rhinitis",
          "Acute bronchitis (disorder)",
          "Fracture subluxation of wrist"
         ],
         "textinfo": "none",
         "title": {
          "text": "2020"
         },
         "type": "pie",
         "values": [
          5,
          4,
          3,
          2,
          2,
          2,
          1,
          1,
          1
         ]
        },
        {
         "domain": {
          "x": [
           0,
           1
          ],
          "y": [
           0.9338842975206612,
           1
          ]
         },
         "labels": [
          "Hyperlipidemia",
          "Viral sinusitis (disorder)",
          "Sinusitis (disorder)",
          "Anemia (disorder)",
          "Streptococcal sore throat (disorder)",
          "Otitis media",
          "Normal pregnancy",
          "Fracture subluxation of wrist",
          "Acute viral pharyngitis (disorder)",
          "Drug overdose",
          "Fracture of rib"
         ],
         "textinfo": "none",
         "title": {
          "text": "2010"
         },
         "type": "pie",
         "values": [
          7,
          6,
          3,
          2,
          2,
          2,
          1,
          1,
          1,
          1,
          1
         ]
        },
        {
         "domain": {
          "x": [
           0,
           1
          ],
          "y": [
           0.8404958677685951,
           0.9066115702479339
          ]
         },
         "labels": [
          "Chronic congestive heart failure (disorder)",
          "Normal pregnancy",
          "Hyperlipidemia",
          "Viral sinusitis (disorder)",
          "Otitis media",
          "Acute bronchitis (disorder)",
          "Acute viral pharyngitis (disorder)",
          "Fetus with unknown complication",
          "Drug overdose",
          "Fracture of rib",
          "Blighted ovum",
          "Escherichia coli urinary tract infection",
          "Childhood asthma"
         ],
         "textinfo": "none",
         "title": {
          "text": "2011"
         },
         "type": "pie",
         "values": [
          57,
          24,
          8,
          7,
          3,
          3,
          1,
          1,
          1,
          1,
          1,
          1,
          1
         ]
        },
        {
         "domain": {
          "x": [
           0,
           1
          ],
          "y": [
           0.7471074380165289,
           0.8132231404958677
          ]
         },
         "labels": [
          "Chronic congestive heart failure (disorder)",
          "Normal pregnancy",
          "Viral sinusitis (disorder)",
          "Hyperlipidemia",
          "Acute bacterial sinusitis (disorder)",
          "Acute bronchitis (disorder)",
          "Streptococcal sore throat (disorder)",
          "Acute viral pharyngitis (disorder)",
          "Impacted molars",
          "Otitis media",
          "Alzheimer's disease (disorder)",
          "Fracture of ankle",
          "Chronic intractable migraine without aura",
          "Drug overdose",
          "Chronic pain",
          "Childhood asthma"
         ],
         "textinfo": "none",
         "title": {
          "text": "2012"
         },
         "type": "pie",
         "values": [
          70,
          15,
          10,
          8,
          5,
          4,
          3,
          2,
          2,
          2,
          1,
          1,
          1,
          1,
          1,
          1
         ]
        },
        {
         "domain": {
          "x": [
           0,
           1
          ],
          "y": [
           0.6537190082644628,
           0.7198347107438017
          ]
         },
         "labels": [
          "Normal pregnancy",
          "Child attention deficit disorder",
          "Hyperlipidemia",
          "Viral sinusitis (disorder)",
          "Acute viral pharyngitis (disorder)",
          "Chronic pain",
          "Acute bronchitis (disorder)",
          "Chronic congestive heart failure (disorder)",
          "Acute bacterial sinusitis (disorder)",
          "Otitis media",
          "Impacted molars",
          "Drug overdose",
          "Streptococcal sore throat (disorder)",
          "Anemia (disorder)",
          "Atopic dermatitis",
          "Concussion with no loss of consciousness",
          "Fetus with unknown complication",
          "Childhood asthma"
         ],
         "textinfo": "none",
         "title": {
          "text": "2013"
         },
         "type": "pie",
         "values": [
          26,
          9,
          8,
          5,
          4,
          3,
          3,
          2,
          2,
          2,
          2,
          2,
          1,
          1,
          1,
          1,
          1,
          1
         ]
        },
        {
         "domain": {
          "x": [
           0,
           1
          ],
          "y": [
           0.5603305785123966,
           0.6264462809917355
          ]
         },
         "labels": [
          "Normal pregnancy",
          "Child attention deficit disorder",
          "Hyperlipidemia",
          "Viral sinusitis (disorder)",
          "Streptococcal sore throat (disorder)",
          "Acute bronchitis (disorder)",
          "Acute viral pharyngitis (disorder)",
          "Drug overdose",
          "Impacted molars",
          "Childhood asthma",
          "Fracture subluxation of wrist",
          "Otitis media",
          "Sinusitis (disorder)",
          "Alzheimer's disease (disorder)",
          "Acute bacterial sinusitis (disorder)",
          "Chronic pain"
         ],
         "textinfo": "none",
         "title": {
          "text": "2014"
         },
         "type": "pie",
         "values": [
          45,
          12,
          8,
          4,
          3,
          3,
          2,
          2,
          2,
          2,
          1,
          1,
          1,
          1,
          1,
          1
         ]
        },
        {
         "domain": {
          "x": [
           0,
           1
          ],
          "y": [
           0.4669421487603306,
           0.5330578512396694
          ]
         },
         "labels": [
          "Normal pregnancy",
          "Child attention deficit disorder",
          "Hyperlipidemia",
          "Viral sinusitis (disorder)",
          "Acute bronchitis (disorder)",
          "Osteoarthritis of knee",
          "Drug overdose",
          "Chronic intractable migraine without aura",
          "Otitis media",
          "Chronic congestive heart failure (disorder)",
          "Acute bacterial sinusitis (disorder)",
          "Impacted molars",
          "Asthma",
          "Sinusitis (disorder)",
          "Anemia (disorder)",
          "Chronic pain"
         ],
         "textinfo": "none",
         "title": {
          "text": "2015"
         },
         "type": "pie",
         "values": [
          14,
          12,
          9,
          6,
          5,
          2,
          2,
          2,
          2,
          2,
          1,
          1,
          1,
          1,
          1,
          1
         ]
        },
        {
         "domain": {
          "x": [
           0,
           1
          ],
          "y": [
           0.37355371900826445,
           0.4396694214876033
          ]
         },
         "labels": [
          "Normal pregnancy",
          "Child attention deficit disorder",
          "Hyperlipidemia",
          "Viral sinusitis (disorder)",
          "Acute bronchitis (disorder)",
          "Chronic congestive heart failure (disorder)",
          "Chronic pain",
          "Injury of medial collateral ligament of knee",
          "Streptococcal sore throat (disorder)",
          "Acute viral pharyngitis (disorder)",
          "Drug overdose",
          "Anemia (disorder)",
          "Blighted ovum",
          "Fracture of forearm",
          "Otitis media",
          "Acute bacterial sinusitis (disorder)"
         ],
         "textinfo": "none",
         "title": {
          "text": "2016"
         },
         "type": "pie",
         "values": [
          21,
          11,
          9,
          3,
          3,
          2,
          2,
          1,
          1,
          1,
          1,
          1,
          1,
          1,
          1,
          1
         ]
        },
        {
         "domain": {
          "x": [
           0,
           1
          ],
          "y": [
           0.2801652892561983,
           0.34628099173553717
          ]
         },
         "labels": [
          "Normal pregnancy",
          "Child attention deficit disorder",
          "Hyperlipidemia",
          "Viral sinusitis (disorder)",
          "Acute viral pharyngitis (disorder)",
          "Acute bronchitis (disorder)",
          "Drug overdose",
          "Suspected lung cancer (situation)",
          "Non-small cell lung cancer (disorder)",
          "Non-small cell carcinoma of lung  TNM stage 1 (disorder)",
          "Perennial allergic rhinitis with seasonal variation",
          "Cystitis",
          "Alzheimer's disease (disorder)",
          "Childhood asthma"
         ],
         "textinfo": "none",
         "title": {
          "text": "2017"
         },
         "type": "pie",
         "values": [
          29,
          12,
          10,
          9,
          7,
          3,
          2,
          2,
          1,
          1,
          1,
          1,
          1,
          1
         ]
        },
        {
         "domain": {
          "x": [
           0,
           1
          ],
          "y": [
           0.18677685950413223,
           0.2528925619834711
          ]
         },
         "labels": [
          "Child attention deficit disorder",
          "Hyperlipidemia",
          "Viral sinusitis (disorder)",
          "Acute bacterial sinusitis (disorder)",
          "Normal pregnancy",
          "Acute bronchitis (disorder)",
          "Acute viral pharyngitis (disorder)",
          "Otitis media",
          "Injury of tendon of the rotator cuff of shoulder",
          "Childhood asthma",
          "Streptococcal sore throat (disorder)",
          "Fracture of clavicle",
          "Drug overdose",
          "Cystitis",
          "Pneumonia",
          "Atopic dermatitis"
         ],
         "textinfo": "none",
         "title": {
          "text": "2018"
         },
         "type": "pie",
         "values": [
          12,
          11,
          7,
          6,
          3,
          3,
          2,
          2,
          2,
          2,
          1,
          1,
          1,
          1,
          1,
          1
         ]
        },
        {
         "domain": {
          "x": [
           0,
           1
          ],
          "y": [
           0.09338842975206611,
           0.15950413223140497
          ]
         },
         "labels": [
          "Hyperlipidemia",
          "Viral sinusitis (disorder)",
          "Otitis media",
          "Normal pregnancy",
          "Appendicitis",
          "Acute viral pharyngitis (disorder)",
          "Child attention deficit disorder",
          "Acute bronchitis (disorder)",
          "Concussion with no loss of consciousness",
          "Escherichia coli urinary tract infection",
          "Injury of tendon of the rotator cuff of shoulder",
          "Cystitis",
          "Asthma",
          "Fracture of rib",
          "Drug overdose",
          "Streptococcal sore throat (disorder)",
          "Childhood asthma"
         ],
         "textinfo": "none",
         "title": {
          "text": "2019"
         },
         "type": "pie",
         "values": [
          9,
          7,
          5,
          3,
          2,
          2,
          2,
          1,
          1,
          1,
          1,
          1,
          1,
          1,
          1,
          1,
          1
         ]
        },
        {
         "domain": {
          "x": [
           0,
           1
          ],
          "y": [
           0,
           0.06611570247933884
          ]
         },
         "labels": [
          "Sinusitis (disorder)",
          "Normal pregnancy",
          "Acute viral pharyngitis (disorder)",
          "Perennial allergic rhinitis with seasonal variation",
          "Hyperlipidemia",
          "Childhood asthma",
          "Perennial allergic rhinitis",
          "Acute bronchitis (disorder)",
          "Fracture subluxation of wrist"
         ],
         "textinfo": "none",
         "title": {
          "text": "2020"
         },
         "type": "pie",
         "values": [
          5,
          4,
          3,
          2,
          2,
          2,
          1,
          1,
          1
         ]
        },
        {
         "domain": {
          "x": [
           0,
           1
          ],
          "y": [
           0.9338842975206612,
           1
          ]
         },
         "labels": [
          "Hyperlipidemia",
          "Viral sinusitis (disorder)",
          "Sinusitis (disorder)",
          "Anemia (disorder)",
          "Streptococcal sore throat (disorder)",
          "Otitis media",
          "Normal pregnancy",
          "Fracture subluxation of wrist",
          "Acute viral pharyngitis (disorder)",
          "Drug overdose",
          "Fracture of rib"
         ],
         "textinfo": "none",
         "title": {
          "text": "2010"
         },
         "type": "pie",
         "values": [
          7,
          6,
          3,
          2,
          2,
          2,
          1,
          1,
          1,
          1,
          1
         ]
        },
        {
         "domain": {
          "x": [
           0,
           1
          ],
          "y": [
           0.8404958677685951,
           0.9066115702479339
          ]
         },
         "labels": [
          "Chronic congestive heart failure (disorder)",
          "Normal pregnancy",
          "Hyperlipidemia",
          "Viral sinusitis (disorder)",
          "Otitis media",
          "Acute bronchitis (disorder)",
          "Acute viral pharyngitis (disorder)",
          "Fetus with unknown complication",
          "Drug overdose",
          "Fracture of rib",
          "Blighted ovum",
          "Escherichia coli urinary tract infection",
          "Childhood asthma"
         ],
         "textinfo": "none",
         "title": {
          "text": "2011"
         },
         "type": "pie",
         "values": [
          57,
          24,
          8,
          7,
          3,
          3,
          1,
          1,
          1,
          1,
          1,
          1,
          1
         ]
        },
        {
         "domain": {
          "x": [
           0,
           1
          ],
          "y": [
           0.7471074380165289,
           0.8132231404958677
          ]
         },
         "labels": [
          "Chronic congestive heart failure (disorder)",
          "Normal pregnancy",
          "Viral sinusitis (disorder)",
          "Hyperlipidemia",
          "Acute bacterial sinusitis (disorder)",
          "Acute bronchitis (disorder)",
          "Streptococcal sore throat (disorder)",
          "Acute viral pharyngitis (disorder)",
          "Impacted molars",
          "Otitis media",
          "Alzheimer's disease (disorder)",
          "Fracture of ankle",
          "Chronic intractable migraine without aura",
          "Drug overdose",
          "Chronic pain",
          "Childhood asthma"
         ],
         "textinfo": "none",
         "title": {
          "text": "2012"
         },
         "type": "pie",
         "values": [
          70,
          15,
          10,
          8,
          5,
          4,
          3,
          2,
          2,
          2,
          1,
          1,
          1,
          1,
          1,
          1
         ]
        },
        {
         "domain": {
          "x": [
           0,
           1
          ],
          "y": [
           0.6537190082644628,
           0.7198347107438017
          ]
         },
         "labels": [
          "Normal pregnancy",
          "Child attention deficit disorder",
          "Hyperlipidemia",
          "Viral sinusitis (disorder)",
          "Acute viral pharyngitis (disorder)",
          "Chronic pain",
          "Acute bronchitis (disorder)",
          "Chronic congestive heart failure (disorder)",
          "Acute bacterial sinusitis (disorder)",
          "Otitis media",
          "Impacted molars",
          "Drug overdose",
          "Streptococcal sore throat (disorder)",
          "Anemia (disorder)",
          "Atopic dermatitis",
          "Concussion with no loss of consciousness",
          "Fetus with unknown complication",
          "Childhood asthma"
         ],
         "textinfo": "none",
         "title": {
          "text": "2013"
         },
         "type": "pie",
         "values": [
          26,
          9,
          8,
          5,
          4,
          3,
          3,
          2,
          2,
          2,
          2,
          2,
          1,
          1,
          1,
          1,
          1,
          1
         ]
        },
        {
         "domain": {
          "x": [
           0,
           1
          ],
          "y": [
           0.5603305785123966,
           0.6264462809917355
          ]
         },
         "labels": [
          "Normal pregnancy",
          "Child attention deficit disorder",
          "Hyperlipidemia",
          "Viral sinusitis (disorder)",
          "Streptococcal sore throat (disorder)",
          "Acute bronchitis (disorder)",
          "Acute viral pharyngitis (disorder)",
          "Drug overdose",
          "Impacted molars",
          "Childhood asthma",
          "Fracture subluxation of wrist",
          "Otitis media",
          "Sinusitis (disorder)",
          "Alzheimer's disease (disorder)",
          "Acute bacterial sinusitis (disorder)",
          "Chronic pain"
         ],
         "textinfo": "none",
         "title": {
          "text": "2014"
         },
         "type": "pie",
         "values": [
          45,
          12,
          8,
          4,
          3,
          3,
          2,
          2,
          2,
          2,
          1,
          1,
          1,
          1,
          1,
          1
         ]
        },
        {
         "domain": {
          "x": [
           0,
           1
          ],
          "y": [
           0.4669421487603306,
           0.5330578512396694
          ]
         },
         "labels": [
          "Normal pregnancy",
          "Child attention deficit disorder",
          "Hyperlipidemia",
          "Viral sinusitis (disorder)",
          "Acute bronchitis (disorder)",
          "Osteoarthritis of knee",
          "Drug overdose",
          "Chronic intractable migraine without aura",
          "Otitis media",
          "Chronic congestive heart failure (disorder)",
          "Acute bacterial sinusitis (disorder)",
          "Impacted molars",
          "Asthma",
          "Sinusitis (disorder)",
          "Anemia (disorder)",
          "Chronic pain"
         ],
         "textinfo": "none",
         "title": {
          "text": "2015"
         },
         "type": "pie",
         "values": [
          14,
          12,
          9,
          6,
          5,
          2,
          2,
          2,
          2,
          2,
          1,
          1,
          1,
          1,
          1,
          1
         ]
        },
        {
         "domain": {
          "x": [
           0,
           1
          ],
          "y": [
           0.37355371900826445,
           0.4396694214876033
          ]
         },
         "labels": [
          "Normal pregnancy",
          "Child attention deficit disorder",
          "Hyperlipidemia",
          "Viral sinusitis (disorder)",
          "Acute bronchitis (disorder)",
          "Chronic congestive heart failure (disorder)",
          "Chronic pain",
          "Injury of medial collateral ligament of knee",
          "Streptococcal sore throat (disorder)",
          "Acute viral pharyngitis (disorder)",
          "Drug overdose",
          "Anemia (disorder)",
          "Blighted ovum",
          "Fracture of forearm",
          "Otitis media",
          "Acute bacterial sinusitis (disorder)"
         ],
         "textinfo": "none",
         "title": {
          "text": "2016"
         },
         "type": "pie",
         "values": [
          21,
          11,
          9,
          3,
          3,
          2,
          2,
          1,
          1,
          1,
          1,
          1,
          1,
          1,
          1,
          1
         ]
        },
        {
         "domain": {
          "x": [
           0,
           1
          ],
          "y": [
           0.2801652892561983,
           0.34628099173553717
          ]
         },
         "labels": [
          "Normal pregnancy",
          "Child attention deficit disorder",
          "Hyperlipidemia",
          "Viral sinusitis (disorder)",
          "Acute viral pharyngitis (disorder)",
          "Acute bronchitis (disorder)",
          "Drug overdose",
          "Suspected lung cancer (situation)",
          "Non-small cell lung cancer (disorder)",
          "Non-small cell carcinoma of lung  TNM stage 1 (disorder)",
          "Perennial allergic rhinitis with seasonal variation",
          "Cystitis",
          "Alzheimer's disease (disorder)",
          "Childhood asthma"
         ],
         "textinfo": "none",
         "title": {
          "text": "2017"
         },
         "type": "pie",
         "values": [
          29,
          12,
          10,
          9,
          7,
          3,
          2,
          2,
          1,
          1,
          1,
          1,
          1,
          1
         ]
        },
        {
         "domain": {
          "x": [
           0,
           1
          ],
          "y": [
           0.18677685950413223,
           0.2528925619834711
          ]
         },
         "labels": [
          "Child attention deficit disorder",
          "Hyperlipidemia",
          "Viral sinusitis (disorder)",
          "Acute bacterial sinusitis (disorder)",
          "Normal pregnancy",
          "Acute bronchitis (disorder)",
          "Acute viral pharyngitis (disorder)",
          "Otitis media",
          "Injury of tendon of the rotator cuff of shoulder",
          "Childhood asthma",
          "Streptococcal sore throat (disorder)",
          "Fracture of clavicle",
          "Drug overdose",
          "Cystitis",
          "Pneumonia",
          "Atopic dermatitis"
         ],
         "textinfo": "none",
         "title": {
          "text": "2018"
         },
         "type": "pie",
         "values": [
          12,
          11,
          7,
          6,
          3,
          3,
          2,
          2,
          2,
          2,
          1,
          1,
          1,
          1,
          1,
          1
         ]
        },
        {
         "domain": {
          "x": [
           0,
           1
          ],
          "y": [
           0.09338842975206611,
           0.15950413223140497
          ]
         },
         "labels": [
          "Hyperlipidemia",
          "Viral sinusitis (disorder)",
          "Otitis media",
          "Normal pregnancy",
          "Appendicitis",
          "Acute viral pharyngitis (disorder)",
          "Child attention deficit disorder",
          "Acute bronchitis (disorder)",
          "Concussion with no loss of consciousness",
          "Escherichia coli urinary tract infection",
          "Injury of tendon of the rotator cuff of shoulder",
          "Cystitis",
          "Asthma",
          "Fracture of rib",
          "Drug overdose",
          "Streptococcal sore throat (disorder)",
          "Childhood asthma"
         ],
         "textinfo": "none",
         "title": {
          "text": "2019"
         },
         "type": "pie",
         "values": [
          9,
          7,
          5,
          3,
          2,
          2,
          2,
          1,
          1,
          1,
          1,
          1,
          1,
          1,
          1,
          1,
          1
         ]
        },
        {
         "domain": {
          "x": [
           0,
           1
          ],
          "y": [
           0,
           0.06611570247933884
          ]
         },
         "labels": [
          "Sinusitis (disorder)",
          "Normal pregnancy",
          "Acute viral pharyngitis (disorder)",
          "Perennial allergic rhinitis with seasonal variation",
          "Hyperlipidemia",
          "Childhood asthma",
          "Perennial allergic rhinitis",
          "Acute bronchitis (disorder)",
          "Fracture subluxation of wrist"
         ],
         "textinfo": "none",
         "title": {
          "text": "2020"
         },
         "type": "pie",
         "values": [
          5,
          4,
          3,
          2,
          2,
          2,
          1,
          1,
          1
         ]
        },
        {
         "domain": {
          "x": [
           0,
           1
          ],
          "y": [
           0.9338842975206612,
           1
          ]
         },
         "labels": [
          "Hyperlipidemia",
          "Viral sinusitis (disorder)",
          "Sinusitis (disorder)",
          "Anemia (disorder)",
          "Streptococcal sore throat (disorder)",
          "Otitis media",
          "Normal pregnancy",
          "Fracture subluxation of wrist",
          "Acute viral pharyngitis (disorder)",
          "Drug overdose",
          "Fracture of rib"
         ],
         "textinfo": "none",
         "title": {
          "text": "2010"
         },
         "type": "pie",
         "values": [
          7,
          6,
          3,
          2,
          2,
          2,
          1,
          1,
          1,
          1,
          1
         ]
        },
        {
         "domain": {
          "x": [
           0,
           1
          ],
          "y": [
           0.8404958677685951,
           0.9066115702479339
          ]
         },
         "labels": [
          "Chronic congestive heart failure (disorder)",
          "Normal pregnancy",
          "Hyperlipidemia",
          "Viral sinusitis (disorder)",
          "Otitis media",
          "Acute bronchitis (disorder)",
          "Acute viral pharyngitis (disorder)",
          "Fetus with unknown complication",
          "Drug overdose",
          "Fracture of rib",
          "Blighted ovum",
          "Escherichia coli urinary tract infection",
          "Childhood asthma"
         ],
         "textinfo": "none",
         "title": {
          "text": "2011"
         },
         "type": "pie",
         "values": [
          57,
          24,
          8,
          7,
          3,
          3,
          1,
          1,
          1,
          1,
          1,
          1,
          1
         ]
        },
        {
         "domain": {
          "x": [
           0,
           1
          ],
          "y": [
           0.7471074380165289,
           0.8132231404958677
          ]
         },
         "labels": [
          "Chronic congestive heart failure (disorder)",
          "Normal pregnancy",
          "Viral sinusitis (disorder)",
          "Hyperlipidemia",
          "Acute bacterial sinusitis (disorder)",
          "Acute bronchitis (disorder)",
          "Streptococcal sore throat (disorder)",
          "Acute viral pharyngitis (disorder)",
          "Impacted molars",
          "Otitis media",
          "Alzheimer's disease (disorder)",
          "Fracture of ankle",
          "Chronic intractable migraine without aura",
          "Drug overdose",
          "Chronic pain",
          "Childhood asthma"
         ],
         "textinfo": "none",
         "title": {
          "text": "2012"
         },
         "type": "pie",
         "values": [
          70,
          15,
          10,
          8,
          5,
          4,
          3,
          2,
          2,
          2,
          1,
          1,
          1,
          1,
          1,
          1
         ]
        },
        {
         "domain": {
          "x": [
           0,
           1
          ],
          "y": [
           0.6537190082644628,
           0.7198347107438017
          ]
         },
         "labels": [
          "Normal pregnancy",
          "Child attention deficit disorder",
          "Hyperlipidemia",
          "Viral sinusitis (disorder)",
          "Acute viral pharyngitis (disorder)",
          "Chronic pain",
          "Acute bronchitis (disorder)",
          "Chronic congestive heart failure (disorder)",
          "Acute bacterial sinusitis (disorder)",
          "Otitis media",
          "Impacted molars",
          "Drug overdose",
          "Streptococcal sore throat (disorder)",
          "Anemia (disorder)",
          "Atopic dermatitis",
          "Concussion with no loss of consciousness",
          "Fetus with unknown complication",
          "Childhood asthma"
         ],
         "textinfo": "none",
         "title": {
          "text": "2013"
         },
         "type": "pie",
         "values": [
          26,
          9,
          8,
          5,
          4,
          3,
          3,
          2,
          2,
          2,
          2,
          2,
          1,
          1,
          1,
          1,
          1,
          1
         ]
        },
        {
         "domain": {
          "x": [
           0,
           1
          ],
          "y": [
           0.5603305785123966,
           0.6264462809917355
          ]
         },
         "labels": [
          "Normal pregnancy",
          "Child attention deficit disorder",
          "Hyperlipidemia",
          "Viral sinusitis (disorder)",
          "Streptococcal sore throat (disorder)",
          "Acute bronchitis (disorder)",
          "Acute viral pharyngitis (disorder)",
          "Drug overdose",
          "Impacted molars",
          "Childhood asthma",
          "Fracture subluxation of wrist",
          "Otitis media",
          "Sinusitis (disorder)",
          "Alzheimer's disease (disorder)",
          "Acute bacterial sinusitis (disorder)",
          "Chronic pain"
         ],
         "textinfo": "none",
         "title": {
          "text": "2014"
         },
         "type": "pie",
         "values": [
          45,
          12,
          8,
          4,
          3,
          3,
          2,
          2,
          2,
          2,
          1,
          1,
          1,
          1,
          1,
          1
         ]
        },
        {
         "domain": {
          "x": [
           0,
           1
          ],
          "y": [
           0.4669421487603306,
           0.5330578512396694
          ]
         },
         "labels": [
          "Normal pregnancy",
          "Child attention deficit disorder",
          "Hyperlipidemia",
          "Viral sinusitis (disorder)",
          "Acute bronchitis (disorder)",
          "Osteoarthritis of knee",
          "Drug overdose",
          "Chronic intractable migraine without aura",
          "Otitis media",
          "Chronic congestive heart failure (disorder)",
          "Acute bacterial sinusitis (disorder)",
          "Impacted molars",
          "Asthma",
          "Sinusitis (disorder)",
          "Anemia (disorder)",
          "Chronic pain"
         ],
         "textinfo": "none",
         "title": {
          "text": "2015"
         },
         "type": "pie",
         "values": [
          14,
          12,
          9,
          6,
          5,
          2,
          2,
          2,
          2,
          2,
          1,
          1,
          1,
          1,
          1,
          1
         ]
        },
        {
         "domain": {
          "x": [
           0,
           1
          ],
          "y": [
           0.37355371900826445,
           0.4396694214876033
          ]
         },
         "labels": [
          "Normal pregnancy",
          "Child attention deficit disorder",
          "Hyperlipidemia",
          "Viral sinusitis (disorder)",
          "Acute bronchitis (disorder)",
          "Chronic congestive heart failure (disorder)",
          "Chronic pain",
          "Injury of medial collateral ligament of knee",
          "Streptococcal sore throat (disorder)",
          "Acute viral pharyngitis (disorder)",
          "Drug overdose",
          "Anemia (disorder)",
          "Blighted ovum",
          "Fracture of forearm",
          "Otitis media",
          "Acute bacterial sinusitis (disorder)"
         ],
         "textinfo": "none",
         "title": {
          "text": "2016"
         },
         "type": "pie",
         "values": [
          21,
          11,
          9,
          3,
          3,
          2,
          2,
          1,
          1,
          1,
          1,
          1,
          1,
          1,
          1,
          1
         ]
        },
        {
         "domain": {
          "x": [
           0,
           1
          ],
          "y": [
           0.2801652892561983,
           0.34628099173553717
          ]
         },
         "labels": [
          "Normal pregnancy",
          "Child attention deficit disorder",
          "Hyperlipidemia",
          "Viral sinusitis (disorder)",
          "Acute viral pharyngitis (disorder)",
          "Acute bronchitis (disorder)",
          "Drug overdose",
          "Suspected lung cancer (situation)",
          "Non-small cell lung cancer (disorder)",
          "Non-small cell carcinoma of lung  TNM stage 1 (disorder)",
          "Perennial allergic rhinitis with seasonal variation",
          "Cystitis",
          "Alzheimer's disease (disorder)",
          "Childhood asthma"
         ],
         "textinfo": "none",
         "title": {
          "text": "2017"
         },
         "type": "pie",
         "values": [
          29,
          12,
          10,
          9,
          7,
          3,
          2,
          2,
          1,
          1,
          1,
          1,
          1,
          1
         ]
        },
        {
         "domain": {
          "x": [
           0,
           1
          ],
          "y": [
           0.18677685950413223,
           0.2528925619834711
          ]
         },
         "labels": [
          "Child attention deficit disorder",
          "Hyperlipidemia",
          "Viral sinusitis (disorder)",
          "Acute bacterial sinusitis (disorder)",
          "Normal pregnancy",
          "Acute bronchitis (disorder)",
          "Acute viral pharyngitis (disorder)",
          "Otitis media",
          "Injury of tendon of the rotator cuff of shoulder",
          "Childhood asthma",
          "Streptococcal sore throat (disorder)",
          "Fracture of clavicle",
          "Drug overdose",
          "Cystitis",
          "Pneumonia",
          "Atopic dermatitis"
         ],
         "textinfo": "none",
         "title": {
          "text": "2018"
         },
         "type": "pie",
         "values": [
          12,
          11,
          7,
          6,
          3,
          3,
          2,
          2,
          2,
          2,
          1,
          1,
          1,
          1,
          1,
          1
         ]
        },
        {
         "domain": {
          "x": [
           0,
           1
          ],
          "y": [
           0.09338842975206611,
           0.15950413223140497
          ]
         },
         "labels": [
          "Hyperlipidemia",
          "Viral sinusitis (disorder)",
          "Otitis media",
          "Normal pregnancy",
          "Appendicitis",
          "Acute viral pharyngitis (disorder)",
          "Child attention deficit disorder",
          "Acute bronchitis (disorder)",
          "Concussion with no loss of consciousness",
          "Escherichia coli urinary tract infection",
          "Injury of tendon of the rotator cuff of shoulder",
          "Cystitis",
          "Asthma",
          "Fracture of rib",
          "Drug overdose",
          "Streptococcal sore throat (disorder)",
          "Childhood asthma"
         ],
         "textinfo": "none",
         "title": {
          "text": "2019"
         },
         "type": "pie",
         "values": [
          9,
          7,
          5,
          3,
          2,
          2,
          2,
          1,
          1,
          1,
          1,
          1,
          1,
          1,
          1,
          1,
          1
         ]
        },
        {
         "domain": {
          "x": [
           0,
           1
          ],
          "y": [
           0,
           0.06611570247933884
          ]
         },
         "labels": [
          "Sinusitis (disorder)",
          "Normal pregnancy",
          "Acute viral pharyngitis (disorder)",
          "Perennial allergic rhinitis with seasonal variation",
          "Hyperlipidemia",
          "Childhood asthma",
          "Perennial allergic rhinitis",
          "Acute bronchitis (disorder)",
          "Fracture subluxation of wrist"
         ],
         "textinfo": "none",
         "title": {
          "text": "2020"
         },
         "type": "pie",
         "values": [
          5,
          4,
          3,
          2,
          2,
          2,
          1,
          1,
          1
         ]
        }
       ],
       "layout": {
        "height": 4000,
        "template": {
         "data": {
          "bar": [
           {
            "error_x": {
             "color": "#2a3f5f"
            },
            "error_y": {
             "color": "#2a3f5f"
            },
            "marker": {
             "line": {
              "color": "#E5ECF6",
              "width": 0.5
             }
            },
            "type": "bar"
           }
          ],
          "barpolar": [
           {
            "marker": {
             "line": {
              "color": "#E5ECF6",
              "width": 0.5
             }
            },
            "type": "barpolar"
           }
          ],
          "carpet": [
           {
            "aaxis": {
             "endlinecolor": "#2a3f5f",
             "gridcolor": "white",
             "linecolor": "white",
             "minorgridcolor": "white",
             "startlinecolor": "#2a3f5f"
            },
            "baxis": {
             "endlinecolor": "#2a3f5f",
             "gridcolor": "white",
             "linecolor": "white",
             "minorgridcolor": "white",
             "startlinecolor": "#2a3f5f"
            },
            "type": "carpet"
           }
          ],
          "choropleth": [
           {
            "colorbar": {
             "outlinewidth": 0,
             "ticks": ""
            },
            "type": "choropleth"
           }
          ],
          "contour": [
           {
            "colorbar": {
             "outlinewidth": 0,
             "ticks": ""
            },
            "colorscale": [
             [
              0,
              "#0d0887"
             ],
             [
              0.1111111111111111,
              "#46039f"
             ],
             [
              0.2222222222222222,
              "#7201a8"
             ],
             [
              0.3333333333333333,
              "#9c179e"
             ],
             [
              0.4444444444444444,
              "#bd3786"
             ],
             [
              0.5555555555555556,
              "#d8576b"
             ],
             [
              0.6666666666666666,
              "#ed7953"
             ],
             [
              0.7777777777777778,
              "#fb9f3a"
             ],
             [
              0.8888888888888888,
              "#fdca26"
             ],
             [
              1,
              "#f0f921"
             ]
            ],
            "type": "contour"
           }
          ],
          "contourcarpet": [
           {
            "colorbar": {
             "outlinewidth": 0,
             "ticks": ""
            },
            "type": "contourcarpet"
           }
          ],
          "heatmap": [
           {
            "colorbar": {
             "outlinewidth": 0,
             "ticks": ""
            },
            "colorscale": [
             [
              0,
              "#0d0887"
             ],
             [
              0.1111111111111111,
              "#46039f"
             ],
             [
              0.2222222222222222,
              "#7201a8"
             ],
             [
              0.3333333333333333,
              "#9c179e"
             ],
             [
              0.4444444444444444,
              "#bd3786"
             ],
             [
              0.5555555555555556,
              "#d8576b"
             ],
             [
              0.6666666666666666,
              "#ed7953"
             ],
             [
              0.7777777777777778,
              "#fb9f3a"
             ],
             [
              0.8888888888888888,
              "#fdca26"
             ],
             [
              1,
              "#f0f921"
             ]
            ],
            "type": "heatmap"
           }
          ],
          "heatmapgl": [
           {
            "colorbar": {
             "outlinewidth": 0,
             "ticks": ""
            },
            "colorscale": [
             [
              0,
              "#0d0887"
             ],
             [
              0.1111111111111111,
              "#46039f"
             ],
             [
              0.2222222222222222,
              "#7201a8"
             ],
             [
              0.3333333333333333,
              "#9c179e"
             ],
             [
              0.4444444444444444,
              "#bd3786"
             ],
             [
              0.5555555555555556,
              "#d8576b"
             ],
             [
              0.6666666666666666,
              "#ed7953"
             ],
             [
              0.7777777777777778,
              "#fb9f3a"
             ],
             [
              0.8888888888888888,
              "#fdca26"
             ],
             [
              1,
              "#f0f921"
             ]
            ],
            "type": "heatmapgl"
           }
          ],
          "histogram": [
           {
            "marker": {
             "colorbar": {
              "outlinewidth": 0,
              "ticks": ""
             }
            },
            "type": "histogram"
           }
          ],
          "histogram2d": [
           {
            "colorbar": {
             "outlinewidth": 0,
             "ticks": ""
            },
            "colorscale": [
             [
              0,
              "#0d0887"
             ],
             [
              0.1111111111111111,
              "#46039f"
             ],
             [
              0.2222222222222222,
              "#7201a8"
             ],
             [
              0.3333333333333333,
              "#9c179e"
             ],
             [
              0.4444444444444444,
              "#bd3786"
             ],
             [
              0.5555555555555556,
              "#d8576b"
             ],
             [
              0.6666666666666666,
              "#ed7953"
             ],
             [
              0.7777777777777778,
              "#fb9f3a"
             ],
             [
              0.8888888888888888,
              "#fdca26"
             ],
             [
              1,
              "#f0f921"
             ]
            ],
            "type": "histogram2d"
           }
          ],
          "histogram2dcontour": [
           {
            "colorbar": {
             "outlinewidth": 0,
             "ticks": ""
            },
            "colorscale": [
             [
              0,
              "#0d0887"
             ],
             [
              0.1111111111111111,
              "#46039f"
             ],
             [
              0.2222222222222222,
              "#7201a8"
             ],
             [
              0.3333333333333333,
              "#9c179e"
             ],
             [
              0.4444444444444444,
              "#bd3786"
             ],
             [
              0.5555555555555556,
              "#d8576b"
             ],
             [
              0.6666666666666666,
              "#ed7953"
             ],
             [
              0.7777777777777778,
              "#fb9f3a"
             ],
             [
              0.8888888888888888,
              "#fdca26"
             ],
             [
              1,
              "#f0f921"
             ]
            ],
            "type": "histogram2dcontour"
           }
          ],
          "mesh3d": [
           {
            "colorbar": {
             "outlinewidth": 0,
             "ticks": ""
            },
            "type": "mesh3d"
           }
          ],
          "parcoords": [
           {
            "line": {
             "colorbar": {
              "outlinewidth": 0,
              "ticks": ""
             }
            },
            "type": "parcoords"
           }
          ],
          "pie": [
           {
            "automargin": true,
            "type": "pie"
           }
          ],
          "scatter": [
           {
            "marker": {
             "colorbar": {
              "outlinewidth": 0,
              "ticks": ""
             }
            },
            "type": "scatter"
           }
          ],
          "scatter3d": [
           {
            "line": {
             "colorbar": {
              "outlinewidth": 0,
              "ticks": ""
             }
            },
            "marker": {
             "colorbar": {
              "outlinewidth": 0,
              "ticks": ""
             }
            },
            "type": "scatter3d"
           }
          ],
          "scattercarpet": [
           {
            "marker": {
             "colorbar": {
              "outlinewidth": 0,
              "ticks": ""
             }
            },
            "type": "scattercarpet"
           }
          ],
          "scattergeo": [
           {
            "marker": {
             "colorbar": {
              "outlinewidth": 0,
              "ticks": ""
             }
            },
            "type": "scattergeo"
           }
          ],
          "scattergl": [
           {
            "marker": {
             "colorbar": {
              "outlinewidth": 0,
              "ticks": ""
             }
            },
            "type": "scattergl"
           }
          ],
          "scattermapbox": [
           {
            "marker": {
             "colorbar": {
              "outlinewidth": 0,
              "ticks": ""
             }
            },
            "type": "scattermapbox"
           }
          ],
          "scatterpolar": [
           {
            "marker": {
             "colorbar": {
              "outlinewidth": 0,
              "ticks": ""
             }
            },
            "type": "scatterpolar"
           }
          ],
          "scatterpolargl": [
           {
            "marker": {
             "colorbar": {
              "outlinewidth": 0,
              "ticks": ""
             }
            },
            "type": "scatterpolargl"
           }
          ],
          "scatterternary": [
           {
            "marker": {
             "colorbar": {
              "outlinewidth": 0,
              "ticks": ""
             }
            },
            "type": "scatterternary"
           }
          ],
          "surface": [
           {
            "colorbar": {
             "outlinewidth": 0,
             "ticks": ""
            },
            "colorscale": [
             [
              0,
              "#0d0887"
             ],
             [
              0.1111111111111111,
              "#46039f"
             ],
             [
              0.2222222222222222,
              "#7201a8"
             ],
             [
              0.3333333333333333,
              "#9c179e"
             ],
             [
              0.4444444444444444,
              "#bd3786"
             ],
             [
              0.5555555555555556,
              "#d8576b"
             ],
             [
              0.6666666666666666,
              "#ed7953"
             ],
             [
              0.7777777777777778,
              "#fb9f3a"
             ],
             [
              0.8888888888888888,
              "#fdca26"
             ],
             [
              1,
              "#f0f921"
             ]
            ],
            "type": "surface"
           }
          ],
          "table": [
           {
            "cells": {
             "fill": {
              "color": "#EBF0F8"
             },
             "line": {
              "color": "white"
             }
            },
            "header": {
             "fill": {
              "color": "#C8D4E3"
             },
             "line": {
              "color": "white"
             }
            },
            "type": "table"
           }
          ]
         },
         "layout": {
          "annotationdefaults": {
           "arrowcolor": "#2a3f5f",
           "arrowhead": 0,
           "arrowwidth": 1
          },
          "coloraxis": {
           "colorbar": {
            "outlinewidth": 0,
            "ticks": ""
           }
          },
          "colorscale": {
           "diverging": [
            [
             0,
             "#8e0152"
            ],
            [
             0.1,
             "#c51b7d"
            ],
            [
             0.2,
             "#de77ae"
            ],
            [
             0.3,
             "#f1b6da"
            ],
            [
             0.4,
             "#fde0ef"
            ],
            [
             0.5,
             "#f7f7f7"
            ],
            [
             0.6,
             "#e6f5d0"
            ],
            [
             0.7,
             "#b8e186"
            ],
            [
             0.8,
             "#7fbc41"
            ],
            [
             0.9,
             "#4d9221"
            ],
            [
             1,
             "#276419"
            ]
           ],
           "sequential": [
            [
             0,
             "#0d0887"
            ],
            [
             0.1111111111111111,
             "#46039f"
            ],
            [
             0.2222222222222222,
             "#7201a8"
            ],
            [
             0.3333333333333333,
             "#9c179e"
            ],
            [
             0.4444444444444444,
             "#bd3786"
            ],
            [
             0.5555555555555556,
             "#d8576b"
            ],
            [
             0.6666666666666666,
             "#ed7953"
            ],
            [
             0.7777777777777778,
             "#fb9f3a"
            ],
            [
             0.8888888888888888,
             "#fdca26"
            ],
            [
             1,
             "#f0f921"
            ]
           ],
           "sequentialminus": [
            [
             0,
             "#0d0887"
            ],
            [
             0.1111111111111111,
             "#46039f"
            ],
            [
             0.2222222222222222,
             "#7201a8"
            ],
            [
             0.3333333333333333,
             "#9c179e"
            ],
            [
             0.4444444444444444,
             "#bd3786"
            ],
            [
             0.5555555555555556,
             "#d8576b"
            ],
            [
             0.6666666666666666,
             "#ed7953"
            ],
            [
             0.7777777777777778,
             "#fb9f3a"
            ],
            [
             0.8888888888888888,
             "#fdca26"
            ],
            [
             1,
             "#f0f921"
            ]
           ]
          },
          "colorway": [
           "#636efa",
           "#EF553B",
           "#00cc96",
           "#ab63fa",
           "#FFA15A",
           "#19d3f3",
           "#FF6692",
           "#B6E880",
           "#FF97FF",
           "#FECB52"
          ],
          "font": {
           "color": "#2a3f5f"
          },
          "geo": {
           "bgcolor": "white",
           "lakecolor": "white",
           "landcolor": "#E5ECF6",
           "showlakes": true,
           "showland": true,
           "subunitcolor": "white"
          },
          "hoverlabel": {
           "align": "left"
          },
          "hovermode": "closest",
          "mapbox": {
           "style": "light"
          },
          "paper_bgcolor": "white",
          "plot_bgcolor": "#E5ECF6",
          "polar": {
           "angularaxis": {
            "gridcolor": "white",
            "linecolor": "white",
            "ticks": ""
           },
           "bgcolor": "#E5ECF6",
           "radialaxis": {
            "gridcolor": "white",
            "linecolor": "white",
            "ticks": ""
           }
          },
          "scene": {
           "xaxis": {
            "backgroundcolor": "#E5ECF6",
            "gridcolor": "white",
            "gridwidth": 2,
            "linecolor": "white",
            "showbackground": true,
            "ticks": "",
            "zerolinecolor": "white"
           },
           "yaxis": {
            "backgroundcolor": "#E5ECF6",
            "gridcolor": "white",
            "gridwidth": 2,
            "linecolor": "white",
            "showbackground": true,
            "ticks": "",
            "zerolinecolor": "white"
           },
           "zaxis": {
            "backgroundcolor": "#E5ECF6",
            "gridcolor": "white",
            "gridwidth": 2,
            "linecolor": "white",
            "showbackground": true,
            "ticks": "",
            "zerolinecolor": "white"
           }
          },
          "shapedefaults": {
           "line": {
            "color": "#2a3f5f"
           }
          },
          "ternary": {
           "aaxis": {
            "gridcolor": "white",
            "linecolor": "white",
            "ticks": ""
           },
           "baxis": {
            "gridcolor": "white",
            "linecolor": "white",
            "ticks": ""
           },
           "bgcolor": "#E5ECF6",
           "caxis": {
            "gridcolor": "white",
            "linecolor": "white",
            "ticks": ""
           }
          },
          "title": {
           "x": 0.05
          },
          "xaxis": {
           "automargin": true,
           "gridcolor": "white",
           "linecolor": "white",
           "ticks": "",
           "title": {
            "standoff": 15
           },
           "zerolinecolor": "white",
           "zerolinewidth": 2
          },
          "yaxis": {
           "automargin": true,
           "gridcolor": "white",
           "linecolor": "white",
           "ticks": "",
           "title": {
            "standoff": 15
           },
           "zerolinecolor": "white",
           "zerolinewidth": 2
          }
         }
        },
        "width": 1000
       }
      },
      "text/html": [
       "<div>\n",
       "        \n",
       "        \n",
       "            <div id=\"6f642253-a342-4068-bf43-0fb5b04f2ab9\" class=\"plotly-graph-div\" style=\"height:4000px; width:1000px;\"></div>\n",
       "            <script type=\"text/javascript\">\n",
       "                require([\"plotly\"], function(Plotly) {\n",
       "                    window.PLOTLYENV=window.PLOTLYENV || {};\n",
       "                    \n",
       "                if (document.getElementById(\"6f642253-a342-4068-bf43-0fb5b04f2ab9\")) {\n",
       "                    Plotly.newPlot(\n",
       "                        '6f642253-a342-4068-bf43-0fb5b04f2ab9',\n",
       "                        [{\"domain\": {\"x\": [0.0, 1.0], \"y\": [0.9338842975206612, 1.0]}, \"labels\": [\"Hyperlipidemia\", \"Viral sinusitis (disorder)\", \"Sinusitis (disorder)\", \"Anemia (disorder)\", \"Streptococcal sore throat (disorder)\", \"Otitis media\", \"Normal pregnancy\", \"Fracture subluxation of wrist\", \"Acute viral pharyngitis (disorder)\", \"Drug overdose\", \"Fracture of rib\"], \"textinfo\": \"none\", \"title\": {\"text\": \"2010\"}, \"type\": \"pie\", \"values\": [7, 6, 3, 2, 2, 2, 1, 1, 1, 1, 1]}, {\"domain\": {\"x\": [0.0, 1.0], \"y\": [0.8404958677685951, 0.9066115702479339]}, \"labels\": [\"Chronic congestive heart failure (disorder)\", \"Normal pregnancy\", \"Hyperlipidemia\", \"Viral sinusitis (disorder)\", \"Otitis media\", \"Acute bronchitis (disorder)\", \"Acute viral pharyngitis (disorder)\", \"Fetus with unknown complication\", \"Drug overdose\", \"Fracture of rib\", \"Blighted ovum\", \"Escherichia coli urinary tract infection\", \"Childhood asthma\"], \"textinfo\": \"none\", \"title\": {\"text\": \"2011\"}, \"type\": \"pie\", \"values\": [57, 24, 8, 7, 3, 3, 1, 1, 1, 1, 1, 1, 1]}, {\"domain\": {\"x\": [0.0, 1.0], \"y\": [0.7471074380165289, 0.8132231404958677]}, \"labels\": [\"Chronic congestive heart failure (disorder)\", \"Normal pregnancy\", \"Viral sinusitis (disorder)\", \"Hyperlipidemia\", \"Acute bacterial sinusitis (disorder)\", \"Acute bronchitis (disorder)\", \"Streptococcal sore throat (disorder)\", \"Acute viral pharyngitis (disorder)\", \"Impacted molars\", \"Otitis media\", \"Alzheimer's disease (disorder)\", \"Fracture of ankle\", \"Chronic intractable migraine without aura\", \"Drug overdose\", \"Chronic pain\", \"Childhood asthma\"], \"textinfo\": \"none\", \"title\": {\"text\": \"2012\"}, \"type\": \"pie\", \"values\": [70, 15, 10, 8, 5, 4, 3, 2, 2, 2, 1, 1, 1, 1, 1, 1]}, {\"domain\": {\"x\": [0.0, 1.0], \"y\": [0.6537190082644628, 0.7198347107438017]}, \"labels\": [\"Normal pregnancy\", \"Child attention deficit disorder\", \"Hyperlipidemia\", \"Viral sinusitis (disorder)\", \"Acute viral pharyngitis (disorder)\", \"Chronic pain\", \"Acute bronchitis (disorder)\", \"Chronic congestive heart failure (disorder)\", \"Acute bacterial sinusitis (disorder)\", \"Otitis media\", \"Impacted molars\", \"Drug overdose\", \"Streptococcal sore throat (disorder)\", \"Anemia (disorder)\", \"Atopic dermatitis\", \"Concussion with no loss of consciousness\", \"Fetus with unknown complication\", \"Childhood asthma\"], \"textinfo\": \"none\", \"title\": {\"text\": \"2013\"}, \"type\": \"pie\", \"values\": [26, 9, 8, 5, 4, 3, 3, 2, 2, 2, 2, 2, 1, 1, 1, 1, 1, 1]}, {\"domain\": {\"x\": [0.0, 1.0], \"y\": [0.5603305785123966, 0.6264462809917355]}, \"labels\": [\"Normal pregnancy\", \"Child attention deficit disorder\", \"Hyperlipidemia\", \"Viral sinusitis (disorder)\", \"Streptococcal sore throat (disorder)\", \"Acute bronchitis (disorder)\", \"Acute viral pharyngitis (disorder)\", \"Drug overdose\", \"Impacted molars\", \"Childhood asthma\", \"Fracture subluxation of wrist\", \"Otitis media\", \"Sinusitis (disorder)\", \"Alzheimer's disease (disorder)\", \"Acute bacterial sinusitis (disorder)\", \"Chronic pain\"], \"textinfo\": \"none\", \"title\": {\"text\": \"2014\"}, \"type\": \"pie\", \"values\": [45, 12, 8, 4, 3, 3, 2, 2, 2, 2, 1, 1, 1, 1, 1, 1]}, {\"domain\": {\"x\": [0.0, 1.0], \"y\": [0.4669421487603306, 0.5330578512396694]}, \"labels\": [\"Normal pregnancy\", \"Child attention deficit disorder\", \"Hyperlipidemia\", \"Viral sinusitis (disorder)\", \"Acute bronchitis (disorder)\", \"Osteoarthritis of knee\", \"Drug overdose\", \"Chronic intractable migraine without aura\", \"Otitis media\", \"Chronic congestive heart failure (disorder)\", \"Acute bacterial sinusitis (disorder)\", \"Impacted molars\", \"Asthma\", \"Sinusitis (disorder)\", \"Anemia (disorder)\", \"Chronic pain\"], \"textinfo\": \"none\", \"title\": {\"text\": \"2015\"}, \"type\": \"pie\", \"values\": [14, 12, 9, 6, 5, 2, 2, 2, 2, 2, 1, 1, 1, 1, 1, 1]}, {\"domain\": {\"x\": [0.0, 1.0], \"y\": [0.37355371900826445, 0.4396694214876033]}, \"labels\": [\"Normal pregnancy\", \"Child attention deficit disorder\", \"Hyperlipidemia\", \"Viral sinusitis (disorder)\", \"Acute bronchitis (disorder)\", \"Chronic congestive heart failure (disorder)\", \"Chronic pain\", \"Injury of medial collateral ligament of knee\", \"Streptococcal sore throat (disorder)\", \"Acute viral pharyngitis (disorder)\", \"Drug overdose\", \"Anemia (disorder)\", \"Blighted ovum\", \"Fracture of forearm\", \"Otitis media\", \"Acute bacterial sinusitis (disorder)\"], \"textinfo\": \"none\", \"title\": {\"text\": \"2016\"}, \"type\": \"pie\", \"values\": [21, 11, 9, 3, 3, 2, 2, 1, 1, 1, 1, 1, 1, 1, 1, 1]}, {\"domain\": {\"x\": [0.0, 1.0], \"y\": [0.2801652892561983, 0.34628099173553717]}, \"labels\": [\"Normal pregnancy\", \"Child attention deficit disorder\", \"Hyperlipidemia\", \"Viral sinusitis (disorder)\", \"Acute viral pharyngitis (disorder)\", \"Acute bronchitis (disorder)\", \"Drug overdose\", \"Suspected lung cancer (situation)\", \"Non-small cell lung cancer (disorder)\", \"Non-small cell carcinoma of lung  TNM stage 1 (disorder)\", \"Perennial allergic rhinitis with seasonal variation\", \"Cystitis\", \"Alzheimer's disease (disorder)\", \"Childhood asthma\"], \"textinfo\": \"none\", \"title\": {\"text\": \"2017\"}, \"type\": \"pie\", \"values\": [29, 12, 10, 9, 7, 3, 2, 2, 1, 1, 1, 1, 1, 1]}, {\"domain\": {\"x\": [0.0, 1.0], \"y\": [0.18677685950413223, 0.2528925619834711]}, \"labels\": [\"Child attention deficit disorder\", \"Hyperlipidemia\", \"Viral sinusitis (disorder)\", \"Acute bacterial sinusitis (disorder)\", \"Normal pregnancy\", \"Acute bronchitis (disorder)\", \"Acute viral pharyngitis (disorder)\", \"Otitis media\", \"Injury of tendon of the rotator cuff of shoulder\", \"Childhood asthma\", \"Streptococcal sore throat (disorder)\", \"Fracture of clavicle\", \"Drug overdose\", \"Cystitis\", \"Pneumonia\", \"Atopic dermatitis\"], \"textinfo\": \"none\", \"title\": {\"text\": \"2018\"}, \"type\": \"pie\", \"values\": [12, 11, 7, 6, 3, 3, 2, 2, 2, 2, 1, 1, 1, 1, 1, 1]}, {\"domain\": {\"x\": [0.0, 1.0], \"y\": [0.09338842975206611, 0.15950413223140497]}, \"labels\": [\"Hyperlipidemia\", \"Viral sinusitis (disorder)\", \"Otitis media\", \"Normal pregnancy\", \"Appendicitis\", \"Acute viral pharyngitis (disorder)\", \"Child attention deficit disorder\", \"Acute bronchitis (disorder)\", \"Concussion with no loss of consciousness\", \"Escherichia coli urinary tract infection\", \"Injury of tendon of the rotator cuff of shoulder\", \"Cystitis\", \"Asthma\", \"Fracture of rib\", \"Drug overdose\", \"Streptococcal sore throat (disorder)\", \"Childhood asthma\"], \"textinfo\": \"none\", \"title\": {\"text\": \"2019\"}, \"type\": \"pie\", \"values\": [9, 7, 5, 3, 2, 2, 2, 1, 1, 1, 1, 1, 1, 1, 1, 1, 1]}, {\"domain\": {\"x\": [0.0, 1.0], \"y\": [0.0, 0.06611570247933884]}, \"labels\": [\"Sinusitis (disorder)\", \"Normal pregnancy\", \"Acute viral pharyngitis (disorder)\", \"Perennial allergic rhinitis with seasonal variation\", \"Hyperlipidemia\", \"Childhood asthma\", \"Perennial allergic rhinitis\", \"Acute bronchitis (disorder)\", \"Fracture subluxation of wrist\"], \"textinfo\": \"none\", \"title\": {\"text\": \"2020\"}, \"type\": \"pie\", \"values\": [5, 4, 3, 2, 2, 2, 1, 1, 1]}, {\"domain\": {\"x\": [0.0, 1.0], \"y\": [0.9338842975206612, 1.0]}, \"labels\": [\"Hyperlipidemia\", \"Viral sinusitis (disorder)\", \"Sinusitis (disorder)\", \"Anemia (disorder)\", \"Streptococcal sore throat (disorder)\", \"Otitis media\", \"Normal pregnancy\", \"Fracture subluxation of wrist\", \"Acute viral pharyngitis (disorder)\", \"Drug overdose\", \"Fracture of rib\"], \"textinfo\": \"none\", \"title\": {\"text\": \"2010\"}, \"type\": \"pie\", \"values\": [7, 6, 3, 2, 2, 2, 1, 1, 1, 1, 1]}, {\"domain\": {\"x\": [0.0, 1.0], \"y\": [0.8404958677685951, 0.9066115702479339]}, \"labels\": [\"Chronic congestive heart failure (disorder)\", \"Normal pregnancy\", \"Hyperlipidemia\", \"Viral sinusitis (disorder)\", \"Otitis media\", \"Acute bronchitis (disorder)\", \"Acute viral pharyngitis (disorder)\", \"Fetus with unknown complication\", \"Drug overdose\", \"Fracture of rib\", \"Blighted ovum\", \"Escherichia coli urinary tract infection\", \"Childhood asthma\"], \"textinfo\": \"none\", \"title\": {\"text\": \"2011\"}, \"type\": \"pie\", \"values\": [57, 24, 8, 7, 3, 3, 1, 1, 1, 1, 1, 1, 1]}, {\"domain\": {\"x\": [0.0, 1.0], \"y\": [0.7471074380165289, 0.8132231404958677]}, \"labels\": [\"Chronic congestive heart failure (disorder)\", \"Normal pregnancy\", \"Viral sinusitis (disorder)\", \"Hyperlipidemia\", \"Acute bacterial sinusitis (disorder)\", \"Acute bronchitis (disorder)\", \"Streptococcal sore throat (disorder)\", \"Acute viral pharyngitis (disorder)\", \"Impacted molars\", \"Otitis media\", \"Alzheimer's disease (disorder)\", \"Fracture of ankle\", \"Chronic intractable migraine without aura\", \"Drug overdose\", \"Chronic pain\", \"Childhood asthma\"], \"textinfo\": \"none\", \"title\": {\"text\": \"2012\"}, \"type\": \"pie\", \"values\": [70, 15, 10, 8, 5, 4, 3, 2, 2, 2, 1, 1, 1, 1, 1, 1]}, {\"domain\": {\"x\": [0.0, 1.0], \"y\": [0.6537190082644628, 0.7198347107438017]}, \"labels\": [\"Normal pregnancy\", \"Child attention deficit disorder\", \"Hyperlipidemia\", \"Viral sinusitis (disorder)\", \"Acute viral pharyngitis (disorder)\", \"Chronic pain\", \"Acute bronchitis (disorder)\", \"Chronic congestive heart failure (disorder)\", \"Acute bacterial sinusitis (disorder)\", \"Otitis media\", \"Impacted molars\", \"Drug overdose\", \"Streptococcal sore throat (disorder)\", \"Anemia (disorder)\", \"Atopic dermatitis\", \"Concussion with no loss of consciousness\", \"Fetus with unknown complication\", \"Childhood asthma\"], \"textinfo\": \"none\", \"title\": {\"text\": \"2013\"}, \"type\": \"pie\", \"values\": [26, 9, 8, 5, 4, 3, 3, 2, 2, 2, 2, 2, 1, 1, 1, 1, 1, 1]}, {\"domain\": {\"x\": [0.0, 1.0], \"y\": [0.5603305785123966, 0.6264462809917355]}, \"labels\": [\"Normal pregnancy\", \"Child attention deficit disorder\", \"Hyperlipidemia\", \"Viral sinusitis (disorder)\", \"Streptococcal sore throat (disorder)\", \"Acute bronchitis (disorder)\", \"Acute viral pharyngitis (disorder)\", \"Drug overdose\", \"Impacted molars\", \"Childhood asthma\", \"Fracture subluxation of wrist\", \"Otitis media\", \"Sinusitis (disorder)\", \"Alzheimer's disease (disorder)\", \"Acute bacterial sinusitis (disorder)\", \"Chronic pain\"], \"textinfo\": \"none\", \"title\": {\"text\": \"2014\"}, \"type\": \"pie\", \"values\": [45, 12, 8, 4, 3, 3, 2, 2, 2, 2, 1, 1, 1, 1, 1, 1]}, {\"domain\": {\"x\": [0.0, 1.0], \"y\": [0.4669421487603306, 0.5330578512396694]}, \"labels\": [\"Normal pregnancy\", \"Child attention deficit disorder\", \"Hyperlipidemia\", \"Viral sinusitis (disorder)\", \"Acute bronchitis (disorder)\", \"Osteoarthritis of knee\", \"Drug overdose\", \"Chronic intractable migraine without aura\", \"Otitis media\", \"Chronic congestive heart failure (disorder)\", \"Acute bacterial sinusitis (disorder)\", \"Impacted molars\", \"Asthma\", \"Sinusitis (disorder)\", \"Anemia (disorder)\", \"Chronic pain\"], \"textinfo\": \"none\", \"title\": {\"text\": \"2015\"}, \"type\": \"pie\", \"values\": [14, 12, 9, 6, 5, 2, 2, 2, 2, 2, 1, 1, 1, 1, 1, 1]}, {\"domain\": {\"x\": [0.0, 1.0], \"y\": [0.37355371900826445, 0.4396694214876033]}, \"labels\": [\"Normal pregnancy\", \"Child attention deficit disorder\", \"Hyperlipidemia\", \"Viral sinusitis (disorder)\", \"Acute bronchitis (disorder)\", \"Chronic congestive heart failure (disorder)\", \"Chronic pain\", \"Injury of medial collateral ligament of knee\", \"Streptococcal sore throat (disorder)\", \"Acute viral pharyngitis (disorder)\", \"Drug overdose\", \"Anemia (disorder)\", \"Blighted ovum\", \"Fracture of forearm\", \"Otitis media\", \"Acute bacterial sinusitis (disorder)\"], \"textinfo\": \"none\", \"title\": {\"text\": \"2016\"}, \"type\": \"pie\", \"values\": [21, 11, 9, 3, 3, 2, 2, 1, 1, 1, 1, 1, 1, 1, 1, 1]}, {\"domain\": {\"x\": [0.0, 1.0], \"y\": [0.2801652892561983, 0.34628099173553717]}, \"labels\": [\"Normal pregnancy\", \"Child attention deficit disorder\", \"Hyperlipidemia\", \"Viral sinusitis (disorder)\", \"Acute viral pharyngitis (disorder)\", \"Acute bronchitis (disorder)\", \"Drug overdose\", \"Suspected lung cancer (situation)\", \"Non-small cell lung cancer (disorder)\", \"Non-small cell carcinoma of lung  TNM stage 1 (disorder)\", \"Perennial allergic rhinitis with seasonal variation\", \"Cystitis\", \"Alzheimer's disease (disorder)\", \"Childhood asthma\"], \"textinfo\": \"none\", \"title\": {\"text\": \"2017\"}, \"type\": \"pie\", \"values\": [29, 12, 10, 9, 7, 3, 2, 2, 1, 1, 1, 1, 1, 1]}, {\"domain\": {\"x\": [0.0, 1.0], \"y\": [0.18677685950413223, 0.2528925619834711]}, \"labels\": [\"Child attention deficit disorder\", \"Hyperlipidemia\", \"Viral sinusitis (disorder)\", \"Acute bacterial sinusitis (disorder)\", \"Normal pregnancy\", \"Acute bronchitis (disorder)\", \"Acute viral pharyngitis (disorder)\", \"Otitis media\", \"Injury of tendon of the rotator cuff of shoulder\", \"Childhood asthma\", \"Streptococcal sore throat (disorder)\", \"Fracture of clavicle\", \"Drug overdose\", \"Cystitis\", \"Pneumonia\", \"Atopic dermatitis\"], \"textinfo\": \"none\", \"title\": {\"text\": \"2018\"}, \"type\": \"pie\", \"values\": [12, 11, 7, 6, 3, 3, 2, 2, 2, 2, 1, 1, 1, 1, 1, 1]}, {\"domain\": {\"x\": [0.0, 1.0], \"y\": [0.09338842975206611, 0.15950413223140497]}, \"labels\": [\"Hyperlipidemia\", \"Viral sinusitis (disorder)\", \"Otitis media\", \"Normal pregnancy\", \"Appendicitis\", \"Acute viral pharyngitis (disorder)\", \"Child attention deficit disorder\", \"Acute bronchitis (disorder)\", \"Concussion with no loss of consciousness\", \"Escherichia coli urinary tract infection\", \"Injury of tendon of the rotator cuff of shoulder\", \"Cystitis\", \"Asthma\", \"Fracture of rib\", \"Drug overdose\", \"Streptococcal sore throat (disorder)\", \"Childhood asthma\"], \"textinfo\": \"none\", \"title\": {\"text\": \"2019\"}, \"type\": \"pie\", \"values\": [9, 7, 5, 3, 2, 2, 2, 1, 1, 1, 1, 1, 1, 1, 1, 1, 1]}, {\"domain\": {\"x\": [0.0, 1.0], \"y\": [0.0, 0.06611570247933884]}, \"labels\": [\"Sinusitis (disorder)\", \"Normal pregnancy\", \"Acute viral pharyngitis (disorder)\", \"Perennial allergic rhinitis with seasonal variation\", \"Hyperlipidemia\", \"Childhood asthma\", \"Perennial allergic rhinitis\", \"Acute bronchitis (disorder)\", \"Fracture subluxation of wrist\"], \"textinfo\": \"none\", \"title\": {\"text\": \"2020\"}, \"type\": \"pie\", \"values\": [5, 4, 3, 2, 2, 2, 1, 1, 1]}, {\"domain\": {\"x\": [0.0, 1.0], \"y\": [0.9338842975206612, 1.0]}, \"labels\": [\"Hyperlipidemia\", \"Viral sinusitis (disorder)\", \"Sinusitis (disorder)\", \"Anemia (disorder)\", \"Streptococcal sore throat (disorder)\", \"Otitis media\", \"Normal pregnancy\", \"Fracture subluxation of wrist\", \"Acute viral pharyngitis (disorder)\", \"Drug overdose\", \"Fracture of rib\"], \"textinfo\": \"none\", \"title\": {\"text\": \"2010\"}, \"type\": \"pie\", \"values\": [7, 6, 3, 2, 2, 2, 1, 1, 1, 1, 1]}, {\"domain\": {\"x\": [0.0, 1.0], \"y\": [0.8404958677685951, 0.9066115702479339]}, \"labels\": [\"Chronic congestive heart failure (disorder)\", \"Normal pregnancy\", \"Hyperlipidemia\", \"Viral sinusitis (disorder)\", \"Otitis media\", \"Acute bronchitis (disorder)\", \"Acute viral pharyngitis (disorder)\", \"Fetus with unknown complication\", \"Drug overdose\", \"Fracture of rib\", \"Blighted ovum\", \"Escherichia coli urinary tract infection\", \"Childhood asthma\"], \"textinfo\": \"none\", \"title\": {\"text\": \"2011\"}, \"type\": \"pie\", \"values\": [57, 24, 8, 7, 3, 3, 1, 1, 1, 1, 1, 1, 1]}, {\"domain\": {\"x\": [0.0, 1.0], \"y\": [0.7471074380165289, 0.8132231404958677]}, \"labels\": [\"Chronic congestive heart failure (disorder)\", \"Normal pregnancy\", \"Viral sinusitis (disorder)\", \"Hyperlipidemia\", \"Acute bacterial sinusitis (disorder)\", \"Acute bronchitis (disorder)\", \"Streptococcal sore throat (disorder)\", \"Acute viral pharyngitis (disorder)\", \"Impacted molars\", \"Otitis media\", \"Alzheimer's disease (disorder)\", \"Fracture of ankle\", \"Chronic intractable migraine without aura\", \"Drug overdose\", \"Chronic pain\", \"Childhood asthma\"], \"textinfo\": \"none\", \"title\": {\"text\": \"2012\"}, \"type\": \"pie\", \"values\": [70, 15, 10, 8, 5, 4, 3, 2, 2, 2, 1, 1, 1, 1, 1, 1]}, {\"domain\": {\"x\": [0.0, 1.0], \"y\": [0.6537190082644628, 0.7198347107438017]}, \"labels\": [\"Normal pregnancy\", \"Child attention deficit disorder\", \"Hyperlipidemia\", \"Viral sinusitis (disorder)\", \"Acute viral pharyngitis (disorder)\", \"Chronic pain\", \"Acute bronchitis (disorder)\", \"Chronic congestive heart failure (disorder)\", \"Acute bacterial sinusitis (disorder)\", \"Otitis media\", \"Impacted molars\", \"Drug overdose\", \"Streptococcal sore throat (disorder)\", \"Anemia (disorder)\", \"Atopic dermatitis\", \"Concussion with no loss of consciousness\", \"Fetus with unknown complication\", \"Childhood asthma\"], \"textinfo\": \"none\", \"title\": {\"text\": \"2013\"}, \"type\": \"pie\", \"values\": [26, 9, 8, 5, 4, 3, 3, 2, 2, 2, 2, 2, 1, 1, 1, 1, 1, 1]}, {\"domain\": {\"x\": [0.0, 1.0], \"y\": [0.5603305785123966, 0.6264462809917355]}, \"labels\": [\"Normal pregnancy\", \"Child attention deficit disorder\", \"Hyperlipidemia\", \"Viral sinusitis (disorder)\", \"Streptococcal sore throat (disorder)\", \"Acute bronchitis (disorder)\", \"Acute viral pharyngitis (disorder)\", \"Drug overdose\", \"Impacted molars\", \"Childhood asthma\", \"Fracture subluxation of wrist\", \"Otitis media\", \"Sinusitis (disorder)\", \"Alzheimer's disease (disorder)\", \"Acute bacterial sinusitis (disorder)\", \"Chronic pain\"], \"textinfo\": \"none\", \"title\": {\"text\": \"2014\"}, \"type\": \"pie\", \"values\": [45, 12, 8, 4, 3, 3, 2, 2, 2, 2, 1, 1, 1, 1, 1, 1]}, {\"domain\": {\"x\": [0.0, 1.0], \"y\": [0.4669421487603306, 0.5330578512396694]}, \"labels\": [\"Normal pregnancy\", \"Child attention deficit disorder\", \"Hyperlipidemia\", \"Viral sinusitis (disorder)\", \"Acute bronchitis (disorder)\", \"Osteoarthritis of knee\", \"Drug overdose\", \"Chronic intractable migraine without aura\", \"Otitis media\", \"Chronic congestive heart failure (disorder)\", \"Acute bacterial sinusitis (disorder)\", \"Impacted molars\", \"Asthma\", \"Sinusitis (disorder)\", \"Anemia (disorder)\", \"Chronic pain\"], \"textinfo\": \"none\", \"title\": {\"text\": \"2015\"}, \"type\": \"pie\", \"values\": [14, 12, 9, 6, 5, 2, 2, 2, 2, 2, 1, 1, 1, 1, 1, 1]}, {\"domain\": {\"x\": [0.0, 1.0], \"y\": [0.37355371900826445, 0.4396694214876033]}, \"labels\": [\"Normal pregnancy\", \"Child attention deficit disorder\", \"Hyperlipidemia\", \"Viral sinusitis (disorder)\", \"Acute bronchitis (disorder)\", \"Chronic congestive heart failure (disorder)\", \"Chronic pain\", \"Injury of medial collateral ligament of knee\", \"Streptococcal sore throat (disorder)\", \"Acute viral pharyngitis (disorder)\", \"Drug overdose\", \"Anemia (disorder)\", \"Blighted ovum\", \"Fracture of forearm\", \"Otitis media\", \"Acute bacterial sinusitis (disorder)\"], \"textinfo\": \"none\", \"title\": {\"text\": \"2016\"}, \"type\": \"pie\", \"values\": [21, 11, 9, 3, 3, 2, 2, 1, 1, 1, 1, 1, 1, 1, 1, 1]}, {\"domain\": {\"x\": [0.0, 1.0], \"y\": [0.2801652892561983, 0.34628099173553717]}, \"labels\": [\"Normal pregnancy\", \"Child attention deficit disorder\", \"Hyperlipidemia\", \"Viral sinusitis (disorder)\", \"Acute viral pharyngitis (disorder)\", \"Acute bronchitis (disorder)\", \"Drug overdose\", \"Suspected lung cancer (situation)\", \"Non-small cell lung cancer (disorder)\", \"Non-small cell carcinoma of lung  TNM stage 1 (disorder)\", \"Perennial allergic rhinitis with seasonal variation\", \"Cystitis\", \"Alzheimer's disease (disorder)\", \"Childhood asthma\"], \"textinfo\": \"none\", \"title\": {\"text\": \"2017\"}, \"type\": \"pie\", \"values\": [29, 12, 10, 9, 7, 3, 2, 2, 1, 1, 1, 1, 1, 1]}, {\"domain\": {\"x\": [0.0, 1.0], \"y\": [0.18677685950413223, 0.2528925619834711]}, \"labels\": [\"Child attention deficit disorder\", \"Hyperlipidemia\", \"Viral sinusitis (disorder)\", \"Acute bacterial sinusitis (disorder)\", \"Normal pregnancy\", \"Acute bronchitis (disorder)\", \"Acute viral pharyngitis (disorder)\", \"Otitis media\", \"Injury of tendon of the rotator cuff of shoulder\", \"Childhood asthma\", \"Streptococcal sore throat (disorder)\", \"Fracture of clavicle\", \"Drug overdose\", \"Cystitis\", \"Pneumonia\", \"Atopic dermatitis\"], \"textinfo\": \"none\", \"title\": {\"text\": \"2018\"}, \"type\": \"pie\", \"values\": [12, 11, 7, 6, 3, 3, 2, 2, 2, 2, 1, 1, 1, 1, 1, 1]}, {\"domain\": {\"x\": [0.0, 1.0], \"y\": [0.09338842975206611, 0.15950413223140497]}, \"labels\": [\"Hyperlipidemia\", \"Viral sinusitis (disorder)\", \"Otitis media\", \"Normal pregnancy\", \"Appendicitis\", \"Acute viral pharyngitis (disorder)\", \"Child attention deficit disorder\", \"Acute bronchitis (disorder)\", \"Concussion with no loss of consciousness\", \"Escherichia coli urinary tract infection\", \"Injury of tendon of the rotator cuff of shoulder\", \"Cystitis\", \"Asthma\", \"Fracture of rib\", \"Drug overdose\", \"Streptococcal sore throat (disorder)\", \"Childhood asthma\"], \"textinfo\": \"none\", \"title\": {\"text\": \"2019\"}, \"type\": \"pie\", \"values\": [9, 7, 5, 3, 2, 2, 2, 1, 1, 1, 1, 1, 1, 1, 1, 1, 1]}, {\"domain\": {\"x\": [0.0, 1.0], \"y\": [0.0, 0.06611570247933884]}, \"labels\": [\"Sinusitis (disorder)\", \"Normal pregnancy\", \"Acute viral pharyngitis (disorder)\", \"Perennial allergic rhinitis with seasonal variation\", \"Hyperlipidemia\", \"Childhood asthma\", \"Perennial allergic rhinitis\", \"Acute bronchitis (disorder)\", \"Fracture subluxation of wrist\"], \"textinfo\": \"none\", \"title\": {\"text\": \"2020\"}, \"type\": \"pie\", \"values\": [5, 4, 3, 2, 2, 2, 1, 1, 1]}, {\"domain\": {\"x\": [0.0, 1.0], \"y\": [0.9338842975206612, 1.0]}, \"labels\": [\"Hyperlipidemia\", \"Viral sinusitis (disorder)\", \"Sinusitis (disorder)\", \"Anemia (disorder)\", \"Streptococcal sore throat (disorder)\", \"Otitis media\", \"Normal pregnancy\", \"Fracture subluxation of wrist\", \"Acute viral pharyngitis (disorder)\", \"Drug overdose\", \"Fracture of rib\"], \"textinfo\": \"none\", \"title\": {\"text\": \"2010\"}, \"type\": \"pie\", \"values\": [7, 6, 3, 2, 2, 2, 1, 1, 1, 1, 1]}, {\"domain\": {\"x\": [0.0, 1.0], \"y\": [0.8404958677685951, 0.9066115702479339]}, \"labels\": [\"Chronic congestive heart failure (disorder)\", \"Normal pregnancy\", \"Hyperlipidemia\", \"Viral sinusitis (disorder)\", \"Otitis media\", \"Acute bronchitis (disorder)\", \"Acute viral pharyngitis (disorder)\", \"Fetus with unknown complication\", \"Drug overdose\", \"Fracture of rib\", \"Blighted ovum\", \"Escherichia coli urinary tract infection\", \"Childhood asthma\"], \"textinfo\": \"none\", \"title\": {\"text\": \"2011\"}, \"type\": \"pie\", \"values\": [57, 24, 8, 7, 3, 3, 1, 1, 1, 1, 1, 1, 1]}, {\"domain\": {\"x\": [0.0, 1.0], \"y\": [0.7471074380165289, 0.8132231404958677]}, \"labels\": [\"Chronic congestive heart failure (disorder)\", \"Normal pregnancy\", \"Viral sinusitis (disorder)\", \"Hyperlipidemia\", \"Acute bacterial sinusitis (disorder)\", \"Acute bronchitis (disorder)\", \"Streptococcal sore throat (disorder)\", \"Acute viral pharyngitis (disorder)\", \"Impacted molars\", \"Otitis media\", \"Alzheimer's disease (disorder)\", \"Fracture of ankle\", \"Chronic intractable migraine without aura\", \"Drug overdose\", \"Chronic pain\", \"Childhood asthma\"], \"textinfo\": \"none\", \"title\": {\"text\": \"2012\"}, \"type\": \"pie\", \"values\": [70, 15, 10, 8, 5, 4, 3, 2, 2, 2, 1, 1, 1, 1, 1, 1]}, {\"domain\": {\"x\": [0.0, 1.0], \"y\": [0.6537190082644628, 0.7198347107438017]}, \"labels\": [\"Normal pregnancy\", \"Child attention deficit disorder\", \"Hyperlipidemia\", \"Viral sinusitis (disorder)\", \"Acute viral pharyngitis (disorder)\", \"Chronic pain\", \"Acute bronchitis (disorder)\", \"Chronic congestive heart failure (disorder)\", \"Acute bacterial sinusitis (disorder)\", \"Otitis media\", \"Impacted molars\", \"Drug overdose\", \"Streptococcal sore throat (disorder)\", \"Anemia (disorder)\", \"Atopic dermatitis\", \"Concussion with no loss of consciousness\", \"Fetus with unknown complication\", \"Childhood asthma\"], \"textinfo\": \"none\", \"title\": {\"text\": \"2013\"}, \"type\": \"pie\", \"values\": [26, 9, 8, 5, 4, 3, 3, 2, 2, 2, 2, 2, 1, 1, 1, 1, 1, 1]}, {\"domain\": {\"x\": [0.0, 1.0], \"y\": [0.5603305785123966, 0.6264462809917355]}, \"labels\": [\"Normal pregnancy\", \"Child attention deficit disorder\", \"Hyperlipidemia\", \"Viral sinusitis (disorder)\", \"Streptococcal sore throat (disorder)\", \"Acute bronchitis (disorder)\", \"Acute viral pharyngitis (disorder)\", \"Drug overdose\", \"Impacted molars\", \"Childhood asthma\", \"Fracture subluxation of wrist\", \"Otitis media\", \"Sinusitis (disorder)\", \"Alzheimer's disease (disorder)\", \"Acute bacterial sinusitis (disorder)\", \"Chronic pain\"], \"textinfo\": \"none\", \"title\": {\"text\": \"2014\"}, \"type\": \"pie\", \"values\": [45, 12, 8, 4, 3, 3, 2, 2, 2, 2, 1, 1, 1, 1, 1, 1]}, {\"domain\": {\"x\": [0.0, 1.0], \"y\": [0.4669421487603306, 0.5330578512396694]}, \"labels\": [\"Normal pregnancy\", \"Child attention deficit disorder\", \"Hyperlipidemia\", \"Viral sinusitis (disorder)\", \"Acute bronchitis (disorder)\", \"Osteoarthritis of knee\", \"Drug overdose\", \"Chronic intractable migraine without aura\", \"Otitis media\", \"Chronic congestive heart failure (disorder)\", \"Acute bacterial sinusitis (disorder)\", \"Impacted molars\", \"Asthma\", \"Sinusitis (disorder)\", \"Anemia (disorder)\", \"Chronic pain\"], \"textinfo\": \"none\", \"title\": {\"text\": \"2015\"}, \"type\": \"pie\", \"values\": [14, 12, 9, 6, 5, 2, 2, 2, 2, 2, 1, 1, 1, 1, 1, 1]}, {\"domain\": {\"x\": [0.0, 1.0], \"y\": [0.37355371900826445, 0.4396694214876033]}, \"labels\": [\"Normal pregnancy\", \"Child attention deficit disorder\", \"Hyperlipidemia\", \"Viral sinusitis (disorder)\", \"Acute bronchitis (disorder)\", \"Chronic congestive heart failure (disorder)\", \"Chronic pain\", \"Injury of medial collateral ligament of knee\", \"Streptococcal sore throat (disorder)\", \"Acute viral pharyngitis (disorder)\", \"Drug overdose\", \"Anemia (disorder)\", \"Blighted ovum\", \"Fracture of forearm\", \"Otitis media\", \"Acute bacterial sinusitis (disorder)\"], \"textinfo\": \"none\", \"title\": {\"text\": \"2016\"}, \"type\": \"pie\", \"values\": [21, 11, 9, 3, 3, 2, 2, 1, 1, 1, 1, 1, 1, 1, 1, 1]}, {\"domain\": {\"x\": [0.0, 1.0], \"y\": [0.2801652892561983, 0.34628099173553717]}, \"labels\": [\"Normal pregnancy\", \"Child attention deficit disorder\", \"Hyperlipidemia\", \"Viral sinusitis (disorder)\", \"Acute viral pharyngitis (disorder)\", \"Acute bronchitis (disorder)\", \"Drug overdose\", \"Suspected lung cancer (situation)\", \"Non-small cell lung cancer (disorder)\", \"Non-small cell carcinoma of lung  TNM stage 1 (disorder)\", \"Perennial allergic rhinitis with seasonal variation\", \"Cystitis\", \"Alzheimer's disease (disorder)\", \"Childhood asthma\"], \"textinfo\": \"none\", \"title\": {\"text\": \"2017\"}, \"type\": \"pie\", \"values\": [29, 12, 10, 9, 7, 3, 2, 2, 1, 1, 1, 1, 1, 1]}, {\"domain\": {\"x\": [0.0, 1.0], \"y\": [0.18677685950413223, 0.2528925619834711]}, \"labels\": [\"Child attention deficit disorder\", \"Hyperlipidemia\", \"Viral sinusitis (disorder)\", \"Acute bacterial sinusitis (disorder)\", \"Normal pregnancy\", \"Acute bronchitis (disorder)\", \"Acute viral pharyngitis (disorder)\", \"Otitis media\", \"Injury of tendon of the rotator cuff of shoulder\", \"Childhood asthma\", \"Streptococcal sore throat (disorder)\", \"Fracture of clavicle\", \"Drug overdose\", \"Cystitis\", \"Pneumonia\", \"Atopic dermatitis\"], \"textinfo\": \"none\", \"title\": {\"text\": \"2018\"}, \"type\": \"pie\", \"values\": [12, 11, 7, 6, 3, 3, 2, 2, 2, 2, 1, 1, 1, 1, 1, 1]}, {\"domain\": {\"x\": [0.0, 1.0], \"y\": [0.09338842975206611, 0.15950413223140497]}, \"labels\": [\"Hyperlipidemia\", \"Viral sinusitis (disorder)\", \"Otitis media\", \"Normal pregnancy\", \"Appendicitis\", \"Acute viral pharyngitis (disorder)\", \"Child attention deficit disorder\", \"Acute bronchitis (disorder)\", \"Concussion with no loss of consciousness\", \"Escherichia coli urinary tract infection\", \"Injury of tendon of the rotator cuff of shoulder\", \"Cystitis\", \"Asthma\", \"Fracture of rib\", \"Drug overdose\", \"Streptococcal sore throat (disorder)\", \"Childhood asthma\"], \"textinfo\": \"none\", \"title\": {\"text\": \"2019\"}, \"type\": \"pie\", \"values\": [9, 7, 5, 3, 2, 2, 2, 1, 1, 1, 1, 1, 1, 1, 1, 1, 1]}, {\"domain\": {\"x\": [0.0, 1.0], \"y\": [0.0, 0.06611570247933884]}, \"labels\": [\"Sinusitis (disorder)\", \"Normal pregnancy\", \"Acute viral pharyngitis (disorder)\", \"Perennial allergic rhinitis with seasonal variation\", \"Hyperlipidemia\", \"Childhood asthma\", \"Perennial allergic rhinitis\", \"Acute bronchitis (disorder)\", \"Fracture subluxation of wrist\"], \"textinfo\": \"none\", \"title\": {\"text\": \"2020\"}, \"type\": \"pie\", \"values\": [5, 4, 3, 2, 2, 2, 1, 1, 1]}, {\"domain\": {\"x\": [0.0, 1.0], \"y\": [0.9338842975206612, 1.0]}, \"labels\": [\"Hyperlipidemia\", \"Viral sinusitis (disorder)\", \"Sinusitis (disorder)\", \"Anemia (disorder)\", \"Streptococcal sore throat (disorder)\", \"Otitis media\", \"Normal pregnancy\", \"Fracture subluxation of wrist\", \"Acute viral pharyngitis (disorder)\", \"Drug overdose\", \"Fracture of rib\"], \"textinfo\": \"none\", \"title\": {\"text\": \"2010\"}, \"type\": \"pie\", \"values\": [7, 6, 3, 2, 2, 2, 1, 1, 1, 1, 1]}, {\"domain\": {\"x\": [0.0, 1.0], \"y\": [0.8404958677685951, 0.9066115702479339]}, \"labels\": [\"Chronic congestive heart failure (disorder)\", \"Normal pregnancy\", \"Hyperlipidemia\", \"Viral sinusitis (disorder)\", \"Otitis media\", \"Acute bronchitis (disorder)\", \"Acute viral pharyngitis (disorder)\", \"Fetus with unknown complication\", \"Drug overdose\", \"Fracture of rib\", \"Blighted ovum\", \"Escherichia coli urinary tract infection\", \"Childhood asthma\"], \"textinfo\": \"none\", \"title\": {\"text\": \"2011\"}, \"type\": \"pie\", \"values\": [57, 24, 8, 7, 3, 3, 1, 1, 1, 1, 1, 1, 1]}, {\"domain\": {\"x\": [0.0, 1.0], \"y\": [0.7471074380165289, 0.8132231404958677]}, \"labels\": [\"Chronic congestive heart failure (disorder)\", \"Normal pregnancy\", \"Viral sinusitis (disorder)\", \"Hyperlipidemia\", \"Acute bacterial sinusitis (disorder)\", \"Acute bronchitis (disorder)\", \"Streptococcal sore throat (disorder)\", \"Acute viral pharyngitis (disorder)\", \"Impacted molars\", \"Otitis media\", \"Alzheimer's disease (disorder)\", \"Fracture of ankle\", \"Chronic intractable migraine without aura\", \"Drug overdose\", \"Chronic pain\", \"Childhood asthma\"], \"textinfo\": \"none\", \"title\": {\"text\": \"2012\"}, \"type\": \"pie\", \"values\": [70, 15, 10, 8, 5, 4, 3, 2, 2, 2, 1, 1, 1, 1, 1, 1]}, {\"domain\": {\"x\": [0.0, 1.0], \"y\": [0.6537190082644628, 0.7198347107438017]}, \"labels\": [\"Normal pregnancy\", \"Child attention deficit disorder\", \"Hyperlipidemia\", \"Viral sinusitis (disorder)\", \"Acute viral pharyngitis (disorder)\", \"Chronic pain\", \"Acute bronchitis (disorder)\", \"Chronic congestive heart failure (disorder)\", \"Acute bacterial sinusitis (disorder)\", \"Otitis media\", \"Impacted molars\", \"Drug overdose\", \"Streptococcal sore throat (disorder)\", \"Anemia (disorder)\", \"Atopic dermatitis\", \"Concussion with no loss of consciousness\", \"Fetus with unknown complication\", \"Childhood asthma\"], \"textinfo\": \"none\", \"title\": {\"text\": \"2013\"}, \"type\": \"pie\", \"values\": [26, 9, 8, 5, 4, 3, 3, 2, 2, 2, 2, 2, 1, 1, 1, 1, 1, 1]}, {\"domain\": {\"x\": [0.0, 1.0], \"y\": [0.5603305785123966, 0.6264462809917355]}, \"labels\": [\"Normal pregnancy\", \"Child attention deficit disorder\", \"Hyperlipidemia\", \"Viral sinusitis (disorder)\", \"Streptococcal sore throat (disorder)\", \"Acute bronchitis (disorder)\", \"Acute viral pharyngitis (disorder)\", \"Drug overdose\", \"Impacted molars\", \"Childhood asthma\", \"Fracture subluxation of wrist\", \"Otitis media\", \"Sinusitis (disorder)\", \"Alzheimer's disease (disorder)\", \"Acute bacterial sinusitis (disorder)\", \"Chronic pain\"], \"textinfo\": \"none\", \"title\": {\"text\": \"2014\"}, \"type\": \"pie\", \"values\": [45, 12, 8, 4, 3, 3, 2, 2, 2, 2, 1, 1, 1, 1, 1, 1]}, {\"domain\": {\"x\": [0.0, 1.0], \"y\": [0.4669421487603306, 0.5330578512396694]}, \"labels\": [\"Normal pregnancy\", \"Child attention deficit disorder\", \"Hyperlipidemia\", \"Viral sinusitis (disorder)\", \"Acute bronchitis (disorder)\", \"Osteoarthritis of knee\", \"Drug overdose\", \"Chronic intractable migraine without aura\", \"Otitis media\", \"Chronic congestive heart failure (disorder)\", \"Acute bacterial sinusitis (disorder)\", \"Impacted molars\", \"Asthma\", \"Sinusitis (disorder)\", \"Anemia (disorder)\", \"Chronic pain\"], \"textinfo\": \"none\", \"title\": {\"text\": \"2015\"}, \"type\": \"pie\", \"values\": [14, 12, 9, 6, 5, 2, 2, 2, 2, 2, 1, 1, 1, 1, 1, 1]}, {\"domain\": {\"x\": [0.0, 1.0], \"y\": [0.37355371900826445, 0.4396694214876033]}, \"labels\": [\"Normal pregnancy\", \"Child attention deficit disorder\", \"Hyperlipidemia\", \"Viral sinusitis (disorder)\", \"Acute bronchitis (disorder)\", \"Chronic congestive heart failure (disorder)\", \"Chronic pain\", \"Injury of medial collateral ligament of knee\", \"Streptococcal sore throat (disorder)\", \"Acute viral pharyngitis (disorder)\", \"Drug overdose\", \"Anemia (disorder)\", \"Blighted ovum\", \"Fracture of forearm\", \"Otitis media\", \"Acute bacterial sinusitis (disorder)\"], \"textinfo\": \"none\", \"title\": {\"text\": \"2016\"}, \"type\": \"pie\", \"values\": [21, 11, 9, 3, 3, 2, 2, 1, 1, 1, 1, 1, 1, 1, 1, 1]}, {\"domain\": {\"x\": [0.0, 1.0], \"y\": [0.2801652892561983, 0.34628099173553717]}, \"labels\": [\"Normal pregnancy\", \"Child attention deficit disorder\", \"Hyperlipidemia\", \"Viral sinusitis (disorder)\", \"Acute viral pharyngitis (disorder)\", \"Acute bronchitis (disorder)\", \"Drug overdose\", \"Suspected lung cancer (situation)\", \"Non-small cell lung cancer (disorder)\", \"Non-small cell carcinoma of lung  TNM stage 1 (disorder)\", \"Perennial allergic rhinitis with seasonal variation\", \"Cystitis\", \"Alzheimer's disease (disorder)\", \"Childhood asthma\"], \"textinfo\": \"none\", \"title\": {\"text\": \"2017\"}, \"type\": \"pie\", \"values\": [29, 12, 10, 9, 7, 3, 2, 2, 1, 1, 1, 1, 1, 1]}, {\"domain\": {\"x\": [0.0, 1.0], \"y\": [0.18677685950413223, 0.2528925619834711]}, \"labels\": [\"Child attention deficit disorder\", \"Hyperlipidemia\", \"Viral sinusitis (disorder)\", \"Acute bacterial sinusitis (disorder)\", \"Normal pregnancy\", \"Acute bronchitis (disorder)\", \"Acute viral pharyngitis (disorder)\", \"Otitis media\", \"Injury of tendon of the rotator cuff of shoulder\", \"Childhood asthma\", \"Streptococcal sore throat (disorder)\", \"Fracture of clavicle\", \"Drug overdose\", \"Cystitis\", \"Pneumonia\", \"Atopic dermatitis\"], \"textinfo\": \"none\", \"title\": {\"text\": \"2018\"}, \"type\": \"pie\", \"values\": [12, 11, 7, 6, 3, 3, 2, 2, 2, 2, 1, 1, 1, 1, 1, 1]}, {\"domain\": {\"x\": [0.0, 1.0], \"y\": [0.09338842975206611, 0.15950413223140497]}, \"labels\": [\"Hyperlipidemia\", \"Viral sinusitis (disorder)\", \"Otitis media\", \"Normal pregnancy\", \"Appendicitis\", \"Acute viral pharyngitis (disorder)\", \"Child attention deficit disorder\", \"Acute bronchitis (disorder)\", \"Concussion with no loss of consciousness\", \"Escherichia coli urinary tract infection\", \"Injury of tendon of the rotator cuff of shoulder\", \"Cystitis\", \"Asthma\", \"Fracture of rib\", \"Drug overdose\", \"Streptococcal sore throat (disorder)\", \"Childhood asthma\"], \"textinfo\": \"none\", \"title\": {\"text\": \"2019\"}, \"type\": \"pie\", \"values\": [9, 7, 5, 3, 2, 2, 2, 1, 1, 1, 1, 1, 1, 1, 1, 1, 1]}, {\"domain\": {\"x\": [0.0, 1.0], \"y\": [0.0, 0.06611570247933884]}, \"labels\": [\"Sinusitis (disorder)\", \"Normal pregnancy\", \"Acute viral pharyngitis (disorder)\", \"Perennial allergic rhinitis with seasonal variation\", \"Hyperlipidemia\", \"Childhood asthma\", \"Perennial allergic rhinitis\", \"Acute bronchitis (disorder)\", \"Fracture subluxation of wrist\"], \"textinfo\": \"none\", \"title\": {\"text\": \"2020\"}, \"type\": \"pie\", \"values\": [5, 4, 3, 2, 2, 2, 1, 1, 1]}],\n",
       "                        {\"height\": 4000, \"template\": {\"data\": {\"bar\": [{\"error_x\": {\"color\": \"#2a3f5f\"}, \"error_y\": {\"color\": \"#2a3f5f\"}, \"marker\": {\"line\": {\"color\": \"#E5ECF6\", \"width\": 0.5}}, \"type\": \"bar\"}], \"barpolar\": [{\"marker\": {\"line\": {\"color\": \"#E5ECF6\", \"width\": 0.5}}, \"type\": \"barpolar\"}], \"carpet\": [{\"aaxis\": {\"endlinecolor\": \"#2a3f5f\", \"gridcolor\": \"white\", \"linecolor\": \"white\", \"minorgridcolor\": \"white\", \"startlinecolor\": \"#2a3f5f\"}, \"baxis\": {\"endlinecolor\": \"#2a3f5f\", \"gridcolor\": \"white\", \"linecolor\": \"white\", \"minorgridcolor\": \"white\", \"startlinecolor\": \"#2a3f5f\"}, \"type\": \"carpet\"}], \"choropleth\": [{\"colorbar\": {\"outlinewidth\": 0, \"ticks\": \"\"}, \"type\": \"choropleth\"}], \"contour\": [{\"colorbar\": {\"outlinewidth\": 0, \"ticks\": \"\"}, \"colorscale\": [[0.0, \"#0d0887\"], [0.1111111111111111, \"#46039f\"], [0.2222222222222222, \"#7201a8\"], [0.3333333333333333, \"#9c179e\"], [0.4444444444444444, \"#bd3786\"], [0.5555555555555556, \"#d8576b\"], [0.6666666666666666, \"#ed7953\"], [0.7777777777777778, \"#fb9f3a\"], [0.8888888888888888, \"#fdca26\"], [1.0, \"#f0f921\"]], \"type\": \"contour\"}], \"contourcarpet\": [{\"colorbar\": {\"outlinewidth\": 0, \"ticks\": \"\"}, \"type\": \"contourcarpet\"}], \"heatmap\": [{\"colorbar\": {\"outlinewidth\": 0, \"ticks\": \"\"}, \"colorscale\": [[0.0, \"#0d0887\"], [0.1111111111111111, \"#46039f\"], [0.2222222222222222, \"#7201a8\"], [0.3333333333333333, \"#9c179e\"], [0.4444444444444444, \"#bd3786\"], [0.5555555555555556, \"#d8576b\"], [0.6666666666666666, \"#ed7953\"], [0.7777777777777778, \"#fb9f3a\"], [0.8888888888888888, \"#fdca26\"], [1.0, \"#f0f921\"]], \"type\": \"heatmap\"}], \"heatmapgl\": [{\"colorbar\": {\"outlinewidth\": 0, \"ticks\": \"\"}, \"colorscale\": [[0.0, \"#0d0887\"], [0.1111111111111111, \"#46039f\"], [0.2222222222222222, \"#7201a8\"], [0.3333333333333333, \"#9c179e\"], [0.4444444444444444, \"#bd3786\"], [0.5555555555555556, \"#d8576b\"], [0.6666666666666666, \"#ed7953\"], [0.7777777777777778, \"#fb9f3a\"], [0.8888888888888888, \"#fdca26\"], [1.0, \"#f0f921\"]], \"type\": \"heatmapgl\"}], \"histogram\": [{\"marker\": {\"colorbar\": {\"outlinewidth\": 0, \"ticks\": \"\"}}, \"type\": \"histogram\"}], \"histogram2d\": [{\"colorbar\": {\"outlinewidth\": 0, \"ticks\": \"\"}, \"colorscale\": [[0.0, \"#0d0887\"], [0.1111111111111111, \"#46039f\"], [0.2222222222222222, \"#7201a8\"], [0.3333333333333333, \"#9c179e\"], [0.4444444444444444, \"#bd3786\"], [0.5555555555555556, \"#d8576b\"], [0.6666666666666666, \"#ed7953\"], [0.7777777777777778, \"#fb9f3a\"], [0.8888888888888888, \"#fdca26\"], [1.0, \"#f0f921\"]], \"type\": \"histogram2d\"}], \"histogram2dcontour\": [{\"colorbar\": {\"outlinewidth\": 0, \"ticks\": \"\"}, \"colorscale\": [[0.0, \"#0d0887\"], [0.1111111111111111, \"#46039f\"], [0.2222222222222222, \"#7201a8\"], [0.3333333333333333, \"#9c179e\"], [0.4444444444444444, \"#bd3786\"], [0.5555555555555556, \"#d8576b\"], [0.6666666666666666, \"#ed7953\"], [0.7777777777777778, \"#fb9f3a\"], [0.8888888888888888, \"#fdca26\"], [1.0, \"#f0f921\"]], \"type\": \"histogram2dcontour\"}], \"mesh3d\": [{\"colorbar\": {\"outlinewidth\": 0, \"ticks\": \"\"}, \"type\": \"mesh3d\"}], \"parcoords\": [{\"line\": {\"colorbar\": {\"outlinewidth\": 0, \"ticks\": \"\"}}, \"type\": \"parcoords\"}], \"pie\": [{\"automargin\": true, \"type\": \"pie\"}], \"scatter\": [{\"marker\": {\"colorbar\": {\"outlinewidth\": 0, \"ticks\": \"\"}}, \"type\": \"scatter\"}], \"scatter3d\": [{\"line\": {\"colorbar\": {\"outlinewidth\": 0, \"ticks\": \"\"}}, \"marker\": {\"colorbar\": {\"outlinewidth\": 0, \"ticks\": \"\"}}, \"type\": \"scatter3d\"}], \"scattercarpet\": [{\"marker\": {\"colorbar\": {\"outlinewidth\": 0, \"ticks\": \"\"}}, \"type\": \"scattercarpet\"}], \"scattergeo\": [{\"marker\": {\"colorbar\": {\"outlinewidth\": 0, \"ticks\": \"\"}}, \"type\": \"scattergeo\"}], \"scattergl\": [{\"marker\": {\"colorbar\": {\"outlinewidth\": 0, \"ticks\": \"\"}}, \"type\": \"scattergl\"}], \"scattermapbox\": [{\"marker\": {\"colorbar\": {\"outlinewidth\": 0, \"ticks\": \"\"}}, \"type\": \"scattermapbox\"}], \"scatterpolar\": [{\"marker\": {\"colorbar\": {\"outlinewidth\": 0, \"ticks\": \"\"}}, \"type\": \"scatterpolar\"}], \"scatterpolargl\": [{\"marker\": {\"colorbar\": {\"outlinewidth\": 0, \"ticks\": \"\"}}, \"type\": \"scatterpolargl\"}], \"scatterternary\": [{\"marker\": {\"colorbar\": {\"outlinewidth\": 0, \"ticks\": \"\"}}, \"type\": \"scatterternary\"}], \"surface\": [{\"colorbar\": {\"outlinewidth\": 0, \"ticks\": \"\"}, \"colorscale\": [[0.0, \"#0d0887\"], [0.1111111111111111, \"#46039f\"], [0.2222222222222222, \"#7201a8\"], [0.3333333333333333, \"#9c179e\"], [0.4444444444444444, \"#bd3786\"], [0.5555555555555556, \"#d8576b\"], [0.6666666666666666, \"#ed7953\"], [0.7777777777777778, \"#fb9f3a\"], [0.8888888888888888, \"#fdca26\"], [1.0, \"#f0f921\"]], \"type\": \"surface\"}], \"table\": [{\"cells\": {\"fill\": {\"color\": \"#EBF0F8\"}, \"line\": {\"color\": \"white\"}}, \"header\": {\"fill\": {\"color\": \"#C8D4E3\"}, \"line\": {\"color\": \"white\"}}, \"type\": \"table\"}]}, \"layout\": {\"annotationdefaults\": {\"arrowcolor\": \"#2a3f5f\", \"arrowhead\": 0, \"arrowwidth\": 1}, \"coloraxis\": {\"colorbar\": {\"outlinewidth\": 0, \"ticks\": \"\"}}, \"colorscale\": {\"diverging\": [[0, \"#8e0152\"], [0.1, \"#c51b7d\"], [0.2, \"#de77ae\"], [0.3, \"#f1b6da\"], [0.4, \"#fde0ef\"], [0.5, \"#f7f7f7\"], [0.6, \"#e6f5d0\"], [0.7, \"#b8e186\"], [0.8, \"#7fbc41\"], [0.9, \"#4d9221\"], [1, \"#276419\"]], \"sequential\": [[0.0, \"#0d0887\"], [0.1111111111111111, \"#46039f\"], [0.2222222222222222, \"#7201a8\"], [0.3333333333333333, \"#9c179e\"], [0.4444444444444444, \"#bd3786\"], [0.5555555555555556, \"#d8576b\"], [0.6666666666666666, \"#ed7953\"], [0.7777777777777778, \"#fb9f3a\"], [0.8888888888888888, \"#fdca26\"], [1.0, \"#f0f921\"]], \"sequentialminus\": [[0.0, \"#0d0887\"], [0.1111111111111111, \"#46039f\"], [0.2222222222222222, \"#7201a8\"], [0.3333333333333333, \"#9c179e\"], [0.4444444444444444, \"#bd3786\"], [0.5555555555555556, \"#d8576b\"], [0.6666666666666666, \"#ed7953\"], [0.7777777777777778, \"#fb9f3a\"], [0.8888888888888888, \"#fdca26\"], [1.0, \"#f0f921\"]]}, \"colorway\": [\"#636efa\", \"#EF553B\", \"#00cc96\", \"#ab63fa\", \"#FFA15A\", \"#19d3f3\", \"#FF6692\", \"#B6E880\", \"#FF97FF\", \"#FECB52\"], \"font\": {\"color\": \"#2a3f5f\"}, \"geo\": {\"bgcolor\": \"white\", \"lakecolor\": \"white\", \"landcolor\": \"#E5ECF6\", \"showlakes\": true, \"showland\": true, \"subunitcolor\": \"white\"}, \"hoverlabel\": {\"align\": \"left\"}, \"hovermode\": \"closest\", \"mapbox\": {\"style\": \"light\"}, \"paper_bgcolor\": \"white\", \"plot_bgcolor\": \"#E5ECF6\", \"polar\": {\"angularaxis\": {\"gridcolor\": \"white\", \"linecolor\": \"white\", \"ticks\": \"\"}, \"bgcolor\": \"#E5ECF6\", \"radialaxis\": {\"gridcolor\": \"white\", \"linecolor\": \"white\", \"ticks\": \"\"}}, \"scene\": {\"xaxis\": {\"backgroundcolor\": \"#E5ECF6\", \"gridcolor\": \"white\", \"gridwidth\": 2, \"linecolor\": \"white\", \"showbackground\": true, \"ticks\": \"\", \"zerolinecolor\": \"white\"}, \"yaxis\": {\"backgroundcolor\": \"#E5ECF6\", \"gridcolor\": \"white\", \"gridwidth\": 2, \"linecolor\": \"white\", \"showbackground\": true, \"ticks\": \"\", \"zerolinecolor\": \"white\"}, \"zaxis\": {\"backgroundcolor\": \"#E5ECF6\", \"gridcolor\": \"white\", \"gridwidth\": 2, \"linecolor\": \"white\", \"showbackground\": true, \"ticks\": \"\", \"zerolinecolor\": \"white\"}}, \"shapedefaults\": {\"line\": {\"color\": \"#2a3f5f\"}}, \"ternary\": {\"aaxis\": {\"gridcolor\": \"white\", \"linecolor\": \"white\", \"ticks\": \"\"}, \"baxis\": {\"gridcolor\": \"white\", \"linecolor\": \"white\", \"ticks\": \"\"}, \"bgcolor\": \"#E5ECF6\", \"caxis\": {\"gridcolor\": \"white\", \"linecolor\": \"white\", \"ticks\": \"\"}}, \"title\": {\"x\": 0.05}, \"xaxis\": {\"automargin\": true, \"gridcolor\": \"white\", \"linecolor\": \"white\", \"ticks\": \"\", \"title\": {\"standoff\": 15}, \"zerolinecolor\": \"white\", \"zerolinewidth\": 2}, \"yaxis\": {\"automargin\": true, \"gridcolor\": \"white\", \"linecolor\": \"white\", \"ticks\": \"\", \"title\": {\"standoff\": 15}, \"zerolinecolor\": \"white\", \"zerolinewidth\": 2}}}, \"width\": 1000},\n",
       "                        {\"responsive\": true}\n",
       "                    ).then(function(){\n",
       "                            \n",
       "var gd = document.getElementById('6f642253-a342-4068-bf43-0fb5b04f2ab9');\n",
       "var x = new MutationObserver(function (mutations, observer) {{\n",
       "        var display = window.getComputedStyle(gd).display;\n",
       "        if (!display || display === 'none') {{\n",
       "            console.log([gd, 'removed!']);\n",
       "            Plotly.purge(gd);\n",
       "            observer.disconnect();\n",
       "        }}\n",
       "}});\n",
       "\n",
       "// Listen for the removal of the full notebook cells\n",
       "var notebookContainer = gd.closest('#notebook-container');\n",
       "if (notebookContainer) {{\n",
       "    x.observe(notebookContainer, {childList: true});\n",
       "}}\n",
       "\n",
       "// Listen for the clearing of the current output cell\n",
       "var outputEl = gd.closest('.output');\n",
       "if (outputEl) {{\n",
       "    x.observe(outputEl, {childList: true});\n",
       "}}\n",
       "\n",
       "                        })\n",
       "                };\n",
       "                });\n",
       "            </script>\n",
       "        </div>"
      ]
     },
     "metadata": {},
     "output_type": "display_data"
    }
   ],
   "source": [
    "\n",
    "row=1\n",
    "for year,group in df.groupby([\"YEAR\"]):\n",
    "    counts=group[\"REASON\"].value_counts()\n",
    "    fig.append_trace(go.Pie(title=year,labels=counts.index,values=counts.values,textinfo=\"none\"),row=row,col=1)\n",
    "    row+=1\n",
    "fig.update_layout(height=4000, width=1000)\n",
    "fig.show()"
   ]
  },
  {
   "cell_type": "code",
   "execution_count": 190,
   "metadata": {},
   "outputs": [
    {
     "data": {
      "application/vnd.plotly.v1+json": {
       "config": {
        "plotlyServerURL": "https://plot.ly"
       },
       "data": [
        {
         "name": "2010",
         "type": "histogram",
         "x": [
          37,
          64,
          64,
          16,
          13,
          13,
          93,
          93,
          93,
          93,
          93,
          93,
          93,
          93,
          93,
          93,
          93,
          93,
          21,
          21,
          31,
          31,
          31,
          52,
          70,
          31,
          49,
          49,
          47,
          47,
          70,
          11,
          11,
          11,
          45,
          36,
          66,
          66,
          66,
          66,
          33,
          33,
          33,
          33,
          33,
          51,
          51,
          51,
          74,
          72,
          55,
          43,
          43,
          43,
          54,
          12,
          12,
          12,
          12,
          15,
          54,
          54,
          12
         ],
         "xaxis": "x",
         "yaxis": "y"
        },
        {
         "name": "2011",
         "type": "histogram",
         "x": [
          37,
          37,
          37,
          37,
          37,
          37,
          37,
          37,
          37,
          33,
          33,
          14,
          64,
          13,
          13,
          73,
          93,
          93,
          93,
          93,
          93,
          44,
          31,
          31,
          31,
          31,
          31,
          70,
          31,
          49,
          49,
          49,
          39,
          39,
          39,
          39,
          39,
          70,
          70,
          70,
          70,
          70,
          70,
          70,
          70,
          70,
          70,
          70,
          70,
          70,
          70,
          70,
          70,
          70,
          70,
          70,
          70,
          70,
          70,
          70,
          70,
          70,
          70,
          70,
          70,
          70,
          70,
          70,
          70,
          70,
          70,
          70,
          70,
          70,
          70,
          70,
          70,
          70,
          70,
          70,
          70,
          70,
          70,
          70,
          70,
          70,
          70,
          70,
          70,
          70,
          70,
          70,
          70,
          70,
          46,
          46,
          46,
          46,
          46,
          46,
          46,
          45,
          45,
          45,
          64,
          36,
          36,
          36,
          36,
          66,
          66,
          66,
          66,
          66,
          66,
          33,
          33,
          33,
          33,
          33,
          33,
          33,
          33,
          51,
          51,
          51,
          51,
          51,
          51,
          46,
          46,
          46,
          46,
          46,
          46,
          46,
          46,
          46,
          74,
          74,
          72,
          55,
          55,
          55,
          55,
          55,
          47,
          58,
          12,
          12,
          12,
          12,
          15,
          47,
          54,
          12,
          12
         ],
         "xaxis": "x2",
         "yaxis": "y2"
        },
        {
         "name": "2012",
         "type": "histogram",
         "x": [
          37,
          37,
          37,
          37,
          33,
          33,
          23,
          23,
          23,
          23,
          64,
          34,
          16,
          16,
          73,
          73,
          93,
          93,
          93,
          93,
          93,
          93,
          93,
          93,
          93,
          93,
          93,
          31,
          31,
          31,
          31,
          31,
          70,
          31,
          31,
          49,
          39,
          39,
          39,
          39,
          39,
          39,
          39,
          39,
          39,
          39,
          39,
          39,
          39,
          39,
          39,
          39,
          39,
          39,
          39,
          25,
          47,
          70,
          70,
          70,
          70,
          70,
          70,
          70,
          70,
          70,
          70,
          70,
          70,
          70,
          70,
          70,
          70,
          70,
          70,
          70,
          70,
          70,
          70,
          70,
          70,
          70,
          70,
          70,
          70,
          70,
          70,
          70,
          70,
          70,
          70,
          70,
          70,
          70,
          70,
          70,
          70,
          70,
          70,
          70,
          70,
          70,
          70,
          70,
          70,
          70,
          70,
          70,
          70,
          70,
          70,
          70,
          70,
          70,
          70,
          70,
          70,
          70,
          70,
          70,
          70,
          70,
          70,
          70,
          70,
          70,
          70,
          17,
          17,
          17,
          46,
          46,
          46,
          46,
          36,
          36,
          36,
          36,
          36,
          36,
          36,
          36,
          36,
          36,
          36,
          66,
          66,
          66,
          66,
          66,
          48,
          66,
          66,
          66,
          33,
          33,
          33,
          33,
          33,
          51,
          51,
          51,
          51,
          51,
          46,
          46,
          46,
          46,
          74,
          72,
          72,
          55,
          55,
          47,
          47,
          58,
          12,
          12,
          12,
          12
         ],
         "xaxis": "x3",
         "yaxis": "y3"
        },
        {
         "name": "2013",
         "type": "histogram",
         "x": [
          37,
          50,
          7,
          23,
          23,
          23,
          23,
          23,
          23,
          64,
          16,
          13,
          26,
          93,
          93,
          93,
          93,
          93,
          93,
          93,
          93,
          93,
          93,
          93,
          93,
          21,
          31,
          31,
          31,
          31,
          31,
          31,
          31,
          31,
          31,
          31,
          31,
          49,
          49,
          49,
          49,
          49,
          49,
          49,
          49,
          49,
          49,
          49,
          49,
          39,
          39,
          25,
          25,
          25,
          33,
          70,
          70,
          70,
          70,
          46,
          46,
          46,
          46,
          46,
          46,
          36,
          66,
          66,
          66,
          66,
          66,
          66,
          66,
          33,
          33,
          33,
          33,
          33,
          33,
          33,
          33,
          33,
          33,
          33,
          51,
          51,
          51,
          51,
          51,
          51,
          8,
          8,
          74,
          72,
          72,
          72,
          55,
          47,
          47,
          47,
          47,
          47,
          47,
          47,
          47,
          47,
          47,
          47,
          47,
          54,
          58,
          12,
          15,
          15,
          15,
          15,
          15,
          15,
          15,
          15,
          15,
          12,
          12,
          12,
          12
         ],
         "xaxis": "x4",
         "yaxis": "y4"
        },
        {
         "name": "2014",
         "type": "histogram",
         "x": [
          37,
          37,
          37,
          37,
          37,
          37,
          37,
          37,
          37,
          37,
          37,
          37,
          37,
          37,
          37,
          37,
          61,
          7,
          7,
          7,
          23,
          23,
          23,
          64,
          16,
          16,
          16,
          26,
          93,
          93,
          93,
          93,
          93,
          93,
          93,
          93,
          93,
          28,
          44,
          44,
          31,
          31,
          31,
          31,
          31,
          31,
          31,
          31,
          31,
          31,
          31,
          31,
          52,
          31,
          31,
          31,
          31,
          31,
          31,
          31,
          31,
          49,
          49,
          49,
          39,
          39,
          39,
          39,
          39,
          39,
          39,
          39,
          39,
          39,
          39,
          39,
          33,
          46,
          64,
          36,
          36,
          36,
          36,
          36,
          36,
          36,
          36,
          36,
          36,
          36,
          66,
          66,
          66,
          66,
          66,
          66,
          66,
          66,
          33,
          33,
          33,
          33,
          33,
          33,
          33,
          51,
          51,
          46,
          8,
          8,
          74,
          72,
          72,
          55,
          55,
          55,
          47,
          43,
          43,
          54,
          12,
          12,
          15,
          15,
          15,
          15,
          15,
          15,
          15,
          15,
          15,
          15,
          15,
          15,
          54,
          22
         ],
         "xaxis": "x5",
         "yaxis": "y5"
        },
        {
         "name": "2015",
         "type": "histogram",
         "x": [
          37,
          37,
          50,
          50,
          50,
          23,
          23,
          23,
          23,
          14,
          64,
          64,
          13,
          73,
          73,
          93,
          93,
          93,
          93,
          93,
          93,
          44,
          31,
          31,
          52,
          49,
          49,
          39,
          39,
          39,
          39,
          39,
          39,
          39,
          39,
          47,
          47,
          47,
          47,
          70,
          70,
          17,
          17,
          11,
          45,
          45,
          64,
          36,
          36,
          36,
          36,
          36,
          36,
          36,
          36,
          36,
          36,
          66,
          66,
          66,
          66,
          33,
          33,
          33,
          33,
          33,
          33,
          33,
          33,
          33,
          33,
          33,
          33,
          51,
          46,
          46,
          8,
          8,
          74,
          72,
          72,
          55,
          55,
          55,
          47,
          47,
          47,
          47,
          47,
          12,
          15,
          15,
          15,
          15,
          15,
          15,
          15,
          15,
          15,
          15,
          15,
          15,
          15,
          35
         ],
         "xaxis": "x6",
         "yaxis": "y6"
        },
        {
         "name": "2016",
         "type": "histogram",
         "x": [
          37,
          37,
          37,
          37,
          50,
          23,
          23,
          23,
          23,
          23,
          23,
          64,
          13,
          73,
          73,
          93,
          93,
          93,
          93,
          93,
          21,
          44,
          31,
          31,
          31,
          31,
          31,
          31,
          31,
          31,
          31,
          52,
          70,
          70,
          70,
          49,
          39,
          39,
          39,
          39,
          39,
          39,
          39,
          47,
          47,
          17,
          17,
          46,
          46,
          46,
          46,
          46,
          46,
          46,
          46,
          46,
          45,
          64,
          36,
          66,
          66,
          66,
          66,
          66,
          66,
          66,
          33,
          33,
          33,
          33,
          33,
          33,
          33,
          33,
          46,
          46,
          46,
          46,
          46,
          46,
          46,
          46,
          46,
          46,
          46,
          46,
          74,
          74,
          74,
          74,
          72,
          55,
          47,
          47,
          47,
          47,
          47,
          54,
          54,
          54,
          54,
          54,
          15,
          15,
          15,
          15,
          15,
          15,
          15,
          15,
          15,
          15,
          15,
          54
         ],
         "xaxis": "x7",
         "yaxis": "y7"
        },
        {
         "name": "2017",
         "type": "histogram",
         "x": [
          37,
          37,
          37,
          37,
          37,
          37,
          37,
          37,
          37,
          37,
          37,
          50,
          33,
          7,
          7,
          23,
          23,
          23,
          23,
          23,
          23,
          23,
          14,
          64,
          64,
          34,
          16,
          16,
          16,
          16,
          16,
          16,
          16,
          16,
          16,
          16,
          16,
          16,
          16,
          16,
          16,
          16,
          16,
          16,
          93,
          93,
          93,
          93,
          93,
          93,
          93,
          93,
          93,
          31,
          70,
          31,
          39,
          39,
          39,
          39,
          39,
          39,
          39,
          39,
          39,
          39,
          39,
          39,
          39,
          39,
          39,
          39,
          25,
          47,
          47,
          47,
          47,
          47,
          47,
          47,
          47,
          47,
          47,
          47,
          47,
          47,
          47,
          47,
          70,
          70,
          46,
          46,
          46,
          46,
          11,
          11,
          11,
          11,
          36,
          66,
          66,
          66,
          66,
          66,
          66,
          33,
          33,
          33,
          33,
          33,
          46,
          46,
          8,
          74,
          72,
          55,
          55,
          55,
          55,
          55,
          55,
          55,
          55,
          55,
          55,
          55,
          47,
          47,
          47,
          47,
          47,
          54,
          58,
          12,
          12,
          15,
          15,
          15,
          15,
          15,
          15,
          15,
          15,
          15,
          15,
          15,
          15,
          15,
          47,
          47,
          47,
          47,
          35
         ],
         "xaxis": "x8",
         "yaxis": "y8"
        },
        {
         "name": "2018",
         "type": "histogram",
         "x": [
          37,
          37,
          37,
          37,
          3,
          3,
          50,
          14,
          14,
          64,
          34,
          34,
          34,
          16,
          16,
          16,
          16,
          16,
          16,
          16,
          16,
          16,
          16,
          16,
          16,
          16,
          16,
          16,
          16,
          16,
          16,
          93,
          93,
          93,
          31,
          3,
          3,
          3,
          52,
          52,
          52,
          52,
          52,
          52,
          52,
          52,
          31,
          31,
          31,
          39,
          39,
          39,
          39,
          39,
          39,
          39,
          39,
          39,
          25,
          47,
          47,
          47,
          47,
          33,
          17,
          17,
          46,
          46,
          64,
          36,
          36,
          66,
          66,
          66,
          66,
          66,
          66,
          66,
          33,
          4,
          4,
          46,
          46,
          8,
          8,
          74,
          72,
          55,
          55,
          55,
          55,
          55,
          55,
          55,
          55,
          55,
          55,
          55,
          55,
          55,
          47,
          47,
          47,
          47,
          47,
          47,
          47,
          58,
          58,
          12,
          12,
          15,
          15,
          15,
          15,
          15,
          15,
          15,
          15,
          15,
          15,
          15,
          15,
          35,
          22,
          12
         ],
         "xaxis": "x9",
         "yaxis": "y9"
        },
        {
         "name": "2019",
         "type": "histogram",
         "x": [
          37,
          37,
          37,
          37,
          37,
          3,
          50,
          50,
          61,
          7,
          7,
          64,
          16,
          16,
          16,
          16,
          16,
          16,
          16,
          16,
          16,
          16,
          16,
          16,
          16,
          16,
          16,
          16,
          16,
          26,
          93,
          93,
          93,
          3,
          3,
          52,
          70,
          31,
          49,
          49,
          49,
          39,
          39,
          39,
          39,
          39,
          39,
          39,
          39,
          39,
          39,
          47,
          47,
          47,
          47,
          47,
          47,
          2,
          3,
          3,
          3,
          33,
          33,
          70,
          70,
          17,
          46,
          46,
          11,
          11,
          11,
          11,
          36,
          36,
          36,
          66,
          66,
          66,
          33,
          33,
          33,
          33,
          33,
          51,
          4,
          4,
          46,
          8,
          74,
          72,
          72,
          72,
          55,
          55,
          55,
          55,
          55,
          55,
          55,
          55,
          55,
          55,
          55,
          55,
          55,
          47,
          47,
          47,
          47,
          47,
          47,
          47,
          47,
          58,
          58,
          12,
          15,
          15,
          54
         ],
         "xaxis": "x10",
         "yaxis": "y10"
        },
        {
         "name": "2020",
         "type": "histogram",
         "x": [
          37,
          3,
          3,
          7,
          14,
          16,
          16,
          16,
          16,
          16,
          16,
          16,
          93,
          3,
          52,
          39,
          39,
          39,
          47,
          47,
          47,
          47,
          47,
          47,
          47,
          3,
          3,
          3,
          70,
          17,
          46,
          46,
          46,
          36,
          36,
          36,
          36,
          33,
          33,
          51,
          46,
          8,
          8,
          55,
          55,
          55,
          47
         ],
         "xaxis": "x11",
         "yaxis": "y11"
        }
       ],
       "layout": {
        "height": 2000,
        "template": {
         "data": {
          "bar": [
           {
            "error_x": {
             "color": "#2a3f5f"
            },
            "error_y": {
             "color": "#2a3f5f"
            },
            "marker": {
             "line": {
              "color": "#E5ECF6",
              "width": 0.5
             }
            },
            "type": "bar"
           }
          ],
          "barpolar": [
           {
            "marker": {
             "line": {
              "color": "#E5ECF6",
              "width": 0.5
             }
            },
            "type": "barpolar"
           }
          ],
          "carpet": [
           {
            "aaxis": {
             "endlinecolor": "#2a3f5f",
             "gridcolor": "white",
             "linecolor": "white",
             "minorgridcolor": "white",
             "startlinecolor": "#2a3f5f"
            },
            "baxis": {
             "endlinecolor": "#2a3f5f",
             "gridcolor": "white",
             "linecolor": "white",
             "minorgridcolor": "white",
             "startlinecolor": "#2a3f5f"
            },
            "type": "carpet"
           }
          ],
          "choropleth": [
           {
            "colorbar": {
             "outlinewidth": 0,
             "ticks": ""
            },
            "type": "choropleth"
           }
          ],
          "contour": [
           {
            "colorbar": {
             "outlinewidth": 0,
             "ticks": ""
            },
            "colorscale": [
             [
              0,
              "#0d0887"
             ],
             [
              0.1111111111111111,
              "#46039f"
             ],
             [
              0.2222222222222222,
              "#7201a8"
             ],
             [
              0.3333333333333333,
              "#9c179e"
             ],
             [
              0.4444444444444444,
              "#bd3786"
             ],
             [
              0.5555555555555556,
              "#d8576b"
             ],
             [
              0.6666666666666666,
              "#ed7953"
             ],
             [
              0.7777777777777778,
              "#fb9f3a"
             ],
             [
              0.8888888888888888,
              "#fdca26"
             ],
             [
              1,
              "#f0f921"
             ]
            ],
            "type": "contour"
           }
          ],
          "contourcarpet": [
           {
            "colorbar": {
             "outlinewidth": 0,
             "ticks": ""
            },
            "type": "contourcarpet"
           }
          ],
          "heatmap": [
           {
            "colorbar": {
             "outlinewidth": 0,
             "ticks": ""
            },
            "colorscale": [
             [
              0,
              "#0d0887"
             ],
             [
              0.1111111111111111,
              "#46039f"
             ],
             [
              0.2222222222222222,
              "#7201a8"
             ],
             [
              0.3333333333333333,
              "#9c179e"
             ],
             [
              0.4444444444444444,
              "#bd3786"
             ],
             [
              0.5555555555555556,
              "#d8576b"
             ],
             [
              0.6666666666666666,
              "#ed7953"
             ],
             [
              0.7777777777777778,
              "#fb9f3a"
             ],
             [
              0.8888888888888888,
              "#fdca26"
             ],
             [
              1,
              "#f0f921"
             ]
            ],
            "type": "heatmap"
           }
          ],
          "heatmapgl": [
           {
            "colorbar": {
             "outlinewidth": 0,
             "ticks": ""
            },
            "colorscale": [
             [
              0,
              "#0d0887"
             ],
             [
              0.1111111111111111,
              "#46039f"
             ],
             [
              0.2222222222222222,
              "#7201a8"
             ],
             [
              0.3333333333333333,
              "#9c179e"
             ],
             [
              0.4444444444444444,
              "#bd3786"
             ],
             [
              0.5555555555555556,
              "#d8576b"
             ],
             [
              0.6666666666666666,
              "#ed7953"
             ],
             [
              0.7777777777777778,
              "#fb9f3a"
             ],
             [
              0.8888888888888888,
              "#fdca26"
             ],
             [
              1,
              "#f0f921"
             ]
            ],
            "type": "heatmapgl"
           }
          ],
          "histogram": [
           {
            "marker": {
             "colorbar": {
              "outlinewidth": 0,
              "ticks": ""
             }
            },
            "type": "histogram"
           }
          ],
          "histogram2d": [
           {
            "colorbar": {
             "outlinewidth": 0,
             "ticks": ""
            },
            "colorscale": [
             [
              0,
              "#0d0887"
             ],
             [
              0.1111111111111111,
              "#46039f"
             ],
             [
              0.2222222222222222,
              "#7201a8"
             ],
             [
              0.3333333333333333,
              "#9c179e"
             ],
             [
              0.4444444444444444,
              "#bd3786"
             ],
             [
              0.5555555555555556,
              "#d8576b"
             ],
             [
              0.6666666666666666,
              "#ed7953"
             ],
             [
              0.7777777777777778,
              "#fb9f3a"
             ],
             [
              0.8888888888888888,
              "#fdca26"
             ],
             [
              1,
              "#f0f921"
             ]
            ],
            "type": "histogram2d"
           }
          ],
          "histogram2dcontour": [
           {
            "colorbar": {
             "outlinewidth": 0,
             "ticks": ""
            },
            "colorscale": [
             [
              0,
              "#0d0887"
             ],
             [
              0.1111111111111111,
              "#46039f"
             ],
             [
              0.2222222222222222,
              "#7201a8"
             ],
             [
              0.3333333333333333,
              "#9c179e"
             ],
             [
              0.4444444444444444,
              "#bd3786"
             ],
             [
              0.5555555555555556,
              "#d8576b"
             ],
             [
              0.6666666666666666,
              "#ed7953"
             ],
             [
              0.7777777777777778,
              "#fb9f3a"
             ],
             [
              0.8888888888888888,
              "#fdca26"
             ],
             [
              1,
              "#f0f921"
             ]
            ],
            "type": "histogram2dcontour"
           }
          ],
          "mesh3d": [
           {
            "colorbar": {
             "outlinewidth": 0,
             "ticks": ""
            },
            "type": "mesh3d"
           }
          ],
          "parcoords": [
           {
            "line": {
             "colorbar": {
              "outlinewidth": 0,
              "ticks": ""
             }
            },
            "type": "parcoords"
           }
          ],
          "pie": [
           {
            "automargin": true,
            "type": "pie"
           }
          ],
          "scatter": [
           {
            "marker": {
             "colorbar": {
              "outlinewidth": 0,
              "ticks": ""
             }
            },
            "type": "scatter"
           }
          ],
          "scatter3d": [
           {
            "line": {
             "colorbar": {
              "outlinewidth": 0,
              "ticks": ""
             }
            },
            "marker": {
             "colorbar": {
              "outlinewidth": 0,
              "ticks": ""
             }
            },
            "type": "scatter3d"
           }
          ],
          "scattercarpet": [
           {
            "marker": {
             "colorbar": {
              "outlinewidth": 0,
              "ticks": ""
             }
            },
            "type": "scattercarpet"
           }
          ],
          "scattergeo": [
           {
            "marker": {
             "colorbar": {
              "outlinewidth": 0,
              "ticks": ""
             }
            },
            "type": "scattergeo"
           }
          ],
          "scattergl": [
           {
            "marker": {
             "colorbar": {
              "outlinewidth": 0,
              "ticks": ""
             }
            },
            "type": "scattergl"
           }
          ],
          "scattermapbox": [
           {
            "marker": {
             "colorbar": {
              "outlinewidth": 0,
              "ticks": ""
             }
            },
            "type": "scattermapbox"
           }
          ],
          "scatterpolar": [
           {
            "marker": {
             "colorbar": {
              "outlinewidth": 0,
              "ticks": ""
             }
            },
            "type": "scatterpolar"
           }
          ],
          "scatterpolargl": [
           {
            "marker": {
             "colorbar": {
              "outlinewidth": 0,
              "ticks": ""
             }
            },
            "type": "scatterpolargl"
           }
          ],
          "scatterternary": [
           {
            "marker": {
             "colorbar": {
              "outlinewidth": 0,
              "ticks": ""
             }
            },
            "type": "scatterternary"
           }
          ],
          "surface": [
           {
            "colorbar": {
             "outlinewidth": 0,
             "ticks": ""
            },
            "colorscale": [
             [
              0,
              "#0d0887"
             ],
             [
              0.1111111111111111,
              "#46039f"
             ],
             [
              0.2222222222222222,
              "#7201a8"
             ],
             [
              0.3333333333333333,
              "#9c179e"
             ],
             [
              0.4444444444444444,
              "#bd3786"
             ],
             [
              0.5555555555555556,
              "#d8576b"
             ],
             [
              0.6666666666666666,
              "#ed7953"
             ],
             [
              0.7777777777777778,
              "#fb9f3a"
             ],
             [
              0.8888888888888888,
              "#fdca26"
             ],
             [
              1,
              "#f0f921"
             ]
            ],
            "type": "surface"
           }
          ],
          "table": [
           {
            "cells": {
             "fill": {
              "color": "#EBF0F8"
             },
             "line": {
              "color": "white"
             }
            },
            "header": {
             "fill": {
              "color": "#C8D4E3"
             },
             "line": {
              "color": "white"
             }
            },
            "type": "table"
           }
          ]
         },
         "layout": {
          "annotationdefaults": {
           "arrowcolor": "#2a3f5f",
           "arrowhead": 0,
           "arrowwidth": 1
          },
          "coloraxis": {
           "colorbar": {
            "outlinewidth": 0,
            "ticks": ""
           }
          },
          "colorscale": {
           "diverging": [
            [
             0,
             "#8e0152"
            ],
            [
             0.1,
             "#c51b7d"
            ],
            [
             0.2,
             "#de77ae"
            ],
            [
             0.3,
             "#f1b6da"
            ],
            [
             0.4,
             "#fde0ef"
            ],
            [
             0.5,
             "#f7f7f7"
            ],
            [
             0.6,
             "#e6f5d0"
            ],
            [
             0.7,
             "#b8e186"
            ],
            [
             0.8,
             "#7fbc41"
            ],
            [
             0.9,
             "#4d9221"
            ],
            [
             1,
             "#276419"
            ]
           ],
           "sequential": [
            [
             0,
             "#0d0887"
            ],
            [
             0.1111111111111111,
             "#46039f"
            ],
            [
             0.2222222222222222,
             "#7201a8"
            ],
            [
             0.3333333333333333,
             "#9c179e"
            ],
            [
             0.4444444444444444,
             "#bd3786"
            ],
            [
             0.5555555555555556,
             "#d8576b"
            ],
            [
             0.6666666666666666,
             "#ed7953"
            ],
            [
             0.7777777777777778,
             "#fb9f3a"
            ],
            [
             0.8888888888888888,
             "#fdca26"
            ],
            [
             1,
             "#f0f921"
            ]
           ],
           "sequentialminus": [
            [
             0,
             "#0d0887"
            ],
            [
             0.1111111111111111,
             "#46039f"
            ],
            [
             0.2222222222222222,
             "#7201a8"
            ],
            [
             0.3333333333333333,
             "#9c179e"
            ],
            [
             0.4444444444444444,
             "#bd3786"
            ],
            [
             0.5555555555555556,
             "#d8576b"
            ],
            [
             0.6666666666666666,
             "#ed7953"
            ],
            [
             0.7777777777777778,
             "#fb9f3a"
            ],
            [
             0.8888888888888888,
             "#fdca26"
            ],
            [
             1,
             "#f0f921"
            ]
           ]
          },
          "colorway": [
           "#636efa",
           "#EF553B",
           "#00cc96",
           "#ab63fa",
           "#FFA15A",
           "#19d3f3",
           "#FF6692",
           "#B6E880",
           "#FF97FF",
           "#FECB52"
          ],
          "font": {
           "color": "#2a3f5f"
          },
          "geo": {
           "bgcolor": "white",
           "lakecolor": "white",
           "landcolor": "#E5ECF6",
           "showlakes": true,
           "showland": true,
           "subunitcolor": "white"
          },
          "hoverlabel": {
           "align": "left"
          },
          "hovermode": "closest",
          "mapbox": {
           "style": "light"
          },
          "paper_bgcolor": "white",
          "plot_bgcolor": "#E5ECF6",
          "polar": {
           "angularaxis": {
            "gridcolor": "white",
            "linecolor": "white",
            "ticks": ""
           },
           "bgcolor": "#E5ECF6",
           "radialaxis": {
            "gridcolor": "white",
            "linecolor": "white",
            "ticks": ""
           }
          },
          "scene": {
           "xaxis": {
            "backgroundcolor": "#E5ECF6",
            "gridcolor": "white",
            "gridwidth": 2,
            "linecolor": "white",
            "showbackground": true,
            "ticks": "",
            "zerolinecolor": "white"
           },
           "yaxis": {
            "backgroundcolor": "#E5ECF6",
            "gridcolor": "white",
            "gridwidth": 2,
            "linecolor": "white",
            "showbackground": true,
            "ticks": "",
            "zerolinecolor": "white"
           },
           "zaxis": {
            "backgroundcolor": "#E5ECF6",
            "gridcolor": "white",
            "gridwidth": 2,
            "linecolor": "white",
            "showbackground": true,
            "ticks": "",
            "zerolinecolor": "white"
           }
          },
          "shapedefaults": {
           "line": {
            "color": "#2a3f5f"
           }
          },
          "ternary": {
           "aaxis": {
            "gridcolor": "white",
            "linecolor": "white",
            "ticks": ""
           },
           "baxis": {
            "gridcolor": "white",
            "linecolor": "white",
            "ticks": ""
           },
           "bgcolor": "#E5ECF6",
           "caxis": {
            "gridcolor": "white",
            "linecolor": "white",
            "ticks": ""
           }
          },
          "title": {
           "x": 0.05
          },
          "xaxis": {
           "automargin": true,
           "gridcolor": "white",
           "linecolor": "white",
           "ticks": "",
           "title": {
            "standoff": 15
           },
           "zerolinecolor": "white",
           "zerolinewidth": 2
          },
          "yaxis": {
           "automargin": true,
           "gridcolor": "white",
           "linecolor": "white",
           "ticks": "",
           "title": {
            "standoff": 15
           },
           "zerolinecolor": "white",
           "zerolinewidth": 2
          }
         }
        },
        "width": 1000,
        "xaxis": {
         "anchor": "y",
         "domain": [
          0,
          1
         ]
        },
        "xaxis10": {
         "anchor": "y10",
         "domain": [
          0,
          1
         ]
        },
        "xaxis11": {
         "anchor": "y11",
         "domain": [
          0,
          1
         ]
        },
        "xaxis2": {
         "anchor": "y2",
         "domain": [
          0,
          1
         ]
        },
        "xaxis3": {
         "anchor": "y3",
         "domain": [
          0,
          1
         ]
        },
        "xaxis4": {
         "anchor": "y4",
         "domain": [
          0,
          1
         ]
        },
        "xaxis5": {
         "anchor": "y5",
         "domain": [
          0,
          1
         ]
        },
        "xaxis6": {
         "anchor": "y6",
         "domain": [
          0,
          1
         ]
        },
        "xaxis7": {
         "anchor": "y7",
         "domain": [
          0,
          1
         ]
        },
        "xaxis8": {
         "anchor": "y8",
         "domain": [
          0,
          1
         ]
        },
        "xaxis9": {
         "anchor": "y9",
         "domain": [
          0,
          1
         ]
        },
        "yaxis": {
         "anchor": "x",
         "domain": [
          0.9338842975206612,
          1
         ]
        },
        "yaxis10": {
         "anchor": "x10",
         "domain": [
          0.09338842975206611,
          0.15950413223140497
         ]
        },
        "yaxis11": {
         "anchor": "x11",
         "domain": [
          0,
          0.06611570247933884
         ]
        },
        "yaxis2": {
         "anchor": "x2",
         "domain": [
          0.8404958677685951,
          0.9066115702479339
         ]
        },
        "yaxis3": {
         "anchor": "x3",
         "domain": [
          0.7471074380165289,
          0.8132231404958677
         ]
        },
        "yaxis4": {
         "anchor": "x4",
         "domain": [
          0.6537190082644628,
          0.7198347107438017
         ]
        },
        "yaxis5": {
         "anchor": "x5",
         "domain": [
          0.5603305785123966,
          0.6264462809917355
         ]
        },
        "yaxis6": {
         "anchor": "x6",
         "domain": [
          0.4669421487603306,
          0.5330578512396694
         ]
        },
        "yaxis7": {
         "anchor": "x7",
         "domain": [
          0.37355371900826445,
          0.4396694214876033
         ]
        },
        "yaxis8": {
         "anchor": "x8",
         "domain": [
          0.2801652892561983,
          0.34628099173553717
         ]
        },
        "yaxis9": {
         "anchor": "x9",
         "domain": [
          0.18677685950413223,
          0.2528925619834711
         ]
        }
       }
      },
      "text/html": [
       "<div>\n",
       "        \n",
       "        \n",
       "            <div id=\"ec816688-e17b-4ba7-8493-bf965db23290\" class=\"plotly-graph-div\" style=\"height:2000px; width:1000px;\"></div>\n",
       "            <script type=\"text/javascript\">\n",
       "                require([\"plotly\"], function(Plotly) {\n",
       "                    window.PLOTLYENV=window.PLOTLYENV || {};\n",
       "                    \n",
       "                if (document.getElementById(\"ec816688-e17b-4ba7-8493-bf965db23290\")) {\n",
       "                    Plotly.newPlot(\n",
       "                        'ec816688-e17b-4ba7-8493-bf965db23290',\n",
       "                        [{\"name\": \"2010\", \"type\": \"histogram\", \"x\": [37.0, 64.0, 64.0, 16.0, 13.0, 13.0, 93.0, 93.0, 93.0, 93.0, 93.0, 93.0, 93.0, 93.0, 93.0, 93.0, 93.0, 93.0, 21.0, 21.0, 31.0, 31.0, 31.0, 52.0, 70.0, 31.0, 49.0, 49.0, 47.0, 47.0, 70.0, 11.0, 11.0, 11.0, 45.0, 36.0, 66.0, 66.0, 66.0, 66.0, 33.0, 33.0, 33.0, 33.0, 33.0, 51.0, 51.0, 51.0, 74.0, 72.0, 55.0, 43.0, 43.0, 43.0, 54.0, 12.0, 12.0, 12.0, 12.0, 15.0, 54.0, 54.0, 12.0], \"xaxis\": \"x\", \"yaxis\": \"y\"}, {\"name\": \"2011\", \"type\": \"histogram\", \"x\": [37.0, 37.0, 37.0, 37.0, 37.0, 37.0, 37.0, 37.0, 37.0, 33.0, 33.0, 14.0, 64.0, 13.0, 13.0, 73.0, 93.0, 93.0, 93.0, 93.0, 93.0, 44.0, 31.0, 31.0, 31.0, 31.0, 31.0, 70.0, 31.0, 49.0, 49.0, 49.0, 39.0, 39.0, 39.0, 39.0, 39.0, 70.0, 70.0, 70.0, 70.0, 70.0, 70.0, 70.0, 70.0, 70.0, 70.0, 70.0, 70.0, 70.0, 70.0, 70.0, 70.0, 70.0, 70.0, 70.0, 70.0, 70.0, 70.0, 70.0, 70.0, 70.0, 70.0, 70.0, 70.0, 70.0, 70.0, 70.0, 70.0, 70.0, 70.0, 70.0, 70.0, 70.0, 70.0, 70.0, 70.0, 70.0, 70.0, 70.0, 70.0, 70.0, 70.0, 70.0, 70.0, 70.0, 70.0, 70.0, 70.0, 70.0, 70.0, 70.0, 70.0, 70.0, 46.0, 46.0, 46.0, 46.0, 46.0, 46.0, 46.0, 45.0, 45.0, 45.0, 64.0, 36.0, 36.0, 36.0, 36.0, 66.0, 66.0, 66.0, 66.0, 66.0, 66.0, 33.0, 33.0, 33.0, 33.0, 33.0, 33.0, 33.0, 33.0, 51.0, 51.0, 51.0, 51.0, 51.0, 51.0, 46.0, 46.0, 46.0, 46.0, 46.0, 46.0, 46.0, 46.0, 46.0, 74.0, 74.0, 72.0, 55.0, 55.0, 55.0, 55.0, 55.0, 47.0, 58.0, 12.0, 12.0, 12.0, 12.0, 15.0, 47.0, 54.0, 12.0, 12.0], \"xaxis\": \"x2\", \"yaxis\": \"y2\"}, {\"name\": \"2012\", \"type\": \"histogram\", \"x\": [37.0, 37.0, 37.0, 37.0, 33.0, 33.0, 23.0, 23.0, 23.0, 23.0, 64.0, 34.0, 16.0, 16.0, 73.0, 73.0, 93.0, 93.0, 93.0, 93.0, 93.0, 93.0, 93.0, 93.0, 93.0, 93.0, 93.0, 31.0, 31.0, 31.0, 31.0, 31.0, 70.0, 31.0, 31.0, 49.0, 39.0, 39.0, 39.0, 39.0, 39.0, 39.0, 39.0, 39.0, 39.0, 39.0, 39.0, 39.0, 39.0, 39.0, 39.0, 39.0, 39.0, 39.0, 39.0, 25.0, 47.0, 70.0, 70.0, 70.0, 70.0, 70.0, 70.0, 70.0, 70.0, 70.0, 70.0, 70.0, 70.0, 70.0, 70.0, 70.0, 70.0, 70.0, 70.0, 70.0, 70.0, 70.0, 70.0, 70.0, 70.0, 70.0, 70.0, 70.0, 70.0, 70.0, 70.0, 70.0, 70.0, 70.0, 70.0, 70.0, 70.0, 70.0, 70.0, 70.0, 70.0, 70.0, 70.0, 70.0, 70.0, 70.0, 70.0, 70.0, 70.0, 70.0, 70.0, 70.0, 70.0, 70.0, 70.0, 70.0, 70.0, 70.0, 70.0, 70.0, 70.0, 70.0, 70.0, 70.0, 70.0, 70.0, 70.0, 70.0, 70.0, 70.0, 70.0, 17.0, 17.0, 17.0, 46.0, 46.0, 46.0, 46.0, 36.0, 36.0, 36.0, 36.0, 36.0, 36.0, 36.0, 36.0, 36.0, 36.0, 36.0, 66.0, 66.0, 66.0, 66.0, 66.0, 48.0, 66.0, 66.0, 66.0, 33.0, 33.0, 33.0, 33.0, 33.0, 51.0, 51.0, 51.0, 51.0, 51.0, 46.0, 46.0, 46.0, 46.0, 74.0, 72.0, 72.0, 55.0, 55.0, 47.0, 47.0, 58.0, 12.0, 12.0, 12.0, 12.0], \"xaxis\": \"x3\", \"yaxis\": \"y3\"}, {\"name\": \"2013\", \"type\": \"histogram\", \"x\": [37.0, 50.0, 7.0, 23.0, 23.0, 23.0, 23.0, 23.0, 23.0, 64.0, 16.0, 13.0, 26.0, 93.0, 93.0, 93.0, 93.0, 93.0, 93.0, 93.0, 93.0, 93.0, 93.0, 93.0, 93.0, 21.0, 31.0, 31.0, 31.0, 31.0, 31.0, 31.0, 31.0, 31.0, 31.0, 31.0, 31.0, 49.0, 49.0, 49.0, 49.0, 49.0, 49.0, 49.0, 49.0, 49.0, 49.0, 49.0, 49.0, 39.0, 39.0, 25.0, 25.0, 25.0, 33.0, 70.0, 70.0, 70.0, 70.0, 46.0, 46.0, 46.0, 46.0, 46.0, 46.0, 36.0, 66.0, 66.0, 66.0, 66.0, 66.0, 66.0, 66.0, 33.0, 33.0, 33.0, 33.0, 33.0, 33.0, 33.0, 33.0, 33.0, 33.0, 33.0, 51.0, 51.0, 51.0, 51.0, 51.0, 51.0, 8.0, 8.0, 74.0, 72.0, 72.0, 72.0, 55.0, 47.0, 47.0, 47.0, 47.0, 47.0, 47.0, 47.0, 47.0, 47.0, 47.0, 47.0, 47.0, 54.0, 58.0, 12.0, 15.0, 15.0, 15.0, 15.0, 15.0, 15.0, 15.0, 15.0, 15.0, 12.0, 12.0, 12.0, 12.0], \"xaxis\": \"x4\", \"yaxis\": \"y4\"}, {\"name\": \"2014\", \"type\": \"histogram\", \"x\": [37.0, 37.0, 37.0, 37.0, 37.0, 37.0, 37.0, 37.0, 37.0, 37.0, 37.0, 37.0, 37.0, 37.0, 37.0, 37.0, 61.0, 7.0, 7.0, 7.0, 23.0, 23.0, 23.0, 64.0, 16.0, 16.0, 16.0, 26.0, 93.0, 93.0, 93.0, 93.0, 93.0, 93.0, 93.0, 93.0, 93.0, 28.0, 44.0, 44.0, 31.0, 31.0, 31.0, 31.0, 31.0, 31.0, 31.0, 31.0, 31.0, 31.0, 31.0, 31.0, 52.0, 31.0, 31.0, 31.0, 31.0, 31.0, 31.0, 31.0, 31.0, 49.0, 49.0, 49.0, 39.0, 39.0, 39.0, 39.0, 39.0, 39.0, 39.0, 39.0, 39.0, 39.0, 39.0, 39.0, 33.0, 46.0, 64.0, 36.0, 36.0, 36.0, 36.0, 36.0, 36.0, 36.0, 36.0, 36.0, 36.0, 36.0, 66.0, 66.0, 66.0, 66.0, 66.0, 66.0, 66.0, 66.0, 33.0, 33.0, 33.0, 33.0, 33.0, 33.0, 33.0, 51.0, 51.0, 46.0, 8.0, 8.0, 74.0, 72.0, 72.0, 55.0, 55.0, 55.0, 47.0, 43.0, 43.0, 54.0, 12.0, 12.0, 15.0, 15.0, 15.0, 15.0, 15.0, 15.0, 15.0, 15.0, 15.0, 15.0, 15.0, 15.0, 54.0, 22.0], \"xaxis\": \"x5\", \"yaxis\": \"y5\"}, {\"name\": \"2015\", \"type\": \"histogram\", \"x\": [37.0, 37.0, 50.0, 50.0, 50.0, 23.0, 23.0, 23.0, 23.0, 14.0, 64.0, 64.0, 13.0, 73.0, 73.0, 93.0, 93.0, 93.0, 93.0, 93.0, 93.0, 44.0, 31.0, 31.0, 52.0, 49.0, 49.0, 39.0, 39.0, 39.0, 39.0, 39.0, 39.0, 39.0, 39.0, 47.0, 47.0, 47.0, 47.0, 70.0, 70.0, 17.0, 17.0, 11.0, 45.0, 45.0, 64.0, 36.0, 36.0, 36.0, 36.0, 36.0, 36.0, 36.0, 36.0, 36.0, 36.0, 66.0, 66.0, 66.0, 66.0, 33.0, 33.0, 33.0, 33.0, 33.0, 33.0, 33.0, 33.0, 33.0, 33.0, 33.0, 33.0, 51.0, 46.0, 46.0, 8.0, 8.0, 74.0, 72.0, 72.0, 55.0, 55.0, 55.0, 47.0, 47.0, 47.0, 47.0, 47.0, 12.0, 15.0, 15.0, 15.0, 15.0, 15.0, 15.0, 15.0, 15.0, 15.0, 15.0, 15.0, 15.0, 15.0, 35.0], \"xaxis\": \"x6\", \"yaxis\": \"y6\"}, {\"name\": \"2016\", \"type\": \"histogram\", \"x\": [37.0, 37.0, 37.0, 37.0, 50.0, 23.0, 23.0, 23.0, 23.0, 23.0, 23.0, 64.0, 13.0, 73.0, 73.0, 93.0, 93.0, 93.0, 93.0, 93.0, 21.0, 44.0, 31.0, 31.0, 31.0, 31.0, 31.0, 31.0, 31.0, 31.0, 31.0, 52.0, 70.0, 70.0, 70.0, 49.0, 39.0, 39.0, 39.0, 39.0, 39.0, 39.0, 39.0, 47.0, 47.0, 17.0, 17.0, 46.0, 46.0, 46.0, 46.0, 46.0, 46.0, 46.0, 46.0, 46.0, 45.0, 64.0, 36.0, 66.0, 66.0, 66.0, 66.0, 66.0, 66.0, 66.0, 33.0, 33.0, 33.0, 33.0, 33.0, 33.0, 33.0, 33.0, 46.0, 46.0, 46.0, 46.0, 46.0, 46.0, 46.0, 46.0, 46.0, 46.0, 46.0, 46.0, 74.0, 74.0, 74.0, 74.0, 72.0, 55.0, 47.0, 47.0, 47.0, 47.0, 47.0, 54.0, 54.0, 54.0, 54.0, 54.0, 15.0, 15.0, 15.0, 15.0, 15.0, 15.0, 15.0, 15.0, 15.0, 15.0, 15.0, 54.0], \"xaxis\": \"x7\", \"yaxis\": \"y7\"}, {\"name\": \"2017\", \"type\": \"histogram\", \"x\": [37.0, 37.0, 37.0, 37.0, 37.0, 37.0, 37.0, 37.0, 37.0, 37.0, 37.0, 50.0, 33.0, 7.0, 7.0, 23.0, 23.0, 23.0, 23.0, 23.0, 23.0, 23.0, 14.0, 64.0, 64.0, 34.0, 16.0, 16.0, 16.0, 16.0, 16.0, 16.0, 16.0, 16.0, 16.0, 16.0, 16.0, 16.0, 16.0, 16.0, 16.0, 16.0, 16.0, 16.0, 93.0, 93.0, 93.0, 93.0, 93.0, 93.0, 93.0, 93.0, 93.0, 31.0, 70.0, 31.0, 39.0, 39.0, 39.0, 39.0, 39.0, 39.0, 39.0, 39.0, 39.0, 39.0, 39.0, 39.0, 39.0, 39.0, 39.0, 39.0, 25.0, 47.0, 47.0, 47.0, 47.0, 47.0, 47.0, 47.0, 47.0, 47.0, 47.0, 47.0, 47.0, 47.0, 47.0, 47.0, 70.0, 70.0, 46.0, 46.0, 46.0, 46.0, 11.0, 11.0, 11.0, 11.0, 36.0, 66.0, 66.0, 66.0, 66.0, 66.0, 66.0, 33.0, 33.0, 33.0, 33.0, 33.0, 46.0, 46.0, 8.0, 74.0, 72.0, 55.0, 55.0, 55.0, 55.0, 55.0, 55.0, 55.0, 55.0, 55.0, 55.0, 55.0, 47.0, 47.0, 47.0, 47.0, 47.0, 54.0, 58.0, 12.0, 12.0, 15.0, 15.0, 15.0, 15.0, 15.0, 15.0, 15.0, 15.0, 15.0, 15.0, 15.0, 15.0, 15.0, 47.0, 47.0, 47.0, 47.0, 35.0], \"xaxis\": \"x8\", \"yaxis\": \"y8\"}, {\"name\": \"2018\", \"type\": \"histogram\", \"x\": [37.0, 37.0, 37.0, 37.0, 3.0, 3.0, 50.0, 14.0, 14.0, 64.0, 34.0, 34.0, 34.0, 16.0, 16.0, 16.0, 16.0, 16.0, 16.0, 16.0, 16.0, 16.0, 16.0, 16.0, 16.0, 16.0, 16.0, 16.0, 16.0, 16.0, 16.0, 93.0, 93.0, 93.0, 31.0, 3.0, 3.0, 3.0, 52.0, 52.0, 52.0, 52.0, 52.0, 52.0, 52.0, 52.0, 31.0, 31.0, 31.0, 39.0, 39.0, 39.0, 39.0, 39.0, 39.0, 39.0, 39.0, 39.0, 25.0, 47.0, 47.0, 47.0, 47.0, 33.0, 17.0, 17.0, 46.0, 46.0, 64.0, 36.0, 36.0, 66.0, 66.0, 66.0, 66.0, 66.0, 66.0, 66.0, 33.0, 4.0, 4.0, 46.0, 46.0, 8.0, 8.0, 74.0, 72.0, 55.0, 55.0, 55.0, 55.0, 55.0, 55.0, 55.0, 55.0, 55.0, 55.0, 55.0, 55.0, 55.0, 47.0, 47.0, 47.0, 47.0, 47.0, 47.0, 47.0, 58.0, 58.0, 12.0, 12.0, 15.0, 15.0, 15.0, 15.0, 15.0, 15.0, 15.0, 15.0, 15.0, 15.0, 15.0, 15.0, 35.0, 22.0, 12.0], \"xaxis\": \"x9\", \"yaxis\": \"y9\"}, {\"name\": \"2019\", \"type\": \"histogram\", \"x\": [37.0, 37.0, 37.0, 37.0, 37.0, 3.0, 50.0, 50.0, 61.0, 7.0, 7.0, 64.0, 16.0, 16.0, 16.0, 16.0, 16.0, 16.0, 16.0, 16.0, 16.0, 16.0, 16.0, 16.0, 16.0, 16.0, 16.0, 16.0, 16.0, 26.0, 93.0, 93.0, 93.0, 3.0, 3.0, 52.0, 70.0, 31.0, 49.0, 49.0, 49.0, 39.0, 39.0, 39.0, 39.0, 39.0, 39.0, 39.0, 39.0, 39.0, 39.0, 47.0, 47.0, 47.0, 47.0, 47.0, 47.0, 2.0, 3.0, 3.0, 3.0, 33.0, 33.0, 70.0, 70.0, 17.0, 46.0, 46.0, 11.0, 11.0, 11.0, 11.0, 36.0, 36.0, 36.0, 66.0, 66.0, 66.0, 33.0, 33.0, 33.0, 33.0, 33.0, 51.0, 4.0, 4.0, 46.0, 8.0, 74.0, 72.0, 72.0, 72.0, 55.0, 55.0, 55.0, 55.0, 55.0, 55.0, 55.0, 55.0, 55.0, 55.0, 55.0, 55.0, 55.0, 47.0, 47.0, 47.0, 47.0, 47.0, 47.0, 47.0, 47.0, 58.0, 58.0, 12.0, 15.0, 15.0, 54.0], \"xaxis\": \"x10\", \"yaxis\": \"y10\"}, {\"name\": \"2020\", \"type\": \"histogram\", \"x\": [37.0, 3.0, 3.0, 7.0, 14.0, 16.0, 16.0, 16.0, 16.0, 16.0, 16.0, 16.0, 93.0, 3.0, 52.0, 39.0, 39.0, 39.0, 47.0, 47.0, 47.0, 47.0, 47.0, 47.0, 47.0, 3.0, 3.0, 3.0, 70.0, 17.0, 46.0, 46.0, 46.0, 36.0, 36.0, 36.0, 36.0, 33.0, 33.0, 51.0, 46.0, 8.0, 8.0, 55.0, 55.0, 55.0, 47.0], \"xaxis\": \"x11\", \"yaxis\": \"y11\"}],\n",
       "                        {\"height\": 2000, \"template\": {\"data\": {\"bar\": [{\"error_x\": {\"color\": \"#2a3f5f\"}, \"error_y\": {\"color\": \"#2a3f5f\"}, \"marker\": {\"line\": {\"color\": \"#E5ECF6\", \"width\": 0.5}}, \"type\": \"bar\"}], \"barpolar\": [{\"marker\": {\"line\": {\"color\": \"#E5ECF6\", \"width\": 0.5}}, \"type\": \"barpolar\"}], \"carpet\": [{\"aaxis\": {\"endlinecolor\": \"#2a3f5f\", \"gridcolor\": \"white\", \"linecolor\": \"white\", \"minorgridcolor\": \"white\", \"startlinecolor\": \"#2a3f5f\"}, \"baxis\": {\"endlinecolor\": \"#2a3f5f\", \"gridcolor\": \"white\", \"linecolor\": \"white\", \"minorgridcolor\": \"white\", \"startlinecolor\": \"#2a3f5f\"}, \"type\": \"carpet\"}], \"choropleth\": [{\"colorbar\": {\"outlinewidth\": 0, \"ticks\": \"\"}, \"type\": \"choropleth\"}], \"contour\": [{\"colorbar\": {\"outlinewidth\": 0, \"ticks\": \"\"}, \"colorscale\": [[0.0, \"#0d0887\"], [0.1111111111111111, \"#46039f\"], [0.2222222222222222, \"#7201a8\"], [0.3333333333333333, \"#9c179e\"], [0.4444444444444444, \"#bd3786\"], [0.5555555555555556, \"#d8576b\"], [0.6666666666666666, \"#ed7953\"], [0.7777777777777778, \"#fb9f3a\"], [0.8888888888888888, \"#fdca26\"], [1.0, \"#f0f921\"]], \"type\": \"contour\"}], \"contourcarpet\": [{\"colorbar\": {\"outlinewidth\": 0, \"ticks\": \"\"}, \"type\": \"contourcarpet\"}], \"heatmap\": [{\"colorbar\": {\"outlinewidth\": 0, \"ticks\": \"\"}, \"colorscale\": [[0.0, \"#0d0887\"], [0.1111111111111111, \"#46039f\"], [0.2222222222222222, \"#7201a8\"], [0.3333333333333333, \"#9c179e\"], [0.4444444444444444, \"#bd3786\"], [0.5555555555555556, \"#d8576b\"], [0.6666666666666666, \"#ed7953\"], [0.7777777777777778, \"#fb9f3a\"], [0.8888888888888888, \"#fdca26\"], [1.0, \"#f0f921\"]], \"type\": \"heatmap\"}], \"heatmapgl\": [{\"colorbar\": {\"outlinewidth\": 0, \"ticks\": \"\"}, \"colorscale\": [[0.0, \"#0d0887\"], [0.1111111111111111, \"#46039f\"], [0.2222222222222222, \"#7201a8\"], [0.3333333333333333, \"#9c179e\"], [0.4444444444444444, \"#bd3786\"], [0.5555555555555556, \"#d8576b\"], [0.6666666666666666, \"#ed7953\"], [0.7777777777777778, \"#fb9f3a\"], [0.8888888888888888, \"#fdca26\"], [1.0, \"#f0f921\"]], \"type\": \"heatmapgl\"}], \"histogram\": [{\"marker\": {\"colorbar\": {\"outlinewidth\": 0, \"ticks\": \"\"}}, \"type\": \"histogram\"}], \"histogram2d\": [{\"colorbar\": {\"outlinewidth\": 0, \"ticks\": \"\"}, \"colorscale\": [[0.0, \"#0d0887\"], [0.1111111111111111, \"#46039f\"], [0.2222222222222222, \"#7201a8\"], [0.3333333333333333, \"#9c179e\"], [0.4444444444444444, \"#bd3786\"], [0.5555555555555556, \"#d8576b\"], [0.6666666666666666, \"#ed7953\"], [0.7777777777777778, \"#fb9f3a\"], [0.8888888888888888, \"#fdca26\"], [1.0, \"#f0f921\"]], \"type\": \"histogram2d\"}], \"histogram2dcontour\": [{\"colorbar\": {\"outlinewidth\": 0, \"ticks\": \"\"}, \"colorscale\": [[0.0, \"#0d0887\"], [0.1111111111111111, \"#46039f\"], [0.2222222222222222, \"#7201a8\"], [0.3333333333333333, \"#9c179e\"], [0.4444444444444444, \"#bd3786\"], [0.5555555555555556, \"#d8576b\"], [0.6666666666666666, \"#ed7953\"], [0.7777777777777778, \"#fb9f3a\"], [0.8888888888888888, \"#fdca26\"], [1.0, \"#f0f921\"]], \"type\": \"histogram2dcontour\"}], \"mesh3d\": [{\"colorbar\": {\"outlinewidth\": 0, \"ticks\": \"\"}, \"type\": \"mesh3d\"}], \"parcoords\": [{\"line\": {\"colorbar\": {\"outlinewidth\": 0, \"ticks\": \"\"}}, \"type\": \"parcoords\"}], \"pie\": [{\"automargin\": true, \"type\": \"pie\"}], \"scatter\": [{\"marker\": {\"colorbar\": {\"outlinewidth\": 0, \"ticks\": \"\"}}, \"type\": \"scatter\"}], \"scatter3d\": [{\"line\": {\"colorbar\": {\"outlinewidth\": 0, \"ticks\": \"\"}}, \"marker\": {\"colorbar\": {\"outlinewidth\": 0, \"ticks\": \"\"}}, \"type\": \"scatter3d\"}], \"scattercarpet\": [{\"marker\": {\"colorbar\": {\"outlinewidth\": 0, \"ticks\": \"\"}}, \"type\": \"scattercarpet\"}], \"scattergeo\": [{\"marker\": {\"colorbar\": {\"outlinewidth\": 0, \"ticks\": \"\"}}, \"type\": \"scattergeo\"}], \"scattergl\": [{\"marker\": {\"colorbar\": {\"outlinewidth\": 0, \"ticks\": \"\"}}, \"type\": \"scattergl\"}], \"scattermapbox\": [{\"marker\": {\"colorbar\": {\"outlinewidth\": 0, \"ticks\": \"\"}}, \"type\": \"scattermapbox\"}], \"scatterpolar\": [{\"marker\": {\"colorbar\": {\"outlinewidth\": 0, \"ticks\": \"\"}}, \"type\": \"scatterpolar\"}], \"scatterpolargl\": [{\"marker\": {\"colorbar\": {\"outlinewidth\": 0, \"ticks\": \"\"}}, \"type\": \"scatterpolargl\"}], \"scatterternary\": [{\"marker\": {\"colorbar\": {\"outlinewidth\": 0, \"ticks\": \"\"}}, \"type\": \"scatterternary\"}], \"surface\": [{\"colorbar\": {\"outlinewidth\": 0, \"ticks\": \"\"}, \"colorscale\": [[0.0, \"#0d0887\"], [0.1111111111111111, \"#46039f\"], [0.2222222222222222, \"#7201a8\"], [0.3333333333333333, \"#9c179e\"], [0.4444444444444444, \"#bd3786\"], [0.5555555555555556, \"#d8576b\"], [0.6666666666666666, \"#ed7953\"], [0.7777777777777778, \"#fb9f3a\"], [0.8888888888888888, \"#fdca26\"], [1.0, \"#f0f921\"]], \"type\": \"surface\"}], \"table\": [{\"cells\": {\"fill\": {\"color\": \"#EBF0F8\"}, \"line\": {\"color\": \"white\"}}, \"header\": {\"fill\": {\"color\": \"#C8D4E3\"}, \"line\": {\"color\": \"white\"}}, \"type\": \"table\"}]}, \"layout\": {\"annotationdefaults\": {\"arrowcolor\": \"#2a3f5f\", \"arrowhead\": 0, \"arrowwidth\": 1}, \"coloraxis\": {\"colorbar\": {\"outlinewidth\": 0, \"ticks\": \"\"}}, \"colorscale\": {\"diverging\": [[0, \"#8e0152\"], [0.1, \"#c51b7d\"], [0.2, \"#de77ae\"], [0.3, \"#f1b6da\"], [0.4, \"#fde0ef\"], [0.5, \"#f7f7f7\"], [0.6, \"#e6f5d0\"], [0.7, \"#b8e186\"], [0.8, \"#7fbc41\"], [0.9, \"#4d9221\"], [1, \"#276419\"]], \"sequential\": [[0.0, \"#0d0887\"], [0.1111111111111111, \"#46039f\"], [0.2222222222222222, \"#7201a8\"], [0.3333333333333333, \"#9c179e\"], [0.4444444444444444, \"#bd3786\"], [0.5555555555555556, \"#d8576b\"], [0.6666666666666666, \"#ed7953\"], [0.7777777777777778, \"#fb9f3a\"], [0.8888888888888888, \"#fdca26\"], [1.0, \"#f0f921\"]], \"sequentialminus\": [[0.0, \"#0d0887\"], [0.1111111111111111, \"#46039f\"], [0.2222222222222222, \"#7201a8\"], [0.3333333333333333, \"#9c179e\"], [0.4444444444444444, \"#bd3786\"], [0.5555555555555556, \"#d8576b\"], [0.6666666666666666, \"#ed7953\"], [0.7777777777777778, \"#fb9f3a\"], [0.8888888888888888, \"#fdca26\"], [1.0, \"#f0f921\"]]}, \"colorway\": [\"#636efa\", \"#EF553B\", \"#00cc96\", \"#ab63fa\", \"#FFA15A\", \"#19d3f3\", \"#FF6692\", \"#B6E880\", \"#FF97FF\", \"#FECB52\"], \"font\": {\"color\": \"#2a3f5f\"}, \"geo\": {\"bgcolor\": \"white\", \"lakecolor\": \"white\", \"landcolor\": \"#E5ECF6\", \"showlakes\": true, \"showland\": true, \"subunitcolor\": \"white\"}, \"hoverlabel\": {\"align\": \"left\"}, \"hovermode\": \"closest\", \"mapbox\": {\"style\": \"light\"}, \"paper_bgcolor\": \"white\", \"plot_bgcolor\": \"#E5ECF6\", \"polar\": {\"angularaxis\": {\"gridcolor\": \"white\", \"linecolor\": \"white\", \"ticks\": \"\"}, \"bgcolor\": \"#E5ECF6\", \"radialaxis\": {\"gridcolor\": \"white\", \"linecolor\": \"white\", \"ticks\": \"\"}}, \"scene\": {\"xaxis\": {\"backgroundcolor\": \"#E5ECF6\", \"gridcolor\": \"white\", \"gridwidth\": 2, \"linecolor\": \"white\", \"showbackground\": true, \"ticks\": \"\", \"zerolinecolor\": \"white\"}, \"yaxis\": {\"backgroundcolor\": \"#E5ECF6\", \"gridcolor\": \"white\", \"gridwidth\": 2, \"linecolor\": \"white\", \"showbackground\": true, \"ticks\": \"\", \"zerolinecolor\": \"white\"}, \"zaxis\": {\"backgroundcolor\": \"#E5ECF6\", \"gridcolor\": \"white\", \"gridwidth\": 2, \"linecolor\": \"white\", \"showbackground\": true, \"ticks\": \"\", \"zerolinecolor\": \"white\"}}, \"shapedefaults\": {\"line\": {\"color\": \"#2a3f5f\"}}, \"ternary\": {\"aaxis\": {\"gridcolor\": \"white\", \"linecolor\": \"white\", \"ticks\": \"\"}, \"baxis\": {\"gridcolor\": \"white\", \"linecolor\": \"white\", \"ticks\": \"\"}, \"bgcolor\": \"#E5ECF6\", \"caxis\": {\"gridcolor\": \"white\", \"linecolor\": \"white\", \"ticks\": \"\"}}, \"title\": {\"x\": 0.05}, \"xaxis\": {\"automargin\": true, \"gridcolor\": \"white\", \"linecolor\": \"white\", \"ticks\": \"\", \"title\": {\"standoff\": 15}, \"zerolinecolor\": \"white\", \"zerolinewidth\": 2}, \"yaxis\": {\"automargin\": true, \"gridcolor\": \"white\", \"linecolor\": \"white\", \"ticks\": \"\", \"title\": {\"standoff\": 15}, \"zerolinecolor\": \"white\", \"zerolinewidth\": 2}}}, \"width\": 1000, \"xaxis\": {\"anchor\": \"y\", \"domain\": [0.0, 1.0]}, \"xaxis10\": {\"anchor\": \"y10\", \"domain\": [0.0, 1.0]}, \"xaxis11\": {\"anchor\": \"y11\", \"domain\": [0.0, 1.0]}, \"xaxis2\": {\"anchor\": \"y2\", \"domain\": [0.0, 1.0]}, \"xaxis3\": {\"anchor\": \"y3\", \"domain\": [0.0, 1.0]}, \"xaxis4\": {\"anchor\": \"y4\", \"domain\": [0.0, 1.0]}, \"xaxis5\": {\"anchor\": \"y5\", \"domain\": [0.0, 1.0]}, \"xaxis6\": {\"anchor\": \"y6\", \"domain\": [0.0, 1.0]}, \"xaxis7\": {\"anchor\": \"y7\", \"domain\": [0.0, 1.0]}, \"xaxis8\": {\"anchor\": \"y8\", \"domain\": [0.0, 1.0]}, \"xaxis9\": {\"anchor\": \"y9\", \"domain\": [0.0, 1.0]}, \"yaxis\": {\"anchor\": \"x\", \"domain\": [0.9338842975206612, 1.0]}, \"yaxis10\": {\"anchor\": \"x10\", \"domain\": [0.09338842975206611, 0.15950413223140497]}, \"yaxis11\": {\"anchor\": \"x11\", \"domain\": [0.0, 0.06611570247933884]}, \"yaxis2\": {\"anchor\": \"x2\", \"domain\": [0.8404958677685951, 0.9066115702479339]}, \"yaxis3\": {\"anchor\": \"x3\", \"domain\": [0.7471074380165289, 0.8132231404958677]}, \"yaxis4\": {\"anchor\": \"x4\", \"domain\": [0.6537190082644628, 0.7198347107438017]}, \"yaxis5\": {\"anchor\": \"x5\", \"domain\": [0.5603305785123966, 0.6264462809917355]}, \"yaxis6\": {\"anchor\": \"x6\", \"domain\": [0.4669421487603306, 0.5330578512396694]}, \"yaxis7\": {\"anchor\": \"x7\", \"domain\": [0.37355371900826445, 0.4396694214876033]}, \"yaxis8\": {\"anchor\": \"x8\", \"domain\": [0.2801652892561983, 0.34628099173553717]}, \"yaxis9\": {\"anchor\": \"x9\", \"domain\": [0.18677685950413223, 0.2528925619834711]}},\n",
       "                        {\"responsive\": true}\n",
       "                    ).then(function(){\n",
       "                            \n",
       "var gd = document.getElementById('ec816688-e17b-4ba7-8493-bf965db23290');\n",
       "var x = new MutationObserver(function (mutations, observer) {{\n",
       "        var display = window.getComputedStyle(gd).display;\n",
       "        if (!display || display === 'none') {{\n",
       "            console.log([gd, 'removed!']);\n",
       "            Plotly.purge(gd);\n",
       "            observer.disconnect();\n",
       "        }}\n",
       "}});\n",
       "\n",
       "// Listen for the removal of the full notebook cells\n",
       "var notebookContainer = gd.closest('#notebook-container');\n",
       "if (notebookContainer) {{\n",
       "    x.observe(notebookContainer, {childList: true});\n",
       "}}\n",
       "\n",
       "// Listen for the clearing of the current output cell\n",
       "var outputEl = gd.closest('.output');\n",
       "if (outputEl) {{\n",
       "    x.observe(outputEl, {childList: true});\n",
       "}}\n",
       "\n",
       "                        })\n",
       "                };\n",
       "                });\n",
       "            </script>\n",
       "        </div>"
      ]
     },
     "metadata": {},
     "output_type": "display_data"
    }
   ],
   "source": [
    "# WHAT WAS THE AVERAGE DEMOGRAPHICS ?\n",
    "row=1\n",
    "fig=make_subplots(rows=11,cols=1,specs=[[{\"type\": \"histogram\"}],\n",
    "                           [{\"type\": \"histogram\"}],\n",
    "                           [{\"type\": \"histogram\"}],\n",
    "                        [{\"type\": \"histogram\"}],\n",
    "                           [{\"type\": \"histogram\"}],\n",
    "                           [{\"type\": \"histogram\"}],\n",
    "                           [{\"type\": \"histogram\"}],\n",
    "                           [{\"type\": \"histogram\"}],\n",
    "                           [{\"type\": \"histogram\"}],\n",
    "                           [{\"type\": \"histogram\"}],\n",
    "                                       [{\"type\": \"histogram\"}],])\n",
    "for year,group in df.groupby(\"YEAR\"):\n",
    "    fig.append_trace(go.Histogram(x=group[\"AGE\"],name=year),row=row,col=1,)\n",
    "    row+=1\n",
    "fig.update_layout(height=2000,width=1000)\n",
    "fig.show()"
   ]
  },
  {
   "cell_type": "code",
   "execution_count": 257,
   "metadata": {},
   "outputs": [
    {
     "data": {
      "application/vnd.plotly.v1+json": {
       "config": {
        "plotlyServerURL": "https://plot.ly"
       },
       "data": [
        {
         "name": "Boston",
         "type": "bar",
         "x": [
          2012,
          2011,
          2017,
          2014,
          2018,
          2013,
          2019,
          2016,
          2015,
          2010,
          2020
         ],
         "xaxis": "x",
         "y": [
          180,
          157,
          153,
          136,
          126,
          125,
          119,
          114,
          104,
          63,
          47
         ],
         "yaxis": "y"
        },
        {
         "name": "Cambridge",
         "type": "bar",
         "x": [
          2012,
          2011,
          2017,
          2014,
          2018,
          2013,
          2019,
          2016,
          2015,
          2010,
          2020
         ],
         "xaxis": "x2",
         "y": [
          180,
          157,
          153,
          136,
          126,
          125,
          119,
          114,
          104,
          63,
          47
         ],
         "yaxis": "y2"
        },
        {
         "name": "Chelsea",
         "type": "bar",
         "x": [
          2012,
          2011,
          2017,
          2014,
          2018,
          2013,
          2019,
          2016,
          2015,
          2010,
          2020
         ],
         "xaxis": "x3",
         "y": [
          180,
          157,
          153,
          136,
          126,
          125,
          119,
          114,
          104,
          63,
          47
         ],
         "yaxis": "y3"
        },
        {
         "name": "Everett",
         "type": "bar",
         "x": [
          2012,
          2011,
          2017,
          2014,
          2018,
          2013,
          2019,
          2016,
          2015,
          2010,
          2020
         ],
         "xaxis": "x4",
         "y": [
          180,
          157,
          153,
          136,
          126,
          125,
          119,
          114,
          104,
          63,
          47
         ],
         "yaxis": "y4"
        }
       ],
       "layout": {
        "height": 1000,
        "template": {
         "data": {
          "bar": [
           {
            "error_x": {
             "color": "#2a3f5f"
            },
            "error_y": {
             "color": "#2a3f5f"
            },
            "marker": {
             "line": {
              "color": "#E5ECF6",
              "width": 0.5
             }
            },
            "type": "bar"
           }
          ],
          "barpolar": [
           {
            "marker": {
             "line": {
              "color": "#E5ECF6",
              "width": 0.5
             }
            },
            "type": "barpolar"
           }
          ],
          "carpet": [
           {
            "aaxis": {
             "endlinecolor": "#2a3f5f",
             "gridcolor": "white",
             "linecolor": "white",
             "minorgridcolor": "white",
             "startlinecolor": "#2a3f5f"
            },
            "baxis": {
             "endlinecolor": "#2a3f5f",
             "gridcolor": "white",
             "linecolor": "white",
             "minorgridcolor": "white",
             "startlinecolor": "#2a3f5f"
            },
            "type": "carpet"
           }
          ],
          "choropleth": [
           {
            "colorbar": {
             "outlinewidth": 0,
             "ticks": ""
            },
            "type": "choropleth"
           }
          ],
          "contour": [
           {
            "colorbar": {
             "outlinewidth": 0,
             "ticks": ""
            },
            "colorscale": [
             [
              0,
              "#0d0887"
             ],
             [
              0.1111111111111111,
              "#46039f"
             ],
             [
              0.2222222222222222,
              "#7201a8"
             ],
             [
              0.3333333333333333,
              "#9c179e"
             ],
             [
              0.4444444444444444,
              "#bd3786"
             ],
             [
              0.5555555555555556,
              "#d8576b"
             ],
             [
              0.6666666666666666,
              "#ed7953"
             ],
             [
              0.7777777777777778,
              "#fb9f3a"
             ],
             [
              0.8888888888888888,
              "#fdca26"
             ],
             [
              1,
              "#f0f921"
             ]
            ],
            "type": "contour"
           }
          ],
          "contourcarpet": [
           {
            "colorbar": {
             "outlinewidth": 0,
             "ticks": ""
            },
            "type": "contourcarpet"
           }
          ],
          "heatmap": [
           {
            "colorbar": {
             "outlinewidth": 0,
             "ticks": ""
            },
            "colorscale": [
             [
              0,
              "#0d0887"
             ],
             [
              0.1111111111111111,
              "#46039f"
             ],
             [
              0.2222222222222222,
              "#7201a8"
             ],
             [
              0.3333333333333333,
              "#9c179e"
             ],
             [
              0.4444444444444444,
              "#bd3786"
             ],
             [
              0.5555555555555556,
              "#d8576b"
             ],
             [
              0.6666666666666666,
              "#ed7953"
             ],
             [
              0.7777777777777778,
              "#fb9f3a"
             ],
             [
              0.8888888888888888,
              "#fdca26"
             ],
             [
              1,
              "#f0f921"
             ]
            ],
            "type": "heatmap"
           }
          ],
          "heatmapgl": [
           {
            "colorbar": {
             "outlinewidth": 0,
             "ticks": ""
            },
            "colorscale": [
             [
              0,
              "#0d0887"
             ],
             [
              0.1111111111111111,
              "#46039f"
             ],
             [
              0.2222222222222222,
              "#7201a8"
             ],
             [
              0.3333333333333333,
              "#9c179e"
             ],
             [
              0.4444444444444444,
              "#bd3786"
             ],
             [
              0.5555555555555556,
              "#d8576b"
             ],
             [
              0.6666666666666666,
              "#ed7953"
             ],
             [
              0.7777777777777778,
              "#fb9f3a"
             ],
             [
              0.8888888888888888,
              "#fdca26"
             ],
             [
              1,
              "#f0f921"
             ]
            ],
            "type": "heatmapgl"
           }
          ],
          "histogram": [
           {
            "marker": {
             "colorbar": {
              "outlinewidth": 0,
              "ticks": ""
             }
            },
            "type": "histogram"
           }
          ],
          "histogram2d": [
           {
            "colorbar": {
             "outlinewidth": 0,
             "ticks": ""
            },
            "colorscale": [
             [
              0,
              "#0d0887"
             ],
             [
              0.1111111111111111,
              "#46039f"
             ],
             [
              0.2222222222222222,
              "#7201a8"
             ],
             [
              0.3333333333333333,
              "#9c179e"
             ],
             [
              0.4444444444444444,
              "#bd3786"
             ],
             [
              0.5555555555555556,
              "#d8576b"
             ],
             [
              0.6666666666666666,
              "#ed7953"
             ],
             [
              0.7777777777777778,
              "#fb9f3a"
             ],
             [
              0.8888888888888888,
              "#fdca26"
             ],
             [
              1,
              "#f0f921"
             ]
            ],
            "type": "histogram2d"
           }
          ],
          "histogram2dcontour": [
           {
            "colorbar": {
             "outlinewidth": 0,
             "ticks": ""
            },
            "colorscale": [
             [
              0,
              "#0d0887"
             ],
             [
              0.1111111111111111,
              "#46039f"
             ],
             [
              0.2222222222222222,
              "#7201a8"
             ],
             [
              0.3333333333333333,
              "#9c179e"
             ],
             [
              0.4444444444444444,
              "#bd3786"
             ],
             [
              0.5555555555555556,
              "#d8576b"
             ],
             [
              0.6666666666666666,
              "#ed7953"
             ],
             [
              0.7777777777777778,
              "#fb9f3a"
             ],
             [
              0.8888888888888888,
              "#fdca26"
             ],
             [
              1,
              "#f0f921"
             ]
            ],
            "type": "histogram2dcontour"
           }
          ],
          "mesh3d": [
           {
            "colorbar": {
             "outlinewidth": 0,
             "ticks": ""
            },
            "type": "mesh3d"
           }
          ],
          "parcoords": [
           {
            "line": {
             "colorbar": {
              "outlinewidth": 0,
              "ticks": ""
             }
            },
            "type": "parcoords"
           }
          ],
          "pie": [
           {
            "automargin": true,
            "type": "pie"
           }
          ],
          "scatter": [
           {
            "marker": {
             "colorbar": {
              "outlinewidth": 0,
              "ticks": ""
             }
            },
            "type": "scatter"
           }
          ],
          "scatter3d": [
           {
            "line": {
             "colorbar": {
              "outlinewidth": 0,
              "ticks": ""
             }
            },
            "marker": {
             "colorbar": {
              "outlinewidth": 0,
              "ticks": ""
             }
            },
            "type": "scatter3d"
           }
          ],
          "scattercarpet": [
           {
            "marker": {
             "colorbar": {
              "outlinewidth": 0,
              "ticks": ""
             }
            },
            "type": "scattercarpet"
           }
          ],
          "scattergeo": [
           {
            "marker": {
             "colorbar": {
              "outlinewidth": 0,
              "ticks": ""
             }
            },
            "type": "scattergeo"
           }
          ],
          "scattergl": [
           {
            "marker": {
             "colorbar": {
              "outlinewidth": 0,
              "ticks": ""
             }
            },
            "type": "scattergl"
           }
          ],
          "scattermapbox": [
           {
            "marker": {
             "colorbar": {
              "outlinewidth": 0,
              "ticks": ""
             }
            },
            "type": "scattermapbox"
           }
          ],
          "scatterpolar": [
           {
            "marker": {
             "colorbar": {
              "outlinewidth": 0,
              "ticks": ""
             }
            },
            "type": "scatterpolar"
           }
          ],
          "scatterpolargl": [
           {
            "marker": {
             "colorbar": {
              "outlinewidth": 0,
              "ticks": ""
             }
            },
            "type": "scatterpolargl"
           }
          ],
          "scatterternary": [
           {
            "marker": {
             "colorbar": {
              "outlinewidth": 0,
              "ticks": ""
             }
            },
            "type": "scatterternary"
           }
          ],
          "surface": [
           {
            "colorbar": {
             "outlinewidth": 0,
             "ticks": ""
            },
            "colorscale": [
             [
              0,
              "#0d0887"
             ],
             [
              0.1111111111111111,
              "#46039f"
             ],
             [
              0.2222222222222222,
              "#7201a8"
             ],
             [
              0.3333333333333333,
              "#9c179e"
             ],
             [
              0.4444444444444444,
              "#bd3786"
             ],
             [
              0.5555555555555556,
              "#d8576b"
             ],
             [
              0.6666666666666666,
              "#ed7953"
             ],
             [
              0.7777777777777778,
              "#fb9f3a"
             ],
             [
              0.8888888888888888,
              "#fdca26"
             ],
             [
              1,
              "#f0f921"
             ]
            ],
            "type": "surface"
           }
          ],
          "table": [
           {
            "cells": {
             "fill": {
              "color": "#EBF0F8"
             },
             "line": {
              "color": "white"
             }
            },
            "header": {
             "fill": {
              "color": "#C8D4E3"
             },
             "line": {
              "color": "white"
             }
            },
            "type": "table"
           }
          ]
         },
         "layout": {
          "annotationdefaults": {
           "arrowcolor": "#2a3f5f",
           "arrowhead": 0,
           "arrowwidth": 1
          },
          "coloraxis": {
           "colorbar": {
            "outlinewidth": 0,
            "ticks": ""
           }
          },
          "colorscale": {
           "diverging": [
            [
             0,
             "#8e0152"
            ],
            [
             0.1,
             "#c51b7d"
            ],
            [
             0.2,
             "#de77ae"
            ],
            [
             0.3,
             "#f1b6da"
            ],
            [
             0.4,
             "#fde0ef"
            ],
            [
             0.5,
             "#f7f7f7"
            ],
            [
             0.6,
             "#e6f5d0"
            ],
            [
             0.7,
             "#b8e186"
            ],
            [
             0.8,
             "#7fbc41"
            ],
            [
             0.9,
             "#4d9221"
            ],
            [
             1,
             "#276419"
            ]
           ],
           "sequential": [
            [
             0,
             "#0d0887"
            ],
            [
             0.1111111111111111,
             "#46039f"
            ],
            [
             0.2222222222222222,
             "#7201a8"
            ],
            [
             0.3333333333333333,
             "#9c179e"
            ],
            [
             0.4444444444444444,
             "#bd3786"
            ],
            [
             0.5555555555555556,
             "#d8576b"
            ],
            [
             0.6666666666666666,
             "#ed7953"
            ],
            [
             0.7777777777777778,
             "#fb9f3a"
            ],
            [
             0.8888888888888888,
             "#fdca26"
            ],
            [
             1,
             "#f0f921"
            ]
           ],
           "sequentialminus": [
            [
             0,
             "#0d0887"
            ],
            [
             0.1111111111111111,
             "#46039f"
            ],
            [
             0.2222222222222222,
             "#7201a8"
            ],
            [
             0.3333333333333333,
             "#9c179e"
            ],
            [
             0.4444444444444444,
             "#bd3786"
            ],
            [
             0.5555555555555556,
             "#d8576b"
            ],
            [
             0.6666666666666666,
             "#ed7953"
            ],
            [
             0.7777777777777778,
             "#fb9f3a"
            ],
            [
             0.8888888888888888,
             "#fdca26"
            ],
            [
             1,
             "#f0f921"
            ]
           ]
          },
          "colorway": [
           "#636efa",
           "#EF553B",
           "#00cc96",
           "#ab63fa",
           "#FFA15A",
           "#19d3f3",
           "#FF6692",
           "#B6E880",
           "#FF97FF",
           "#FECB52"
          ],
          "font": {
           "color": "#2a3f5f"
          },
          "geo": {
           "bgcolor": "white",
           "lakecolor": "white",
           "landcolor": "#E5ECF6",
           "showlakes": true,
           "showland": true,
           "subunitcolor": "white"
          },
          "hoverlabel": {
           "align": "left"
          },
          "hovermode": "closest",
          "mapbox": {
           "style": "light"
          },
          "paper_bgcolor": "white",
          "plot_bgcolor": "#E5ECF6",
          "polar": {
           "angularaxis": {
            "gridcolor": "white",
            "linecolor": "white",
            "ticks": ""
           },
           "bgcolor": "#E5ECF6",
           "radialaxis": {
            "gridcolor": "white",
            "linecolor": "white",
            "ticks": ""
           }
          },
          "scene": {
           "xaxis": {
            "backgroundcolor": "#E5ECF6",
            "gridcolor": "white",
            "gridwidth": 2,
            "linecolor": "white",
            "showbackground": true,
            "ticks": "",
            "zerolinecolor": "white"
           },
           "yaxis": {
            "backgroundcolor": "#E5ECF6",
            "gridcolor": "white",
            "gridwidth": 2,
            "linecolor": "white",
            "showbackground": true,
            "ticks": "",
            "zerolinecolor": "white"
           },
           "zaxis": {
            "backgroundcolor": "#E5ECF6",
            "gridcolor": "white",
            "gridwidth": 2,
            "linecolor": "white",
            "showbackground": true,
            "ticks": "",
            "zerolinecolor": "white"
           }
          },
          "shapedefaults": {
           "line": {
            "color": "#2a3f5f"
           }
          },
          "ternary": {
           "aaxis": {
            "gridcolor": "white",
            "linecolor": "white",
            "ticks": ""
           },
           "baxis": {
            "gridcolor": "white",
            "linecolor": "white",
            "ticks": ""
           },
           "bgcolor": "#E5ECF6",
           "caxis": {
            "gridcolor": "white",
            "linecolor": "white",
            "ticks": ""
           }
          },
          "title": {
           "x": 0.05
          },
          "xaxis": {
           "automargin": true,
           "gridcolor": "white",
           "linecolor": "white",
           "ticks": "",
           "title": {
            "standoff": 15
           },
           "zerolinecolor": "white",
           "zerolinewidth": 2
          },
          "yaxis": {
           "automargin": true,
           "gridcolor": "white",
           "linecolor": "white",
           "ticks": "",
           "title": {
            "standoff": 15
           },
           "zerolinecolor": "white",
           "zerolinewidth": 2
          }
         }
        },
        "width": 800,
        "xaxis": {
         "anchor": "y",
         "domain": [
          0,
          1
         ]
        },
        "xaxis2": {
         "anchor": "y2",
         "domain": [
          0,
          1
         ]
        },
        "xaxis3": {
         "anchor": "y3",
         "domain": [
          0,
          1
         ]
        },
        "xaxis4": {
         "anchor": "y4",
         "domain": [
          0,
          1
         ]
        },
        "xaxis5": {
         "anchor": "y5",
         "domain": [
          0,
          1
         ]
        },
        "yaxis": {
         "anchor": "x",
         "domain": [
          0.848,
          1
         ]
        },
        "yaxis2": {
         "anchor": "x2",
         "domain": [
          0.6359999999999999,
          0.7879999999999999
         ]
        },
        "yaxis3": {
         "anchor": "x3",
         "domain": [
          0.424,
          0.576
         ]
        },
        "yaxis4": {
         "anchor": "x4",
         "domain": [
          0.212,
          0.364
         ]
        },
        "yaxis5": {
         "anchor": "x5",
         "domain": [
          0,
          0.152
         ]
        }
       }
      },
      "text/html": [
       "<div>\n",
       "        \n",
       "        \n",
       "            <div id=\"94059aa6-9983-4c4a-88e0-efe6f9f5a79e\" class=\"plotly-graph-div\" style=\"height:1000px; width:800px;\"></div>\n",
       "            <script type=\"text/javascript\">\n",
       "                require([\"plotly\"], function(Plotly) {\n",
       "                    window.PLOTLYENV=window.PLOTLYENV || {};\n",
       "                    \n",
       "                if (document.getElementById(\"94059aa6-9983-4c4a-88e0-efe6f9f5a79e\")) {\n",
       "                    Plotly.newPlot(\n",
       "                        '94059aa6-9983-4c4a-88e0-efe6f9f5a79e',\n",
       "                        [{\"name\": \"Boston\", \"type\": \"bar\", \"x\": [2012, 2011, 2017, 2014, 2018, 2013, 2019, 2016, 2015, 2010, 2020], \"xaxis\": \"x\", \"y\": [180, 157, 153, 136, 126, 125, 119, 114, 104, 63, 47], \"yaxis\": \"y\"}, {\"name\": \"Cambridge\", \"type\": \"bar\", \"x\": [2012, 2011, 2017, 2014, 2018, 2013, 2019, 2016, 2015, 2010, 2020], \"xaxis\": \"x2\", \"y\": [180, 157, 153, 136, 126, 125, 119, 114, 104, 63, 47], \"yaxis\": \"y2\"}, {\"name\": \"Chelsea\", \"type\": \"bar\", \"x\": [2012, 2011, 2017, 2014, 2018, 2013, 2019, 2016, 2015, 2010, 2020], \"xaxis\": \"x3\", \"y\": [180, 157, 153, 136, 126, 125, 119, 114, 104, 63, 47], \"yaxis\": \"y3\"}, {\"name\": \"Everett\", \"type\": \"bar\", \"x\": [2012, 2011, 2017, 2014, 2018, 2013, 2019, 2016, 2015, 2010, 2020], \"xaxis\": \"x4\", \"y\": [180, 157, 153, 136, 126, 125, 119, 114, 104, 63, 47], \"yaxis\": \"y4\"}],\n",
       "                        {\"height\": 1000, \"template\": {\"data\": {\"bar\": [{\"error_x\": {\"color\": \"#2a3f5f\"}, \"error_y\": {\"color\": \"#2a3f5f\"}, \"marker\": {\"line\": {\"color\": \"#E5ECF6\", \"width\": 0.5}}, \"type\": \"bar\"}], \"barpolar\": [{\"marker\": {\"line\": {\"color\": \"#E5ECF6\", \"width\": 0.5}}, \"type\": \"barpolar\"}], \"carpet\": [{\"aaxis\": {\"endlinecolor\": \"#2a3f5f\", \"gridcolor\": \"white\", \"linecolor\": \"white\", \"minorgridcolor\": \"white\", \"startlinecolor\": \"#2a3f5f\"}, \"baxis\": {\"endlinecolor\": \"#2a3f5f\", \"gridcolor\": \"white\", \"linecolor\": \"white\", \"minorgridcolor\": \"white\", \"startlinecolor\": \"#2a3f5f\"}, \"type\": \"carpet\"}], \"choropleth\": [{\"colorbar\": {\"outlinewidth\": 0, \"ticks\": \"\"}, \"type\": \"choropleth\"}], \"contour\": [{\"colorbar\": {\"outlinewidth\": 0, \"ticks\": \"\"}, \"colorscale\": [[0.0, \"#0d0887\"], [0.1111111111111111, \"#46039f\"], [0.2222222222222222, \"#7201a8\"], [0.3333333333333333, \"#9c179e\"], [0.4444444444444444, \"#bd3786\"], [0.5555555555555556, \"#d8576b\"], [0.6666666666666666, \"#ed7953\"], [0.7777777777777778, \"#fb9f3a\"], [0.8888888888888888, \"#fdca26\"], [1.0, \"#f0f921\"]], \"type\": \"contour\"}], \"contourcarpet\": [{\"colorbar\": {\"outlinewidth\": 0, \"ticks\": \"\"}, \"type\": \"contourcarpet\"}], \"heatmap\": [{\"colorbar\": {\"outlinewidth\": 0, \"ticks\": \"\"}, \"colorscale\": [[0.0, \"#0d0887\"], [0.1111111111111111, \"#46039f\"], [0.2222222222222222, \"#7201a8\"], [0.3333333333333333, \"#9c179e\"], [0.4444444444444444, \"#bd3786\"], [0.5555555555555556, \"#d8576b\"], [0.6666666666666666, \"#ed7953\"], [0.7777777777777778, \"#fb9f3a\"], [0.8888888888888888, \"#fdca26\"], [1.0, \"#f0f921\"]], \"type\": \"heatmap\"}], \"heatmapgl\": [{\"colorbar\": {\"outlinewidth\": 0, \"ticks\": \"\"}, \"colorscale\": [[0.0, \"#0d0887\"], [0.1111111111111111, \"#46039f\"], [0.2222222222222222, \"#7201a8\"], [0.3333333333333333, \"#9c179e\"], [0.4444444444444444, \"#bd3786\"], [0.5555555555555556, \"#d8576b\"], [0.6666666666666666, \"#ed7953\"], [0.7777777777777778, \"#fb9f3a\"], [0.8888888888888888, \"#fdca26\"], [1.0, \"#f0f921\"]], \"type\": \"heatmapgl\"}], \"histogram\": [{\"marker\": {\"colorbar\": {\"outlinewidth\": 0, \"ticks\": \"\"}}, \"type\": \"histogram\"}], \"histogram2d\": [{\"colorbar\": {\"outlinewidth\": 0, \"ticks\": \"\"}, \"colorscale\": [[0.0, \"#0d0887\"], [0.1111111111111111, \"#46039f\"], [0.2222222222222222, \"#7201a8\"], [0.3333333333333333, \"#9c179e\"], [0.4444444444444444, \"#bd3786\"], [0.5555555555555556, \"#d8576b\"], [0.6666666666666666, \"#ed7953\"], [0.7777777777777778, \"#fb9f3a\"], [0.8888888888888888, \"#fdca26\"], [1.0, \"#f0f921\"]], \"type\": \"histogram2d\"}], \"histogram2dcontour\": [{\"colorbar\": {\"outlinewidth\": 0, \"ticks\": \"\"}, \"colorscale\": [[0.0, \"#0d0887\"], [0.1111111111111111, \"#46039f\"], [0.2222222222222222, \"#7201a8\"], [0.3333333333333333, \"#9c179e\"], [0.4444444444444444, \"#bd3786\"], [0.5555555555555556, \"#d8576b\"], [0.6666666666666666, \"#ed7953\"], [0.7777777777777778, \"#fb9f3a\"], [0.8888888888888888, \"#fdca26\"], [1.0, \"#f0f921\"]], \"type\": \"histogram2dcontour\"}], \"mesh3d\": [{\"colorbar\": {\"outlinewidth\": 0, \"ticks\": \"\"}, \"type\": \"mesh3d\"}], \"parcoords\": [{\"line\": {\"colorbar\": {\"outlinewidth\": 0, \"ticks\": \"\"}}, \"type\": \"parcoords\"}], \"pie\": [{\"automargin\": true, \"type\": \"pie\"}], \"scatter\": [{\"marker\": {\"colorbar\": {\"outlinewidth\": 0, \"ticks\": \"\"}}, \"type\": \"scatter\"}], \"scatter3d\": [{\"line\": {\"colorbar\": {\"outlinewidth\": 0, \"ticks\": \"\"}}, \"marker\": {\"colorbar\": {\"outlinewidth\": 0, \"ticks\": \"\"}}, \"type\": \"scatter3d\"}], \"scattercarpet\": [{\"marker\": {\"colorbar\": {\"outlinewidth\": 0, \"ticks\": \"\"}}, \"type\": \"scattercarpet\"}], \"scattergeo\": [{\"marker\": {\"colorbar\": {\"outlinewidth\": 0, \"ticks\": \"\"}}, \"type\": \"scattergeo\"}], \"scattergl\": [{\"marker\": {\"colorbar\": {\"outlinewidth\": 0, \"ticks\": \"\"}}, \"type\": \"scattergl\"}], \"scattermapbox\": [{\"marker\": {\"colorbar\": {\"outlinewidth\": 0, \"ticks\": \"\"}}, \"type\": \"scattermapbox\"}], \"scatterpolar\": [{\"marker\": {\"colorbar\": {\"outlinewidth\": 0, \"ticks\": \"\"}}, \"type\": \"scatterpolar\"}], \"scatterpolargl\": [{\"marker\": {\"colorbar\": {\"outlinewidth\": 0, \"ticks\": \"\"}}, \"type\": \"scatterpolargl\"}], \"scatterternary\": [{\"marker\": {\"colorbar\": {\"outlinewidth\": 0, \"ticks\": \"\"}}, \"type\": \"scatterternary\"}], \"surface\": [{\"colorbar\": {\"outlinewidth\": 0, \"ticks\": \"\"}, \"colorscale\": [[0.0, \"#0d0887\"], [0.1111111111111111, \"#46039f\"], [0.2222222222222222, \"#7201a8\"], [0.3333333333333333, \"#9c179e\"], [0.4444444444444444, \"#bd3786\"], [0.5555555555555556, \"#d8576b\"], [0.6666666666666666, \"#ed7953\"], [0.7777777777777778, \"#fb9f3a\"], [0.8888888888888888, \"#fdca26\"], [1.0, \"#f0f921\"]], \"type\": \"surface\"}], \"table\": [{\"cells\": {\"fill\": {\"color\": \"#EBF0F8\"}, \"line\": {\"color\": \"white\"}}, \"header\": {\"fill\": {\"color\": \"#C8D4E3\"}, \"line\": {\"color\": \"white\"}}, \"type\": \"table\"}]}, \"layout\": {\"annotationdefaults\": {\"arrowcolor\": \"#2a3f5f\", \"arrowhead\": 0, \"arrowwidth\": 1}, \"coloraxis\": {\"colorbar\": {\"outlinewidth\": 0, \"ticks\": \"\"}}, \"colorscale\": {\"diverging\": [[0, \"#8e0152\"], [0.1, \"#c51b7d\"], [0.2, \"#de77ae\"], [0.3, \"#f1b6da\"], [0.4, \"#fde0ef\"], [0.5, \"#f7f7f7\"], [0.6, \"#e6f5d0\"], [0.7, \"#b8e186\"], [0.8, \"#7fbc41\"], [0.9, \"#4d9221\"], [1, \"#276419\"]], \"sequential\": [[0.0, \"#0d0887\"], [0.1111111111111111, \"#46039f\"], [0.2222222222222222, \"#7201a8\"], [0.3333333333333333, \"#9c179e\"], [0.4444444444444444, \"#bd3786\"], [0.5555555555555556, \"#d8576b\"], [0.6666666666666666, \"#ed7953\"], [0.7777777777777778, \"#fb9f3a\"], [0.8888888888888888, \"#fdca26\"], [1.0, \"#f0f921\"]], \"sequentialminus\": [[0.0, \"#0d0887\"], [0.1111111111111111, \"#46039f\"], [0.2222222222222222, \"#7201a8\"], [0.3333333333333333, \"#9c179e\"], [0.4444444444444444, \"#bd3786\"], [0.5555555555555556, \"#d8576b\"], [0.6666666666666666, \"#ed7953\"], [0.7777777777777778, \"#fb9f3a\"], [0.8888888888888888, \"#fdca26\"], [1.0, \"#f0f921\"]]}, \"colorway\": [\"#636efa\", \"#EF553B\", \"#00cc96\", \"#ab63fa\", \"#FFA15A\", \"#19d3f3\", \"#FF6692\", \"#B6E880\", \"#FF97FF\", \"#FECB52\"], \"font\": {\"color\": \"#2a3f5f\"}, \"geo\": {\"bgcolor\": \"white\", \"lakecolor\": \"white\", \"landcolor\": \"#E5ECF6\", \"showlakes\": true, \"showland\": true, \"subunitcolor\": \"white\"}, \"hoverlabel\": {\"align\": \"left\"}, \"hovermode\": \"closest\", \"mapbox\": {\"style\": \"light\"}, \"paper_bgcolor\": \"white\", \"plot_bgcolor\": \"#E5ECF6\", \"polar\": {\"angularaxis\": {\"gridcolor\": \"white\", \"linecolor\": \"white\", \"ticks\": \"\"}, \"bgcolor\": \"#E5ECF6\", \"radialaxis\": {\"gridcolor\": \"white\", \"linecolor\": \"white\", \"ticks\": \"\"}}, \"scene\": {\"xaxis\": {\"backgroundcolor\": \"#E5ECF6\", \"gridcolor\": \"white\", \"gridwidth\": 2, \"linecolor\": \"white\", \"showbackground\": true, \"ticks\": \"\", \"zerolinecolor\": \"white\"}, \"yaxis\": {\"backgroundcolor\": \"#E5ECF6\", \"gridcolor\": \"white\", \"gridwidth\": 2, \"linecolor\": \"white\", \"showbackground\": true, \"ticks\": \"\", \"zerolinecolor\": \"white\"}, \"zaxis\": {\"backgroundcolor\": \"#E5ECF6\", \"gridcolor\": \"white\", \"gridwidth\": 2, \"linecolor\": \"white\", \"showbackground\": true, \"ticks\": \"\", \"zerolinecolor\": \"white\"}}, \"shapedefaults\": {\"line\": {\"color\": \"#2a3f5f\"}}, \"ternary\": {\"aaxis\": {\"gridcolor\": \"white\", \"linecolor\": \"white\", \"ticks\": \"\"}, \"baxis\": {\"gridcolor\": \"white\", \"linecolor\": \"white\", \"ticks\": \"\"}, \"bgcolor\": \"#E5ECF6\", \"caxis\": {\"gridcolor\": \"white\", \"linecolor\": \"white\", \"ticks\": \"\"}}, \"title\": {\"x\": 0.05}, \"xaxis\": {\"automargin\": true, \"gridcolor\": \"white\", \"linecolor\": \"white\", \"ticks\": \"\", \"title\": {\"standoff\": 15}, \"zerolinecolor\": \"white\", \"zerolinewidth\": 2}, \"yaxis\": {\"automargin\": true, \"gridcolor\": \"white\", \"linecolor\": \"white\", \"ticks\": \"\", \"title\": {\"standoff\": 15}, \"zerolinecolor\": \"white\", \"zerolinewidth\": 2}}}, \"width\": 800, \"xaxis\": {\"anchor\": \"y\", \"domain\": [0.0, 1.0]}, \"xaxis2\": {\"anchor\": \"y2\", \"domain\": [0.0, 1.0]}, \"xaxis3\": {\"anchor\": \"y3\", \"domain\": [0.0, 1.0]}, \"xaxis4\": {\"anchor\": \"y4\", \"domain\": [0.0, 1.0]}, \"xaxis5\": {\"anchor\": \"y5\", \"domain\": [0.0, 1.0]}, \"yaxis\": {\"anchor\": \"x\", \"domain\": [0.848, 1.0]}, \"yaxis2\": {\"anchor\": \"x2\", \"domain\": [0.6359999999999999, 0.7879999999999999]}, \"yaxis3\": {\"anchor\": \"x3\", \"domain\": [0.424, 0.576]}, \"yaxis4\": {\"anchor\": \"x4\", \"domain\": [0.212, 0.364]}, \"yaxis5\": {\"anchor\": \"x5\", \"domain\": [0.0, 0.152]}},\n",
       "                        {\"responsive\": true}\n",
       "                    ).then(function(){\n",
       "                            \n",
       "var gd = document.getElementById('94059aa6-9983-4c4a-88e0-efe6f9f5a79e');\n",
       "var x = new MutationObserver(function (mutations, observer) {{\n",
       "        var display = window.getComputedStyle(gd).display;\n",
       "        if (!display || display === 'none') {{\n",
       "            console.log([gd, 'removed!']);\n",
       "            Plotly.purge(gd);\n",
       "            observer.disconnect();\n",
       "        }}\n",
       "}});\n",
       "\n",
       "// Listen for the removal of the full notebook cells\n",
       "var notebookContainer = gd.closest('#notebook-container');\n",
       "if (notebookContainer) {{\n",
       "    x.observe(notebookContainer, {childList: true});\n",
       "}}\n",
       "\n",
       "// Listen for the clearing of the current output cell\n",
       "var outputEl = gd.closest('.output');\n",
       "if (outputEl) {{\n",
       "    x.observe(outputEl, {childList: true});\n",
       "}}\n",
       "\n",
       "                        })\n",
       "                };\n",
       "                });\n",
       "            </script>\n",
       "        </div>"
      ]
     },
     "metadata": {},
     "output_type": "display_data"
    }
   ],
   "source": [
    "# AREA WISE VISITS PER YEAR\n",
    "# WHAT WAS THE AVERAGE DEMOGRAPHICS ?\n",
    "row=1\n",
    "fig=make_subplots(rows=5,cols=1,specs=[[{\"type\": \"bar\"}],\n",
    "                           [{\"type\": \"bar\"}],\n",
    "                           [{\"type\": \"bar\"}],\n",
    "                        [{\"type\": \"bar\"}],\n",
    "                           [{\"type\": \"bar\"}]])\n",
    "for city,group in df.groupby([\"CITY\"]):\n",
    "    years=df[\"YEAR\"].value_counts()\n",
    "    fig.append_trace(go.Bar(x=years.index,y=years.values,name=city),row=row,col=1)\n",
    "    row+=1\n",
    "    if row>=5:\n",
    "        break\n",
    "\n",
    "fig.update_layout(height=1000,width=800)\n",
    "fig.show()\n",
    "\n",
    "\n",
    "\n"
   ]
  },
  {
   "cell_type": "code",
   "execution_count": 286,
   "metadata": {},
   "outputs": [
    {
     "data": {
      "text/html": [
       "<div>\n",
       "<style scoped>\n",
       "    .dataframe tbody tr th:only-of-type {\n",
       "        vertical-align: middle;\n",
       "    }\n",
       "\n",
       "    .dataframe tbody tr th {\n",
       "        vertical-align: top;\n",
       "    }\n",
       "\n",
       "    .dataframe thead th {\n",
       "        text-align: right;\n",
       "    }\n",
       "</style>\n",
       "<table border=\"1\" class=\"dataframe\">\n",
       "  <thead>\n",
       "    <tr style=\"text-align: right;\">\n",
       "      <th></th>\n",
       "      <th>Id</th>\n",
       "      <th>START</th>\n",
       "      <th>STOP</th>\n",
       "      <th>PATIENT_NAME</th>\n",
       "      <th>AGE</th>\n",
       "      <th>CITY</th>\n",
       "      <th>DESCRIPTION</th>\n",
       "      <th>REASON</th>\n",
       "      <th>ENCOUNTERCLASS</th>\n",
       "      <th>BASE_ENCOUNTER_COST</th>\n",
       "      <th>PAYER_COVERAGE</th>\n",
       "      <th>ORG_NAME</th>\n",
       "      <th>ORG_CITY</th>\n",
       "      <th>REVENUE</th>\n",
       "      <th>PROVIDER_NAME</th>\n",
       "      <th>SPECIALITY</th>\n",
       "      <th>PAYER_NAME</th>\n",
       "      <th>YEAR</th>\n",
       "    </tr>\n",
       "  </thead>\n",
       "  <tbody>\n",
       "    <tr>\n",
       "      <th>632</th>\n",
       "      <td>0f2eccff-7741-4ff2-a13a-656cbd78394a</td>\n",
       "      <td>2010-12-17 14:19:13+00:00</td>\n",
       "      <td>2010-12-17T19:34:13Z</td>\n",
       "      <td>Lisbeth69 Hand679</td>\n",
       "      <td>37.0</td>\n",
       "      <td>Malden</td>\n",
       "      <td>Prenatal initial visit</td>\n",
       "      <td>Normal pregnancy</td>\n",
       "      <td>ambulatory</td>\n",
       "      <td>129.16</td>\n",
       "      <td>64.16</td>\n",
       "      <td>HALLMARK HEALTH SYSTEM</td>\n",
       "      <td>MELROSE</td>\n",
       "      <td>561587.35</td>\n",
       "      <td>Vern731 Powlowski563</td>\n",
       "      <td>GENERAL PRACTICE</td>\n",
       "      <td>Aetna</td>\n",
       "      <td>2010</td>\n",
       "    </tr>\n",
       "    <tr>\n",
       "      <th>633</th>\n",
       "      <td>a8f5aec6-5b20-4c6e-b79b-4adeac18f978</td>\n",
       "      <td>2011-01-14 14:19:13+00:00</td>\n",
       "      <td>2011-01-14T15:19:13Z</td>\n",
       "      <td>Lisbeth69 Hand679</td>\n",
       "      <td>37.0</td>\n",
       "      <td>Malden</td>\n",
       "      <td>Prenatal visit</td>\n",
       "      <td>Normal pregnancy</td>\n",
       "      <td>ambulatory</td>\n",
       "      <td>129.16</td>\n",
       "      <td>64.16</td>\n",
       "      <td>HALLMARK HEALTH SYSTEM</td>\n",
       "      <td>MELROSE</td>\n",
       "      <td>561587.35</td>\n",
       "      <td>Vern731 Powlowski563</td>\n",
       "      <td>GENERAL PRACTICE</td>\n",
       "      <td>Aetna</td>\n",
       "      <td>2011</td>\n",
       "    </tr>\n",
       "    <tr>\n",
       "      <th>634</th>\n",
       "      <td>1bd80074-32d8-454f-916a-4aff32595a81</td>\n",
       "      <td>2011-02-11 14:19:13+00:00</td>\n",
       "      <td>2011-02-11T15:34:13Z</td>\n",
       "      <td>Lisbeth69 Hand679</td>\n",
       "      <td>37.0</td>\n",
       "      <td>Malden</td>\n",
       "      <td>Prenatal visit</td>\n",
       "      <td>Normal pregnancy</td>\n",
       "      <td>ambulatory</td>\n",
       "      <td>129.16</td>\n",
       "      <td>64.16</td>\n",
       "      <td>HALLMARK HEALTH SYSTEM</td>\n",
       "      <td>MELROSE</td>\n",
       "      <td>561587.35</td>\n",
       "      <td>Vern731 Powlowski563</td>\n",
       "      <td>GENERAL PRACTICE</td>\n",
       "      <td>Aetna</td>\n",
       "      <td>2011</td>\n",
       "    </tr>\n",
       "    <tr>\n",
       "      <th>635</th>\n",
       "      <td>2e9c5abc-f9d1-45fa-9a98-69f99fb245d9</td>\n",
       "      <td>2011-03-11 14:19:13+00:00</td>\n",
       "      <td>2011-03-11T15:04:13Z</td>\n",
       "      <td>Lisbeth69 Hand679</td>\n",
       "      <td>37.0</td>\n",
       "      <td>Malden</td>\n",
       "      <td>Prenatal visit</td>\n",
       "      <td>Normal pregnancy</td>\n",
       "      <td>ambulatory</td>\n",
       "      <td>129.16</td>\n",
       "      <td>64.16</td>\n",
       "      <td>HALLMARK HEALTH SYSTEM</td>\n",
       "      <td>MELROSE</td>\n",
       "      <td>561587.35</td>\n",
       "      <td>Vern731 Powlowski563</td>\n",
       "      <td>GENERAL PRACTICE</td>\n",
       "      <td>Aetna</td>\n",
       "      <td>2011</td>\n",
       "    </tr>\n",
       "    <tr>\n",
       "      <th>636</th>\n",
       "      <td>61b102d3-fa48-49a8-b6bc-9214a052b6df</td>\n",
       "      <td>2011-04-08 14:19:13+00:00</td>\n",
       "      <td>2011-04-08T15:04:13Z</td>\n",
       "      <td>Lisbeth69 Hand679</td>\n",
       "      <td>37.0</td>\n",
       "      <td>Malden</td>\n",
       "      <td>Prenatal visit</td>\n",
       "      <td>Normal pregnancy</td>\n",
       "      <td>ambulatory</td>\n",
       "      <td>129.16</td>\n",
       "      <td>64.16</td>\n",
       "      <td>HALLMARK HEALTH SYSTEM</td>\n",
       "      <td>MELROSE</td>\n",
       "      <td>561587.35</td>\n",
       "      <td>Vern731 Powlowski563</td>\n",
       "      <td>GENERAL PRACTICE</td>\n",
       "      <td>Aetna</td>\n",
       "      <td>2011</td>\n",
       "    </tr>\n",
       "    <tr>\n",
       "      <th>...</th>\n",
       "      <td>...</td>\n",
       "      <td>...</td>\n",
       "      <td>...</td>\n",
       "      <td>...</td>\n",
       "      <td>...</td>\n",
       "      <td>...</td>\n",
       "      <td>...</td>\n",
       "      <td>...</td>\n",
       "      <td>...</td>\n",
       "      <td>...</td>\n",
       "      <td>...</td>\n",
       "      <td>...</td>\n",
       "      <td>...</td>\n",
       "      <td>...</td>\n",
       "      <td>...</td>\n",
       "      <td>...</td>\n",
       "      <td>...</td>\n",
       "      <td>...</td>\n",
       "    </tr>\n",
       "    <tr>\n",
       "      <th>52475</th>\n",
       "      <td>eb1b8c76-56f4-46ea-9e5f-5f0363db9858</td>\n",
       "      <td>2013-01-07 12:14:09+00:00</td>\n",
       "      <td>2013-01-07T12:29:09Z</td>\n",
       "      <td>Hubert238 Kihn564</td>\n",
       "      <td>12.0</td>\n",
       "      <td>Boston</td>\n",
       "      <td>Encounter for check up (procedure)</td>\n",
       "      <td>NaN</td>\n",
       "      <td>outpatient</td>\n",
       "      <td>129.16</td>\n",
       "      <td>0.00</td>\n",
       "      <td>HALLMARK HEALTH SYSTEM</td>\n",
       "      <td>MELROSE</td>\n",
       "      <td>561587.35</td>\n",
       "      <td>Vern731 Powlowski563</td>\n",
       "      <td>GENERAL PRACTICE</td>\n",
       "      <td>UnitedHealthcare</td>\n",
       "      <td>2013</td>\n",
       "    </tr>\n",
       "    <tr>\n",
       "      <th>52476</th>\n",
       "      <td>fbb8bdc8-f506-4c1f-b899-0da2b4859a1a</td>\n",
       "      <td>2013-01-06 12:14:09+00:00</td>\n",
       "      <td>2013-01-06T12:29:09Z</td>\n",
       "      <td>Hubert238 Kihn564</td>\n",
       "      <td>12.0</td>\n",
       "      <td>Boston</td>\n",
       "      <td>Encounter for symptom</td>\n",
       "      <td>Acute bacterial sinusitis (disorder)</td>\n",
       "      <td>ambulatory</td>\n",
       "      <td>129.16</td>\n",
       "      <td>59.16</td>\n",
       "      <td>HALLMARK HEALTH SYSTEM</td>\n",
       "      <td>MELROSE</td>\n",
       "      <td>561587.35</td>\n",
       "      <td>Vern731 Powlowski563</td>\n",
       "      <td>GENERAL PRACTICE</td>\n",
       "      <td>UnitedHealthcare</td>\n",
       "      <td>2013</td>\n",
       "    </tr>\n",
       "    <tr>\n",
       "      <th>52478</th>\n",
       "      <td>b35110b5-20b7-4ebf-84c5-62bf97ed94a3</td>\n",
       "      <td>2013-08-14 12:14:09+00:00</td>\n",
       "      <td>2013-08-14T12:29:09Z</td>\n",
       "      <td>Hubert238 Kihn564</td>\n",
       "      <td>12.0</td>\n",
       "      <td>Boston</td>\n",
       "      <td>Encounter for symptom</td>\n",
       "      <td>Viral sinusitis (disorder)</td>\n",
       "      <td>ambulatory</td>\n",
       "      <td>129.16</td>\n",
       "      <td>59.16</td>\n",
       "      <td>HALLMARK HEALTH SYSTEM</td>\n",
       "      <td>MELROSE</td>\n",
       "      <td>561587.35</td>\n",
       "      <td>Vern731 Powlowski563</td>\n",
       "      <td>GENERAL PRACTICE</td>\n",
       "      <td>UnitedHealthcare</td>\n",
       "      <td>2013</td>\n",
       "    </tr>\n",
       "    <tr>\n",
       "      <th>52479</th>\n",
       "      <td>9a384fbd-3e24-41e6-b338-330a6efdddeb</td>\n",
       "      <td>2013-12-27 12:14:09+00:00</td>\n",
       "      <td>2013-12-27T12:29:09Z</td>\n",
       "      <td>Hubert238 Kihn564</td>\n",
       "      <td>12.0</td>\n",
       "      <td>Boston</td>\n",
       "      <td>Encounter for symptom</td>\n",
       "      <td>Viral sinusitis (disorder)</td>\n",
       "      <td>ambulatory</td>\n",
       "      <td>129.16</td>\n",
       "      <td>59.16</td>\n",
       "      <td>HALLMARK HEALTH SYSTEM</td>\n",
       "      <td>MELROSE</td>\n",
       "      <td>561587.35</td>\n",
       "      <td>Vern731 Powlowski563</td>\n",
       "      <td>GENERAL PRACTICE</td>\n",
       "      <td>UnitedHealthcare</td>\n",
       "      <td>2013</td>\n",
       "    </tr>\n",
       "    <tr>\n",
       "      <th>52484</th>\n",
       "      <td>2283a706-fa4d-4e8e-b6a9-09fce989a5a8</td>\n",
       "      <td>2018-02-16 12:14:09+00:00</td>\n",
       "      <td>2018-02-16T12:29:09Z</td>\n",
       "      <td>Hubert238 Kihn564</td>\n",
       "      <td>12.0</td>\n",
       "      <td>Boston</td>\n",
       "      <td>Encounter for symptom</td>\n",
       "      <td>Viral sinusitis (disorder)</td>\n",
       "      <td>ambulatory</td>\n",
       "      <td>129.16</td>\n",
       "      <td>59.16</td>\n",
       "      <td>HALLMARK HEALTH SYSTEM</td>\n",
       "      <td>MELROSE</td>\n",
       "      <td>561587.35</td>\n",
       "      <td>Vern731 Powlowski563</td>\n",
       "      <td>GENERAL PRACTICE</td>\n",
       "      <td>UnitedHealthcare</td>\n",
       "      <td>2018</td>\n",
       "    </tr>\n",
       "  </tbody>\n",
       "</table>\n",
       "<p>1324 rows × 18 columns</p>\n",
       "</div>"
      ],
      "text/plain": [
       "                                         Id                     START  \\\n",
       "632    0f2eccff-7741-4ff2-a13a-656cbd78394a 2010-12-17 14:19:13+00:00   \n",
       "633    a8f5aec6-5b20-4c6e-b79b-4adeac18f978 2011-01-14 14:19:13+00:00   \n",
       "634    1bd80074-32d8-454f-916a-4aff32595a81 2011-02-11 14:19:13+00:00   \n",
       "635    2e9c5abc-f9d1-45fa-9a98-69f99fb245d9 2011-03-11 14:19:13+00:00   \n",
       "636    61b102d3-fa48-49a8-b6bc-9214a052b6df 2011-04-08 14:19:13+00:00   \n",
       "...                                     ...                       ...   \n",
       "52475  eb1b8c76-56f4-46ea-9e5f-5f0363db9858 2013-01-07 12:14:09+00:00   \n",
       "52476  fbb8bdc8-f506-4c1f-b899-0da2b4859a1a 2013-01-06 12:14:09+00:00   \n",
       "52478  b35110b5-20b7-4ebf-84c5-62bf97ed94a3 2013-08-14 12:14:09+00:00   \n",
       "52479  9a384fbd-3e24-41e6-b338-330a6efdddeb 2013-12-27 12:14:09+00:00   \n",
       "52484  2283a706-fa4d-4e8e-b6a9-09fce989a5a8 2018-02-16 12:14:09+00:00   \n",
       "\n",
       "                       STOP       PATIENT_NAME   AGE    CITY  \\\n",
       "632    2010-12-17T19:34:13Z  Lisbeth69 Hand679  37.0  Malden   \n",
       "633    2011-01-14T15:19:13Z  Lisbeth69 Hand679  37.0  Malden   \n",
       "634    2011-02-11T15:34:13Z  Lisbeth69 Hand679  37.0  Malden   \n",
       "635    2011-03-11T15:04:13Z  Lisbeth69 Hand679  37.0  Malden   \n",
       "636    2011-04-08T15:04:13Z  Lisbeth69 Hand679  37.0  Malden   \n",
       "...                     ...                ...   ...     ...   \n",
       "52475  2013-01-07T12:29:09Z  Hubert238 Kihn564  12.0  Boston   \n",
       "52476  2013-01-06T12:29:09Z  Hubert238 Kihn564  12.0  Boston   \n",
       "52478  2013-08-14T12:29:09Z  Hubert238 Kihn564  12.0  Boston   \n",
       "52479  2013-12-27T12:29:09Z  Hubert238 Kihn564  12.0  Boston   \n",
       "52484  2018-02-16T12:29:09Z  Hubert238 Kihn564  12.0  Boston   \n",
       "\n",
       "                              DESCRIPTION  \\\n",
       "632                Prenatal initial visit   \n",
       "633                        Prenatal visit   \n",
       "634                        Prenatal visit   \n",
       "635                        Prenatal visit   \n",
       "636                        Prenatal visit   \n",
       "...                                   ...   \n",
       "52475  Encounter for check up (procedure)   \n",
       "52476               Encounter for symptom   \n",
       "52478               Encounter for symptom   \n",
       "52479               Encounter for symptom   \n",
       "52484               Encounter for symptom   \n",
       "\n",
       "                                     REASON ENCOUNTERCLASS  \\\n",
       "632                        Normal pregnancy     ambulatory   \n",
       "633                        Normal pregnancy     ambulatory   \n",
       "634                        Normal pregnancy     ambulatory   \n",
       "635                        Normal pregnancy     ambulatory   \n",
       "636                        Normal pregnancy     ambulatory   \n",
       "...                                     ...            ...   \n",
       "52475                                   NaN     outpatient   \n",
       "52476  Acute bacterial sinusitis (disorder)     ambulatory   \n",
       "52478            Viral sinusitis (disorder)     ambulatory   \n",
       "52479            Viral sinusitis (disorder)     ambulatory   \n",
       "52484            Viral sinusitis (disorder)     ambulatory   \n",
       "\n",
       "       BASE_ENCOUNTER_COST  PAYER_COVERAGE                ORG_NAME ORG_CITY  \\\n",
       "632                 129.16           64.16  HALLMARK HEALTH SYSTEM  MELROSE   \n",
       "633                 129.16           64.16  HALLMARK HEALTH SYSTEM  MELROSE   \n",
       "634                 129.16           64.16  HALLMARK HEALTH SYSTEM  MELROSE   \n",
       "635                 129.16           64.16  HALLMARK HEALTH SYSTEM  MELROSE   \n",
       "636                 129.16           64.16  HALLMARK HEALTH SYSTEM  MELROSE   \n",
       "...                    ...             ...                     ...      ...   \n",
       "52475               129.16            0.00  HALLMARK HEALTH SYSTEM  MELROSE   \n",
       "52476               129.16           59.16  HALLMARK HEALTH SYSTEM  MELROSE   \n",
       "52478               129.16           59.16  HALLMARK HEALTH SYSTEM  MELROSE   \n",
       "52479               129.16           59.16  HALLMARK HEALTH SYSTEM  MELROSE   \n",
       "52484               129.16           59.16  HALLMARK HEALTH SYSTEM  MELROSE   \n",
       "\n",
       "         REVENUE         PROVIDER_NAME        SPECIALITY        PAYER_NAME  \\\n",
       "632    561587.35  Vern731 Powlowski563  GENERAL PRACTICE             Aetna   \n",
       "633    561587.35  Vern731 Powlowski563  GENERAL PRACTICE             Aetna   \n",
       "634    561587.35  Vern731 Powlowski563  GENERAL PRACTICE             Aetna   \n",
       "635    561587.35  Vern731 Powlowski563  GENERAL PRACTICE             Aetna   \n",
       "636    561587.35  Vern731 Powlowski563  GENERAL PRACTICE             Aetna   \n",
       "...          ...                   ...               ...               ...   \n",
       "52475  561587.35  Vern731 Powlowski563  GENERAL PRACTICE  UnitedHealthcare   \n",
       "52476  561587.35  Vern731 Powlowski563  GENERAL PRACTICE  UnitedHealthcare   \n",
       "52478  561587.35  Vern731 Powlowski563  GENERAL PRACTICE  UnitedHealthcare   \n",
       "52479  561587.35  Vern731 Powlowski563  GENERAL PRACTICE  UnitedHealthcare   \n",
       "52484  561587.35  Vern731 Powlowski563  GENERAL PRACTICE  UnitedHealthcare   \n",
       "\n",
       "       YEAR  \n",
       "632    2010  \n",
       "633    2011  \n",
       "634    2011  \n",
       "635    2011  \n",
       "636    2011  \n",
       "...     ...  \n",
       "52475  2013  \n",
       "52476  2013  \n",
       "52478  2013  \n",
       "52479  2013  \n",
       "52484  2018  \n",
       "\n",
       "[1324 rows x 18 columns]"
      ]
     },
     "execution_count": 286,
     "metadata": {},
     "output_type": "execute_result"
    }
   ],
   "source": [
    "df"
   ]
  },
  {
   "cell_type": "code",
   "execution_count": null,
   "metadata": {},
   "outputs": [],
   "source": []
  }
 ],
 "metadata": {
  "kernelspec": {
   "display_name": "Python 3",
   "language": "python",
   "name": "python3"
  },
  "language_info": {
   "codemirror_mode": {
    "name": "ipython",
    "version": 3
   },
   "file_extension": ".py",
   "mimetype": "text/x-python",
   "name": "python",
   "nbconvert_exporter": "python",
   "pygments_lexer": "ipython3",
   "version": "3.7.0"
  }
 },
 "nbformat": 4,
 "nbformat_minor": 4
}
