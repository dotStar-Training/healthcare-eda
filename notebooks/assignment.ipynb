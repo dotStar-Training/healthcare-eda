{
 "cells": [
  {
   "cell_type": "code",
   "execution_count": 11,
   "metadata": {},
   "outputs": [],
   "source": [
    "import pandas as pd\n",
    "from pathlib import os\n",
    "import plotly.graph_objects as go\n",
    "import plotly.express as px\n",
    "from plotly.subplots import make_subplots"
   ]
  },
  {
   "cell_type": "code",
   "execution_count": 2,
   "metadata": {},
   "outputs": [
    {
     "data": {
      "text/plain": [
       "{'procedures': '../data/procedures.csv',\n",
       " 'allergies': '../data/allergies.csv',\n",
       " 'medications': '../data/medications.csv',\n",
       " '': '../data/.ipynb_checkpoints',\n",
       " 'immunizations': '../data/immunizations.csv',\n",
       " 'providers': '../data/providers.csv',\n",
       " 'payers': '../data/payers.csv',\n",
       " 'devices': '../data/devices.csv',\n",
       " 'careplans': '../data/careplans.csv',\n",
       " 'payer_transitions': '../data/payer_transitions.csv',\n",
       " 'imaging_studies': '../data/imaging_studies.csv',\n",
       " 'observations': '../data/observations.csv',\n",
       " 'patients': '../data/patients.csv',\n",
       " 'encounters': '../data/encounters.csv',\n",
       " 'organizations': '../data/organizations.csv',\n",
       " 'conditions': '../data/conditions.csv'}"
      ]
     },
     "execution_count": 2,
     "metadata": {},
     "output_type": "execute_result"
    }
   ],
   "source": [
    "path = \"../data\"\n",
    "files = {i.split(\".\")[0]:os.path.join(path, i) for i in os.listdir(path)}\n",
    "files"
   ]
  },
  {
   "cell_type": "markdown",
   "metadata": {},
   "source": [
    "## STEP I : BASIC CLEANING AND DATA AGGREGATION"
   ]
  },
  {
   "cell_type": "code",
   "execution_count": 3,
   "metadata": {},
   "outputs": [],
   "source": [
    "# READ THE ENCOUNTERS CSV FILE IN A DATAFRAME CALLED 'encounters' AND TAKE A LOOK AT IT.\n",
    "__________ = pd.......(files['encounters'])\n",
    "__________.head()"
   ]
  },
  {
   "cell_type": "code",
   "execution_count": null,
   "metadata": {},
   "outputs": [],
   "source": [
    "# DECIDE WHAT OTHER CSVs NEED TO BE MERGED INTO THIS?\n",
    "# RENAME THE COLUMNS IN THE 'encounters' DATFRAME ; PATIENT ---> PATIENT_ID, etc.\n",
    "encounters= encounters.r_ _ n_ _ e(c....={})\n"
   ]
  },
  {
   "cell_type": "code",
   "execution_count": 4,
   "metadata": {},
   "outputs": [],
   "source": [
    "# READ THE ORGANISATIONS DATAFRAME INTO 'orgs' DATAFRAME\n",
    "orgs = __________________"
   ]
  },
  {
   "cell_type": "code",
   "execution_count": null,
   "metadata": {},
   "outputs": [],
   "source": [
    "# RENAME THE COLUMNS \n",
    "# AND SET THE INDEX AS THE ORG ID\n",
    "orgs = orgs._e_--i_ _ e_()\n"
   ]
  },
  {
   "cell_type": "code",
   "execution_count": null,
   "metadata": {},
   "outputs": [],
   "source": [
    "# DROP UNNECCESSARY COLUMNS\n",
    "orgs = orgs._ _ o_()"
   ]
  },
  {
   "cell_type": "code",
   "execution_count": 5,
   "metadata": {},
   "outputs": [],
   "source": [
    "# DO THE SAME FOR THE 'payers' DATA FRAME'\n"
   ]
  },
  {
   "cell_type": "code",
   "execution_count": 6,
   "metadata": {},
   "outputs": [],
   "source": [
    "# DO THE SAME FOR THE 'providers' DATA FRAME'"
   ]
  },
  {
   "cell_type": "code",
   "execution_count": 7,
   "metadata": {},
   "outputs": [],
   "source": [
    "# DO THE SAME FOR 'patients' DATAFRAME\n",
    "patients = ___________________"
   ]
  },
  {
   "cell_type": "code",
   "execution_count": null,
   "metadata": {},
   "outputs": [],
   "source": [
    "import datetime\n",
    "current_year=datetime.datetime.now().year\n",
    "\n",
    "# CONVERT 'BIRTHDATE' TO DATETIME\n",
    "patients['BIRTHDATE']=pd.to______________()\n",
    "\n",
    "# CREATE A COLUMN 'age' THAT CALCULATES THE PERSON'S AGE\n"
   ]
  },
  {
   "cell_type": "code",
   "execution_count": null,
   "metadata": {},
   "outputs": [],
   "source": [
    "# JOIN COLUMNS 'FIRST' AND 'LAST' TO CREATE A NEW COLUMN CALLED 'PATIENT_NAME'\n",
    "\n",
    "patients[\"PATIENT_NAME\"] = __________________.str.cat()\n",
    "# DROP EXTRA COLUMNS"
   ]
  },
  {
   "cell_type": "code",
   "execution_count": null,
   "metadata": {},
   "outputs": [],
   "source": [
    "# JOIN ALL THE DATAFRAMES ONE BY ONE\n",
    "encounters = encounters.join(orgs,on='_________')\n",
    "#join providers,patients and payers"
   ]
  },
  {
   "cell_type": "code",
   "execution_count": null,
   "metadata": {},
   "outputs": [],
   "source": [
    "# CONVERT THE 'START' COLUMN TO DATETIME AND \n",
    "# CREATE A COLUMN CALLED YEAR WHICH JUST EXTRACTS THE YEAR FROM THE START COLUMN\n",
    "ecounters['START'] = pd.to________________()\n"
   ]
  },
  {
   "cell_type": "code",
   "execution_count": 1,
   "metadata": {},
   "outputs": [],
   "source": [
    "# SELECT ONLY THOSE ROWS WHERE YEAR > 2010"
   ]
  },
  {
   "cell_type": "markdown",
   "metadata": {},
   "source": [
    "## VISUALIZATIONS"
   ]
  },
  {
   "cell_type": "code",
   "execution_count": 2,
   "metadata": {},
   "outputs": [],
   "source": [
    "# In this assignment we're only going to go with a particular organisation"
   ]
  },
  {
   "cell_type": "code",
   "execution_count": null,
   "metadata": {},
   "outputs": [],
   "source": [
    "# ANIMATIONS:\n",
    "# lets look at a simple animation\n",
    "# we would like to know how the number of encounters handled by each payer changed from 2010 to 2020\n",
    "# lets create a simple animation for this\n",
    "\n",
    "# group by payer name and the year\n",
    "counts=____________________________________\n",
    "\n",
    "px.bar(counts,x=____________,y=________,animation_frame=_______)\n"
   ]
  },
  {
   "cell_type": "code",
   "execution_count": 3,
   "metadata": {},
   "outputs": [],
   "source": [
    "# SELECT ROWS WHERE ORG_NAME ='HALLMARK HEALTH SYSTEM'\n",
    "df = encounters[_______________]"
   ]
  },
  {
   "cell_type": "code",
   "execution_count": 4,
   "metadata": {},
   "outputs": [],
   "source": [
    "# Lets do a simple visualization using a bar graph\n",
    "# HOW MANY ENCOUNTERS HAPPEND EVERY YEAR FROM 2010 TO 2020 at the organisation\n",
    "# groupby year and count the number of rows\n",
    "num_encounters=__________________\n",
    "num_encounters"
   ]
  },
  {
   "cell_type": "code",
   "execution_count": null,
   "metadata": {},
   "outputs": [],
   "source": [
    "px.bar(num_encounters,x=____________, y=_____________, labels={})"
   ]
  },
  {
   "cell_type": "code",
   "execution_count": 5,
   "metadata": {},
   "outputs": [],
   "source": [
    "# Now, a slightly more complex bar graph, or the stacked graph\n",
    "# we need to know how many cases were covered by each payer every year at the organisation"
   ]
  },
  {
   "cell_type": "code",
   "execution_count": null,
   "metadata": {},
   "outputs": [],
   "source": [
    "# groupby year and then the payer name and get the count\n",
    "payers = ____________________\n",
    "px.bar(payers,x=__________,y=_________,labels= _______ ,hover_data=_________)\n"
   ]
  },
  {
   "cell_type": "code",
   "execution_count": null,
   "metadata": {},
   "outputs": [],
   "source": [
    "# LETS MOVE TO SUBPLOTS\n",
    "# We need to know what were the major reasons that the patients visit the hospital every year\n",
    "# All of this has to be in the same subplot\n",
    "# lets define the subplot first\n",
    "\n",
    "fig =make_subplot(row=_____________,col=____________,specs=__________)\n"
   ]
  },
  {
   "cell_type": "code",
   "execution_count": null,
   "metadata": {},
   "outputs": [],
   "source": [
    "row = 1\n",
    "# group by year and \n",
    "# iter through the groups to get a count for each reason\n",
    "for ______ in df.groupby():\n",
    "    reasons = _________________ \n",
    "    sub_fig = px.Pie(title=______,labels=____________,values=__________,textinfo=\"none\")\n",
    "    fig.append_trace(sub_fig,row=_______,col=1)\n",
    "    \n",
    "fig.update_layout(_________)\n",
    "fig.show()"
   ]
  },
  {
   "cell_type": "code",
   "execution_count": 6,
   "metadata": {},
   "outputs": [],
   "source": [
    "# Now we need to see the age distributions for each year.\n",
    "# Do the same thing as above but using histograms\n"
   ]
  },
  {
   "cell_type": "code",
   "execution_count": 8,
   "metadata": {},
   "outputs": [],
   "source": [
    "# How about making bar charts to show which cities have patients come from every year and plot subplots? \n",
    "# lets take just 5 cities\n"
   ]
  },
  {
   "cell_type": "code",
   "execution_count": 9,
   "metadata": {},
   "outputs": [],
   "source": [
    "# WHAT ELSE CAN WE CREATE?........."
   ]
  },
  {
   "cell_type": "code",
   "execution_count": null,
   "metadata": {},
   "outputs": [],
   "source": []
  }
 ],
 "metadata": {
  "kernelspec": {
   "display_name": "Python 3",
   "language": "python",
   "name": "python3"
  },
  "language_info": {
   "codemirror_mode": {
    "name": "ipython",
    "version": 3
   },
   "file_extension": ".py",
   "mimetype": "text/x-python",
   "name": "python",
   "nbconvert_exporter": "python",
   "pygments_lexer": "ipython3",
   "version": "3.7.0"
  }
 },
 "nbformat": 4,
 "nbformat_minor": 4
}
