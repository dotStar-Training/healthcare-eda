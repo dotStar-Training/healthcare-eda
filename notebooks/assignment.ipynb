{
 "cells": [
  {
   "cell_type": "code",
   "execution_count": 1,
   "metadata": {},
   "outputs": [],
   "source": [
    "import pandas as pd\n",
    "from pathlib import os\n",
    "import numpy as np\n",
    "import plotly.graph_objects as go\n",
    "import plotly.express as px"
   ]
  },
  {
   "cell_type": "code",
   "execution_count": 2,
   "metadata": {},
   "outputs": [
    {
     "data": {
      "text/plain": [
       "{'procedures': '../data/procedures.csv',\n",
       " 'allergies': '../data/allergies.csv',\n",
       " 'medications': '../data/medications.csv',\n",
       " '': '../data/.ipynb_checkpoints',\n",
       " 'immunizations': '../data/immunizations.csv',\n",
       " 'providers': '../data/providers.csv',\n",
       " 'payers': '../data/payers.csv',\n",
       " 'devices': '../data/devices.csv',\n",
       " 'careplans': '../data/careplans.csv',\n",
       " 'payer_transitions': '../data/payer_transitions.csv',\n",
       " 'imaging_studies': '../data/imaging_studies.csv',\n",
       " 'observations': '../data/observations.csv',\n",
       " 'patients': '../data/patients.csv',\n",
       " 'encounters': '../data/encounters.csv',\n",
       " 'organizations': '../data/organizations.csv',\n",
       " 'conditions': '../data/conditions.csv'}"
      ]
     },
     "execution_count": 2,
     "metadata": {},
     "output_type": "execute_result"
    }
   ],
   "source": [
    "path = \"../data\"\n",
    "files = {i.split(\".\")[0]:os.path.join(path, i) for i in os.listdir(path)}\n",
    "files"
   ]
  },
  {
   "cell_type": "markdown",
   "metadata": {},
   "source": [
    "## STEP I : BASIC CLEANING AND DATA AGGREGATION"
   ]
  },
  {
   "cell_type": "code",
   "execution_count": 3,
   "metadata": {},
   "outputs": [],
   "source": [
    "# READ THE ENCOUNTERS CSV FILE IN A DATAFRAME CALLED 'encounters' AND TAKE A LOOK AT IT.\n",
    "__________ = pd.......(files['encounters'])\n",
    "__________.head()"
   ]
  },
  {
   "cell_type": "code",
   "execution_count": null,
   "metadata": {},
   "outputs": [],
   "source": [
    "# DECIDE WHAT OTHER CSVs NEED TO BE MERGED INTO THIS?\n",
    "# RENAME THE COLUMNS IN THE 'encounters' DATFRAME ; PATIENT ---> PATIENT_ID, etc.\n",
    "encounters= encounters.r_ _ n_ _ e(c....={})\n"
   ]
  },
  {
   "cell_type": "code",
   "execution_count": 4,
   "metadata": {},
   "outputs": [],
   "source": [
    "# READ THE ORGANISATIONS DATAFRAME INTO 'orgs' DATAFRAME\n",
    "orgs = __________________"
   ]
  },
  {
   "cell_type": "code",
   "execution_count": null,
   "metadata": {},
   "outputs": [],
   "source": [
    "# RENAME THE COLUMNS \n",
    "# AND SET THE INDEX AS THE ORG ID\n",
    "orgs = orgs._e_--i_ _ e_()\n"
   ]
  },
  {
   "cell_type": "code",
   "execution_count": null,
   "metadata": {},
   "outputs": [],
   "source": [
    "# DROP UNNECCESSARY COLUMNS\n",
    "orgs = orgs._ _ o_()"
   ]
  },
  {
   "cell_type": "code",
   "execution_count": 5,
   "metadata": {},
   "outputs": [],
   "source": [
    "# DO THE SAME FOR THE 'payers' DATA FRAME'\n"
   ]
  },
  {
   "cell_type": "code",
   "execution_count": 6,
   "metadata": {},
   "outputs": [],
   "source": [
    "# DO THE SAME FOR THE 'providers' DATA FRAME'"
   ]
  },
  {
   "cell_type": "code",
   "execution_count": null,
   "metadata": {},
   "outputs": [],
   "source": []
  }
 ],
 "metadata": {
  "kernelspec": {
   "display_name": "Python 3",
   "language": "python",
   "name": "python3"
  },
  "language_info": {
   "codemirror_mode": {
    "name": "ipython",
    "version": 3
   },
   "file_extension": ".py",
   "mimetype": "text/x-python",
   "name": "python",
   "nbconvert_exporter": "python",
   "pygments_lexer": "ipython3",
   "version": "3.7.0"
  }
 },
 "nbformat": 4,
 "nbformat_minor": 4
}
